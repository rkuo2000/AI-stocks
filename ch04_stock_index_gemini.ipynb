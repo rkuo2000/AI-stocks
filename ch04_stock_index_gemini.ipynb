{
 "cells": [
  {
   "cell_type": "markdown",
   "metadata": {
    "id": "tqq7nziq6jZb"
   },
   "source": [
    "# CH-04 讓 AI 計算技術指標及資料視覺化"
   ]
  },
  {
   "cell_type": "markdown",
   "metadata": {
    "id": "afyWBV1e6jZd"
   },
   "source": [
    "## 4-1 技術指標公式太複雜？讓 AI 自動化計算"
   ]
  },
  {
   "cell_type": "markdown",
   "metadata": {
    "id": "ifiZApmU6jZd"
   },
   "source": [
    "### 1️⃣ 安裝及匯入套件"
   ]
  },
  {
   "cell_type": "code",
   "execution_count": 1,
   "metadata": {
    "colab": {
     "base_uri": "https://localhost:8080/"
    },
    "id": "PlSl3ezo6jZe",
    "outputId": "d744241a-3a3a-45c4-e2d6-9f35d92d1d69"
   },
   "outputs": [
    {
     "name": "stdout",
     "output_type": "stream",
     "text": [
      "Requirement already satisfied: openai in /home/rkuo/.venv/lib/python3.12/site-packages (1.107.1)\n",
      "Requirement already satisfied: anyio<5,>=3.5.0 in /home/rkuo/.venv/lib/python3.12/site-packages (from openai) (4.10.0)\n",
      "Requirement already satisfied: distro<2,>=1.7.0 in /home/rkuo/.venv/lib/python3.12/site-packages (from openai) (1.9.0)\n",
      "Requirement already satisfied: httpx<1,>=0.23.0 in /home/rkuo/.venv/lib/python3.12/site-packages (from openai) (0.28.1)\n",
      "Requirement already satisfied: jiter<1,>=0.4.0 in /home/rkuo/.venv/lib/python3.12/site-packages (from openai) (0.10.0)\n",
      "Requirement already satisfied: pydantic<3,>=1.9.0 in /home/rkuo/.venv/lib/python3.12/site-packages (from openai) (2.11.7)\n",
      "Requirement already satisfied: sniffio in /home/rkuo/.venv/lib/python3.12/site-packages (from openai) (1.3.1)\n",
      "Requirement already satisfied: tqdm>4 in /home/rkuo/.venv/lib/python3.12/site-packages (from openai) (4.67.1)\n",
      "Requirement already satisfied: typing-extensions<5,>=4.11 in /home/rkuo/.venv/lib/python3.12/site-packages (from openai) (4.15.0)\n",
      "Requirement already satisfied: idna>=2.8 in /home/rkuo/.venv/lib/python3.12/site-packages (from anyio<5,>=3.5.0->openai) (3.7)\n",
      "Requirement already satisfied: certifi in /home/rkuo/.venv/lib/python3.12/site-packages (from httpx<1,>=0.23.0->openai) (2025.8.3)\n",
      "Requirement already satisfied: httpcore==1.* in /home/rkuo/.venv/lib/python3.12/site-packages (from httpx<1,>=0.23.0->openai) (1.0.9)\n",
      "Requirement already satisfied: h11>=0.16 in /home/rkuo/.venv/lib/python3.12/site-packages (from httpcore==1.*->httpx<1,>=0.23.0->openai) (0.16.0)\n",
      "Requirement already satisfied: annotated-types>=0.6.0 in /home/rkuo/.venv/lib/python3.12/site-packages (from pydantic<3,>=1.9.0->openai) (0.7.0)\n",
      "Requirement already satisfied: pydantic-core==2.33.2 in /home/rkuo/.venv/lib/python3.12/site-packages (from pydantic<3,>=1.9.0->openai) (2.33.2)\n",
      "Requirement already satisfied: typing-inspection>=0.4.0 in /home/rkuo/.venv/lib/python3.12/site-packages (from pydantic<3,>=1.9.0->openai) (0.4.1)\n",
      "Requirement already satisfied: yfinance in /home/rkuo/.venv/lib/python3.12/site-packages (0.2.66)\n",
      "Requirement already satisfied: pandas>=1.3.0 in /home/rkuo/.venv/lib/python3.12/site-packages (from yfinance) (2.3.2)\n",
      "Requirement already satisfied: numpy>=1.16.5 in /home/rkuo/.venv/lib/python3.12/site-packages (from yfinance) (2.3.4)\n",
      "Requirement already satisfied: requests>=2.31 in /home/rkuo/.venv/lib/python3.12/site-packages (from yfinance) (2.32.5)\n",
      "Requirement already satisfied: multitasking>=0.0.7 in /home/rkuo/.venv/lib/python3.12/site-packages (from yfinance) (0.0.12)\n",
      "Requirement already satisfied: platformdirs>=2.0.0 in /home/rkuo/.venv/lib/python3.12/site-packages (from yfinance) (4.4.0)\n",
      "Requirement already satisfied: pytz>=2022.5 in /home/rkuo/.venv/lib/python3.12/site-packages (from yfinance) (2025.2)\n",
      "Requirement already satisfied: frozendict>=2.3.4 in /home/rkuo/.venv/lib/python3.12/site-packages (from yfinance) (2.4.6)\n",
      "Requirement already satisfied: peewee>=3.16.2 in /home/rkuo/.venv/lib/python3.12/site-packages (from yfinance) (3.18.2)\n",
      "Requirement already satisfied: beautifulsoup4>=4.11.1 in /home/rkuo/.venv/lib/python3.12/site-packages (from yfinance) (4.13.5)\n",
      "Requirement already satisfied: curl_cffi>=0.7 in /home/rkuo/.venv/lib/python3.12/site-packages (from yfinance) (0.13.0)\n",
      "Requirement already satisfied: protobuf>=3.19.0 in /home/rkuo/.venv/lib/python3.12/site-packages (from yfinance) (6.33.0)\n",
      "Requirement already satisfied: websockets>=13.0 in /home/rkuo/.venv/lib/python3.12/site-packages (from yfinance) (15.0.1)\n",
      "Requirement already satisfied: soupsieve>1.2 in /home/rkuo/.venv/lib/python3.12/site-packages (from beautifulsoup4>=4.11.1->yfinance) (2.8)\n",
      "Requirement already satisfied: typing-extensions>=4.0.0 in /home/rkuo/.venv/lib/python3.12/site-packages (from beautifulsoup4>=4.11.1->yfinance) (4.15.0)\n",
      "Requirement already satisfied: cffi>=1.12.0 in /home/rkuo/.venv/lib/python3.12/site-packages (from curl_cffi>=0.7->yfinance) (1.17.1)\n",
      "Requirement already satisfied: certifi>=2024.2.2 in /home/rkuo/.venv/lib/python3.12/site-packages (from curl_cffi>=0.7->yfinance) (2025.8.3)\n",
      "Requirement already satisfied: pycparser in /home/rkuo/.venv/lib/python3.12/site-packages (from cffi>=1.12.0->curl_cffi>=0.7->yfinance) (2.22)\n",
      "Requirement already satisfied: python-dateutil>=2.8.2 in /home/rkuo/.venv/lib/python3.12/site-packages (from pandas>=1.3.0->yfinance) (2.9.0.post0)\n",
      "Requirement already satisfied: tzdata>=2022.7 in /home/rkuo/.venv/lib/python3.12/site-packages (from pandas>=1.3.0->yfinance) (2025.2)\n",
      "Requirement already satisfied: six>=1.5 in /home/rkuo/.venv/lib/python3.12/site-packages (from python-dateutil>=2.8.2->pandas>=1.3.0->yfinance) (1.17.0)\n",
      "Requirement already satisfied: charset_normalizer<4,>=2 in /home/rkuo/.venv/lib/python3.12/site-packages (from requests>=2.31->yfinance) (3.4.3)\n",
      "Requirement already satisfied: idna<4,>=2.5 in /home/rkuo/.venv/lib/python3.12/site-packages (from requests>=2.31->yfinance) (3.7)\n",
      "Requirement already satisfied: urllib3<3,>=1.21.1 in /home/rkuo/.venv/lib/python3.12/site-packages (from requests>=2.31->yfinance) (2.5.0)\n"
     ]
    }
   ],
   "source": [
    "!pip install openai\n",
    "!pip install yfinance -U\n",
    "from  openai import OpenAI, OpenAIError # 串接 OpenAI API\n",
    "import yfinance as yf\n",
    "import pandas as pd # 資料處理套件\n",
    "import datetime as dt # 時間套件"
   ]
  },
  {
   "cell_type": "markdown",
   "metadata": {
    "id": "xUqPaRel6jZe"
   },
   "source": [
    "### 2️⃣ 取得股票資料"
   ]
  },
  {
   "cell_type": "code",
   "execution_count": 2,
   "metadata": {
    "colab": {
     "base_uri": "https://localhost:8080/"
    },
    "id": "LsCCsctQ6jZf",
    "outputId": "7ca3878a-2ba8-4d97-9ba7-fa158d8e2e21"
   },
   "outputs": [
    {
     "name": "stderr",
     "output_type": "stream",
     "text": [
      "/tmp/ipykernel_459802/403395175.py:7: FutureWarning: YF.download() has changed argument auto_adjust default to True\n",
      "  df = yf.download(stock_id, start=start, end=end).reset_index()\n",
      "[*********************100%***********************]  1 of 1 completed"
     ]
    },
    {
     "name": "stdout",
     "output_type": "stream",
     "text": [
      "Price        Date        Close         High          Low         Open  \\\n",
      "Ticker                 2330.TW      2330.TW      2330.TW      2330.TW   \n",
      "0      2025-04-21   828.159119   840.060807   825.183697   837.085385   \n",
      "1      2025-04-22   809.314819   822.208315   809.314819   819.232893   \n",
      "2      2025-04-23   865.847839   865.847839   841.052655   846.011692   \n",
      "3      2025-04-24   856.921570   878.741332   851.962533   878.741332   \n",
      "4      2025-04-25   880.724915   893.618410   878.741300   892.626603   \n",
      "..            ...          ...          ...          ...          ...   \n",
      "119    2025-10-13  1415.000000  1420.000000  1390.000000  1390.000000   \n",
      "120    2025-10-14  1425.000000  1460.000000  1420.000000  1455.000000   \n",
      "121    2025-10-15  1465.000000  1465.000000  1425.000000  1435.000000   \n",
      "122    2025-10-16  1485.000000  1495.000000  1465.000000  1465.000000   \n",
      "123    2025-10-17  1450.000000  1465.000000  1450.000000  1455.000000   \n",
      "\n",
      "Price     Volume  \n",
      "Ticker   2330.TW  \n",
      "0       18415705  \n",
      "1       28888527  \n",
      "2       37863656  \n",
      "3       32238198  \n",
      "4       34640282  \n",
      "..           ...  \n",
      "119     53850992  \n",
      "120     39889256  \n",
      "121     41056405  \n",
      "122     37737678  \n",
      "123     38077331  \n",
      "\n",
      "[124 rows x 6 columns]\n"
     ]
    },
    {
     "name": "stderr",
     "output_type": "stream",
     "text": [
      "\n"
     ]
    }
   ],
   "source": [
    "# 輸入股票代號\n",
    "from datetime import datetime\n",
    "stock_id = \"2330.tw\"\n",
    "# 抓取半年資料\n",
    "end = dt.date.today() # 資料結束時間\n",
    "start = end - dt.timedelta(days=180) # 資料開始時間\n",
    "df = yf.download(stock_id, start=start, end=end).reset_index()\n",
    "\n",
    "print(df)"
   ]
  },
  {
   "cell_type": "markdown",
   "metadata": {
    "id": "_S2znJ3j6jZf"
   },
   "source": [
    "### 3️⃣ 輸入 GEMINI API KEY"
   ]
  },
  {
   "cell_type": "code",
   "execution_count": 4,
   "metadata": {
    "id": "2ii2seKK6jZf"
   },
   "outputs": [],
   "source": [
    "#from google.colab import userdata\n",
    "import os\n",
    "api_key = os.environ.get('GEMINI_API_KEY')\n",
    "\n",
    "client = OpenAI(\n",
    "#    api_key=userdata.get('GEMINI_API_KEY'),\n",
    "    api_key=api_key,\n",
    "    base_url=\"https://generativelanguage.googleapis.com/v1beta/openai/\"\n",
    ")"
   ]
  },
  {
   "cell_type": "markdown",
   "metadata": {
    "id": "LDDWHDi36jZg"
   },
   "source": [
    "### 4️⃣ 創建 Gemini 2.0 Flash 模型函式"
   ]
  },
  {
   "cell_type": "code",
   "execution_count": 5,
   "metadata": {
    "id": "n21JA9M36jZg"
   },
   "outputs": [],
   "source": [
    "def get_reply(messages):\n",
    "  try:\n",
    "    response = client.chat.completions.create(model=\"gemini-2.0-flash\", messages=messages)\n",
    "    reply = response.choices[0].message.content\n",
    "  except OpenAIError as err:\n",
    "    reply = f\"發生 {err.type} 錯誤\\n{err.message}\"\n",
    "  return reply\n",
    "\n",
    "# 設定 AI 角色, 使其依據使用者需求進行 df 處理\n",
    "def ai_helper(df, user_msg):\n",
    "\n",
    "  msg = [{\n",
    "    \"role\":\n",
    "    \"system\",\n",
    "    \"content\":\n",
    "    f\"As a professional code generation robot, \\\n",
    "      I require your assistance in generating Python code \\\n",
    "      based on specific user requirements. To proceed, \\\n",
    "      I will provide you with a dataframe (df) that follows the \\\n",
    "      format {df.columns}. Your task is to carefully analyze the \\\n",
    "      user's requirements and generate the Python code \\\n",
    "      accordingly.Please note that your response should solely \\\n",
    "      consist of the code itself, \\\n",
    "      and no additional information should be included.\"\n",
    "  }, {\n",
    "    \"role\":\n",
    "    \"user\",\n",
    "    \"content\":\n",
    "    f\"The user requirement:{user_msg} \\n\\\n",
    "       Your task is to develop a Python function named \\\n",
    "      'calculate(df)'. This function should accept a dataframe as \\\n",
    "      its parameter. Ensure that you only utilize the columns \\\n",
    "      present in the dataset, specifically {df.columns}. \\\n",
    "      After processing, the function should return the processed \\\n",
    "      dataframe. Your response should strictly contain the Python \\\n",
    "      code for the 'calculate(df)' function \\\n",
    "      and exclude any unrelated content.\"\n",
    "  }]\n",
    "\n",
    "  reply_data = get_reply(msg)\n",
    "  cleaned_code = reply_data.replace(\"```\", \"\")\n",
    "  cleaned_code = cleaned_code.replace(\"python\", \"\")\n",
    "\n",
    "  return cleaned_code"
   ]
  },
  {
   "cell_type": "markdown",
   "metadata": {
    "id": "CosdMFCQ6jZg"
   },
   "source": [
    "### 讓 AI 自動生成技術指標程式碼"
   ]
  },
  {
   "cell_type": "markdown",
   "metadata": {
    "id": "7pviqgoe6jZg"
   },
   "source": [
    "### 5️⃣ 計算移動平均線"
   ]
  },
  {
   "cell_type": "code",
   "execution_count": 6,
   "metadata": {
    "colab": {
     "base_uri": "https://localhost:8080/",
     "height": 501
    },
    "id": "jkH64Sng6jZh",
    "outputId": "6c7a8ce5-f1c7-4bbe-bc66-2bb1f2979706"
   },
   "outputs": [
    {
     "name": "stdout",
     "output_type": "stream",
     "text": [
      "\n",
      "import pandas as pd\n",
      "\n",
      "def calculate(df):\n",
      "    \"\"\"\n",
      "    Calculates the 8-day and 13-day moving averages for the 'Close' price of '2330.TW'.\n",
      "\n",
      "    Args:\n",
      "        df (pd.DataFrame): A DataFrame with MultiIndex columns.\n",
      "                           Specifically, it should contain 'Close' price data for '2330.TW'.\n",
      "\n",
      "    Returns:\n",
      "        pd.DataFrame: The DataFrame with added columns for the 8-day and 13-day moving averages.\n",
      "    \"\"\"\n",
      "    df[('MA_8', '2330.TW')] = df[('Close', '2330.TW')].rolling(window=8).mean()\n",
      "    df[('MA_13', '2330.TW')] = df[('Close', '2330.TW')].rolling(window=13).mean()\n",
      "    return df\n",
      "\n"
     ]
    },
    {
     "data": {
      "text/html": [
       "<div>\n",
       "<style scoped>\n",
       "    .dataframe tbody tr th:only-of-type {\n",
       "        vertical-align: middle;\n",
       "    }\n",
       "\n",
       "    .dataframe tbody tr th {\n",
       "        vertical-align: top;\n",
       "    }\n",
       "\n",
       "    .dataframe thead tr th {\n",
       "        text-align: left;\n",
       "    }\n",
       "</style>\n",
       "<table border=\"1\" class=\"dataframe\">\n",
       "  <thead>\n",
       "    <tr>\n",
       "      <th>Price</th>\n",
       "      <th>Date</th>\n",
       "      <th>Close</th>\n",
       "      <th>High</th>\n",
       "      <th>Low</th>\n",
       "      <th>Open</th>\n",
       "      <th>Volume</th>\n",
       "      <th>MA_8</th>\n",
       "      <th>MA_13</th>\n",
       "    </tr>\n",
       "    <tr>\n",
       "      <th>Ticker</th>\n",
       "      <th></th>\n",
       "      <th>2330.TW</th>\n",
       "      <th>2330.TW</th>\n",
       "      <th>2330.TW</th>\n",
       "      <th>2330.TW</th>\n",
       "      <th>2330.TW</th>\n",
       "      <th>2330.TW</th>\n",
       "      <th>2330.TW</th>\n",
       "    </tr>\n",
       "  </thead>\n",
       "  <tbody>\n",
       "    <tr>\n",
       "      <th>119</th>\n",
       "      <td>2025-10-13</td>\n",
       "      <td>1415.0</td>\n",
       "      <td>1420.0</td>\n",
       "      <td>1390.0</td>\n",
       "      <td>1390.0</td>\n",
       "      <td>53850992</td>\n",
       "      <td>1387.50</td>\n",
       "      <td>1361.153846</td>\n",
       "    </tr>\n",
       "    <tr>\n",
       "      <th>120</th>\n",
       "      <td>2025-10-14</td>\n",
       "      <td>1425.0</td>\n",
       "      <td>1460.0</td>\n",
       "      <td>1420.0</td>\n",
       "      <td>1455.0</td>\n",
       "      <td>39889256</td>\n",
       "      <td>1402.50</td>\n",
       "      <td>1371.153846</td>\n",
       "    </tr>\n",
       "    <tr>\n",
       "      <th>121</th>\n",
       "      <td>2025-10-15</td>\n",
       "      <td>1465.0</td>\n",
       "      <td>1465.0</td>\n",
       "      <td>1425.0</td>\n",
       "      <td>1435.0</td>\n",
       "      <td>41056405</td>\n",
       "      <td>1420.00</td>\n",
       "      <td>1380.769231</td>\n",
       "    </tr>\n",
       "    <tr>\n",
       "      <th>122</th>\n",
       "      <td>2025-10-16</td>\n",
       "      <td>1485.0</td>\n",
       "      <td>1495.0</td>\n",
       "      <td>1465.0</td>\n",
       "      <td>1465.0</td>\n",
       "      <td>37737678</td>\n",
       "      <td>1435.00</td>\n",
       "      <td>1391.923077</td>\n",
       "    </tr>\n",
       "    <tr>\n",
       "      <th>123</th>\n",
       "      <td>2025-10-17</td>\n",
       "      <td>1450.0</td>\n",
       "      <td>1465.0</td>\n",
       "      <td>1450.0</td>\n",
       "      <td>1455.0</td>\n",
       "      <td>38077331</td>\n",
       "      <td>1441.25</td>\n",
       "      <td>1401.923077</td>\n",
       "    </tr>\n",
       "  </tbody>\n",
       "</table>\n",
       "</div>"
      ],
      "text/plain": [
       "Price        Date   Close    High     Low    Open    Volume     MA_8  \\\n",
       "Ticker            2330.TW 2330.TW 2330.TW 2330.TW   2330.TW  2330.TW   \n",
       "119    2025-10-13  1415.0  1420.0  1390.0  1390.0  53850992  1387.50   \n",
       "120    2025-10-14  1425.0  1460.0  1420.0  1455.0  39889256  1402.50   \n",
       "121    2025-10-15  1465.0  1465.0  1425.0  1435.0  41056405  1420.00   \n",
       "122    2025-10-16  1485.0  1495.0  1465.0  1465.0  37737678  1435.00   \n",
       "123    2025-10-17  1450.0  1465.0  1450.0  1455.0  38077331  1441.25   \n",
       "\n",
       "Price         MA_13  \n",
       "Ticker      2330.TW  \n",
       "119     1361.153846  \n",
       "120     1371.153846  \n",
       "121     1380.769231  \n",
       "122     1391.923077  \n",
       "123     1401.923077  "
      ]
     },
     "execution_count": 6,
     "metadata": {},
     "output_type": "execute_result"
    }
   ],
   "source": [
    "code_str = ai_helper(df, \"計算8日MA與13日MA \")\n",
    "code_str=code_str.replace('```','')\n",
    "code_str=code_str.replace('python','')\n",
    "print(code_str)\n",
    "exec(code_str)\n",
    "new_df = calculate(df)\n",
    "new_df.tail()"
   ]
  },
  {
   "cell_type": "markdown",
   "metadata": {
    "id": "_WcCaI7x6jZh"
   },
   "source": [
    "### 6️⃣ 計算 MACD"
   ]
  },
  {
   "cell_type": "code",
   "execution_count": 7,
   "metadata": {
    "colab": {
     "base_uri": "https://localhost:8080/",
     "height": 692
    },
    "id": "1xncFfvf6jZh",
    "outputId": "da8fd020-5164-4efb-d124-51524100a192"
   },
   "outputs": [
    {
     "name": "stdout",
     "output_type": "stream",
     "text": [
      "\n",
      "import pandas as pd\n",
      "\n",
      "def calculate(df):\n",
      "    \"\"\"\n",
      "    Calculates EMA and MACD (with MACD Histogram) for the given DataFrame.\n",
      "\n",
      "    Args:\n",
      "        df (pd.DataFrame): DataFrame with 'Close' price data under the '2330.TW' ticker.\n",
      "\n",
      "    Returns:\n",
      "        pd.DataFrame: The DataFrame with added 'MACD_Histogram' column.\n",
      "    \"\"\"\n",
      "\n",
      "    close_price = df[('Close', '2330.TW')]\n",
      "\n",
      "    # Calculate EMA\n",
      "    ema_12 = close_price.ewm(span=12, adjust=False).mean()\n",
      "    ema_26 = close_price.ewm(span=26, adjust=False).mean()\n",
      "\n",
      "    # Calculate MACD\n",
      "    macd = ema_12 - ema_26\n",
      "\n",
      "    # Calculate Signal Line (9-day EMA of MACD)\n",
      "    signal_line = macd.ewm(span=9, adjust=False).mean()\n",
      "\n",
      "    # Calculate MACD Histogram\n",
      "    macd_histogram = macd - signal_line\n",
      "\n",
      "    # Add MACD Histogram to the DataFrame\n",
      "    df['MACD_Histogram'] = macd_histogram\n",
      "\n",
      "    return df\n",
      "\n"
     ]
    },
    {
     "data": {
      "text/html": [
       "<div>\n",
       "<style scoped>\n",
       "    .dataframe tbody tr th:only-of-type {\n",
       "        vertical-align: middle;\n",
       "    }\n",
       "\n",
       "    .dataframe tbody tr th {\n",
       "        vertical-align: top;\n",
       "    }\n",
       "\n",
       "    .dataframe thead tr th {\n",
       "        text-align: left;\n",
       "    }\n",
       "</style>\n",
       "<table border=\"1\" class=\"dataframe\">\n",
       "  <thead>\n",
       "    <tr>\n",
       "      <th>Price</th>\n",
       "      <th>Date</th>\n",
       "      <th>Close</th>\n",
       "      <th>High</th>\n",
       "      <th>Low</th>\n",
       "      <th>Open</th>\n",
       "      <th>Volume</th>\n",
       "      <th>MA_8</th>\n",
       "      <th>MA_13</th>\n",
       "      <th>MACD_Histogram</th>\n",
       "    </tr>\n",
       "    <tr>\n",
       "      <th>Ticker</th>\n",
       "      <th></th>\n",
       "      <th>2330.TW</th>\n",
       "      <th>2330.TW</th>\n",
       "      <th>2330.TW</th>\n",
       "      <th>2330.TW</th>\n",
       "      <th>2330.TW</th>\n",
       "      <th>2330.TW</th>\n",
       "      <th>2330.TW</th>\n",
       "      <th></th>\n",
       "    </tr>\n",
       "  </thead>\n",
       "  <tbody>\n",
       "    <tr>\n",
       "      <th>119</th>\n",
       "      <td>2025-10-13</td>\n",
       "      <td>1415.0</td>\n",
       "      <td>1420.0</td>\n",
       "      <td>1390.0</td>\n",
       "      <td>1390.0</td>\n",
       "      <td>53850992</td>\n",
       "      <td>1387.50</td>\n",
       "      <td>1361.153846</td>\n",
       "      <td>8.330076</td>\n",
       "    </tr>\n",
       "    <tr>\n",
       "      <th>120</th>\n",
       "      <td>2025-10-14</td>\n",
       "      <td>1425.0</td>\n",
       "      <td>1460.0</td>\n",
       "      <td>1420.0</td>\n",
       "      <td>1455.0</td>\n",
       "      <td>39889256</td>\n",
       "      <td>1402.50</td>\n",
       "      <td>1371.153846</td>\n",
       "      <td>6.637946</td>\n",
       "    </tr>\n",
       "    <tr>\n",
       "      <th>121</th>\n",
       "      <td>2025-10-15</td>\n",
       "      <td>1465.0</td>\n",
       "      <td>1465.0</td>\n",
       "      <td>1425.0</td>\n",
       "      <td>1435.0</td>\n",
       "      <td>41056405</td>\n",
       "      <td>1420.00</td>\n",
       "      <td>1380.769231</td>\n",
       "      <td>7.305553</td>\n",
       "    </tr>\n",
       "    <tr>\n",
       "      <th>122</th>\n",
       "      <td>2025-10-16</td>\n",
       "      <td>1485.0</td>\n",
       "      <td>1495.0</td>\n",
       "      <td>1465.0</td>\n",
       "      <td>1465.0</td>\n",
       "      <td>37737678</td>\n",
       "      <td>1435.00</td>\n",
       "      <td>1391.923077</td>\n",
       "      <td>8.124198</td>\n",
       "    </tr>\n",
       "    <tr>\n",
       "      <th>123</th>\n",
       "      <td>2025-10-17</td>\n",
       "      <td>1450.0</td>\n",
       "      <td>1465.0</td>\n",
       "      <td>1450.0</td>\n",
       "      <td>1455.0</td>\n",
       "      <td>38077331</td>\n",
       "      <td>1441.25</td>\n",
       "      <td>1401.923077</td>\n",
       "      <td>5.466107</td>\n",
       "    </tr>\n",
       "  </tbody>\n",
       "</table>\n",
       "</div>"
      ],
      "text/plain": [
       "Price        Date   Close    High     Low    Open    Volume     MA_8  \\\n",
       "Ticker            2330.TW 2330.TW 2330.TW 2330.TW   2330.TW  2330.TW   \n",
       "119    2025-10-13  1415.0  1420.0  1390.0  1390.0  53850992  1387.50   \n",
       "120    2025-10-14  1425.0  1460.0  1420.0  1455.0  39889256  1402.50   \n",
       "121    2025-10-15  1465.0  1465.0  1425.0  1435.0  41056405  1420.00   \n",
       "122    2025-10-16  1485.0  1495.0  1465.0  1465.0  37737678  1435.00   \n",
       "123    2025-10-17  1450.0  1465.0  1450.0  1455.0  38077331  1441.25   \n",
       "\n",
       "Price         MA_13 MACD_Histogram  \n",
       "Ticker      2330.TW                 \n",
       "119     1361.153846       8.330076  \n",
       "120     1371.153846       6.637946  \n",
       "121     1380.769231       7.305553  \n",
       "122     1391.923077       8.124198  \n",
       "123     1401.923077       5.466107  "
      ]
     },
     "execution_count": 7,
     "metadata": {},
     "output_type": "execute_result"
    }
   ],
   "source": [
    "code_str = ai_helper(df, \"先計算 EMA 再計算 MACD, 欄位名稱用 MACD_Histogram 命名\")\n",
    "code_str=code_str.replace('```','')\n",
    "code_str=code_str.replace('python','')\n",
    "print(code_str)\n",
    "exec(code_str)\n",
    "new_df = calculate(df)\n",
    "new_df.tail()"
   ]
  },
  {
   "cell_type": "markdown",
   "metadata": {
    "id": "bbp403gr6jZh"
   },
   "source": [
    "### 7️⃣ 計算 RSI"
   ]
  },
  {
   "cell_type": "code",
   "execution_count": 8,
   "metadata": {
    "colab": {
     "base_uri": "https://localhost:8080/",
     "height": 709
    },
    "id": "kM-2zFiB6jZh",
    "outputId": "06cbe2b5-31df-4122-8785-e3f534c07d5a"
   },
   "outputs": [
    {
     "name": "stdout",
     "output_type": "stream",
     "text": [
      "\n",
      "import pandas as pd\n",
      "\n",
      "def calculate(df):\n",
      "    \"\"\"\n",
      "    Calculates the Relative Strength Index (RSI) for the given dataframe.\n",
      "\n",
      "    Args:\n",
      "        df (pd.DataFrame): A dataframe containing closing prices.\n",
      "                           The dataframe must have a MultiIndex with 'Close' and ticker.\n",
      "\n",
      "    Returns:\n",
      "        pd.DataFrame: The dataframe with an additional 'RSI' column.\n",
      "    \"\"\"\n",
      "    close_prices = df[('Close', '2330.TW')]\n",
      "    delta = close_prices.diff()\n",
      "    delta = delta[1:]\n",
      "    up, down = delta.copy(), delta.copy()\n",
      "    up[up < 0] = 0\n",
      "    down[down > 0] = 0\n",
      "    \n",
      "    window = 14\n",
      "    \n",
      "    avg_gain = up.rolling(window=window).mean()\n",
      "    avg_loss = abs(down.rolling(window=window).mean())\n",
      "\n",
      "    rs = avg_gain / avg_loss\n",
      "    rsi = 100.0 - (100.0 / (1.0 + rs))\n",
      "\n",
      "    rsi_series = pd.Series(rsi, index=close_prices.index[window:])\n",
      "    \n",
      "    df[('RSI', '2330.TW')] = pd.Series(index=df.index)\n",
      "    df.loc[rsi_series.index, ('RSI', '2330.TW')] = rsi_series\n",
      "\n",
      "    return df\n",
      "\n"
     ]
    },
    {
     "data": {
      "text/html": [
       "<div>\n",
       "<style scoped>\n",
       "    .dataframe tbody tr th:only-of-type {\n",
       "        vertical-align: middle;\n",
       "    }\n",
       "\n",
       "    .dataframe tbody tr th {\n",
       "        vertical-align: top;\n",
       "    }\n",
       "\n",
       "    .dataframe thead tr th {\n",
       "        text-align: left;\n",
       "    }\n",
       "</style>\n",
       "<table border=\"1\" class=\"dataframe\">\n",
       "  <thead>\n",
       "    <tr>\n",
       "      <th>Price</th>\n",
       "      <th>Date</th>\n",
       "      <th>Close</th>\n",
       "      <th>High</th>\n",
       "      <th>Low</th>\n",
       "      <th>Open</th>\n",
       "      <th>Volume</th>\n",
       "      <th>MA_8</th>\n",
       "      <th>MA_13</th>\n",
       "      <th>MACD_Histogram</th>\n",
       "      <th>RSI</th>\n",
       "    </tr>\n",
       "    <tr>\n",
       "      <th>Ticker</th>\n",
       "      <th></th>\n",
       "      <th>2330.TW</th>\n",
       "      <th>2330.TW</th>\n",
       "      <th>2330.TW</th>\n",
       "      <th>2330.TW</th>\n",
       "      <th>2330.TW</th>\n",
       "      <th>2330.TW</th>\n",
       "      <th>2330.TW</th>\n",
       "      <th></th>\n",
       "      <th>2330.TW</th>\n",
       "    </tr>\n",
       "  </thead>\n",
       "  <tbody>\n",
       "    <tr>\n",
       "      <th>119</th>\n",
       "      <td>2025-10-13</td>\n",
       "      <td>1415.0</td>\n",
       "      <td>1420.0</td>\n",
       "      <td>1390.0</td>\n",
       "      <td>1390.0</td>\n",
       "      <td>53850992</td>\n",
       "      <td>1387.50</td>\n",
       "      <td>1361.153846</td>\n",
       "      <td>8.330076</td>\n",
       "      <td>69.117647</td>\n",
       "    </tr>\n",
       "    <tr>\n",
       "      <th>120</th>\n",
       "      <td>2025-10-14</td>\n",
       "      <td>1425.0</td>\n",
       "      <td>1460.0</td>\n",
       "      <td>1420.0</td>\n",
       "      <td>1455.0</td>\n",
       "      <td>39889256</td>\n",
       "      <td>1402.50</td>\n",
       "      <td>1371.153846</td>\n",
       "      <td>6.637946</td>\n",
       "      <td>74.242424</td>\n",
       "    </tr>\n",
       "    <tr>\n",
       "      <th>121</th>\n",
       "      <td>2025-10-15</td>\n",
       "      <td>1465.0</td>\n",
       "      <td>1465.0</td>\n",
       "      <td>1425.0</td>\n",
       "      <td>1435.0</td>\n",
       "      <td>41056405</td>\n",
       "      <td>1420.00</td>\n",
       "      <td>1380.769231</td>\n",
       "      <td>7.305553</td>\n",
       "      <td>75.000000</td>\n",
       "    </tr>\n",
       "    <tr>\n",
       "      <th>122</th>\n",
       "      <td>2025-10-16</td>\n",
       "      <td>1485.0</td>\n",
       "      <td>1495.0</td>\n",
       "      <td>1465.0</td>\n",
       "      <td>1465.0</td>\n",
       "      <td>37737678</td>\n",
       "      <td>1435.00</td>\n",
       "      <td>1391.923077</td>\n",
       "      <td>8.124198</td>\n",
       "      <td>73.015873</td>\n",
       "    </tr>\n",
       "    <tr>\n",
       "      <th>123</th>\n",
       "      <td>2025-10-17</td>\n",
       "      <td>1450.0</td>\n",
       "      <td>1465.0</td>\n",
       "      <td>1450.0</td>\n",
       "      <td>1455.0</td>\n",
       "      <td>38077331</td>\n",
       "      <td>1441.25</td>\n",
       "      <td>1401.923077</td>\n",
       "      <td>5.466107</td>\n",
       "      <td>65.714286</td>\n",
       "    </tr>\n",
       "  </tbody>\n",
       "</table>\n",
       "</div>"
      ],
      "text/plain": [
       "Price        Date   Close    High     Low    Open    Volume     MA_8  \\\n",
       "Ticker            2330.TW 2330.TW 2330.TW 2330.TW   2330.TW  2330.TW   \n",
       "119    2025-10-13  1415.0  1420.0  1390.0  1390.0  53850992  1387.50   \n",
       "120    2025-10-14  1425.0  1460.0  1420.0  1455.0  39889256  1402.50   \n",
       "121    2025-10-15  1465.0  1465.0  1425.0  1435.0  41056405  1420.00   \n",
       "122    2025-10-16  1485.0  1495.0  1465.0  1465.0  37737678  1435.00   \n",
       "123    2025-10-17  1450.0  1465.0  1450.0  1455.0  38077331  1441.25   \n",
       "\n",
       "Price         MA_13 MACD_Histogram        RSI  \n",
       "Ticker      2330.TW                   2330.TW  \n",
       "119     1361.153846       8.330076  69.117647  \n",
       "120     1371.153846       6.637946  74.242424  \n",
       "121     1380.769231       7.305553  75.000000  \n",
       "122     1391.923077       8.124198  73.015873  \n",
       "123     1401.923077       5.466107  65.714286  "
      ]
     },
     "execution_count": 8,
     "metadata": {},
     "output_type": "execute_result"
    }
   ],
   "source": [
    "code_str = ai_helper(df, \"計算 RSI \")\n",
    "code_str=code_str.replace('```','')\n",
    "code_str=code_str.replace('python','')\n",
    "print(code_str)\n",
    "exec(code_str)\n",
    "new_df = calculate(df)\n",
    "new_df.tail()"
   ]
  },
  {
   "cell_type": "markdown",
   "metadata": {
    "id": "KbiTR-HT6jZh"
   },
   "source": [
    "### 8️⃣ 計算布林通道"
   ]
  },
  {
   "cell_type": "code",
   "execution_count": 9,
   "metadata": {
    "colab": {
     "base_uri": "https://localhost:8080/",
     "height": 694
    },
    "id": "k6dWtCVa6jZh",
    "outputId": "422f3a78-2197-48a5-ec81-b970f82abf1c"
   },
   "outputs": [
    {
     "name": "stdout",
     "output_type": "stream",
     "text": [
      "\n",
      "import pandas as pd\n",
      "\n",
      "def calculate(df):\n",
      "    df['Upper_Band'] = df[('MA_13', '2330.TW')] + 1.5 * df[('Close', '2330.TW')].rolling(window=20).std()\n",
      "    df['Lower_Band'] = df[('MA_13', '2330.TW')] - 1.5 * df[('Close', '2330.TW')].rolling(window=20).std()\n",
      "    return df\n",
      "\n"
     ]
    },
    {
     "data": {
      "text/html": [
       "<div>\n",
       "<style scoped>\n",
       "    .dataframe tbody tr th:only-of-type {\n",
       "        vertical-align: middle;\n",
       "    }\n",
       "\n",
       "    .dataframe tbody tr th {\n",
       "        vertical-align: top;\n",
       "    }\n",
       "\n",
       "    .dataframe thead tr th {\n",
       "        text-align: left;\n",
       "    }\n",
       "</style>\n",
       "<table border=\"1\" class=\"dataframe\">\n",
       "  <thead>\n",
       "    <tr>\n",
       "      <th>Price</th>\n",
       "      <th>Date</th>\n",
       "      <th>Close</th>\n",
       "      <th>High</th>\n",
       "      <th>Low</th>\n",
       "      <th>Open</th>\n",
       "      <th>Volume</th>\n",
       "      <th>MA_8</th>\n",
       "      <th>MA_13</th>\n",
       "      <th>MACD_Histogram</th>\n",
       "      <th>RSI</th>\n",
       "      <th>Upper_Band</th>\n",
       "      <th>Lower_Band</th>\n",
       "    </tr>\n",
       "    <tr>\n",
       "      <th>Ticker</th>\n",
       "      <th></th>\n",
       "      <th>2330.TW</th>\n",
       "      <th>2330.TW</th>\n",
       "      <th>2330.TW</th>\n",
       "      <th>2330.TW</th>\n",
       "      <th>2330.TW</th>\n",
       "      <th>2330.TW</th>\n",
       "      <th>2330.TW</th>\n",
       "      <th></th>\n",
       "      <th>2330.TW</th>\n",
       "      <th></th>\n",
       "      <th></th>\n",
       "    </tr>\n",
       "  </thead>\n",
       "  <tbody>\n",
       "    <tr>\n",
       "      <th>119</th>\n",
       "      <td>2025-10-13</td>\n",
       "      <td>1415.0</td>\n",
       "      <td>1420.0</td>\n",
       "      <td>1390.0</td>\n",
       "      <td>1390.0</td>\n",
       "      <td>53850992</td>\n",
       "      <td>1387.50</td>\n",
       "      <td>1361.153846</td>\n",
       "      <td>8.330076</td>\n",
       "      <td>69.117647</td>\n",
       "      <td>1458.818843</td>\n",
       "      <td>1263.488849</td>\n",
       "    </tr>\n",
       "    <tr>\n",
       "      <th>120</th>\n",
       "      <td>2025-10-14</td>\n",
       "      <td>1425.0</td>\n",
       "      <td>1460.0</td>\n",
       "      <td>1420.0</td>\n",
       "      <td>1455.0</td>\n",
       "      <td>39889256</td>\n",
       "      <td>1402.50</td>\n",
       "      <td>1371.153846</td>\n",
       "      <td>6.637946</td>\n",
       "      <td>74.242424</td>\n",
       "      <td>1468.537313</td>\n",
       "      <td>1273.770379</td>\n",
       "    </tr>\n",
       "    <tr>\n",
       "      <th>121</th>\n",
       "      <td>2025-10-15</td>\n",
       "      <td>1465.0</td>\n",
       "      <td>1465.0</td>\n",
       "      <td>1425.0</td>\n",
       "      <td>1435.0</td>\n",
       "      <td>41056405</td>\n",
       "      <td>1420.00</td>\n",
       "      <td>1380.769231</td>\n",
       "      <td>7.305553</td>\n",
       "      <td>75.000000</td>\n",
       "      <td>1482.826684</td>\n",
       "      <td>1278.711778</td>\n",
       "    </tr>\n",
       "    <tr>\n",
       "      <th>122</th>\n",
       "      <td>2025-10-16</td>\n",
       "      <td>1485.0</td>\n",
       "      <td>1495.0</td>\n",
       "      <td>1465.0</td>\n",
       "      <td>1465.0</td>\n",
       "      <td>37737678</td>\n",
       "      <td>1435.00</td>\n",
       "      <td>1391.923077</td>\n",
       "      <td>8.124198</td>\n",
       "      <td>73.015873</td>\n",
       "      <td>1498.024676</td>\n",
       "      <td>1285.821478</td>\n",
       "    </tr>\n",
       "    <tr>\n",
       "      <th>123</th>\n",
       "      <td>2025-10-17</td>\n",
       "      <td>1450.0</td>\n",
       "      <td>1465.0</td>\n",
       "      <td>1450.0</td>\n",
       "      <td>1455.0</td>\n",
       "      <td>38077331</td>\n",
       "      <td>1441.25</td>\n",
       "      <td>1401.923077</td>\n",
       "      <td>5.466107</td>\n",
       "      <td>65.714286</td>\n",
       "      <td>1508.497967</td>\n",
       "      <td>1295.348187</td>\n",
       "    </tr>\n",
       "  </tbody>\n",
       "</table>\n",
       "</div>"
      ],
      "text/plain": [
       "Price        Date   Close    High     Low    Open    Volume     MA_8  \\\n",
       "Ticker            2330.TW 2330.TW 2330.TW 2330.TW   2330.TW  2330.TW   \n",
       "119    2025-10-13  1415.0  1420.0  1390.0  1390.0  53850992  1387.50   \n",
       "120    2025-10-14  1425.0  1460.0  1420.0  1455.0  39889256  1402.50   \n",
       "121    2025-10-15  1465.0  1465.0  1425.0  1435.0  41056405  1420.00   \n",
       "122    2025-10-16  1485.0  1495.0  1465.0  1465.0  37737678  1435.00   \n",
       "123    2025-10-17  1450.0  1465.0  1450.0  1455.0  38077331  1441.25   \n",
       "\n",
       "Price         MA_13 MACD_Histogram        RSI   Upper_Band   Lower_Band  \n",
       "Ticker      2330.TW                   2330.TW                            \n",
       "119     1361.153846       8.330076  69.117647  1458.818843  1263.488849  \n",
       "120     1371.153846       6.637946  74.242424  1468.537313  1273.770379  \n",
       "121     1380.769231       7.305553  75.000000  1482.826684  1278.711778  \n",
       "122     1391.923077       8.124198  73.015873  1498.024676  1285.821478  \n",
       "123     1401.923077       5.466107  65.714286  1508.497967  1295.348187  "
      ]
     },
     "execution_count": 9,
     "metadata": {},
     "output_type": "execute_result"
    }
   ],
   "source": [
    "code_str = ai_helper(df, \"請計算1.5個標準差的布林通道, 欄位以 Upper_Band 和 Lower_Band 命名\")\n",
    "code_str=code_str.replace('```','')\n",
    "code_str=code_str.replace('python','')\n",
    "print(code_str)\n",
    "exec(code_str)\n",
    "new_df = calculate(df)\n",
    "new_df.tail()"
   ]
  },
  {
   "cell_type": "markdown",
   "metadata": {
    "id": "p3WbDXtY6jZh"
   },
   "source": [
    "### 9️⃣ 能量潮指標 (On-Balance Volumem, OBV)"
   ]
  },
  {
   "cell_type": "code",
   "execution_count": 10,
   "metadata": {
    "colab": {
     "base_uri": "https://localhost:8080/",
     "height": 746
    },
    "id": "xBkulauo6jZh",
    "outputId": "91be7786-99df-46b3-e5f6-9c66c28438d6"
   },
   "outputs": [
    {
     "name": "stdout",
     "output_type": "stream",
     "text": [
      "\n",
      "import pandas as pd\n",
      "\n",
      "def calculate(df):\n",
      "    \"\"\"\n",
      "    Calculate the On Balance Volume (OBV) indicator.\n",
      "\n",
      "    Args:\n",
      "        df (pd.DataFrame): A DataFrame with 'Close' and 'Volume' columns.\n",
      "\n",
      "    Returns:\n",
      "        pd.DataFrame: The DataFrame with the OBV column added.\n",
      "    \"\"\"\n",
      "    close = df[('Close', '2330.TW')]\n",
      "    volume = df[('Volume', '2330.TW')]\n",
      "    obv = pd.Series(0.0, index=df.index)\n",
      "\n",
      "    for i in range(1, len(df)):\n",
      "        if close.iloc[i] > close.iloc[i-1]:\n",
      "            obv.iloc[i] = obv.iloc[i-1] + volume.iloc[i]\n",
      "        elif close.iloc[i] < close.iloc[i-1]:\n",
      "            obv.iloc[i] = obv.iloc[i-1] - volume.iloc[i]\n",
      "        else:\n",
      "            obv.iloc[i] = obv.iloc[i-1]\n",
      "\n",
      "    df[('OBV', '2330.TW')] = obv\n",
      "    return df\n",
      "\n"
     ]
    },
    {
     "data": {
      "text/html": [
       "<div>\n",
       "<style scoped>\n",
       "    .dataframe tbody tr th:only-of-type {\n",
       "        vertical-align: middle;\n",
       "    }\n",
       "\n",
       "    .dataframe tbody tr th {\n",
       "        vertical-align: top;\n",
       "    }\n",
       "\n",
       "    .dataframe thead tr th {\n",
       "        text-align: left;\n",
       "    }\n",
       "</style>\n",
       "<table border=\"1\" class=\"dataframe\">\n",
       "  <thead>\n",
       "    <tr>\n",
       "      <th>Price</th>\n",
       "      <th>Date</th>\n",
       "      <th>Close</th>\n",
       "      <th>High</th>\n",
       "      <th>Low</th>\n",
       "      <th>Open</th>\n",
       "      <th>Volume</th>\n",
       "      <th>MA_8</th>\n",
       "      <th>MA_13</th>\n",
       "      <th>MACD_Histogram</th>\n",
       "      <th>RSI</th>\n",
       "      <th>Upper_Band</th>\n",
       "      <th>Lower_Band</th>\n",
       "      <th>OBV</th>\n",
       "    </tr>\n",
       "    <tr>\n",
       "      <th>Ticker</th>\n",
       "      <th></th>\n",
       "      <th>2330.TW</th>\n",
       "      <th>2330.TW</th>\n",
       "      <th>2330.TW</th>\n",
       "      <th>2330.TW</th>\n",
       "      <th>2330.TW</th>\n",
       "      <th>2330.TW</th>\n",
       "      <th>2330.TW</th>\n",
       "      <th></th>\n",
       "      <th>2330.TW</th>\n",
       "      <th></th>\n",
       "      <th></th>\n",
       "      <th>2330.TW</th>\n",
       "    </tr>\n",
       "  </thead>\n",
       "  <tbody>\n",
       "    <tr>\n",
       "      <th>119</th>\n",
       "      <td>2025-10-13</td>\n",
       "      <td>1415.0</td>\n",
       "      <td>1420.0</td>\n",
       "      <td>1390.0</td>\n",
       "      <td>1390.0</td>\n",
       "      <td>53850992</td>\n",
       "      <td>1387.50</td>\n",
       "      <td>1361.153846</td>\n",
       "      <td>8.330076</td>\n",
       "      <td>69.117647</td>\n",
       "      <td>1458.818843</td>\n",
       "      <td>1263.488849</td>\n",
       "      <td>9.184344e+08</td>\n",
       "    </tr>\n",
       "    <tr>\n",
       "      <th>120</th>\n",
       "      <td>2025-10-14</td>\n",
       "      <td>1425.0</td>\n",
       "      <td>1460.0</td>\n",
       "      <td>1420.0</td>\n",
       "      <td>1455.0</td>\n",
       "      <td>39889256</td>\n",
       "      <td>1402.50</td>\n",
       "      <td>1371.153846</td>\n",
       "      <td>6.637946</td>\n",
       "      <td>74.242424</td>\n",
       "      <td>1468.537313</td>\n",
       "      <td>1273.770379</td>\n",
       "      <td>9.583236e+08</td>\n",
       "    </tr>\n",
       "    <tr>\n",
       "      <th>121</th>\n",
       "      <td>2025-10-15</td>\n",
       "      <td>1465.0</td>\n",
       "      <td>1465.0</td>\n",
       "      <td>1425.0</td>\n",
       "      <td>1435.0</td>\n",
       "      <td>41056405</td>\n",
       "      <td>1420.00</td>\n",
       "      <td>1380.769231</td>\n",
       "      <td>7.305553</td>\n",
       "      <td>75.000000</td>\n",
       "      <td>1482.826684</td>\n",
       "      <td>1278.711778</td>\n",
       "      <td>9.993800e+08</td>\n",
       "    </tr>\n",
       "    <tr>\n",
       "      <th>122</th>\n",
       "      <td>2025-10-16</td>\n",
       "      <td>1485.0</td>\n",
       "      <td>1495.0</td>\n",
       "      <td>1465.0</td>\n",
       "      <td>1465.0</td>\n",
       "      <td>37737678</td>\n",
       "      <td>1435.00</td>\n",
       "      <td>1391.923077</td>\n",
       "      <td>8.124198</td>\n",
       "      <td>73.015873</td>\n",
       "      <td>1498.024676</td>\n",
       "      <td>1285.821478</td>\n",
       "      <td>1.037118e+09</td>\n",
       "    </tr>\n",
       "    <tr>\n",
       "      <th>123</th>\n",
       "      <td>2025-10-17</td>\n",
       "      <td>1450.0</td>\n",
       "      <td>1465.0</td>\n",
       "      <td>1450.0</td>\n",
       "      <td>1455.0</td>\n",
       "      <td>38077331</td>\n",
       "      <td>1441.25</td>\n",
       "      <td>1401.923077</td>\n",
       "      <td>5.466107</td>\n",
       "      <td>65.714286</td>\n",
       "      <td>1508.497967</td>\n",
       "      <td>1295.348187</td>\n",
       "      <td>9.990404e+08</td>\n",
       "    </tr>\n",
       "  </tbody>\n",
       "</table>\n",
       "</div>"
      ],
      "text/plain": [
       "Price        Date   Close    High     Low    Open    Volume     MA_8  \\\n",
       "Ticker            2330.TW 2330.TW 2330.TW 2330.TW   2330.TW  2330.TW   \n",
       "119    2025-10-13  1415.0  1420.0  1390.0  1390.0  53850992  1387.50   \n",
       "120    2025-10-14  1425.0  1460.0  1420.0  1455.0  39889256  1402.50   \n",
       "121    2025-10-15  1465.0  1465.0  1425.0  1435.0  41056405  1420.00   \n",
       "122    2025-10-16  1485.0  1495.0  1465.0  1465.0  37737678  1435.00   \n",
       "123    2025-10-17  1450.0  1465.0  1450.0  1455.0  38077331  1441.25   \n",
       "\n",
       "Price         MA_13 MACD_Histogram        RSI   Upper_Band   Lower_Band  \\\n",
       "Ticker      2330.TW                   2330.TW                             \n",
       "119     1361.153846       8.330076  69.117647  1458.818843  1263.488849   \n",
       "120     1371.153846       6.637946  74.242424  1468.537313  1273.770379   \n",
       "121     1380.769231       7.305553  75.000000  1482.826684  1278.711778   \n",
       "122     1391.923077       8.124198  73.015873  1498.024676  1285.821478   \n",
       "123     1401.923077       5.466107  65.714286  1508.497967  1295.348187   \n",
       "\n",
       "Price            OBV  \n",
       "Ticker       2330.TW  \n",
       "119     9.184344e+08  \n",
       "120     9.583236e+08  \n",
       "121     9.993800e+08  \n",
       "122     1.037118e+09  \n",
       "123     9.990404e+08  "
      ]
     },
     "execution_count": 10,
     "metadata": {},
     "output_type": "execute_result"
    }
   ],
   "source": [
    "import numpy as np\n",
    "code_str = ai_helper(df, \"計算 OBV 指標\")\n",
    "code_str=code_str.replace('```','')\n",
    "code_str=code_str.replace('python','')\n",
    "print(code_str)\n",
    "exec(code_str)\n",
    "new_df = calculate(df)\n",
    "new_df.tail()"
   ]
  },
  {
   "cell_type": "markdown",
   "metadata": {
    "id": "KggF4QIP6jZi"
   },
   "source": [
    "### 讓 AI 自動統整 Dataframe"
   ]
  },
  {
   "cell_type": "markdown",
   "metadata": {
    "id": "CrJLN_rg6jZi"
   },
   "source": [
    "### 🔟 將日頻資料轉換成月頻資料"
   ]
  },
  {
   "cell_type": "code",
   "execution_count": 11,
   "metadata": {
    "colab": {
     "base_uri": "https://localhost:8080/",
     "height": 1000
    },
    "id": "UyuQm5-46jZi",
    "outputId": "6e767425-d532-436e-d848-6e8d6bcaff44"
   },
   "outputs": [
    {
     "name": "stdout",
     "output_type": "stream",
     "text": [
      "\n",
      "import pandas as pd\n",
      "\n",
      "def calculate(df):\n",
      "    \"\"\"\n",
      "    Converts daily candlestick data to monthly candlestick data.\n",
      "\n",
      "    Args:\n",
      "        df (pd.DataFrame): A DataFrame with a MultiIndex as described in the prompt.\n",
      "\n",
      "    Returns:\n",
      "        pd.DataFrame: A DataFrame containing monthly candlestick data.\n",
      "    \"\"\"\n",
      "\n",
      "    df_monthly = df.copy()\n",
      "    df_monthly.index = pd.to_datetime(df_monthly.index)\n",
      "    \n",
      "    ohlc = {\n",
      "        ('Open', '2330.TW'): 'first',\n",
      "        ('High', '2330.TW'): 'max',\n",
      "        ('Low', '2330.TW'): 'min',\n",
      "        ('Close', '2330.TW'): 'last',\n",
      "        ('Volume', '2330.TW'): 'sum',\n",
      "        ('MA_8', '2330.TW'): 'last',\n",
      "        ('MA_13', '2330.TW'): 'last',\n",
      "        ('MACD_Histogram', ''): 'last',\n",
      "        ('RSI', '2330.TW'): 'last',\n",
      "        ('Upper_Band', ''): 'last',\n",
      "        ('Lower_Band', ''): 'last',\n",
      "        ('OBV', '2330.TW'): 'last'\n",
      "    }\n",
      "\n",
      "    df_monthly = df_monthly.resample('M').agg(ohlc)\n",
      "    df_monthly.dropna(subset=[('Open', '2330.TW')], inplace=True)\n",
      "\n",
      "    return df_monthly\n",
      "\n"
     ]
    },
    {
     "name": "stderr",
     "output_type": "stream",
     "text": [
      "<string>:33: FutureWarning: 'M' is deprecated and will be removed in a future version, please use 'ME' instead.\n"
     ]
    },
    {
     "data": {
      "text/html": [
       "<div>\n",
       "<style scoped>\n",
       "    .dataframe tbody tr th:only-of-type {\n",
       "        vertical-align: middle;\n",
       "    }\n",
       "\n",
       "    .dataframe tbody tr th {\n",
       "        vertical-align: top;\n",
       "    }\n",
       "\n",
       "    .dataframe thead tr th {\n",
       "        text-align: left;\n",
       "    }\n",
       "</style>\n",
       "<table border=\"1\" class=\"dataframe\">\n",
       "  <thead>\n",
       "    <tr>\n",
       "      <th>Price</th>\n",
       "      <th>Open</th>\n",
       "      <th>High</th>\n",
       "      <th>Low</th>\n",
       "      <th>Close</th>\n",
       "      <th>Volume</th>\n",
       "      <th>MA_8</th>\n",
       "      <th>MA_13</th>\n",
       "      <th>MACD_Histogram</th>\n",
       "      <th>RSI</th>\n",
       "      <th>Upper_Band</th>\n",
       "      <th>Lower_Band</th>\n",
       "      <th>OBV</th>\n",
       "    </tr>\n",
       "    <tr>\n",
       "      <th>Ticker</th>\n",
       "      <th>2330.TW</th>\n",
       "      <th>2330.TW</th>\n",
       "      <th>2330.TW</th>\n",
       "      <th>2330.TW</th>\n",
       "      <th>2330.TW</th>\n",
       "      <th>2330.TW</th>\n",
       "      <th>2330.TW</th>\n",
       "      <th></th>\n",
       "      <th>2330.TW</th>\n",
       "      <th></th>\n",
       "      <th></th>\n",
       "      <th>2330.TW</th>\n",
       "    </tr>\n",
       "  </thead>\n",
       "  <tbody>\n",
       "    <tr>\n",
       "      <th>1970-01-31</th>\n",
       "      <td>837.085385</td>\n",
       "      <td>1495.0</td>\n",
       "      <td>809.314819</td>\n",
       "      <td>1450.0</td>\n",
       "      <td>3800691366</td>\n",
       "      <td>1441.25</td>\n",
       "      <td>1401.923077</td>\n",
       "      <td>5.466107</td>\n",
       "      <td>65.714286</td>\n",
       "      <td>1508.497967</td>\n",
       "      <td>1295.348187</td>\n",
       "      <td>999040359.0</td>\n",
       "    </tr>\n",
       "  </tbody>\n",
       "</table>\n",
       "</div>"
      ],
      "text/plain": [
       "Price             Open    High         Low   Close      Volume     MA_8  \\\n",
       "Ticker         2330.TW 2330.TW     2330.TW 2330.TW     2330.TW  2330.TW   \n",
       "1970-01-31  837.085385  1495.0  809.314819  1450.0  3800691366  1441.25   \n",
       "\n",
       "Price             MA_13 MACD_Histogram        RSI   Upper_Band   Lower_Band  \\\n",
       "Ticker          2330.TW                   2330.TW                             \n",
       "1970-01-31  1401.923077       5.466107  65.714286  1508.497967  1295.348187   \n",
       "\n",
       "Price               OBV  \n",
       "Ticker          2330.TW  \n",
       "1970-01-31  999040359.0  "
      ]
     },
     "execution_count": 11,
     "metadata": {},
     "output_type": "execute_result"
    }
   ],
   "source": [
    "code_str = ai_helper(df, \"請將日K線的資料轉換成月K線 \")\n",
    "code_str=code_str.replace('```','')\n",
    "code_str=code_str.replace('python','')\n",
    "print(code_str)\n",
    "exec(code_str)\n",
    "new_df = df\n",
    "df_monthly = new_df\n",
    "df_monthly = calculate(df_monthly)\n",
    "df_monthly.tail()"
   ]
  },
  {
   "cell_type": "markdown",
   "metadata": {
    "id": "nggDbG6a6jZi"
   },
   "source": [
    "## 4-2 資料視覺化"
   ]
  },
  {
   "cell_type": "markdown",
   "metadata": {
    "id": "vMxyLUS86jZi"
   },
   "source": [
    "### 1️⃣1️⃣ 安裝及匯入套件"
   ]
  },
  {
   "cell_type": "code",
   "execution_count": 12,
   "metadata": {
    "id": "5_eYDTho6jZi"
   },
   "outputs": [],
   "source": [
    "import matplotlib.pyplot as plt"
   ]
  },
  {
   "cell_type": "markdown",
   "metadata": {
    "id": "m9TF_Jyh6jZi"
   },
   "source": [
    "### 畫出簡易股價圖"
   ]
  },
  {
   "cell_type": "markdown",
   "metadata": {
    "id": "rUxwoR_56jZi"
   },
   "source": [
    "### 1️⃣2️⃣ 讓我們再一次檢視資料格式吧！"
   ]
  },
  {
   "cell_type": "code",
   "execution_count": 13,
   "metadata": {
    "colab": {
     "base_uri": "https://localhost:8080/",
     "height": 330
    },
    "id": "Ppbgc8oz6jZi",
    "outputId": "0f49cb57-0014-4843-dbfb-bdff999425ed"
   },
   "outputs": [
    {
     "data": {
      "text/html": [
       "<div>\n",
       "<style scoped>\n",
       "    .dataframe tbody tr th:only-of-type {\n",
       "        vertical-align: middle;\n",
       "    }\n",
       "\n",
       "    .dataframe tbody tr th {\n",
       "        vertical-align: top;\n",
       "    }\n",
       "\n",
       "    .dataframe thead tr th {\n",
       "        text-align: left;\n",
       "    }\n",
       "</style>\n",
       "<table border=\"1\" class=\"dataframe\">\n",
       "  <thead>\n",
       "    <tr>\n",
       "      <th>Price</th>\n",
       "      <th>index</th>\n",
       "      <th>Date</th>\n",
       "      <th>Close</th>\n",
       "      <th>High</th>\n",
       "      <th>Low</th>\n",
       "      <th>Open</th>\n",
       "      <th>Volume</th>\n",
       "      <th>MA_8</th>\n",
       "      <th>MA_13</th>\n",
       "      <th>MACD_Histogram</th>\n",
       "      <th>RSI</th>\n",
       "      <th>Upper_Band</th>\n",
       "      <th>Lower_Band</th>\n",
       "      <th>OBV</th>\n",
       "    </tr>\n",
       "    <tr>\n",
       "      <th>Ticker</th>\n",
       "      <th></th>\n",
       "      <th></th>\n",
       "      <th>2330.TW</th>\n",
       "      <th>2330.TW</th>\n",
       "      <th>2330.TW</th>\n",
       "      <th>2330.TW</th>\n",
       "      <th>2330.TW</th>\n",
       "      <th>2330.TW</th>\n",
       "      <th>2330.TW</th>\n",
       "      <th></th>\n",
       "      <th>2330.TW</th>\n",
       "      <th></th>\n",
       "      <th></th>\n",
       "      <th>2330.TW</th>\n",
       "    </tr>\n",
       "  </thead>\n",
       "  <tbody>\n",
       "    <tr>\n",
       "      <th>119</th>\n",
       "      <td>119</td>\n",
       "      <td>2025-10-13</td>\n",
       "      <td>1415.0</td>\n",
       "      <td>1420.0</td>\n",
       "      <td>1390.0</td>\n",
       "      <td>1390.0</td>\n",
       "      <td>53850992</td>\n",
       "      <td>1387.50</td>\n",
       "      <td>1361.153846</td>\n",
       "      <td>8.330076</td>\n",
       "      <td>69.117647</td>\n",
       "      <td>1458.818843</td>\n",
       "      <td>1263.488849</td>\n",
       "      <td>9.184344e+08</td>\n",
       "    </tr>\n",
       "    <tr>\n",
       "      <th>120</th>\n",
       "      <td>120</td>\n",
       "      <td>2025-10-14</td>\n",
       "      <td>1425.0</td>\n",
       "      <td>1460.0</td>\n",
       "      <td>1420.0</td>\n",
       "      <td>1455.0</td>\n",
       "      <td>39889256</td>\n",
       "      <td>1402.50</td>\n",
       "      <td>1371.153846</td>\n",
       "      <td>6.637946</td>\n",
       "      <td>74.242424</td>\n",
       "      <td>1468.537313</td>\n",
       "      <td>1273.770379</td>\n",
       "      <td>9.583236e+08</td>\n",
       "    </tr>\n",
       "    <tr>\n",
       "      <th>121</th>\n",
       "      <td>121</td>\n",
       "      <td>2025-10-15</td>\n",
       "      <td>1465.0</td>\n",
       "      <td>1465.0</td>\n",
       "      <td>1425.0</td>\n",
       "      <td>1435.0</td>\n",
       "      <td>41056405</td>\n",
       "      <td>1420.00</td>\n",
       "      <td>1380.769231</td>\n",
       "      <td>7.305553</td>\n",
       "      <td>75.000000</td>\n",
       "      <td>1482.826684</td>\n",
       "      <td>1278.711778</td>\n",
       "      <td>9.993800e+08</td>\n",
       "    </tr>\n",
       "    <tr>\n",
       "      <th>122</th>\n",
       "      <td>122</td>\n",
       "      <td>2025-10-16</td>\n",
       "      <td>1485.0</td>\n",
       "      <td>1495.0</td>\n",
       "      <td>1465.0</td>\n",
       "      <td>1465.0</td>\n",
       "      <td>37737678</td>\n",
       "      <td>1435.00</td>\n",
       "      <td>1391.923077</td>\n",
       "      <td>8.124198</td>\n",
       "      <td>73.015873</td>\n",
       "      <td>1498.024676</td>\n",
       "      <td>1285.821478</td>\n",
       "      <td>1.037118e+09</td>\n",
       "    </tr>\n",
       "    <tr>\n",
       "      <th>123</th>\n",
       "      <td>123</td>\n",
       "      <td>2025-10-17</td>\n",
       "      <td>1450.0</td>\n",
       "      <td>1465.0</td>\n",
       "      <td>1450.0</td>\n",
       "      <td>1455.0</td>\n",
       "      <td>38077331</td>\n",
       "      <td>1441.25</td>\n",
       "      <td>1401.923077</td>\n",
       "      <td>5.466107</td>\n",
       "      <td>65.714286</td>\n",
       "      <td>1508.497967</td>\n",
       "      <td>1295.348187</td>\n",
       "      <td>9.990404e+08</td>\n",
       "    </tr>\n",
       "  </tbody>\n",
       "</table>\n",
       "</div>"
      ],
      "text/plain": [
       "Price  index       Date   Close    High     Low    Open    Volume     MA_8  \\\n",
       "Ticker                  2330.TW 2330.TW 2330.TW 2330.TW   2330.TW  2330.TW   \n",
       "119      119 2025-10-13  1415.0  1420.0  1390.0  1390.0  53850992  1387.50   \n",
       "120      120 2025-10-14  1425.0  1460.0  1420.0  1455.0  39889256  1402.50   \n",
       "121      121 2025-10-15  1465.0  1465.0  1425.0  1435.0  41056405  1420.00   \n",
       "122      122 2025-10-16  1485.0  1495.0  1465.0  1465.0  37737678  1435.00   \n",
       "123      123 2025-10-17  1450.0  1465.0  1450.0  1455.0  38077331  1441.25   \n",
       "\n",
       "Price         MA_13 MACD_Histogram        RSI   Upper_Band   Lower_Band  \\\n",
       "Ticker      2330.TW                   2330.TW                             \n",
       "119     1361.153846       8.330076  69.117647  1458.818843  1263.488849   \n",
       "120     1371.153846       6.637946  74.242424  1468.537313  1273.770379   \n",
       "121     1380.769231       7.305553  75.000000  1482.826684  1278.711778   \n",
       "122     1391.923077       8.124198  73.015873  1498.024676  1285.821478   \n",
       "123     1401.923077       5.466107  65.714286  1508.497967  1295.348187   \n",
       "\n",
       "Price            OBV  \n",
       "Ticker       2330.TW  \n",
       "119     9.184344e+08  \n",
       "120     9.583236e+08  \n",
       "121     9.993800e+08  \n",
       "122     1.037118e+09  \n",
       "123     9.990404e+08  "
      ]
     },
     "execution_count": 13,
     "metadata": {},
     "output_type": "execute_result"
    }
   ],
   "source": [
    "new_df = new_df.reset_index() # 重設 index\n",
    "new_df['Date'] = pd.to_datetime(new_df['Date']) # 將 Date 轉換為 datetime 類別\n",
    "new_df.tail()"
   ]
  },
  {
   "cell_type": "markdown",
   "metadata": {
    "id": "9Ee0knH06jZi"
   },
   "source": [
    "### 1️⃣3️⃣ 使用 matplotlib 畫出收盤價的折線圖"
   ]
  },
  {
   "cell_type": "code",
   "execution_count": 14,
   "metadata": {
    "colab": {
     "base_uri": "https://localhost:8080/",
     "height": 534
    },
    "id": "qfoBRqVP6jZi",
    "outputId": "5cb38b9d-6680-4aa4-86f1-36cb735c9ed2"
   },
   "outputs": [
    {
     "data": {
      "image/png": "[encoded data removed]",
      "text/plain": [
       "<Figure size 1200x600 with 1 Axes>"
      ]
     },
     "metadata": {},
     "output_type": "display_data"
    }
   ],
   "source": [
    "# 畫布尺寸大小設定\n",
    "plt.figure(figsize=(12, 6))\n",
    "\n",
    "# 設定要繪製的資料欄位\n",
    "plt.plot(new_df['Close'], label='Close')\n",
    "\n",
    "# 設定 x 軸的時間\n",
    "num = 10\n",
    "date = new_df[\"Date\"].dt.strftime('%Y-%m-%d')\n",
    "plt.xticks(date[::len(date)//num].index,\n",
    "           date[::len(date)//num], rotation = 45)\n",
    "\n",
    "# 設定圖表的標題，x 軸和 y 軸的標籤\n",
    "plt.title(f'{stock_id}')   # 將股票代號設為圖標\n",
    "plt.xlabel('Date')         # x 軸標籤\n",
    "plt.ylabel('Price', rotation=0, ha='right')  # y 軸標籤\n",
    "plt.legend(loc='upper left') # 在左上角顯示圖例\n",
    "plt.grid(True) # 在圖上顯示網格\n",
    "plt.tight_layout()\n",
    "\n",
    "# 顯示圖表\n",
    "plt.show()"
   ]
  },
  {
   "cell_type": "markdown",
   "metadata": {
    "id": "ugLkZPJG6jZi"
   },
   "source": [
    "### 1️⃣4️⃣ 加入成交量"
   ]
  },
  {
   "cell_type": "code",
   "execution_count": 28,
   "metadata": {},
   "outputs": [
    {
     "name": "stdout",
     "output_type": "stream",
     "text": [
      "Collecting matplotlib==3.9\n",
      "  Downloading matplotlib-3.9.0-cp312-cp312-manylinux_2_17_x86_64.manylinux2014_x86_64.whl.metadata (11 kB)\n",
      "Requirement already satisfied: contourpy>=1.0.1 in /home/rkuo/.venv/lib/python3.12/site-packages (from matplotlib==3.9) (1.3.3)\n",
      "Requirement already satisfied: cycler>=0.10 in /home/rkuo/.venv/lib/python3.12/site-packages (from matplotlib==3.9) (0.12.1)\n",
      "Requirement already satisfied: fonttools>=4.22.0 in /home/rkuo/.venv/lib/python3.12/site-packages (from matplotlib==3.9) (4.59.2)\n",
      "Requirement already satisfied: kiwisolver>=1.3.1 in /home/rkuo/.venv/lib/python3.12/site-packages (from matplotlib==3.9) (1.4.9)\n",
      "Requirement already satisfied: numpy>=1.23 in /home/rkuo/.venv/lib/python3.12/site-packages (from matplotlib==3.9) (2.3.4)\n",
      "Requirement already satisfied: packaging>=20.0 in /home/rkuo/.venv/lib/python3.12/site-packages (from matplotlib==3.9) (24.2)\n",
      "Requirement already satisfied: pillow>=8 in /home/rkuo/.venv/lib/python3.12/site-packages (from matplotlib==3.9) (11.3.0)\n",
      "Requirement already satisfied: pyparsing>=2.3.1 in /home/rkuo/.venv/lib/python3.12/site-packages (from matplotlib==3.9) (3.2.3)\n",
      "Requirement already satisfied: python-dateutil>=2.7 in /home/rkuo/.venv/lib/python3.12/site-packages (from matplotlib==3.9) (2.9.0.post0)\n",
      "Requirement already satisfied: six>=1.5 in /home/rkuo/.venv/lib/python3.12/site-packages (from python-dateutil>=2.7->matplotlib==3.9) (1.17.0)\n",
      "Downloading matplotlib-3.9.0-cp312-cp312-manylinux_2_17_x86_64.manylinux2014_x86_64.whl (8.3 MB)\n",
      "\u001b[2K   \u001b[38;2;114;156;31m━━━━━━━━━━━━━━━━━━━━━━━━━━━━━━━━━━━━━━━━\u001b[0m \u001b[32m8.3/8.3 MB\u001b[0m \u001b[31m1.8 MB/s\u001b[0m  \u001b[33m0:00:04\u001b[0ma \u001b[36m0:00:01\u001b[0mm eta \u001b[36m0:00:01\u001b[0m0m\n",
      "\u001b[?25hInstalling collected packages: matplotlib\n",
      "  Attempting uninstall: matplotlib\n",
      "    Found existing installation: matplotlib 3.10.7\n",
      "    Uninstalling matplotlib-3.10.7:\n",
      "      Successfully uninstalled matplotlib-3.10.7\n",
      "\u001b[31mERROR: pip's dependency resolver does not currently take into account all the packages that are installed. This behaviour is the source of the following dependency conflicts.\n",
      "descript-audiotools-unofficial 0.7.4 requires protobuf!=4.24.0,<5.0.0,>=3.19.6, but you have protobuf 6.33.0 which is incompatible.\n",
      "parler-tts 0.2.3 requires transformers<=4.46.1,>=4.46.1, but you have transformers 4.57.1 which is incompatible.\n",
      "inference 0.58.2 requires filelock<=3.17.0,>=3.12.0, but you have filelock 3.20.0 which is incompatible.\n",
      "inference 0.58.2 requires numpy<2.3.0,>=2.0.0, but you have numpy 2.3.4 which is incompatible.\n",
      "inference 0.58.2 requires tokenizers<0.22.0,>=0.19.0, but you have tokenizers 0.22.1 which is incompatible.\n",
      "inference 0.58.2 requires typing_extensions<=4.12.2,>=4.8.0, but you have typing-extensions 4.15.0 which is incompatible.\n",
      "inference-gpu 0.58.2 requires filelock<=3.17.0,>=3.12.0, but you have filelock 3.20.0 which is incompatible.\n",
      "inference-gpu 0.58.2 requires numpy<2.3.0,>=2.0.0, but you have numpy 2.3.4 which is incompatible.\n",
      "inference-gpu 0.58.2 requires tokenizers<0.22.0,>=0.19.0, but you have tokenizers 0.22.1 which is incompatible.\n",
      "inference-gpu 0.58.2 requires typing_extensions<=4.12.2,>=4.8.0, but you have typing-extensions 4.15.0 which is incompatible.\n",
      "descript-audiotools 0.7.2 requires protobuf<3.20,>=3.9.2, but you have protobuf 6.33.0 which is incompatible.\u001b[0m\u001b[31m\n",
      "\u001b[0mSuccessfully installed matplotlib-3.9.0\n"
     ]
    }
   ],
   "source": [
    "!pip install matplotlib==3.9"
   ]
  },
  {
   "cell_type": "code",
   "execution_count": 29,
   "metadata": {},
   "outputs": [],
   "source": [
    "import matplotlib.pyplot as plt"
   ]
  },
  {
   "cell_type": "code",
   "execution_count": 30,
   "metadata": {
    "colab": {
     "base_uri": "https://localhost:8080/",
     "height": 710
    },
    "id": "GkilmJJ46jZi",
    "outputId": "44317d46-7ae4-4ab3-f229-dce7bf9d9693"
   },
   "outputs": [
    {
     "ename": "TypeError",
     "evalue": "only length-1 arrays can be converted to Python scalars",
     "output_type": "error",
     "traceback": [
      "\u001b[31m---------------------------------------------------------------------------\u001b[39m",
      "\u001b[31mTypeError\u001b[39m                                 Traceback (most recent call last)",
      "\u001b[36mCell\u001b[39m\u001b[36m \u001b[39m\u001b[32mIn[30]\u001b[39m\u001b[32m, line 18\u001b[39m\n\u001b[32m     15\u001b[39m ax1.set_xticklabels(date[::\u001b[38;5;28mlen\u001b[39m(date)//num], rotation=\u001b[32m45\u001b[39m)\n\u001b[32m     17\u001b[39m \u001b[38;5;66;03m# 繪製交易量\u001b[39;00m\n\u001b[32m---> \u001b[39m\u001b[32m18\u001b[39m \u001b[43max2\u001b[49m\u001b[43m.\u001b[49m\u001b[43mbar\u001b[49m\u001b[43m(\u001b[49m\u001b[43mnew_df\u001b[49m\u001b[43m.\u001b[49m\u001b[43mindex\u001b[49m\u001b[43m,\u001b[49m\u001b[43m \u001b[49m\u001b[43mnew_df\u001b[49m\u001b[43m[\u001b[49m\u001b[33;43m'\u001b[39;49m\u001b[33;43mVolume\u001b[39;49m\u001b[33;43m'\u001b[39;49m\u001b[43m]\u001b[49m\u001b[43m,\u001b[49m\u001b[43m  \u001b[49m\u001b[43mcolor\u001b[49m\u001b[43m=\u001b[49m\u001b[33;43m'\u001b[39;49m\u001b[33;43mgreen\u001b[39;49m\u001b[33;43m'\u001b[39;49m\u001b[43m)\u001b[49m\n\u001b[32m     19\u001b[39m ax2.set_ylabel(\u001b[33m'\u001b[39m\u001b[33mVolume\u001b[39m\u001b[33m'\u001b[39m, color=\u001b[33m'\u001b[39m\u001b[33mgreen\u001b[39m\u001b[33m'\u001b[39m, rotation=\u001b[32m0\u001b[39m, ha=\u001b[33m'\u001b[39m\u001b[33mright\u001b[39m\u001b[33m'\u001b[39m)\n\u001b[32m     20\u001b[39m ax2.set_xticks([]) \u001b[38;5;66;03m# 不顯示日期標籤\u001b[39;00m\n",
      "\u001b[36mFile \u001b[39m\u001b[32m~/.venv/lib/python3.12/site-packages/matplotlib/__init__.py:1524\u001b[39m, in \u001b[36m_preprocess_data.<locals>.inner\u001b[39m\u001b[34m(ax, data, *args, **kwargs)\u001b[39m\n\u001b[32m   1521\u001b[39m \u001b[38;5;129m@functools\u001b[39m.wraps(func)\n\u001b[32m   1522\u001b[39m \u001b[38;5;28;01mdef\u001b[39;00m\u001b[38;5;250m \u001b[39m\u001b[34minner\u001b[39m(ax, *args, data=\u001b[38;5;28;01mNone\u001b[39;00m, **kwargs):\n\u001b[32m   1523\u001b[39m     \u001b[38;5;28;01mif\u001b[39;00m data \u001b[38;5;129;01mis\u001b[39;00m \u001b[38;5;28;01mNone\u001b[39;00m:\n\u001b[32m-> \u001b[39m\u001b[32m1524\u001b[39m         \u001b[38;5;28;01mreturn\u001b[39;00m \u001b[43mfunc\u001b[49m\u001b[43m(\u001b[49m\n\u001b[32m   1525\u001b[39m \u001b[43m            \u001b[49m\u001b[43max\u001b[49m\u001b[43m,\u001b[49m\n\u001b[32m   1526\u001b[39m \u001b[43m            \u001b[49m\u001b[43m*\u001b[49m\u001b[38;5;28;43mmap\u001b[39;49m\u001b[43m(\u001b[49m\u001b[43mcbook\u001b[49m\u001b[43m.\u001b[49m\u001b[43msanitize_sequence\u001b[49m\u001b[43m,\u001b[49m\u001b[43m \u001b[49m\u001b[43margs\u001b[49m\u001b[43m)\u001b[49m\u001b[43m,\u001b[49m\n\u001b[32m   1527\u001b[39m \u001b[43m            \u001b[49m\u001b[43m*\u001b[49m\u001b[43m*\u001b[49m\u001b[43m{\u001b[49m\u001b[43mk\u001b[49m\u001b[43m:\u001b[49m\u001b[43m \u001b[49m\u001b[43mcbook\u001b[49m\u001b[43m.\u001b[49m\u001b[43msanitize_sequence\u001b[49m\u001b[43m(\u001b[49m\u001b[43mv\u001b[49m\u001b[43m)\u001b[49m\u001b[43m \u001b[49m\u001b[38;5;28;43;01mfor\u001b[39;49;00m\u001b[43m \u001b[49m\u001b[43mk\u001b[49m\u001b[43m,\u001b[49m\u001b[43m \u001b[49m\u001b[43mv\u001b[49m\u001b[43m \u001b[49m\u001b[38;5;129;43;01min\u001b[39;49;00m\u001b[43m \u001b[49m\u001b[43mkwargs\u001b[49m\u001b[43m.\u001b[49m\u001b[43mitems\u001b[49m\u001b[43m(\u001b[49m\u001b[43m)\u001b[49m\u001b[43m}\u001b[49m\u001b[43m)\u001b[49m\n\u001b[32m   1529\u001b[39m     bound = new_sig.bind(ax, *args, **kwargs)\n\u001b[32m   1530\u001b[39m     auto_label = (bound.arguments.get(label_namer)\n\u001b[32m   1531\u001b[39m                   \u001b[38;5;129;01mor\u001b[39;00m bound.kwargs.get(label_namer))\n",
      "\u001b[36mFile \u001b[39m\u001b[32m~/.venv/lib/python3.12/site-packages/matplotlib/axes/_axes.py:2646\u001b[39m, in \u001b[36mAxes.bar\u001b[39m\u001b[34m(self, x, height, width, bottom, align, **kwargs)\u001b[39m\n\u001b[32m   2643\u001b[39m args = \u001b[38;5;28mzip\u001b[39m(left, bottom, width, height, facecolor, edgecolor, linewidth,\n\u001b[32m   2644\u001b[39m            hatch, patch_labels)\n\u001b[32m   2645\u001b[39m \u001b[38;5;28;01mfor\u001b[39;00m l, b, w, h, c, e, lw, htch, lbl \u001b[38;5;129;01min\u001b[39;00m args:\n\u001b[32m-> \u001b[39m\u001b[32m2646\u001b[39m     r = \u001b[43mmpatches\u001b[49m\u001b[43m.\u001b[49m\u001b[43mRectangle\u001b[49m\u001b[43m(\u001b[49m\n\u001b[32m   2647\u001b[39m \u001b[43m        \u001b[49m\u001b[43mxy\u001b[49m\u001b[43m=\u001b[49m\u001b[43m(\u001b[49m\u001b[43ml\u001b[49m\u001b[43m,\u001b[49m\u001b[43m \u001b[49m\u001b[43mb\u001b[49m\u001b[43m)\u001b[49m\u001b[43m,\u001b[49m\u001b[43m \u001b[49m\u001b[43mwidth\u001b[49m\u001b[43m=\u001b[49m\u001b[43mw\u001b[49m\u001b[43m,\u001b[49m\u001b[43m \u001b[49m\u001b[43mheight\u001b[49m\u001b[43m=\u001b[49m\u001b[43mh\u001b[49m\u001b[43m,\u001b[49m\n\u001b[32m   2648\u001b[39m \u001b[43m        \u001b[49m\u001b[43mfacecolor\u001b[49m\u001b[43m=\u001b[49m\u001b[43mc\u001b[49m\u001b[43m,\u001b[49m\n\u001b[32m   2649\u001b[39m \u001b[43m        \u001b[49m\u001b[43medgecolor\u001b[49m\u001b[43m=\u001b[49m\u001b[43me\u001b[49m\u001b[43m,\u001b[49m\n\u001b[32m   2650\u001b[39m \u001b[43m        \u001b[49m\u001b[43mlinewidth\u001b[49m\u001b[43m=\u001b[49m\u001b[43mlw\u001b[49m\u001b[43m,\u001b[49m\n\u001b[32m   2651\u001b[39m \u001b[43m        \u001b[49m\u001b[43mlabel\u001b[49m\u001b[43m=\u001b[49m\u001b[43mlbl\u001b[49m\u001b[43m,\u001b[49m\n\u001b[32m   2652\u001b[39m \u001b[43m        \u001b[49m\u001b[43mhatch\u001b[49m\u001b[43m=\u001b[49m\u001b[43mhtch\u001b[49m\u001b[43m,\u001b[49m\n\u001b[32m   2653\u001b[39m \u001b[43m        \u001b[49m\u001b[43m)\u001b[49m\n\u001b[32m   2654\u001b[39m     r._internal_update(kwargs)\n\u001b[32m   2655\u001b[39m     r.get_path()._interpolation_steps = \u001b[32m100\u001b[39m\n",
      "\u001b[36mFile \u001b[39m\u001b[32m~/.venv/lib/python3.12/site-packages/matplotlib/patches.py:772\u001b[39m, in \u001b[36mRectangle.__init__\u001b[39m\u001b[34m(self, xy, width, height, angle, rotation_point, **kwargs)\u001b[39m\n\u001b[32m    748\u001b[39m \u001b[38;5;129m@_docstring\u001b[39m.interpd\n\u001b[32m    749\u001b[39m \u001b[38;5;28;01mdef\u001b[39;00m\u001b[38;5;250m \u001b[39m\u001b[34m__init__\u001b[39m(\u001b[38;5;28mself\u001b[39m, xy, width, height, *,\n\u001b[32m    750\u001b[39m              angle=\u001b[32m0.0\u001b[39m, rotation_point=\u001b[33m'\u001b[39m\u001b[33mxy\u001b[39m\u001b[33m'\u001b[39m, **kwargs):\n\u001b[32m    751\u001b[39m \u001b[38;5;250m    \u001b[39m\u001b[33;03m\"\"\"\u001b[39;00m\n\u001b[32m    752\u001b[39m \u001b[33;03m    Parameters\u001b[39;00m\n\u001b[32m    753\u001b[39m \u001b[33;03m    ----------\u001b[39;00m\n\u001b[32m   (...)\u001b[39m\u001b[32m    770\u001b[39m \u001b[33;03m        %(Patch:kwdoc)s\u001b[39;00m\n\u001b[32m    771\u001b[39m \u001b[33;03m    \"\"\"\u001b[39;00m\n\u001b[32m--> \u001b[39m\u001b[32m772\u001b[39m     \u001b[38;5;28;43msuper\u001b[39;49m\u001b[43m(\u001b[49m\u001b[43m)\u001b[49m\u001b[43m.\u001b[49m\u001b[34;43m__init__\u001b[39;49m\u001b[43m(\u001b[49m\u001b[43m*\u001b[49m\u001b[43m*\u001b[49m\u001b[43mkwargs\u001b[49m\u001b[43m)\u001b[49m\n\u001b[32m    773\u001b[39m     \u001b[38;5;28mself\u001b[39m._x0 = xy[\u001b[32m0\u001b[39m]\n\u001b[32m    774\u001b[39m     \u001b[38;5;28mself\u001b[39m._y0 = xy[\u001b[32m1\u001b[39m]\n",
      "\u001b[36mFile \u001b[39m\u001b[32m~/.venv/lib/python3.12/site-packages/matplotlib/patches.py:92\u001b[39m, in \u001b[36mPatch.__init__\u001b[39m\u001b[34m(self, edgecolor, facecolor, color, linewidth, linestyle, antialiased, hatch, fill, capstyle, joinstyle, **kwargs)\u001b[39m\n\u001b[32m     89\u001b[39m \u001b[38;5;28mself\u001b[39m._dash_pattern = (\u001b[32m0\u001b[39m, \u001b[38;5;28;01mNone\u001b[39;00m)  \u001b[38;5;66;03m# offset, dash (scaled by linewidth)\u001b[39;00m\n\u001b[32m     91\u001b[39m \u001b[38;5;28mself\u001b[39m.set_linestyle(linestyle)\n\u001b[32m---> \u001b[39m\u001b[32m92\u001b[39m \u001b[38;5;28;43mself\u001b[39;49m\u001b[43m.\u001b[49m\u001b[43mset_linewidth\u001b[49m\u001b[43m(\u001b[49m\u001b[43mlinewidth\u001b[49m\u001b[43m)\u001b[49m\n\u001b[32m     93\u001b[39m \u001b[38;5;28mself\u001b[39m.set_antialiased(antialiased)\n\u001b[32m     94\u001b[39m \u001b[38;5;28mself\u001b[39m.set_hatch(hatch)\n",
      "\u001b[36mFile \u001b[39m\u001b[32m~/.venv/lib/python3.12/site-packages/matplotlib/patches.py:439\u001b[39m, in \u001b[36mPatch.set_linewidth\u001b[39m\u001b[34m(self, w)\u001b[39m\n\u001b[32m    437\u001b[39m \u001b[38;5;28;01mif\u001b[39;00m w \u001b[38;5;129;01mis\u001b[39;00m \u001b[38;5;28;01mNone\u001b[39;00m:\n\u001b[32m    438\u001b[39m     w = mpl.rcParams[\u001b[33m'\u001b[39m\u001b[33mpatch.linewidth\u001b[39m\u001b[33m'\u001b[39m]\n\u001b[32m--> \u001b[39m\u001b[32m439\u001b[39m \u001b[38;5;28mself\u001b[39m._linewidth = \u001b[38;5;28;43mfloat\u001b[39;49m\u001b[43m(\u001b[49m\u001b[43mw\u001b[49m\u001b[43m)\u001b[49m\n\u001b[32m    440\u001b[39m \u001b[38;5;28mself\u001b[39m._dash_pattern = mlines._scale_dashes(\n\u001b[32m    441\u001b[39m     *\u001b[38;5;28mself\u001b[39m._unscaled_dash_pattern, w)\n\u001b[32m    442\u001b[39m \u001b[38;5;28mself\u001b[39m.stale = \u001b[38;5;28;01mTrue\u001b[39;00m\n",
      "\u001b[31mTypeError\u001b[39m: only length-1 arrays can be converted to Python scalars"
     ]
    },
    {
     "data": {
      "image/png": "[encoded data removed]",
      "text/plain": [
       "<Figure size 1200x800 with 2 Axes>"
      ]
     },
     "metadata": {},
     "output_type": "display_data"
    }
   ],
   "source": [
    "# 創建兩張子圖\n",
    "fig, (ax1, ax2) = plt.subplots(2, 1,\n",
    "                figsize=(12, 8),\n",
    "                gridspec_kw={'height_ratios': [2, 1]})\n",
    "\n",
    "# 設定 x 軸時間\n",
    "num = 10\n",
    "date = new_df[\"Date\"].dt.strftime('%Y-%m-%d')\n",
    "\n",
    "# 繪製收盤價\n",
    "ax1.plot(new_df['Close'], label='Close')\n",
    "ax1.set_title(f'{stock_id}')\n",
    "ax1.set_ylabel('Price', color='blue', rotation=0, ha='right')\n",
    "ax1.set_xticks(date[::len(date)//num].index)\n",
    "ax1.set_xticklabels(date[::len(date)//num], rotation=45)\n",
    "\n",
    "# 繪製交易量\n",
    "ax2.bar(new_df.index, new_df['Volume'],  color='green')\n",
    "ax2.set_ylabel('Volume', color='green', rotation=0, ha='right')\n",
    "ax2.set_xticks([]) # 不顯示日期標籤\n",
    "# 若要顯示圖表標籤可以使用以下程式碼\n",
    "# ax2.set_xticks(date[::len(date)//num].index)\n",
    "# ax2.set_xticklabels(date[::len(date)//num], rotation=45)\n",
    "\n",
    "# 讓子圖填充、對齊\n",
    "plt.tight_layout()\n",
    "\n",
    "# 顯示圖表\n",
    "plt.show()\n"
   ]
  },
  {
   "cell_type": "markdown",
   "metadata": {
    "id": "wP1cdFxi6jZi"
   },
   "source": [
    "### 1️⃣5️⃣ 加入技術指標"
   ]
  },
  {
   "cell_type": "code",
   "execution_count": null,
   "metadata": {
    "colab": {
     "base_uri": "https://localhost:8080/",
     "height": 704
    },
    "id": "4n1Mcj8W6jZj",
    "outputId": "ba579961-6121-48b6-bc4a-4261a761d098"
   },
   "outputs": [],
   "source": [
    "# 創建三個子圖\n",
    "fig, (ax1, ax2, ax3) = plt.subplots(3, 1,\n",
    "                    figsize=(12, 8),\n",
    "                    gridspec_kw={'height_ratios': [2, 1, 1]},\n",
    "                    sharex=True)\n",
    "\n",
    "# 設定 x 軸時間\n",
    "num = 10\n",
    "date = new_df[\"Date\"].dt.strftime('%Y-%m-%d')\n",
    "\n",
    "# 繪製收盤價\n",
    "ax1.plot(new_df['Close'], label='Close')\n",
    "# 加入布林通道\n",
    "ax1.plot(new_df['Upper_Band'], alpha=0.5) # alpha 設定透明度\n",
    "ax1.plot(new_df['Lower_Band'], alpha=0.5)\n",
    "ax1.set_title(f'{stock_id}')\n",
    "ax1.set_ylabel('Price', color='blue', rotation=0, ha='right')\n",
    "ax1.set_xticks(date[::len(date)//num].index)\n",
    "ax1.set_xticklabels(date[::len(date)//num])\n",
    "\n",
    "# 繪製交易量\n",
    "ax2.bar(new_df.index, new_df['Volume'], alpha=0.5, color='green')\n",
    "ax2.set_ylabel('Volume', color='green', rotation=0, ha='right')\n",
    "\n",
    "# 繪製技術指標\n",
    "ax3.bar(new_df.index, new_df['MACD_Histogram'], alpha=0.5, color='red')\n",
    "ax3.set_ylabel('MACD', color='red', rotation=0, ha='right')\n",
    "\n",
    "# 調整子圖間的距離\n",
    "plt.tight_layout()\n",
    "\n",
    "# 顯示圖表\n",
    "plt.show()"
   ]
  },
  {
   "cell_type": "markdown",
   "metadata": {
    "id": "VwkCxTjQ6jZj"
   },
   "source": [
    "### 繪製 K 線圖：mplfinance"
   ]
  },
  {
   "cell_type": "markdown",
   "metadata": {
    "id": "IiPOdqum6jZj"
   },
   "source": [
    "### 1️⃣6️⃣ 匯入技術分析繪圖套件"
   ]
  },
  {
   "cell_type": "code",
   "execution_count": null,
   "metadata": {
    "colab": {
     "base_uri": "https://localhost:8080/"
    },
    "id": "XV-5eC7J6jZj",
    "outputId": "80cd8dd7-8490-4cc5-b279-76ae701d2f6e"
   },
   "outputs": [],
   "source": [
    "!pip install mplfinance\n",
    "import mplfinance as mpf"
   ]
  },
  {
   "cell_type": "markdown",
   "metadata": {
    "id": "fTD6AUEu6jZj"
   },
   "source": [
    "### 1️⃣7️⃣ 選擇資料時間"
   ]
  },
  {
   "cell_type": "code",
   "execution_count": null,
   "metadata": {
    "colab": {
     "base_uri": "https://localhost:8080/",
     "height": 361
    },
    "id": "VwL7k6Cv6jZk",
    "outputId": "a4ad6778-202d-4fbf-95eb-92df99d49c66"
   },
   "outputs": [],
   "source": [
    "kplot_df = new_df.set_index('Date')\n",
    "#kplot_df = kplot_df['2024-02-01':'2024-07-29']\n",
    "kplot_df.tail()"
   ]
  },
  {
   "cell_type": "markdown",
   "metadata": {
    "id": "6RhnOe-G6jZk"
   },
   "source": [
    "### 1️⃣8️⃣ 用 mplfinance 繪製 K 線圖"
   ]
  },
  {
   "cell_type": "code",
   "execution_count": null,
   "metadata": {
    "colab": {
     "base_uri": "https://localhost:8080/",
     "height": 592
    },
    "id": "akJ19kJc6jZk",
    "outputId": "fd82dece-4d8d-4692-b205-e0f89c5ae067"
   },
   "outputs": [],
   "source": [
    "mpf.plot(kplot_df, type='candle', title=f'{stock_id}')"
   ]
  },
  {
   "cell_type": "markdown",
   "metadata": {
    "id": "6sJEk9jAVMou"
   },
   "source": [
    "### 1️⃣9️⃣ 加入繪圖設定"
   ]
  },
  {
   "cell_type": "code",
   "execution_count": null,
   "metadata": {
    "colab": {
     "base_uri": "https://localhost:8080/",
     "height": 592
    },
    "id": "4TzXBfDGVW3r",
    "outputId": "249ce007-48c8-473b-d2d8-c3769d7bd318"
   },
   "outputs": [],
   "source": [
    "# 設置繪圖風格\n",
    "my_color = mpf.make_marketcolors(up='r', down='g', inherit=True)\n",
    "my_style = mpf.make_mpf_style(base_mpf_style='default',\n",
    "                marketcolors=my_color)\n",
    "# 使用 mplfinance 繪製 K 線圖\n",
    "mpf.plot(kplot_df, type='candle', style=my_style, title=f'{stock_id}')"
   ]
  },
  {
   "cell_type": "markdown",
   "metadata": {
    "id": "3rJwGtdS7UG4"
   },
   "source": [
    "### 2️⃣0️⃣ 加入子圖"
   ]
  },
  {
   "cell_type": "code",
   "execution_count": null,
   "metadata": {
    "colab": {
     "base_uri": "https://localhost:8080/",
     "height": 589
    },
    "id": "jdoVIo557bkV",
    "outputId": "16a70ff7-05ba-40bd-8534-a173810b3bff"
   },
   "outputs": [],
   "source": [
    "# 設置繪圖風格\n",
    "my_color = mpf.make_marketcolors(up='r', down='g', inherit=True)\n",
    "my_style = mpf.make_mpf_style(base_mpf_style='yahoo',\n",
    "                marketcolors=my_color)\n",
    "\n",
    "# 交易量和技術指標子圖\n",
    "ap = [\n",
    "    # 上軌線\n",
    "    mpf.make_addplot(kplot_df['Upper_Band'], color='red',\n",
    "                      alpha=0.5, linestyle='--'),\n",
    "    # 下軌線\n",
    "    mpf.make_addplot(kplot_df['Lower_Band'], color='red',\n",
    "                     alpha=0.5, linestyle='--'),\n",
    "    # 成交量\n",
    "    mpf.make_addplot(kplot_df['Volume'], panel=1, type='bar',\n",
    "                     color='g', alpha=0.5, ylabel='Volume'),\n",
    "    # MACD\n",
    "    mpf.make_addplot(kplot_df['MACD_Histogram'], panel=2, type='bar',\n",
    "                     color='r', alpha=0.5, ylabel='MACD')\n",
    "]\n",
    "\n",
    "# 使用 mplfinance 繪製 K 線圖\n",
    "mpf.plot(kplot_df, type='candle', addplot=ap,\n",
    "          style=my_style, title=f'{stock_id}')"
   ]
  },
  {
   "cell_type": "markdown",
   "metadata": {
    "id": "e4PrDLnr6jZk"
   },
   "source": [
    "## 4-3 plotly 互動式圖表"
   ]
  },
  {
   "cell_type": "markdown",
   "metadata": {
    "id": "8iMCvlhC6jZk"
   },
   "source": [
    "### 2️⃣1️⃣ 檢視資料"
   ]
  },
  {
   "cell_type": "code",
   "execution_count": null,
   "metadata": {
    "colab": {
     "base_uri": "https://localhost:8080/",
     "height": 361
    },
    "id": "5KV_edR16jZk",
    "outputId": "613ec583-f728-46af-f22a-4c322535598c"
   },
   "outputs": [],
   "source": [
    "bk_df = new_df\n",
    "bk_df.index = bk_df[\"Date\"].dt.strftime('%Y-%m-%d')\n",
    "bk_df.tail()"
   ]
  },
  {
   "cell_type": "markdown",
   "metadata": {
    "id": "w92oS8uX7nJ0"
   },
   "source": [
    "### 2️⃣2️⃣ 匯入 plotly 套件"
   ]
  },
  {
   "cell_type": "code",
   "execution_count": null,
   "metadata": {
    "id": "E1bTHmIU6jZk"
   },
   "outputs": [],
   "source": [
    "import plotly.graph_objects as go"
   ]
  },
  {
   "cell_type": "markdown",
   "metadata": {
    "id": "ADqHxzw0heiE"
   },
   "source": [
    "### 2️⃣3️⃣ 繪製互動式 K 線圖"
   ]
  },
  {
   "cell_type": "code",
   "execution_count": null,
   "metadata": {
    "colab": {
     "base_uri": "https://localhost:8080/",
     "height": 837
    },
    "id": "ewPbIjKshoaS",
    "outputId": "4bb6a0a9-f9bb-4a6c-df18-5f76d2755fcd"
   },
   "outputs": [],
   "source": [
    "# 創建 K 線圖\n",
    "fig = go.Figure(data=[go.Candlestick(x=bk_df.index,\n",
    "            open=bk_df['Open'],\n",
    "            high=bk_df['High'],\n",
    "            low=bk_df['Low'],\n",
    "            close=bk_df['Close'],\n",
    "            increasing_line_color='red',\n",
    "            decreasing_line_color='green')])\n",
    "\n",
    "# 調整寬高\n",
    "fig.update_layout(\n",
    "    height=800,\n",
    "    width=1200\n",
    ")\n",
    "\n",
    "# 顯示圖表\n",
    "fig.show()"
   ]
  },
  {
   "cell_type": "markdown",
   "metadata": {
    "id": "GGlMPq9ciKb3"
   },
   "source": [
    "### 2️⃣4️⃣ 移除非交易日空值\n",
    "解決繪圖不連續問題"
   ]
  },
  {
   "cell_type": "code",
   "execution_count": null,
   "metadata": {
    "colab": {
     "base_uri": "https://localhost:8080/",
     "height": 906
    },
    "id": "_jU6WTXkiWBs",
    "outputId": "e690716c-ac45-48da-ee33-8f4e66d3ff61"
   },
   "outputs": [],
   "source": [
    "# 創建 K 線圖\n",
    "fig = go.Figure(data=[go.Candlestick(x=bk_df.index,\n",
    "            open=bk_df['Open'],\n",
    "            high=bk_df['High'],\n",
    "            low=bk_df['Low'],\n",
    "            close=bk_df['Close'],\n",
    "            increasing_line_color='red',\n",
    "            decreasing_line_color='green')])\n",
    "\n",
    "# 調整寬高\n",
    "fig.update_layout(\n",
    "    height=800,\n",
    "    width=1200\n",
    ")\n",
    "\n",
    "# 移除非交易日空值\n",
    "# 生成該日期範圍內的所有日期\n",
    "all_dates = pd.date_range(start=bk_df.index.min(),\n",
    "              end=bk_df.index.max())\n",
    "# 找出不在資料中的日期\n",
    "breaks = all_dates[~all_dates.isin(bk_df.index)]\n",
    "dt_breaks = breaks.tolist() # 轉換成列表\n",
    "fig.update_xaxes(rangebreaks=[{'values': dt_breaks}])\n",
    "\n",
    "# 顯示圖表\n",
    "fig.show()"
   ]
  },
  {
   "cell_type": "markdown",
   "metadata": {
    "id": "YCqbX0qlxxxy"
   },
   "source": [
    "### 2️⃣5️⃣ 加入懸停十字軸"
   ]
  },
  {
   "cell_type": "code",
   "execution_count": null,
   "metadata": {
    "colab": {
     "base_uri": "https://localhost:8080/",
     "height": 906
    },
    "id": "2gsZYqUkxyZ4",
    "outputId": "50dd57c9-10d4-4ee2-82c8-f051f53e5d4e"
   },
   "outputs": [],
   "source": [
    "# 創建 K 線圖\n",
    "fig = go.Figure(data=[go.Candlestick(x=bk_df.index,\n",
    "            open=bk_df['Open'],\n",
    "            high=bk_df['High'],\n",
    "            low=bk_df['Low'],\n",
    "            close=bk_df['Close'],\n",
    "            increasing_line_color='red',\n",
    "            decreasing_line_color='green')])\n",
    "\n",
    "\n",
    "# 圖表更新-加入懸停十字軸\n",
    "fig.update_xaxes(showspikes=True, spikecolor=\"gray\",\n",
    "                 spikemode=\"across\")\n",
    "fig.update_yaxes(showspikes=True, spikecolor=\"gray\",\n",
    "                 spikemode=\"across\")\n",
    "fig.update_layout(\n",
    "    height=800,\n",
    "    width=1200\n",
    ")\n",
    "\n",
    "\n",
    "# 移除非交易日空值\n",
    "all_dates = pd.date_range(start=bk_df.index.min(), end=bk_df.index.max()) # 生成該日期範圍內的所有日期\n",
    "breaks = all_dates[~all_dates.isin(bk_df.index)] # 找出不在資料中的日期\n",
    "dt_breaks = breaks.tolist() # 轉換成列表\n",
    "fig.update_xaxes(rangebreaks=[{'values': dt_breaks}])\n",
    "\n",
    "fig.show()"
   ]
  },
  {
   "cell_type": "markdown",
   "metadata": {
    "id": "EPqgv3wD7tkB"
   },
   "source": [
    "### 2️⃣6️⃣ 加入技術指標"
   ]
  },
  {
   "cell_type": "code",
   "execution_count": null,
   "metadata": {
    "colab": {
     "base_uri": "https://localhost:8080/",
     "height": 906
    },
    "id": "g7pxE2mT6jZk",
    "outputId": "78634059-275a-48e6-9569-cdf117306162"
   },
   "outputs": [],
   "source": [
    "# 創建 K 線圖\n",
    "fig = go.Figure(data=[go.Candlestick(x=bk_df.index,\n",
    "            open=bk_df['Open'],\n",
    "            high=bk_df['High'],\n",
    "            low=bk_df['Low'],\n",
    "            close=bk_df['Close'],\n",
    "            increasing_line_color='red', decreasing_line_color='green',\n",
    "            name = \"K 線\")])\n",
    "\n",
    "\n",
    "# 布林通道\n",
    "fig.add_trace(go.Scatter(\n",
    "    x=bk_df.index, y=bk_df['Upper_Band'],mode='lines',\n",
    "    line={'color': 'green','dash': 'dash'},name = \"上軌線\"))\n",
    "fig.add_trace(go.Scatter(\n",
    "    x=bk_df.index, y=bk_df['Lower_Band'], mode='lines',\n",
    "    line={'color': 'green', 'dash': 'dash'},name = \"下軌線\"))\n",
    "\n",
    "# 交易量\n",
    "fig.add_trace(go.Bar(\n",
    "    x=bk_df.index, y=bk_df['Volume'], marker={'color': 'green'},\n",
    "      yaxis='y2', name = \"交易量\"))\n",
    "\n",
    "# MACD\n",
    "fig.add_trace(go.Bar(\n",
    "    x=bk_df.index, y=bk_df['MACD_Histogram'], marker={'color': 'red'},\n",
    "      yaxis='y3', name = \"MACD\"))\n",
    "\n",
    "# 加入懸停十字軸\n",
    "fig.update_xaxes(showspikes=True, spikecolor=\"gray\",\n",
    "                 spikemode=\"toaxis\")\n",
    "fig.update_yaxes(showspikes=True, spikecolor=\"gray\",\n",
    "                 spikemode=\"across\")\n",
    "\n",
    "# 更新畫布大小並增加範圍選擇\n",
    "fig.update_layout(\n",
    "    height=800,\n",
    "    yaxis={'domain': [0.35, 1]},\n",
    "    yaxis2={'domain': [0.15, 0.3]},\n",
    "    yaxis3={'domain': [0, 0.15]},\n",
    "    title=f\"{stock_id}\",\n",
    "    xaxis={\n",
    "        # 範圍選擇格\n",
    "        'rangeselector': {\n",
    "            'buttons': [\n",
    "                {'count': 1, 'label': '1M',\n",
    "                  'step': 'month', 'stepmode': 'backward'},\n",
    "                {'count': 6, 'label': '6M',\n",
    "                  'step': 'month', 'stepmode': 'backward'},\n",
    "                {'count': 1, 'label': '1Y',\n",
    "                  'step': 'year', 'stepmode': 'backward'},\n",
    "                {'step': 'all'}\n",
    "            ]\n",
    "        },\n",
    "        # 範圍滑動條\n",
    "        'rangeslider': {\n",
    "            'visible': True,\n",
    "            # 滑動條的高度 (設置 0.01 就會變單純的 bar)\n",
    "            'thickness': 0.01,\n",
    "            'bgcolor': \"#E4E4E4\"  # 背景色\n",
    "        },\n",
    "        'type': 'date'\n",
    "    }\n",
    ")\n",
    "\n",
    "\n",
    "# 移除非交易日空值\n",
    "all_dates = pd.date_range(start=bk_df.index.min(), end=bk_df.index.max()) # 生成該日期範圍內的所有日期\n",
    "breaks = all_dates[~all_dates.isin(bk_df.index)] # 找出不在資料中的日期\n",
    "dt_breaks = breaks.tolist() # 轉換成列表\n",
    "fig.update_xaxes(rangebreaks=[{'values': dt_breaks}])\n",
    "\n",
    "fig.show()"
   ]
  },
  {
   "cell_type": "markdown",
   "metadata": {
    "id": "eAvzJbpC6jZl"
   },
   "source": [
    "### 2️⃣7️⃣ 寫成函式"
   ]
  },
  {
   "cell_type": "code",
   "execution_count": null,
   "metadata": {
    "id": "Z6dGZTr66jZl"
   },
   "outputs": [],
   "source": [
    "# 下載資料並讓 AI 計算指標\n",
    "def download_stock_data(stock_id, start=None,\n",
    "                        end=None, indicator='MACD'):\n",
    "    stock_id = f\"{stock_id}.tw\"\n",
    "    if not end:\n",
    "        end = dt.date.today()\n",
    "    if not start:\n",
    "        start = end - dt.timedelta(days=365)\n",
    "    # 從 yf 下載資料\n",
    "    df = yf.download(stock_id, start=start, end=end).reset_index()\n",
    "\n",
    "    # AI 計算技術指標\n",
    "    code_str = ai_helper(df, f\"計算{indicator}\")\n",
    "    code_str=code_str.replace('```','')\n",
    "    code_str=code_str.replace('python','')\n",
    "    print(code_str)\n",
    "\n",
    "    # 將 exec 生成的 calculate 設為局部變數\n",
    "    local_vars = {}\n",
    "    exec(code_str, globals(), local_vars)\n",
    "    calculate = local_vars['calculate']\n",
    "\n",
    "    df = calculate(df)\n",
    "\n",
    "    # 資料處理\n",
    "    bk_df = df.reset_index()\n",
    "    bk_df.index = bk_df[\"Date\"].dt.strftime('%Y-%m-%d')\n",
    "\n",
    "    return bk_df\n",
    "\n",
    "# 繪製圖表函式\n",
    "def create_stock_figure(stock_id, bk_df):\n",
    "\n",
    "    # 創建 K 線圖\n",
    "    fig = go.Figure(data=[go.Candlestick(x=bk_df.index,\n",
    "                        open=bk_df['Open'],\n",
    "                        high=bk_df['High'],\n",
    "                        low=bk_df['Low'],\n",
    "                        close=bk_df['Close'],\n",
    "                        increasing_line_color='red',\n",
    "                        decreasing_line_color='green',\n",
    "                        name = \"K 線\")])\n",
    "\n",
    "    # 交易量\n",
    "    fig.add_trace(go.Bar(x=bk_df.index, y=bk_df['Volume'],\n",
    "                         marker={'color': 'green'}, yaxis='y2',\n",
    "                           name = \"交易量\"))\n",
    "\n",
    "    # 找出需要繪製的欄位\n",
    "    columns = bk_df.columns\n",
    "    exclude_columns = ['index','Date', 'Open', 'High',\n",
    "                        'Low', 'Close', 'Adj Close', 'Volume']\n",
    "    remain_columns = [col for col in columns if\n",
    "                       col not in exclude_columns]\n",
    "    min_close = bk_df['Close'].min() - bk_df['Close'].std()\n",
    "    max_close = bk_df['Close'].max() + bk_df['Close'].std()\n",
    "    # 繪製技術指標\n",
    "    for i in remain_columns:\n",
    "      if min_close <= bk_df[i].mean() <= max_close:\n",
    "        fig.add_trace(go.Scatter(x=bk_df.index, y=bk_df[i],\n",
    "                                  mode='lines', name=i))\n",
    "      else:\n",
    "        fig.add_trace(go.Scatter(x=bk_df.index, y=bk_df[i],\n",
    "                                  mode='lines', yaxis='y3', name=i))\n",
    "\n",
    "    # 加入懸停十字軸\n",
    "    fig.update_xaxes(showspikes=True, spikecolor=\"gray\",\n",
    "                    spikemode=\"toaxis\")\n",
    "    fig.update_yaxes(showspikes=True, spikecolor=\"gray\",\n",
    "                    spikemode=\"across\")\n",
    "    # 更新畫布大小並增加範圍選擇\n",
    "    fig.update_layout(\n",
    "        height=800,\n",
    "        width=1200,\n",
    "        yaxis={'domain': [0.35, 1]},\n",
    "        yaxis2={'domain': [0.15, 0.3]},\n",
    "        # 若要重疊 y1 和 y3, 可以改成\n",
    "        # yaxis3=dict(overlaying='y', side='right')\n",
    "        yaxis3={'domain': [0, 0.15]},\n",
    "        title=f\"{stock_id}\",\n",
    "        xaxis={\n",
    "            # 範圍選擇格\n",
    "            'rangeselector': {\n",
    "                'buttons': [\n",
    "                    {'count': 1, 'label': '1M',\n",
    "                      'step': 'month', 'stepmode': 'backward'},\n",
    "                    {'count': 6, 'label': '6M',\n",
    "                      'step': 'month', 'stepmode': 'backward'},\n",
    "                    {'count': 1, 'label': '1Y',\n",
    "                      'step': 'year', 'stepmode': 'backward'},\n",
    "                    {'step': 'all'}\n",
    "                ]\n",
    "            },\n",
    "            # 範圍滑動條\n",
    "            'rangeslider': {\n",
    "                'visible': True,\n",
    "                'thickness': 0.01,  # 滑動條的高度\n",
    "                'bgcolor': \"#E4E4E4\"  # 背景色\n",
    "            },\n",
    "            'type': 'date'\n",
    "        }\n",
    "    )\n",
    "\n",
    "    # 移除非交易日空值\n",
    "    # 生成該日期範圍內的所有日期\n",
    "    all_dates = pd.date_range(start=bk_df.index.min(),\n",
    "                               end=bk_df.index.max())\n",
    "    # 找出不在資料中的日期\n",
    "    breaks = all_dates[~all_dates.isin(bk_df.index)]\n",
    "    dt_breaks = breaks.tolist() # 轉換成列表格式\n",
    "    fig.update_xaxes(rangebreaks=[{'values': dt_breaks}])\n",
    "\n",
    "    return fig\n",
    "\n",
    "# 主函式\n",
    "def plotly_stock(stock_id, start=None, end=None, indicator='MACD'):\n",
    "\n",
    "  df = download_stock_data(stock_id, start, end, indicator)\n",
    "  fig = create_stock_figure(stock_id,df)\n",
    "  fig.show()"
   ]
  },
  {
   "cell_type": "markdown",
   "metadata": {
    "id": "S9Yz0SC86jZl"
   },
   "source": [
    "### 2️⃣8️⃣ 執行函式"
   ]
  },
  {
   "cell_type": "code",
   "execution_count": null,
   "metadata": {
    "colab": {
     "base_uri": "https://localhost:8080/",
     "height": 1000
    },
    "id": "XbiTa4ns6jZl",
    "outputId": "57a70281-5f22-462a-d3e1-89b99c2c670d"
   },
   "outputs": [],
   "source": [
    "plotly_stock(\"2317\", start='2022-01-01', end= None,\n",
    "             indicator='布林通道 及 MACD')"
   ]
  }
 ],
 "metadata": {
  "colab": {
   "provenance": []
  },
  "kernelspec": {
   "display_name": "Python 3 (ipykernel)",
   "language": "python",
   "name": "python3"
  },
  "language_info": {
   "codemirror_mode": {
    "name": "ipython",
    "version": 3
   },
   "file_extension": ".py",
   "mimetype": "text/x-python",
   "name": "python",
   "nbconvert_exporter": "python",
   "pygments_lexer": "ipython3",
   "version": "3.12.3"
  }
 },
 "nbformat": 4,
 "nbformat_minor": 4
}
