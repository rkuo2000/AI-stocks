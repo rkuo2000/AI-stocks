{
  "cells": [
    {
      "cell_type": "markdown",
      "metadata": {
        "id": "0m006lg2aBlo"
      },
      "source": [
        "# CH-07 年報問答機器人"
      ]
    },
    {
      "cell_type": "markdown",
      "metadata": {
        "id": "aDeujD32ClKr"
      },
      "source": [
        "## 7-2 取得年報"
      ]
    },
    {
      "cell_type": "markdown",
      "metadata": {
        "id": "r9LdYpop4TP4"
      },
      "source": [
        "### 1️⃣  匯入套件"
      ]
    },
    {
      "cell_type": "code",
      "execution_count": null,
      "metadata": {
        "id": "DMJyrZh6Z89A"
      },
      "outputs": [],
      "source": [
        "import requests\n",
        "from bs4 import BeautifulSoup"
      ]
    },
    {
      "cell_type": "markdown",
      "metadata": {
        "id": "T05v3t_u4gxF"
      },
      "source": [
        "### 2️⃣ 建立函式-取得年報"
      ]
    },
    {
      "cell_type": "code",
      "execution_count": null,
      "metadata": {
        "id": "RswezCvohjXv"
      },
      "outputs": [],
      "source": [
        "def annual_report(id,y):\n",
        "  url = 'https://doc.twse.com.tw/server-java/t57sb01'\n",
        "  # 建立 POST 請求的表單\n",
        "  data = {\n",
        "      \"id\":\"\",\n",
        "      \"key\":\"\",\n",
        "      \"step\":\"1\",\n",
        "      \"co_id\":id,\n",
        "      \"year\":y,\n",
        "      \"seamon\":\"\",\n",
        "      \"mtype\":'F',\n",
        "      \"dtype\":'F04'\n",
        "  }\n",
        "  try:\n",
        "    # 發送 POST 請求\n",
        "    response = requests.post(url, data=data)\n",
        "    # 取得回應後擷取檔案名稱\n",
        "    link=BeautifulSoup(response.text, 'html.parser')\n",
        "    link1=link.find('a').text\n",
        "    print(link1)\n",
        "  except Exception as e:\n",
        "    print(f\"發生{e}錯誤\")\n",
        "  # 建立第二個 POST 請求的表單\n",
        "  data2 = {\n",
        "      'step':'9',\n",
        "      'kind':'F',\n",
        "      'co_id':id,\n",
        "      'filename':link1 # 檔案名稱\n",
        "  }\n",
        "  try:\n",
        "    # 發送 POST 請求\n",
        "    response = requests.post(url, data=data2)\n",
        "    link=BeautifulSoup(response.text, 'html.parser')\n",
        "    link1=link.find('a')\n",
        "    # 取得 PDF 連結\n",
        "    link2 = link1.get('href')\n",
        "    print(link2)\n",
        "  except Exception as e:\n",
        "    print(f\"發生{e}錯誤\")\n",
        "  # 發送 GET 請求\n",
        "  try:\n",
        "    response = requests.get('https://doc.twse.com.tw' + link2)\n",
        "    # 取得 PDF 資料\n",
        "    with open(y + '_' + id + '.pdf', 'wb') as file:\n",
        "        file.write(response.content)\n",
        "    print('OK')\n",
        "  except Exception as e:\n",
        "    print(f\"發生{e}錯誤\")"
      ]
    },
    {
      "cell_type": "markdown",
      "metadata": {
        "id": "3e2fZDvP4j7U"
      },
      "source": [
        "### 3️⃣ 呼叫函式"
      ]
    },
    {
      "cell_type": "code",
      "execution_count": null,
      "metadata": {
        "colab": {
          "base_uri": "https://localhost:8080/"
        },
        "id": "IhWwMVnSNnCW",
        "outputId": "1f29cf7c-6f40-4502-8efc-dc7c44113fcf"
      },
      "outputs": [
        {
          "output_type": "stream",
          "name": "stdout",
          "text": [
            "2023_2330_20240604F04.pdf\n",
            "/pdf/2023_2330_20240604F04_20250211_142706.pdf\n",
            "OK\n"
          ]
        }
      ],
      "source": [
        "annual_report('2330','113')"
      ]
    },
    {
      "cell_type": "markdown",
      "metadata": {
        "id": "8llLs86CFIwr"
      },
      "source": [
        "## 7-3 年報問答"
      ]
    },
    {
      "cell_type": "markdown",
      "source": [
        "langchain 以更新至新版寫法，舊版可參考：\n",
        "https://colab.research.google.com/drive/16x0mUitJjH0PZx7kk2Kew2MSlkB9G_lA"
      ],
      "metadata": {
        "id": "YuNOeoW0t5Mm"
      }
    },
    {
      "cell_type": "markdown",
      "metadata": {
        "id": "eNeEBVGe4nm-"
      },
      "source": [
        "###4️⃣ 安裝相關套件"
      ]
    },
    {
      "cell_type": "code",
      "execution_count": null,
      "metadata": {
        "colab": {
          "base_uri": "https://localhost:8080/"
        },
        "id": "kUn2DtL56u-K",
        "outputId": "05d06ea8-a156-4a31-e985-7cadbc3771ac"
      },
      "outputs": [
        {
          "output_type": "stream",
          "name": "stdout",
          "text": [
            "Collecting pdfplumber\n",
            "  Downloading pdfplumber-0.11.5-py3-none-any.whl.metadata (42 kB)\n",
            "\u001b[?25l     \u001b[90m━━━━━━━━━━━━━━━━━━━━━━━━━━━━━━━━━━━━━━━━\u001b[0m \u001b[32m0.0/42.5 kB\u001b[0m \u001b[31m?\u001b[0m eta \u001b[36m-:--:--\u001b[0m\r\u001b[2K     \u001b[90m━━━━━━━━━━━━━━━━━━━━━━━━━━━━━━━━━━━━━━━━\u001b[0m \u001b[32m42.5/42.5 kB\u001b[0m \u001b[31m1.8 MB/s\u001b[0m eta \u001b[36m0:00:00\u001b[0m\n",
            "\u001b[?25hRequirement already satisfied: langchain in /usr/local/lib/python3.11/dist-packages (0.3.17)\n",
            "Collecting langchain_openai\n",
            "  Downloading langchain_openai-0.3.4-py3-none-any.whl.metadata (2.3 kB)\n",
            "Collecting langchain_community\n",
            "  Downloading langchain_community-0.3.17-py3-none-any.whl.metadata (2.4 kB)\n",
            "Collecting pdfminer.six==20231228 (from pdfplumber)\n",
            "  Downloading pdfminer.six-20231228-py3-none-any.whl.metadata (4.2 kB)\n",
            "Requirement already satisfied: Pillow>=9.1 in /usr/local/lib/python3.11/dist-packages (from pdfplumber) (11.1.0)\n",
            "Collecting pypdfium2>=4.18.0 (from pdfplumber)\n",
            "  Downloading pypdfium2-4.30.1-py3-none-manylinux_2_17_x86_64.manylinux2014_x86_64.whl.metadata (48 kB)\n",
            "\u001b[2K     \u001b[90m━━━━━━━━━━━━━━━━━━━━━━━━━━━━━━━━━━━━━━━━\u001b[0m \u001b[32m48.2/48.2 kB\u001b[0m \u001b[31m3.3 MB/s\u001b[0m eta \u001b[36m0:00:00\u001b[0m\n",
            "\u001b[?25hRequirement already satisfied: charset-normalizer>=2.0.0 in /usr/local/lib/python3.11/dist-packages (from pdfminer.six==20231228->pdfplumber) (3.4.1)\n",
            "Requirement already satisfied: cryptography>=36.0.0 in /usr/local/lib/python3.11/dist-packages (from pdfminer.six==20231228->pdfplumber) (43.0.3)\n",
            "Requirement already satisfied: PyYAML>=5.3 in /usr/local/lib/python3.11/dist-packages (from langchain) (6.0.2)\n",
            "Requirement already satisfied: SQLAlchemy<3,>=1.4 in /usr/local/lib/python3.11/dist-packages (from langchain) (2.0.37)\n",
            "Requirement already satisfied: aiohttp<4.0.0,>=3.8.3 in /usr/local/lib/python3.11/dist-packages (from langchain) (3.11.12)\n",
            "Requirement already satisfied: langchain-core<0.4.0,>=0.3.33 in /usr/local/lib/python3.11/dist-packages (from langchain) (0.3.33)\n",
            "Requirement already satisfied: langchain-text-splitters<0.4.0,>=0.3.3 in /usr/local/lib/python3.11/dist-packages (from langchain) (0.3.5)\n",
            "Requirement already satisfied: langsmith<0.4,>=0.1.17 in /usr/local/lib/python3.11/dist-packages (from langchain) (0.3.6)\n",
            "Requirement already satisfied: numpy<2,>=1.22.4 in /usr/local/lib/python3.11/dist-packages (from langchain) (1.26.4)\n",
            "Requirement already satisfied: pydantic<3.0.0,>=2.7.4 in /usr/local/lib/python3.11/dist-packages (from langchain) (2.10.6)\n",
            "Requirement already satisfied: requests<3,>=2 in /usr/local/lib/python3.11/dist-packages (from langchain) (2.32.3)\n",
            "Requirement already satisfied: tenacity!=8.4.0,<10,>=8.1.0 in /usr/local/lib/python3.11/dist-packages (from langchain) (9.0.0)\n",
            "Collecting langchain-core<0.4.0,>=0.3.33 (from langchain)\n",
            "  Downloading langchain_core-0.3.34-py3-none-any.whl.metadata (5.9 kB)\n",
            "Requirement already satisfied: openai<2.0.0,>=1.58.1 in /usr/local/lib/python3.11/dist-packages (from langchain_openai) (1.61.1)\n",
            "Collecting tiktoken<1,>=0.7 (from langchain_openai)\n",
            "  Downloading tiktoken-0.8.0-cp311-cp311-manylinux_2_17_x86_64.manylinux2014_x86_64.whl.metadata (6.6 kB)\n",
            "Collecting langchain\n",
            "  Downloading langchain-0.3.18-py3-none-any.whl.metadata (7.8 kB)\n",
            "Collecting dataclasses-json<0.7,>=0.5.7 (from langchain_community)\n",
            "  Downloading dataclasses_json-0.6.7-py3-none-any.whl.metadata (25 kB)\n",
            "Collecting pydantic-settings<3.0.0,>=2.4.0 (from langchain_community)\n",
            "  Downloading pydantic_settings-2.7.1-py3-none-any.whl.metadata (3.5 kB)\n",
            "Collecting httpx-sse<1.0.0,>=0.4.0 (from langchain_community)\n",
            "  Downloading httpx_sse-0.4.0-py3-none-any.whl.metadata (9.0 kB)\n",
            "Collecting langchain-text-splitters<1.0.0,>=0.3.6 (from langchain)\n",
            "  Downloading langchain_text_splitters-0.3.6-py3-none-any.whl.metadata (1.9 kB)\n",
            "Requirement already satisfied: aiohappyeyeballs>=2.3.0 in /usr/local/lib/python3.11/dist-packages (from aiohttp<4.0.0,>=3.8.3->langchain) (2.4.4)\n",
            "Requirement already satisfied: aiosignal>=1.1.2 in /usr/local/lib/python3.11/dist-packages (from aiohttp<4.0.0,>=3.8.3->langchain) (1.3.2)\n",
            "Requirement already satisfied: attrs>=17.3.0 in /usr/local/lib/python3.11/dist-packages (from aiohttp<4.0.0,>=3.8.3->langchain) (25.1.0)\n",
            "Requirement already satisfied: frozenlist>=1.1.1 in /usr/local/lib/python3.11/dist-packages (from aiohttp<4.0.0,>=3.8.3->langchain) (1.5.0)\n",
            "Requirement already satisfied: multidict<7.0,>=4.5 in /usr/local/lib/python3.11/dist-packages (from aiohttp<4.0.0,>=3.8.3->langchain) (6.1.0)\n",
            "Requirement already satisfied: propcache>=0.2.0 in /usr/local/lib/python3.11/dist-packages (from aiohttp<4.0.0,>=3.8.3->langchain) (0.2.1)\n",
            "Requirement already satisfied: yarl<2.0,>=1.17.0 in /usr/local/lib/python3.11/dist-packages (from aiohttp<4.0.0,>=3.8.3->langchain) (1.18.3)\n",
            "Collecting marshmallow<4.0.0,>=3.18.0 (from dataclasses-json<0.7,>=0.5.7->langchain_community)\n",
            "  Downloading marshmallow-3.26.1-py3-none-any.whl.metadata (7.3 kB)\n",
            "Collecting typing-inspect<1,>=0.4.0 (from dataclasses-json<0.7,>=0.5.7->langchain_community)\n",
            "  Downloading typing_inspect-0.9.0-py3-none-any.whl.metadata (1.5 kB)\n",
            "Requirement already satisfied: jsonpatch<2.0,>=1.33 in /usr/local/lib/python3.11/dist-packages (from langchain-core<0.4.0,>=0.3.33->langchain) (1.33)\n",
            "Requirement already satisfied: packaging<25,>=23.2 in /usr/local/lib/python3.11/dist-packages (from langchain-core<0.4.0,>=0.3.33->langchain) (24.2)\n",
            "Requirement already satisfied: typing-extensions>=4.7 in /usr/local/lib/python3.11/dist-packages (from langchain-core<0.4.0,>=0.3.33->langchain) (4.12.2)\n",
            "Requirement already satisfied: httpx<1,>=0.23.0 in /usr/local/lib/python3.11/dist-packages (from langsmith<0.4,>=0.1.17->langchain) (0.28.1)\n",
            "Requirement already satisfied: orjson<4.0.0,>=3.9.14 in /usr/local/lib/python3.11/dist-packages (from langsmith<0.4,>=0.1.17->langchain) (3.10.15)\n",
            "Requirement already satisfied: requests-toolbelt<2.0.0,>=1.0.0 in /usr/local/lib/python3.11/dist-packages (from langsmith<0.4,>=0.1.17->langchain) (1.0.0)\n",
            "Requirement already satisfied: zstandard<0.24.0,>=0.23.0 in /usr/local/lib/python3.11/dist-packages (from langsmith<0.4,>=0.1.17->langchain) (0.23.0)\n",
            "Requirement already satisfied: anyio<5,>=3.5.0 in /usr/local/lib/python3.11/dist-packages (from openai<2.0.0,>=1.58.1->langchain_openai) (3.7.1)\n",
            "Requirement already satisfied: distro<2,>=1.7.0 in /usr/local/lib/python3.11/dist-packages (from openai<2.0.0,>=1.58.1->langchain_openai) (1.9.0)\n",
            "Requirement already satisfied: jiter<1,>=0.4.0 in /usr/local/lib/python3.11/dist-packages (from openai<2.0.0,>=1.58.1->langchain_openai) (0.8.2)\n",
            "Requirement already satisfied: sniffio in /usr/local/lib/python3.11/dist-packages (from openai<2.0.0,>=1.58.1->langchain_openai) (1.3.1)\n",
            "Requirement already satisfied: tqdm>4 in /usr/local/lib/python3.11/dist-packages (from openai<2.0.0,>=1.58.1->langchain_openai) (4.67.1)\n",
            "Requirement already satisfied: annotated-types>=0.6.0 in /usr/local/lib/python3.11/dist-packages (from pydantic<3.0.0,>=2.7.4->langchain) (0.7.0)\n",
            "Requirement already satisfied: pydantic-core==2.27.2 in /usr/local/lib/python3.11/dist-packages (from pydantic<3.0.0,>=2.7.4->langchain) (2.27.2)\n",
            "Collecting python-dotenv>=0.21.0 (from pydantic-settings<3.0.0,>=2.4.0->langchain_community)\n",
            "  Downloading python_dotenv-1.0.1-py3-none-any.whl.metadata (23 kB)\n",
            "Requirement already satisfied: idna<4,>=2.5 in /usr/local/lib/python3.11/dist-packages (from requests<3,>=2->langchain) (3.10)\n",
            "Requirement already satisfied: urllib3<3,>=1.21.1 in /usr/local/lib/python3.11/dist-packages (from requests<3,>=2->langchain) (2.3.0)\n",
            "Requirement already satisfied: certifi>=2017.4.17 in /usr/local/lib/python3.11/dist-packages (from requests<3,>=2->langchain) (2025.1.31)\n",
            "Requirement already satisfied: greenlet!=0.4.17 in /usr/local/lib/python3.11/dist-packages (from SQLAlchemy<3,>=1.4->langchain) (3.1.1)\n",
            "Requirement already satisfied: regex>=2022.1.18 in /usr/local/lib/python3.11/dist-packages (from tiktoken<1,>=0.7->langchain_openai) (2024.11.6)\n",
            "Requirement already satisfied: cffi>=1.12 in /usr/local/lib/python3.11/dist-packages (from cryptography>=36.0.0->pdfminer.six==20231228->pdfplumber) (1.17.1)\n",
            "Requirement already satisfied: httpcore==1.* in /usr/local/lib/python3.11/dist-packages (from httpx<1,>=0.23.0->langsmith<0.4,>=0.1.17->langchain) (1.0.7)\n",
            "Requirement already satisfied: h11<0.15,>=0.13 in /usr/local/lib/python3.11/dist-packages (from httpcore==1.*->httpx<1,>=0.23.0->langsmith<0.4,>=0.1.17->langchain) (0.14.0)\n",
            "Requirement already satisfied: jsonpointer>=1.9 in /usr/local/lib/python3.11/dist-packages (from jsonpatch<2.0,>=1.33->langchain-core<0.4.0,>=0.3.33->langchain) (3.0.0)\n",
            "Collecting mypy-extensions>=0.3.0 (from typing-inspect<1,>=0.4.0->dataclasses-json<0.7,>=0.5.7->langchain_community)\n",
            "  Downloading mypy_extensions-1.0.0-py3-none-any.whl.metadata (1.1 kB)\n",
            "Requirement already satisfied: pycparser in /usr/local/lib/python3.11/dist-packages (from cffi>=1.12->cryptography>=36.0.0->pdfminer.six==20231228->pdfplumber) (2.22)\n",
            "Downloading pdfplumber-0.11.5-py3-none-any.whl (59 kB)\n",
            "\u001b[2K   \u001b[90m━━━━━━━━━━━━━━━━━━━━━━━━━━━━━━━━━━━━━━━━\u001b[0m \u001b[32m59.5/59.5 kB\u001b[0m \u001b[31m4.9 MB/s\u001b[0m eta \u001b[36m0:00:00\u001b[0m\n",
            "\u001b[?25hDownloading pdfminer.six-20231228-py3-none-any.whl (5.6 MB)\n",
            "\u001b[2K   \u001b[90m━━━━━━━━━━━━━━━━━━━━━━━━━━━━━━━━━━━━━━━━\u001b[0m \u001b[32m5.6/5.6 MB\u001b[0m \u001b[31m58.0 MB/s\u001b[0m eta \u001b[36m0:00:00\u001b[0m\n",
            "\u001b[?25hDownloading langchain_openai-0.3.4-py3-none-any.whl (54 kB)\n",
            "\u001b[2K   \u001b[90m━━━━━━━━━━━━━━━━━━━━━━━━━━━━━━━━━━━━━━━━\u001b[0m \u001b[32m54.7/54.7 kB\u001b[0m \u001b[31m4.3 MB/s\u001b[0m eta \u001b[36m0:00:00\u001b[0m\n",
            "\u001b[?25hDownloading langchain_community-0.3.17-py3-none-any.whl (2.5 MB)\n",
            "\u001b[2K   \u001b[90m━━━━━━━━━━━━━━━━━━━━━━━━━━━━━━━━━━━━━━━━\u001b[0m \u001b[32m2.5/2.5 MB\u001b[0m \u001b[31m76.8 MB/s\u001b[0m eta \u001b[36m0:00:00\u001b[0m\n",
            "\u001b[?25hDownloading langchain-0.3.18-py3-none-any.whl (1.0 MB)\n",
            "\u001b[2K   \u001b[90m━━━━━━━━━━━━━━━━━━━━━━━━━━━━━━━━━━━━━━━━\u001b[0m \u001b[32m1.0/1.0 MB\u001b[0m \u001b[31m48.0 MB/s\u001b[0m eta \u001b[36m0:00:00\u001b[0m\n",
            "\u001b[?25hDownloading dataclasses_json-0.6.7-py3-none-any.whl (28 kB)\n",
            "Downloading httpx_sse-0.4.0-py3-none-any.whl (7.8 kB)\n",
            "Downloading langchain_core-0.3.34-py3-none-any.whl (412 kB)\n",
            "\u001b[2K   \u001b[90m━━━━━━━━━━━━━━━━━━━━━━━━━━━━━━━━━━━━━━━━\u001b[0m \u001b[32m413.0/413.0 kB\u001b[0m \u001b[31m28.4 MB/s\u001b[0m eta \u001b[36m0:00:00\u001b[0m\n",
            "\u001b[?25hDownloading langchain_text_splitters-0.3.6-py3-none-any.whl (31 kB)\n",
            "Downloading pydantic_settings-2.7.1-py3-none-any.whl (29 kB)\n",
            "Downloading pypdfium2-4.30.1-py3-none-manylinux_2_17_x86_64.manylinux2014_x86_64.whl (2.9 MB)\n",
            "\u001b[2K   \u001b[90m━━━━━━━━━━━━━━━━━━━━━━━━━━━━━━━━━━━━━━━━\u001b[0m \u001b[32m2.9/2.9 MB\u001b[0m \u001b[31m77.8 MB/s\u001b[0m eta \u001b[36m0:00:00\u001b[0m\n",
            "\u001b[?25hDownloading tiktoken-0.8.0-cp311-cp311-manylinux_2_17_x86_64.manylinux2014_x86_64.whl (1.2 MB)\n",
            "\u001b[2K   \u001b[90m━━━━━━━━━━━━━━━━━━━━━━━━━━━━━━━━━━━━━━━━\u001b[0m \u001b[32m1.2/1.2 MB\u001b[0m \u001b[31m56.5 MB/s\u001b[0m eta \u001b[36m0:00:00\u001b[0m\n",
            "\u001b[?25hDownloading marshmallow-3.26.1-py3-none-any.whl (50 kB)\n",
            "\u001b[2K   \u001b[90m━━━━━━━━━━━━━━━━━━━━━━━━━━━━━━━━━━━━━━━━\u001b[0m \u001b[32m50.9/50.9 kB\u001b[0m \u001b[31m4.3 MB/s\u001b[0m eta \u001b[36m0:00:00\u001b[0m\n",
            "\u001b[?25hDownloading python_dotenv-1.0.1-py3-none-any.whl (19 kB)\n",
            "Downloading typing_inspect-0.9.0-py3-none-any.whl (8.8 kB)\n",
            "Downloading mypy_extensions-1.0.0-py3-none-any.whl (4.7 kB)\n",
            "Installing collected packages: python-dotenv, pypdfium2, mypy-extensions, marshmallow, httpx-sse, typing-inspect, tiktoken, pydantic-settings, pdfminer.six, dataclasses-json, pdfplumber, langchain-core, langchain-text-splitters, langchain_openai, langchain, langchain_community\n",
            "  Attempting uninstall: langchain-core\n",
            "    Found existing installation: langchain-core 0.3.33\n",
            "    Uninstalling langchain-core-0.3.33:\n",
            "      Successfully uninstalled langchain-core-0.3.33\n",
            "  Attempting uninstall: langchain-text-splitters\n",
            "    Found existing installation: langchain-text-splitters 0.3.5\n",
            "    Uninstalling langchain-text-splitters-0.3.5:\n",
            "      Successfully uninstalled langchain-text-splitters-0.3.5\n",
            "  Attempting uninstall: langchain\n",
            "    Found existing installation: langchain 0.3.17\n",
            "    Uninstalling langchain-0.3.17:\n",
            "      Successfully uninstalled langchain-0.3.17\n",
            "Successfully installed dataclasses-json-0.6.7 httpx-sse-0.4.0 langchain-0.3.18 langchain-core-0.3.34 langchain-text-splitters-0.3.6 langchain_community-0.3.17 langchain_openai-0.3.4 marshmallow-3.26.1 mypy-extensions-1.0.0 pdfminer.six-20231228 pdfplumber-0.11.5 pydantic-settings-2.7.1 pypdfium2-4.30.1 python-dotenv-1.0.1 tiktoken-0.8.0 typing-inspect-0.9.0\n"
          ]
        }
      ],
      "source": [
        "!pip install pdfplumber langchain langchain_openai langchain_community"
      ]
    },
    {
      "cell_type": "markdown",
      "metadata": {
        "id": "VceyfBhx4qRW"
      },
      "source": [
        "###  5️⃣ 匯入相關套件"
      ]
    },
    {
      "cell_type": "code",
      "execution_count": null,
      "metadata": {
        "id": "G4fv5tYU60ux"
      },
      "outputs": [],
      "source": [
        "import os\n",
        "import getpass\n",
        "from langchain_community.document_loaders import PDFPlumberLoader\n",
        "from langchain.text_splitter import RecursiveCharacterTextSplitter\n",
        "from langchain_community.vectorstores import InMemoryVectorStore\n",
        "from langchain_openai import OpenAIEmbeddings, ChatOpenAI"
      ]
    },
    {
      "cell_type": "markdown",
      "metadata": {
        "id": "OC-KWjg54sh2"
      },
      "source": [
        "### 6️⃣ 設定環境變數和建立 OpenAI 模型"
      ]
    },
    {
      "cell_type": "code",
      "execution_count": null,
      "metadata": {
        "colab": {
          "base_uri": "https://localhost:8080/"
        },
        "id": "UNjmx9zCGEV9",
        "outputId": "1b864026-2065-4ed4-a3e8-ba16f3e6b488"
      },
      "outputs": [
        {
          "name": "stdout",
          "output_type": "stream",
          "text": [
            "OpenAI API Key:··········\n"
          ]
        }
      ],
      "source": [
        "os.environ['OPENAI_API_KEY'] = getpass.getpass('OpenAI API Key:')\n",
        "llm_model = ChatOpenAI(model=\"gpt-4o\")"
      ]
    },
    {
      "cell_type": "markdown",
      "metadata": {
        "id": "q4axN95S4u2F"
      },
      "source": [
        "### 7️⃣ 建立函式-建立向量資料庫"
      ]
    },
    {
      "cell_type": "code",
      "execution_count": null,
      "metadata": {
        "id": "vpsrgVqTPsNn"
      },
      "outputs": [],
      "source": [
        "def build_vector_db(file_path, size, overlap):\n",
        "    loader = PDFPlumberLoader(file_path)\n",
        "    doc = loader.load()\n",
        "    text_splitter = RecursiveCharacterTextSplitter(\n",
        "        chunk_size=size,\n",
        "        chunk_overlap=overlap)\n",
        "    docs = text_splitter.split_documents(doc)\n",
        "    db = InMemoryVectorStore.from_documents(docs, OpenAIEmbeddings())\n",
        "    return db"
      ]
    },
    {
      "cell_type": "markdown",
      "metadata": {
        "id": "nkM4Wymz4xld"
      },
      "source": [
        "### 8️⃣  呼叫函式"
      ]
    },
    {
      "cell_type": "code",
      "execution_count": null,
      "metadata": {
        "id": "Q4RxY2097irW"
      },
      "outputs": [],
      "source": [
        "db = build_vector_db('/content/113_2330.pdf', 500, 50)"
      ]
    },
    {
      "cell_type": "markdown",
      "metadata": {
        "id": "T8WOOFCp4z0l"
      },
      "source": [
        "### 9️⃣ 查詢相關資料"
      ]
    },
    {
      "cell_type": "code",
      "execution_count": null,
      "metadata": {
        "colab": {
          "base_uri": "https://localhost:8080/"
        },
        "id": "iRF0tJ61U5hg",
        "outputId": "e66cc52e-e7ab-4976-bfe3-dcb724ec240d"
      },
      "outputs": [
        {
          "output_type": "stream",
          "name": "stdout",
          "text": [
            "和先進封裝解決方案方面強大的技術領先，我們能夠掌握更多的產業成長機會。\n",
            "我們專注於公司的業務基本面，有目標地執行我們的全球製造足跡策略，以支持客戶成長與增加他們的信任。我\n",
            "劉德音 魏哲家\n",
            "們將繼續推動台積公司在全球所有晶圓廠的數位卓越化，並致力實現全方位的智慧化和自動化製造。無論我們在\n",
            "董事長 總裁\n",
            "何處營運，我們都決心要成為具有最高效率和最具成本效益的半導體製造者。\n",
            "010 011\n",
            "_________\n",
            "米製程技術在民國一百一十二年下半年邁入高度量產且成長強勁。我們亦持續強化包括N3E、N3P和N3X在內的 儘管海外晶圓廠的起始成本高於台積公司在台灣的晶圓廠，但我們有信心控制及最小化成本差距，因而能夠持續\n",
            "N3製程技術，並預計在眾多客戶的強勁需求支持下，N3製程技術在民國一百一十三年與未來幾年中將貢獻更多 將股東價值最大化。\n",
            "的營收。\n",
            "006 007\n",
            "_________\n",
            "5.1.2 客戶產品用途 ●台\u0007 積公司的導線與封裝技術整合方案3DFabric®在支 5.2.2 民國一百一十二年研究發展成果\n",
            "援CoWoS®-S和CoWoS®-L上最新一代高頻寬記憶體\n",
            "民國一百一十二年，台積公司為528個客戶生產1萬1,895種不同的產品，應用範圍涵括整個電子應用產業，包括人工智 研究發展組織卓越成果\n",
            "HBM3E方面取得了進一步進展；在公司繼續保持InFO_\n",
            "慧和高效能運算伺服器、有線與無線通訊系統產品、汽車與工業用設備、個人電腦與其周邊產品、資訊應用產品，以及 ●2\u0007 奈米製程技術\n",
            "PoP Gen-8封裝大批量製造業領先地位的同時，InFO_\n",
            "包括數位電視、遊戲機、數位相機等消費性電子、智慧物聯網及穿戴式裝置，與其他許多產品與應用。 民國一百一十二年，台積公司2奈米研發著重於基礎製\n",
            "PoP Gen-9也完成行動應用認證。此外，InFO_oS Gen-5\n",
            "程制定、良率精進、電晶體及導線效能改善以及可靠性\n",
            "成功通過認證，提供更大的ASIC面積、更多的晶片分區\n",
            "終端電子產品的快速演進，將促使客戶採用台積公司創新的技術與服務以追求差異化，同時也會更促進台積公司自身 評估。本年度內，重要客戶完成矽智財設計，並開始做驗\n",
            "整合、更大的封裝尺寸和更高的頻寬。\n",
            "的技術發展。台積公司始終深信成功將屬於產業趨勢的領導者而非追隨者。 證。台積公司並且發展低阻值重置導線層、超高效能金\n",
            "●\u0007在特殊製程技術方面進展的例子包括：0.13微米和90奈\n",
            "屬層間電容以及晶背供電網路，持續進行2奈米製程技術\n",
            "米BCD（Bipolar-CMOS-DMOS）技術已擴展，以滿足汽車\n",
            "5.1.3 最近二年度銷售量值表 效能提升。\n",
            "市場的需求。業界領先的GaN（Gallium Nitride on Silicon）\n",
            "單位：銷售量（千片十二吋晶圓約當片數）／營業收入淨額（新台幣仟元） 功率元件技術，第二代650V和100V E-HEMT已進入可靠\n",
            "民國112年 民國111年 ●1\u0007 4埃米製程技術\n",
            "銷售量 性驗證階段，預計民國一百一十三年量產；全球第一個採\n",
            "銷售量 營業收入淨額 銷售量 營業收入淨額 民國一百一十二年，為支援行動應用及高效能運算裝\n",
            "用3D-MiM嵌入式橫向溢出整合電容器（Lateral Overflow\n",
            "_________\n"
          ]
        }
      ],
      "source": [
        "similarity_docs = db.similarity_search(\"研發的產品\", k=5)\n",
        "for i in similarity_docs:\n",
        "    print(i.page_content)\n",
        "    print('_________')"
      ]
    },
    {
      "cell_type": "markdown",
      "metadata": {
        "id": "VgpzZOij438G"
      },
      "source": [
        "### 🔟  匯入問答相關套件"
      ]
    },
    {
      "cell_type": "code",
      "execution_count": null,
      "metadata": {
        "id": "cnsilIt1JmDs"
      },
      "outputs": [],
      "source": [
        "from langchain_core.prompts import ChatPromptTemplate\n",
        "from langchain.chains import RetrievalQA"
      ]
    },
    {
      "cell_type": "markdown",
      "metadata": {
        "id": "k9a6x7na46RM"
      },
      "source": [
        "### 1️⃣1️⃣  建立函式-問答程式"
      ]
    },
    {
      "cell_type": "code",
      "execution_count": null,
      "metadata": {
        "id": "idLyQ6lVFMUD"
      },
      "outputs": [],
      "source": [
        "# 提示模板\n",
        "prompt = ChatPromptTemplate.from_messages([\n",
        "    (\"system\",\n",
        "     \"你是一個根據年報資料與上下文作回答的助手,\"\n",
        "     \"如果有明確數據或技術(產品)名稱可以用數據或名稱回答,\"\n",
        "     \"回答以繁體中文為主。\"\n",
        "     \"{context}\"),\n",
        "    (\"human\",\"{question}\")])\n",
        "\n",
        "# 建立問答函式\n",
        "def question_and_answer(question):\n",
        "    retrievalQA = RetrievalQA.from_llm(\n",
        "        llm=llm_model,\n",
        "        prompt=prompt,\n",
        "        return_source_documents=True,\n",
        "        retriever=db.as_retriever(\n",
        "        search_kwargs={'k':8}))\n",
        "    answer = retrievalQA.invoke(question)\n",
        "    return answer"
      ]
    },
    {
      "cell_type": "markdown",
      "metadata": {
        "id": "e4UM2Kl148uW"
      },
      "source": [
        "### 1️⃣2️⃣ 建立迴圈進行問答"
      ]
    },
    {
      "cell_type": "code",
      "execution_count": null,
      "metadata": {
        "colab": {
          "base_uri": "https://localhost:8080/"
        },
        "id": "Xyejx1Ic8qQk",
        "outputId": "f9db91e8-6903-4017-d051-915c68fbbb1b"
      },
      "outputs": [
        {
          "name": "stdout",
          "output_type": "stream",
          "text": [
            "輸入問題:公司是否有明確成長?\n",
            "根據台積公司的年報資料，民國112年的全年合併營收為新台幣2兆1,617億4,000萬元，較前一年的2兆2,638億9,000萬元減少4.5%；稅後淨利為新台幣8,385億元，較前一年的1兆165億3,000萬元減少17.5%。這些數據顯示公司在最近一年經歷了營收和淨利的下降，因此從數據上看，近期的成長並不明顯。\n",
            "\n",
            "此外，毛利率與營業利益率也有所下降，分別從59.6%降至54.4%及從49.5%降至42.6%。這些因素顯示出在成長方面可能面臨挑戰，因此整體來看，台積公司並沒有明確的成長趨勢。\n",
            "_________\n",
            "輸入問題:公司未來一年的計畫\n",
            "根據年報資料，台積公司未來一年的計畫主要集中在以下幾個方面：\n",
            "\n",
            "1. **資本支出**：台積公司預計在民國112年及113年的資本支出將有顯著的增加，特別是在生產、研發及廠務設備方面。預計單位為新台幣2,032,488,955仟元，其中針對十二吋晶圓的產能增加約80萬片。\n",
            "\n",
            "2. **現金流動性**：雖然未來一年現金流動性分析不適用，但公司表示無現金流動性不足之情形，並計畫持續審慎評估其資金運用計劃。\n",
            "\n",
            "3. **永續發展與綠色債券**：台積公司已發行綠色債券以支應公司綠建築及環保相關之資本支出。未來將持續推進與環保相關的投資計畫，例如112年度第2期無擔保普通公司債計畫預定於民國113年第一季開始執行。\n",
            "\n",
            "4. **風險管理**：公司將進一步強化風險管理架構，並依據《ISO 31000: 2018風險管理系統》及《COSO委員會之企業風險管理-整合架構》來推動這些工作。\n",
            "\n",
            "這些計畫顯示了台積公司對於未來展望的信心與積極的業務發展策略。\n",
            "_________\n",
            "輸入問題:\n"
          ]
        }
      ],
      "source": [
        "while True:\n",
        "    question = input(\"輸入問題:\")\n",
        "    if not question.strip():\n",
        "        break\n",
        "    result = question_and_answer(question)\n",
        "    print(result['result'])\n",
        "    print('_________')\n",
        "    #print(result[\"source_documents\"])"
      ]
    },
    {
      "cell_type": "markdown",
      "metadata": {
        "id": "uzAmbDDYFDkE"
      },
      "source": [
        "## 7-4 年報總結與分析"
      ]
    },
    {
      "cell_type": "markdown",
      "metadata": {
        "id": "4I10Pe8Y4-5F"
      },
      "source": [
        "### 1️⃣3️⃣ 回答結果及原始資料"
      ]
    },
    {
      "cell_type": "code",
      "execution_count": null,
      "metadata": {
        "id": "o65edAvKXUH5"
      },
      "outputs": [],
      "source": [
        "from langchain.chains.summarize import load_summarize_chain"
      ]
    },
    {
      "cell_type": "markdown",
      "metadata": {
        "id": "zr2Wz0MG5Avz"
      },
      "source": [
        "### 1️⃣4️⃣ 總結原始資料"
      ]
    },
    {
      "cell_type": "code",
      "source": [
        "# 建立關鍵字串列\n",
        "key_word = ['正在開發的產品及銷售狀況',\n",
        "            '市場策略的調整或變化',\n",
        "            '公司預期未來展望',\n",
        "            '總營收、稅前淨利的成長或變動分析',\n",
        "            '國際競爭以及海外市場銷售情形']\n",
        "\n",
        "data_list = []\n",
        "for word in key_word:\n",
        "    data = db.similarity_search(word, k=3)\n",
        "    # 整合 Document 串列\n",
        "    data_list += data\n",
        "\n",
        "# 建立提示訊息串列\n",
        "prompt_template = [(\"system\",\"你的任務是對年報資訊進行摘要總結。\"\n",
        "                    \"以下為提供的年報資訊：{text},\"\n",
        "                    \"請給我重點數據, 如銷售增長情形、營收變化、開發項目等,\"\n",
        "                    \"最後請使用繁體中文輸出報告\")]\n",
        "prompt = ChatPromptTemplate.from_messages(messages=prompt_template)"
      ],
      "metadata": {
        "id": "37griuhHP0im"
      },
      "execution_count": null,
      "outputs": []
    },
    {
      "cell_type": "markdown",
      "metadata": {
        "id": "220bNY7y5Cs2"
      },
      "source": [
        "### 1️⃣5️⃣  呼叫函式"
      ]
    },
    {
      "cell_type": "code",
      "source": [
        "refine_chain = load_summarize_chain(llm=llm_model,\n",
        "                                    chain_type='stuff',\n",
        "                                    prompt=prompt)\n",
        "summary_refine = refine_chain.invoke({\"input_documents\": data_list})\n",
        "print(summary_refine['output_text'])"
      ],
      "metadata": {
        "colab": {
          "base_uri": "https://localhost:8080/"
        },
        "id": "l2XTY8L7Ppnc",
        "outputId": "cdc3eefe-5167-431c-9ab4-95dba208a773"
      },
      "execution_count": null,
      "outputs": [
        {
          "output_type": "stream",
          "name": "stdout",
          "text": [
            "### 年報資訊摘要\n",
            "\n",
            "#### 營收與財務績效\n",
            "- **營業收入**：2022年度營業收入淨額為新台幣2,161.7億元，較2021年度的2,263.9億元減少約4.5%。\n",
            "- **營業毛利**：營業毛利下降13%，從2021年的1,300.4億元降至2022年的1,130.6億元。\n",
            "- **淨利**：2022年度淨利為838.5億元，較前年度下降約18%。\n",
            "\n",
            "#### 環境、社會及公司治理（ESG）\n",
            "- **員工安全與健康**：公司定期實施安全與健康教育，並提供安全的工作環境，詳細措施見於報告中「安全與衛生」部分。\n",
            "- **環境管理**：本公司建立了符合產業特性的環境管理制度，並遵循相關法律規範，有關管理制度及驗證情形可查閱「環保、安全與衛生管理」部分。\n",
            "- **能源使用**：公司致力於提升能源利用效率以及使用再生材料，具體政策及措施詳見「氣候變遷與能源管理」部分。\n",
            "- **氣候變遷風險評估**：根據TCFD框架，進行氣候變遷風險與機會的識別及評估，並針對短期、中期及長期的潛在影響採取應對措施。\n",
            "\n",
            "#### 技術與研發\n",
            "- **新產品開發**：公司在高效能運算、AI、物聯網及車用電子等領域持續進行技術研發，並推出新一代環保材料及電晶體技術，期望在下一年度進入生產。\n",
            "- **專利管理**：公司積極進行專利部件的擴建及保護，以保持在半導體產業的技術領先地位。\n",
            "\n",
            "#### 其他財務資訊\n",
            "- **合約負債**：截至2022年12月31日合約負債為新台幣527.4億元，較2021年下降，主要因履約義務滿足時間的差異。\n",
            "- **長期投資**：長期投資有所增加，主要為非流動金融資產的增長。\n",
            "\n",
            "#### 綜合分析\n",
            "- 公司面臨巨大的市場波動及成本壓力，包括工人短缺、供應鏈中斷及天然災害等風險，這可能影響營運效率及未來的產擴計畫。\n",
            "- 繼續推動永續發展與產品創新，未來將專注於技術進步及應對氣候變遷帶來的挑戰，旨在增強企業竞争力及客戶信任。\n",
            "\n",
            "這份年報摘要提供了公司在營運、環境管理及未來發展策略的概覽，顯示出積極應對市場挑戰及推動永續發展的努力。\n"
          ]
        }
      ]
    },
    {
      "cell_type": "markdown",
      "metadata": {
        "id": "PtiJJipA5I9-"
      },
      "source": [
        "### 1️⃣6️⃣  提取關鍵字\n",
        "使用 MMR 搜尋方法"
      ]
    },
    {
      "cell_type": "code",
      "source": [
        "from langchain_core.output_parsers import CommaSeparatedListOutputParser, StrOutputParser\n",
        "from langchain_core.prompts import PromptTemplate\n",
        "from langchain_core.runnables import RunnableSequence\n",
        "\n",
        "word_prompt = PromptTemplate.from_template(\n",
        "     \"從{input}聯想出4個與年報分析有關的重要關鍵字,\"\\\n",
        "     \"請確保回答具有具有關聯性、多樣性和變化性。 \\n \"\n",
        "     \"僅回覆關鍵字, 並以半形逗號與空格來分隔。不要加入其他內容\")\n",
        "\n",
        "word_chain = word_prompt | llm_model | CommaSeparatedListOutputParser()\n",
        "print(word_chain.invoke({\"input\": \"公司的營運狀況如何?\"}))"
      ],
      "metadata": {
        "id": "zMeR0jjh2_5I",
        "colab": {
          "base_uri": "https://localhost:8080/"
        },
        "outputId": "a5ca7be6-3f5d-40bd-d7c2-d3e9c130b851"
      },
      "execution_count": null,
      "outputs": [
        {
          "output_type": "stream",
          "name": "stdout",
          "text": [
            "['營收增長', '毛利率', '現金流', '債務比率']\n"
          ]
        }
      ]
    },
    {
      "cell_type": "markdown",
      "metadata": {
        "id": "gKilRAeA5GNG"
      },
      "source": [
        "### 1️⃣7️⃣ 設定 AI 角色讓其分析報告"
      ]
    },
    {
      "cell_type": "code",
      "source": [
        "data_prompt = PromptTemplate.from_template(\n",
        "    \"你現在是一位專業的股票分析師,\"\n",
        "    \"會以詳細、嚴謹的角度針對 {key_words} 進行年報分析,\"\n",
        "    \"請提及關於營收、是否成長以及利潤等重要數字,\"\n",
        "    \"最後生成一份專業的趨勢分析報告。\"\n",
        "    \"以下為年報資料：{data_content}\")\n",
        "\n",
        "data_chain = data_prompt | llm_model | StrOutputParser()"
      ],
      "metadata": {
        "id": "y4nY5fkpVKlq"
      },
      "execution_count": null,
      "outputs": []
    },
    {
      "cell_type": "markdown",
      "metadata": {
        "id": "r3_A78R65LAd"
      },
      "source": [
        "### 1️⃣8️⃣ 整合函式"
      ]
    },
    {
      "cell_type": "code",
      "source": [
        "def analyze_chain(input):\n",
        "    # 搜尋「問題」的相關資料\n",
        "    data = db.max_marginal_relevance_search(input, fetch_k=5, k=2)\n",
        "\n",
        "    # 第一個 Chain 元件, 建立「關鍵字」串列\n",
        "    word_list = word_chain.invoke({\"input\": input})\n",
        "\n",
        "    # 搜尋「關鍵字」的相關資料\n",
        "    for word in word_list:\n",
        "      data += db.max_marginal_relevance_search(word, fetch_k=5, k=2)\n",
        "    word_list.append(input)\n",
        "\n",
        "    # 第二個 Chain 元件, 生成分析報告\n",
        "    result = data_chain.invoke({'key_words':word_list,'data_content':data})\n",
        "\n",
        "    return result"
      ],
      "metadata": {
        "id": "YWKb8jEydsoN"
      },
      "execution_count": null,
      "outputs": []
    },
    {
      "cell_type": "markdown",
      "metadata": {
        "id": "VT7XPS8z5NS4"
      },
      "source": [
        "### 1️⃣9️⃣ 呼叫函式"
      ]
    },
    {
      "cell_type": "code",
      "source": [
        "input = '公司的營收狀況如何？'\n",
        "analyze_report = analyze_chain(input)\n",
        "print(analyze_report)"
      ],
      "metadata": {
        "colab": {
          "base_uri": "https://localhost:8080/"
        },
        "id": "e-NHDVzqHOsU",
        "outputId": "49a89e2c-141e-44c3-e3d3-399204614372"
      },
      "execution_count": null,
      "outputs": [
        {
          "output_type": "stream",
          "name": "stdout",
          "text": [
            "## 年報分析報告\n",
            "\n",
            "### 基本資訊\n",
            "本報告針對台灣積體電路製造股份有限公司（以下簡稱「台積電」）的112年度年報資料進行分析，主要聚焦於以下幾個方面：\n",
            "1. 營收增長\n",
            "2. 毛利率\n",
            "3. 費用控制\n",
            "4. 資本運用\n",
            "5. 營收狀況\n",
            "\n",
            "### 一、營收增長\n",
            "台積電112年度的淨利為新台幣837,767,517仟元，相較於前年的1,016,900,515仟元，顯示年度淨利減少了約18%。綜合損益總額從前年的1,059,124,890仟元下降至830,509,542仟元，減少幅度達22%。這表明公司的收入在報告期內出現了衰退。營業收益淨額增加，主要源自於處分及報廢不動產、廠房及設備的淨益所致；然而，淨利下降顯示出整體營收面對挑戰。\n",
            "\n",
            "### 二、毛利率\n",
            "台積電並未明確提供毛利率數據，但毛利率可根據營收與費用結構推測。考慮到營業外收入的增加（例如利息收入及子公司、關聯企業的損益份額），這部分的增長可能有助於穩定公司的總毛利水平。此外，但由於淨利顯著下降，且前已遞減的綜合損益總額，這暗示著毛利率需持續觀察。\n",
            "\n",
            "### 三、費用控制\n",
            "根據年報，研究發展費用為178,725,098仟元，管理費用39,890,037仟元，行銷費用5,118,396仟元。儘管有大規模的投資於研發（顯示出公司對未來技術的堅持），相關的營業收益卻未能有效轉化為利潤，顯示出費用控制的壓力。因此，儘管台積電在特定技術領域持續投入，整體的盈利能力仍然受到挑戰。\n",
            "\n",
            "### 四、資本運用\n",
            "在資本運用方面，台積電的資本支出尚未顯著影響其現金流的可持續性。根據文獻中的資本運用計劃及執行進度顯示，資金運用仍依計劃順利進行，某些項目出現延後現象（如政府發放的預算撥款），但對股東權益未造成重大影響。\n",
            "\n",
            "### 五、公司的營收狀況\n",
            "從綜合損益總額下滑的趨勢來看，台積電在當年度的營收狀況顯示出一定的風險。毛利率的可能下降、淨利縮減以及費用控制的挑戰，令投資者須謹慎看待未來的盈利預期。\n",
            "\n",
            "### 總結與趨勢分析\n",
            "整體來看，台積電在112年度營運表現出現衰退。雖然收入增長來自特定業務（如處分資產的收益），但整體獲利和毛利均顯示下滑跡象。未來，公司需要強化其費用控制與營運效率，並探討提高毛利率的可行策略。此外，調整資本運用以因應不穩定的營收表現將是接下來的重要課題。\n",
            "\n",
            "在全球經濟環境與技術需求持續快速變化的背景下，台積電需逐步調整其策略以確保未來的持續發展。僅有透過有效的財務管理與穩健的資本運用，才能在未來市場競爭中保有優勢。\n"
          ]
        }
      ]
    }
  ],
  "metadata": {
    "colab": {
      "provenance": []
    },
    "kernelspec": {
      "display_name": "Python 3",
      "name": "python3"
    },
    "language_info": {
      "name": "python"
    }
  },
  "nbformat": 4,
  "nbformat_minor": 0
}