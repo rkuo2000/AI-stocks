{
  "cells": [
    {
      "cell_type": "markdown",
      "metadata": {
        "id": "view-in-github",
        "colab_type": "text"
      },
      "source": [
        "<a href=\"https://colab.research.google.com/github/rkuo2000/AI-stocks/blob/main/ch06_stock_bot_gemini.ipynb\" target=\"_parent\"><img src=\"https://colab.research.google.com/assets/colab-badge.svg\" alt=\"Open In Colab\"/></a>"
      ]
    },
    {
      "cell_type": "markdown",
      "metadata": {
        "id": "TFQ17AmL0Yd0"
      },
      "source": [
        "# CH-06 個股分析機器人"
      ]
    },
    {
      "cell_type": "markdown",
      "metadata": {
        "id": "rwGTl75BLNwu"
      },
      "source": [
        "### 1️⃣ 安裝及匯入套件"
      ]
    },
    {
      "cell_type": "code",
      "execution_count": 1,
      "metadata": {
        "colab": {
          "base_uri": "https://localhost:8080/"
        },
        "id": "V9x1F86C4T9u",
        "outputId": "aadfec55-e8e3-4c6b-e7af-abffda9a7074"
      },
      "outputs": [
        {
          "output_type": "stream",
          "name": "stdout",
          "text": [
            "Requirement already satisfied: openai in /usr/local/lib/python3.12/dist-packages (1.109.1)\n",
            "Requirement already satisfied: anyio<5,>=3.5.0 in /usr/local/lib/python3.12/dist-packages (from openai) (4.11.0)\n",
            "Requirement already satisfied: distro<2,>=1.7.0 in /usr/local/lib/python3.12/dist-packages (from openai) (1.9.0)\n",
            "Requirement already satisfied: httpx<1,>=0.23.0 in /usr/local/lib/python3.12/dist-packages (from openai) (0.28.1)\n",
            "Requirement already satisfied: jiter<1,>=0.4.0 in /usr/local/lib/python3.12/dist-packages (from openai) (0.11.0)\n",
            "Requirement already satisfied: pydantic<3,>=1.9.0 in /usr/local/lib/python3.12/dist-packages (from openai) (2.11.10)\n",
            "Requirement already satisfied: sniffio in /usr/local/lib/python3.12/dist-packages (from openai) (1.3.1)\n",
            "Requirement already satisfied: tqdm>4 in /usr/local/lib/python3.12/dist-packages (from openai) (4.67.1)\n",
            "Requirement already satisfied: typing-extensions<5,>=4.11 in /usr/local/lib/python3.12/dist-packages (from openai) (4.15.0)\n",
            "Requirement already satisfied: idna>=2.8 in /usr/local/lib/python3.12/dist-packages (from anyio<5,>=3.5.0->openai) (3.11)\n",
            "Requirement already satisfied: certifi in /usr/local/lib/python3.12/dist-packages (from httpx<1,>=0.23.0->openai) (2025.10.5)\n",
            "Requirement already satisfied: httpcore==1.* in /usr/local/lib/python3.12/dist-packages (from httpx<1,>=0.23.0->openai) (1.0.9)\n",
            "Requirement already satisfied: h11>=0.16 in /usr/local/lib/python3.12/dist-packages (from httpcore==1.*->httpx<1,>=0.23.0->openai) (0.16.0)\n",
            "Requirement already satisfied: annotated-types>=0.6.0 in /usr/local/lib/python3.12/dist-packages (from pydantic<3,>=1.9.0->openai) (0.7.0)\n",
            "Requirement already satisfied: pydantic-core==2.33.2 in /usr/local/lib/python3.12/dist-packages (from pydantic<3,>=1.9.0->openai) (2.33.2)\n",
            "Requirement already satisfied: typing-inspection>=0.4.0 in /usr/local/lib/python3.12/dist-packages (from pydantic<3,>=1.9.0->openai) (0.4.2)\n",
            "Requirement already satisfied: yfinance in /usr/local/lib/python3.12/dist-packages (0.2.66)\n",
            "Requirement already satisfied: pandas>=1.3.0 in /usr/local/lib/python3.12/dist-packages (from yfinance) (2.2.2)\n",
            "Requirement already satisfied: numpy>=1.16.5 in /usr/local/lib/python3.12/dist-packages (from yfinance) (2.0.2)\n",
            "Requirement already satisfied: requests>=2.31 in /usr/local/lib/python3.12/dist-packages (from yfinance) (2.32.4)\n",
            "Requirement already satisfied: multitasking>=0.0.7 in /usr/local/lib/python3.12/dist-packages (from yfinance) (0.0.12)\n",
            "Requirement already satisfied: platformdirs>=2.0.0 in /usr/local/lib/python3.12/dist-packages (from yfinance) (4.5.0)\n",
            "Requirement already satisfied: pytz>=2022.5 in /usr/local/lib/python3.12/dist-packages (from yfinance) (2025.2)\n",
            "Requirement already satisfied: frozendict>=2.3.4 in /usr/local/lib/python3.12/dist-packages (from yfinance) (2.4.6)\n",
            "Requirement already satisfied: peewee>=3.16.2 in /usr/local/lib/python3.12/dist-packages (from yfinance) (3.18.2)\n",
            "Requirement already satisfied: beautifulsoup4>=4.11.1 in /usr/local/lib/python3.12/dist-packages (from yfinance) (4.13.5)\n",
            "Requirement already satisfied: curl_cffi>=0.7 in /usr/local/lib/python3.12/dist-packages (from yfinance) (0.13.0)\n",
            "Requirement already satisfied: protobuf>=3.19.0 in /usr/local/lib/python3.12/dist-packages (from yfinance) (5.29.5)\n",
            "Requirement already satisfied: websockets>=13.0 in /usr/local/lib/python3.12/dist-packages (from yfinance) (15.0.1)\n",
            "Requirement already satisfied: soupsieve>1.2 in /usr/local/lib/python3.12/dist-packages (from beautifulsoup4>=4.11.1->yfinance) (2.8)\n",
            "Requirement already satisfied: typing-extensions>=4.0.0 in /usr/local/lib/python3.12/dist-packages (from beautifulsoup4>=4.11.1->yfinance) (4.15.0)\n",
            "Requirement already satisfied: cffi>=1.12.0 in /usr/local/lib/python3.12/dist-packages (from curl_cffi>=0.7->yfinance) (2.0.0)\n",
            "Requirement already satisfied: certifi>=2024.2.2 in /usr/local/lib/python3.12/dist-packages (from curl_cffi>=0.7->yfinance) (2025.10.5)\n",
            "Requirement already satisfied: python-dateutil>=2.8.2 in /usr/local/lib/python3.12/dist-packages (from pandas>=1.3.0->yfinance) (2.9.0.post0)\n",
            "Requirement already satisfied: tzdata>=2022.7 in /usr/local/lib/python3.12/dist-packages (from pandas>=1.3.0->yfinance) (2025.2)\n",
            "Requirement already satisfied: charset_normalizer<4,>=2 in /usr/local/lib/python3.12/dist-packages (from requests>=2.31->yfinance) (3.4.4)\n",
            "Requirement already satisfied: idna<4,>=2.5 in /usr/local/lib/python3.12/dist-packages (from requests>=2.31->yfinance) (3.11)\n",
            "Requirement already satisfied: urllib3<3,>=1.21.1 in /usr/local/lib/python3.12/dist-packages (from requests>=2.31->yfinance) (2.5.0)\n",
            "Requirement already satisfied: pycparser in /usr/local/lib/python3.12/dist-packages (from cffi>=1.12.0->curl_cffi>=0.7->yfinance) (2.23)\n",
            "Requirement already satisfied: six>=1.5 in /usr/local/lib/python3.12/dist-packages (from python-dateutil>=2.8.2->pandas>=1.3.0->yfinance) (1.17.0)\n"
          ]
        }
      ],
      "source": [
        "!pip install openai\n",
        "!pip install yfinance"
      ]
    },
    {
      "cell_type": "code",
      "source": [
        "from openai import OpenAI, OpenAIError # 串接 OpenAI API\n",
        "import yfinance as yf\n",
        "import pandas as pd # 資料處理套件\n",
        "import numpy as np\n",
        "import datetime as dt # 時間套件\n",
        "import requests\n",
        "from bs4 import BeautifulSoup"
      ],
      "metadata": {
        "id": "lrXDjqTiDbhc"
      },
      "execution_count": 2,
      "outputs": []
    },
    {
      "cell_type": "markdown",
      "metadata": {
        "id": "wGukHBkyiQA2"
      },
      "source": [
        "### 2️⃣ 輸入 Gemini API KEY"
      ]
    },
    {
      "cell_type": "code",
      "execution_count": 3,
      "metadata": {
        "id": "ZN8CnE789cPy"
      },
      "outputs": [],
      "source": [
        "from google.colab import userdata\n",
        "\n",
        "client = OpenAI(\n",
        "    api_key=userdata.get('GEMINI_API_KEY'),\n",
        "    base_url=\"https://generativelanguage.googleapis.com/v1beta/openai/\"\n",
        ")"
      ]
    },
    {
      "cell_type": "markdown",
      "source": [
        "### 3️⃣ 取得股價資料"
      ],
      "metadata": {
        "id": "ebiRubdMv_AZ"
      }
    },
    {
      "cell_type": "code",
      "source": [
        "# 從 yfinance 取得一周股價資料\n",
        "def stock_price(stock_id=\"大盤\", days = 10):\n",
        "  if stock_id == \"大盤\":\n",
        "    stock_id=\"^TWII\"\n",
        "  else:\n",
        "    stock_id += \".TW\"\n",
        "\n",
        "  end = dt.date.today() # 資料結束時間\n",
        "  start = end - dt.timedelta(days=days) # 資料開始時間\n",
        "  # 下載資料\n",
        "  #df = yf.download(stock_id, start=start)\n",
        "  df = yf.Ticker(stock_id).history(start=start)\n",
        "\n",
        "  # 更換列名\n",
        "  df.columns = ['日期','開盤價', '最高價', '最低價',\n",
        "                '收盤價', '調整後收盤價', '成交量']\n",
        "\n",
        "  data = {\n",
        "    '日期': df.index.strftime('%Y-%m-%d').tolist(),\n",
        "    '收盤價': df['收盤價'].tolist(),\n",
        "    '每日報酬': df['收盤價'].pct_change().tolist(),\n",
        "    '漲跌價差': df['調整後收盤價'].diff().tolist()\n",
        "    }\n",
        "\n",
        "  return data\n",
        "\n",
        "print(stock_price(\"2330\"))"
      ],
      "metadata": {
        "colab": {
          "base_uri": "https://localhost:8080/"
        },
        "id": "t30pt68amGmN",
        "outputId": "f842bce3-d28e-47c7-bb3b-e6eb73ef7f5e"
      },
      "execution_count": 4,
      "outputs": [
        {
          "output_type": "stream",
          "name": "stdout",
          "text": [
            "{'日期': ['2025-10-08', '2025-10-09', '2025-10-13', '2025-10-14', '2025-10-15', '2025-10-16', '2025-10-17'], '收盤價': [23064494, 39052134, 53850992, 39889256, 41056405, 37737678, 38077331], '每日報酬': [nan, 0.6931710706508454, 0.37895132696205547, -0.2592660874288073, 0.02925973349816302, -0.08083335596480012, 0.009000368279150628], '漲跌價差': [nan, 0.0, 0.0, 0.0, 0.0, 0.0, 0.0]}\n"
          ]
        }
      ]
    },
    {
      "cell_type": "markdown",
      "source": [
        "### 4️⃣ 取得基本面資料"
      ],
      "metadata": {
        "id": "T59rbTgDwoAZ"
      }
    },
    {
      "cell_type": "code",
      "source": [
        "# 基本面資料\n",
        "def stock_fundamental(stock_id= \"大盤\"):\n",
        "  if stock_id == \"大盤\":\n",
        "      return None\n",
        "\n",
        "  stock_id += \".TW\"\n",
        "  stock = yf.Ticker(stock_id)\n",
        "\n",
        "  # 營收成長率\n",
        "  quarterly_revenue_growth = np.round(stock.quarterly_financials.loc[\"Total Revenue\"].pct_change(-1).dropna().tolist(), 2)\n",
        "\n",
        "  # 每季EPS\n",
        "  quarterly_eps = np.round(stock.quarterly_financials.loc[\"Basic EPS\"].dropna().tolist(), 2)\n",
        "\n",
        "  # EPS季增率\n",
        "  quarterly_eps_growth = np.round(stock.quarterly_financials.loc[\"Basic EPS\"].pct_change(-1).dropna().tolist(), 2)\n",
        "\n",
        "  # 轉換日期\n",
        "  dates = [date.strftime('%Y-%m-%d') for date in stock.quarterly_financials.columns]\n",
        "\n",
        "  data = {\n",
        "      '季日期': dates[:len(quarterly_revenue_growth)],\n",
        "      '營收成長率': quarterly_revenue_growth.tolist(),\n",
        "      'EPS': quarterly_eps[0:3].tolist(),\n",
        "      'EPS 季增率': quarterly_eps_growth[0:3].tolist()\n",
        "  }\n",
        "\n",
        "  return data\n",
        "\n",
        "print(stock_fundamental(\"2330\"))"
      ],
      "metadata": {
        "colab": {
          "base_uri": "https://localhost:8080/"
        },
        "id": "4C7n0hxlwx-x",
        "outputId": "30612f63-b330-4c45-e5c6-91f069c7fd16"
      },
      "execution_count": 5,
      "outputs": [
        {
          "output_type": "stream",
          "name": "stdout",
          "text": [
            "{'季日期': ['2025-06-30', '2025-03-31', '2024-12-31', '2024-09-30', '2024-06-30'], '營收成長率': [0.11, -0.03, 0.14, 0.13, 0.0], 'EPS': [15.36, 13.94, 14.45], 'EPS 季增率': [0.1, -0.04, 0.15]}\n"
          ]
        },
        {
          "output_type": "stream",
          "name": "stderr",
          "text": [
            "/tmp/ipython-input-557545184.py:10: FutureWarning: The default fill_method='pad' in Series.pct_change is deprecated and will be removed in a future version. Either fill in any non-leading NA values prior to calling pct_change or specify 'fill_method=None' to not fill NA values.\n",
            "  quarterly_revenue_growth = np.round(stock.quarterly_financials.loc[\"Total Revenue\"].pct_change(-1).dropna().tolist(), 2)\n",
            "/tmp/ipython-input-557545184.py:16: FutureWarning: The default fill_method='pad' in Series.pct_change is deprecated and will be removed in a future version. Either fill in any non-leading NA values prior to calling pct_change or specify 'fill_method=None' to not fill NA values.\n",
            "  quarterly_eps_growth = np.round(stock.quarterly_financials.loc[\"Basic EPS\"].pct_change(-1).dropna().tolist(), 2)\n"
          ]
        }
      ]
    },
    {
      "cell_type": "markdown",
      "metadata": {
        "id": "pC1gzHDLiqhT"
      },
      "source": [
        "### 5️⃣ 取得新聞資料"
      ]
    },
    {
      "cell_type": "code",
      "execution_count": 6,
      "metadata": {
        "id": "OBkpRomPEXd1",
        "colab": {
          "base_uri": "https://localhost:8080/"
        },
        "outputId": "338959aa-50aa-44a6-9769-dd8be6c91e5c"
      },
      "outputs": [
        {
          "output_type": "stream",
          "name": "stdout",
          "text": [
            "[['台積電', '2025-10-18', 'AI黃金週期進行式，從算力戰到能源戰的產業新格局： <mark>台積電</mark>、雙鴻、華城、中興電', '2025 年全球 AI 伺服器出貨量預估達 181 萬台，年增率高達 40%，搭載 HBM 高頻寬記憶體的高階伺服器將突破百萬台，北美四大 CSP 微軟、Google、亞馬遜、Meta 仍是主導者，微軟採購成長預計近八成，而甲骨文與 OpenAI 合作星際之門（Stargate Project）後，成為出貨增幅最快的雲端業者。台廠如 光寶科 (2301-TW)、台達電(2308-TW)、建準(2421-TW)、雙鴻(3324-TW)、緯穎(6669-TW) 及雲達，在 OCP 全球峰會上展示完整 AI 硬體生態鏈實力，涵蓋電源模組、液冷系統與整機 ODM 設計，隨 AI 資本支出擴增，台灣 ODM 廠正從代工製造升級為技術夥伴，迎接長期結構轉型。〈先進製程三強鼎立，CoWoS 產能持續加碼〉晶圓代工市場今年預估營收成長 17%，達 1650 億美元，先進製程與高階封裝技術是關鍵驅動力，2 奈米節點競賽持續升溫，台積電 (2330-TW)\\xa0以量產進度與客戶黏著度穩居領先，三星與 Intel 則積極擴大 GAA 架構與先進封裝投資。後段封裝成為焦點，2.5D/3.5D 堆疊、HBM 整合與 Chiplet 設計為主流趨勢，推升 AI 晶片效能，台積電預計 2026 年前將 CoWoS 月產能由 9.5 萬片增至 11 萬片，以支應輝達、博通等長約訂單，未來，先進製程與封裝整合力將決定代工市場「第二戰場」勝負。〈立即填表體驗諮詢陳智霖分析師會員服務〉忠實粉絲務必先完成填表申請，立即體驗每週精選操作名單、盤中到價通知與即時策略更新，立即填表跟上專業：https://lihi.cc/RFzlE〈SMR 小型核能成 AI 算力基石 推動跨產業共演〉AI 算力需求暴增，使能源供應成為戰略焦點，美國能源部重申 2035 年前新增 35GW 核能產能、2040 年起每年部署 15GW 的長期計畫，SMR（小型模組化反應爐）被視為 AI 資料中心友善型能源。SMR 具模組化與快速建置優勢，美國 BWXT、NuScale 已啟動商轉，亞洲則以中國與韓國為主導，SMR 小型化可補足再生能源間歇性，為 AI 產業提供穩定低碳電力，對台廠而言，變壓器、冷卻模組與供電系統製造將出現新機會，相關受惠族群包括華城 (1519-TW)、中興電(1513-TW) 等。從伺服器的高速擴張、晶圓代工的技術突破，到 SMR 核能的能源革新，2025 年的產業節奏已從 AI 硬體競賽進化為 AI 系統循環，AI 不再只是科技單點突破，而是驅動算力、材料、能源與製造協同升級的關鍵力量，當 AI 進入永動週期，台灣憑藉完整半導體與伺服器供應鏈，有望成為全球 AI 生態系中最具策略價值的核心基地。邀請投資人下載智霖老師的 APP，接收最即時的分析資訊，也務必要鎖定最新的直播，同時將影片分享出去喔！最新影音 (請點影音上方標題至 Youtube 收視品質會更佳 - TW)\\n\\xa0錢進熱線 02-2653-8299，立即邁向系統依據的股票操作。文章來源：陳智霖分析師 / 凱旭投顧本公司所推薦分析之個別有價證券\\n無不當之財務利益關係 以往之績效不保證未來獲利\\n投資人應獨立判斷 審慎評估並自負投資風險下一篇「恐慌指數」飆升！美股平靜期結束了？富國債務高企使通膨成為解決手段！經濟學人：財富將「任意重組」中國官員試圖緩解全球對稀土限制的擔憂：不會損害正常的貿易往來Meta可能使用你手機的影像訓練AI！Facebook新照片拼貼功能引隱私擔憂蘋果摺疊iPhone上市或延期至2027年！鉸鏈與螢幕設計成大挑戰\\u200c\\u200c\\u200c'], ['台積電', '2025-10-18', '高盛看好鴻海AI潛力\\u3000預估EPS三年翻倍、目標價上修至400元', '展望第四季，法人預期外銷訂單將維持溫和成長，AI 與車用電子仍是支撐重心。不過，中東地緣風險、歐美通膨與中國經濟復甦不均等變數，可能限制整體出口動能。整體而言，9 月外銷訂單若能維持年增 3% 至 6% 區間，將顯示台灣出口已脫離谷底、邁入緩步復甦階段，但結構性復甦仍需等待終端需求全面回溫。鴻海（2317-TW）近期強勢領漲台股，成為 AI 伺服器題材的最大焦點。高盛最新報告指出，鴻海正步入高速獲利成長期，並將目標價大幅上調至 400 元，給予「買進」評等。法人指出，鴻海 AI 伺服器業務出貨持續放量，GB200 與 GB300 機櫃訂單快速增長，帶動平均售價（ASP）提升，營益率明顯走高。高盛預估，鴻海 2025 年 EPS 為 12.09 元，2026 年將大增 58% 至 19.06 元，2027 年上看 22.52 元，展現強勁成長潛力。董事長劉揚偉強調，AI 發展仍在初期階段，從狹義 AI（ANI）正邁向通用 AI（AGI），未來將走向超級 AI（ASI），龐大的算力需求將推動 AI 伺服器與資料中心持續擴張。鴻海已深度參與全球主要雲端客戶的 AI 專案，具備伺服器、電力模組與液冷散熱等完整解決方案，地緣布局與垂直整合優勢亦強化接單能力。此外，2026 年蘋果折疊 iPhone 問世，將帶來新一波外觀創新循環，也有助鴻海估值上修。整體而言，鴻海正從傳統電子組裝廠轉型為 AI 與高階製造的關鍵供應商，受惠於 AI 伺服器放量、資料中心建設與折疊手機新商機三重動能驅動，市場普遍看好其長期營運與股價上行空間。輝達（NVIDIA-US）持續鞏固其在全球 AI 產業的主導地位，最新宣布與澳洲新創 Firmus 攜手投資 29 億美元，在墨爾本與塔斯馬尼亞建設以再生能源驅動的超大型 AI 資料中心「Project Southgate」，顯示 AI 基礎設施競賽正從北半球延伸至南半球。首階段將部署 18,500 顆 GB300 GPU，預計 2026 年啟用，並於 2028 年擴大至 476 億美元投資、1.6GW 算力，全面採用風電、太陽能與水力等綠電，打造節能減碳的 AI 工廠。此舉不僅強化輝達在亞太區算力布局，也為其 AI 生態系開啟新市場。另一方面，輝達執行長黃仁勳近期指出，受美國出口禁令影響，公司在中國先進晶片市占已從 95% 降至 0%，並呼籲美方採取更細膩的策略，以維持全球 AI 創新平衡。根據產業報告，隨 AI 與高效能運算（HPC）需求暴增，輝達有望於 2025 年取代蘋果，成為台積電最大客戶，且其鎖定超過一半 CoWoS 封裝產能，展現龐大擴產動能。整體而言，輝達正以技術、產能與綠能策略並進，持續引領 AI 算力革命的核心舞台。十月行情如同急行軍，才過半個月，指數已飆漲近 1500 點！然而，週一的跳空下跌、週二的創高長黑，也讓不少投資人心驚膽跳、無所適從。\\xa0這個時候，選對專家、抱對股票 才是關鍵！在震盪中穩住節奏，才能緊緊抓住這一波又一波的主升行情！\\xa0十月最大限時優惠\\xa0十月會期「免費送」再加碼贈送 App【彥鈔機】優惠專案倒數 5 天LINE 輸入【1010】來電：0800-668-085\\xa0別錯過這波 Q4 大行情，跟上就對了！ 下一篇1「恐慌指數」飆升！美股平靜期結束了？富國債務高企使通膨成為解決手段！經濟學人：財富將「任意重組」中國官員試圖緩解全球對稀土限制的擔憂：不會損害正常的貿易往來Meta可能使用你手機的影像訓練AI！Facebook新照片拼貼功能引隱私擔憂蘋果摺疊iPhone上市或延期至2027年！鉸鏈與螢幕設計成大挑戰\\u200c\\u200c\\u200c'], ['台積電', '2025-10-18', '<mark>台積電</mark>法說、南亞科法說、GDP有望上調 本周大事回顧', '南亞科 (2408-TW) 周一 (13 日) 召開法說會，總經理李培瑛指出，本輪 DRAM 榮景成長主要來自兩因素，一是 AI 帶動記憶體需求，二是成熟的產品供給急速收斂，帶動產品供不應求，預期 DDR4 缺口還有點大，看好第四季毛利率與獲利會持續改善，明年會是個不錯的一年。\\xa0受惠記憶體價格飆漲，產業從買方市場變為賣方市場，也讓南亞科第三季稅後純益衝上 15.63 億元，一舉終結連 11 季虧損，每股稅後純益 0.5 元。\\xa0主計總處主計長陳淑姿周三 (15 日) 赴立院財委會備詢時指出，由於 AI 需求持續熱絡，近期出口暢旺，下半年經濟成長表現優於原先預期，今年我國經濟成長率 (GDP) 應有點低估，有望超過 4.5%。\\xa013 家上市金控 2025 年 9 月自結獲利全數出爐！隨著壽險型金控避險壓力降低，加上聯準會啟動降息，台、美股市維持高檔，帶動整體獲利表現穩健。根據各公司公告，13 家金控 9 月稅後純益合計約 690\\xa0億元，較 8 月增加逾百億元，增幅近 2 成，前 9 月累計稅後純益達 4328.29 億元 (不含新光人壽今年截至 7/24 前累虧)。值得注意的是，富邦金穩居單月、累計獲利與 EPS 三冠王，而玉山金不僅是累計獲利成長王，更是唯一賺贏去年全年的金控。\\xa0工業記憶體模組大廠宜鼎 (5289-TW) 董事長簡川勝周三 (15 日) 指出，AI 需求爆發帶動記憶體市場出現結構性缺口，特別是 DDR4 產能緊縮情況嚴重、價格「看不到盡頭」。同時，公司持續攜手輝達 (NVDA-US) 等大廠衝刺 Edge AI，目前集團累計案件數已突破千件，涵蓋機器人、無人機、智慧城市等應用，邊緣 AI 正進入指數型成長階段。\\xa0#偏強機會股66.67%#指標剛突破66.67%#波段上揚股66.67%#軋空機會股66.67%#高盈餘高毛利66.67%上一篇下一篇1「恐慌指數」飆升！美股平靜期結束了？富國債務高企使通膨成為解決手段！經濟學人：財富將「任意重組」中國官員試圖緩解全球對稀土限制的擔憂：不會損害正常的貿易往來Meta可能使用你手機的影像訓練AI！Facebook新照片拼貼功能引隱私擔憂蘋果摺疊iPhone上市或延期至2027年！鉸鏈與螢幕設計成大挑戰\\u200c\\u200c\\u200c'], ['台積電', '2025-10-18', '【Joe’s華爾街脈動】AI動能確立，台灣半導體供應鏈蓄勢待發', '完整全文請見鉅亨號專欄_（點此前往）立即加入《Joe’s 華爾街脈動》LINE@官方帳號，獲得最新專欄資訊（點此加入）關於《Joe’s 華爾街脈動》\\n鉅亨網特別邀請到擁有逾 22 年美國投資圈資歷、CFA 認證的機構操盤人 Joseph Lu 擔任專欄主筆。\\nJoe 為台裔美國人，曾管理超過百億美元規模的基金資產，並為總資產高達數千億美元的多家頂級金融機構提供資產配置優化建議。\\nJoe 目前帶領著由美國頂尖大學教授與博士組成的精英團隊，透過獨家開發的 \" 趨勢脈動 TrendFolios® 指標 \"，為台灣投資人深度解析全球市場脈動，提供美股市場第一手專業觀點，協助投資人掌握先機。\\xa0上一篇下一篇「恐慌指數」飆升！美股平靜期結束了？富國債務高企使通膨成為解決手段！經濟學人：財富將「任意重組」中國官員試圖緩解全球對稀土限制的擔憂：不會損害正常的貿易往來Meta可能使用你手機的影像訓練AI！Facebook新照片拼貼功能引隱私擔憂蘋果摺疊iPhone上市或延期至2027年！鉸鏈與螢幕設計成大挑戰\\u200c\\u200c\\u200c'], ['台積電', '2025-10-17', '輝達、<mark>台積電</mark>聯手 首款美國製AI晶圓正式亮相', '輝達表示，此舉「強化了美國供應鏈，並將人工智慧 (AI) 技術堆疊引進美國，把數據轉化為智能，確保美國在 AI 時代的領導地位」。黃仁勳說：「這是個具有多重意義的歷史性時刻。這是近代美國歷史上首次，最關鍵的晶片由全球最先進的晶圓廠——台積電——在美國本土生產。」他說：「這展現了川普總統『再工業化』願景——把製造業帶回美國，不僅是為了創造就業機會，更因為這是全球最關鍵的製造業，也是最重要的科技產業。」台積電美國亞利桑那廠執行長莊瑞萍表示：「從抵達亞利桑那，到在短短幾年內交付第一顆美國製造的輝達 Blackwell 晶片，我們展現了台積電的最佳典範。」莊瑞萍說：「這項里程碑建立在台積電與輝達長達 30 年的合作關係之上——雙方共同不斷突破技術極限——同時也要歸功於我們員工的不懈投入，以及讓台積電亞利桑那廠成為現實的在地合作夥伴。」此一里程碑，反映川普政府在推動國內 AI 技術生產、並維持 AI 領導地位上，取得了進展。這也象徵美國重建本土先進晶片生產的重要一步，儘管如此，距離美國晶片需求要擺脫海外依賴，仍有長路要走。輝達表示，台積電的亞利桑那廠將涵蓋 2 奈米、3 奈米、4 奈米晶片以及 A16 晶片，這些對 AI、通訊和高效能運算應用都至關重要。近來 AI 公司和輝達、超微 (AMD-US)、博通 (Broadcom)(AVGO-US) 等晶片製造商積極敲定協議，計劃大舉興建資料中心。作為世界最大先進晶片製造商，台積電周四剛上修全年營收預測，對 AI 支出展望樂觀，第 3 季獲利創歷史新高，超越市場預期。#營收創高股50%上一篇下一篇「恐慌指數」飆升！美股平靜期結束了？川普將「考慮」俄羅斯白令海峽海底隧道提議！馬斯克The Boring Company或承建富國債務高企使通膨成為解決手段！經濟學人：財富將「任意重組」中國官員試圖緩解全球對稀土限制的擔憂：不會損害正常的貿易往來Meta可能使用你手機的影像訓練AI！Facebook新照片拼貼功能引隱私擔憂\\u200c\\u200c\\u200c']]\n"
          ]
        }
      ],
      "source": [
        "# 新聞資料\n",
        "def stock_news(stock_name =\"大盤\"):\n",
        "  if stock_name == \"大盤\":\n",
        "    stock_name=\"台股 -盤中速報\"\n",
        "\n",
        "  data=[]\n",
        "  # 取得 Json 格式資料\n",
        "  json_data = requests.get(f'https://ess.api.cnyes.com/ess/api/v1/news/keyword?q={stock_name}&limit=5&page=1').json()\n",
        "\n",
        "  # 依照格式擷取資料\n",
        "  items=json_data['data']['items']\n",
        "  for item in items:\n",
        "      # 網址、標題和日期\n",
        "      news_id = item[\"newsId\"]\n",
        "      title = item[\"title\"]\n",
        "      publish_at = item[\"publishAt\"]\n",
        "      # 使用 UTC 時間格式\n",
        "      utc_time = dt.datetime.fromtimestamp(publish_at, dt.timezone.utc)\n",
        "      formatted_date = utc_time.strftime('%Y-%m-%d')\n",
        "      # 前往網址擷取內容\n",
        "      url = requests.get(f'https://news.cnyes.com/'\n",
        "                        f'news/id/{news_id}').content\n",
        "      soup = BeautifulSoup(url, 'html.parser')\n",
        "      p_elements=soup .find_all('p')\n",
        "      # 提取段落内容\n",
        "      p=''\n",
        "      for paragraph in p_elements[4:]:\n",
        "          p+=paragraph.get_text()\n",
        "      data.append([stock_name, formatted_date ,title,p])\n",
        "  return data\n",
        "\n",
        "print(stock_news(\"台積電\"))"
      ]
    },
    {
      "cell_type": "markdown",
      "source": [
        "### 6️⃣ 爬取股號、股名對照表"
      ],
      "metadata": {
        "id": "0jqJLS9TSqyU"
      }
    },
    {
      "cell_type": "code",
      "source": [
        "# 取得全部股票的股號、股名\n",
        "def stock_name():\n",
        "  print(\"線上讀取股號、股名、及產業別\")\n",
        "\n",
        "  response = requests.get('https://isin.twse.com.tw/isin/C_public.jsp?strMode=2')\n",
        "  url_data = BeautifulSoup(response.text, 'html.parser')\n",
        "  stock_company = url_data.find_all('tr')\n",
        "\n",
        "  # 資料處理\n",
        "  data = [\n",
        "      (row.find_all('td')[0].text.split('\\u3000')[0].strip(),\n",
        "        row.find_all('td')[0].text.split('\\u3000')[1],\n",
        "        row.find_all('td')[4].text.strip())\n",
        "      for row in stock_company[2:] if len(row.find_all('td')[0].text.split('\\u3000')[0].strip()) == 4\n",
        "  ]\n",
        "\n",
        "  df = pd.DataFrame(data, columns=['股號', '股名', '產業別'])\n",
        "\n",
        "  return df\n",
        "\n",
        "name_df = stock_name()"
      ],
      "metadata": {
        "colab": {
          "base_uri": "https://localhost:8080/"
        },
        "id": "PeCJ5-XHSrU9",
        "outputId": "020cf898-3810-4f98-c7d4-4fe09536a043"
      },
      "execution_count": 7,
      "outputs": [
        {
          "output_type": "stream",
          "name": "stdout",
          "text": [
            "線上讀取股號、股名、及產業別\n"
          ]
        }
      ]
    },
    {
      "cell_type": "markdown",
      "source": [
        "### 7️⃣ 取得股票名稱"
      ],
      "metadata": {
        "id": "xKNkqNWSoAQe"
      }
    },
    {
      "cell_type": "code",
      "source": [
        "# 取得股票名稱\n",
        "def get_stock_name(stock_id, name_df):\n",
        "    return name_df.set_index('股號').loc[stock_id, '股名']\n",
        "\n",
        "print(name_df.head())\n",
        "print(\"--------------------------\")\n",
        "print(get_stock_name(\"1417\",name_df))"
      ],
      "metadata": {
        "colab": {
          "base_uri": "https://localhost:8080/"
        },
        "id": "IZXQFFxZn2rf",
        "outputId": "0b6a0acf-a3b1-4c5f-a218-d9ac0f5bd241"
      },
      "execution_count": 8,
      "outputs": [
        {
          "output_type": "stream",
          "name": "stdout",
          "text": [
            "     股號  股名   產業別\n",
            "0  1101  台泥  水泥工業\n",
            "1  1102  亞泥  水泥工業\n",
            "2  1103  嘉泥  水泥工業\n",
            "3  1104  環泥  水泥工業\n",
            "4  1108  幸福  水泥工業\n",
            "--------------------------\n",
            "嘉裕\n"
          ]
        }
      ]
    },
    {
      "cell_type": "markdown",
      "metadata": {
        "id": "pyelatvvLiIn"
      },
      "source": [
        "### 8️⃣ 建構 Gemini 2.5 Flash 模型"
      ]
    },
    {
      "cell_type": "code",
      "execution_count": 9,
      "metadata": {
        "id": "aSjownHrGnde"
      },
      "outputs": [],
      "source": [
        "# 建立 Gemini 2.5 Flash 模型\n",
        "def get_reply(messages):\n",
        "    try:\n",
        "        response = client.chat.completions.create(\n",
        "            model = \"gemini-2.5-flash\",\n",
        "            messages = messages\n",
        "        )\n",
        "        reply = response.choices[0].message.content\n",
        "    except OpenAIError as err:\n",
        "        reply = f\"發生 {err.type} 錯誤\\n{err.message}\"\n",
        "    return reply\n",
        "\n",
        "# 建立訊息指令(Prompt)\n",
        "def generate_content_msg(stock_id, name_df):\n",
        "\n",
        "    stock_name = get_stock_name(\n",
        "        stock_id, name_df) if stock_id != \"大盤\" else stock_id\n",
        "\n",
        "    price_data = stock_price(stock_id)\n",
        "    news_data = stock_news(stock_name)\n",
        "\n",
        "    content_msg = f'請依據以下資料來進行分析並給出一份完整的分析報告:\\n'\n",
        "\n",
        "    content_msg += f'近期價格資訊:\\n {price_data}\\n'\n",
        "\n",
        "    if stock_id != \"大盤\":\n",
        "        stock_value_data = stock_fundamental(stock_id)\n",
        "        content_msg += f'每季營收資訊：\\n {stock_value_data}\\n'\n",
        "\n",
        "    content_msg += f'近期新聞資訊: \\n {news_data}\\n'\n",
        "    content_msg += f'請給我{stock_name}近期的趨勢報告,請以詳細、\\\n",
        "      嚴謹及專業的角度撰寫此報告,並提及重要的數字, reply in 繁體中文'\n",
        "\n",
        "    return content_msg\n",
        "\n",
        "# StockGPT\n",
        "def stock_gpt(stock_id, name_df=name_df):\n",
        "    content_msg = generate_content_msg(stock_id, name_df)\n",
        "\n",
        "    msg = [{\n",
        "        \"role\": \"system\",\n",
        "        \"content\": f\"你現在是一位專業的證券分析師, 你會統整近期的股價\\\n",
        "      、基本面、新聞資訊等方面並進行分析, 然後生成一份專業的趨勢分析報告\"\n",
        "    }, {\n",
        "        \"role\": \"user\",\n",
        "        \"content\": content_msg\n",
        "    }]\n",
        "\n",
        "    reply_data = get_reply(msg)\n",
        "\n",
        "    return reply_data\n"
      ]
    },
    {
      "cell_type": "markdown",
      "metadata": {
        "id": "MkoAWO2GjnlT"
      },
      "source": [
        "### 9️⃣ 大盤趨勢報告"
      ]
    },
    {
      "cell_type": "code",
      "execution_count": 10,
      "metadata": {
        "colab": {
          "base_uri": "https://localhost:8080/"
        },
        "id": "oDHvn0VCGPzH",
        "outputId": "cba0b18d-d8d2-4308-f35f-54086938fcec"
      },
      "outputs": [
        {
          "output_type": "stream",
          "name": "stdout",
          "text": [
            "## 台灣股市近期趨勢分析報告\n",
            "\n",
            "**報告日期：** 2025年10月17日\n",
            "\n",
            "**研究目的：** 本報告旨在統整2025年10月上旬台灣股市的價格資訊、近期新聞動態及總體經濟背景，以專業且嚴謹的角度分析市場趨勢，並提出相應的投資展望與建議。\n",
            "\n",
            "---\n",
            "\n",
            "### 一、 近期市場表現回顧\n",
            "\n",
            "鑑於所提供之收盤價數據呈現極高的金額與波動性（單日漲跌幅可達±30%以上），此可能代表特定高價值資產、基金淨值或經調整後之指數參考點，而非一般上市股票價格。本報告將其視為市場整體情緒或特定趨勢之強烈指標進行分析。\n",
            "\n",
            "**1. 價格數據分析 (2025年10月08日 – 2025年10月17日):**\n",
            "*   **起始與結束價位：** 從2025年10月8日的4,475,000點至10月17日的4,488,400點，期間總體漲幅約為0.30%，顯示此期間市場表現相對持平，但其間的波動極為劇烈。\n",
            "*   **劇烈波動性：**\n",
            "    *   **高點：** 10月14日達到6,407,700點的近期高點。\n",
            "    *   **低點：** 10月15日則迅速回落至4,438,300點。\n",
            "    *   **單日報酬：** 市場經歷了數次大幅度的單日漲跌：\n",
            "        *   10月9日：上漲24.05%。\n",
            "        *   10月13日：下跌12.67%。\n",
            "        *   10月14日：再次飆升32.17%。\n",
            "        *   10月15日：隨後重挫30.73%。\n",
            "        *   最近兩個交易日 (10/16-10/17) 波動趨緩，分別上漲4.95%與下跌3.64%。\n",
            "*   **漲跌價差：** 提供的數據中「漲跌價差」皆為0.0，此資訊可能不適用於當前分析，或表示無顯著的開盤跳空情況。\n",
            "\n",
            "**小結：** 近期市場呈現極端的高波動性，雖然起始與結束價位變化不大，但其間的劇烈震盪顯示投資者情緒極不穩定，多空雙方拉鋸激烈，市場存在高度不確定性。\n",
            "\n",
            "### 二、 關鍵新聞事件與影響分析\n",
            "\n",
            "近期新聞主要圍繞在總體經濟政策、半導體及AI產業的展望，以及法人籌碼動向。\n",
            "\n",
            "**1. 總體經濟與貨幣政策：**\n",
            "*   **聯準會降息循環：** 最新消息指出美國聯準會（Fed）已開啟降息循環，2025年9月聯邦基準利率降至4.00%-4.25%，並預估年底前還會再降息2碼。此一寬鬆的貨幣政策通常有利於股市資金流動性，可望為全球及台灣股市提供長期支撐。\n",
            "*   **美國銀行財報穩健：** 六大美國銀行（摩根大通、高盛、富國銀行、花旗、美國銀行、摩根士丹利）財報獲利表現優於預期，且評估地區銀行危機風險不大。這有助於提振全球金融市場信心，降低系統性風險擔憂。\n",
            "*   **通膨與債務問題：** 新聞提及「富國債務高企使通膨成為解決手段！經濟學人：財富將『任意重組』」，這暗示長期可能面臨通膨壓力與財富重組風險，雖然短期降息循環提供流動性，但長期的結構性問題仍需關注。\n",
            "\n",
            "**2. 產業動態 (半導體與AI)：**\n",
            "*   **台積電法說會高度樂觀：** 台積電（2330-TW）法說會釋出極其強勁的AI需求展望，將2025年美元營收年增率由近30%大幅上修至34%至36%，並將全年資本支出下限調高至400億至420億美元。公司對2026年展望亦持樂觀態度，積極提升2奈米產能以應對AI需求。這強化了市場對AI產業長期爆發性成長的信心，並將台積電及其供應鏈視為核心受惠者。\n",
            "*   **AI與2奈米供應鏈：** 新聞中列舉多檔AI和2奈米相關供應鏈個股，例如日月光(3711)、京元電(2449)、旺矽(6223)、昇陽半(8028)、中砂(1560)、新應材(4749)、台特化(4772)、奇鋐(3017)、勤誠(8210)、景碩(3189)、宜鼎(5289)等，並對其中部分公司給予詳細分析。這顯示資金高度關注這些具備長期成長潛力的標的。\n",
            "*   **電子個股表現分歧：** 儘管台積電利多，新聞亦點出「台股不給面子」，市場在台積電法說後仍呈現拉回。部分電子個股如凱美 (2375-TW) 和至上 (8112-TW) 雖營收逐步回升，毛利率和營益率顯示其獲利能力仍在修復階段，表現相對穩健但並非全面噴發。\n",
            "\n",
            "**3. 法人籌碼動向：**\n",
            "*   **外資與三大法人大幅賣超：** 2025年10月17日，台股盤中翻黑，外資大砍新台幣219億元，三大法人同步賣超總計高達新台幣316.89億元。這是近期市場最為顯著的負面訊號，表明儘管有台積電的強勁利多，但法人對整體市場的風險偏好明顯下降，或正在進行大規模的資金調節。\n",
            "\n",
            "**4. 中小型公司營收概況：**\n",
            "*   **9月營收表現分歧：** 截至10月17日，已公布9月營收報告（資本額<50億）的2032家公司中，有475家（約23.3%）年增率大於25%，但也有347家（約17.1%）年增率小於-20%。這反映出中小型股表現兩極化，選股難度較高，資金傾向於尋找具有明確成長性的個股。\n",
            "\n",
            "**5. 特定事件：**\n",
            "*   **三貝德公開收購成就：** 三貝德 (8406-TW) 公開收購亞洲教育平台股份有限公司普通股條件均已成就，累積應賣股數達2,465,365股，已達最低收購數量1,910,174股。此為個別公司併購事件，對整體大盤影響有限，但反映市場仍有正常的資本運作活動。\n",
            "\n",
            "### 三、 趨勢分析與展望\n",
            "\n",
            "**1. 主要驅動因素：**\n",
            "*   **正面因素：**\n",
            "    *   **資金寬鬆：** 聯準會開啟降息循環，釋放市場流動性，為風險資產提供估值支撐。\n",
            "    *   **AI產業趨勢明確：** 以台積電為核心的半導體產業在AI需求帶動下，基本面強勁且成長展望樂觀，為台股長期發展注入活水。\n",
            "    *   **部分中小型公司成長：** 儘管整體分歧，仍有近四分之一的中小型公司展現強勁的營收成長動能。\n",
            "*   **負面因素：**\n",
            "    *   **法人籌碼流出：** 外資與三大法人大幅賣超，顯示對大盤整體表現抱持謹慎態度，資金面壓力大。\n",
            "    *   **利多不漲：** 台積電法說會釋出重大利多，但大盤卻逆勢翻黑，反映市場短期獲利了結賣壓沉重，或對高估值存在疑慮。\n",
            "    *   **高波動性：** 近期股價數據顯示市場情緒不穩定，劇烈波動增加投資風險。\n",
            "\n",
            "**2. 潛在風險：**\n",
            "*   **國際地緣政治風險：** 全球局勢若有動盪，可能影響供應鏈穩定及市場信心。\n",
            "*   **通膨再起與利率預期變化：** 若通膨超預期回升，可能導致聯準會降息步伐放緩或逆轉，影響市場資金環境。\n",
            "*   **AI概念股估值過高風險：** 儘管AI前景光明，若股價已充分反應甚至透支未來成長，可能面臨回檔修正壓力。\n",
            "*   **大法人持續賣超：** 若外資與三大法人賣超趨勢不變，將對市場形成持續性的壓力。\n",
            "\n",
            "**3. 市場情境預測：**\n",
            "*   **短期 (1-2週)：** 考量到近期法人大舉賣超與市場對利多反應平淡，預期台股可能維持震盪整理格局，甚至有進一步回檔修正的壓力。投資者情緒將偏向謹慎觀望。\n",
            "*   **中期 (1-3個月)：** 若AI產業的強勁基本面能持續發酵，且聯準會降息預期不變，市場有望在經歷短期調整後，資金重新聚焦於具備明確成長性的AI與半導體相關類股。然而，若法人賣壓持續不斷，則大盤整體表現仍將受限。\n",
            "*   **長期 (6個月以上)：** AI趨勢作為劃時代的產業變革，將為相關供應鏈帶來長期穩定的成長動能。在聯準會寬鬆貨幣政策的環境下，全球資金仍將尋求高成長標的。台股作為全球半導體及AI供應鏈的關鍵一環，長期展望仍偏向樂觀，但需警惕市場對高成長預期的過度反應。\n",
            "\n",
            "### 四、 投資建議\n",
            "\n",
            "綜合考量近期市場表現與新聞事件，建議投資人採取以下策略：\n",
            "\n",
            "1.  **擇優布局、分批承接：** 儘管市場存在短期賣壓，AI及半導體先進製程的長期趨勢確立。建議投資人密切關注在市場拉回或修正時，分批布局具備核心競爭力、基本面紮實的AI與半導體供應鏈「一線強勢股」。\n",
            "2.  **聚焦高成長性產業：** 優先關注台積電及其關鍵供應鏈，如先進封裝、特殊化學材料、高速傳輸、散熱模組、ABF載板等領域中，具備高盈餘、高毛利的個股。\n",
            "3.  **嚴格控管風險：** 鑒於市場波動劇烈，務必嚴格執行資金管理和風險控管，避免過度集中投資或追高殺低。特別留意法人籌碼動向，作為判斷短期趨勢的參考指標。\n",
            "4.  **注意個股差異：** 中小型股表現分歧，應避免盲目追漲，選擇有明確營收成長與獲利改善跡象的個股。\n",
            "5.  **獨立判斷：** 資訊量龐大，投資人應保持獨立思考，結合自身風險承受能力，審慎評估投資決策。\n",
            "\n",
            "---\n",
            "\n",
            "**聲明：** 本報告所載資料僅供參考之用，不構成任何投資建議。過往績效不保證未來獲利，投資人應獨立判斷，審慎評估並自負投資風險。報告內容可能因市場變化而調整，恕不另行通知。\n"
          ]
        }
      ],
      "source": [
        "reply = stock_gpt(stock_id=\"大盤\")\n",
        "print(reply)"
      ]
    },
    {
      "cell_type": "markdown",
      "metadata": {
        "id": "BP5FkDxALp4e"
      },
      "source": [
        "### 🔟 個股分析報告"
      ]
    },
    {
      "cell_type": "code",
      "execution_count": 11,
      "metadata": {
        "colab": {
          "base_uri": "https://localhost:8080/"
        },
        "id": "j1x0glPsNJe2",
        "outputId": "3cde85f9-dcdf-4965-9934-7b43649e8318"
      },
      "outputs": [
        {
          "output_type": "stream",
          "name": "stderr",
          "text": [
            "/tmp/ipython-input-557545184.py:10: FutureWarning: The default fill_method='pad' in Series.pct_change is deprecated and will be removed in a future version. Either fill in any non-leading NA values prior to calling pct_change or specify 'fill_method=None' to not fill NA values.\n",
            "  quarterly_revenue_growth = np.round(stock.quarterly_financials.loc[\"Total Revenue\"].pct_change(-1).dropna().tolist(), 2)\n",
            "/tmp/ipython-input-557545184.py:16: FutureWarning: The default fill_method='pad' in Series.pct_change is deprecated and will be removed in a future version. Either fill in any non-leading NA values prior to calling pct_change or specify 'fill_method=None' to not fill NA values.\n",
            "  quarterly_eps_growth = np.round(stock.quarterly_financials.loc[\"Basic EPS\"].pct_change(-1).dropna().tolist(), 2)\n"
          ]
        },
        {
          "output_type": "stream",
          "name": "stdout",
          "text": [
            "## 台積電 (TSMC) 近期趨勢分析報告\n",
            "\n",
            "**報告日期：** 2025年10月18日\n",
            "**公司名稱：** 台灣積體電路製造股份有限公司 (Taiwan Semiconductor Manufacturing Company, TSMC)\n",
            "**股票代號：** 2330-TW (或根據上下文判斷為其他市場代號)\n",
            "\n",
            "---\n",
            "\n",
            "### 一、 近期股價表現分析\n",
            "\n",
            "**重要提示：**\n",
            "所提供的股價資料顯示，收盤價數據異常龐大 (例如：23,064,494至38,077,331)，顯然不符合台積電實際股價水平，可能為數據輸入錯誤或非股價之其他識別碼。因此，無法依據此數據對台積電近期股價走勢進行實質性的量化分析。\n",
            "\n",
            "**初步觀察：**\n",
            "儘管原始股價數據存在可靠性問題，但從提供的「每日報酬」數據來看，在2025年10月8日至10月17日期間，報酬率呈現較大波動。例如，10月9日錄得高達69.32%的顯著漲幅，而10月14日則出現了-25.93%的下跌。這表明即使是在短期內，市場對該標的的情緒變化劇烈。然而，由於原始價格數據的異常，這些報酬率數據亦需審慎解讀，無法作為判斷真實股價波動幅度的依據。本報告後續分析將主要聚焦於基本面和新聞資訊。\n",
            "\n",
            "### 二、 營運基本面分析\n",
            "\n",
            "**2.1 營收與獲利概況**\n",
            "\n",
            "從近五個季度的營收成長率觀察，台積電展現了波動中的增長態勢：\n",
            "*   **2025年第二季：** 營收成長率為 **11%**。\n",
            "*   **2025年第一季：** 營收成長率為 **-3%**，是近期唯一出現衰退的季度。\n",
            "*   **2024年第四季：** 營收成長率為 **14%**。\n",
            "*   **2024年第三季：** 營收成長率為 **13%**。\n",
            "*   **2024年第二季：** 營收成長率為 **0%** (持平)。\n",
            "\n",
            "最新的2025年第二季營收成長率回升至11%，顯示公司營運已擺脫第一季的短暫逆風，重回成長軌道。\n",
            "\n",
            "獲利方面，最近三季的EPS及其季增率如下：\n",
            "*   **最新一季EPS：** **15.36元**，季增率達 **10%**。\n",
            "*   **前一季EPS：** **13.94元**，季增率為 **-4%**。\n",
            "*   **再前一季EPS：** **14.45元**，季增率達 **15%**。\n",
            "\n",
            "EPS趨勢呈現先減後增，最新一季EPS及季增率的顯著改善，表明公司盈利能力正在積極復甦。\n",
            "\n",
            "**2.2 產業趨勢與前景**\n",
            "\n",
            "*   **AI黃金週期推動需求：** 2025年全球AI伺服器出貨量預估將達到 **181萬台**，年增率高達 **40%**，其中搭載HBM高頻寬記憶體的高階伺服器將突破百萬台。北美四大CSP (微軟、Google、亞馬遜、Meta) 是主要驅動力，微軟採購成長預計近八成，而甲骨文與OpenAI的合作也使其成為出貨增幅最快的雲端業者。此趨勢將直接帶動對先進AI晶片的需求，台積電作為主要供應商將顯著受惠。\n",
            "*   **先進製程與封裝技術領先：** 晶圓代工市場預計今年營收成長 **17%**，達 **1650億美元**。台積電在2奈米節點的量產進度與客戶黏著度上穩居領先地位。後段封裝技術如2.5D/3.5D堆疊、HBM整合與Chiplet設計成為主流趨勢，推升AI晶片效能。台積電預計在2026年前將CoWoS月產能從 **9.5萬片** 增至 **11萬片**，以支應NVIDIA、博通等客戶的長期訂單需求，這將是其營收與獲利的重要成長動能。\n",
            "*   **能源供應新格局：** AI算力需求暴增，使能源供應成為戰略焦點。小型模組化反應爐(SMR)被視為AI資料中心友善型能源，具模組化與快速建置優勢，為台灣變壓器、冷卻模組與供電系統製造等相關受惠族群帶來新機會，間接鞏固AI產業生態鏈的穩健發展。\n",
            "\n",
            "### 三、 近期新聞與市場情緒\n",
            "\n",
            "近期新聞多數聚焦於AI帶來的龐大商機，以及台積電在其中的關鍵地位：\n",
            "\n",
            "*   **AI核心地位再確認：** 2025年10月18日多篇報導強調台積電在AI黃金週期中的主導地位，特別是在先進製程與高階封裝領域。陳智霖分析師指出，AI正從硬體競賽進化為AI系統循環，台灣憑藉完整半導體供應鏈，有望成為全球AI生態系核心。\n",
            "*   **NVIDIA強化合作與美國廠進展：** 2025年10月17日報導指出，NVIDIA與台積電聯手，首款美國製AI晶圓已在亞利桑那廠正式亮相，涵蓋2奈米、3奈米、4奈米及A16晶片。NVIDIA執行長黃仁勳表示，NVIDIA有望在2025年取代Apple，成為台積電最大客戶，並鎖定台積電一半以上的CoWoS封裝產能，此數據強烈暗示NVIDIA對台積電先進技術的依賴和未來合作的深度。\n",
            "*   **台灣經濟前景樂觀：** 2025年10月18日報導提及，台灣主計總處主計長陳淑姿表示，由於AI需求持續熱絡，近期出口暢旺，2025年GDP成長率有望超過 **4.5%**。此宏觀利好將為台積電的營運提供良好的外部環境。\n",
            "*   **AI帶動記憶體與周邊產業復甦：** 南亞科(2408-TW)受AI帶動，2025年第三季稅後純益達 **15.63億元**，EPS **0.5元**，終結連11季虧損。宜鼎(5289-TW)董事長簡川勝指出AI需求爆發導致DDR4產能緊縮，同時公司Edge AI案件數已突破千件。這些資訊印證了AI對整個半導體供應鏈的廣泛拉動效應。\n",
            "*   **鴻海(Foxconn)等供應鏈夥伴受惠：** 高盛看好鴻海AI潛力，預估其EPS三年內翻倍 (2025年EPS 12.09元，2026年19.06元，2027年22.52元)，也反映出AI伺服器產業鏈的整體旺盛需求。\n",
            "\n",
            "### 四、 綜合分析與趨勢展望\n",
            "\n",
            "儘管近期股價數據存在顯著異常，無法提供可靠的技術分析依據，但從強勁的基本面、領先的技術優勢以及AI產業的長期趨勢來看，台積電正站在AI黃金週期的核心位置。\n",
            "\n",
            "*   **基本面穩健復甦：** 營收與EPS數據顯示公司已擺脫前期的逆風，重回成長軌道，尤其最新一季的獲利表現令人鼓舞。這反映了市場對先進製程晶片需求的強勁支撐。\n",
            "*   **AI趨勢下的絕對優勢：** 全球AI伺服器出貨量和HBM需求預期的爆炸性增長，為台積電提供了巨大的市場空間。其在2奈米等先進製程和CoWoS等高階封裝領域的領先地位，是其不可複製的核心競爭力。NVIDIA作為AI晶片龍頭，預計成為台積電最大客戶並大量鎖定CoWoS產能，進一步凸顯台積電在AI生態系統中的戰略重要性。\n",
            "*   **供應鏈戰略佈局：** 台積電亞利桑那廠的首款美國製AI晶圓下線，不僅強化了美國供應鏈，也展現了公司在全球佈局上的策略彈性與執行力。這有助於其在全球地緣政治環境變動下維持競爭力。\n",
            "*   **宏觀利好助推：** 台灣GDP上修預期，以及記憶體與周邊產業的復甦，為台積電的營運創造了有利的宏觀經濟環境，預計將持續支持其成長動能。\n",
            "\n",
            "整體而言，台積電在AI大趨勢下的核心地位、技術領先以及與全球主要AI客戶的緊密關係，使其具備持續擴大市場份額和提升獲利能力的潛力。AI不再只是科技單點突破，而是驅動算力、材料、能源與製造協同升級的關鍵力量，台積電作為其中最關鍵的製造環節，其長期價值依然值得高度肯定。\n",
            "\n",
            "### 五、 投資建議與風險提示\n",
            "\n",
            "**投資建議：**\n",
            "基於上述強勁的基本面、領先的技術優勢以及AI產業的長期趨勢，儘管技術面數據異常無法判斷，但台積電作為全球半導體產業的關鍵領袖，其長期投資價值依然突出。建議投資人應持續關注AI產業的發展、台積電先進製程的量產進度及其CoWoS產能的擴充情況。可將台積電視為長期配置於AI核心供應鏈的優質標的，尤其適合注重公司基本面與產業趨勢的投資者。\n",
            "\n",
            "**風險提示：**\n",
            "1.  **地緣政治風險：** 全球貿易摩擦、特定區域政策變化可能影響半導體供應鏈穩定性及市場准入。\n",
            "2.  **宏觀經濟風險：** 全球經濟增速放緩、通膨壓力、聯準會貨幣政策等因素可能影響終端需求，進而影響晶圓代工訂單。\n",
            "3.  **產業競爭加劇：** 三星與Intel在先進製程及封裝技術的追趕可能帶來競爭壓力，儘管台積電目前仍處於領先地位。\n",
            "4.  **技術發展挑戰：** 先進製程研發成本高昂、良率提升不易等技術挑戰，可能影響研發投入和量產進度。\n",
            "5.  **能源供應不確定性：** AI算力對電力需求巨大，未來能源供應穩定性及成本可能構成隱憂。\n",
            "6.  **本次報告依據的股價數據異常：** 投資人應自行查核最新的正確股價資訊，並進行獨立判斷。\n",
            "\n",
            "---\n",
            "**免責聲明：**\n",
            "本報告所載資料僅供參考，不構成任何投資建議或買賣邀約。投資人應在作出任何投資決策前，根據自身判斷和情況，徵詢專業意見。本公司對任何因使用本報告內容而引致的損失，概不承擔任何責任。以往績效不保證未來獲利。\n"
          ]
        }
      ],
      "source": [
        "reply = stock_gpt(stock_id=\"2330\")\n",
        "print(reply)"
      ]
    },
    {
      "cell_type": "markdown",
      "source": [
        "### 1️⃣1️⃣ 雞蛋水餃股也能做分析"
      ],
      "metadata": {
        "id": "VP2kpv8Q_SUH"
      }
    },
    {
      "cell_type": "code",
      "source": [
        "reply = stock_gpt(stock_id=\"4414\")\n",
        "print(reply)"
      ],
      "metadata": {
        "colab": {
          "base_uri": "https://localhost:8080/"
        },
        "id": "3pYDV3Kw_SoE",
        "outputId": "396fd444-cede-4dcd-fbb7-fc9d09e262b1"
      },
      "execution_count": 12,
      "outputs": [
        {
          "output_type": "stream",
          "name": "stderr",
          "text": [
            "/tmp/ipython-input-557545184.py:10: FutureWarning: The default fill_method='pad' in Series.pct_change is deprecated and will be removed in a future version. Either fill in any non-leading NA values prior to calling pct_change or specify 'fill_method=None' to not fill NA values.\n",
            "  quarterly_revenue_growth = np.round(stock.quarterly_financials.loc[\"Total Revenue\"].pct_change(-1).dropna().tolist(), 2)\n",
            "/tmp/ipython-input-557545184.py:16: FutureWarning: The default fill_method='pad' in Series.pct_change is deprecated and will be removed in a future version. Either fill in any non-leading NA values prior to calling pct_change or specify 'fill_method=None' to not fill NA values.\n",
            "  quarterly_eps_growth = np.round(stock.quarterly_financials.loc[\"Basic EPS\"].pct_change(-1).dropna().tolist(), 2)\n"
          ]
        },
        {
          "output_type": "stream",
          "name": "stdout",
          "text": [
            "## 如興 (4414) 近期趨勢分析報告\n",
            "\n",
            "**報告日期：** 2025年10月18日\n",
            "**分析標的：** 如興 (4414)\n",
            "\n",
            "### 報告概述 (Executive Summary)\n",
            "\n",
            "如興 (4414) 近期股價資訊顯示出極高的異常波動性，與基本面及新聞報導內容存在嚴重數據不一致，使得直接依賴原始股價數據進行分析具有高度風險。然而，綜合其基本面及近期新聞資訊，如興在2025年上半年營運已見改善，成功擺脫全額交割股身份，毛利率與營業利益率皆有顯著提升，並轉虧為盈。然而，近期的月營收年減幅度仍大，且第二季財報顯示稅後淨利仍受業外因素拖累，導致每股盈餘（EPS）大幅虧損。整體而言，如興目前處於營運改善與外部挑戰並存的階段，市場情緒受正面事件（恢復普通交易）與負面因素（營收下滑、淨利虧損）交互影響，投資展望需保持謹慎。\n",
            "\n",
            "### 一、近期股價表現分析\n",
            "\n",
            "**1. 數據異常性說明：**\n",
            "本報告所提供之「近期價格資訊」顯示收盤價位於數十萬至數百萬的極高區間，且每日報酬率在短時間內經歷高達數十%至數百%的劇烈波動（如2025-10-09的81.04%、2025-10-13的178.09%），同時「漲跌價差」卻均顯示為0.0，這與正常的台股交易行為與價格呈現方式嚴重不符，且與新聞報導中提及的股價（如2025-09-05盤中速報的13.4元、漲停價14.0元）存在巨大差異。\n",
            "**基於此顯著數據異常，本報告將不採信原始「近期價格資訊」中的具體數值進行分析，而是依據新聞報導來推斷其近期股價走勢。**\n",
            "\n",
            "**2. 依新聞推斷之股價走勢：**\n",
            "*   **恢復普通交易帶動上漲 (2025年9月上旬)：** 根據2025年9月6日新聞，如興因營運回穩、減資彌補虧損，自9月4日起恢復普通交易方法，帶動股價「周漲2成衝5年高點」。這顯示市場對其交易狀況恢復正常有正面反應，提升了市場信心。\n",
            "*   **短期劇烈波動 (2025年9月上旬)：** 同樣在9月5日新聞中，如興股價曾出現「急跌-4.32%報13.4元」與「股價拉至漲停，漲停價14.0元」的現象。這表明即使在利好消息刺激下，市場多空拉鋸仍劇烈，股價快速波動是其近期特性。\n",
            "*   **缺乏10月份實時股價資訊：** 由於原始股價資訊的可靠性問題，缺乏可靠的10月份實時價格數據，無法對10月份具體股價走勢進行精確判斷。但從基本面和月營收數據來看，缺乏持續利好支撐，股價短期內可能回歸震盪或反應營收壓力。\n",
            "\n",
            "### 二、基本面分析\n",
            "\n",
            "**1. 營收表現：**\n",
            "*   **季度營收成長率：**\n",
            "    *   2025年Q2 (2025-06-30)：年增率 **+3%**\n",
            "    *   2025年Q1 (2025-03-31)：年增率 **-19%**\n",
            "    *   2024年Q4 (2024-12-31)：年增率 **-8%**\n",
            "    *   2024年Q3 (2024-09-30)：年增率 **+33%**\n",
            "    *   2024年Q2 (2024-06-30)：年增率 **+0%**\n",
            "    *   **分析：** 如興的季度營收成長呈現不穩定狀態，2024年Q3曾有顯著增長，但隨後兩個季度轉為年減，直至2025年Q2才重回正成長。\n",
            "*   **月營收表現 (新聞資訊)：**\n",
            "    *   2025年9月營收：**10.99億元，年減13.54%**。\n",
            "    *   2025年8月營收：**13.08億元，年減11%**。\n",
            "    *   2025年1-9月累計營收：**103.22億元**。\n",
            "    *   **分析：** 儘管2025年Q2季度營收有所好轉，但最新的8月和9月月營收數據均呈現兩位數的年減幅度，顯示公司營收成長的動能再度放緩，甚至面臨衰退壓力。累計營收仍維持百億規模。\n",
            "\n",
            "**2. 獲利能力：**\n",
            "*   **每股盈餘 (EPS)：**\n",
            "    *   2025年Q2 (2025-06-30)：**-2.43元**\n",
            "    *   2025年Q1 (2025-03-31)：**+0.04元**\n",
            "    *   2024年Q4 (2024-12-31)：**-0.04元**\n",
            "    *   **EPS季增率：**\n",
            "        *   2025年Q2：**-65.0%** (與前季相比)\n",
            "    *   **新聞資訊 (2025年上半年H1)：** 稅後虧損 **1.57億元**，每股損失 **0.26元**。\n",
            "    *   **分析：**\n",
            "        *   提供數據中的2025年Q2 EPS (-2.43元) 與新聞報導的2025年上半年每股損失0.26元存在顯著差異，這可能源於會計處理、數據採集時間點或一次性重大損益認列導致。若以新聞提及的H1 EPS -0.26元來看，盈利狀況相對較穩定，但Q2單季錄得-2.43元的巨額虧損則極不尋常，可能暗示存在重大非經常性或業外損失。\n",
            "        *   綜合來看，如興的盈利能力仍不穩定，在2024年Q4及2025年Q2均出現虧損，儘管2025年Q1勉強轉正。\n",
            "*   **毛利率與營益率 (新聞資訊，2025年上半年H1)：**\n",
            "    *   毛利率：**20.84%** (年增5.58個百分點)\n",
            "    *   營業利益：**2.61億元**\n",
            "    *   營益率：**3.92%** (較去年同期虧轉盈)\n",
            "    *   **分析：** 這些數據顯示如興在2025年上半年的本業經營有所改善，毛利率和營益率皆有顯著提升，營業利益也成功由虧轉盈。這表明公司的成本控制和營運效率有所優化。然而，新聞也提及「受到業外拖累，稅後仍虧損1.57億元、每股損失0.26元」，這解釋了為何儘管本業轉盈，但最終淨利仍為負值，也可能是導致Q2 EPS巨額虧損的原因。\n",
            "\n",
            "### 三、新聞與事件影響\n",
            "\n",
            "1.  **正面影響：**\n",
            "    *   **擺脫全額交割股身份 (2025-09-06)：** 自9月4日起恢復普通交易，結束了長達三年的全額交割限制。這對公司形象、市場流動性及投資人信心是極大的正面提振，也代表其財務結構與營運狀況已達證交所規定。\n",
            "    *   **上半年營運改善：** 上半年營收年增3.7%，毛利率提升5.58個百分點至20.84%，營業利益轉正，顯示公司在營運層面已有所回穩。\n",
            "\n",
            "2.  **負面影響：**\n",
            "    *   **近期月營收下滑：** 8月及9月營收年減幅度均超過10%，顯示終端需求可能依然疲軟，或公司訂單取得面臨挑戰。\n",
            "    *   **淨利持續虧損：** 儘管本業獲利改善，但上半年稅後仍虧損1.57億元，且第二季EPS數據顯示大幅虧損，表明業外因素對整體獲利構成顯著壓力。投資者需密切關注這些業外拖累的具體內容及後續影響。\n",
            "\n",
            "### 四、綜合評估與未來展望\n",
            "\n",
            "如興近期呈現出一個「冰火兩重天」的局面：一方面，公司在管理層的努力下，成功擺脫了全額交割股的陰霾，並在2025年上半年實現了營業利益的轉正，毛利率大幅提升，展現了本業營運改善的韌性。這對其長期發展和市場形象是極為重要的正面訊號。\n",
            "\n",
            "然而，另一方面，其盈利能力仍受業外因素顯著拖累，導致淨利持續虧損。近期月營收的連續年減，也反映出外部市場環境（如全球經濟景氣、紡織業復甦狀況）對其營收表現的持續壓力。\n",
            "\n",
            "**未來展望：**\n",
            "*   **利多：** 隨著營運結構的調整和效率提升，若能持續改善本業獲利能力，並有效管理或解決業外虧損問題，其財務體質有望進一步穩固。擺脫全額交割股身份有助於吸引更多機構投資者關注。\n",
            "*   **利空與風險：** 紡織成衣業面臨的全球經濟下行、庫存去化、品牌訂單能見度不高仍是主要風險。若月營收持續衰退，將對其基本面造成壓力。業外虧損的性質與規模也需要更透明的說明，以評估其對未來獲利的潛在衝擊。\n",
            "\n",
            "### 五、投資建議\n",
            "\n",
            "鑑於本報告所提供的原始股價資訊存在嚴重數據異常，且公司基本面呈現出營運改善與獲利挑戰並存的複雜局面，我們建議對如興股票採取 **觀望 (Neutral / Cautious)** 的態度。\n",
            "\n",
            "**建議投資人密切關注以下關鍵指標：**\n",
            "1.  **月營收數據：** 觀察未來幾個月營收是否能止跌回穩，甚至恢復正成長，這將是判斷公司營運是否真正走出谷底的關鍵指標。\n",
            "2.  **下一季度財報：** 詳細檢視其淨利表現，尤其是關於「業外拖累」的具體內容、金額及是否為一次性事件。若業外虧損能有效控制或轉正，將大幅改善其整體獲利。\n",
            "3.  **整體產業趨勢：** 留意全球紡織成衣業的復甦情況，這將直接影響如興的訂單與營收。\n",
            "\n",
            "在這些不確定性釐清之前，不建議進行積極的投資操作。投資者應等待更明確的營運改善訊號，特別是淨利能持續性轉正的證明，再行評估其投資價值。\n",
            "\n",
            "---\n",
            "**免責聲明：** 本報告僅供參考，不構成任何投資建議。投資有風險，請投資人獨立判斷並承擔投資風險。\n"
          ]
        }
      ]
    }
  ],
  "metadata": {
    "colab": {
      "provenance": [],
      "include_colab_link": true
    },
    "kernelspec": {
      "display_name": "Python 3",
      "name": "python3"
    },
    "language_info": {
      "name": "python"
    }
  },
  "nbformat": 4,
  "nbformat_minor": 0
}