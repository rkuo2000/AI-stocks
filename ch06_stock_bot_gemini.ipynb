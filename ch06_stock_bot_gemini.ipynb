{
  "cells": [
    {
      "cell_type": "markdown",
      "metadata": {
        "id": "TFQ17AmL0Yd0"
      },
      "source": [
        "# CH-06 個股分析機器人"
      ]
    },
    {
      "cell_type": "markdown",
      "metadata": {
        "id": "rwGTl75BLNwu"
      },
      "source": [
        "### 1️⃣ 安裝及匯入套件"
      ]
    },
    {
      "cell_type": "code",
      "execution_count": 1,
      "metadata": {
        "colab": {
          "base_uri": "https://localhost:8080/"
        },
        "id": "V9x1F86C4T9u",
        "outputId": "48352248-a0f1-401e-a0b1-1f3a35e9e8ea"
      },
      "outputs": [
        {
          "output_type": "stream",
          "name": "stdout",
          "text": [
            "Requirement already satisfied: openai in /usr/local/lib/python3.11/dist-packages (1.61.1)\n",
            "Requirement already satisfied: anyio<5,>=3.5.0 in /usr/local/lib/python3.11/dist-packages (from openai) (3.7.1)\n",
            "Requirement already satisfied: distro<2,>=1.7.0 in /usr/local/lib/python3.11/dist-packages (from openai) (1.9.0)\n",
            "Requirement already satisfied: httpx<1,>=0.23.0 in /usr/local/lib/python3.11/dist-packages (from openai) (0.28.1)\n",
            "Requirement already satisfied: jiter<1,>=0.4.0 in /usr/local/lib/python3.11/dist-packages (from openai) (0.8.2)\n",
            "Requirement already satisfied: pydantic<3,>=1.9.0 in /usr/local/lib/python3.11/dist-packages (from openai) (2.10.6)\n",
            "Requirement already satisfied: sniffio in /usr/local/lib/python3.11/dist-packages (from openai) (1.3.1)\n",
            "Requirement already satisfied: tqdm>4 in /usr/local/lib/python3.11/dist-packages (from openai) (4.67.1)\n",
            "Requirement already satisfied: typing-extensions<5,>=4.11 in /usr/local/lib/python3.11/dist-packages (from openai) (4.12.2)\n",
            "Requirement already satisfied: idna>=2.8 in /usr/local/lib/python3.11/dist-packages (from anyio<5,>=3.5.0->openai) (3.10)\n",
            "Requirement already satisfied: certifi in /usr/local/lib/python3.11/dist-packages (from httpx<1,>=0.23.0->openai) (2025.1.31)\n",
            "Requirement already satisfied: httpcore==1.* in /usr/local/lib/python3.11/dist-packages (from httpx<1,>=0.23.0->openai) (1.0.7)\n",
            "Requirement already satisfied: h11<0.15,>=0.13 in /usr/local/lib/python3.11/dist-packages (from httpcore==1.*->httpx<1,>=0.23.0->openai) (0.14.0)\n",
            "Requirement already satisfied: annotated-types>=0.6.0 in /usr/local/lib/python3.11/dist-packages (from pydantic<3,>=1.9.0->openai) (0.7.0)\n",
            "Requirement already satisfied: pydantic-core==2.27.2 in /usr/local/lib/python3.11/dist-packages (from pydantic<3,>=1.9.0->openai) (2.27.2)\n",
            "Collecting yfinance==0.2.38\n",
            "  Downloading yfinance-0.2.38-py2.py3-none-any.whl.metadata (11 kB)\n",
            "Requirement already satisfied: pandas>=1.3.0 in /usr/local/lib/python3.11/dist-packages (from yfinance==0.2.38) (2.2.2)\n",
            "Requirement already satisfied: numpy>=1.16.5 in /usr/local/lib/python3.11/dist-packages (from yfinance==0.2.38) (1.26.4)\n",
            "Requirement already satisfied: requests>=2.31 in /usr/local/lib/python3.11/dist-packages (from yfinance==0.2.38) (2.32.3)\n",
            "Requirement already satisfied: multitasking>=0.0.7 in /usr/local/lib/python3.11/dist-packages (from yfinance==0.2.38) (0.0.11)\n",
            "Requirement already satisfied: lxml>=4.9.1 in /usr/local/lib/python3.11/dist-packages (from yfinance==0.2.38) (5.3.1)\n",
            "Collecting appdirs>=1.4.4 (from yfinance==0.2.38)\n",
            "  Downloading appdirs-1.4.4-py2.py3-none-any.whl.metadata (9.0 kB)\n",
            "Requirement already satisfied: pytz>=2022.5 in /usr/local/lib/python3.11/dist-packages (from yfinance==0.2.38) (2025.1)\n",
            "Requirement already satisfied: frozendict>=2.3.4 in /usr/local/lib/python3.11/dist-packages (from yfinance==0.2.38) (2.4.6)\n",
            "Requirement already satisfied: peewee>=3.16.2 in /usr/local/lib/python3.11/dist-packages (from yfinance==0.2.38) (3.17.9)\n",
            "Requirement already satisfied: beautifulsoup4>=4.11.1 in /usr/local/lib/python3.11/dist-packages (from yfinance==0.2.38) (4.13.3)\n",
            "Requirement already satisfied: html5lib>=1.1 in /usr/local/lib/python3.11/dist-packages (from yfinance==0.2.38) (1.1)\n",
            "Requirement already satisfied: soupsieve>1.2 in /usr/local/lib/python3.11/dist-packages (from beautifulsoup4>=4.11.1->yfinance==0.2.38) (2.6)\n",
            "Requirement already satisfied: typing-extensions>=4.0.0 in /usr/local/lib/python3.11/dist-packages (from beautifulsoup4>=4.11.1->yfinance==0.2.38) (4.12.2)\n",
            "Requirement already satisfied: six>=1.9 in /usr/local/lib/python3.11/dist-packages (from html5lib>=1.1->yfinance==0.2.38) (1.17.0)\n",
            "Requirement already satisfied: webencodings in /usr/local/lib/python3.11/dist-packages (from html5lib>=1.1->yfinance==0.2.38) (0.5.1)\n",
            "Requirement already satisfied: python-dateutil>=2.8.2 in /usr/local/lib/python3.11/dist-packages (from pandas>=1.3.0->yfinance==0.2.38) (2.8.2)\n",
            "Requirement already satisfied: tzdata>=2022.7 in /usr/local/lib/python3.11/dist-packages (from pandas>=1.3.0->yfinance==0.2.38) (2025.1)\n",
            "Requirement already satisfied: charset-normalizer<4,>=2 in /usr/local/lib/python3.11/dist-packages (from requests>=2.31->yfinance==0.2.38) (3.4.1)\n",
            "Requirement already satisfied: idna<4,>=2.5 in /usr/local/lib/python3.11/dist-packages (from requests>=2.31->yfinance==0.2.38) (3.10)\n",
            "Requirement already satisfied: urllib3<3,>=1.21.1 in /usr/local/lib/python3.11/dist-packages (from requests>=2.31->yfinance==0.2.38) (2.3.0)\n",
            "Requirement already satisfied: certifi>=2017.4.17 in /usr/local/lib/python3.11/dist-packages (from requests>=2.31->yfinance==0.2.38) (2025.1.31)\n",
            "Downloading yfinance-0.2.38-py2.py3-none-any.whl (72 kB)\n",
            "\u001b[2K   \u001b[90m━━━━━━━━━━━━━━━━━━━━━━━━━━━━━━━━━━━━━━━━\u001b[0m \u001b[32m73.0/73.0 kB\u001b[0m \u001b[31m2.1 MB/s\u001b[0m eta \u001b[36m0:00:00\u001b[0m\n",
            "\u001b[?25hDownloading appdirs-1.4.4-py2.py3-none-any.whl (9.6 kB)\n",
            "Installing collected packages: appdirs, yfinance\n",
            "  Attempting uninstall: yfinance\n",
            "    Found existing installation: yfinance 0.2.52\n",
            "    Uninstalling yfinance-0.2.52:\n",
            "      Successfully uninstalled yfinance-0.2.52\n",
            "Successfully installed appdirs-1.4.4 yfinance-0.2.38\n"
          ]
        }
      ],
      "source": [
        "!pip install openai\n",
        "!pip install yfinance==0.2.38\n",
        "from openai import OpenAI, OpenAIError # 串接 OpenAI API\n",
        "import yfinance as yf\n",
        "import pandas as pd # 資料處理套件\n",
        "import numpy as np\n",
        "import datetime as dt # 時間套件\n",
        "import requests\n",
        "from bs4 import BeautifulSoup"
      ]
    },
    {
      "cell_type": "markdown",
      "metadata": {
        "id": "wGukHBkyiQA2"
      },
      "source": [
        "### 2️⃣ 輸入 Gemini API KEY"
      ]
    },
    {
      "cell_type": "code",
      "execution_count": 2,
      "metadata": {
        "id": "ZN8CnE789cPy"
      },
      "outputs": [],
      "source": [
        "from google.colab import userdata\n",
        "\n",
        "client = OpenAI(\n",
        "    api_key=userdata.get('GEMINI_API_KEY'),\n",
        "    base_url=\"https://generativelanguage.googleapis.com/v1beta/openai/\"\n",
        ")"
      ]
    },
    {
      "cell_type": "markdown",
      "source": [
        "### 3️⃣ 取得股價資料"
      ],
      "metadata": {
        "id": "ebiRubdMv_AZ"
      }
    },
    {
      "cell_type": "code",
      "source": [
        "# 從 yfinance 取得一周股價資料\n",
        "def stock_price(stock_id=\"大盤\", days = 10):\n",
        "  if stock_id == \"大盤\":\n",
        "    stock_id=\"^TWII\"\n",
        "  else:\n",
        "    stock_id += \".TW\"\n",
        "\n",
        "  end = dt.date.today() # 資料結束時間\n",
        "  start = end - dt.timedelta(days=days) # 資料開始時間\n",
        "  # 下載資料\n",
        "  df = yf.download(stock_id, start=start)\n",
        "\n",
        "  # 更換列名\n",
        "  df.columns = ['開盤價', '最高價', '最低價',\n",
        "                '收盤價', '調整後收盤價', '成交量']\n",
        "\n",
        "  data = {\n",
        "    '日期': df.index.strftime('%Y-%m-%d').tolist(),\n",
        "    '收盤價': df['收盤價'].tolist(),\n",
        "    '每日報酬': df['收盤價'].pct_change().tolist(),\n",
        "    '漲跌價差': df['調整後收盤價'].diff().tolist()\n",
        "    }\n",
        "\n",
        "  return data\n",
        "\n",
        "print(stock_price(\"2330\"))"
      ],
      "metadata": {
        "colab": {
          "base_uri": "https://localhost:8080/"
        },
        "id": "t30pt68amGmN",
        "outputId": "edb162b7-db1d-4457-e604-b3df17dc92e6"
      },
      "execution_count": 3,
      "outputs": [
        {
          "output_type": "stream",
          "name": "stderr",
          "text": [
            "\r[*********************100%%**********************]  1 of 1 completed"
          ]
        },
        {
          "output_type": "stream",
          "name": "stdout",
          "text": [
            "{'日期': ['2025-02-05', '2025-02-06', '2025-02-07', '2025-02-10', '2025-02-11', '2025-02-12', '2025-02-13', '2025-02-14'], '收盤價': [1110.0, 1115.0, 1125.0, 1105.0, 1110.0, 1100.0, 1090.0, 1060.0], '每日報酬': [nan, 0.0045045045045044585, 0.008968609865470878, -0.01777777777777778, 0.004524886877828038, -0.009009009009009028, -0.009090909090909038, -0.02752293577981646], '漲跌價差': [nan, 5.0, 10.0, -20.0, 5.0, -10.0, -10.0, -30.0]}\n"
          ]
        },
        {
          "output_type": "stream",
          "name": "stderr",
          "text": [
            "\n"
          ]
        }
      ]
    },
    {
      "cell_type": "markdown",
      "source": [
        "### 4️⃣ 取得基本面資料"
      ],
      "metadata": {
        "id": "T59rbTgDwoAZ"
      }
    },
    {
      "cell_type": "code",
      "source": [
        "# 基本面資料\n",
        "def stock_fundamental(stock_id= \"大盤\"):\n",
        "  if stock_id == \"大盤\":\n",
        "      return None\n",
        "\n",
        "  stock_id += \".TW\"\n",
        "  stock = yf.Ticker(stock_id)\n",
        "\n",
        "  # 營收成長率\n",
        "  quarterly_revenue_growth = np.round(stock.quarterly_financials.loc[\"Total Revenue\"].pct_change(-1).dropna().tolist(), 2)\n",
        "\n",
        "  # 每季EPS\n",
        "  quarterly_eps = np.round(stock.quarterly_financials.loc[\"Basic EPS\"].dropna().tolist(), 2)\n",
        "\n",
        "  # EPS季增率\n",
        "  quarterly_eps_growth = np.round(stock.quarterly_financials.loc[\"Basic EPS\"].pct_change(-1).dropna().tolist(), 2)\n",
        "\n",
        "  # 轉換日期\n",
        "  dates = [date.strftime('%Y-%m-%d') for date in stock.quarterly_financials.columns]\n",
        "\n",
        "  data = {\n",
        "      '季日期': dates[:len(quarterly_revenue_growth)],\n",
        "      '營收成長率': quarterly_revenue_growth.tolist(),\n",
        "      'EPS': quarterly_eps[0:3].tolist(),\n",
        "      'EPS 季增率': quarterly_eps_growth[0:3].tolist()\n",
        "  }\n",
        "\n",
        "  return data\n",
        "\n",
        "print(stock_fundamental(\"2330\"))"
      ],
      "metadata": {
        "colab": {
          "base_uri": "https://localhost:8080/"
        },
        "id": "4C7n0hxlwx-x",
        "outputId": "425eada5-46d2-4a79-9b9a-abb6f1f963de"
      },
      "execution_count": 4,
      "outputs": [
        {
          "output_type": "stream",
          "name": "stdout",
          "text": [
            "{'季日期': ['2024-12-31', '2024-09-30', '2024-06-30', '2024-03-31', '2023-12-31', '2023-09-30'], '營收成長率': [0.14, 0.13, 0.14, -0.05, 0.0, 0.0], 'EPS': [14.45, 12.55, 9.56], 'EPS 季增率': [0.15, 0.31, 0.1]}\n"
          ]
        },
        {
          "output_type": "stream",
          "name": "stderr",
          "text": [
            "<ipython-input-4-3ab454e80453>:10: FutureWarning: The default fill_method='pad' in Series.pct_change is deprecated and will be removed in a future version. Either fill in any non-leading NA values prior to calling pct_change or specify 'fill_method=None' to not fill NA values.\n",
            "  quarterly_revenue_growth = np.round(stock.quarterly_financials.loc[\"Total Revenue\"].pct_change(-1).dropna().tolist(), 2)\n",
            "<ipython-input-4-3ab454e80453>:10: FutureWarning: Downcasting object dtype arrays on .fillna, .ffill, .bfill is deprecated and will change in a future version. Call result.infer_objects(copy=False) instead. To opt-in to the future behavior, set `pd.set_option('future.no_silent_downcasting', True)`\n",
            "  quarterly_revenue_growth = np.round(stock.quarterly_financials.loc[\"Total Revenue\"].pct_change(-1).dropna().tolist(), 2)\n",
            "<ipython-input-4-3ab454e80453>:16: FutureWarning: The default fill_method='pad' in Series.pct_change is deprecated and will be removed in a future version. Either fill in any non-leading NA values prior to calling pct_change or specify 'fill_method=None' to not fill NA values.\n",
            "  quarterly_eps_growth = np.round(stock.quarterly_financials.loc[\"Basic EPS\"].pct_change(-1).dropna().tolist(), 2)\n",
            "<ipython-input-4-3ab454e80453>:16: FutureWarning: Downcasting object dtype arrays on .fillna, .ffill, .bfill is deprecated and will change in a future version. Call result.infer_objects(copy=False) instead. To opt-in to the future behavior, set `pd.set_option('future.no_silent_downcasting', True)`\n",
            "  quarterly_eps_growth = np.round(stock.quarterly_financials.loc[\"Basic EPS\"].pct_change(-1).dropna().tolist(), 2)\n"
          ]
        }
      ]
    },
    {
      "cell_type": "markdown",
      "metadata": {
        "id": "pC1gzHDLiqhT"
      },
      "source": [
        "### 5️⃣ 取得新聞資料"
      ]
    },
    {
      "cell_type": "code",
      "execution_count": 5,
      "metadata": {
        "id": "OBkpRomPEXd1",
        "colab": {
          "base_uri": "https://localhost:8080/"
        },
        "outputId": "7d26ca5c-0aa4-4f67-ebfc-ac8e731cb0bd"
      },
      "outputs": [
        {
          "output_type": "stream",
          "name": "stdout",
          "text": [
            "[['台積電', '2025-02-15', '〈熱門股〉被忽視的機器人概念股 和大彈近17%寫7個月新高價', '和大董事長沈國榮日前指出，傳產業者近二年真的是非常辛苦，但已度過最困難的時代，今年起將邁向更大發展，除了將切入半導體封裝版圖，也將拓展機器人市場。沈國榮強調，依目前的設備「完全有能力」切入人形機器人版圖，目前產能規劃可因應 80 億元營收的各業務總出貨所需，而嘉義新廠正如火如荼建置中。\\xa0#帶量突破均線糾結100%#均線指標上攻100%#動能指標上漲股100%#偏弱機會股58.97%#指標剛跌破58.97%上一篇下一篇〈中美環球展望〉併購失敗的轉機 環球晶選擇一條難走但對的道路〈航運指數〉SCFI四大長程航線運價續跌 跌幅7-12%左右晶片關稅將揭曉，川普步步緊逼台積電何時止跌?外資賣超245億元 砍台積電逾2萬張 轉向敲進債券ETF俄烏停火：鋼鐵、散裝VS.晶片關稅：台股、台積電？買誰好？怎麼買？專家：注意這個指標\\u200c\\u200c\\u200c'], ['台積電', '2025-02-15', '白宮官員：川普可能不支持英特爾美國廠由外國企業營運', '據《彭博》稍早援引知情人士報導，川普團隊最近曾與台積電高層會面，並提出兩家公司可能達成交易的想法，而台積電方面對此表示開放態度。白宮官員未直接回應川普團隊是否確實與台積電高層會面，並提出這項交易的構想。同時，該官員也未回應後續問題，即台積電是否可能透過在美國的合資企業參與英特爾的晶圓廠營運。目前這筆交易仍充滿不確定性，但若成真，可能會成為英特爾的財務生機。英特爾近年來在晶片製造領域的競爭力下滑，未能把握 AI 浪潮帶來的機會，同時又砸下數十億美元轉型為晶圓代工廠，這項轉型至今仍未見成效。英特爾股價周五收跌 2.2%，而台積電在美國掛牌的 ADR 則上漲約 1%。上一篇下一篇1〈美股盤後〉川普宣布對等關稅計畫 輝達漲超3% 四大指數全揚川普宣布對等關稅計畫 最快4月實施川普擬修改《晶片法案》條件 或延遲部分補助款〈台股盤前要聞〉外資趁漲賣脫台積電、日月光先進封測業績大進補、住展風向球轉黃藍燈〈能源盤後〉俄烏和談有望 緩解供應擔憂 原油連跌2日\\u200c\\u200c\\u200c'], ['台積電', '2025-02-15', '<mark>台積電</mark>董事會、中美環球展望、台鋼集團擬入主和勤 本周大事回顧', '矽晶圓大廠環球晶 (6488-TW) 周五\\xa0(14 日) 舉辦媒體餐敘，董事長徐秀蘭表示，今年隨著客戶庫存去化至健康水位，矽晶圓產業將復甦，並引用研調數據指出今年矽晶圓產值預估年增 9%，公司也期望會有同等或優於的年增幅，預期今年營收季季高，下半年會顯著優於上半年。針對川普宣布對等關稅，徐秀蘭則指出，目前尚未確定關稅影響，不過，公司美國據點致力於美國製造，不僅是美國第一座的 12 吋先進製程矽晶圓廠，也是首座 12 吋的 SOI 廠，該方向與川普政府的美國製造政策不謀而合，若未來有關稅影響，公司受影響程度相對小。\\xa0徐秀蘭也分享，當時因為併購德國世創失敗，讓環球晶決定在美國全數投入自建先進製程產能，在現階段世界走向逆全球化甚至採關稅手段的背景下，當時的決定看起來是「選擇一條痛苦難走的路，但是對的成長道路」。\\xa0精密沖壓件大廠和勤精機 (1586-TW) 周一 (10 日) 召開股東臨時會並通過以現增發行 2 萬張私募股，隨後並對私募股訂價以每股 22.4 元溢價發行，預計將籌資 4.48 億元，而市場傳出，台鋼集團擬藉此一私募案入主和勤也打入特斯拉供應鏈。\\xa0中鋼 (2002-TW) 周四 (13 日) 開出 3 月盤價，全球製造業需求仍處緩步復甦階段，加上美國總統川普的貿易政策仍具高度不確定性，3 月開出平高盤，僅熱軋每公噸漲 300 元，其餘月盤產品全面平盤。\\xa0網家 (8044-TW) 日前引進統一集團成為持股 30% 的最大股東，周五 (14 日) 公告法人董事改派代表人，原網家經營團隊露天市集總經理曾薰儀和二十一世紀金融科技總經理周厚宇，改派為統一集團的高階主管林振德、胡長熹。\\xa0全球封測龍頭日月光投控 (3711-TW)(ASX-US) 周四 (13 日) 召開法說會，營運長吳田玉表示，先進封裝與先進測試需求強勁，今年相關業績將增加超過 10 億美元，且隨著今年集團在多地擴產，將進一步增加資本支出，滿足客戶所需；日月光投控去年機器設備資本支出 19 億美元，法人估，今年將達 20 億美元。\\xa0去年第四季財報，稅後純益 93.12 億元，季減 4%，年減 1%，每股稅後純益 2.15 元，累計全年純益年增 2%，每股稅後純益 7.52 元。\\xa0台中新光三越百貨周四 (13 日) 驚傳氣爆，造成 4 死 26 人輕重傷事故，外界關注產險業承保情形，金管會保險局說明，商業火險由新光產險 (2850-TW) 主辦比重 70%，國泰產險、明台產險、泰安產險共保 3 家各承保 10%；另外，公共意外險則是由新光產險 100% 承保。\\xa0#跌破區間76%#偏弱機會股58.97%#指標剛跌破58.97%#波段回檔股58.97%#空頭均線下殺58.97%上一篇下一篇AI+機器人=未來！機器人產業新契機，台股潛力無限：上銀、大銀微、樺漢、研華、所羅門\\u200c\\u200c\\u200c'], ['台積電', '2025-02-15', '美股重點新聞摘要2025年2月15日', '彭博周五 (14 日) 援引知情人士消息報導，臉書母公司 Meta Platforms(META-US) 在進軍擴增實境 (AR) 和人工智慧 (AI) 領域後，確定下一個重大投資目標：AI 驅動的人形機器人。該公司正在大規模投資這一領域，並計劃在其 Reality Labs 硬體部門內設立一個新團隊來進行相關工作。全文詳讀美國財政部長班森特 (Scott Bessent) 周五 (14 日) 接受福斯財經新聞網 (FOX Business) 訪問時表示，川普政府目標是將伊朗的石油出口量降至當前水準的不到 10%，並重啟對伊朗核計劃的「極限施壓」(Maximum Pressure) 政策。班森特在訪談中說：「我們致力於將伊朗的石油出口量壓縮到每天 10 萬桶，這是川普任期內的目標。」貝森特還表示，如果總統要求，他將加大對俄羅斯能源的制裁。全文詳讀上一篇下一篇AI+機器人=未來！機器人產業新契機，台股潛力無限：上銀、大銀微、樺漢、研華、所羅門\\u200c\\u200c\\u200c'], ['台積電', '2025-02-14', '彭博：應川普政府要求 <mark>台積電</mark>考慮接管英特爾美國廠', '若此交易成真，將為陷入困境的英特爾提供一條財務生路。英特爾近年來在晶片製造領域表現不佳，未能抓住人工智慧 (AI) 熱潮的機會，且投入數十億美元轉型為晶圓代工廠，但這項策略至今尚未取得實質成效。英特爾曾是少數同時具備晶片設計與製造能力的半導體公司之一，但其製程技術領先優勢已被台積電超越。消息傳出後，英特爾股價應聲下跌逾 4%，而台積電在美國掛牌的 ADR 則上漲約 1.7%。據《路透》先前報導，前英特爾執行長季辛格 (Pat Gelsinger) 於去年被免職，他曾向主要客戶設定極高的製造與 AI 技術預期，但未能兌現，導致失去或取消多項合約。英特爾股價在去年暴跌約 60%，主要原因是高資本支出的製造擴張計畫嚴重影響現金流，最終導致公司裁員約 15%。此外，英特爾在個人電腦和伺服器中央處理器 (CPU) 市場的市占率也持續被對手超微半導體 (AMD-US) 侵蝕。AMD 目前市值已超越這家昔日半導體巨頭。英特爾的 18A 製程技術預計於今年推出，這對公司重振製造業務至關重要。報導指出，目前尚不清楚英特爾是否願意接受這項交易。台積電與英特爾均拒絕置評，白宮也未立即回應置評請求。報導也指出，這項合作可能涉及美國主要晶片設計公司入股，並獲得美國政府的支持，意味著該合資企業不會完全由外國公司持有。此外，報導提到，在前任拜登政府時期，官員曾考慮讓台積電授權其製造技術給英特爾的工廠使用，但台積電不願提供技術給競爭對手，而拜登政府當時也未積極介入交易談判。上一篇下一篇2〈熱門股〉三大原廠擬停產DDR4 台記憶體族群強漲表態白宮官員：川普可能不支持英特爾美國廠由外國企業營運川普、DeepSeek攪亂「春」水？專家：開紅盤當月是布局ETF良機「這主題」更帶勁〈熱門股〉被忽視的機器人概念股 和大彈近17%寫7個月新高價〈美股13F報告〉股神Q4增持達美樂、西方石油 大動作減持銀行股\\u200c\\u200c\\u200c']]\n"
          ]
        }
      ],
      "source": [
        "# 新聞資料\n",
        "def stock_news(stock_name =\"大盤\"):\n",
        "  if stock_name == \"大盤\":\n",
        "    stock_name=\"台股 -盤中速報\"\n",
        "\n",
        "  data=[]\n",
        "  # 取得 Json 格式資料\n",
        "  json_data = requests.get(f'https://ess.api.cnyes.com/ess/api/v1/news/keyword?q={stock_name}&limit=5&page=1').json()\n",
        "\n",
        "  # 依照格式擷取資料\n",
        "  items=json_data['data']['items']\n",
        "  for item in items:\n",
        "      # 網址、標題和日期\n",
        "      news_id = item[\"newsId\"]\n",
        "      title = item[\"title\"]\n",
        "      publish_at = item[\"publishAt\"]\n",
        "      # 使用 UTC 時間格式\n",
        "      utc_time = dt.datetime.utcfromtimestamp(publish_at)\n",
        "      formatted_date = utc_time.strftime('%Y-%m-%d')\n",
        "      # 前往網址擷取內容\n",
        "      url = requests.get(f'https://news.cnyes.com/'\n",
        "                        f'news/id/{news_id}').content\n",
        "      soup = BeautifulSoup(url, 'html.parser')\n",
        "      p_elements=soup .find_all('p')\n",
        "      # 提取段落内容\n",
        "      p=''\n",
        "      for paragraph in p_elements[4:]:\n",
        "          p+=paragraph.get_text()\n",
        "      data.append([stock_name, formatted_date ,title,p])\n",
        "  return data\n",
        "\n",
        "print(stock_news(\"台積電\"))"
      ]
    },
    {
      "cell_type": "markdown",
      "source": [
        "### 6️⃣ 爬取股號、股名對照表"
      ],
      "metadata": {
        "id": "0jqJLS9TSqyU"
      }
    },
    {
      "cell_type": "code",
      "source": [
        "# 取得全部股票的股號、股名\n",
        "def stock_name():\n",
        "  print(\"線上讀取股號、股名、及產業別\")\n",
        "\n",
        "  response = requests.get('https://isin.twse.com.tw/isin/C_public.jsp?strMode=2')\n",
        "  url_data = BeautifulSoup(response.text, 'html.parser')\n",
        "  stock_company = url_data.find_all('tr')\n",
        "\n",
        "  # 資料處理\n",
        "  data = [\n",
        "      (row.find_all('td')[0].text.split('\\u3000')[0].strip(),\n",
        "        row.find_all('td')[0].text.split('\\u3000')[1],\n",
        "        row.find_all('td')[4].text.strip())\n",
        "      for row in stock_company[2:] if len(row.find_all('td')[0].text.split('\\u3000')[0].strip()) == 4\n",
        "  ]\n",
        "\n",
        "  df = pd.DataFrame(data, columns=['股號', '股名', '產業別'])\n",
        "\n",
        "  return df\n",
        "\n",
        "name_df = stock_name()"
      ],
      "metadata": {
        "colab": {
          "base_uri": "https://localhost:8080/"
        },
        "id": "PeCJ5-XHSrU9",
        "outputId": "05ada0a3-6ae0-4548-90bc-a1fb5a836cfb"
      },
      "execution_count": 6,
      "outputs": [
        {
          "output_type": "stream",
          "name": "stdout",
          "text": [
            "線上讀取股號、股名、及產業別\n"
          ]
        }
      ]
    },
    {
      "cell_type": "markdown",
      "source": [
        "### 7️⃣ 取得股票名稱"
      ],
      "metadata": {
        "id": "xKNkqNWSoAQe"
      }
    },
    {
      "cell_type": "code",
      "source": [
        "# 取得股票名稱\n",
        "def get_stock_name(stock_id, name_df):\n",
        "    return name_df.set_index('股號').loc[stock_id, '股名']\n",
        "\n",
        "print(name_df.head())\n",
        "print(\"--------------------------\")\n",
        "print(get_stock_name(\"1417\",name_df))"
      ],
      "metadata": {
        "colab": {
          "base_uri": "https://localhost:8080/"
        },
        "id": "IZXQFFxZn2rf",
        "outputId": "aa9408e9-2d10-4907-9ca3-415eab0c3baa"
      },
      "execution_count": 7,
      "outputs": [
        {
          "output_type": "stream",
          "name": "stdout",
          "text": [
            "     股號  股名   產業別\n",
            "0  1101  台泥  水泥工業\n",
            "1  1102  亞泥  水泥工業\n",
            "2  1103  嘉泥  水泥工業\n",
            "3  1104  環泥  水泥工業\n",
            "4  1108  幸福  水泥工業\n",
            "--------------------------\n",
            "嘉裕\n"
          ]
        }
      ]
    },
    {
      "cell_type": "markdown",
      "metadata": {
        "id": "pyelatvvLiIn"
      },
      "source": [
        "### 8️⃣ 建構 Gemini 2.0 Flash 模型"
      ]
    },
    {
      "cell_type": "code",
      "execution_count": 8,
      "metadata": {
        "id": "aSjownHrGnde"
      },
      "outputs": [],
      "source": [
        "# 建立 Gemini 2.0 Flash 模型\n",
        "def get_reply(messages):\n",
        "    try:\n",
        "        response = client.chat.completions.create(\n",
        "            model = \"gemini-2.0-flash\",\n",
        "            messages = messages\n",
        "        )\n",
        "        reply = response.choices[0].message.content\n",
        "    except OpenAIError as err:\n",
        "        reply = f\"發生 {err.type} 錯誤\\n{err.message}\"\n",
        "    return reply\n",
        "\n",
        "# 建立訊息指令(Prompt)\n",
        "def generate_content_msg(stock_id, name_df):\n",
        "\n",
        "    stock_name = get_stock_name(\n",
        "        stock_id, name_df) if stock_id != \"大盤\" else stock_id\n",
        "\n",
        "    price_data = stock_price(stock_id)\n",
        "    news_data = stock_news(stock_name)\n",
        "\n",
        "    content_msg = f'請依據以下資料來進行分析並給出一份完整的分析報告:\\n'\n",
        "\n",
        "    content_msg += f'近期價格資訊:\\n {price_data}\\n'\n",
        "\n",
        "    if stock_id != \"大盤\":\n",
        "        stock_value_data = stock_fundamental(stock_id)\n",
        "        content_msg += f'每季營收資訊：\\n {stock_value_data}\\n'\n",
        "\n",
        "    content_msg += f'近期新聞資訊: \\n {news_data}\\n'\n",
        "    content_msg += f'請給我{stock_name}近期的趨勢報告,請以詳細、\\\n",
        "      嚴謹及專業的角度撰寫此報告,並提及重要的數字, reply in 繁體中文'\n",
        "\n",
        "    return content_msg\n",
        "\n",
        "# StockGPT\n",
        "def stock_gpt(stock_id, name_df=name_df):\n",
        "    content_msg = generate_content_msg(stock_id, name_df)\n",
        "\n",
        "    msg = [{\n",
        "        \"role\": \"system\",\n",
        "        \"content\": f\"你現在是一位專業的證券分析師, 你會統整近期的股價\\\n",
        "      、基本面、新聞資訊等方面並進行分析, 然後生成一份專業的趨勢分析報告\"\n",
        "    }, {\n",
        "        \"role\": \"user\",\n",
        "        \"content\": content_msg\n",
        "    }]\n",
        "\n",
        "    reply_data = get_reply(msg)\n",
        "\n",
        "    return reply_data\n"
      ]
    },
    {
      "cell_type": "markdown",
      "metadata": {
        "id": "MkoAWO2GjnlT"
      },
      "source": [
        "### 9️⃣ 大盤趨勢報告"
      ]
    },
    {
      "cell_type": "code",
      "execution_count": 9,
      "metadata": {
        "colab": {
          "base_uri": "https://localhost:8080/"
        },
        "id": "oDHvn0VCGPzH",
        "outputId": "a14e25ac-6b5d-4583-a9b8-4a4f96b9423b"
      },
      "outputs": [
        {
          "output_type": "stream",
          "name": "stderr",
          "text": [
            "\r[*********************100%%**********************]  1 of 1 completed\n"
          ]
        },
        {
          "output_type": "stream",
          "name": "stdout",
          "text": [
            "## 台股近期趨勢分析報告 (2025/02/05 - 2025/02/15)\n",
            "\n",
            "**報告日期：** 2025年2月16日\n",
            "\n",
            "**1. 摘要：**\n",
            "\n",
            "本報告旨在分析台股自2025年2月5日至2025年2月14日的走勢，並結合近期新聞資訊，評估市場趨勢與潛在風險。近期台股呈現震盪格局，雖有AI與機器人產業題材支撐，但受到國際情勢(如俄烏戰爭、關稅政策)與總體經濟數據(如美國零售銷售數據)等因素影響，市場情緒較為謹慎。2月14日，台股下跌246.8點，收在23152.61點，顯示市場存在一定壓力。\n",
            "\n",
            "**2. 股價走勢分析：**\n",
            "\n",
            "*   **整體表現：** 近期台股呈現震盪走勢，期間最高點為2月7日的23478.27點，最低點為2月5日的23161.58點。\n",
            "*   **每日報酬率：** 從每日報酬率來看，正負交錯，顯示市場缺乏明確方向。其中，2月10日下跌0.96%，2月14日下跌1.05%，是近期較大的跌幅。\n",
            "*   **漲跌價差：** 漲跌價差的波動也反映了市場的多空拉鋸。2月14日跌幅較大，顯示當日賣壓較重。\n",
            "\n",
            "**關鍵數據：**\n",
            "\n",
            "*   **期間漲幅：** 自2月5日至2月14日，台股下跌0.04%，整體表現疲弱。\n",
            "*   **最大單日漲幅：** 2月7日，上漲0.69%。\n",
            "*   **最大單日跌幅：** 2月14日，下跌1.05%。\n",
            "\n",
            "**3. 基本面分析：**\n",
            "\n",
            "*   **營收狀況：** 從新聞資訊來看，2025年1月份營收報告已陸續公布。小型公司營收年增超過25%的有403家，但同時也有437家年減超過20%。大型公司營收年增超過25%的僅25家，年減超過20%則有46家。顯示企業營收表現分歧，需進一步分析各產業狀況。\n",
            "*   **產業趨勢：** AI與機器人產業成為市場焦點。相關個股如上銀、大銀微、樺漢、研華、所羅門等受到關注。此趨勢反映了全球自動化趨勢，台灣企業在半導體、精密機械與AI技術的結合下，有望在全球供應鏈中占據關鍵位置。\n",
            "\n",
            "**4. 新聞資訊分析：**\n",
            "\n",
            "*   **AI與機器人產業：** 新聞中多次提及AI與機器人產業的發展潛力，並點名相關概念股。投資者可關注此產業的長期發展趨勢。\n",
            "*   **俄烏戰爭：** 俄烏戰爭的潛在停火，可能影響鋼鐵、散裝航運等重建概念股。\n",
            "*   **關稅政策：** 川普政府的關稅政策，以及對《晶片法案》的修改，可能對台股及台積電產生影響。\n",
            "*   **總體經濟數據：** 美國1月零售銷售月減0.9%，創近兩年最大降幅，顯示美國經濟可能存在下行風險。\n",
            "\n",
            "**5. 風險評估：**\n",
            "\n",
            "*   **國際情勢：** 俄烏戰爭、中美貿易關係等國際情勢變化，可能對台股產生不確定性。\n",
            "*   **總體經濟：** 全球經濟放緩、通膨壓力等總體經濟因素，可能影響企業獲利。\n",
            "*   **產業競爭：** AI與機器人產業競爭激烈，企業需不斷創新才能保持競爭力。\n",
            "*   **個股風險：** 個別公司營收表現不佳、獲利能力下降等因素，可能導致股價下跌。\n",
            "\n",
            "**6. 技術面分析：**\n",
            "*   **移動平均線：** 由於資料有限，無法進行詳細的移動平均線分析。但從股價走勢來看，短期內股價在各均線之間震盪，顯示市場處於整理階段。\n",
            "*   **成交量：** 無成交量資料，無法評估市場參與者意願。\n",
            "\n",
            "**7. 結論與建議：**\n",
            "\n",
            "近期台股受到多重因素影響，呈現震盪格局。AI與機器人產業雖具備長期發展潛力，但短期內仍需關注國際情勢、總體經濟數據等因素。\n",
            "\n",
            "**投資建議：**\n",
            "\n",
            "*   **謹慎操作：** 在市場不明朗的情況下，建議投資者保持謹慎，控制倉位。\n",
            "*   **關注產業趨勢：** 可關注AI與機器人產業的長期發展趨勢，選擇具備技術優勢、國際合作機會的公司。\n",
            "*   **分散風險：** 避免集中投資單一產業或個股，分散投資風險。\n",
            "*   **追蹤國際情勢：** 密切關注國際情勢變化，以及對台股的潛在影響。\n",
            "*   **注意營收狀況：** 留意公司營收變化，判斷公司基本面狀況。\n",
            "\n",
            "**免責聲明：** 本報告僅供參考，不構成任何投資建議。投資者應自行判斷，審慎評估並自負投資風險。\n",
            "\n",
            "**分析師：** AI證券分析師\n",
            "\n"
          ]
        }
      ],
      "source": [
        "reply = stock_gpt(stock_id=\"大盤\")\n",
        "print(reply)"
      ]
    },
    {
      "cell_type": "markdown",
      "metadata": {
        "id": "BP5FkDxALp4e"
      },
      "source": [
        "### 🔟 個股分析報告"
      ]
    },
    {
      "cell_type": "code",
      "execution_count": 10,
      "metadata": {
        "colab": {
          "base_uri": "https://localhost:8080/"
        },
        "id": "j1x0glPsNJe2",
        "outputId": "c968d580-731c-40d9-c6f3-ffe6943ee07d"
      },
      "outputs": [
        {
          "output_type": "stream",
          "name": "stderr",
          "text": [
            "\r[*********************100%%**********************]  1 of 1 completed\n",
            "<ipython-input-4-3ab454e80453>:10: FutureWarning: The default fill_method='pad' in Series.pct_change is deprecated and will be removed in a future version. Either fill in any non-leading NA values prior to calling pct_change or specify 'fill_method=None' to not fill NA values.\n",
            "  quarterly_revenue_growth = np.round(stock.quarterly_financials.loc[\"Total Revenue\"].pct_change(-1).dropna().tolist(), 2)\n",
            "<ipython-input-4-3ab454e80453>:10: FutureWarning: Downcasting object dtype arrays on .fillna, .ffill, .bfill is deprecated and will change in a future version. Call result.infer_objects(copy=False) instead. To opt-in to the future behavior, set `pd.set_option('future.no_silent_downcasting', True)`\n",
            "  quarterly_revenue_growth = np.round(stock.quarterly_financials.loc[\"Total Revenue\"].pct_change(-1).dropna().tolist(), 2)\n",
            "<ipython-input-4-3ab454e80453>:16: FutureWarning: The default fill_method='pad' in Series.pct_change is deprecated and will be removed in a future version. Either fill in any non-leading NA values prior to calling pct_change or specify 'fill_method=None' to not fill NA values.\n",
            "  quarterly_eps_growth = np.round(stock.quarterly_financials.loc[\"Basic EPS\"].pct_change(-1).dropna().tolist(), 2)\n",
            "<ipython-input-4-3ab454e80453>:16: FutureWarning: Downcasting object dtype arrays on .fillna, .ffill, .bfill is deprecated and will change in a future version. Call result.infer_objects(copy=False) instead. To opt-in to the future behavior, set `pd.set_option('future.no_silent_downcasting', True)`\n",
            "  quarterly_eps_growth = np.round(stock.quarterly_financials.loc[\"Basic EPS\"].pct_change(-1).dropna().tolist(), 2)\n"
          ]
        },
        {
          "output_type": "stream",
          "name": "stdout",
          "text": [
            "## 台積電 (2330) 近期趨勢分析報告\n",
            "\n",
            "**報告日期：** 2025年02月16日\n",
            "\n",
            "**1. 股價表現分析**\n",
            "\n",
            "*   **近期股價走勢疲軟：** 從2025年2月5日至2025年2月14日，台積電股價呈現震盪下跌趨勢。由1110元下跌至1060元，跌幅約4.5%。\n",
            "*   **每日報酬波動大：** 近期每日報酬率顯示股價波動性較高，2月10日出現較大跌幅(-1.78%)，2月14日跌幅亦達-2.75%。\n",
            "*   **技術指標警訊：** 從新聞資訊中提及的「跌破區間」、「波段回檔股」、「空頭均線下殺」等字眼判斷，技術面可能出現較為不利的訊號，股價可能面臨進一步下探的風險。\n",
            "\n",
            "**2. 基本面分析**\n",
            "\n",
            "*   **營收成長穩健：** 2024年各季度營收成長率維持在13%-14%的高水準，顯示公司營運具備成長動能。但2024年Q1營收成長率為-5%，需要關注後續是否持續衰退。\n",
            "*   **EPS 表現亮眼：** 近期EPS表現優異，從2024年Q2的9.56元成長至2024年Q4的14.45元，顯示獲利能力持續提升。\n",
            "*   **EPS 季增率趨緩：** EPS季增率從Q2的10%上漲至Q3的31%，到Q4卻下降至15%，需要關注公司後續的獲利能力是否能維持高檔。\n",
            "\n",
            "**3. 新聞資訊分析**\n",
            "\n",
            "*   **川普政策風險：** 多則新聞提及川普政府可能對晶片產業採取更強硬的貿易政策，包括恢復對等關稅、修改《晶片法案》等，可能對台積電產生不利影響。\n",
            "*   **潛在合作機會：** 彭博報導指出，應川普政府要求，台積電可能考慮接管英特爾美國廠，這若能成真，將為公司帶來新的成長機會，但亦存在不確定性。\n",
            "*   **先進封裝需求強勁：** 日月光投控法說會提及先進封裝需求強勁，這對台積電的先進製程技術及相關業務而言是一大利多。\n",
            "\n",
            "**4. 綜合評估與趨勢預測**\n",
            "\n",
            "綜合以上分析，台積電近期面臨以下幾個主要挑戰與機會：\n",
            "\n",
            "*   **挑戰：**\n",
            "    *   **總體經濟與地緣政治風險：** 全球經濟情勢不確定性高，加上中美貿易戰、俄烏戰爭等地緣政治風險，可能影響半導體產業需求。\n",
            "    *   **川普政策風險：** 川普政府的貿易政策可能對台積電的全球布局及獲利能力產生負面影響。\n",
            "    *   **技術競爭壓力：** 英特爾等競爭對手積極發展先進製程技術，可能對台積電的領先地位構成威脅。\n",
            "\n",
            "*   **機會：**\n",
            "    *   **AI、HPC 需求驅動：** 人工智慧、高效能運算等新興應用對先進製程晶片需求強勁，將為台積電帶來成長動能。\n",
            "    *   **潛在合作機會：** 與英特爾的潛在合作若能成真，將有助於台積電擴大在美國的影響力，並提升全球市場佔有率。\n",
            "    *   **先進封裝技術領先：** 台積電在先進封裝技術領域具備領先優勢，可望受惠於相關需求的成長。\n",
            "\n",
            "**趨勢預測：**\n",
            "\n",
            "短期內，考量到股價走勢疲軟、技術指標警訊、以及川普政策風險等因素，台積電股價可能持續承壓。\n",
            "\n",
            "中期而言，若台積電能有效應對總體經濟與地緣政治風險，並把握AI、HPC等新興應用帶來的機會，同時與英特爾達成合作協議，則股價有望重拾成長動能。\n",
            "\n",
            "**5. 投資建議**\n",
            "\n",
            "基於以上分析，建議投資人：\n",
            "\n",
            "*   **保守觀望：** 短期內宜保守觀望，避免過度積極操作。\n",
            "*   **關注風險：** 密切關注總體經濟、地緣政治、以及川普政策等風險因素。\n",
            "*   **長期持有：** 若看好半導體產業的長期發展趨勢，可考慮逢低布局，長期持有台積電。\n",
            "\n",
            "**免責聲明：** 本報告僅供參考，不構成任何投資建議。投資人應自行判斷投資風險，並自負盈虧。\n",
            "\n"
          ]
        }
      ],
      "source": [
        "reply = stock_gpt(stock_id=\"2330\")\n",
        "print(reply)"
      ]
    },
    {
      "cell_type": "markdown",
      "source": [
        "### 1️⃣1️⃣ 雞蛋水餃股也能做分析"
      ],
      "metadata": {
        "id": "VP2kpv8Q_SUH"
      }
    },
    {
      "cell_type": "code",
      "source": [
        "reply = stock_gpt(stock_id=\"4414\")\n",
        "print(reply)"
      ],
      "metadata": {
        "colab": {
          "base_uri": "https://localhost:8080/"
        },
        "id": "3pYDV3Kw_SoE",
        "outputId": "33349253-d427-449b-9479-d852c43fce12"
      },
      "execution_count": 11,
      "outputs": [
        {
          "output_type": "stream",
          "name": "stderr",
          "text": [
            "\r[*********************100%%**********************]  1 of 1 completed\n",
            "<ipython-input-4-3ab454e80453>:10: FutureWarning: The default fill_method='pad' in Series.pct_change is deprecated and will be removed in a future version. Either fill in any non-leading NA values prior to calling pct_change or specify 'fill_method=None' to not fill NA values.\n",
            "  quarterly_revenue_growth = np.round(stock.quarterly_financials.loc[\"Total Revenue\"].pct_change(-1).dropna().tolist(), 2)\n",
            "<ipython-input-4-3ab454e80453>:10: FutureWarning: Downcasting object dtype arrays on .fillna, .ffill, .bfill is deprecated and will change in a future version. Call result.infer_objects(copy=False) instead. To opt-in to the future behavior, set `pd.set_option('future.no_silent_downcasting', True)`\n",
            "  quarterly_revenue_growth = np.round(stock.quarterly_financials.loc[\"Total Revenue\"].pct_change(-1).dropna().tolist(), 2)\n",
            "<ipython-input-4-3ab454e80453>:16: FutureWarning: The default fill_method='pad' in Series.pct_change is deprecated and will be removed in a future version. Either fill in any non-leading NA values prior to calling pct_change or specify 'fill_method=None' to not fill NA values.\n",
            "  quarterly_eps_growth = np.round(stock.quarterly_financials.loc[\"Basic EPS\"].pct_change(-1).dropna().tolist(), 2)\n",
            "<ipython-input-4-3ab454e80453>:16: FutureWarning: Downcasting object dtype arrays on .fillna, .ffill, .bfill is deprecated and will change in a future version. Call result.infer_objects(copy=False) instead. To opt-in to the future behavior, set `pd.set_option('future.no_silent_downcasting', True)`\n",
            "  quarterly_eps_growth = np.round(stock.quarterly_financials.loc[\"Basic EPS\"].pct_change(-1).dropna().tolist(), 2)\n"
          ]
        },
        {
          "output_type": "stream",
          "name": "stdout",
          "text": [
            "## 如興 (4414) 近期趨勢分析報告\n",
            "\n",
            "**報告日期：** 2025年02月14日\n",
            "\n",
            "**1. 前言**\n",
            "\n",
            "本報告旨在分析如興 (4414) 近期股價走勢、基本面表現及相關新聞資訊，以評估其短期及中期投資趨勢。本報告綜合考量技術面、財務面及事件面等因素，力求提供客觀、嚴謹的分析結果，供投資者參考。\n",
            "\n",
            "**2. 股價表現分析 (2025/02/05 - 2025/02/14)**\n",
            "\n",
            "*   **總體趨勢：** 近期如興股價呈現明顯上漲趨勢，從2025年2月5日的 3.25 元，上漲至2025年2月13日的 3.79 元，隨後在2025年2月14日略為回調至 3.74 元。\n",
            "*   **漲幅：** 區間漲幅達到約15.08% ( (3.74 - 3.25) / 3.25 )，表現強勁。\n",
            "*   **波動性：** 每日報酬率波動較大，尤其在2025年2月12日及13日，分別達到 3.88% 及 8.91%，顯示股價波動性增強。\n",
            "*   **技術面觀察：** 2025年2月13日股價一度衝高至 3.79 元，但隨後出現回落，顯示上方可能存在一定壓力。\n",
            "\n",
            "**表1：近期股價資訊**\n",
            "\n",
            "| 日期       | 收盤價  | 每日報酬 | 漲跌價差 |\n",
            "| ---------- | ------- | -------- | -------- |\n",
            "| 2025-02-05 | 3.25    | NaN      | NaN      |\n",
            "| 2025-02-06 | 3.26    | 0.31%    | 0.01     |\n",
            "| 2025-02-07 | 3.28    | 0.61%    | 0.02     |\n",
            "| 2025-02-10 | 3.31    | 0.91%    | 0.03     |\n",
            "| 2025-02-11 | 3.35    | 1.21%    | 0.04     |\n",
            "| 2025-02-12 | 3.48    | 3.88%    | 0.13     |\n",
            "| 2025-02-13 | 3.79    | 8.91%    | 0.31     |\n",
            "| 2025-02-14 | 3.74    | -1.32%   | -0.05    |\n",
            "\n",
            "**3. 基本面分析**\n",
            "\n",
            "*   **營收成長率：** 近期營收成長率呈現不穩定狀態。2023年12月出現大幅衰退 (-22%)，但隨後在2024年第一季至第三季逐漸回升，2024年第三季的營收成長率高達 33%。\n",
            "*   **EPS：** 近期EPS皆為負值，顯示公司獲利能力仍有待加強。2024年第二季EPS為 -0.09 元，第三季回升至 -0.01 元，呈現改善趨勢，但仍處於虧損狀態。\n",
            "*   **EPS 季增率：** EPS季增率波動劇烈，2024年第三季季增率為 -89%，顯示公司獲利能力仍不穩定。\n",
            "\n",
            "**表2：每季營收資訊**\n",
            "\n",
            "| 季日期     | 營收成長率 | EPS   | EPS 季增率 |\n",
            "| -------- | -------- | ----- | -------- |\n",
            "| 2024-09-30 | 33%      | -0.01 | -89%     |\n",
            "| 2024-06-30 | 6%       | -0.09 | -50%     |\n",
            "| 2024-03-31 | 5%       | -0.18 | 0%       |\n",
            "| 2023-12-31 | -22%     |       |          |\n",
            "| 2023-09-30 | 0%       |       |          |\n",
            "\n",
            "**4. 新聞資訊分析**\n",
            "\n",
            "近期新聞主要集中在人事異動方面，包括：\n",
            "\n",
            "*   永續發展委員會委員異動。\n",
            "*   發言人、代理發言人、財務主管及公司治理主管異動。\n",
            "*   獨立董事辭任及相關委員會委員異動。\n",
            "\n",
            "**5. 綜合分析與趨勢判斷**\n",
            "\n",
            "*   **正面因素：**\n",
            "    *   近期股價呈現強勁上漲趨勢，市場情緒偏向樂觀。\n",
            "    *   營收成長率在2024年第三季表現亮眼，顯示公司營運可能出現轉機。\n",
            "    *   EPS呈現改善趨勢，虧損幅度逐漸縮小。\n",
            "*   **負面因素：**\n",
            "    *   近期EPS仍為負值，公司獲利能力仍有待提升。\n",
            "    *   人事異動頻繁，可能對公司營運造成短期影響。\n",
            "    *   股價波動性較大，投資風險較高。\n",
            "\n",
            "**6. 投資建議 (免責聲明)**\n",
            "\n",
            "本報告僅為參考資訊，不構成任何投資建議。投資者應謹慎評估自身風險承受能力，並諮詢專業人士意見後再做決策。\n",
            "\n",
            "*   **短期：**\n",
            "    *   股價近期漲幅較大，短期內可能面臨回調壓力。\n",
            "    *   若股價能有效站穩 3.7 元以上，則有望繼續挑戰更高點。\n",
            "    *   密切關注人事異動對公司營運的影響。\n",
            "*   **中期：**\n",
            "    *   若公司能持續改善獲利能力，並維持營收成長動能，則中期投資價值可期。\n",
            "    *   持續關注公司在新產品、市場拓展等方面的進展。\n",
            "    *   基本面若無顯著改善，建議保守看待。\n",
            "\n",
            "**7. 風險提示**\n",
            "\n",
            "*   宏觀經濟風險：全球經濟環境變化可能對公司營運造成影響。\n",
            "*   產業競爭風險：市場競爭激烈可能導致公司利潤下滑。\n",
            "*   公司治理風險：人事異動頻繁可能影響公司決策效率。\n",
            "*   流動性風險：小型股流動性可能較差，進出市場可能面臨困難。\n",
            "\n",
            "**結語**\n",
            "\n",
            "如興近期股價表現強勁，但基本面仍存在不確定性。投資者應密切關注公司營運狀況及市場變化，謹慎評估風險，做出明智的投資決策。\n",
            "\n"
          ]
        }
      ]
    }
  ],
  "metadata": {
    "colab": {
      "provenance": []
    },
    "kernelspec": {
      "display_name": "Python 3",
      "name": "python3"
    },
    "language_info": {
      "name": "python"
    }
  },
  "nbformat": 4,
  "nbformat_minor": 0
}