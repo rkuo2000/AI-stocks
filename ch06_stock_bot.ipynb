{
  "cells": [
    {
      "cell_type": "markdown",
      "metadata": {
        "id": "TFQ17AmL0Yd0"
      },
      "source": [
        "# CH-06 個股分析機器人"
      ]
    },
    {
      "cell_type": "markdown",
      "metadata": {
        "id": "rwGTl75BLNwu"
      },
      "source": [
        "### 1️⃣ 安裝及匯入套件"
      ]
    },
    {
      "cell_type": "code",
      "execution_count": null,
      "metadata": {
        "colab": {
          "base_uri": "https://localhost:8080/"
        },
        "id": "V9x1F86C4T9u",
        "outputId": "80ddeaca-157a-49c7-c09a-f3f561427f9a"
      },
      "outputs": [
        {
          "output_type": "stream",
          "name": "stdout",
          "text": [
            "Collecting openai\n",
            "  Downloading openai-1.7.2-py3-none-any.whl (212 kB)\n",
            "\u001b[2K     \u001b[90m━━━━━━━━━━━━━━━━━━━━━━━━━━━━━━━━━━━━━━━━\u001b[0m \u001b[32m212.1/212.1 kB\u001b[0m \u001b[31m1.5 MB/s\u001b[0m eta \u001b[36m0:00:00\u001b[0m\n",
            "\u001b[?25hRequirement already satisfied: anyio<5,>=3.5.0 in /usr/local/lib/python3.10/dist-packages (from openai) (3.7.1)\n",
            "Requirement already satisfied: distro<2,>=1.7.0 in /usr/lib/python3/dist-packages (from openai) (1.7.0)\n",
            "Collecting httpx<1,>=0.23.0 (from openai)\n",
            "  Downloading httpx-0.26.0-py3-none-any.whl (75 kB)\n",
            "\u001b[2K     \u001b[90m━━━━━━━━━━━━━━━━━━━━━━━━━━━━━━━━━━━━━━━━\u001b[0m \u001b[32m75.9/75.9 kB\u001b[0m \u001b[31m5.9 MB/s\u001b[0m eta \u001b[36m0:00:00\u001b[0m\n",
            "\u001b[?25hRequirement already satisfied: pydantic<3,>=1.9.0 in /usr/local/lib/python3.10/dist-packages (from openai) (1.10.13)\n",
            "Requirement already satisfied: sniffio in /usr/local/lib/python3.10/dist-packages (from openai) (1.3.0)\n",
            "Requirement already satisfied: tqdm>4 in /usr/local/lib/python3.10/dist-packages (from openai) (4.66.1)\n",
            "Collecting typing-extensions<5,>=4.7 (from openai)\n",
            "  Downloading typing_extensions-4.9.0-py3-none-any.whl (32 kB)\n",
            "Requirement already satisfied: idna>=2.8 in /usr/local/lib/python3.10/dist-packages (from anyio<5,>=3.5.0->openai) (3.6)\n",
            "Requirement already satisfied: exceptiongroup in /usr/local/lib/python3.10/dist-packages (from anyio<5,>=3.5.0->openai) (1.2.0)\n",
            "Requirement already satisfied: certifi in /usr/local/lib/python3.10/dist-packages (from httpx<1,>=0.23.0->openai) (2023.11.17)\n",
            "Collecting httpcore==1.* (from httpx<1,>=0.23.0->openai)\n",
            "  Downloading httpcore-1.0.2-py3-none-any.whl (76 kB)\n",
            "\u001b[2K     \u001b[90m━━━━━━━━━━━━━━━━━━━━━━━━━━━━━━━━━━━━━━━━\u001b[0m \u001b[32m76.9/76.9 kB\u001b[0m \u001b[31m4.1 MB/s\u001b[0m eta \u001b[36m0:00:00\u001b[0m\n",
            "\u001b[?25hCollecting h11<0.15,>=0.13 (from httpcore==1.*->httpx<1,>=0.23.0->openai)\n",
            "  Downloading h11-0.14.0-py3-none-any.whl (58 kB)\n",
            "\u001b[2K     \u001b[90m━━━━━━━━━━━━━━━━━━━━━━━━━━━━━━━━━━━━━━━━\u001b[0m \u001b[32m58.3/58.3 kB\u001b[0m \u001b[31m2.4 MB/s\u001b[0m eta \u001b[36m0:00:00\u001b[0m\n",
            "\u001b[?25hInstalling collected packages: typing-extensions, h11, httpcore, httpx, openai\n",
            "  Attempting uninstall: typing-extensions\n",
            "    Found existing installation: typing_extensions 4.5.0\n",
            "    Uninstalling typing_extensions-4.5.0:\n",
            "      Successfully uninstalled typing_extensions-4.5.0\n",
            "\u001b[31mERROR: pip's dependency resolver does not currently take into account all the packages that are installed. This behaviour is the source of the following dependency conflicts.\n",
            "llmx 0.0.15a0 requires cohere, which is not installed.\n",
            "llmx 0.0.15a0 requires tiktoken, which is not installed.\n",
            "tensorflow-probability 0.22.0 requires typing-extensions<4.6.0, but you have typing-extensions 4.9.0 which is incompatible.\u001b[0m\u001b[31m\n",
            "\u001b[0mSuccessfully installed h11-0.14.0 httpcore-1.0.2 httpx-0.26.0 openai-1.7.2 typing-extensions-4.9.0\n",
            "Requirement already satisfied: yfinance in /usr/local/lib/python3.10/dist-packages (0.2.33)\n",
            "Requirement already satisfied: pandas>=1.3.0 in /usr/local/lib/python3.10/dist-packages (from yfinance) (1.5.3)\n",
            "Requirement already satisfied: numpy>=1.16.5 in /usr/local/lib/python3.10/dist-packages (from yfinance) (1.23.5)\n",
            "Requirement already satisfied: requests>=2.31 in /usr/local/lib/python3.10/dist-packages (from yfinance) (2.31.0)\n",
            "Requirement already satisfied: multitasking>=0.0.7 in /usr/local/lib/python3.10/dist-packages (from yfinance) (0.0.11)\n",
            "Requirement already satisfied: lxml>=4.9.1 in /usr/local/lib/python3.10/dist-packages (from yfinance) (4.9.4)\n",
            "Requirement already satisfied: appdirs>=1.4.4 in /usr/local/lib/python3.10/dist-packages (from yfinance) (1.4.4)\n",
            "Requirement already satisfied: pytz>=2022.5 in /usr/local/lib/python3.10/dist-packages (from yfinance) (2023.3.post1)\n",
            "Requirement already satisfied: frozendict>=2.3.4 in /usr/local/lib/python3.10/dist-packages (from yfinance) (2.4.0)\n",
            "Requirement already satisfied: peewee>=3.16.2 in /usr/local/lib/python3.10/dist-packages (from yfinance) (3.17.0)\n",
            "Requirement already satisfied: beautifulsoup4>=4.11.1 in /usr/local/lib/python3.10/dist-packages (from yfinance) (4.11.2)\n",
            "Requirement already satisfied: html5lib>=1.1 in /usr/local/lib/python3.10/dist-packages (from yfinance) (1.1)\n",
            "Requirement already satisfied: soupsieve>1.2 in /usr/local/lib/python3.10/dist-packages (from beautifulsoup4>=4.11.1->yfinance) (2.5)\n",
            "Requirement already satisfied: six>=1.9 in /usr/local/lib/python3.10/dist-packages (from html5lib>=1.1->yfinance) (1.16.0)\n",
            "Requirement already satisfied: webencodings in /usr/local/lib/python3.10/dist-packages (from html5lib>=1.1->yfinance) (0.5.1)\n",
            "Requirement already satisfied: python-dateutil>=2.8.1 in /usr/local/lib/python3.10/dist-packages (from pandas>=1.3.0->yfinance) (2.8.2)\n",
            "Requirement already satisfied: charset-normalizer<4,>=2 in /usr/local/lib/python3.10/dist-packages (from requests>=2.31->yfinance) (3.3.2)\n",
            "Requirement already satisfied: idna<4,>=2.5 in /usr/local/lib/python3.10/dist-packages (from requests>=2.31->yfinance) (3.6)\n",
            "Requirement already satisfied: urllib3<3,>=1.21.1 in /usr/local/lib/python3.10/dist-packages (from requests>=2.31->yfinance) (2.0.7)\n",
            "Requirement already satisfied: certifi>=2017.4.17 in /usr/local/lib/python3.10/dist-packages (from requests>=2.31->yfinance) (2023.11.17)\n"
          ]
        }
      ],
      "source": [
        "!pip install openai\n",
        "!pip install yfinance==0.2.38\n",
        "from openai import OpenAI, OpenAIError # 串接 OpenAI API\n",
        "import yfinance as yf\n",
        "import pandas as pd # 資料處理套件\n",
        "import numpy as np\n",
        "import datetime as dt # 時間套件\n",
        "import requests\n",
        "from bs4 import BeautifulSoup"
      ]
    },
    {
      "cell_type": "markdown",
      "metadata": {
        "id": "wGukHBkyiQA2"
      },
      "source": [
        "### 2️⃣ 輸入 OpenAI API KEY"
      ]
    },
    {
      "cell_type": "code",
      "execution_count": null,
      "metadata": {
        "colab": {
          "base_uri": "https://localhost:8080/"
        },
        "id": "ZN8CnE789cPy",
        "outputId": "20f597a8-364f-412d-fa69-e701fff7de98"
      },
      "outputs": [
        {
          "name": "stdout",
          "output_type": "stream",
          "text": [
            "請輸入金鑰：··········\n"
          ]
        }
      ],
      "source": [
        "import getpass # 保密輸入套件\n",
        "api_key = getpass.getpass(\"請輸入金鑰：\")\n",
        "client = OpenAI(api_key = api_key) # 建立 OpenAI 物件"
      ]
    },
    {
      "cell_type": "markdown",
      "source": [
        "### 3️⃣ 取得股價資料"
      ],
      "metadata": {
        "id": "ebiRubdMv_AZ"
      }
    },
    {
      "cell_type": "code",
      "source": [
        "# 從 yfinance 取得一周股價資料\n",
        "def stock_price(stock_id=\"大盤\", days = 10):\n",
        "  if stock_id == \"大盤\":\n",
        "    stock_id=\"^TWII\"\n",
        "  else:\n",
        "    stock_id += \".TW\"\n",
        "\n",
        "  end = dt.date.today() # 資料結束時間\n",
        "  start = end - dt.timedelta(days=days) # 資料開始時間\n",
        "  # 下載資料\n",
        "  df = yf.download(stock_id, start=start)\n",
        "\n",
        "  # 更換列名\n",
        "  df.columns = ['開盤價', '最高價', '最低價',\n",
        "                '收盤價', '調整後收盤價', '成交量']\n",
        "\n",
        "  data = {\n",
        "    '日期': df.index.strftime('%Y-%m-%d').tolist(),\n",
        "    '收盤價': df['收盤價'].tolist(),\n",
        "    '每日報酬': df['收盤價'].pct_change().tolist(),\n",
        "    '漲跌價差': df['調整後收盤價'].diff().tolist()\n",
        "    }\n",
        "\n",
        "  return data\n",
        "\n",
        "print(stock_price(\"2330\"))"
      ],
      "metadata": {
        "colab": {
          "base_uri": "https://localhost:8080/"
        },
        "id": "t30pt68amGmN",
        "outputId": "e9a8a32b-cc39-4a2d-a06d-911997336050"
      },
      "execution_count": null,
      "outputs": [
        {
          "output_type": "stream",
          "name": "stdout",
          "text": [
            "\r[*********************100%%**********************]  1 of 1 completed\n",
            "{'日期': ['2023-10-31', '2023-11-01', '2023-11-02', '2023-11-03', '2023-11-06', '2023-11-07', '2023-11-08', '2023-11-09', '2023-11-10'], '收盤價': [529.0, 528.0, 547.0, 549.0, 550.0, 555.0, 556.0, 557.0, 557.0], '每日報酬': [nan, -0.001890359168241984, 0.0359848484848484, 0.003656307129798808, 0.0018214936247722413, 0.009090909090909038, 0.0018018018018017834, 0.0017985611510791255, 0.0], '漲跌價差': [nan, -1.0, 19.0, 2.0, 1.0, 5.0, 1.0, 1.0, 0.0]}\n"
          ]
        }
      ]
    },
    {
      "cell_type": "markdown",
      "source": [
        "### 4️⃣ 取得基本面資料"
      ],
      "metadata": {
        "id": "T59rbTgDwoAZ"
      }
    },
    {
      "cell_type": "code",
      "source": [
        "# 基本面資料\n",
        "def stock_fundamental(stock_id= \"大盤\"):\n",
        "  if stock_id == \"大盤\":\n",
        "      return None\n",
        "\n",
        "  stock_id += \".TW\"\n",
        "  stock = yf.Ticker(stock_id)\n",
        "\n",
        "  # 營收成長率\n",
        "  quarterly_revenue_growth = np.round(stock.quarterly_financials.loc[\"Total Revenue\"].pct_change(-1).dropna().tolist(), 2)\n",
        "\n",
        "  # 每季EPS\n",
        "  quarterly_eps = np.round(stock.quarterly_financials.loc[\"Basic EPS\"].dropna().tolist(), 2)\n",
        "\n",
        "  # EPS季增率\n",
        "  quarterly_eps_growth = np.round(stock.quarterly_financials.loc[\"Basic EPS\"].pct_change(-1).dropna().tolist(), 2)\n",
        "\n",
        "  # 轉換日期\n",
        "  dates = [date.strftime('%Y-%m-%d') for date in stock.quarterly_financials.columns]\n",
        "\n",
        "  data = {\n",
        "      '季日期': dates[:len(quarterly_revenue_growth)],\n",
        "      '營收成長率': quarterly_revenue_growth.tolist(),\n",
        "      'EPS': quarterly_eps[0:3].tolist(),\n",
        "      'EPS 季增率': quarterly_eps_growth[0:3].tolist()\n",
        "  }\n",
        "\n",
        "  return data\n",
        "\n",
        "print(stock_fundamental(\"2330\"))"
      ],
      "metadata": {
        "colab": {
          "base_uri": "https://localhost:8080/"
        },
        "id": "4C7n0hxlwx-x",
        "outputId": "e7b5db83-04a2-4f5f-b319-97ef4da3176b"
      },
      "execution_count": null,
      "outputs": [
        {
          "output_type": "stream",
          "name": "stdout",
          "text": [
            "{'季日期': ['2023-09-30', '2023-06-30', '2023-03-31'], '營收成長率': [0.14, -0.05, -0.19], 'EPS': [8.14, 7.01, 7.98], 'EPS 季增率': [0.16, -0.12, -0.3]}\n"
          ]
        }
      ]
    },
    {
      "cell_type": "markdown",
      "metadata": {
        "id": "pC1gzHDLiqhT"
      },
      "source": [
        "### 5️⃣ 取得新聞資料"
      ]
    },
    {
      "cell_type": "code",
      "execution_count": null,
      "metadata": {
        "id": "OBkpRomPEXd1",
        "colab": {
          "base_uri": "https://localhost:8080/"
        },
        "outputId": "b1156dae-8396-46e1-c9df-16ffa30b7a0a"
      },
      "outputs": [
        {
          "output_type": "stream",
          "name": "stdout",
          "text": [
            "[['台積電', '2023-11-10', '<mark>台積電</mark>:台積公司2023年10月營收報告', '第51款1.事實發生日:112/11/102.公司名稱:台灣積體電路製造股份有限公司3.與公司關係(請輸入本公司或子公司):本公司4.相互持股比例:不適用5.發生緣由:不適用6.因應措施:不適用7.其他應敘明事項(若事件發生或決議之主體係屬公開發行以上公司，本則重大訊息同時  符合證券交易法施行細則第7條第9款所定對股東權益或證券價格有重大影響之事項):台積公司今（10）日公佈2023年10月營收報告。2023年10月合併營收約為新台幣2,432億300萬元，較上月增加了34.8%，較去年同期增加了15.7%。累計2023年1至10月營收約為新台幣1兆7,794億1,000萬元，較去年同期減少了3.7%。'], ['台積電', '2023-11-10', '〈台股盤後〉跌62點收16682點 失守五日線周線連二紅', '受到美國聯準會 (Fed) 主席鮑爾態度偏鷹、美債殖利率走高影響，美股收黑，亞股全盤皆墨，台股今 (10) 日同步開低震盪，加上電子三雄疲軟，金融、傳產撐盤無力，指數失守 16700 點關卡、5 日線，終場收在 16682.67 點，下跌 62.98 點或 0.38%，成交量 2302.38 億元，日 K 線終止連七紅、周線連二紅。電子權值股普遍疲軟，台積電 (2330-TW) 終場以平盤作收；聯發科 (2454-TW) 震盪走低，收在今日最低點 884 元，下跌逾 2%；鴻海也收黑，下跌約 0.7%；廣達、聯電、聯詠、研華等都表現疲軟。半導體群族仍有零星點火，金麗科強漲 7%，安國、沛亨也有逾 3% 漲幅；穩懋、點序、全宇昕、中美晶、旺矽、普誠、欣銓、合晶等逆勢收盤上。另外，精元、迎廣、勤誠、倫飛、圓剛、神達等表現也不俗。生技股上沖下洗，合一 (4743-TW) 開發糖尿病族足部傷口潰瘍新藥獲得中國認證，股價衝上漲停後賣壓出籠，終場翻黑下跌逾 4%，同集團的中天跌幅收斂，小漲作收。飯店股漲勢整齊，寒舍亮燈漲停，富野拉出逾根停板、力麗店、洛碁、亞都都有 2-3% 漲幅；老爺知、遠雄來、第一店、雲品同步收紅；另外，觀光族群的五福飆漲逾 9%，燦星旅、富野、易飛網、山富、豆府表現也不俗。傳產方面，中鋼 10 月自結稅前盈餘 8.23 億元，月增 60.2%、較去年同期轉盈，並對全年獲利「深具信心」，今日股價相對有撐，收漲 0.4%；其餘鋼鐵股世紀鋼勁揚逾 5%，運錩、盛餘、彰源、志聯表現抗跌。'], ['台積電', '2023-11-10', '<mark>台積電</mark>10月營收衝上2432億元 跳增35%飆新高', '晶圓代工龍頭台積電 (2330-TW)(TSM-US) 今 (10) 日公告 10 月營收 2432.03 億元，受惠 AI 需求強勁，推升 3 奈米量產動能，睽違 9 個月，單月營收重返 2000 億元大關，月增 34.8%，年增 15.7%，創新高；前 10 月累計營收 1 兆 7794.1 億元，年減 3.7%。台積電預估，第四季營收將達 188-196 億美元，以中間值估約季增 11.1%，以 1 美元兌換新台幣 32 元計算，營收估達 6016-6262 億元，但受 3 奈米量產影響，毛利率估下滑至 51.5-53.5%。台積電表示，第四季客戶 AI 需求持續強勁，推升 3 奈米量產動能，但客戶持續控管庫存，庫存調整將延續至第四季，不過也透露已看到 PC、手機客戶需求回溫跡象。隨著人工智慧晶片對先進封裝需求火熱，台積電 CoWoS 產能供不應求，法人指出，台積電 11 月透過改機增加月產能至 1.5 萬片，預估明年台積電 CoWoS 產能將倍增。法人預期，美系 AI 晶片大廠輝達（Nvidia）占台積電 CoWoS 總產能比重約 40%，輝達也增加布局非台積電供應鏈的 CoWoS 產能，今年第 4 季放量。台積電日本布局也有新進度，日本政府將在半導體產業追加 1.9 兆日圓預算，其中 9000 億日圓 (約新台幣 1920 億元) 將補貼台積電評估興建的熊本二廠，擴大對台積電補助規模。'], ['台積電', '2023-11-10', '〈台股盤中〉Fed現鷹爪震盪回測五日線 PCB、生技族群逆勢飆漲', '聯準會 (Fed) 主席鮑爾發表偏鷹談話，美股昨 (9) 日收跌，亞股今 (10) 日同步承壓，台股加權指數開盤震盪回測，跌點一度擴大至 80 點，失守 16700 點，跌破五日線。權值股普遍下跌，AI 族群零星表現，PCB、生技股逆勢飆漲，預估成交值約 2600 億元。\\xa0觀察電子權值股普遍回檔，台積電 (2330-TW) 下跌 1 元，聯發科 (2454-TW) 下跌 11 元，跌破 900 元，鴻海 (2317-TW) 則下跌 0.6 元。\\xa0AI 族群僅有零星表現，其中較強勢的是創意 (3443-TW)，盤中一度上漲至 1710 元。緯穎 (6669-TW) 開盤表現強勢，隨後翻黑，跌幅 0.56%，廣達 (2382-TW) 則下跌 2.97%。\\xa0PCB 族群逆勢走強，金麗科 (3228-TW) 漲幅 8.2%，精元 (2387-TW) 漲 7.6%，金像電 (2368-TW)、華通 (2313-TW) 漲逾 5%，聯茂 (6213-TW) 漲 4.67%，楠梓電 (2316-TW) 漲幅 3.6%。中小型生技股為今天盤面亮點，合一 (4743-TW) 開發糖尿病族足部傷口潰瘍新藥，獲得中國認證，股價漲停鎖住，帶動中天 (4128-TW)、鑽石投資 (6901-TW) 也強勢漲停，不過隨後漲停打開。智擎 (4162-TW) 漲 1.8%，東生華 (8432-TW) 漲 1.31%。\\xa0旅遊觀光類股續強，五福 (2745-TW) 漲 7.7%，寒舍 (2739-TW) 漲逾 5%，富野 (2736-TW) 漲 4%。\\xa0'], ['台積電', '2023-11-10', '11月配息ETF誰最強？8檔預估年化配息率突破7%', '文 ‧ 李羿璇台股近期動盪，而 ETF 逆勢吸金，雖然整體 ETF 十月平均績效 (含息) 單月下跌 2.7%，但投資人逢低買進，對於台股 ETF 低檔再加碼意願持續提升。十一月將有十六檔台股 ETF 進行除息，包括高人氣的國泰永續高股息 (00878)、復華台灣科技優息 (00929)、富邦特選高股息 30(00900)、元大臺灣 ESG 永續 (00850) 等，預估受益人數將會達到 260 萬，本篇也整理了這十六檔 ETF 中，預估年化配息率最高的前四名，比較看看究竟是哪檔 ETF 最厲害。從這十一月除息的十六檔 ETF 的當期預估配息率來看，第一名為 00901 的 4.47%，第二名為 0051 的 3.77%，第三名為 00690 的 3.68%，第四名為 006201 的 3.51%。永豐台灣智能車供應鏈 (00901) 的追蹤指標為「特選台灣智能車供應鏈聯盟指數」，從上市櫃股票中選取智能車用電子與綠能關鍵產業，以及財團法人車輛研究測試中心篩選的電動車供應商，經流動性、獲利指標篩選後，區分智能車各關鍵產業群組，成分股專注於台灣市場的電動車供應鏈，並以台積電為首。每年會進行兩次成分股審核，分別於六月及十二月的第七個交易日為審核基準日，審核資料分別截至五月及十一月最後一個交易日，成分股定審結果於審核基準日之後間五個交易日後生效。00901 為年配息，自成立日 (2021 年 12 月 6 日) 起滿 180 日 (含) 以後，每年十月的最後日曆日為收益評價日，目前過去只有一次配息紀錄，為 2022 年 11 月 16 日除息，配息 0.543 元，當期配息率 4.3%，2022 年 12 月 19 日發放現金股利。00901 的特色為專注在「電動車供應鏈」，涵蓋了車用晶片、車用控制台等，基本囊括了台灣的「半導體」公司。不過只看當期預估配息率對於配息頻率高的 ETF 並不公平，多次配息會稀釋收益，因此本篇也進行預估年化配息率的計算，從這十一月除息的十六檔 ETF 年化配息率來看，第一名為 00850 的 8.71%，第二名為 00929 的 7.72%，第三名為 00891 的 7.53%，第四名為 00690 的 7.36%，除了 00850 有到近 9% 以外，其餘有 7 檔在 7% 多的年化配息率。00850 全名為元大臺灣 ESG 永續，追蹤指數為「臺灣永續指數」，成分股是由上市股票中評選出致力於 ESG 發展，以永續經營為目標、並符合篩選條件的上市股票；一次買進臺灣股市的永續企業，用小錢投資一籃子的永續企業組合，有效分散個股投資風險。00929 全名為復華台灣科技優息，追蹤指數為「臺灣指數公司特選臺灣上市上櫃科技優息指數」，也就是他會選擇台灣電子類股，考量「科技」、「優息」方面績效好的個股，以上市上櫃市值前二百大電子類股為母體，經流動性檢驗，考量波動度、近三年平均殖利率、近五年現金股利變異係數、長短期本益比差距、股東權益報酬等基本面指標，再依股息殖利率由高至低排序，選取排名前四十名做為成分股。00891 全名為中信關鍵半導體，追蹤指數為「ICE FactSet 臺灣 ESG 永續關鍵半導體指數」，其成分股由三十檔臺灣上市或上櫃股票組成，以半導體產業為指數篩選主軸，反映臺灣半導體上中下游產業鏈較具代表性企業之表現。選股邏輯綜合考量多面向，加入永續投資因子；所追蹤指數將晨星旗下 Sustainalytics 之 ESG 評分機制導入篩選規則，剔除 ESG 高風險公司。00690 全名為兆豐臺灣藍籌 30ETF 基金，追蹤指數為「藍籌 30 指數」，綜合公司規模、營運穩定性、獲利能力及股利發放篩選成分股，於臺灣證券交易所所有上市普通股中，依公司規模、營運穩定性、獲利能力及股利發放等條件篩選，並依市值做排序，取前三十大企業。來源：《理財周刊》1211 期更多精彩內容請至 《理財周刊》']]\n"
          ]
        }
      ],
      "source": [
        "# 新聞資料\n",
        "def stock_news(stock_name =\"大盤\"):\n",
        "  if stock_name == \"大盤\":\n",
        "    stock_name=\"台股 -盤中速報\"\n",
        "\n",
        "  data=[]\n",
        "  # 取得 Json 格式資料\n",
        "  json_data = requests.get(f'https://ess.api.cnyes.com/ess/api/v1/news/keyword?q={stock_name}&limit=5&page=1').json()\n",
        "\n",
        "  # 依照格式擷取資料\n",
        "  items=json_data['data']['items']\n",
        "  for item in items:\n",
        "      # 網址、標題和日期\n",
        "      news_id = item[\"newsId\"]\n",
        "      title = item[\"title\"]\n",
        "      publish_at = item[\"publishAt\"]\n",
        "      # 使用 UTC 時間格式\n",
        "      utc_time = dt.datetime.utcfromtimestamp(publish_at)\n",
        "      formatted_date = utc_time.strftime('%Y-%m-%d')\n",
        "      # 前往網址擷取內容\n",
        "      url = requests.get(f'https://news.cnyes.com/'\n",
        "                        f'news/id/{news_id}').content\n",
        "      soup = BeautifulSoup(url, 'html.parser')\n",
        "      p_elements=soup .find_all('p')\n",
        "      # 提取段落内容\n",
        "      p=''\n",
        "      for paragraph in p_elements[4:]:\n",
        "          p+=paragraph.get_text()\n",
        "      data.append([stock_name, formatted_date ,title,p])\n",
        "  return data\n",
        "\n",
        "print(stock_news(\"台積電\"))"
      ]
    },
    {
      "cell_type": "markdown",
      "source": [
        "### 6️⃣ 爬取股號、股名對照表"
      ],
      "metadata": {
        "id": "0jqJLS9TSqyU"
      }
    },
    {
      "cell_type": "code",
      "source": [
        "# 取得全部股票的股號、股名\n",
        "def stock_name():\n",
        "  print(\"線上讀取股號、股名、及產業別\")\n",
        "\n",
        "  response = requests.get('https://isin.twse.com.tw/isin/C_public.jsp?strMode=2')\n",
        "  url_data = BeautifulSoup(response.text, 'html.parser')\n",
        "  stock_company = url_data.find_all('tr')\n",
        "\n",
        "  # 資料處理\n",
        "  data = [\n",
        "      (row.find_all('td')[0].text.split('\\u3000')[0].strip(),\n",
        "        row.find_all('td')[0].text.split('\\u3000')[1],\n",
        "        row.find_all('td')[4].text.strip())\n",
        "      for row in stock_company[2:] if len(row.find_all('td')[0].text.split('\\u3000')[0].strip()) == 4\n",
        "  ]\n",
        "\n",
        "  df = pd.DataFrame(data, columns=['股號', '股名', '產業別'])\n",
        "\n",
        "  return df\n",
        "\n",
        "name_df = stock_name()"
      ],
      "metadata": {
        "colab": {
          "base_uri": "https://localhost:8080/"
        },
        "id": "PeCJ5-XHSrU9",
        "outputId": "a8c938b1-02e7-4f3e-ee6b-58a847e3dfab"
      },
      "execution_count": null,
      "outputs": [
        {
          "output_type": "stream",
          "name": "stdout",
          "text": [
            "線上讀取股號、股名、及產業別\n"
          ]
        }
      ]
    },
    {
      "cell_type": "markdown",
      "source": [
        "### 7️⃣ 取得股票名稱"
      ],
      "metadata": {
        "id": "xKNkqNWSoAQe"
      }
    },
    {
      "cell_type": "code",
      "source": [
        "# 取得股票名稱\n",
        "def get_stock_name(stock_id, name_df):\n",
        "    return name_df.set_index('股號').loc[stock_id, '股名']\n",
        "\n",
        "print(name_df.head())\n",
        "print(\"--------------------------\")\n",
        "print(get_stock_name(\"1417\",name_df))"
      ],
      "metadata": {
        "colab": {
          "base_uri": "https://localhost:8080/"
        },
        "id": "IZXQFFxZn2rf",
        "outputId": "99e17d3f-4d82-46de-f535-215574a798e7"
      },
      "execution_count": null,
      "outputs": [
        {
          "output_type": "stream",
          "name": "stdout",
          "text": [
            "     股號  股名   產業別\n",
            "0  1101  台泥  水泥工業\n",
            "1  1102  亞泥  水泥工業\n",
            "2  1103  嘉泥  水泥工業\n",
            "3  1104  環泥  水泥工業\n",
            "4  1108  幸福  水泥工業\n",
            "--------------------------\n",
            "嘉裕\n"
          ]
        }
      ]
    },
    {
      "cell_type": "markdown",
      "metadata": {
        "id": "pyelatvvLiIn"
      },
      "source": [
        "### 8️⃣ 建構 GPT 3.5 模型"
      ]
    },
    {
      "cell_type": "code",
      "execution_count": null,
      "metadata": {
        "id": "aSjownHrGnde"
      },
      "outputs": [],
      "source": [
        "# 建立 GPT 3.5-16k 模型\n",
        "def get_reply(messages):\n",
        "    try:\n",
        "        response = client.chat.completions.create(\n",
        "            model = \"gpt-3.5-turbo\",\n",
        "            messages = messages\n",
        "        )\n",
        "        reply = response.choices[0].message.content\n",
        "    except OpenAIError as err:\n",
        "        reply = f\"發生 {err.type} 錯誤\\n{err.message}\"\n",
        "    return reply\n",
        "\n",
        "# 建立訊息指令(Prompt)\n",
        "def generate_content_msg(stock_id, name_df):\n",
        "\n",
        "    stock_name = get_stock_name(\n",
        "        stock_id, name_df) if stock_id != \"大盤\" else stock_id\n",
        "\n",
        "    price_data = stock_price(stock_id)\n",
        "    news_data = stock_news(stock_name)\n",
        "\n",
        "    content_msg = f'請依據以下資料來進行分析並給出一份完整的分析報告:\\n'\n",
        "\n",
        "    content_msg += f'近期價格資訊:\\n {price_data}\\n'\n",
        "\n",
        "    if stock_id != \"大盤\":\n",
        "        stock_value_data = stock_fundamental(stock_id)\n",
        "        content_msg += f'每季營收資訊：\\n {stock_value_data}\\n'\n",
        "\n",
        "    content_msg += f'近期新聞資訊: \\n {news_data}\\n'\n",
        "    content_msg += f'請給我{stock_name}近期的趨勢報告,請以詳細、\\\n",
        "      嚴謹及專業的角度撰寫此報告,並提及重要的數字, reply in 繁體中文'\n",
        "\n",
        "    return content_msg\n",
        "\n",
        "# StockGPT\n",
        "def stock_gpt(stock_id, name_df=name_df):\n",
        "    content_msg = generate_content_msg(stock_id, name_df)\n",
        "\n",
        "    msg = [{\n",
        "        \"role\": \"system\",\n",
        "        \"content\": f\"你現在是一位專業的證券分析師, 你會統整近期的股價\\\n",
        "      、基本面、新聞資訊等方面並進行分析, 然後生成一份專業的趨勢分析報告\"\n",
        "    }, {\n",
        "        \"role\": \"user\",\n",
        "        \"content\": content_msg\n",
        "    }]\n",
        "\n",
        "    reply_data = get_reply(msg)\n",
        "\n",
        "    return reply_data\n"
      ]
    },
    {
      "cell_type": "markdown",
      "metadata": {
        "id": "MkoAWO2GjnlT"
      },
      "source": [
        "### 9️⃣ 大盤趨勢報告"
      ]
    },
    {
      "cell_type": "code",
      "execution_count": null,
      "metadata": {
        "colab": {
          "base_uri": "https://localhost:8080/"
        },
        "id": "oDHvn0VCGPzH",
        "outputId": "19177259-3630-4557-aff7-d9a522bd7fc1"
      },
      "outputs": [
        {
          "output_type": "stream",
          "name": "stdout",
          "text": [
            "\r[*********************100%%**********************]  1 of 1 completed\n",
            "根據提供的股價資訊和新聞資訊，以下是對大盤近期趨勢的分析報告：\n",
            "\n",
            "一、股價走勢：\n",
            "自2023年10月31日至11月10日，台股加權指數呈現整體上漲的走勢。10月31日，台股收盤價為16001.27點，隨後於11月2日達到最高峰，收盤價達到16396.95點。然而，在11月10日，股價出現小幅調整，收盤價為16682.67點，較前一交易日下跌0.38%。從每日報酬率的變化來看，股價整體上呈現正向波動，但在11月10日出現了負的日報酬率，顯示市場出現了一定程度的不確定性。\n",
            "\n",
            "二、新聞資訊影響：\n",
            "根據近期新聞報導，美國聯準會主席鮑爾的談話以及美國債券殖利率的走高對台股產生了一定影響。個股方面，電子權值股整體疲軟，影響了台股指數的表現。此外，影響力較大的概念股包括AI和生技股。其中，AI概念股中的PCB和生技股合一在新產品認證以及公告中表現強勁。此外，觀光股和部分傳產股也呈現一定的強勢表現。這些消息對股價產生了一定程度的波動。\n",
            "\n",
            "三、技術面分析：\n",
            "從技術面來看，股價在5日線附近震蕩，並未能持續突破，此外，當日成交量也較前幾個交易日出現了下降。這可能意味著投資者對於市場的信心有所動搖，有一定的觀望情緒存在。\n",
            "\n",
            "總結來看，從股價趨勢和新聞資訊來看，台股在短期內呈現整體上升的走勢，同時也存在一定的波動性。技術面表現較為脆弱，投資者在操作中需要謹慎\n"
          ]
        }
      ],
      "source": [
        "reply = stock_gpt(stock_id=\"大盤\")\n",
        "print(reply)"
      ]
    },
    {
      "cell_type": "markdown",
      "metadata": {
        "id": "BP5FkDxALp4e"
      },
      "source": [
        "### 🔟 個股分析報告"
      ]
    },
    {
      "cell_type": "code",
      "execution_count": null,
      "metadata": {
        "colab": {
          "base_uri": "https://localhost:8080/"
        },
        "id": "j1x0glPsNJe2",
        "outputId": "ca78b7eb-7881-458a-8ba1-9b28b197a6e9"
      },
      "outputs": [
        {
          "output_type": "stream",
          "name": "stdout",
          "text": [
            "\r[*********************100%%**********************]  1 of 1 completed\n",
            "【台積電近期趨勢分析報告】\n",
            "\n",
            "一、價格資訊分析:\n",
            "   近期台積電股價呈現整體上漲趨勢，收盤價從529元一路攀升至557元。每日報酬率亦顯示出股價整體上揚的趨勢，從-0.19%上升至0%。\n",
            "   \n",
            "二、基本面分析:\n",
            "   1. 季度營收成長率顯示，台積電在2023年9月份取得了驚人的1136.03%成長率，呈現出強勁的業績表現。\n",
            "   2. 另外，每股盈餘(EPS)從2022年12月的11.41元持續下降，呈現逐步減少的趨勢。然而，2023年9月的EPS為8.14元，還是呈現相對良好的表現。然而，季度增長率顯示EPS正逐漸下降。\n",
            "\n",
            "三、新聞資訊分析:\n",
            "   1. 台積電在新聞中公佈2023年10月營收約為2,432億300萬元，較上月增加了34.8%，較去年同期增加了15.7%。累計2023年1至10月營收約為1兆7,794億1,000萬元，較去年同期減少了3.7%。此營收數據顯示，台積電的營收整體呈現出正向成長的趨勢。\n",
            "   2. 受到美國聯準會 (Fed) 主席鮑爾態度偏鷹、美債殖利率走高影響，全球股市普遍承壓。然而，台積電在此情況下仍取得驚人的10月營收數據，顯示其良好的市場表現。\n",
            "   3. 11月除息ETF中，有16檔台股ETF進行除息，其中對於台積電的未來投資策略具有一定的參考價值。\n",
            "   \n",
            "四、趨勢分析總結:\n",
            "   從股價、基本面及新聞資訊的綜合分析來看，台積電整體呈現出穩健的營收增長及穩定的股價上升趨勢。然而，EPS的逐步下降值得投資者關注。受到宏觀經濟因素的影響，投資者需密切留意全球股市動態，並謹慎評估其風險。\n",
            "\n",
            "以上報告僅供參考，投資者在做出交易決策前，還應該考慮個人投資風險偏好及其他市場因素，以及尋求相關專業建議。\n"
          ]
        }
      ],
      "source": [
        "reply = stock_gpt(stock_id=\"2330\")\n",
        "print(reply)"
      ]
    },
    {
      "cell_type": "markdown",
      "source": [
        "### 1️⃣1️⃣ 雞蛋水餃股也能做分析"
      ],
      "metadata": {
        "id": "VP2kpv8Q_SUH"
      }
    },
    {
      "cell_type": "code",
      "source": [
        "reply = stock_gpt(stock_id=\"4414\")\n",
        "print(reply)"
      ],
      "metadata": {
        "colab": {
          "base_uri": "https://localhost:8080/"
        },
        "id": "3pYDV3Kw_SoE",
        "outputId": "0c010870-e9fc-4168-93ad-2d7d25727f3b"
      },
      "execution_count": null,
      "outputs": [
        {
          "output_type": "stream",
          "name": "stdout",
          "text": [
            "\r[*********************100%%**********************]  1 of 1 completed\n",
            "## 如興公司近期趨勢報告\n",
            "\n",
            "### 股價走勢分析\n",
            "- 根據2023年11月10日的收盤價（3.63元），相較於10月31日的收盤價（3.46元），股價出現上漲趨勢。具體數據顯示11月10日的收盤價較10月31日上漲0.17元，漲幅為4.91%。\n",
            "- 在過去10個交易日中，如興股價的每天報酬率波動明顯。例如，11月9日與11月7日的報酬率分別為-1.66%和2.28%。這顯示了股價的波動性較大。\n",
            "\n",
            "### 基本面分析\n",
            "- 依據最近的營收情況來看，公司在2023年第三季度實現了正成長，營收增長率為11%，顯示公司營運有穩定向好的發展。\n",
            "- 如興公司EPS（每股收益）也出現了逐季改善的趨勢，由去年底-1.36元，逐步改善至最新的-0.31元，顯示公司在盈利能力上有所提升。同時，觀察到EPS季增率出現正數，這意味著公司的盈利能力有所改善。\n",
            "\n",
            "### 新聞事件分析\n",
            "- 10月26日，如興公告宣布進行私募認股，募集資金來源明細顯示為貸款63,755,000元，這將對公司未來的財務結構及股東權益產生一定影響。\n",
            "- 公司最近一次公告中提到興牛一投資股份有限公司持股總額占公司已發行股份總額百分比為10.73%，這顯示了少數股東的機構投資者對公司的未來發展抱有信心。\n",
            "\n",
            "### 總結\n",
            "綜合股價走勢、基本面和最近新聞事件的分析，我們可以看到如興公司股價整體呈現波動明顯的特點，且公司營收及盈利狀況有穩步改善的趨勢。在未來投資中，投資者需要密切關注公司的財務狀況及市場動態，以做出明智的投資決策。\n",
            "\n",
            "以上報告僅為個人觀點，請自行謹慎評估風險並考量專業投資意見。\n"
          ]
        }
      ]
    }
  ],
  "metadata": {
    "colab": {
      "provenance": []
    },
    "kernelspec": {
      "display_name": "Python 3",
      "name": "python3"
    },
    "language_info": {
      "name": "python"
    }
  },
  "nbformat": 4,
  "nbformat_minor": 0
}