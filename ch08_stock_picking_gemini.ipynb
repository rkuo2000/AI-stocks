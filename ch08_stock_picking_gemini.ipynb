{
  "cells": [
    {
      "cell_type": "markdown",
      "metadata": {
        "id": "TFQ17AmL0Yd0"
      },
      "source": [
        "# CH-08 建構投資組合：讓 AI 輔助選股"
      ]
    },
    {
      "cell_type": "markdown",
      "metadata": {
        "id": "TjLwn9j5zzG0"
      },
      "source": [
        "## 8-1 建構投資組合"
      ]
    },
    {
      "cell_type": "markdown",
      "metadata": {
        "id": "JafBjysbhZAD"
      },
      "source": [
        "### 1️⃣ 匯入套件 & 掛載雲端硬碟\n",
        "\n"
      ]
    },
    {
      "cell_type": "code",
      "execution_count": 1,
      "metadata": {
        "colab": {
          "base_uri": "https://localhost:8080/"
        },
        "id": "yPNGbMfnWCRe",
        "outputId": "25e530b1-9f82-450e-f94e-c0e4efc50bd9"
      },
      "outputs": [
        {
          "output_type": "stream",
          "name": "stdout",
          "text": [
            "Requirement already satisfied: gdown in /usr/local/lib/python3.11/dist-packages (5.2.0)\n",
            "Requirement already satisfied: beautifulsoup4 in /usr/local/lib/python3.11/dist-packages (from gdown) (4.13.3)\n",
            "Requirement already satisfied: filelock in /usr/local/lib/python3.11/dist-packages (from gdown) (3.17.0)\n",
            "Requirement already satisfied: requests[socks] in /usr/local/lib/python3.11/dist-packages (from gdown) (2.32.3)\n",
            "Requirement already satisfied: tqdm in /usr/local/lib/python3.11/dist-packages (from gdown) (4.67.1)\n",
            "Requirement already satisfied: soupsieve>1.2 in /usr/local/lib/python3.11/dist-packages (from beautifulsoup4->gdown) (2.6)\n",
            "Requirement already satisfied: typing-extensions>=4.0.0 in /usr/local/lib/python3.11/dist-packages (from beautifulsoup4->gdown) (4.12.2)\n",
            "Requirement already satisfied: charset-normalizer<4,>=2 in /usr/local/lib/python3.11/dist-packages (from requests[socks]->gdown) (3.4.1)\n",
            "Requirement already satisfied: idna<4,>=2.5 in /usr/local/lib/python3.11/dist-packages (from requests[socks]->gdown) (3.10)\n",
            "Requirement already satisfied: urllib3<3,>=1.21.1 in /usr/local/lib/python3.11/dist-packages (from requests[socks]->gdown) (2.3.0)\n",
            "Requirement already satisfied: certifi>=2017.4.17 in /usr/local/lib/python3.11/dist-packages (from requests[socks]->gdown) (2025.1.31)\n",
            "Requirement already satisfied: PySocks!=1.5.7,>=1.5.6 in /usr/local/lib/python3.11/dist-packages (from requests[socks]->gdown) (1.7.1)\n",
            "Mounted at /content/drive\n"
          ]
        }
      ],
      "source": [
        "!pip install gdown\n",
        "import gdown\n",
        "import os\n",
        "import datetime as dt\n",
        "import time\n",
        "from IPython.display import display\n",
        "import pandas as pd\n",
        "from google.colab import drive\n",
        "from tqdm import tqdm\n",
        "drive.mount('/content/drive')"
      ]
    },
    {
      "cell_type": "markdown",
      "metadata": {
        "id": "lKxidmqYC_Yk"
      },
      "source": [
        "### 2️⃣ 下載資料庫\n",
        "若資料庫未下載成功或出現 bug，請手動點擊連結下載，並放入 **我的雲端硬碟>StockGPT** 資料夾中\n",
        "\n",
        "下載連結：https://drive.usercontent.google.com/download?id=1EnPlBC1AjuII_q6t2BEjoERfuY98VtUR"
      ]
    },
    {
      "cell_type": "code",
      "execution_count": 2,
      "metadata": {
        "colab": {
          "base_uri": "https://localhost:8080/"
        },
        "id": "RrLWU70aWj0h",
        "outputId": "af018853-bdad-42cb-fbc8-defbae8eb389"
      },
      "outputs": [
        {
          "output_type": "stream",
          "name": "stdout",
          "text": [
            "無需下載\n"
          ]
        }
      ],
      "source": [
        "# 指定下載路徑\n",
        "!mkdir -p \"/content/drive/MyDrive/StockGPT/\"\n",
        "output_path = '/content/drive/MyDrive/StockGPT/'\n",
        "\n",
        "# 檢查資料庫是否存在\n",
        "stock_db_path = output_path + 'stock.db'\n",
        "if not os.path.exists(stock_db_path):\n",
        "    print(\"下載資料庫中...\")\n",
        "    id = '1EnPlBC1AjuII_q6t2BEjoERfuY98VtUR'\n",
        "\n",
        "    gdown.download(id=id, output=stock_db_path)\n",
        "    print(\"下載完成\")\n",
        "else:\n",
        "    print(\"無需下載\")"
      ]
    },
    {
      "cell_type": "markdown",
      "metadata": {
        "id": "Ux67S5AvDImT"
      },
      "source": [
        "### 3️⃣ 安裝旗標套件"
      ]
    },
    {
      "cell_type": "code",
      "execution_count": 3,
      "metadata": {
        "id": "G78l4AslDI1z",
        "colab": {
          "base_uri": "https://localhost:8080/"
        },
        "outputId": "ae9b498f-3ad9-4f7b-bd6e-2b236af30126"
      },
      "outputs": [
        {
          "output_type": "stream",
          "name": "stdout",
          "text": [
            "Cloning into 'AI-stocks'...\n",
            "remote: Enumerating objects: 229, done.\u001b[K\n",
            "remote: Counting objects: 100% (118/118), done.\u001b[K\n",
            "remote: Compressing objects: 100% (93/93), done.\u001b[K\n",
            "remote: Total 229 (delta 75), reused 25 (delta 25), pack-reused 111 (from 1)\u001b[K\n",
            "Receiving objects: 100% (229/229), 37.06 MiB | 11.20 MiB/s, done.\n",
            "Resolving deltas: 100% (105/105), done.\n",
            "/content/AI-stocks\n",
            "Requirement already satisfied: openai in /usr/local/lib/python3.11/dist-packages (from -r requirements.txt (line 1)) (1.61.1)\n",
            "Collecting faiss-cpu (from -r requirements.txt (line 2))\n",
            "  Downloading faiss_cpu-1.10.0-cp311-cp311-manylinux_2_28_x86_64.whl.metadata (4.4 kB)\n",
            "Requirement already satisfied: langchain in /usr/local/lib/python3.11/dist-packages (from -r requirements.txt (line 3)) (0.3.18)\n",
            "Collecting langchain-community (from -r requirements.txt (line 4))\n",
            "  Downloading langchain_community-0.3.17-py3-none-any.whl.metadata (2.4 kB)\n",
            "Collecting langchain-google-genai (from -r requirements.txt (line 5))\n",
            "  Downloading langchain_google_genai-2.0.9-py3-none-any.whl.metadata (3.6 kB)\n",
            "Requirement already satisfied: httpx in /usr/local/lib/python3.11/dist-packages (from -r requirements.txt (line 6)) (0.28.1)\n",
            "Requirement already satisfied: Typing-extensions in /usr/local/lib/python3.11/dist-packages (from -r requirements.txt (line 7)) (4.12.2)\n",
            "Collecting pdfplumber (from -r requirements.txt (line 8))\n",
            "  Downloading pdfplumber-0.11.5-py3-none-any.whl.metadata (42 kB)\n",
            "\u001b[2K     \u001b[90m━━━━━━━━━━━━━━━━━━━━━━━━━━━━━━━━━━━━━━━━\u001b[0m \u001b[32m42.5/42.5 kB\u001b[0m \u001b[31m4.5 MB/s\u001b[0m eta \u001b[36m0:00:00\u001b[0m\n",
            "\u001b[?25hCollecting tiktoken (from -r requirements.txt (line 9))\n",
            "  Downloading tiktoken-0.9.0-cp311-cp311-manylinux_2_17_x86_64.manylinux2014_x86_64.whl.metadata (6.7 kB)\n",
            "Collecting yfinance==0.2.31 (from -r requirements.txt (line 10))\n",
            "  Downloading yfinance-0.2.31-py2.py3-none-any.whl.metadata (11 kB)\n",
            "Collecting cohere (from -r requirements.txt (line 11))\n",
            "  Downloading cohere-5.13.12-py3-none-any.whl.metadata (3.4 kB)\n",
            "Requirement already satisfied: pandas>=1.3.0 in /usr/local/lib/python3.11/dist-packages (from yfinance==0.2.31->-r requirements.txt (line 10)) (2.2.2)\n",
            "Requirement already satisfied: numpy>=1.16.5 in /usr/local/lib/python3.11/dist-packages (from yfinance==0.2.31->-r requirements.txt (line 10)) (1.26.4)\n",
            "Requirement already satisfied: requests>=2.31 in /usr/local/lib/python3.11/dist-packages (from yfinance==0.2.31->-r requirements.txt (line 10)) (2.32.3)\n",
            "Requirement already satisfied: multitasking>=0.0.7 in /usr/local/lib/python3.11/dist-packages (from yfinance==0.2.31->-r requirements.txt (line 10)) (0.0.11)\n",
            "Requirement already satisfied: lxml>=4.9.1 in /usr/local/lib/python3.11/dist-packages (from yfinance==0.2.31->-r requirements.txt (line 10)) (5.3.1)\n",
            "Collecting appdirs>=1.4.4 (from yfinance==0.2.31->-r requirements.txt (line 10))\n",
            "  Downloading appdirs-1.4.4-py2.py3-none-any.whl.metadata (9.0 kB)\n",
            "Requirement already satisfied: pytz>=2022.5 in /usr/local/lib/python3.11/dist-packages (from yfinance==0.2.31->-r requirements.txt (line 10)) (2025.1)\n",
            "Requirement already satisfied: frozendict>=2.3.4 in /usr/local/lib/python3.11/dist-packages (from yfinance==0.2.31->-r requirements.txt (line 10)) (2.4.6)\n",
            "Requirement already satisfied: peewee>=3.16.2 in /usr/local/lib/python3.11/dist-packages (from yfinance==0.2.31->-r requirements.txt (line 10)) (3.17.9)\n",
            "Requirement already satisfied: beautifulsoup4>=4.11.1 in /usr/local/lib/python3.11/dist-packages (from yfinance==0.2.31->-r requirements.txt (line 10)) (4.13.3)\n",
            "Requirement already satisfied: html5lib>=1.1 in /usr/local/lib/python3.11/dist-packages (from yfinance==0.2.31->-r requirements.txt (line 10)) (1.1)\n",
            "Requirement already satisfied: anyio<5,>=3.5.0 in /usr/local/lib/python3.11/dist-packages (from openai->-r requirements.txt (line 1)) (3.7.1)\n",
            "Requirement already satisfied: distro<2,>=1.7.0 in /usr/local/lib/python3.11/dist-packages (from openai->-r requirements.txt (line 1)) (1.9.0)\n",
            "Requirement already satisfied: jiter<1,>=0.4.0 in /usr/local/lib/python3.11/dist-packages (from openai->-r requirements.txt (line 1)) (0.8.2)\n",
            "Requirement already satisfied: pydantic<3,>=1.9.0 in /usr/local/lib/python3.11/dist-packages (from openai->-r requirements.txt (line 1)) (2.10.6)\n",
            "Requirement already satisfied: sniffio in /usr/local/lib/python3.11/dist-packages (from openai->-r requirements.txt (line 1)) (1.3.1)\n",
            "Requirement already satisfied: tqdm>4 in /usr/local/lib/python3.11/dist-packages (from openai->-r requirements.txt (line 1)) (4.67.1)\n",
            "Requirement already satisfied: packaging in /usr/local/lib/python3.11/dist-packages (from faiss-cpu->-r requirements.txt (line 2)) (24.2)\n",
            "Requirement already satisfied: langchain-core<1.0.0,>=0.3.34 in /usr/local/lib/python3.11/dist-packages (from langchain->-r requirements.txt (line 3)) (0.3.35)\n",
            "Requirement already satisfied: langchain-text-splitters<1.0.0,>=0.3.6 in /usr/local/lib/python3.11/dist-packages (from langchain->-r requirements.txt (line 3)) (0.3.6)\n",
            "Requirement already satisfied: langsmith<0.4,>=0.1.17 in /usr/local/lib/python3.11/dist-packages (from langchain->-r requirements.txt (line 3)) (0.3.8)\n",
            "Requirement already satisfied: SQLAlchemy<3,>=1.4 in /usr/local/lib/python3.11/dist-packages (from langchain->-r requirements.txt (line 3)) (2.0.38)\n",
            "Requirement already satisfied: PyYAML>=5.3 in /usr/local/lib/python3.11/dist-packages (from langchain->-r requirements.txt (line 3)) (6.0.2)\n",
            "Requirement already satisfied: aiohttp<4.0.0,>=3.8.3 in /usr/local/lib/python3.11/dist-packages (from langchain->-r requirements.txt (line 3)) (3.11.12)\n",
            "Requirement already satisfied: tenacity!=8.4.0,<10,>=8.1.0 in /usr/local/lib/python3.11/dist-packages (from langchain->-r requirements.txt (line 3)) (9.0.0)\n",
            "Collecting dataclasses-json<0.7,>=0.5.7 (from langchain-community->-r requirements.txt (line 4))\n",
            "  Downloading dataclasses_json-0.6.7-py3-none-any.whl.metadata (25 kB)\n",
            "Collecting pydantic-settings<3.0.0,>=2.4.0 (from langchain-community->-r requirements.txt (line 4))\n",
            "  Downloading pydantic_settings-2.7.1-py3-none-any.whl.metadata (3.5 kB)\n",
            "Collecting httpx-sse<1.0.0,>=0.4.0 (from langchain-community->-r requirements.txt (line 4))\n",
            "  Downloading httpx_sse-0.4.0-py3-none-any.whl.metadata (9.0 kB)\n",
            "Collecting filetype<2.0.0,>=1.2.0 (from langchain-google-genai->-r requirements.txt (line 5))\n",
            "  Downloading filetype-1.2.0-py2.py3-none-any.whl.metadata (6.5 kB)\n",
            "Requirement already satisfied: google-generativeai<0.9.0,>=0.8.0 in /usr/local/lib/python3.11/dist-packages (from langchain-google-genai->-r requirements.txt (line 5)) (0.8.4)\n",
            "Requirement already satisfied: certifi in /usr/local/lib/python3.11/dist-packages (from httpx->-r requirements.txt (line 6)) (2025.1.31)\n",
            "Requirement already satisfied: httpcore==1.* in /usr/local/lib/python3.11/dist-packages (from httpx->-r requirements.txt (line 6)) (1.0.7)\n",
            "Requirement already satisfied: idna in /usr/local/lib/python3.11/dist-packages (from httpx->-r requirements.txt (line 6)) (3.10)\n",
            "Requirement already satisfied: h11<0.15,>=0.13 in /usr/local/lib/python3.11/dist-packages (from httpcore==1.*->httpx->-r requirements.txt (line 6)) (0.14.0)\n",
            "Collecting pdfminer.six==20231228 (from pdfplumber->-r requirements.txt (line 8))\n",
            "  Downloading pdfminer.six-20231228-py3-none-any.whl.metadata (4.2 kB)\n",
            "Requirement already satisfied: Pillow>=9.1 in /usr/local/lib/python3.11/dist-packages (from pdfplumber->-r requirements.txt (line 8)) (11.1.0)\n",
            "Collecting pypdfium2>=4.18.0 (from pdfplumber->-r requirements.txt (line 8))\n",
            "  Downloading pypdfium2-4.30.1-py3-none-manylinux_2_17_x86_64.manylinux2014_x86_64.whl.metadata (48 kB)\n",
            "\u001b[2K     \u001b[90m━━━━━━━━━━━━━━━━━━━━━━━━━━━━━━━━━━━━━━━━\u001b[0m \u001b[32m48.2/48.2 kB\u001b[0m \u001b[31m5.0 MB/s\u001b[0m eta \u001b[36m0:00:00\u001b[0m\n",
            "\u001b[?25hRequirement already satisfied: charset-normalizer>=2.0.0 in /usr/local/lib/python3.11/dist-packages (from pdfminer.six==20231228->pdfplumber->-r requirements.txt (line 8)) (3.4.1)\n",
            "Requirement already satisfied: cryptography>=36.0.0 in /usr/local/lib/python3.11/dist-packages (from pdfminer.six==20231228->pdfplumber->-r requirements.txt (line 8)) (43.0.3)\n",
            "Requirement already satisfied: regex>=2022.1.18 in /usr/local/lib/python3.11/dist-packages (from tiktoken->-r requirements.txt (line 9)) (2024.11.6)\n",
            "Collecting fastavro<2.0.0,>=1.9.4 (from cohere->-r requirements.txt (line 11))\n",
            "  Downloading fastavro-1.10.0-cp311-cp311-manylinux_2_17_x86_64.manylinux2014_x86_64.whl.metadata (5.5 kB)\n",
            "Requirement already satisfied: pydantic-core<3.0.0,>=2.18.2 in /usr/local/lib/python3.11/dist-packages (from cohere->-r requirements.txt (line 11)) (2.27.2)\n",
            "Requirement already satisfied: tokenizers<1,>=0.15 in /usr/local/lib/python3.11/dist-packages (from cohere->-r requirements.txt (line 11)) (0.21.0)\n",
            "Collecting types-requests<3.0.0,>=2.0.0 (from cohere->-r requirements.txt (line 11))\n",
            "  Downloading types_requests-2.32.0.20241016-py3-none-any.whl.metadata (1.9 kB)\n",
            "Requirement already satisfied: aiohappyeyeballs>=2.3.0 in /usr/local/lib/python3.11/dist-packages (from aiohttp<4.0.0,>=3.8.3->langchain->-r requirements.txt (line 3)) (2.4.6)\n",
            "Requirement already satisfied: aiosignal>=1.1.2 in /usr/local/lib/python3.11/dist-packages (from aiohttp<4.0.0,>=3.8.3->langchain->-r requirements.txt (line 3)) (1.3.2)\n",
            "Requirement already satisfied: attrs>=17.3.0 in /usr/local/lib/python3.11/dist-packages (from aiohttp<4.0.0,>=3.8.3->langchain->-r requirements.txt (line 3)) (25.1.0)\n",
            "Requirement already satisfied: frozenlist>=1.1.1 in /usr/local/lib/python3.11/dist-packages (from aiohttp<4.0.0,>=3.8.3->langchain->-r requirements.txt (line 3)) (1.5.0)\n",
            "Requirement already satisfied: multidict<7.0,>=4.5 in /usr/local/lib/python3.11/dist-packages (from aiohttp<4.0.0,>=3.8.3->langchain->-r requirements.txt (line 3)) (6.1.0)\n",
            "Requirement already satisfied: propcache>=0.2.0 in /usr/local/lib/python3.11/dist-packages (from aiohttp<4.0.0,>=3.8.3->langchain->-r requirements.txt (line 3)) (0.2.1)\n",
            "Requirement already satisfied: yarl<2.0,>=1.17.0 in /usr/local/lib/python3.11/dist-packages (from aiohttp<4.0.0,>=3.8.3->langchain->-r requirements.txt (line 3)) (1.18.3)\n",
            "Requirement already satisfied: soupsieve>1.2 in /usr/local/lib/python3.11/dist-packages (from beautifulsoup4>=4.11.1->yfinance==0.2.31->-r requirements.txt (line 10)) (2.6)\n",
            "Collecting marshmallow<4.0.0,>=3.18.0 (from dataclasses-json<0.7,>=0.5.7->langchain-community->-r requirements.txt (line 4))\n",
            "  Downloading marshmallow-3.26.1-py3-none-any.whl.metadata (7.3 kB)\n",
            "Collecting typing-inspect<1,>=0.4.0 (from dataclasses-json<0.7,>=0.5.7->langchain-community->-r requirements.txt (line 4))\n",
            "  Downloading typing_inspect-0.9.0-py3-none-any.whl.metadata (1.5 kB)\n",
            "Requirement already satisfied: google-ai-generativelanguage==0.6.15 in /usr/local/lib/python3.11/dist-packages (from google-generativeai<0.9.0,>=0.8.0->langchain-google-genai->-r requirements.txt (line 5)) (0.6.15)\n",
            "Requirement already satisfied: google-api-core in /usr/local/lib/python3.11/dist-packages (from google-generativeai<0.9.0,>=0.8.0->langchain-google-genai->-r requirements.txt (line 5)) (2.19.2)\n",
            "Requirement already satisfied: google-api-python-client in /usr/local/lib/python3.11/dist-packages (from google-generativeai<0.9.0,>=0.8.0->langchain-google-genai->-r requirements.txt (line 5)) (2.160.0)\n",
            "Requirement already satisfied: google-auth>=2.15.0 in /usr/local/lib/python3.11/dist-packages (from google-generativeai<0.9.0,>=0.8.0->langchain-google-genai->-r requirements.txt (line 5)) (2.27.0)\n",
            "Requirement already satisfied: protobuf in /usr/local/lib/python3.11/dist-packages (from google-generativeai<0.9.0,>=0.8.0->langchain-google-genai->-r requirements.txt (line 5)) (4.25.6)\n",
            "Requirement already satisfied: proto-plus<2.0.0dev,>=1.22.3 in /usr/local/lib/python3.11/dist-packages (from google-ai-generativelanguage==0.6.15->google-generativeai<0.9.0,>=0.8.0->langchain-google-genai->-r requirements.txt (line 5)) (1.26.0)\n",
            "Requirement already satisfied: six>=1.9 in /usr/local/lib/python3.11/dist-packages (from html5lib>=1.1->yfinance==0.2.31->-r requirements.txt (line 10)) (1.17.0)\n",
            "Requirement already satisfied: webencodings in /usr/local/lib/python3.11/dist-packages (from html5lib>=1.1->yfinance==0.2.31->-r requirements.txt (line 10)) (0.5.1)\n",
            "Requirement already satisfied: jsonpatch<2.0,>=1.33 in /usr/local/lib/python3.11/dist-packages (from langchain-core<1.0.0,>=0.3.34->langchain->-r requirements.txt (line 3)) (1.33)\n",
            "Requirement already satisfied: orjson<4.0.0,>=3.9.14 in /usr/local/lib/python3.11/dist-packages (from langsmith<0.4,>=0.1.17->langchain->-r requirements.txt (line 3)) (3.10.15)\n",
            "Requirement already satisfied: requests-toolbelt<2.0.0,>=1.0.0 in /usr/local/lib/python3.11/dist-packages (from langsmith<0.4,>=0.1.17->langchain->-r requirements.txt (line 3)) (1.0.0)\n",
            "Requirement already satisfied: zstandard<0.24.0,>=0.23.0 in /usr/local/lib/python3.11/dist-packages (from langsmith<0.4,>=0.1.17->langchain->-r requirements.txt (line 3)) (0.23.0)\n",
            "Requirement already satisfied: python-dateutil>=2.8.2 in /usr/local/lib/python3.11/dist-packages (from pandas>=1.3.0->yfinance==0.2.31->-r requirements.txt (line 10)) (2.8.2)\n",
            "Requirement already satisfied: tzdata>=2022.7 in /usr/local/lib/python3.11/dist-packages (from pandas>=1.3.0->yfinance==0.2.31->-r requirements.txt (line 10)) (2025.1)\n",
            "Requirement already satisfied: annotated-types>=0.6.0 in /usr/local/lib/python3.11/dist-packages (from pydantic<3,>=1.9.0->openai->-r requirements.txt (line 1)) (0.7.0)\n",
            "Collecting python-dotenv>=0.21.0 (from pydantic-settings<3.0.0,>=2.4.0->langchain-community->-r requirements.txt (line 4))\n",
            "  Downloading python_dotenv-1.0.1-py3-none-any.whl.metadata (23 kB)\n",
            "Requirement already satisfied: urllib3<3,>=1.21.1 in /usr/local/lib/python3.11/dist-packages (from requests>=2.31->yfinance==0.2.31->-r requirements.txt (line 10)) (2.3.0)\n",
            "Requirement already satisfied: greenlet!=0.4.17 in /usr/local/lib/python3.11/dist-packages (from SQLAlchemy<3,>=1.4->langchain->-r requirements.txt (line 3)) (3.1.1)\n",
            "Requirement already satisfied: huggingface-hub<1.0,>=0.16.4 in /usr/local/lib/python3.11/dist-packages (from tokenizers<1,>=0.15->cohere->-r requirements.txt (line 11)) (0.28.1)\n",
            "Requirement already satisfied: cffi>=1.12 in /usr/local/lib/python3.11/dist-packages (from cryptography>=36.0.0->pdfminer.six==20231228->pdfplumber->-r requirements.txt (line 8)) (1.17.1)\n",
            "Requirement already satisfied: googleapis-common-protos<2.0.dev0,>=1.56.2 in /usr/local/lib/python3.11/dist-packages (from google-api-core->google-generativeai<0.9.0,>=0.8.0->langchain-google-genai->-r requirements.txt (line 5)) (1.66.0)\n",
            "Requirement already satisfied: cachetools<6.0,>=2.0.0 in /usr/local/lib/python3.11/dist-packages (from google-auth>=2.15.0->google-generativeai<0.9.0,>=0.8.0->langchain-google-genai->-r requirements.txt (line 5)) (5.5.1)\n",
            "Requirement already satisfied: pyasn1-modules>=0.2.1 in /usr/local/lib/python3.11/dist-packages (from google-auth>=2.15.0->google-generativeai<0.9.0,>=0.8.0->langchain-google-genai->-r requirements.txt (line 5)) (0.4.1)\n",
            "Requirement already satisfied: rsa<5,>=3.1.4 in /usr/local/lib/python3.11/dist-packages (from google-auth>=2.15.0->google-generativeai<0.9.0,>=0.8.0->langchain-google-genai->-r requirements.txt (line 5)) (4.9)\n",
            "Requirement already satisfied: filelock in /usr/local/lib/python3.11/dist-packages (from huggingface-hub<1.0,>=0.16.4->tokenizers<1,>=0.15->cohere->-r requirements.txt (line 11)) (3.17.0)\n",
            "Requirement already satisfied: fsspec>=2023.5.0 in /usr/local/lib/python3.11/dist-packages (from huggingface-hub<1.0,>=0.16.4->tokenizers<1,>=0.15->cohere->-r requirements.txt (line 11)) (2024.10.0)\n",
            "Requirement already satisfied: jsonpointer>=1.9 in /usr/local/lib/python3.11/dist-packages (from jsonpatch<2.0,>=1.33->langchain-core<1.0.0,>=0.3.34->langchain->-r requirements.txt (line 3)) (3.0.0)\n",
            "Collecting mypy-extensions>=0.3.0 (from typing-inspect<1,>=0.4.0->dataclasses-json<0.7,>=0.5.7->langchain-community->-r requirements.txt (line 4))\n",
            "  Downloading mypy_extensions-1.0.0-py3-none-any.whl.metadata (1.1 kB)\n",
            "Requirement already satisfied: httplib2<1.dev0,>=0.19.0 in /usr/local/lib/python3.11/dist-packages (from google-api-python-client->google-generativeai<0.9.0,>=0.8.0->langchain-google-genai->-r requirements.txt (line 5)) (0.22.0)\n",
            "Requirement already satisfied: google-auth-httplib2<1.0.0,>=0.2.0 in /usr/local/lib/python3.11/dist-packages (from google-api-python-client->google-generativeai<0.9.0,>=0.8.0->langchain-google-genai->-r requirements.txt (line 5)) (0.2.0)\n",
            "Requirement already satisfied: uritemplate<5,>=3.0.1 in /usr/local/lib/python3.11/dist-packages (from google-api-python-client->google-generativeai<0.9.0,>=0.8.0->langchain-google-genai->-r requirements.txt (line 5)) (4.1.1)\n",
            "Requirement already satisfied: pycparser in /usr/local/lib/python3.11/dist-packages (from cffi>=1.12->cryptography>=36.0.0->pdfminer.six==20231228->pdfplumber->-r requirements.txt (line 8)) (2.22)\n",
            "Requirement already satisfied: grpcio<2.0dev,>=1.33.2 in /usr/local/lib/python3.11/dist-packages (from google-api-core[grpc]!=2.0.*,!=2.1.*,!=2.10.*,!=2.2.*,!=2.3.*,!=2.4.*,!=2.5.*,!=2.6.*,!=2.7.*,!=2.8.*,!=2.9.*,<3.0.0dev,>=1.34.1->google-ai-generativelanguage==0.6.15->google-generativeai<0.9.0,>=0.8.0->langchain-google-genai->-r requirements.txt (line 5)) (1.70.0)\n",
            "Requirement already satisfied: grpcio-status<2.0.dev0,>=1.33.2 in /usr/local/lib/python3.11/dist-packages (from google-api-core[grpc]!=2.0.*,!=2.1.*,!=2.10.*,!=2.2.*,!=2.3.*,!=2.4.*,!=2.5.*,!=2.6.*,!=2.7.*,!=2.8.*,!=2.9.*,<3.0.0dev,>=1.34.1->google-ai-generativelanguage==0.6.15->google-generativeai<0.9.0,>=0.8.0->langchain-google-genai->-r requirements.txt (line 5)) (1.62.3)\n",
            "Requirement already satisfied: pyparsing!=3.0.0,!=3.0.1,!=3.0.2,!=3.0.3,<4,>=2.4.2 in /usr/local/lib/python3.11/dist-packages (from httplib2<1.dev0,>=0.19.0->google-api-python-client->google-generativeai<0.9.0,>=0.8.0->langchain-google-genai->-r requirements.txt (line 5)) (3.2.1)\n",
            "Requirement already satisfied: pyasn1<0.7.0,>=0.4.6 in /usr/local/lib/python3.11/dist-packages (from pyasn1-modules>=0.2.1->google-auth>=2.15.0->google-generativeai<0.9.0,>=0.8.0->langchain-google-genai->-r requirements.txt (line 5)) (0.6.1)\n",
            "Downloading yfinance-0.2.31-py2.py3-none-any.whl (65 kB)\n",
            "\u001b[2K   \u001b[90m━━━━━━━━━━━━━━━━━━━━━━━━━━━━━━━━━━━━━━━━\u001b[0m \u001b[32m65.6/65.6 kB\u001b[0m \u001b[31m7.3 MB/s\u001b[0m eta \u001b[36m0:00:00\u001b[0m\n",
            "\u001b[?25hDownloading faiss_cpu-1.10.0-cp311-cp311-manylinux_2_28_x86_64.whl (30.7 MB)\n",
            "\u001b[2K   \u001b[90m━━━━━━━━━━━━━━━━━━━━━━━━━━━━━━━━━━━━━━━━\u001b[0m \u001b[32m30.7/30.7 MB\u001b[0m \u001b[31m40.5 MB/s\u001b[0m eta \u001b[36m0:00:00\u001b[0m\n",
            "\u001b[?25hDownloading langchain_community-0.3.17-py3-none-any.whl (2.5 MB)\n",
            "\u001b[2K   \u001b[90m━━━━━━━━━━━━━━━━━━━━━━━━━━━━━━━━━━━━━━━━\u001b[0m \u001b[32m2.5/2.5 MB\u001b[0m \u001b[31m72.2 MB/s\u001b[0m eta \u001b[36m0:00:00\u001b[0m\n",
            "\u001b[?25hDownloading langchain_google_genai-2.0.9-py3-none-any.whl (41 kB)\n",
            "\u001b[2K   \u001b[90m━━━━━━━━━━━━━━━━━━━━━━━━━━━━━━━━━━━━━━━━\u001b[0m \u001b[32m41.7/41.7 kB\u001b[0m \u001b[31m4.3 MB/s\u001b[0m eta \u001b[36m0:00:00\u001b[0m\n",
            "\u001b[?25hDownloading pdfplumber-0.11.5-py3-none-any.whl (59 kB)\n",
            "\u001b[2K   \u001b[90m━━━━━━━━━━━━━━━━━━━━━━━━━━━━━━━━━━━━━━━━\u001b[0m \u001b[32m59.5/59.5 kB\u001b[0m \u001b[31m6.7 MB/s\u001b[0m eta \u001b[36m0:00:00\u001b[0m\n",
            "\u001b[?25hDownloading pdfminer.six-20231228-py3-none-any.whl (5.6 MB)\n",
            "\u001b[2K   \u001b[90m━━━━━━━━━━━━━━━━━━━━━━━━━━━━━━━━━━━━━━━━\u001b[0m \u001b[32m5.6/5.6 MB\u001b[0m \u001b[31m64.1 MB/s\u001b[0m eta \u001b[36m0:00:00\u001b[0m\n",
            "\u001b[?25hDownloading tiktoken-0.9.0-cp311-cp311-manylinux_2_17_x86_64.manylinux2014_x86_64.whl (1.2 MB)\n",
            "\u001b[2K   \u001b[90m━━━━━━━━━━━━━━━━━━━━━━━━━━━━━━━━━━━━━━━━\u001b[0m \u001b[32m1.2/1.2 MB\u001b[0m \u001b[31m55.1 MB/s\u001b[0m eta \u001b[36m0:00:00\u001b[0m\n",
            "\u001b[?25hDownloading cohere-5.13.12-py3-none-any.whl (252 kB)\n",
            "\u001b[2K   \u001b[90m━━━━━━━━━━━━━━━━━━━━━━━━━━━━━━━━━━━━━━━━\u001b[0m \u001b[32m252.9/252.9 kB\u001b[0m \u001b[31m23.6 MB/s\u001b[0m eta \u001b[36m0:00:00\u001b[0m\n",
            "\u001b[?25hDownloading httpx_sse-0.4.0-py3-none-any.whl (7.8 kB)\n",
            "Downloading appdirs-1.4.4-py2.py3-none-any.whl (9.6 kB)\n",
            "Downloading dataclasses_json-0.6.7-py3-none-any.whl (28 kB)\n",
            "Downloading fastavro-1.10.0-cp311-cp311-manylinux_2_17_x86_64.manylinux2014_x86_64.whl (3.3 MB)\n",
            "\u001b[2K   \u001b[90m━━━━━━━━━━━━━━━━━━━━━━━━━━━━━━━━━━━━━━━━\u001b[0m \u001b[32m3.3/3.3 MB\u001b[0m \u001b[31m67.7 MB/s\u001b[0m eta \u001b[36m0:00:00\u001b[0m\n",
            "\u001b[?25hDownloading filetype-1.2.0-py2.py3-none-any.whl (19 kB)\n",
            "Downloading pydantic_settings-2.7.1-py3-none-any.whl (29 kB)\n",
            "Downloading pypdfium2-4.30.1-py3-none-manylinux_2_17_x86_64.manylinux2014_x86_64.whl (2.9 MB)\n",
            "\u001b[2K   \u001b[90m━━━━━━━━━━━━━━━━━━━━━━━━━━━━━━━━━━━━━━━━\u001b[0m \u001b[32m2.9/2.9 MB\u001b[0m \u001b[31m57.5 MB/s\u001b[0m eta \u001b[36m0:00:00\u001b[0m\n",
            "\u001b[?25hDownloading types_requests-2.32.0.20241016-py3-none-any.whl (15 kB)\n",
            "Downloading marshmallow-3.26.1-py3-none-any.whl (50 kB)\n",
            "\u001b[2K   \u001b[90m━━━━━━━━━━━━━━━━━━━━━━━━━━━━━━━━━━━━━━━━\u001b[0m \u001b[32m50.9/50.9 kB\u001b[0m \u001b[31m5.6 MB/s\u001b[0m eta \u001b[36m0:00:00\u001b[0m\n",
            "\u001b[?25hDownloading python_dotenv-1.0.1-py3-none-any.whl (19 kB)\n",
            "Downloading typing_inspect-0.9.0-py3-none-any.whl (8.8 kB)\n",
            "Downloading mypy_extensions-1.0.0-py3-none-any.whl (4.7 kB)\n",
            "Installing collected packages: filetype, appdirs, types-requests, python-dotenv, pypdfium2, mypy-extensions, marshmallow, httpx-sse, fastavro, faiss-cpu, typing-inspect, tiktoken, yfinance, pydantic-settings, pdfminer.six, dataclasses-json, pdfplumber, cohere, langchain-google-genai, langchain-community\n",
            "  Attempting uninstall: yfinance\n",
            "    Found existing installation: yfinance 0.2.52\n",
            "    Uninstalling yfinance-0.2.52:\n",
            "      Successfully uninstalled yfinance-0.2.52\n",
            "Successfully installed appdirs-1.4.4 cohere-5.13.12 dataclasses-json-0.6.7 faiss-cpu-1.10.0 fastavro-1.10.0 filetype-1.2.0 httpx-sse-0.4.0 langchain-community-0.3.17 langchain-google-genai-2.0.9 marshmallow-3.26.1 mypy-extensions-1.0.0 pdfminer.six-20231228 pdfplumber-0.11.5 pydantic-settings-2.7.1 pypdfium2-4.30.1 python-dotenv-1.0.1 tiktoken-0.9.0 types-requests-2.32.0.20241016 typing-inspect-0.9.0 yfinance-0.2.31\n",
            "/content\n"
          ]
        }
      ],
      "source": [
        "!git clone https://github.com/rkuo2000/AI-stocks\n",
        "%cd AI-stocks\n",
        "!pip install -r requirements.txt\n",
        "from gemini_stock_info import StockAnalysis, StockInfo\n",
        "from gemini_langchain import PdfLoader\n",
        "from Stock_DB import StockDB\n",
        "%cd .."
      ]
    },
    {
      "cell_type": "markdown",
      "metadata": {
        "id": "D2iXo618D-Yf"
      },
      "source": [
        "### 4️⃣ 更新資料庫\n",
        "資料庫更新需耗費較長時間, 若無法更新，請刪除我的雲端硬碟>StockGPT>stock.db 檔案，並至第二個儲存格的連結手動下載"
      ]
    },
    {
      "cell_type": "code",
      "execution_count": 4,
      "metadata": {
        "id": "M2m9aT3pbrhw",
        "colab": {
          "base_uri": "https://localhost:8080/",
          "height": 1000
        },
        "outputId": "d31d0ba6-9281-4b3f-9704-2f2c36e5bc55"
      },
      "outputs": [
        {
          "output_type": "stream",
          "name": "stdout",
          "text": [
            "線上讀取股號、股名、及產業別\n",
            "更新所有的公司：         股號    股名    產業別\n",
            "0     1101    台泥   水泥工業\n",
            "1     1102    亞泥   水泥工業\n",
            "2     1103    嘉泥   水泥工業\n",
            "3     1104    環泥   水泥工業\n",
            "4     1108    幸福   水泥工業\n",
            "...    ...   ...    ...\n",
            "1010  9944    新麗    其他業\n",
            "1011  9945   潤泰新    其他業\n",
            "1012  9946  三發地產  建材營造業\n",
            "1013  9955    佳龍   綠能環保\n",
            "1014  9958   世紀鋼   鋼鐵工業\n",
            "\n",
            "[1015 rows x 3 columns]\n",
            "日頻基本資料的最後更新日： None\n",
            "開始日期： 2015-01-01\n",
            "[                       0%%                      ]"
          ]
        },
        {
          "output_type": "stream",
          "name": "stderr",
          "text": [
            "/usr/local/lib/python3.11/dist-packages/yfinance/utils.py:788: FutureWarning: The 'unit' keyword in TimedeltaIndex construction is deprecated and will be removed in a future version. Use pd.to_timedelta instead.\n",
            "  df.index += _pd.TimedeltaIndex(dst_error_hours, 'h')\n",
            "/usr/local/lib/python3.11/dist-packages/yfinance/utils.py:788: FutureWarning: The 'unit' keyword in TimedeltaIndex construction is deprecated and will be removed in a future version. Use pd.to_timedelta instead.\n",
            "  df.index += _pd.TimedeltaIndex(dst_error_hours, 'h')\n"
          ]
        },
        {
          "output_type": "stream",
          "name": "stdout",
          "text": [
            "[                       0%%                      ]  4 of 1015 completed"
          ]
        },
        {
          "output_type": "stream",
          "name": "stderr",
          "text": [
            "/usr/local/lib/python3.11/dist-packages/yfinance/utils.py:788: FutureWarning: The 'unit' keyword in TimedeltaIndex construction is deprecated and will be removed in a future version. Use pd.to_timedelta instead.\n",
            "  df.index += _pd.TimedeltaIndex(dst_error_hours, 'h')\n",
            "/usr/local/lib/python3.11/dist-packages/yfinance/utils.py:788: FutureWarning: The 'unit' keyword in TimedeltaIndex construction is deprecated and will be removed in a future version. Use pd.to_timedelta instead.\n",
            "  df.index += _pd.TimedeltaIndex(dst_error_hours, 'h')\n",
            "/usr/local/lib/python3.11/dist-packages/yfinance/utils.py:788: FutureWarning: The 'unit' keyword in TimedeltaIndex construction is deprecated and will be removed in a future version. Use pd.to_timedelta instead.\n",
            "  df.index += _pd.TimedeltaIndex(dst_error_hours, 'h')\n",
            "/usr/local/lib/python3.11/dist-packages/yfinance/utils.py:788: FutureWarning: The 'unit' keyword in TimedeltaIndex construction is deprecated and will be removed in a future version. Use pd.to_timedelta instead.\n",
            "  df.index += _pd.TimedeltaIndex(dst_error_hours, 'h')\n"
          ]
        },
        {
          "output_type": "stream",
          "name": "stdout",
          "text": [
            "[                       1%%                      ]  8 of 1015 completed"
          ]
        },
        {
          "output_type": "stream",
          "name": "stderr",
          "text": [
            "/usr/local/lib/python3.11/dist-packages/yfinance/utils.py:788: FutureWarning: The 'unit' keyword in TimedeltaIndex construction is deprecated and will be removed in a future version. Use pd.to_timedelta instead.\n",
            "  df.index += _pd.TimedeltaIndex(dst_error_hours, 'h')\n",
            "/usr/local/lib/python3.11/dist-packages/yfinance/utils.py:788: FutureWarning: The 'unit' keyword in TimedeltaIndex construction is deprecated and will be removed in a future version. Use pd.to_timedelta instead.\n",
            "  df.index += _pd.TimedeltaIndex(dst_error_hours, 'h')\n",
            "/usr/local/lib/python3.11/dist-packages/yfinance/utils.py:788: FutureWarning: The 'unit' keyword in TimedeltaIndex construction is deprecated and will be removed in a future version. Use pd.to_timedelta instead.\n",
            "  df.index += _pd.TimedeltaIndex(dst_error_hours, 'h')\n"
          ]
        },
        {
          "output_type": "stream",
          "name": "stdout",
          "text": [
            "[                       1%%                      ]  10 of 1015 completed"
          ]
        },
        {
          "output_type": "stream",
          "name": "stderr",
          "text": [
            "/usr/local/lib/python3.11/dist-packages/yfinance/utils.py:788: FutureWarning: The 'unit' keyword in TimedeltaIndex construction is deprecated and will be removed in a future version. Use pd.to_timedelta instead.\n",
            "  df.index += _pd.TimedeltaIndex(dst_error_hours, 'h')\n",
            "/usr/local/lib/python3.11/dist-packages/yfinance/utils.py:788: FutureWarning: The 'unit' keyword in TimedeltaIndex construction is deprecated and will be removed in a future version. Use pd.to_timedelta instead.\n",
            "  df.index += _pd.TimedeltaIndex(dst_error_hours, 'h')\n"
          ]
        },
        {
          "output_type": "stream",
          "name": "stdout",
          "text": [
            "[                       1%%                      ]  13 of 1015 completed"
          ]
        },
        {
          "output_type": "stream",
          "name": "stderr",
          "text": [
            "/usr/local/lib/python3.11/dist-packages/yfinance/utils.py:788: FutureWarning: The 'unit' keyword in TimedeltaIndex construction is deprecated and will be removed in a future version. Use pd.to_timedelta instead.\n",
            "  df.index += _pd.TimedeltaIndex(dst_error_hours, 'h')\n",
            "/usr/local/lib/python3.11/dist-packages/yfinance/utils.py:788: FutureWarning: The 'unit' keyword in TimedeltaIndex construction is deprecated and will be removed in a future version. Use pd.to_timedelta instead.\n",
            "  df.index += _pd.TimedeltaIndex(dst_error_hours, 'h')\n",
            "/usr/local/lib/python3.11/dist-packages/yfinance/utils.py:788: FutureWarning: The 'unit' keyword in TimedeltaIndex construction is deprecated and will be removed in a future version. Use pd.to_timedelta instead.\n",
            "  df.index += _pd.TimedeltaIndex(dst_error_hours, 'h')\n"
          ]
        },
        {
          "output_type": "stream",
          "name": "stdout",
          "text": [
            "[*                      2%%                      ]  16 of 1015 completed"
          ]
        },
        {
          "output_type": "stream",
          "name": "stderr",
          "text": [
            "/usr/local/lib/python3.11/dist-packages/yfinance/utils.py:788: FutureWarning: The 'unit' keyword in TimedeltaIndex construction is deprecated and will be removed in a future version. Use pd.to_timedelta instead.\n",
            "  df.index += _pd.TimedeltaIndex(dst_error_hours, 'h')\n",
            "/usr/local/lib/python3.11/dist-packages/yfinance/utils.py:788: FutureWarning: The 'unit' keyword in TimedeltaIndex construction is deprecated and will be removed in a future version. Use pd.to_timedelta instead.\n",
            "  df.index += _pd.TimedeltaIndex(dst_error_hours, 'h')\n",
            "/usr/local/lib/python3.11/dist-packages/yfinance/utils.py:788: FutureWarning: The 'unit' keyword in TimedeltaIndex construction is deprecated and will be removed in a future version. Use pd.to_timedelta instead.\n",
            "  df.index += _pd.TimedeltaIndex(dst_error_hours, 'h')\n"
          ]
        },
        {
          "output_type": "stream",
          "name": "stdout",
          "text": [
            "[*                      2%%                      ]  19 of 1015 completed"
          ]
        },
        {
          "output_type": "stream",
          "name": "stderr",
          "text": [
            "/usr/local/lib/python3.11/dist-packages/yfinance/utils.py:788: FutureWarning: The 'unit' keyword in TimedeltaIndex construction is deprecated and will be removed in a future version. Use pd.to_timedelta instead.\n",
            "  df.index += _pd.TimedeltaIndex(dst_error_hours, 'h')\n",
            "/usr/local/lib/python3.11/dist-packages/yfinance/utils.py:788: FutureWarning: The 'unit' keyword in TimedeltaIndex construction is deprecated and will be removed in a future version. Use pd.to_timedelta instead.\n",
            "  df.index += _pd.TimedeltaIndex(dst_error_hours, 'h')\n",
            "/usr/local/lib/python3.11/dist-packages/yfinance/utils.py:788: FutureWarning: The 'unit' keyword in TimedeltaIndex construction is deprecated and will be removed in a future version. Use pd.to_timedelta instead.\n",
            "  df.index += _pd.TimedeltaIndex(dst_error_hours, 'h')\n"
          ]
        },
        {
          "output_type": "stream",
          "name": "stdout",
          "text": [
            "[*                      2%%                      ]  21 of 1015 completed"
          ]
        },
        {
          "output_type": "stream",
          "name": "stderr",
          "text": [
            "/usr/local/lib/python3.11/dist-packages/yfinance/utils.py:788: FutureWarning: The 'unit' keyword in TimedeltaIndex construction is deprecated and will be removed in a future version. Use pd.to_timedelta instead.\n",
            "  df.index += _pd.TimedeltaIndex(dst_error_hours, 'h')\n",
            "/usr/local/lib/python3.11/dist-packages/yfinance/utils.py:788: FutureWarning: The 'unit' keyword in TimedeltaIndex construction is deprecated and will be removed in a future version. Use pd.to_timedelta instead.\n",
            "  df.index += _pd.TimedeltaIndex(dst_error_hours, 'h')\n"
          ]
        },
        {
          "output_type": "stream",
          "name": "stdout",
          "text": [
            "[*                      2%%                      ]  24 of 1015 completed"
          ]
        },
        {
          "output_type": "stream",
          "name": "stderr",
          "text": [
            "/usr/local/lib/python3.11/dist-packages/yfinance/utils.py:788: FutureWarning: The 'unit' keyword in TimedeltaIndex construction is deprecated and will be removed in a future version. Use pd.to_timedelta instead.\n",
            "  df.index += _pd.TimedeltaIndex(dst_error_hours, 'h')\n",
            "/usr/local/lib/python3.11/dist-packages/yfinance/utils.py:788: FutureWarning: The 'unit' keyword in TimedeltaIndex construction is deprecated and will be removed in a future version. Use pd.to_timedelta instead.\n",
            "  df.index += _pd.TimedeltaIndex(dst_error_hours, 'h')\n",
            "/usr/local/lib/python3.11/dist-packages/yfinance/utils.py:788: FutureWarning: The 'unit' keyword in TimedeltaIndex construction is deprecated and will be removed in a future version. Use pd.to_timedelta instead.\n",
            "  df.index += _pd.TimedeltaIndex(dst_error_hours, 'h')\n"
          ]
        },
        {
          "output_type": "stream",
          "name": "stdout",
          "text": [
            "[*                      3%%                      ]  27 of 1015 completed"
          ]
        },
        {
          "output_type": "stream",
          "name": "stderr",
          "text": [
            "/usr/local/lib/python3.11/dist-packages/yfinance/utils.py:788: FutureWarning: The 'unit' keyword in TimedeltaIndex construction is deprecated and will be removed in a future version. Use pd.to_timedelta instead.\n",
            "  df.index += _pd.TimedeltaIndex(dst_error_hours, 'h')\n",
            "/usr/local/lib/python3.11/dist-packages/yfinance/utils.py:788: FutureWarning: The 'unit' keyword in TimedeltaIndex construction is deprecated and will be removed in a future version. Use pd.to_timedelta instead.\n",
            "  df.index += _pd.TimedeltaIndex(dst_error_hours, 'h')\n",
            "/usr/local/lib/python3.11/dist-packages/yfinance/utils.py:788: FutureWarning: The 'unit' keyword in TimedeltaIndex construction is deprecated and will be removed in a future version. Use pd.to_timedelta instead.\n",
            "  df.index += _pd.TimedeltaIndex(dst_error_hours, 'h')\n",
            "/usr/local/lib/python3.11/dist-packages/yfinance/utils.py:788: FutureWarning: The 'unit' keyword in TimedeltaIndex construction is deprecated and will be removed in a future version. Use pd.to_timedelta instead.\n",
            "  df.index += _pd.TimedeltaIndex(dst_error_hours, 'h')\n"
          ]
        },
        {
          "output_type": "stream",
          "name": "stdout",
          "text": [
            "[*                      3%%                      ]  31 of 1015 completed"
          ]
        },
        {
          "output_type": "stream",
          "name": "stderr",
          "text": [
            "/usr/local/lib/python3.11/dist-packages/yfinance/utils.py:788: FutureWarning: The 'unit' keyword in TimedeltaIndex construction is deprecated and will be removed in a future version. Use pd.to_timedelta instead.\n",
            "  df.index += _pd.TimedeltaIndex(dst_error_hours, 'h')\n",
            "/usr/local/lib/python3.11/dist-packages/yfinance/utils.py:788: FutureWarning: The 'unit' keyword in TimedeltaIndex construction is deprecated and will be removed in a future version. Use pd.to_timedelta instead.\n",
            "  df.index += _pd.TimedeltaIndex(dst_error_hours, 'h')\n",
            "/usr/local/lib/python3.11/dist-packages/yfinance/utils.py:788: FutureWarning: The 'unit' keyword in TimedeltaIndex construction is deprecated and will be removed in a future version. Use pd.to_timedelta instead.\n",
            "  df.index += _pd.TimedeltaIndex(dst_error_hours, 'h')\n",
            "/usr/local/lib/python3.11/dist-packages/yfinance/utils.py:788: FutureWarning: The 'unit' keyword in TimedeltaIndex construction is deprecated and will be removed in a future version. Use pd.to_timedelta instead.\n",
            "  df.index += _pd.TimedeltaIndex(dst_error_hours, 'h')\n"
          ]
        },
        {
          "output_type": "stream",
          "name": "stdout",
          "text": [
            "[*                      3%%                      ]  35 of 1015 completed"
          ]
        },
        {
          "output_type": "stream",
          "name": "stderr",
          "text": [
            "/usr/local/lib/python3.11/dist-packages/yfinance/utils.py:788: FutureWarning: The 'unit' keyword in TimedeltaIndex construction is deprecated and will be removed in a future version. Use pd.to_timedelta instead.\n",
            "  df.index += _pd.TimedeltaIndex(dst_error_hours, 'h')\n",
            "/usr/local/lib/python3.11/dist-packages/yfinance/utils.py:788: FutureWarning: The 'unit' keyword in TimedeltaIndex construction is deprecated and will be removed in a future version. Use pd.to_timedelta instead.\n",
            "  df.index += _pd.TimedeltaIndex(dst_error_hours, 'h')\n",
            "/usr/local/lib/python3.11/dist-packages/yfinance/utils.py:788: FutureWarning: The 'unit' keyword in TimedeltaIndex construction is deprecated and will be removed in a future version. Use pd.to_timedelta instead.\n",
            "  df.index += _pd.TimedeltaIndex(dst_error_hours, 'h')\n"
          ]
        },
        {
          "output_type": "stream",
          "name": "stdout",
          "text": [
            "[**                     4%%                      ]  38 of 1015 completed"
          ]
        },
        {
          "output_type": "stream",
          "name": "stderr",
          "text": [
            "/usr/local/lib/python3.11/dist-packages/yfinance/utils.py:788: FutureWarning: The 'unit' keyword in TimedeltaIndex construction is deprecated and will be removed in a future version. Use pd.to_timedelta instead.\n",
            "  df.index += _pd.TimedeltaIndex(dst_error_hours, 'h')\n",
            "/usr/local/lib/python3.11/dist-packages/yfinance/utils.py:788: FutureWarning: The 'unit' keyword in TimedeltaIndex construction is deprecated and will be removed in a future version. Use pd.to_timedelta instead.\n",
            "  df.index += _pd.TimedeltaIndex(dst_error_hours, 'h')\n",
            "/usr/local/lib/python3.11/dist-packages/yfinance/utils.py:788: FutureWarning: The 'unit' keyword in TimedeltaIndex construction is deprecated and will be removed in a future version. Use pd.to_timedelta instead.\n",
            "  df.index += _pd.TimedeltaIndex(dst_error_hours, 'h')\n"
          ]
        },
        {
          "output_type": "stream",
          "name": "stdout",
          "text": [
            "[**                     4%%                      ]  40 of 1015 completed"
          ]
        },
        {
          "output_type": "stream",
          "name": "stderr",
          "text": [
            "/usr/local/lib/python3.11/dist-packages/yfinance/utils.py:788: FutureWarning: The 'unit' keyword in TimedeltaIndex construction is deprecated and will be removed in a future version. Use pd.to_timedelta instead.\n",
            "  df.index += _pd.TimedeltaIndex(dst_error_hours, 'h')\n",
            "/usr/local/lib/python3.11/dist-packages/yfinance/utils.py:788: FutureWarning: The 'unit' keyword in TimedeltaIndex construction is deprecated and will be removed in a future version. Use pd.to_timedelta instead.\n",
            "  df.index += _pd.TimedeltaIndex(dst_error_hours, 'h')\n"
          ]
        },
        {
          "output_type": "stream",
          "name": "stdout",
          "text": [
            "[**                     4%%                      ]  42 of 1015 completed"
          ]
        },
        {
          "output_type": "stream",
          "name": "stderr",
          "text": [
            "/usr/local/lib/python3.11/dist-packages/yfinance/utils.py:788: FutureWarning: The 'unit' keyword in TimedeltaIndex construction is deprecated and will be removed in a future version. Use pd.to_timedelta instead.\n",
            "  df.index += _pd.TimedeltaIndex(dst_error_hours, 'h')\n",
            "/usr/local/lib/python3.11/dist-packages/yfinance/utils.py:788: FutureWarning: The 'unit' keyword in TimedeltaIndex construction is deprecated and will be removed in a future version. Use pd.to_timedelta instead.\n",
            "  df.index += _pd.TimedeltaIndex(dst_error_hours, 'h')\n",
            "/usr/local/lib/python3.11/dist-packages/yfinance/utils.py:788: FutureWarning: The 'unit' keyword in TimedeltaIndex construction is deprecated and will be removed in a future version. Use pd.to_timedelta instead.\n",
            "  df.index += _pd.TimedeltaIndex(dst_error_hours, 'h')\n",
            "/usr/local/lib/python3.11/dist-packages/yfinance/utils.py:788: FutureWarning: The 'unit' keyword in TimedeltaIndex construction is deprecated and will be removed in a future version. Use pd.to_timedelta instead.\n",
            "  df.index += _pd.TimedeltaIndex(dst_error_hours, 'h')\n"
          ]
        },
        {
          "output_type": "stream",
          "name": "stdout",
          "text": [
            "[**                     4%%                      ]  45 of 1015 completed"
          ]
        },
        {
          "output_type": "stream",
          "name": "stderr",
          "text": [
            "/usr/local/lib/python3.11/dist-packages/yfinance/utils.py:788: FutureWarning: The 'unit' keyword in TimedeltaIndex construction is deprecated and will be removed in a future version. Use pd.to_timedelta instead.\n",
            "  df.index += _pd.TimedeltaIndex(dst_error_hours, 'h')\n",
            "/usr/local/lib/python3.11/dist-packages/yfinance/utils.py:788: FutureWarning: The 'unit' keyword in TimedeltaIndex construction is deprecated and will be removed in a future version. Use pd.to_timedelta instead.\n",
            "  df.index += _pd.TimedeltaIndex(dst_error_hours, 'h')\n",
            "/usr/local/lib/python3.11/dist-packages/yfinance/utils.py:788: FutureWarning: The 'unit' keyword in TimedeltaIndex construction is deprecated and will be removed in a future version. Use pd.to_timedelta instead.\n",
            "  df.index += _pd.TimedeltaIndex(dst_error_hours, 'h')\n"
          ]
        },
        {
          "output_type": "stream",
          "name": "stdout",
          "text": [
            "[**                     5%%                      ]  50 of 1015 completed"
          ]
        },
        {
          "output_type": "stream",
          "name": "stderr",
          "text": [
            "/usr/local/lib/python3.11/dist-packages/yfinance/utils.py:788: FutureWarning: The 'unit' keyword in TimedeltaIndex construction is deprecated and will be removed in a future version. Use pd.to_timedelta instead.\n",
            "  df.index += _pd.TimedeltaIndex(dst_error_hours, 'h')\n",
            "/usr/local/lib/python3.11/dist-packages/yfinance/utils.py:788: FutureWarning: The 'unit' keyword in TimedeltaIndex construction is deprecated and will be removed in a future version. Use pd.to_timedelta instead.\n",
            "  df.index += _pd.TimedeltaIndex(dst_error_hours, 'h')\n",
            "/usr/local/lib/python3.11/dist-packages/yfinance/utils.py:788: FutureWarning: The 'unit' keyword in TimedeltaIndex construction is deprecated and will be removed in a future version. Use pd.to_timedelta instead.\n",
            "  df.index += _pd.TimedeltaIndex(dst_error_hours, 'h')\n"
          ]
        },
        {
          "output_type": "stream",
          "name": "stdout",
          "text": [
            "[**                     5%%                      ]  52 of 1015 completed"
          ]
        },
        {
          "output_type": "stream",
          "name": "stderr",
          "text": [
            "/usr/local/lib/python3.11/dist-packages/yfinance/utils.py:788: FutureWarning: The 'unit' keyword in TimedeltaIndex construction is deprecated and will be removed in a future version. Use pd.to_timedelta instead.\n",
            "  df.index += _pd.TimedeltaIndex(dst_error_hours, 'h')\n",
            "/usr/local/lib/python3.11/dist-packages/yfinance/utils.py:788: FutureWarning: The 'unit' keyword in TimedeltaIndex construction is deprecated and will be removed in a future version. Use pd.to_timedelta instead.\n",
            "  df.index += _pd.TimedeltaIndex(dst_error_hours, 'h')\n",
            "/usr/local/lib/python3.11/dist-packages/yfinance/utils.py:788: FutureWarning: The 'unit' keyword in TimedeltaIndex construction is deprecated and will be removed in a future version. Use pd.to_timedelta instead.\n",
            "  df.index += _pd.TimedeltaIndex(dst_error_hours, 'h')\n"
          ]
        },
        {
          "output_type": "stream",
          "name": "stdout",
          "text": [
            "[**                     5%%                      ]  55 of 1015 completed"
          ]
        },
        {
          "output_type": "stream",
          "name": "stderr",
          "text": [
            "/usr/local/lib/python3.11/dist-packages/yfinance/utils.py:788: FutureWarning: The 'unit' keyword in TimedeltaIndex construction is deprecated and will be removed in a future version. Use pd.to_timedelta instead.\n",
            "  df.index += _pd.TimedeltaIndex(dst_error_hours, 'h')\n",
            "/usr/local/lib/python3.11/dist-packages/yfinance/utils.py:788: FutureWarning: The 'unit' keyword in TimedeltaIndex construction is deprecated and will be removed in a future version. Use pd.to_timedelta instead.\n",
            "  df.index += _pd.TimedeltaIndex(dst_error_hours, 'h')\n",
            "/usr/local/lib/python3.11/dist-packages/yfinance/utils.py:788: FutureWarning: The 'unit' keyword in TimedeltaIndex construction is deprecated and will be removed in a future version. Use pd.to_timedelta instead.\n",
            "  df.index += _pd.TimedeltaIndex(dst_error_hours, 'h')\n"
          ]
        },
        {
          "output_type": "stream",
          "name": "stdout",
          "text": [
            "[***                    6%%                      ]  57 of 1015 completed"
          ]
        },
        {
          "output_type": "stream",
          "name": "stderr",
          "text": [
            "/usr/local/lib/python3.11/dist-packages/yfinance/utils.py:788: FutureWarning: The 'unit' keyword in TimedeltaIndex construction is deprecated and will be removed in a future version. Use pd.to_timedelta instead.\n",
            "  df.index += _pd.TimedeltaIndex(dst_error_hours, 'h')\n",
            "/usr/local/lib/python3.11/dist-packages/yfinance/utils.py:788: FutureWarning: The 'unit' keyword in TimedeltaIndex construction is deprecated and will be removed in a future version. Use pd.to_timedelta instead.\n",
            "  df.index += _pd.TimedeltaIndex(dst_error_hours, 'h')\n"
          ]
        },
        {
          "output_type": "stream",
          "name": "stdout",
          "text": [
            "[***                    6%%                      ]  60 of 1015 completed"
          ]
        },
        {
          "output_type": "stream",
          "name": "stderr",
          "text": [
            "/usr/local/lib/python3.11/dist-packages/yfinance/utils.py:788: FutureWarning: The 'unit' keyword in TimedeltaIndex construction is deprecated and will be removed in a future version. Use pd.to_timedelta instead.\n",
            "  df.index += _pd.TimedeltaIndex(dst_error_hours, 'h')\n",
            "/usr/local/lib/python3.11/dist-packages/yfinance/utils.py:788: FutureWarning: The 'unit' keyword in TimedeltaIndex construction is deprecated and will be removed in a future version. Use pd.to_timedelta instead.\n",
            "  df.index += _pd.TimedeltaIndex(dst_error_hours, 'h')\n",
            "/usr/local/lib/python3.11/dist-packages/yfinance/utils.py:788: FutureWarning: The 'unit' keyword in TimedeltaIndex construction is deprecated and will be removed in a future version. Use pd.to_timedelta instead.\n",
            "  df.index += _pd.TimedeltaIndex(dst_error_hours, 'h')\n"
          ]
        },
        {
          "output_type": "stream",
          "name": "stdout",
          "text": [
            "[***                    6%%                      ]  63 of 1015 completed"
          ]
        },
        {
          "output_type": "stream",
          "name": "stderr",
          "text": [
            "/usr/local/lib/python3.11/dist-packages/yfinance/utils.py:788: FutureWarning: The 'unit' keyword in TimedeltaIndex construction is deprecated and will be removed in a future version. Use pd.to_timedelta instead.\n",
            "  df.index += _pd.TimedeltaIndex(dst_error_hours, 'h')\n",
            "/usr/local/lib/python3.11/dist-packages/yfinance/utils.py:788: FutureWarning: The 'unit' keyword in TimedeltaIndex construction is deprecated and will be removed in a future version. Use pd.to_timedelta instead.\n",
            "  df.index += _pd.TimedeltaIndex(dst_error_hours, 'h')\n"
          ]
        },
        {
          "output_type": "stream",
          "name": "stdout",
          "text": [
            "[***                    6%%                      ]  65 of 1015 completed"
          ]
        },
        {
          "output_type": "stream",
          "name": "stderr",
          "text": [
            "/usr/local/lib/python3.11/dist-packages/yfinance/utils.py:788: FutureWarning: The 'unit' keyword in TimedeltaIndex construction is deprecated and will be removed in a future version. Use pd.to_timedelta instead.\n",
            "  df.index += _pd.TimedeltaIndex(dst_error_hours, 'h')\n",
            "/usr/local/lib/python3.11/dist-packages/yfinance/utils.py:788: FutureWarning: The 'unit' keyword in TimedeltaIndex construction is deprecated and will be removed in a future version. Use pd.to_timedelta instead.\n",
            "  df.index += _pd.TimedeltaIndex(dst_error_hours, 'h')\n"
          ]
        },
        {
          "output_type": "stream",
          "name": "stdout",
          "text": [
            "[***                    7%%                      ]  67 of 1015 completed"
          ]
        },
        {
          "output_type": "stream",
          "name": "stderr",
          "text": [
            "/usr/local/lib/python3.11/dist-packages/yfinance/utils.py:788: FutureWarning: The 'unit' keyword in TimedeltaIndex construction is deprecated and will be removed in a future version. Use pd.to_timedelta instead.\n",
            "  df.index += _pd.TimedeltaIndex(dst_error_hours, 'h')\n",
            "/usr/local/lib/python3.11/dist-packages/yfinance/utils.py:788: FutureWarning: The 'unit' keyword in TimedeltaIndex construction is deprecated and will be removed in a future version. Use pd.to_timedelta instead.\n",
            "  df.index += _pd.TimedeltaIndex(dst_error_hours, 'h')\n"
          ]
        },
        {
          "output_type": "stream",
          "name": "stdout",
          "text": [
            "[***                    7%%                      ]  69 of 1015 completed"
          ]
        },
        {
          "output_type": "stream",
          "name": "stderr",
          "text": [
            "/usr/local/lib/python3.11/dist-packages/yfinance/utils.py:788: FutureWarning: The 'unit' keyword in TimedeltaIndex construction is deprecated and will be removed in a future version. Use pd.to_timedelta instead.\n",
            "  df.index += _pd.TimedeltaIndex(dst_error_hours, 'h')\n",
            "/usr/local/lib/python3.11/dist-packages/yfinance/utils.py:788: FutureWarning: The 'unit' keyword in TimedeltaIndex construction is deprecated and will be removed in a future version. Use pd.to_timedelta instead.\n",
            "  df.index += _pd.TimedeltaIndex(dst_error_hours, 'h')\n",
            "/usr/local/lib/python3.11/dist-packages/yfinance/utils.py:788: FutureWarning: The 'unit' keyword in TimedeltaIndex construction is deprecated and will be removed in a future version. Use pd.to_timedelta instead.\n",
            "  df.index += _pd.TimedeltaIndex(dst_error_hours, 'h')\n"
          ]
        },
        {
          "output_type": "stream",
          "name": "stdout",
          "text": [
            "[***                    7%%                      ]  72 of 1015 completed"
          ]
        },
        {
          "output_type": "stream",
          "name": "stderr",
          "text": [
            "/usr/local/lib/python3.11/dist-packages/yfinance/utils.py:788: FutureWarning: The 'unit' keyword in TimedeltaIndex construction is deprecated and will be removed in a future version. Use pd.to_timedelta instead.\n",
            "  df.index += _pd.TimedeltaIndex(dst_error_hours, 'h')\n",
            "/usr/local/lib/python3.11/dist-packages/yfinance/utils.py:788: FutureWarning: The 'unit' keyword in TimedeltaIndex construction is deprecated and will be removed in a future version. Use pd.to_timedelta instead.\n",
            "  df.index += _pd.TimedeltaIndex(dst_error_hours, 'h')\n"
          ]
        },
        {
          "output_type": "stream",
          "name": "stdout",
          "text": [
            "[***                    7%%                      ]  74 of 1015 completed"
          ]
        },
        {
          "output_type": "stream",
          "name": "stderr",
          "text": [
            "/usr/local/lib/python3.11/dist-packages/yfinance/utils.py:788: FutureWarning: The 'unit' keyword in TimedeltaIndex construction is deprecated and will be removed in a future version. Use pd.to_timedelta instead.\n",
            "  df.index += _pd.TimedeltaIndex(dst_error_hours, 'h')\n",
            "/usr/local/lib/python3.11/dist-packages/yfinance/utils.py:788: FutureWarning: The 'unit' keyword in TimedeltaIndex construction is deprecated and will be removed in a future version. Use pd.to_timedelta instead.\n",
            "  df.index += _pd.TimedeltaIndex(dst_error_hours, 'h')\n"
          ]
        },
        {
          "output_type": "stream",
          "name": "stdout",
          "text": [
            "[***                    7%%                      ]  76 of 1015 completed"
          ]
        },
        {
          "output_type": "stream",
          "name": "stderr",
          "text": [
            "/usr/local/lib/python3.11/dist-packages/yfinance/utils.py:788: FutureWarning: The 'unit' keyword in TimedeltaIndex construction is deprecated and will be removed in a future version. Use pd.to_timedelta instead.\n",
            "  df.index += _pd.TimedeltaIndex(dst_error_hours, 'h')\n",
            "/usr/local/lib/python3.11/dist-packages/yfinance/utils.py:788: FutureWarning: The 'unit' keyword in TimedeltaIndex construction is deprecated and will be removed in a future version. Use pd.to_timedelta instead.\n",
            "  df.index += _pd.TimedeltaIndex(dst_error_hours, 'h')\n",
            "/usr/local/lib/python3.11/dist-packages/yfinance/utils.py:788: FutureWarning: The 'unit' keyword in TimedeltaIndex construction is deprecated and will be removed in a future version. Use pd.to_timedelta instead.\n",
            "  df.index += _pd.TimedeltaIndex(dst_error_hours, 'h')\n"
          ]
        },
        {
          "output_type": "stream",
          "name": "stdout",
          "text": [
            "[****                   8%%                      ]  79 of 1015 completed"
          ]
        },
        {
          "output_type": "stream",
          "name": "stderr",
          "text": [
            "/usr/local/lib/python3.11/dist-packages/yfinance/utils.py:788: FutureWarning: The 'unit' keyword in TimedeltaIndex construction is deprecated and will be removed in a future version. Use pd.to_timedelta instead.\n",
            "  df.index += _pd.TimedeltaIndex(dst_error_hours, 'h')\n",
            "/usr/local/lib/python3.11/dist-packages/yfinance/utils.py:788: FutureWarning: The 'unit' keyword in TimedeltaIndex construction is deprecated and will be removed in a future version. Use pd.to_timedelta instead.\n",
            "  df.index += _pd.TimedeltaIndex(dst_error_hours, 'h')\n",
            "/usr/local/lib/python3.11/dist-packages/yfinance/utils.py:788: FutureWarning: The 'unit' keyword in TimedeltaIndex construction is deprecated and will be removed in a future version. Use pd.to_timedelta instead.\n",
            "  df.index += _pd.TimedeltaIndex(dst_error_hours, 'h')\n"
          ]
        },
        {
          "output_type": "stream",
          "name": "stdout",
          "text": [
            "[****                   8%%                      ]  82 of 1015 completed"
          ]
        },
        {
          "output_type": "stream",
          "name": "stderr",
          "text": [
            "/usr/local/lib/python3.11/dist-packages/yfinance/utils.py:788: FutureWarning: The 'unit' keyword in TimedeltaIndex construction is deprecated and will be removed in a future version. Use pd.to_timedelta instead.\n",
            "  df.index += _pd.TimedeltaIndex(dst_error_hours, 'h')\n",
            "/usr/local/lib/python3.11/dist-packages/yfinance/utils.py:788: FutureWarning: The 'unit' keyword in TimedeltaIndex construction is deprecated and will be removed in a future version. Use pd.to_timedelta instead.\n",
            "  df.index += _pd.TimedeltaIndex(dst_error_hours, 'h')\n",
            "/usr/local/lib/python3.11/dist-packages/yfinance/utils.py:788: FutureWarning: The 'unit' keyword in TimedeltaIndex construction is deprecated and will be removed in a future version. Use pd.to_timedelta instead.\n",
            "  df.index += _pd.TimedeltaIndex(dst_error_hours, 'h')\n"
          ]
        },
        {
          "output_type": "stream",
          "name": "stdout",
          "text": [
            "[****                   8%%                      ]  85 of 1015 completed"
          ]
        },
        {
          "output_type": "stream",
          "name": "stderr",
          "text": [
            "/usr/local/lib/python3.11/dist-packages/yfinance/utils.py:788: FutureWarning: The 'unit' keyword in TimedeltaIndex construction is deprecated and will be removed in a future version. Use pd.to_timedelta instead.\n",
            "  df.index += _pd.TimedeltaIndex(dst_error_hours, 'h')\n",
            "/usr/local/lib/python3.11/dist-packages/yfinance/utils.py:788: FutureWarning: The 'unit' keyword in TimedeltaIndex construction is deprecated and will be removed in a future version. Use pd.to_timedelta instead.\n",
            "  df.index += _pd.TimedeltaIndex(dst_error_hours, 'h')\n"
          ]
        },
        {
          "output_type": "stream",
          "name": "stdout",
          "text": [
            "[****                   9%%                      ]  87 of 1015 completed"
          ]
        },
        {
          "output_type": "stream",
          "name": "stderr",
          "text": [
            "/usr/local/lib/python3.11/dist-packages/yfinance/utils.py:788: FutureWarning: The 'unit' keyword in TimedeltaIndex construction is deprecated and will be removed in a future version. Use pd.to_timedelta instead.\n",
            "  df.index += _pd.TimedeltaIndex(dst_error_hours, 'h')\n",
            "/usr/local/lib/python3.11/dist-packages/yfinance/utils.py:788: FutureWarning: The 'unit' keyword in TimedeltaIndex construction is deprecated and will be removed in a future version. Use pd.to_timedelta instead.\n",
            "  df.index += _pd.TimedeltaIndex(dst_error_hours, 'h')\n",
            "/usr/local/lib/python3.11/dist-packages/yfinance/utils.py:788: FutureWarning: The 'unit' keyword in TimedeltaIndex construction is deprecated and will be removed in a future version. Use pd.to_timedelta instead.\n",
            "  df.index += _pd.TimedeltaIndex(dst_error_hours, 'h')\n"
          ]
        },
        {
          "output_type": "stream",
          "name": "stdout",
          "text": [
            "[****                   9%%                      ]  90 of 1015 completed"
          ]
        },
        {
          "output_type": "stream",
          "name": "stderr",
          "text": [
            "/usr/local/lib/python3.11/dist-packages/yfinance/utils.py:788: FutureWarning: The 'unit' keyword in TimedeltaIndex construction is deprecated and will be removed in a future version. Use pd.to_timedelta instead.\n",
            "  df.index += _pd.TimedeltaIndex(dst_error_hours, 'h')\n",
            "/usr/local/lib/python3.11/dist-packages/yfinance/utils.py:788: FutureWarning: The 'unit' keyword in TimedeltaIndex construction is deprecated and will be removed in a future version. Use pd.to_timedelta instead.\n",
            "  df.index += _pd.TimedeltaIndex(dst_error_hours, 'h')\n"
          ]
        },
        {
          "output_type": "stream",
          "name": "stdout",
          "text": [
            "[****                   9%%                      ]  92 of 1015 completed"
          ]
        },
        {
          "output_type": "stream",
          "name": "stderr",
          "text": [
            "/usr/local/lib/python3.11/dist-packages/yfinance/utils.py:788: FutureWarning: The 'unit' keyword in TimedeltaIndex construction is deprecated and will be removed in a future version. Use pd.to_timedelta instead.\n",
            "  df.index += _pd.TimedeltaIndex(dst_error_hours, 'h')\n",
            "/usr/local/lib/python3.11/dist-packages/yfinance/utils.py:788: FutureWarning: The 'unit' keyword in TimedeltaIndex construction is deprecated and will be removed in a future version. Use pd.to_timedelta instead.\n",
            "  df.index += _pd.TimedeltaIndex(dst_error_hours, 'h')\n",
            "/usr/local/lib/python3.11/dist-packages/yfinance/utils.py:788: FutureWarning: The 'unit' keyword in TimedeltaIndex construction is deprecated and will be removed in a future version. Use pd.to_timedelta instead.\n",
            "  df.index += _pd.TimedeltaIndex(dst_error_hours, 'h')\n"
          ]
        },
        {
          "output_type": "stream",
          "name": "stdout",
          "text": [
            "[****                   9%%                      ]  96 of 1015 completed"
          ]
        },
        {
          "output_type": "stream",
          "name": "stderr",
          "text": [
            "/usr/local/lib/python3.11/dist-packages/yfinance/utils.py:788: FutureWarning: The 'unit' keyword in TimedeltaIndex construction is deprecated and will be removed in a future version. Use pd.to_timedelta instead.\n",
            "  df.index += _pd.TimedeltaIndex(dst_error_hours, 'h')\n",
            "/usr/local/lib/python3.11/dist-packages/yfinance/utils.py:788: FutureWarning: The 'unit' keyword in TimedeltaIndex construction is deprecated and will be removed in a future version. Use pd.to_timedelta instead.\n",
            "  df.index += _pd.TimedeltaIndex(dst_error_hours, 'h')\n",
            "/usr/local/lib/python3.11/dist-packages/yfinance/utils.py:788: FutureWarning: The 'unit' keyword in TimedeltaIndex construction is deprecated and will be removed in a future version. Use pd.to_timedelta instead.\n",
            "  df.index += _pd.TimedeltaIndex(dst_error_hours, 'h')\n"
          ]
        },
        {
          "output_type": "stream",
          "name": "stdout",
          "text": [
            "[*****                 10%%                      ]  99 of 1015 completed"
          ]
        },
        {
          "output_type": "stream",
          "name": "stderr",
          "text": [
            "/usr/local/lib/python3.11/dist-packages/yfinance/utils.py:788: FutureWarning: The 'unit' keyword in TimedeltaIndex construction is deprecated and will be removed in a future version. Use pd.to_timedelta instead.\n",
            "  df.index += _pd.TimedeltaIndex(dst_error_hours, 'h')\n",
            "/usr/local/lib/python3.11/dist-packages/yfinance/utils.py:788: FutureWarning: The 'unit' keyword in TimedeltaIndex construction is deprecated and will be removed in a future version. Use pd.to_timedelta instead.\n",
            "  df.index += _pd.TimedeltaIndex(dst_error_hours, 'h')\n",
            "/usr/local/lib/python3.11/dist-packages/yfinance/utils.py:788: FutureWarning: The 'unit' keyword in TimedeltaIndex construction is deprecated and will be removed in a future version. Use pd.to_timedelta instead.\n",
            "  df.index += _pd.TimedeltaIndex(dst_error_hours, 'h')\n"
          ]
        },
        {
          "output_type": "stream",
          "name": "stdout",
          "text": [
            "[*****                 10%%                      ]  101 of 1015 completed"
          ]
        },
        {
          "output_type": "stream",
          "name": "stderr",
          "text": [
            "/usr/local/lib/python3.11/dist-packages/yfinance/utils.py:788: FutureWarning: The 'unit' keyword in TimedeltaIndex construction is deprecated and will be removed in a future version. Use pd.to_timedelta instead.\n",
            "  df.index += _pd.TimedeltaIndex(dst_error_hours, 'h')\n",
            "/usr/local/lib/python3.11/dist-packages/yfinance/utils.py:788: FutureWarning: The 'unit' keyword in TimedeltaIndex construction is deprecated and will be removed in a future version. Use pd.to_timedelta instead.\n",
            "  df.index += _pd.TimedeltaIndex(dst_error_hours, 'h')\n",
            "/usr/local/lib/python3.11/dist-packages/yfinance/utils.py:788: FutureWarning: The 'unit' keyword in TimedeltaIndex construction is deprecated and will be removed in a future version. Use pd.to_timedelta instead.\n",
            "  df.index += _pd.TimedeltaIndex(dst_error_hours, 'h')\n"
          ]
        },
        {
          "output_type": "stream",
          "name": "stdout",
          "text": [
            "[*****                 10%%                      ]  104 of 1015 completed"
          ]
        },
        {
          "output_type": "stream",
          "name": "stderr",
          "text": [
            "/usr/local/lib/python3.11/dist-packages/yfinance/utils.py:788: FutureWarning: The 'unit' keyword in TimedeltaIndex construction is deprecated and will be removed in a future version. Use pd.to_timedelta instead.\n",
            "  df.index += _pd.TimedeltaIndex(dst_error_hours, 'h')\n",
            "/usr/local/lib/python3.11/dist-packages/yfinance/utils.py:788: FutureWarning: The 'unit' keyword in TimedeltaIndex construction is deprecated and will be removed in a future version. Use pd.to_timedelta instead.\n",
            "  df.index += _pd.TimedeltaIndex(dst_error_hours, 'h')\n",
            "/usr/local/lib/python3.11/dist-packages/yfinance/utils.py:788: FutureWarning: The 'unit' keyword in TimedeltaIndex construction is deprecated and will be removed in a future version. Use pd.to_timedelta instead.\n",
            "  df.index += _pd.TimedeltaIndex(dst_error_hours, 'h')\n"
          ]
        },
        {
          "output_type": "stream",
          "name": "stdout",
          "text": [
            "[*****                 11%%                      ]  107 of 1015 completed"
          ]
        },
        {
          "output_type": "stream",
          "name": "stderr",
          "text": [
            "/usr/local/lib/python3.11/dist-packages/yfinance/utils.py:788: FutureWarning: The 'unit' keyword in TimedeltaIndex construction is deprecated and will be removed in a future version. Use pd.to_timedelta instead.\n",
            "  df.index += _pd.TimedeltaIndex(dst_error_hours, 'h')\n",
            "/usr/local/lib/python3.11/dist-packages/yfinance/utils.py:788: FutureWarning: The 'unit' keyword in TimedeltaIndex construction is deprecated and will be removed in a future version. Use pd.to_timedelta instead.\n",
            "  df.index += _pd.TimedeltaIndex(dst_error_hours, 'h')\n"
          ]
        },
        {
          "output_type": "stream",
          "name": "stdout",
          "text": [
            "[*****                 11%%                      ]  109 of 1015 completed"
          ]
        },
        {
          "output_type": "stream",
          "name": "stderr",
          "text": [
            "/usr/local/lib/python3.11/dist-packages/yfinance/utils.py:788: FutureWarning: The 'unit' keyword in TimedeltaIndex construction is deprecated and will be removed in a future version. Use pd.to_timedelta instead.\n",
            "  df.index += _pd.TimedeltaIndex(dst_error_hours, 'h')\n",
            "/usr/local/lib/python3.11/dist-packages/yfinance/utils.py:788: FutureWarning: The 'unit' keyword in TimedeltaIndex construction is deprecated and will be removed in a future version. Use pd.to_timedelta instead.\n",
            "  df.index += _pd.TimedeltaIndex(dst_error_hours, 'h')\n",
            "/usr/local/lib/python3.11/dist-packages/yfinance/utils.py:788: FutureWarning: The 'unit' keyword in TimedeltaIndex construction is deprecated and will be removed in a future version. Use pd.to_timedelta instead.\n",
            "  df.index += _pd.TimedeltaIndex(dst_error_hours, 'h')\n"
          ]
        },
        {
          "output_type": "stream",
          "name": "stdout",
          "text": [
            "[*****                 11%%                      ]  112 of 1015 completed"
          ]
        },
        {
          "output_type": "stream",
          "name": "stderr",
          "text": [
            "/usr/local/lib/python3.11/dist-packages/yfinance/utils.py:788: FutureWarning: The 'unit' keyword in TimedeltaIndex construction is deprecated and will be removed in a future version. Use pd.to_timedelta instead.\n",
            "  df.index += _pd.TimedeltaIndex(dst_error_hours, 'h')\n",
            "/usr/local/lib/python3.11/dist-packages/yfinance/utils.py:788: FutureWarning: The 'unit' keyword in TimedeltaIndex construction is deprecated and will be removed in a future version. Use pd.to_timedelta instead.\n",
            "  df.index += _pd.TimedeltaIndex(dst_error_hours, 'h')\n"
          ]
        },
        {
          "output_type": "stream",
          "name": "stdout",
          "text": [
            "[*****                 11%%                      ]  114 of 1015 completed"
          ]
        },
        {
          "output_type": "stream",
          "name": "stderr",
          "text": [
            "/usr/local/lib/python3.11/dist-packages/yfinance/utils.py:788: FutureWarning: The 'unit' keyword in TimedeltaIndex construction is deprecated and will be removed in a future version. Use pd.to_timedelta instead.\n",
            "  df.index += _pd.TimedeltaIndex(dst_error_hours, 'h')\n",
            "/usr/local/lib/python3.11/dist-packages/yfinance/utils.py:788: FutureWarning: The 'unit' keyword in TimedeltaIndex construction is deprecated and will be removed in a future version. Use pd.to_timedelta instead.\n",
            "  df.index += _pd.TimedeltaIndex(dst_error_hours, 'h')\n",
            "/usr/local/lib/python3.11/dist-packages/yfinance/utils.py:788: FutureWarning: The 'unit' keyword in TimedeltaIndex construction is deprecated and will be removed in a future version. Use pd.to_timedelta instead.\n",
            "  df.index += _pd.TimedeltaIndex(dst_error_hours, 'h')\n"
          ]
        },
        {
          "output_type": "stream",
          "name": "stdout",
          "text": [
            "[******                12%%                      ]  117 of 1015 completed"
          ]
        },
        {
          "output_type": "stream",
          "name": "stderr",
          "text": [
            "/usr/local/lib/python3.11/dist-packages/yfinance/utils.py:788: FutureWarning: The 'unit' keyword in TimedeltaIndex construction is deprecated and will be removed in a future version. Use pd.to_timedelta instead.\n",
            "  df.index += _pd.TimedeltaIndex(dst_error_hours, 'h')\n",
            "/usr/local/lib/python3.11/dist-packages/yfinance/utils.py:788: FutureWarning: The 'unit' keyword in TimedeltaIndex construction is deprecated and will be removed in a future version. Use pd.to_timedelta instead.\n",
            "  df.index += _pd.TimedeltaIndex(dst_error_hours, 'h')\n"
          ]
        },
        {
          "output_type": "stream",
          "name": "stdout",
          "text": [
            "[******                12%%                      ]  120 of 1015 completed"
          ]
        },
        {
          "output_type": "stream",
          "name": "stderr",
          "text": [
            "/usr/local/lib/python3.11/dist-packages/yfinance/utils.py:788: FutureWarning: The 'unit' keyword in TimedeltaIndex construction is deprecated and will be removed in a future version. Use pd.to_timedelta instead.\n",
            "  df.index += _pd.TimedeltaIndex(dst_error_hours, 'h')\n",
            "/usr/local/lib/python3.11/dist-packages/yfinance/utils.py:788: FutureWarning: The 'unit' keyword in TimedeltaIndex construction is deprecated and will be removed in a future version. Use pd.to_timedelta instead.\n",
            "  df.index += _pd.TimedeltaIndex(dst_error_hours, 'h')\n",
            "/usr/local/lib/python3.11/dist-packages/yfinance/utils.py:788: FutureWarning: The 'unit' keyword in TimedeltaIndex construction is deprecated and will be removed in a future version. Use pd.to_timedelta instead.\n",
            "  df.index += _pd.TimedeltaIndex(dst_error_hours, 'h')\n"
          ]
        },
        {
          "output_type": "stream",
          "name": "stdout",
          "text": [
            "[******                12%%                      ]  122 of 1015 completed"
          ]
        },
        {
          "output_type": "stream",
          "name": "stderr",
          "text": [
            "/usr/local/lib/python3.11/dist-packages/yfinance/utils.py:788: FutureWarning: The 'unit' keyword in TimedeltaIndex construction is deprecated and will be removed in a future version. Use pd.to_timedelta instead.\n",
            "  df.index += _pd.TimedeltaIndex(dst_error_hours, 'h')\n",
            "/usr/local/lib/python3.11/dist-packages/yfinance/utils.py:788: FutureWarning: The 'unit' keyword in TimedeltaIndex construction is deprecated and will be removed in a future version. Use pd.to_timedelta instead.\n",
            "  df.index += _pd.TimedeltaIndex(dst_error_hours, 'h')\n"
          ]
        },
        {
          "output_type": "stream",
          "name": "stdout",
          "text": [
            "[******                12%%                      ]  124 of 1015 completed"
          ]
        },
        {
          "output_type": "stream",
          "name": "stderr",
          "text": [
            "/usr/local/lib/python3.11/dist-packages/yfinance/utils.py:788: FutureWarning: The 'unit' keyword in TimedeltaIndex construction is deprecated and will be removed in a future version. Use pd.to_timedelta instead.\n",
            "  df.index += _pd.TimedeltaIndex(dst_error_hours, 'h')\n",
            "/usr/local/lib/python3.11/dist-packages/yfinance/utils.py:788: FutureWarning: The 'unit' keyword in TimedeltaIndex construction is deprecated and will be removed in a future version. Use pd.to_timedelta instead.\n",
            "  df.index += _pd.TimedeltaIndex(dst_error_hours, 'h')\n"
          ]
        },
        {
          "output_type": "stream",
          "name": "stdout",
          "text": [
            "[******                12%%                      ]  126 of 1015 completed"
          ]
        },
        {
          "output_type": "stream",
          "name": "stderr",
          "text": [
            "/usr/local/lib/python3.11/dist-packages/yfinance/utils.py:788: FutureWarning: The 'unit' keyword in TimedeltaIndex construction is deprecated and will be removed in a future version. Use pd.to_timedelta instead.\n",
            "  df.index += _pd.TimedeltaIndex(dst_error_hours, 'h')\n",
            "/usr/local/lib/python3.11/dist-packages/yfinance/utils.py:788: FutureWarning: The 'unit' keyword in TimedeltaIndex construction is deprecated and will be removed in a future version. Use pd.to_timedelta instead.\n",
            "  df.index += _pd.TimedeltaIndex(dst_error_hours, 'h')\n",
            "/usr/local/lib/python3.11/dist-packages/yfinance/utils.py:788: FutureWarning: The 'unit' keyword in TimedeltaIndex construction is deprecated and will be removed in a future version. Use pd.to_timedelta instead.\n",
            "  df.index += _pd.TimedeltaIndex(dst_error_hours, 'h')\n"
          ]
        },
        {
          "output_type": "stream",
          "name": "stdout",
          "text": [
            "[******                13%%                      ]  128 of 1015 completed"
          ]
        },
        {
          "output_type": "stream",
          "name": "stderr",
          "text": [
            "/usr/local/lib/python3.11/dist-packages/yfinance/utils.py:788: FutureWarning: The 'unit' keyword in TimedeltaIndex construction is deprecated and will be removed in a future version. Use pd.to_timedelta instead.\n",
            "  df.index += _pd.TimedeltaIndex(dst_error_hours, 'h')\n"
          ]
        },
        {
          "output_type": "stream",
          "name": "stdout",
          "text": [
            "[******                13%%                      ]  130 of 1015 completed"
          ]
        },
        {
          "output_type": "stream",
          "name": "stderr",
          "text": [
            "/usr/local/lib/python3.11/dist-packages/yfinance/utils.py:788: FutureWarning: The 'unit' keyword in TimedeltaIndex construction is deprecated and will be removed in a future version. Use pd.to_timedelta instead.\n",
            "  df.index += _pd.TimedeltaIndex(dst_error_hours, 'h')\n",
            "/usr/local/lib/python3.11/dist-packages/yfinance/utils.py:788: FutureWarning: The 'unit' keyword in TimedeltaIndex construction is deprecated and will be removed in a future version. Use pd.to_timedelta instead.\n",
            "  df.index += _pd.TimedeltaIndex(dst_error_hours, 'h')\n"
          ]
        },
        {
          "output_type": "stream",
          "name": "stdout",
          "text": [
            "[******                13%%                      ]  132 of 1015 completed"
          ]
        },
        {
          "output_type": "stream",
          "name": "stderr",
          "text": [
            "/usr/local/lib/python3.11/dist-packages/yfinance/utils.py:788: FutureWarning: The 'unit' keyword in TimedeltaIndex construction is deprecated and will be removed in a future version. Use pd.to_timedelta instead.\n",
            "  df.index += _pd.TimedeltaIndex(dst_error_hours, 'h')\n",
            "/usr/local/lib/python3.11/dist-packages/yfinance/utils.py:788: FutureWarning: The 'unit' keyword in TimedeltaIndex construction is deprecated and will be removed in a future version. Use pd.to_timedelta instead.\n",
            "  df.index += _pd.TimedeltaIndex(dst_error_hours, 'h')\n"
          ]
        },
        {
          "output_type": "stream",
          "name": "stdout",
          "text": [
            "[******                13%%                      ]  135 of 1015 completed"
          ]
        },
        {
          "output_type": "stream",
          "name": "stderr",
          "text": [
            "/usr/local/lib/python3.11/dist-packages/yfinance/utils.py:788: FutureWarning: The 'unit' keyword in TimedeltaIndex construction is deprecated and will be removed in a future version. Use pd.to_timedelta instead.\n",
            "  df.index += _pd.TimedeltaIndex(dst_error_hours, 'h')\n",
            "/usr/local/lib/python3.11/dist-packages/yfinance/utils.py:788: FutureWarning: The 'unit' keyword in TimedeltaIndex construction is deprecated and will be removed in a future version. Use pd.to_timedelta instead.\n",
            "  df.index += _pd.TimedeltaIndex(dst_error_hours, 'h')\n",
            "/usr/local/lib/python3.11/dist-packages/yfinance/utils.py:788: FutureWarning: The 'unit' keyword in TimedeltaIndex construction is deprecated and will be removed in a future version. Use pd.to_timedelta instead.\n",
            "  df.index += _pd.TimedeltaIndex(dst_error_hours, 'h')\n"
          ]
        },
        {
          "output_type": "stream",
          "name": "stdout",
          "text": [
            "[*******               14%%                      ]  138 of 1015 completed"
          ]
        },
        {
          "output_type": "stream",
          "name": "stderr",
          "text": [
            "/usr/local/lib/python3.11/dist-packages/yfinance/utils.py:788: FutureWarning: The 'unit' keyword in TimedeltaIndex construction is deprecated and will be removed in a future version. Use pd.to_timedelta instead.\n",
            "  df.index += _pd.TimedeltaIndex(dst_error_hours, 'h')\n",
            "/usr/local/lib/python3.11/dist-packages/yfinance/utils.py:788: FutureWarning: The 'unit' keyword in TimedeltaIndex construction is deprecated and will be removed in a future version. Use pd.to_timedelta instead.\n",
            "  df.index += _pd.TimedeltaIndex(dst_error_hours, 'h')\n",
            "/usr/local/lib/python3.11/dist-packages/yfinance/utils.py:788: FutureWarning: The 'unit' keyword in TimedeltaIndex construction is deprecated and will be removed in a future version. Use pd.to_timedelta instead.\n",
            "  df.index += _pd.TimedeltaIndex(dst_error_hours, 'h')\n"
          ]
        },
        {
          "output_type": "stream",
          "name": "stdout",
          "text": [
            "[*******               14%%                      ]  141 of 1015 completed"
          ]
        },
        {
          "output_type": "stream",
          "name": "stderr",
          "text": [
            "/usr/local/lib/python3.11/dist-packages/yfinance/utils.py:788: FutureWarning: The 'unit' keyword in TimedeltaIndex construction is deprecated and will be removed in a future version. Use pd.to_timedelta instead.\n",
            "  df.index += _pd.TimedeltaIndex(dst_error_hours, 'h')\n",
            "/usr/local/lib/python3.11/dist-packages/yfinance/utils.py:788: FutureWarning: The 'unit' keyword in TimedeltaIndex construction is deprecated and will be removed in a future version. Use pd.to_timedelta instead.\n",
            "  df.index += _pd.TimedeltaIndex(dst_error_hours, 'h')\n",
            "/usr/local/lib/python3.11/dist-packages/yfinance/utils.py:788: FutureWarning: The 'unit' keyword in TimedeltaIndex construction is deprecated and will be removed in a future version. Use pd.to_timedelta instead.\n",
            "  df.index += _pd.TimedeltaIndex(dst_error_hours, 'h')\n"
          ]
        },
        {
          "output_type": "stream",
          "name": "stdout",
          "text": [
            "[*******               14%%                      ]  144 of 1015 completed"
          ]
        },
        {
          "output_type": "stream",
          "name": "stderr",
          "text": [
            "/usr/local/lib/python3.11/dist-packages/yfinance/utils.py:788: FutureWarning: The 'unit' keyword in TimedeltaIndex construction is deprecated and will be removed in a future version. Use pd.to_timedelta instead.\n",
            "  df.index += _pd.TimedeltaIndex(dst_error_hours, 'h')\n",
            "/usr/local/lib/python3.11/dist-packages/yfinance/utils.py:788: FutureWarning: The 'unit' keyword in TimedeltaIndex construction is deprecated and will be removed in a future version. Use pd.to_timedelta instead.\n",
            "  df.index += _pd.TimedeltaIndex(dst_error_hours, 'h')\n",
            "/usr/local/lib/python3.11/dist-packages/yfinance/utils.py:788: FutureWarning: The 'unit' keyword in TimedeltaIndex construction is deprecated and will be removed in a future version. Use pd.to_timedelta instead.\n",
            "  df.index += _pd.TimedeltaIndex(dst_error_hours, 'h')\n"
          ]
        },
        {
          "output_type": "stream",
          "name": "stdout",
          "text": [
            "[*******               14%%                      ]  147 of 1015 completed"
          ]
        },
        {
          "output_type": "stream",
          "name": "stderr",
          "text": [
            "/usr/local/lib/python3.11/dist-packages/yfinance/utils.py:788: FutureWarning: The 'unit' keyword in TimedeltaIndex construction is deprecated and will be removed in a future version. Use pd.to_timedelta instead.\n",
            "  df.index += _pd.TimedeltaIndex(dst_error_hours, 'h')\n",
            "/usr/local/lib/python3.11/dist-packages/yfinance/utils.py:788: FutureWarning: The 'unit' keyword in TimedeltaIndex construction is deprecated and will be removed in a future version. Use pd.to_timedelta instead.\n",
            "  df.index += _pd.TimedeltaIndex(dst_error_hours, 'h')\n",
            "/usr/local/lib/python3.11/dist-packages/yfinance/utils.py:788: FutureWarning: The 'unit' keyword in TimedeltaIndex construction is deprecated and will be removed in a future version. Use pd.to_timedelta instead.\n",
            "  df.index += _pd.TimedeltaIndex(dst_error_hours, 'h')\n",
            "/usr/local/lib/python3.11/dist-packages/yfinance/utils.py:788: FutureWarning: The 'unit' keyword in TimedeltaIndex construction is deprecated and will be removed in a future version. Use pd.to_timedelta instead.\n",
            "  df.index += _pd.TimedeltaIndex(dst_error_hours, 'h')\n"
          ]
        },
        {
          "output_type": "stream",
          "name": "stdout",
          "text": [
            "[*******               15%%                      ]  150 of 1015 completed"
          ]
        },
        {
          "output_type": "stream",
          "name": "stderr",
          "text": [
            "/usr/local/lib/python3.11/dist-packages/yfinance/utils.py:788: FutureWarning: The 'unit' keyword in TimedeltaIndex construction is deprecated and will be removed in a future version. Use pd.to_timedelta instead.\n",
            "  df.index += _pd.TimedeltaIndex(dst_error_hours, 'h')\n",
            "/usr/local/lib/python3.11/dist-packages/yfinance/utils.py:788: FutureWarning: The 'unit' keyword in TimedeltaIndex construction is deprecated and will be removed in a future version. Use pd.to_timedelta instead.\n",
            "  df.index += _pd.TimedeltaIndex(dst_error_hours, 'h')\n"
          ]
        },
        {
          "output_type": "stream",
          "name": "stdout",
          "text": [
            "[*******               15%%                      ]  151 of 1015 completed"
          ]
        },
        {
          "output_type": "stream",
          "name": "stderr",
          "text": [
            "/usr/local/lib/python3.11/dist-packages/yfinance/utils.py:788: FutureWarning: The 'unit' keyword in TimedeltaIndex construction is deprecated and will be removed in a future version. Use pd.to_timedelta instead.\n",
            "  df.index += _pd.TimedeltaIndex(dst_error_hours, 'h')\n",
            "/usr/local/lib/python3.11/dist-packages/yfinance/utils.py:788: FutureWarning: The 'unit' keyword in TimedeltaIndex construction is deprecated and will be removed in a future version. Use pd.to_timedelta instead.\n",
            "  df.index += _pd.TimedeltaIndex(dst_error_hours, 'h')\n"
          ]
        },
        {
          "output_type": "stream",
          "name": "stdout",
          "text": [
            "[*******               15%%                      ]  156 of 1015 completed"
          ]
        },
        {
          "output_type": "stream",
          "name": "stderr",
          "text": [
            "/usr/local/lib/python3.11/dist-packages/yfinance/utils.py:788: FutureWarning: The 'unit' keyword in TimedeltaIndex construction is deprecated and will be removed in a future version. Use pd.to_timedelta instead.\n",
            "  df.index += _pd.TimedeltaIndex(dst_error_hours, 'h')\n",
            "/usr/local/lib/python3.11/dist-packages/yfinance/utils.py:788: FutureWarning: The 'unit' keyword in TimedeltaIndex construction is deprecated and will be removed in a future version. Use pd.to_timedelta instead.\n",
            "  df.index += _pd.TimedeltaIndex(dst_error_hours, 'h')\n",
            "/usr/local/lib/python3.11/dist-packages/yfinance/utils.py:788: FutureWarning: The 'unit' keyword in TimedeltaIndex construction is deprecated and will be removed in a future version. Use pd.to_timedelta instead.\n",
            "  df.index += _pd.TimedeltaIndex(dst_error_hours, 'h')\n",
            "/usr/local/lib/python3.11/dist-packages/yfinance/utils.py:788: FutureWarning: The 'unit' keyword in TimedeltaIndex construction is deprecated and will be removed in a future version. Use pd.to_timedelta instead.\n",
            "  df.index += _pd.TimedeltaIndex(dst_error_hours, 'h')\n"
          ]
        },
        {
          "output_type": "stream",
          "name": "stdout",
          "text": [
            "[********              16%%                      ]  159 of 1015 completed"
          ]
        },
        {
          "output_type": "stream",
          "name": "stderr",
          "text": [
            "/usr/local/lib/python3.11/dist-packages/yfinance/utils.py:788: FutureWarning: The 'unit' keyword in TimedeltaIndex construction is deprecated and will be removed in a future version. Use pd.to_timedelta instead.\n",
            "  df.index += _pd.TimedeltaIndex(dst_error_hours, 'h')\n",
            "/usr/local/lib/python3.11/dist-packages/yfinance/utils.py:788: FutureWarning: The 'unit' keyword in TimedeltaIndex construction is deprecated and will be removed in a future version. Use pd.to_timedelta instead.\n",
            "  df.index += _pd.TimedeltaIndex(dst_error_hours, 'h')\n",
            "/usr/local/lib/python3.11/dist-packages/yfinance/utils.py:788: FutureWarning: The 'unit' keyword in TimedeltaIndex construction is deprecated and will be removed in a future version. Use pd.to_timedelta instead.\n",
            "  df.index += _pd.TimedeltaIndex(dst_error_hours, 'h')\n"
          ]
        },
        {
          "output_type": "stream",
          "name": "stdout",
          "text": [
            "[********              16%%                      ]  162 of 1015 completed"
          ]
        },
        {
          "output_type": "stream",
          "name": "stderr",
          "text": [
            "/usr/local/lib/python3.11/dist-packages/yfinance/utils.py:788: FutureWarning: The 'unit' keyword in TimedeltaIndex construction is deprecated and will be removed in a future version. Use pd.to_timedelta instead.\n",
            "  df.index += _pd.TimedeltaIndex(dst_error_hours, 'h')\n",
            "/usr/local/lib/python3.11/dist-packages/yfinance/utils.py:788: FutureWarning: The 'unit' keyword in TimedeltaIndex construction is deprecated and will be removed in a future version. Use pd.to_timedelta instead.\n",
            "  df.index += _pd.TimedeltaIndex(dst_error_hours, 'h')\n",
            "/usr/local/lib/python3.11/dist-packages/yfinance/utils.py:788: FutureWarning: The 'unit' keyword in TimedeltaIndex construction is deprecated and will be removed in a future version. Use pd.to_timedelta instead.\n",
            "  df.index += _pd.TimedeltaIndex(dst_error_hours, 'h')\n"
          ]
        },
        {
          "output_type": "stream",
          "name": "stdout",
          "text": [
            "[********              16%%                      ]  164 of 1015 completed"
          ]
        },
        {
          "output_type": "stream",
          "name": "stderr",
          "text": [
            "/usr/local/lib/python3.11/dist-packages/yfinance/utils.py:788: FutureWarning: The 'unit' keyword in TimedeltaIndex construction is deprecated and will be removed in a future version. Use pd.to_timedelta instead.\n",
            "  df.index += _pd.TimedeltaIndex(dst_error_hours, 'h')\n",
            "/usr/local/lib/python3.11/dist-packages/yfinance/utils.py:788: FutureWarning: The 'unit' keyword in TimedeltaIndex construction is deprecated and will be removed in a future version. Use pd.to_timedelta instead.\n",
            "  df.index += _pd.TimedeltaIndex(dst_error_hours, 'h')\n",
            "/usr/local/lib/python3.11/dist-packages/yfinance/utils.py:788: FutureWarning: The 'unit' keyword in TimedeltaIndex construction is deprecated and will be removed in a future version. Use pd.to_timedelta instead.\n",
            "  df.index += _pd.TimedeltaIndex(dst_error_hours, 'h')\n"
          ]
        },
        {
          "output_type": "stream",
          "name": "stdout",
          "text": [
            "[********              17%%                      ]  168 of 1015 completed"
          ]
        },
        {
          "output_type": "stream",
          "name": "stderr",
          "text": [
            "/usr/local/lib/python3.11/dist-packages/yfinance/utils.py:788: FutureWarning: The 'unit' keyword in TimedeltaIndex construction is deprecated and will be removed in a future version. Use pd.to_timedelta instead.\n",
            "  df.index += _pd.TimedeltaIndex(dst_error_hours, 'h')\n",
            "/usr/local/lib/python3.11/dist-packages/yfinance/utils.py:788: FutureWarning: The 'unit' keyword in TimedeltaIndex construction is deprecated and will be removed in a future version. Use pd.to_timedelta instead.\n",
            "  df.index += _pd.TimedeltaIndex(dst_error_hours, 'h')\n",
            "/usr/local/lib/python3.11/dist-packages/yfinance/utils.py:788: FutureWarning: The 'unit' keyword in TimedeltaIndex construction is deprecated and will be removed in a future version. Use pd.to_timedelta instead.\n",
            "  df.index += _pd.TimedeltaIndex(dst_error_hours, 'h')\n"
          ]
        },
        {
          "output_type": "stream",
          "name": "stdout",
          "text": [
            "[********              17%%                      ]  170 of 1015 completed"
          ]
        },
        {
          "output_type": "stream",
          "name": "stderr",
          "text": [
            "/usr/local/lib/python3.11/dist-packages/yfinance/utils.py:788: FutureWarning: The 'unit' keyword in TimedeltaIndex construction is deprecated and will be removed in a future version. Use pd.to_timedelta instead.\n",
            "  df.index += _pd.TimedeltaIndex(dst_error_hours, 'h')\n",
            "/usr/local/lib/python3.11/dist-packages/yfinance/utils.py:788: FutureWarning: The 'unit' keyword in TimedeltaIndex construction is deprecated and will be removed in a future version. Use pd.to_timedelta instead.\n",
            "  df.index += _pd.TimedeltaIndex(dst_error_hours, 'h')\n",
            "/usr/local/lib/python3.11/dist-packages/yfinance/utils.py:788: FutureWarning: The 'unit' keyword in TimedeltaIndex construction is deprecated and will be removed in a future version. Use pd.to_timedelta instead.\n",
            "  df.index += _pd.TimedeltaIndex(dst_error_hours, 'h')\n"
          ]
        },
        {
          "output_type": "stream",
          "name": "stdout",
          "text": [
            "[********              17%%                      ]  174 of 1015 completed"
          ]
        },
        {
          "output_type": "stream",
          "name": "stderr",
          "text": [
            "/usr/local/lib/python3.11/dist-packages/yfinance/utils.py:788: FutureWarning: The 'unit' keyword in TimedeltaIndex construction is deprecated and will be removed in a future version. Use pd.to_timedelta instead.\n",
            "  df.index += _pd.TimedeltaIndex(dst_error_hours, 'h')\n",
            "/usr/local/lib/python3.11/dist-packages/yfinance/utils.py:788: FutureWarning: The 'unit' keyword in TimedeltaIndex construction is deprecated and will be removed in a future version. Use pd.to_timedelta instead.\n",
            "  df.index += _pd.TimedeltaIndex(dst_error_hours, 'h')\n",
            "/usr/local/lib/python3.11/dist-packages/yfinance/utils.py:788: FutureWarning: The 'unit' keyword in TimedeltaIndex construction is deprecated and will be removed in a future version. Use pd.to_timedelta instead.\n",
            "  df.index += _pd.TimedeltaIndex(dst_error_hours, 'h')\n"
          ]
        },
        {
          "output_type": "stream",
          "name": "stdout",
          "text": [
            "[********              17%%                      ]  177 of 1015 completed"
          ]
        },
        {
          "output_type": "stream",
          "name": "stderr",
          "text": [
            "/usr/local/lib/python3.11/dist-packages/yfinance/utils.py:788: FutureWarning: The 'unit' keyword in TimedeltaIndex construction is deprecated and will be removed in a future version. Use pd.to_timedelta instead.\n",
            "  df.index += _pd.TimedeltaIndex(dst_error_hours, 'h')\n",
            "/usr/local/lib/python3.11/dist-packages/yfinance/utils.py:788: FutureWarning: The 'unit' keyword in TimedeltaIndex construction is deprecated and will be removed in a future version. Use pd.to_timedelta instead.\n",
            "  df.index += _pd.TimedeltaIndex(dst_error_hours, 'h')\n",
            "/usr/local/lib/python3.11/dist-packages/yfinance/utils.py:788: FutureWarning: The 'unit' keyword in TimedeltaIndex construction is deprecated and will be removed in a future version. Use pd.to_timedelta instead.\n",
            "  df.index += _pd.TimedeltaIndex(dst_error_hours, 'h')\n"
          ]
        },
        {
          "output_type": "stream",
          "name": "stdout",
          "text": [
            "[*********             18%%                      ]  179 of 1015 completed"
          ]
        },
        {
          "output_type": "stream",
          "name": "stderr",
          "text": [
            "/usr/local/lib/python3.11/dist-packages/yfinance/utils.py:788: FutureWarning: The 'unit' keyword in TimedeltaIndex construction is deprecated and will be removed in a future version. Use pd.to_timedelta instead.\n",
            "  df.index += _pd.TimedeltaIndex(dst_error_hours, 'h')\n",
            "/usr/local/lib/python3.11/dist-packages/yfinance/utils.py:788: FutureWarning: The 'unit' keyword in TimedeltaIndex construction is deprecated and will be removed in a future version. Use pd.to_timedelta instead.\n",
            "  df.index += _pd.TimedeltaIndex(dst_error_hours, 'h')\n"
          ]
        },
        {
          "output_type": "stream",
          "name": "stdout",
          "text": [
            "[*********             18%%                      ]  181 of 1015 completed"
          ]
        },
        {
          "output_type": "stream",
          "name": "stderr",
          "text": [
            "/usr/local/lib/python3.11/dist-packages/yfinance/utils.py:788: FutureWarning: The 'unit' keyword in TimedeltaIndex construction is deprecated and will be removed in a future version. Use pd.to_timedelta instead.\n",
            "  df.index += _pd.TimedeltaIndex(dst_error_hours, 'h')\n",
            "/usr/local/lib/python3.11/dist-packages/yfinance/utils.py:788: FutureWarning: The 'unit' keyword in TimedeltaIndex construction is deprecated and will be removed in a future version. Use pd.to_timedelta instead.\n",
            "  df.index += _pd.TimedeltaIndex(dst_error_hours, 'h')\n",
            "/usr/local/lib/python3.11/dist-packages/yfinance/utils.py:788: FutureWarning: The 'unit' keyword in TimedeltaIndex construction is deprecated and will be removed in a future version. Use pd.to_timedelta instead.\n",
            "  df.index += _pd.TimedeltaIndex(dst_error_hours, 'h')\n"
          ]
        },
        {
          "output_type": "stream",
          "name": "stdout",
          "text": [
            "[*********             18%%                      ]  185 of 1015 completed"
          ]
        },
        {
          "output_type": "stream",
          "name": "stderr",
          "text": [
            "/usr/local/lib/python3.11/dist-packages/yfinance/utils.py:788: FutureWarning: The 'unit' keyword in TimedeltaIndex construction is deprecated and will be removed in a future version. Use pd.to_timedelta instead.\n",
            "  df.index += _pd.TimedeltaIndex(dst_error_hours, 'h')\n",
            "/usr/local/lib/python3.11/dist-packages/yfinance/utils.py:788: FutureWarning: The 'unit' keyword in TimedeltaIndex construction is deprecated and will be removed in a future version. Use pd.to_timedelta instead.\n",
            "  df.index += _pd.TimedeltaIndex(dst_error_hours, 'h')\n",
            "/usr/local/lib/python3.11/dist-packages/yfinance/utils.py:788: FutureWarning: The 'unit' keyword in TimedeltaIndex construction is deprecated and will be removed in a future version. Use pd.to_timedelta instead.\n",
            "  df.index += _pd.TimedeltaIndex(dst_error_hours, 'h')\n"
          ]
        },
        {
          "output_type": "stream",
          "name": "stdout",
          "text": [
            "[*********             19%%                      ]  188 of 1015 completed"
          ]
        },
        {
          "output_type": "stream",
          "name": "stderr",
          "text": [
            "/usr/local/lib/python3.11/dist-packages/yfinance/utils.py:788: FutureWarning: The 'unit' keyword in TimedeltaIndex construction is deprecated and will be removed in a future version. Use pd.to_timedelta instead.\n",
            "  df.index += _pd.TimedeltaIndex(dst_error_hours, 'h')\n",
            "/usr/local/lib/python3.11/dist-packages/yfinance/utils.py:788: FutureWarning: The 'unit' keyword in TimedeltaIndex construction is deprecated and will be removed in a future version. Use pd.to_timedelta instead.\n",
            "  df.index += _pd.TimedeltaIndex(dst_error_hours, 'h')\n",
            "/usr/local/lib/python3.11/dist-packages/yfinance/utils.py:788: FutureWarning: The 'unit' keyword in TimedeltaIndex construction is deprecated and will be removed in a future version. Use pd.to_timedelta instead.\n",
            "  df.index += _pd.TimedeltaIndex(dst_error_hours, 'h')\n",
            "/usr/local/lib/python3.11/dist-packages/yfinance/utils.py:788: FutureWarning: The 'unit' keyword in TimedeltaIndex construction is deprecated and will be removed in a future version. Use pd.to_timedelta instead.\n",
            "  df.index += _pd.TimedeltaIndex(dst_error_hours, 'h')\n"
          ]
        },
        {
          "output_type": "stream",
          "name": "stdout",
          "text": [
            "[*********             19%%                      ]  192 of 1015 completed"
          ]
        },
        {
          "output_type": "stream",
          "name": "stderr",
          "text": [
            "/usr/local/lib/python3.11/dist-packages/yfinance/utils.py:788: FutureWarning: The 'unit' keyword in TimedeltaIndex construction is deprecated and will be removed in a future version. Use pd.to_timedelta instead.\n",
            "  df.index += _pd.TimedeltaIndex(dst_error_hours, 'h')\n",
            "/usr/local/lib/python3.11/dist-packages/yfinance/utils.py:788: FutureWarning: The 'unit' keyword in TimedeltaIndex construction is deprecated and will be removed in a future version. Use pd.to_timedelta instead.\n",
            "  df.index += _pd.TimedeltaIndex(dst_error_hours, 'h')\n",
            "/usr/local/lib/python3.11/dist-packages/yfinance/utils.py:788: FutureWarning: The 'unit' keyword in TimedeltaIndex construction is deprecated and will be removed in a future version. Use pd.to_timedelta instead.\n",
            "  df.index += _pd.TimedeltaIndex(dst_error_hours, 'h')\n"
          ]
        },
        {
          "output_type": "stream",
          "name": "stdout",
          "text": [
            "[*********             19%%                      ]  194 of 1015 completed"
          ]
        },
        {
          "output_type": "stream",
          "name": "stderr",
          "text": [
            "/usr/local/lib/python3.11/dist-packages/yfinance/utils.py:788: FutureWarning: The 'unit' keyword in TimedeltaIndex construction is deprecated and will be removed in a future version. Use pd.to_timedelta instead.\n",
            "  df.index += _pd.TimedeltaIndex(dst_error_hours, 'h')\n",
            "/usr/local/lib/python3.11/dist-packages/yfinance/utils.py:788: FutureWarning: The 'unit' keyword in TimedeltaIndex construction is deprecated and will be removed in a future version. Use pd.to_timedelta instead.\n",
            "  df.index += _pd.TimedeltaIndex(dst_error_hours, 'h')\n",
            "/usr/local/lib/python3.11/dist-packages/yfinance/utils.py:788: FutureWarning: The 'unit' keyword in TimedeltaIndex construction is deprecated and will be removed in a future version. Use pd.to_timedelta instead.\n",
            "  df.index += _pd.TimedeltaIndex(dst_error_hours, 'h')\n"
          ]
        },
        {
          "output_type": "stream",
          "name": "stdout",
          "text": [
            "[**********            20%%                      ]  198 of 1015 completed"
          ]
        },
        {
          "output_type": "stream",
          "name": "stderr",
          "text": [
            "/usr/local/lib/python3.11/dist-packages/yfinance/utils.py:788: FutureWarning: The 'unit' keyword in TimedeltaIndex construction is deprecated and will be removed in a future version. Use pd.to_timedelta instead.\n",
            "  df.index += _pd.TimedeltaIndex(dst_error_hours, 'h')\n",
            "/usr/local/lib/python3.11/dist-packages/yfinance/utils.py:788: FutureWarning: The 'unit' keyword in TimedeltaIndex construction is deprecated and will be removed in a future version. Use pd.to_timedelta instead.\n",
            "  df.index += _pd.TimedeltaIndex(dst_error_hours, 'h')\n",
            "/usr/local/lib/python3.11/dist-packages/yfinance/utils.py:788: FutureWarning: The 'unit' keyword in TimedeltaIndex construction is deprecated and will be removed in a future version. Use pd.to_timedelta instead.\n",
            "  df.index += _pd.TimedeltaIndex(dst_error_hours, 'h')\n"
          ]
        },
        {
          "output_type": "stream",
          "name": "stdout",
          "text": [
            "[**********            20%%                      ]  200 of 1015 completed"
          ]
        },
        {
          "output_type": "stream",
          "name": "stderr",
          "text": [
            "/usr/local/lib/python3.11/dist-packages/yfinance/utils.py:788: FutureWarning: The 'unit' keyword in TimedeltaIndex construction is deprecated and will be removed in a future version. Use pd.to_timedelta instead.\n",
            "  df.index += _pd.TimedeltaIndex(dst_error_hours, 'h')\n",
            "/usr/local/lib/python3.11/dist-packages/yfinance/utils.py:788: FutureWarning: The 'unit' keyword in TimedeltaIndex construction is deprecated and will be removed in a future version. Use pd.to_timedelta instead.\n",
            "  df.index += _pd.TimedeltaIndex(dst_error_hours, 'h')\n",
            "/usr/local/lib/python3.11/dist-packages/yfinance/utils.py:788: FutureWarning: The 'unit' keyword in TimedeltaIndex construction is deprecated and will be removed in a future version. Use pd.to_timedelta instead.\n",
            "  df.index += _pd.TimedeltaIndex(dst_error_hours, 'h')\n"
          ]
        },
        {
          "output_type": "stream",
          "name": "stdout",
          "text": [
            "[**********            20%%                      ]  202 of 1015 completed"
          ]
        },
        {
          "output_type": "stream",
          "name": "stderr",
          "text": [
            "/usr/local/lib/python3.11/dist-packages/yfinance/utils.py:788: FutureWarning: The 'unit' keyword in TimedeltaIndex construction is deprecated and will be removed in a future version. Use pd.to_timedelta instead.\n",
            "  df.index += _pd.TimedeltaIndex(dst_error_hours, 'h')\n",
            "/usr/local/lib/python3.11/dist-packages/yfinance/utils.py:788: FutureWarning: The 'unit' keyword in TimedeltaIndex construction is deprecated and will be removed in a future version. Use pd.to_timedelta instead.\n",
            "  df.index += _pd.TimedeltaIndex(dst_error_hours, 'h')\n"
          ]
        },
        {
          "output_type": "stream",
          "name": "stdout",
          "text": [
            "\r[**********            20%%                      ]  203 of 1015 completed\r[**********            20%%                      ]  203 of 1015 completed"
          ]
        },
        {
          "output_type": "stream",
          "name": "stderr",
          "text": [
            "/usr/local/lib/python3.11/dist-packages/yfinance/utils.py:788: FutureWarning: The 'unit' keyword in TimedeltaIndex construction is deprecated and will be removed in a future version. Use pd.to_timedelta instead.\n",
            "  df.index += _pd.TimedeltaIndex(dst_error_hours, 'h')\n",
            "/usr/local/lib/python3.11/dist-packages/yfinance/utils.py:788: FutureWarning: The 'unit' keyword in TimedeltaIndex construction is deprecated and will be removed in a future version. Use pd.to_timedelta instead.\n",
            "  df.index += _pd.TimedeltaIndex(dst_error_hours, 'h')\n"
          ]
        },
        {
          "output_type": "stream",
          "name": "stdout",
          "text": [
            "[**********            20%%                      ]  208 of 1015 completed"
          ]
        },
        {
          "output_type": "stream",
          "name": "stderr",
          "text": [
            "/usr/local/lib/python3.11/dist-packages/yfinance/utils.py:788: FutureWarning: The 'unit' keyword in TimedeltaIndex construction is deprecated and will be removed in a future version. Use pd.to_timedelta instead.\n",
            "  df.index += _pd.TimedeltaIndex(dst_error_hours, 'h')\n",
            "/usr/local/lib/python3.11/dist-packages/yfinance/utils.py:788: FutureWarning: The 'unit' keyword in TimedeltaIndex construction is deprecated and will be removed in a future version. Use pd.to_timedelta instead.\n",
            "  df.index += _pd.TimedeltaIndex(dst_error_hours, 'h')\n",
            "/usr/local/lib/python3.11/dist-packages/yfinance/utils.py:788: FutureWarning: The 'unit' keyword in TimedeltaIndex construction is deprecated and will be removed in a future version. Use pd.to_timedelta instead.\n",
            "  df.index += _pd.TimedeltaIndex(dst_error_hours, 'h')\n"
          ]
        },
        {
          "output_type": "stream",
          "name": "stdout",
          "text": [
            "[**********            21%%                      ]  210 of 1015 completed"
          ]
        },
        {
          "output_type": "stream",
          "name": "stderr",
          "text": [
            "/usr/local/lib/python3.11/dist-packages/yfinance/utils.py:788: FutureWarning: The 'unit' keyword in TimedeltaIndex construction is deprecated and will be removed in a future version. Use pd.to_timedelta instead.\n",
            "  df.index += _pd.TimedeltaIndex(dst_error_hours, 'h')\n",
            "/usr/local/lib/python3.11/dist-packages/yfinance/utils.py:788: FutureWarning: The 'unit' keyword in TimedeltaIndex construction is deprecated and will be removed in a future version. Use pd.to_timedelta instead.\n",
            "  df.index += _pd.TimedeltaIndex(dst_error_hours, 'h')\n",
            "/usr/local/lib/python3.11/dist-packages/yfinance/utils.py:788: FutureWarning: The 'unit' keyword in TimedeltaIndex construction is deprecated and will be removed in a future version. Use pd.to_timedelta instead.\n",
            "  df.index += _pd.TimedeltaIndex(dst_error_hours, 'h')\n"
          ]
        },
        {
          "output_type": "stream",
          "name": "stdout",
          "text": [
            "[**********            21%%                      ]  211 of 1015 completed"
          ]
        },
        {
          "output_type": "stream",
          "name": "stderr",
          "text": [
            "/usr/local/lib/python3.11/dist-packages/yfinance/utils.py:788: FutureWarning: The 'unit' keyword in TimedeltaIndex construction is deprecated and will be removed in a future version. Use pd.to_timedelta instead.\n",
            "  df.index += _pd.TimedeltaIndex(dst_error_hours, 'h')\n",
            "/usr/local/lib/python3.11/dist-packages/yfinance/utils.py:788: FutureWarning: The 'unit' keyword in TimedeltaIndex construction is deprecated and will be removed in a future version. Use pd.to_timedelta instead.\n",
            "  df.index += _pd.TimedeltaIndex(dst_error_hours, 'h')\n"
          ]
        },
        {
          "output_type": "stream",
          "name": "stdout",
          "text": [
            "[**********            21%%                      ]  215 of 1015 completed"
          ]
        },
        {
          "output_type": "stream",
          "name": "stderr",
          "text": [
            "/usr/local/lib/python3.11/dist-packages/yfinance/utils.py:788: FutureWarning: The 'unit' keyword in TimedeltaIndex construction is deprecated and will be removed in a future version. Use pd.to_timedelta instead.\n",
            "  df.index += _pd.TimedeltaIndex(dst_error_hours, 'h')\n",
            "/usr/local/lib/python3.11/dist-packages/yfinance/utils.py:788: FutureWarning: The 'unit' keyword in TimedeltaIndex construction is deprecated and will be removed in a future version. Use pd.to_timedelta instead.\n",
            "  df.index += _pd.TimedeltaIndex(dst_error_hours, 'h')\n",
            "/usr/local/lib/python3.11/dist-packages/yfinance/utils.py:788: FutureWarning: The 'unit' keyword in TimedeltaIndex construction is deprecated and will be removed in a future version. Use pd.to_timedelta instead.\n",
            "  df.index += _pd.TimedeltaIndex(dst_error_hours, 'h')\n"
          ]
        },
        {
          "output_type": "stream",
          "name": "stdout",
          "text": [
            "[***********           22%%                      ]  219 of 1015 completed"
          ]
        },
        {
          "output_type": "stream",
          "name": "stderr",
          "text": [
            "/usr/local/lib/python3.11/dist-packages/yfinance/utils.py:788: FutureWarning: The 'unit' keyword in TimedeltaIndex construction is deprecated and will be removed in a future version. Use pd.to_timedelta instead.\n",
            "  df.index += _pd.TimedeltaIndex(dst_error_hours, 'h')\n",
            "/usr/local/lib/python3.11/dist-packages/yfinance/utils.py:788: FutureWarning: The 'unit' keyword in TimedeltaIndex construction is deprecated and will be removed in a future version. Use pd.to_timedelta instead.\n",
            "  df.index += _pd.TimedeltaIndex(dst_error_hours, 'h')\n",
            "/usr/local/lib/python3.11/dist-packages/yfinance/utils.py:788: FutureWarning: The 'unit' keyword in TimedeltaIndex construction is deprecated and will be removed in a future version. Use pd.to_timedelta instead.\n",
            "  df.index += _pd.TimedeltaIndex(dst_error_hours, 'h')\n",
            "/usr/local/lib/python3.11/dist-packages/yfinance/utils.py:788: FutureWarning: The 'unit' keyword in TimedeltaIndex construction is deprecated and will be removed in a future version. Use pd.to_timedelta instead.\n",
            "  df.index += _pd.TimedeltaIndex(dst_error_hours, 'h')\n"
          ]
        },
        {
          "output_type": "stream",
          "name": "stdout",
          "text": [
            "[***********           22%%                      ]  223 of 1015 completed"
          ]
        },
        {
          "output_type": "stream",
          "name": "stderr",
          "text": [
            "/usr/local/lib/python3.11/dist-packages/yfinance/utils.py:788: FutureWarning: The 'unit' keyword in TimedeltaIndex construction is deprecated and will be removed in a future version. Use pd.to_timedelta instead.\n",
            "  df.index += _pd.TimedeltaIndex(dst_error_hours, 'h')\n",
            "/usr/local/lib/python3.11/dist-packages/yfinance/utils.py:788: FutureWarning: The 'unit' keyword in TimedeltaIndex construction is deprecated and will be removed in a future version. Use pd.to_timedelta instead.\n",
            "  df.index += _pd.TimedeltaIndex(dst_error_hours, 'h')\n",
            "/usr/local/lib/python3.11/dist-packages/yfinance/utils.py:788: FutureWarning: The 'unit' keyword in TimedeltaIndex construction is deprecated and will be removed in a future version. Use pd.to_timedelta instead.\n",
            "  df.index += _pd.TimedeltaIndex(dst_error_hours, 'h')\n",
            "/usr/local/lib/python3.11/dist-packages/yfinance/utils.py:788: FutureWarning: The 'unit' keyword in TimedeltaIndex construction is deprecated and will be removed in a future version. Use pd.to_timedelta instead.\n",
            "  df.index += _pd.TimedeltaIndex(dst_error_hours, 'h')\n"
          ]
        },
        {
          "output_type": "stream",
          "name": "stdout",
          "text": [
            "[***********           22%%                      ]  227 of 1015 completed"
          ]
        },
        {
          "output_type": "stream",
          "name": "stderr",
          "text": [
            "/usr/local/lib/python3.11/dist-packages/yfinance/utils.py:788: FutureWarning: The 'unit' keyword in TimedeltaIndex construction is deprecated and will be removed in a future version. Use pd.to_timedelta instead.\n",
            "  df.index += _pd.TimedeltaIndex(dst_error_hours, 'h')\n",
            "/usr/local/lib/python3.11/dist-packages/yfinance/utils.py:788: FutureWarning: The 'unit' keyword in TimedeltaIndex construction is deprecated and will be removed in a future version. Use pd.to_timedelta instead.\n",
            "  df.index += _pd.TimedeltaIndex(dst_error_hours, 'h')\n",
            "/usr/local/lib/python3.11/dist-packages/yfinance/utils.py:788: FutureWarning: The 'unit' keyword in TimedeltaIndex construction is deprecated and will be removed in a future version. Use pd.to_timedelta instead.\n",
            "  df.index += _pd.TimedeltaIndex(dst_error_hours, 'h')\n"
          ]
        },
        {
          "output_type": "stream",
          "name": "stdout",
          "text": [
            "[***********           23%%                      ]  230 of 1015 completed"
          ]
        },
        {
          "output_type": "stream",
          "name": "stderr",
          "text": [
            "/usr/local/lib/python3.11/dist-packages/yfinance/utils.py:788: FutureWarning: The 'unit' keyword in TimedeltaIndex construction is deprecated and will be removed in a future version. Use pd.to_timedelta instead.\n",
            "  df.index += _pd.TimedeltaIndex(dst_error_hours, 'h')\n",
            "/usr/local/lib/python3.11/dist-packages/yfinance/utils.py:788: FutureWarning: The 'unit' keyword in TimedeltaIndex construction is deprecated and will be removed in a future version. Use pd.to_timedelta instead.\n",
            "  df.index += _pd.TimedeltaIndex(dst_error_hours, 'h')\n",
            "/usr/local/lib/python3.11/dist-packages/yfinance/utils.py:788: FutureWarning: The 'unit' keyword in TimedeltaIndex construction is deprecated and will be removed in a future version. Use pd.to_timedelta instead.\n",
            "  df.index += _pd.TimedeltaIndex(dst_error_hours, 'h')\n",
            "/usr/local/lib/python3.11/dist-packages/yfinance/utils.py:788: FutureWarning: The 'unit' keyword in TimedeltaIndex construction is deprecated and will be removed in a future version. Use pd.to_timedelta instead.\n",
            "  df.index += _pd.TimedeltaIndex(dst_error_hours, 'h')\n"
          ]
        },
        {
          "output_type": "stream",
          "name": "stdout",
          "text": [
            "[***********           23%%                      ]  234 of 1015 completed"
          ]
        },
        {
          "output_type": "stream",
          "name": "stderr",
          "text": [
            "/usr/local/lib/python3.11/dist-packages/yfinance/utils.py:788: FutureWarning: The 'unit' keyword in TimedeltaIndex construction is deprecated and will be removed in a future version. Use pd.to_timedelta instead.\n",
            "  df.index += _pd.TimedeltaIndex(dst_error_hours, 'h')\n",
            "/usr/local/lib/python3.11/dist-packages/yfinance/utils.py:788: FutureWarning: The 'unit' keyword in TimedeltaIndex construction is deprecated and will be removed in a future version. Use pd.to_timedelta instead.\n",
            "  df.index += _pd.TimedeltaIndex(dst_error_hours, 'h')\n",
            "/usr/local/lib/python3.11/dist-packages/yfinance/utils.py:788: FutureWarning: The 'unit' keyword in TimedeltaIndex construction is deprecated and will be removed in a future version. Use pd.to_timedelta instead.\n",
            "  df.index += _pd.TimedeltaIndex(dst_error_hours, 'h')\n"
          ]
        },
        {
          "output_type": "stream",
          "name": "stdout",
          "text": [
            "[***********           23%%                      ]  237 of 1015 completed"
          ]
        },
        {
          "output_type": "stream",
          "name": "stderr",
          "text": [
            "/usr/local/lib/python3.11/dist-packages/yfinance/utils.py:788: FutureWarning: The 'unit' keyword in TimedeltaIndex construction is deprecated and will be removed in a future version. Use pd.to_timedelta instead.\n",
            "  df.index += _pd.TimedeltaIndex(dst_error_hours, 'h')\n",
            "/usr/local/lib/python3.11/dist-packages/yfinance/utils.py:788: FutureWarning: The 'unit' keyword in TimedeltaIndex construction is deprecated and will be removed in a future version. Use pd.to_timedelta instead.\n",
            "  df.index += _pd.TimedeltaIndex(dst_error_hours, 'h')\n",
            "/usr/local/lib/python3.11/dist-packages/yfinance/utils.py:788: FutureWarning: The 'unit' keyword in TimedeltaIndex construction is deprecated and will be removed in a future version. Use pd.to_timedelta instead.\n",
            "  df.index += _pd.TimedeltaIndex(dst_error_hours, 'h')\n"
          ]
        },
        {
          "output_type": "stream",
          "name": "stdout",
          "text": [
            "[************          24%%                      ]  239 of 1015 completed"
          ]
        },
        {
          "output_type": "stream",
          "name": "stderr",
          "text": [
            "/usr/local/lib/python3.11/dist-packages/yfinance/utils.py:788: FutureWarning: The 'unit' keyword in TimedeltaIndex construction is deprecated and will be removed in a future version. Use pd.to_timedelta instead.\n",
            "  df.index += _pd.TimedeltaIndex(dst_error_hours, 'h')\n",
            "/usr/local/lib/python3.11/dist-packages/yfinance/utils.py:788: FutureWarning: The 'unit' keyword in TimedeltaIndex construction is deprecated and will be removed in a future version. Use pd.to_timedelta instead.\n",
            "  df.index += _pd.TimedeltaIndex(dst_error_hours, 'h')\n"
          ]
        },
        {
          "output_type": "stream",
          "name": "stdout",
          "text": [
            "[************          24%%                      ]  241 of 1015 completed"
          ]
        },
        {
          "output_type": "stream",
          "name": "stderr",
          "text": [
            "/usr/local/lib/python3.11/dist-packages/yfinance/utils.py:788: FutureWarning: The 'unit' keyword in TimedeltaIndex construction is deprecated and will be removed in a future version. Use pd.to_timedelta instead.\n",
            "  df.index += _pd.TimedeltaIndex(dst_error_hours, 'h')\n",
            "/usr/local/lib/python3.11/dist-packages/yfinance/utils.py:788: FutureWarning: The 'unit' keyword in TimedeltaIndex construction is deprecated and will be removed in a future version. Use pd.to_timedelta instead.\n",
            "  df.index += _pd.TimedeltaIndex(dst_error_hours, 'h')\n",
            "/usr/local/lib/python3.11/dist-packages/yfinance/utils.py:788: FutureWarning: The 'unit' keyword in TimedeltaIndex construction is deprecated and will be removed in a future version. Use pd.to_timedelta instead.\n",
            "  df.index += _pd.TimedeltaIndex(dst_error_hours, 'h')\n"
          ]
        },
        {
          "output_type": "stream",
          "name": "stdout",
          "text": [
            "[************          24%%                      ]  245 of 1015 completed"
          ]
        },
        {
          "output_type": "stream",
          "name": "stderr",
          "text": [
            "/usr/local/lib/python3.11/dist-packages/yfinance/utils.py:788: FutureWarning: The 'unit' keyword in TimedeltaIndex construction is deprecated and will be removed in a future version. Use pd.to_timedelta instead.\n",
            "  df.index += _pd.TimedeltaIndex(dst_error_hours, 'h')\n",
            "/usr/local/lib/python3.11/dist-packages/yfinance/utils.py:788: FutureWarning: The 'unit' keyword in TimedeltaIndex construction is deprecated and will be removed in a future version. Use pd.to_timedelta instead.\n",
            "  df.index += _pd.TimedeltaIndex(dst_error_hours, 'h')\n",
            "/usr/local/lib/python3.11/dist-packages/yfinance/utils.py:788: FutureWarning: The 'unit' keyword in TimedeltaIndex construction is deprecated and will be removed in a future version. Use pd.to_timedelta instead.\n",
            "  df.index += _pd.TimedeltaIndex(dst_error_hours, 'h')\n"
          ]
        },
        {
          "output_type": "stream",
          "name": "stdout",
          "text": [
            "[************          24%%                      ]  247 of 1015 completed"
          ]
        },
        {
          "output_type": "stream",
          "name": "stderr",
          "text": [
            "/usr/local/lib/python3.11/dist-packages/yfinance/utils.py:788: FutureWarning: The 'unit' keyword in TimedeltaIndex construction is deprecated and will be removed in a future version. Use pd.to_timedelta instead.\n",
            "  df.index += _pd.TimedeltaIndex(dst_error_hours, 'h')\n",
            "/usr/local/lib/python3.11/dist-packages/yfinance/utils.py:788: FutureWarning: The 'unit' keyword in TimedeltaIndex construction is deprecated and will be removed in a future version. Use pd.to_timedelta instead.\n",
            "  df.index += _pd.TimedeltaIndex(dst_error_hours, 'h')\n"
          ]
        },
        {
          "output_type": "stream",
          "name": "stdout",
          "text": [
            "[************          25%%                      ]  249 of 1015 completed"
          ]
        },
        {
          "output_type": "stream",
          "name": "stderr",
          "text": [
            "/usr/local/lib/python3.11/dist-packages/yfinance/utils.py:788: FutureWarning: The 'unit' keyword in TimedeltaIndex construction is deprecated and will be removed in a future version. Use pd.to_timedelta instead.\n",
            "  df.index += _pd.TimedeltaIndex(dst_error_hours, 'h')\n",
            "/usr/local/lib/python3.11/dist-packages/yfinance/utils.py:788: FutureWarning: The 'unit' keyword in TimedeltaIndex construction is deprecated and will be removed in a future version. Use pd.to_timedelta instead.\n",
            "  df.index += _pd.TimedeltaIndex(dst_error_hours, 'h')\n",
            "/usr/local/lib/python3.11/dist-packages/yfinance/utils.py:788: FutureWarning: The 'unit' keyword in TimedeltaIndex construction is deprecated and will be removed in a future version. Use pd.to_timedelta instead.\n",
            "  df.index += _pd.TimedeltaIndex(dst_error_hours, 'h')\n"
          ]
        },
        {
          "output_type": "stream",
          "name": "stdout",
          "text": [
            "[************          25%%                      ]  252 of 1015 completed"
          ]
        },
        {
          "output_type": "stream",
          "name": "stderr",
          "text": [
            "/usr/local/lib/python3.11/dist-packages/yfinance/utils.py:788: FutureWarning: The 'unit' keyword in TimedeltaIndex construction is deprecated and will be removed in a future version. Use pd.to_timedelta instead.\n",
            "  df.index += _pd.TimedeltaIndex(dst_error_hours, 'h')\n",
            "/usr/local/lib/python3.11/dist-packages/yfinance/utils.py:788: FutureWarning: The 'unit' keyword in TimedeltaIndex construction is deprecated and will be removed in a future version. Use pd.to_timedelta instead.\n",
            "  df.index += _pd.TimedeltaIndex(dst_error_hours, 'h')\n",
            "/usr/local/lib/python3.11/dist-packages/yfinance/utils.py:788: FutureWarning: The 'unit' keyword in TimedeltaIndex construction is deprecated and will be removed in a future version. Use pd.to_timedelta instead.\n",
            "  df.index += _pd.TimedeltaIndex(dst_error_hours, 'h')\n"
          ]
        },
        {
          "output_type": "stream",
          "name": "stdout",
          "text": [
            "[************          25%%                      ]  255 of 1015 completed"
          ]
        },
        {
          "output_type": "stream",
          "name": "stderr",
          "text": [
            "/usr/local/lib/python3.11/dist-packages/yfinance/utils.py:788: FutureWarning: The 'unit' keyword in TimedeltaIndex construction is deprecated and will be removed in a future version. Use pd.to_timedelta instead.\n",
            "  df.index += _pd.TimedeltaIndex(dst_error_hours, 'h')\n",
            "/usr/local/lib/python3.11/dist-packages/yfinance/utils.py:788: FutureWarning: The 'unit' keyword in TimedeltaIndex construction is deprecated and will be removed in a future version. Use pd.to_timedelta instead.\n",
            "  df.index += _pd.TimedeltaIndex(dst_error_hours, 'h')\n",
            "/usr/local/lib/python3.11/dist-packages/yfinance/utils.py:788: FutureWarning: The 'unit' keyword in TimedeltaIndex construction is deprecated and will be removed in a future version. Use pd.to_timedelta instead.\n",
            "  df.index += _pd.TimedeltaIndex(dst_error_hours, 'h')\n"
          ]
        },
        {
          "output_type": "stream",
          "name": "stdout",
          "text": [
            "[************          25%%                      ]  258 of 1015 completed"
          ]
        },
        {
          "output_type": "stream",
          "name": "stderr",
          "text": [
            "/usr/local/lib/python3.11/dist-packages/yfinance/utils.py:788: FutureWarning: The 'unit' keyword in TimedeltaIndex construction is deprecated and will be removed in a future version. Use pd.to_timedelta instead.\n",
            "  df.index += _pd.TimedeltaIndex(dst_error_hours, 'h')\n",
            "/usr/local/lib/python3.11/dist-packages/yfinance/utils.py:788: FutureWarning: The 'unit' keyword in TimedeltaIndex construction is deprecated and will be removed in a future version. Use pd.to_timedelta instead.\n",
            "  df.index += _pd.TimedeltaIndex(dst_error_hours, 'h')\n"
          ]
        },
        {
          "output_type": "stream",
          "name": "stdout",
          "text": [
            "[************          26%%                      ]  261 of 1015 completed"
          ]
        },
        {
          "output_type": "stream",
          "name": "stderr",
          "text": [
            "/usr/local/lib/python3.11/dist-packages/yfinance/utils.py:788: FutureWarning: The 'unit' keyword in TimedeltaIndex construction is deprecated and will be removed in a future version. Use pd.to_timedelta instead.\n",
            "  df.index += _pd.TimedeltaIndex(dst_error_hours, 'h')\n",
            "/usr/local/lib/python3.11/dist-packages/yfinance/utils.py:788: FutureWarning: The 'unit' keyword in TimedeltaIndex construction is deprecated and will be removed in a future version. Use pd.to_timedelta instead.\n",
            "  df.index += _pd.TimedeltaIndex(dst_error_hours, 'h')\n",
            "/usr/local/lib/python3.11/dist-packages/yfinance/utils.py:788: FutureWarning: The 'unit' keyword in TimedeltaIndex construction is deprecated and will be removed in a future version. Use pd.to_timedelta instead.\n",
            "  df.index += _pd.TimedeltaIndex(dst_error_hours, 'h')\n"
          ]
        },
        {
          "output_type": "stream",
          "name": "stdout",
          "text": [
            "[************          26%%                      ]  263 of 1015 completed"
          ]
        },
        {
          "output_type": "stream",
          "name": "stderr",
          "text": [
            "/usr/local/lib/python3.11/dist-packages/yfinance/utils.py:788: FutureWarning: The 'unit' keyword in TimedeltaIndex construction is deprecated and will be removed in a future version. Use pd.to_timedelta instead.\n",
            "  df.index += _pd.TimedeltaIndex(dst_error_hours, 'h')\n",
            "/usr/local/lib/python3.11/dist-packages/yfinance/utils.py:788: FutureWarning: The 'unit' keyword in TimedeltaIndex construction is deprecated and will be removed in a future version. Use pd.to_timedelta instead.\n",
            "  df.index += _pd.TimedeltaIndex(dst_error_hours, 'h')\n",
            "/usr/local/lib/python3.11/dist-packages/yfinance/utils.py:788: FutureWarning: The 'unit' keyword in TimedeltaIndex construction is deprecated and will be removed in a future version. Use pd.to_timedelta instead.\n",
            "  df.index += _pd.TimedeltaIndex(dst_error_hours, 'h')\n"
          ]
        },
        {
          "output_type": "stream",
          "name": "stdout",
          "text": [
            "[************          26%%                      ]  266 of 1015 completed"
          ]
        },
        {
          "output_type": "stream",
          "name": "stderr",
          "text": [
            "/usr/local/lib/python3.11/dist-packages/yfinance/utils.py:788: FutureWarning: The 'unit' keyword in TimedeltaIndex construction is deprecated and will be removed in a future version. Use pd.to_timedelta instead.\n",
            "  df.index += _pd.TimedeltaIndex(dst_error_hours, 'h')\n",
            "/usr/local/lib/python3.11/dist-packages/yfinance/utils.py:788: FutureWarning: The 'unit' keyword in TimedeltaIndex construction is deprecated and will be removed in a future version. Use pd.to_timedelta instead.\n",
            "  df.index += _pd.TimedeltaIndex(dst_error_hours, 'h')\n",
            "/usr/local/lib/python3.11/dist-packages/yfinance/utils.py:788: FutureWarning: The 'unit' keyword in TimedeltaIndex construction is deprecated and will be removed in a future version. Use pd.to_timedelta instead.\n",
            "  df.index += _pd.TimedeltaIndex(dst_error_hours, 'h')\n"
          ]
        },
        {
          "output_type": "stream",
          "name": "stdout",
          "text": [
            "[*************         27%%                      ]  269 of 1015 completed"
          ]
        },
        {
          "output_type": "stream",
          "name": "stderr",
          "text": [
            "/usr/local/lib/python3.11/dist-packages/yfinance/utils.py:788: FutureWarning: The 'unit' keyword in TimedeltaIndex construction is deprecated and will be removed in a future version. Use pd.to_timedelta instead.\n",
            "  df.index += _pd.TimedeltaIndex(dst_error_hours, 'h')\n",
            "/usr/local/lib/python3.11/dist-packages/yfinance/utils.py:788: FutureWarning: The 'unit' keyword in TimedeltaIndex construction is deprecated and will be removed in a future version. Use pd.to_timedelta instead.\n",
            "  df.index += _pd.TimedeltaIndex(dst_error_hours, 'h')\n"
          ]
        },
        {
          "output_type": "stream",
          "name": "stdout",
          "text": [
            "[*************         27%%                      ]  271 of 1015 completed"
          ]
        },
        {
          "output_type": "stream",
          "name": "stderr",
          "text": [
            "/usr/local/lib/python3.11/dist-packages/yfinance/utils.py:788: FutureWarning: The 'unit' keyword in TimedeltaIndex construction is deprecated and will be removed in a future version. Use pd.to_timedelta instead.\n",
            "  df.index += _pd.TimedeltaIndex(dst_error_hours, 'h')\n",
            "/usr/local/lib/python3.11/dist-packages/yfinance/utils.py:788: FutureWarning: The 'unit' keyword in TimedeltaIndex construction is deprecated and will be removed in a future version. Use pd.to_timedelta instead.\n",
            "  df.index += _pd.TimedeltaIndex(dst_error_hours, 'h')\n",
            "/usr/local/lib/python3.11/dist-packages/yfinance/utils.py:788: FutureWarning: The 'unit' keyword in TimedeltaIndex construction is deprecated and will be removed in a future version. Use pd.to_timedelta instead.\n",
            "  df.index += _pd.TimedeltaIndex(dst_error_hours, 'h')\n",
            "/usr/local/lib/python3.11/dist-packages/yfinance/utils.py:788: FutureWarning: The 'unit' keyword in TimedeltaIndex construction is deprecated and will be removed in a future version. Use pd.to_timedelta instead.\n",
            "  df.index += _pd.TimedeltaIndex(dst_error_hours, 'h')\n"
          ]
        },
        {
          "output_type": "stream",
          "name": "stdout",
          "text": [
            "[*************         27%%                      ]  275 of 1015 completed"
          ]
        },
        {
          "output_type": "stream",
          "name": "stderr",
          "text": [
            "/usr/local/lib/python3.11/dist-packages/yfinance/utils.py:788: FutureWarning: The 'unit' keyword in TimedeltaIndex construction is deprecated and will be removed in a future version. Use pd.to_timedelta instead.\n",
            "  df.index += _pd.TimedeltaIndex(dst_error_hours, 'h')\n",
            "/usr/local/lib/python3.11/dist-packages/yfinance/utils.py:788: FutureWarning: The 'unit' keyword in TimedeltaIndex construction is deprecated and will be removed in a future version. Use pd.to_timedelta instead.\n",
            "  df.index += _pd.TimedeltaIndex(dst_error_hours, 'h')\n"
          ]
        },
        {
          "output_type": "stream",
          "name": "stdout",
          "text": [
            "[*************         27%%                      ]  277 of 1015 completed"
          ]
        },
        {
          "output_type": "stream",
          "name": "stderr",
          "text": [
            "/usr/local/lib/python3.11/dist-packages/yfinance/utils.py:788: FutureWarning: The 'unit' keyword in TimedeltaIndex construction is deprecated and will be removed in a future version. Use pd.to_timedelta instead.\n",
            "  df.index += _pd.TimedeltaIndex(dst_error_hours, 'h')\n",
            "/usr/local/lib/python3.11/dist-packages/yfinance/utils.py:788: FutureWarning: The 'unit' keyword in TimedeltaIndex construction is deprecated and will be removed in a future version. Use pd.to_timedelta instead.\n",
            "  df.index += _pd.TimedeltaIndex(dst_error_hours, 'h')\n"
          ]
        },
        {
          "output_type": "stream",
          "name": "stdout",
          "text": [
            "[*************         27%%                      ]  279 of 1015 completed"
          ]
        },
        {
          "output_type": "stream",
          "name": "stderr",
          "text": [
            "/usr/local/lib/python3.11/dist-packages/yfinance/utils.py:788: FutureWarning: The 'unit' keyword in TimedeltaIndex construction is deprecated and will be removed in a future version. Use pd.to_timedelta instead.\n",
            "  df.index += _pd.TimedeltaIndex(dst_error_hours, 'h')\n",
            "/usr/local/lib/python3.11/dist-packages/yfinance/utils.py:788: FutureWarning: The 'unit' keyword in TimedeltaIndex construction is deprecated and will be removed in a future version. Use pd.to_timedelta instead.\n",
            "  df.index += _pd.TimedeltaIndex(dst_error_hours, 'h')\n",
            "/usr/local/lib/python3.11/dist-packages/yfinance/utils.py:788: FutureWarning: The 'unit' keyword in TimedeltaIndex construction is deprecated and will be removed in a future version. Use pd.to_timedelta instead.\n",
            "  df.index += _pd.TimedeltaIndex(dst_error_hours, 'h')\n"
          ]
        },
        {
          "output_type": "stream",
          "name": "stdout",
          "text": [
            "[*************         28%%                      ]  281 of 1015 completed"
          ]
        },
        {
          "output_type": "stream",
          "name": "stderr",
          "text": [
            "/usr/local/lib/python3.11/dist-packages/yfinance/utils.py:788: FutureWarning: The 'unit' keyword in TimedeltaIndex construction is deprecated and will be removed in a future version. Use pd.to_timedelta instead.\n",
            "  df.index += _pd.TimedeltaIndex(dst_error_hours, 'h')\n",
            "/usr/local/lib/python3.11/dist-packages/yfinance/utils.py:788: FutureWarning: The 'unit' keyword in TimedeltaIndex construction is deprecated and will be removed in a future version. Use pd.to_timedelta instead.\n",
            "  df.index += _pd.TimedeltaIndex(dst_error_hours, 'h')\n"
          ]
        },
        {
          "output_type": "stream",
          "name": "stdout",
          "text": [
            "[*************         28%%                      ]  283 of 1015 completed"
          ]
        },
        {
          "output_type": "stream",
          "name": "stderr",
          "text": [
            "/usr/local/lib/python3.11/dist-packages/yfinance/utils.py:788: FutureWarning: The 'unit' keyword in TimedeltaIndex construction is deprecated and will be removed in a future version. Use pd.to_timedelta instead.\n",
            "  df.index += _pd.TimedeltaIndex(dst_error_hours, 'h')\n",
            "/usr/local/lib/python3.11/dist-packages/yfinance/utils.py:788: FutureWarning: The 'unit' keyword in TimedeltaIndex construction is deprecated and will be removed in a future version. Use pd.to_timedelta instead.\n",
            "  df.index += _pd.TimedeltaIndex(dst_error_hours, 'h')\n"
          ]
        },
        {
          "output_type": "stream",
          "name": "stdout",
          "text": [
            "[*************         28%%                      ]  285 of 1015 completed"
          ]
        },
        {
          "output_type": "stream",
          "name": "stderr",
          "text": [
            "/usr/local/lib/python3.11/dist-packages/yfinance/utils.py:788: FutureWarning: The 'unit' keyword in TimedeltaIndex construction is deprecated and will be removed in a future version. Use pd.to_timedelta instead.\n",
            "  df.index += _pd.TimedeltaIndex(dst_error_hours, 'h')\n",
            "/usr/local/lib/python3.11/dist-packages/yfinance/utils.py:788: FutureWarning: The 'unit' keyword in TimedeltaIndex construction is deprecated and will be removed in a future version. Use pd.to_timedelta instead.\n",
            "  df.index += _pd.TimedeltaIndex(dst_error_hours, 'h')\n",
            "/usr/local/lib/python3.11/dist-packages/yfinance/utils.py:788: FutureWarning: The 'unit' keyword in TimedeltaIndex construction is deprecated and will be removed in a future version. Use pd.to_timedelta instead.\n",
            "  df.index += _pd.TimedeltaIndex(dst_error_hours, 'h')\n"
          ]
        },
        {
          "output_type": "stream",
          "name": "stdout",
          "text": [
            "[*************         28%%                      ]  287 of 1015 completed"
          ]
        },
        {
          "output_type": "stream",
          "name": "stderr",
          "text": [
            "/usr/local/lib/python3.11/dist-packages/yfinance/utils.py:788: FutureWarning: The 'unit' keyword in TimedeltaIndex construction is deprecated and will be removed in a future version. Use pd.to_timedelta instead.\n",
            "  df.index += _pd.TimedeltaIndex(dst_error_hours, 'h')\n"
          ]
        },
        {
          "output_type": "stream",
          "name": "stdout",
          "text": [
            "[*************         28%%                      ]  289 of 1015 completed"
          ]
        },
        {
          "output_type": "stream",
          "name": "stderr",
          "text": [
            "/usr/local/lib/python3.11/dist-packages/yfinance/utils.py:788: FutureWarning: The 'unit' keyword in TimedeltaIndex construction is deprecated and will be removed in a future version. Use pd.to_timedelta instead.\n",
            "  df.index += _pd.TimedeltaIndex(dst_error_hours, 'h')\n"
          ]
        },
        {
          "output_type": "stream",
          "name": "stdout",
          "text": [
            "[**************        29%%                      ]  292 of 1015 completed"
          ]
        },
        {
          "output_type": "stream",
          "name": "stderr",
          "text": [
            "/usr/local/lib/python3.11/dist-packages/yfinance/utils.py:788: FutureWarning: The 'unit' keyword in TimedeltaIndex construction is deprecated and will be removed in a future version. Use pd.to_timedelta instead.\n",
            "  df.index += _pd.TimedeltaIndex(dst_error_hours, 'h')\n",
            "/usr/local/lib/python3.11/dist-packages/yfinance/utils.py:788: FutureWarning: The 'unit' keyword in TimedeltaIndex construction is deprecated and will be removed in a future version. Use pd.to_timedelta instead.\n",
            "  df.index += _pd.TimedeltaIndex(dst_error_hours, 'h')\n",
            "/usr/local/lib/python3.11/dist-packages/yfinance/utils.py:788: FutureWarning: The 'unit' keyword in TimedeltaIndex construction is deprecated and will be removed in a future version. Use pd.to_timedelta instead.\n",
            "  df.index += _pd.TimedeltaIndex(dst_error_hours, 'h')\n"
          ]
        },
        {
          "output_type": "stream",
          "name": "stdout",
          "text": [
            "[**************        29%%                      ]  294 of 1015 completed"
          ]
        },
        {
          "output_type": "stream",
          "name": "stderr",
          "text": [
            "/usr/local/lib/python3.11/dist-packages/yfinance/utils.py:788: FutureWarning: The 'unit' keyword in TimedeltaIndex construction is deprecated and will be removed in a future version. Use pd.to_timedelta instead.\n",
            "  df.index += _pd.TimedeltaIndex(dst_error_hours, 'h')\n",
            "/usr/local/lib/python3.11/dist-packages/yfinance/utils.py:788: FutureWarning: The 'unit' keyword in TimedeltaIndex construction is deprecated and will be removed in a future version. Use pd.to_timedelta instead.\n",
            "  df.index += _pd.TimedeltaIndex(dst_error_hours, 'h')\n"
          ]
        },
        {
          "output_type": "stream",
          "name": "stdout",
          "text": [
            "[**************        29%%                      ]  296 of 1015 completed"
          ]
        },
        {
          "output_type": "stream",
          "name": "stderr",
          "text": [
            "/usr/local/lib/python3.11/dist-packages/yfinance/utils.py:788: FutureWarning: The 'unit' keyword in TimedeltaIndex construction is deprecated and will be removed in a future version. Use pd.to_timedelta instead.\n",
            "  df.index += _pd.TimedeltaIndex(dst_error_hours, 'h')\n",
            "/usr/local/lib/python3.11/dist-packages/yfinance/utils.py:788: FutureWarning: The 'unit' keyword in TimedeltaIndex construction is deprecated and will be removed in a future version. Use pd.to_timedelta instead.\n",
            "  df.index += _pd.TimedeltaIndex(dst_error_hours, 'h')\n"
          ]
        },
        {
          "output_type": "stream",
          "name": "stdout",
          "text": [
            "[**************        29%%                      ]  298 of 1015 completed"
          ]
        },
        {
          "output_type": "stream",
          "name": "stderr",
          "text": [
            "/usr/local/lib/python3.11/dist-packages/yfinance/utils.py:788: FutureWarning: The 'unit' keyword in TimedeltaIndex construction is deprecated and will be removed in a future version. Use pd.to_timedelta instead.\n",
            "  df.index += _pd.TimedeltaIndex(dst_error_hours, 'h')\n",
            "/usr/local/lib/python3.11/dist-packages/yfinance/utils.py:788: FutureWarning: The 'unit' keyword in TimedeltaIndex construction is deprecated and will be removed in a future version. Use pd.to_timedelta instead.\n",
            "  df.index += _pd.TimedeltaIndex(dst_error_hours, 'h')\n",
            "/usr/local/lib/python3.11/dist-packages/yfinance/utils.py:788: FutureWarning: The 'unit' keyword in TimedeltaIndex construction is deprecated and will be removed in a future version. Use pd.to_timedelta instead.\n",
            "  df.index += _pd.TimedeltaIndex(dst_error_hours, 'h')\n"
          ]
        },
        {
          "output_type": "stream",
          "name": "stdout",
          "text": [
            "[**************        30%%                      ]  300 of 1015 completed"
          ]
        },
        {
          "output_type": "stream",
          "name": "stderr",
          "text": [
            "/usr/local/lib/python3.11/dist-packages/yfinance/utils.py:788: FutureWarning: The 'unit' keyword in TimedeltaIndex construction is deprecated and will be removed in a future version. Use pd.to_timedelta instead.\n",
            "  df.index += _pd.TimedeltaIndex(dst_error_hours, 'h')\n",
            "/usr/local/lib/python3.11/dist-packages/yfinance/utils.py:788: FutureWarning: The 'unit' keyword in TimedeltaIndex construction is deprecated and will be removed in a future version. Use pd.to_timedelta instead.\n",
            "  df.index += _pd.TimedeltaIndex(dst_error_hours, 'h')\n"
          ]
        },
        {
          "output_type": "stream",
          "name": "stdout",
          "text": [
            "[**************        30%%                      ]  302 of 1015 completed"
          ]
        },
        {
          "output_type": "stream",
          "name": "stderr",
          "text": [
            "/usr/local/lib/python3.11/dist-packages/yfinance/utils.py:788: FutureWarning: The 'unit' keyword in TimedeltaIndex construction is deprecated and will be removed in a future version. Use pd.to_timedelta instead.\n",
            "  df.index += _pd.TimedeltaIndex(dst_error_hours, 'h')\n",
            "/usr/local/lib/python3.11/dist-packages/yfinance/utils.py:788: FutureWarning: The 'unit' keyword in TimedeltaIndex construction is deprecated and will be removed in a future version. Use pd.to_timedelta instead.\n",
            "  df.index += _pd.TimedeltaIndex(dst_error_hours, 'h')\n"
          ]
        },
        {
          "output_type": "stream",
          "name": "stdout",
          "text": [
            "[**************        30%%                      ]  304 of 1015 completed"
          ]
        },
        {
          "output_type": "stream",
          "name": "stderr",
          "text": [
            "/usr/local/lib/python3.11/dist-packages/yfinance/utils.py:788: FutureWarning: The 'unit' keyword in TimedeltaIndex construction is deprecated and will be removed in a future version. Use pd.to_timedelta instead.\n",
            "  df.index += _pd.TimedeltaIndex(dst_error_hours, 'h')\n"
          ]
        },
        {
          "output_type": "stream",
          "name": "stdout",
          "text": [
            "[**************        30%%                      ]  306 of 1015 completed"
          ]
        },
        {
          "output_type": "stream",
          "name": "stderr",
          "text": [
            "/usr/local/lib/python3.11/dist-packages/yfinance/utils.py:788: FutureWarning: The 'unit' keyword in TimedeltaIndex construction is deprecated and will be removed in a future version. Use pd.to_timedelta instead.\n",
            "  df.index += _pd.TimedeltaIndex(dst_error_hours, 'h')\n",
            "/usr/local/lib/python3.11/dist-packages/yfinance/utils.py:788: FutureWarning: The 'unit' keyword in TimedeltaIndex construction is deprecated and will be removed in a future version. Use pd.to_timedelta instead.\n",
            "  df.index += _pd.TimedeltaIndex(dst_error_hours, 'h')\n",
            "/usr/local/lib/python3.11/dist-packages/yfinance/utils.py:788: FutureWarning: The 'unit' keyword in TimedeltaIndex construction is deprecated and will be removed in a future version. Use pd.to_timedelta instead.\n",
            "  df.index += _pd.TimedeltaIndex(dst_error_hours, 'h')\n"
          ]
        },
        {
          "output_type": "stream",
          "name": "stdout",
          "text": [
            "[**************        30%%                      ]  309 of 1015 completed"
          ]
        },
        {
          "output_type": "stream",
          "name": "stderr",
          "text": [
            "/usr/local/lib/python3.11/dist-packages/yfinance/utils.py:788: FutureWarning: The 'unit' keyword in TimedeltaIndex construction is deprecated and will be removed in a future version. Use pd.to_timedelta instead.\n",
            "  df.index += _pd.TimedeltaIndex(dst_error_hours, 'h')\n",
            "/usr/local/lib/python3.11/dist-packages/yfinance/utils.py:788: FutureWarning: The 'unit' keyword in TimedeltaIndex construction is deprecated and will be removed in a future version. Use pd.to_timedelta instead.\n",
            "  df.index += _pd.TimedeltaIndex(dst_error_hours, 'h')\n",
            "/usr/local/lib/python3.11/dist-packages/yfinance/utils.py:788: FutureWarning: The 'unit' keyword in TimedeltaIndex construction is deprecated and will be removed in a future version. Use pd.to_timedelta instead.\n",
            "  df.index += _pd.TimedeltaIndex(dst_error_hours, 'h')\n"
          ]
        },
        {
          "output_type": "stream",
          "name": "stdout",
          "text": [
            "[***************       31%%                      ]  312 of 1015 completed"
          ]
        },
        {
          "output_type": "stream",
          "name": "stderr",
          "text": [
            "/usr/local/lib/python3.11/dist-packages/yfinance/utils.py:788: FutureWarning: The 'unit' keyword in TimedeltaIndex construction is deprecated and will be removed in a future version. Use pd.to_timedelta instead.\n",
            "  df.index += _pd.TimedeltaIndex(dst_error_hours, 'h')\n",
            "/usr/local/lib/python3.11/dist-packages/yfinance/utils.py:788: FutureWarning: The 'unit' keyword in TimedeltaIndex construction is deprecated and will be removed in a future version. Use pd.to_timedelta instead.\n",
            "  df.index += _pd.TimedeltaIndex(dst_error_hours, 'h')\n",
            "/usr/local/lib/python3.11/dist-packages/yfinance/utils.py:788: FutureWarning: The 'unit' keyword in TimedeltaIndex construction is deprecated and will be removed in a future version. Use pd.to_timedelta instead.\n",
            "  df.index += _pd.TimedeltaIndex(dst_error_hours, 'h')\n"
          ]
        },
        {
          "output_type": "stream",
          "name": "stdout",
          "text": [
            "[***************       31%%                      ]  315 of 1015 completed"
          ]
        },
        {
          "output_type": "stream",
          "name": "stderr",
          "text": [
            "/usr/local/lib/python3.11/dist-packages/yfinance/utils.py:788: FutureWarning: The 'unit' keyword in TimedeltaIndex construction is deprecated and will be removed in a future version. Use pd.to_timedelta instead.\n",
            "  df.index += _pd.TimedeltaIndex(dst_error_hours, 'h')\n",
            "/usr/local/lib/python3.11/dist-packages/yfinance/utils.py:788: FutureWarning: The 'unit' keyword in TimedeltaIndex construction is deprecated and will be removed in a future version. Use pd.to_timedelta instead.\n",
            "  df.index += _pd.TimedeltaIndex(dst_error_hours, 'h')\n"
          ]
        },
        {
          "output_type": "stream",
          "name": "stdout",
          "text": [
            "\r[***************       31%%                      ]  316 of 1015 completed"
          ]
        },
        {
          "output_type": "stream",
          "name": "stderr",
          "text": [
            "/usr/local/lib/python3.11/dist-packages/yfinance/utils.py:788: FutureWarning: The 'unit' keyword in TimedeltaIndex construction is deprecated and will be removed in a future version. Use pd.to_timedelta instead.\n",
            "  df.index += _pd.TimedeltaIndex(dst_error_hours, 'h')\n"
          ]
        },
        {
          "output_type": "stream",
          "name": "stdout",
          "text": [
            "[***************       31%%                      ]  318 of 1015 completed"
          ]
        },
        {
          "output_type": "stream",
          "name": "stderr",
          "text": [
            "/usr/local/lib/python3.11/dist-packages/yfinance/utils.py:788: FutureWarning: The 'unit' keyword in TimedeltaIndex construction is deprecated and will be removed in a future version. Use pd.to_timedelta instead.\n",
            "  df.index += _pd.TimedeltaIndex(dst_error_hours, 'h')\n",
            "/usr/local/lib/python3.11/dist-packages/yfinance/utils.py:788: FutureWarning: The 'unit' keyword in TimedeltaIndex construction is deprecated and will be removed in a future version. Use pd.to_timedelta instead.\n",
            "  df.index += _pd.TimedeltaIndex(dst_error_hours, 'h')\n"
          ]
        },
        {
          "output_type": "stream",
          "name": "stdout",
          "text": [
            "[***************       32%%                      ]  320 of 1015 completed"
          ]
        },
        {
          "output_type": "stream",
          "name": "stderr",
          "text": [
            "/usr/local/lib/python3.11/dist-packages/yfinance/utils.py:788: FutureWarning: The 'unit' keyword in TimedeltaIndex construction is deprecated and will be removed in a future version. Use pd.to_timedelta instead.\n",
            "  df.index += _pd.TimedeltaIndex(dst_error_hours, 'h')\n",
            "/usr/local/lib/python3.11/dist-packages/yfinance/utils.py:788: FutureWarning: The 'unit' keyword in TimedeltaIndex construction is deprecated and will be removed in a future version. Use pd.to_timedelta instead.\n",
            "  df.index += _pd.TimedeltaIndex(dst_error_hours, 'h')\n"
          ]
        },
        {
          "output_type": "stream",
          "name": "stdout",
          "text": [
            "[***************       32%%                      ]  321 of 1015 completed"
          ]
        },
        {
          "output_type": "stream",
          "name": "stderr",
          "text": [
            "/usr/local/lib/python3.11/dist-packages/yfinance/utils.py:788: FutureWarning: The 'unit' keyword in TimedeltaIndex construction is deprecated and will be removed in a future version. Use pd.to_timedelta instead.\n",
            "  df.index += _pd.TimedeltaIndex(dst_error_hours, 'h')\n",
            "/usr/local/lib/python3.11/dist-packages/yfinance/utils.py:788: FutureWarning: The 'unit' keyword in TimedeltaIndex construction is deprecated and will be removed in a future version. Use pd.to_timedelta instead.\n",
            "  df.index += _pd.TimedeltaIndex(dst_error_hours, 'h')\n"
          ]
        },
        {
          "output_type": "stream",
          "name": "stdout",
          "text": [
            "[***************       32%%                      ]  325 of 1015 completed"
          ]
        },
        {
          "output_type": "stream",
          "name": "stderr",
          "text": [
            "/usr/local/lib/python3.11/dist-packages/yfinance/utils.py:788: FutureWarning: The 'unit' keyword in TimedeltaIndex construction is deprecated and will be removed in a future version. Use pd.to_timedelta instead.\n",
            "  df.index += _pd.TimedeltaIndex(dst_error_hours, 'h')\n",
            "/usr/local/lib/python3.11/dist-packages/yfinance/utils.py:788: FutureWarning: The 'unit' keyword in TimedeltaIndex construction is deprecated and will be removed in a future version. Use pd.to_timedelta instead.\n",
            "  df.index += _pd.TimedeltaIndex(dst_error_hours, 'h')\n",
            "/usr/local/lib/python3.11/dist-packages/yfinance/utils.py:788: FutureWarning: The 'unit' keyword in TimedeltaIndex construction is deprecated and will be removed in a future version. Use pd.to_timedelta instead.\n",
            "  df.index += _pd.TimedeltaIndex(dst_error_hours, 'h')\n"
          ]
        },
        {
          "output_type": "stream",
          "name": "stdout",
          "text": [
            "[***************       32%%                      ]  327 of 1015 completed"
          ]
        },
        {
          "output_type": "stream",
          "name": "stderr",
          "text": [
            "/usr/local/lib/python3.11/dist-packages/yfinance/utils.py:788: FutureWarning: The 'unit' keyword in TimedeltaIndex construction is deprecated and will be removed in a future version. Use pd.to_timedelta instead.\n",
            "  df.index += _pd.TimedeltaIndex(dst_error_hours, 'h')\n",
            "/usr/local/lib/python3.11/dist-packages/yfinance/utils.py:788: FutureWarning: The 'unit' keyword in TimedeltaIndex construction is deprecated and will be removed in a future version. Use pd.to_timedelta instead.\n",
            "  df.index += _pd.TimedeltaIndex(dst_error_hours, 'h')\n",
            "/usr/local/lib/python3.11/dist-packages/yfinance/utils.py:788: FutureWarning: The 'unit' keyword in TimedeltaIndex construction is deprecated and will be removed in a future version. Use pd.to_timedelta instead.\n",
            "  df.index += _pd.TimedeltaIndex(dst_error_hours, 'h')\n"
          ]
        },
        {
          "output_type": "stream",
          "name": "stdout",
          "text": [
            "[****************      33%%                      ]  330 of 1015 completed"
          ]
        },
        {
          "output_type": "stream",
          "name": "stderr",
          "text": [
            "/usr/local/lib/python3.11/dist-packages/yfinance/utils.py:788: FutureWarning: The 'unit' keyword in TimedeltaIndex construction is deprecated and will be removed in a future version. Use pd.to_timedelta instead.\n",
            "  df.index += _pd.TimedeltaIndex(dst_error_hours, 'h')\n",
            "/usr/local/lib/python3.11/dist-packages/yfinance/utils.py:788: FutureWarning: The 'unit' keyword in TimedeltaIndex construction is deprecated and will be removed in a future version. Use pd.to_timedelta instead.\n",
            "  df.index += _pd.TimedeltaIndex(dst_error_hours, 'h')\n"
          ]
        },
        {
          "output_type": "stream",
          "name": "stdout",
          "text": [
            "[****************      33%%                      ]  333 of 1015 completed"
          ]
        },
        {
          "output_type": "stream",
          "name": "stderr",
          "text": [
            "/usr/local/lib/python3.11/dist-packages/yfinance/utils.py:788: FutureWarning: The 'unit' keyword in TimedeltaIndex construction is deprecated and will be removed in a future version. Use pd.to_timedelta instead.\n",
            "  df.index += _pd.TimedeltaIndex(dst_error_hours, 'h')\n",
            "/usr/local/lib/python3.11/dist-packages/yfinance/utils.py:788: FutureWarning: The 'unit' keyword in TimedeltaIndex construction is deprecated and will be removed in a future version. Use pd.to_timedelta instead.\n",
            "  df.index += _pd.TimedeltaIndex(dst_error_hours, 'h')\n",
            "/usr/local/lib/python3.11/dist-packages/yfinance/utils.py:788: FutureWarning: The 'unit' keyword in TimedeltaIndex construction is deprecated and will be removed in a future version. Use pd.to_timedelta instead.\n",
            "  df.index += _pd.TimedeltaIndex(dst_error_hours, 'h')\n"
          ]
        },
        {
          "output_type": "stream",
          "name": "stdout",
          "text": [
            "[****************      33%%                      ]  334 of 1015 completed"
          ]
        },
        {
          "output_type": "stream",
          "name": "stderr",
          "text": [
            "/usr/local/lib/python3.11/dist-packages/yfinance/utils.py:788: FutureWarning: The 'unit' keyword in TimedeltaIndex construction is deprecated and will be removed in a future version. Use pd.to_timedelta instead.\n",
            "  df.index += _pd.TimedeltaIndex(dst_error_hours, 'h')\n",
            "/usr/local/lib/python3.11/dist-packages/yfinance/utils.py:788: FutureWarning: The 'unit' keyword in TimedeltaIndex construction is deprecated and will be removed in a future version. Use pd.to_timedelta instead.\n",
            "  df.index += _pd.TimedeltaIndex(dst_error_hours, 'h')\n",
            "/usr/local/lib/python3.11/dist-packages/yfinance/utils.py:788: FutureWarning: The 'unit' keyword in TimedeltaIndex construction is deprecated and will be removed in a future version. Use pd.to_timedelta instead.\n",
            "  df.index += _pd.TimedeltaIndex(dst_error_hours, 'h')\n"
          ]
        },
        {
          "output_type": "stream",
          "name": "stdout",
          "text": [
            "[****************      33%%                      ]  337 of 1015 completed"
          ]
        },
        {
          "output_type": "stream",
          "name": "stderr",
          "text": [
            "/usr/local/lib/python3.11/dist-packages/yfinance/utils.py:788: FutureWarning: The 'unit' keyword in TimedeltaIndex construction is deprecated and will be removed in a future version. Use pd.to_timedelta instead.\n",
            "  df.index += _pd.TimedeltaIndex(dst_error_hours, 'h')\n"
          ]
        },
        {
          "output_type": "stream",
          "name": "stdout",
          "text": [
            "[****************      34%%                      ]  341 of 1015 completed"
          ]
        },
        {
          "output_type": "stream",
          "name": "stderr",
          "text": [
            "/usr/local/lib/python3.11/dist-packages/yfinance/utils.py:788: FutureWarning: The 'unit' keyword in TimedeltaIndex construction is deprecated and will be removed in a future version. Use pd.to_timedelta instead.\n",
            "  df.index += _pd.TimedeltaIndex(dst_error_hours, 'h')\n",
            "/usr/local/lib/python3.11/dist-packages/yfinance/utils.py:788: FutureWarning: The 'unit' keyword in TimedeltaIndex construction is deprecated and will be removed in a future version. Use pd.to_timedelta instead.\n",
            "  df.index += _pd.TimedeltaIndex(dst_error_hours, 'h')\n",
            "/usr/local/lib/python3.11/dist-packages/yfinance/utils.py:788: FutureWarning: The 'unit' keyword in TimedeltaIndex construction is deprecated and will be removed in a future version. Use pd.to_timedelta instead.\n",
            "  df.index += _pd.TimedeltaIndex(dst_error_hours, 'h')\n",
            "/usr/local/lib/python3.11/dist-packages/yfinance/utils.py:788: FutureWarning: The 'unit' keyword in TimedeltaIndex construction is deprecated and will be removed in a future version. Use pd.to_timedelta instead.\n",
            "  df.index += _pd.TimedeltaIndex(dst_error_hours, 'h')\n"
          ]
        },
        {
          "output_type": "stream",
          "name": "stdout",
          "text": [
            "[****************      34%%                      ]  343 of 1015 completed"
          ]
        },
        {
          "output_type": "stream",
          "name": "stderr",
          "text": [
            "/usr/local/lib/python3.11/dist-packages/yfinance/utils.py:788: FutureWarning: The 'unit' keyword in TimedeltaIndex construction is deprecated and will be removed in a future version. Use pd.to_timedelta instead.\n",
            "  df.index += _pd.TimedeltaIndex(dst_error_hours, 'h')\n",
            "/usr/local/lib/python3.11/dist-packages/yfinance/utils.py:788: FutureWarning: The 'unit' keyword in TimedeltaIndex construction is deprecated and will be removed in a future version. Use pd.to_timedelta instead.\n",
            "  df.index += _pd.TimedeltaIndex(dst_error_hours, 'h')\n",
            "/usr/local/lib/python3.11/dist-packages/yfinance/utils.py:788: FutureWarning: The 'unit' keyword in TimedeltaIndex construction is deprecated and will be removed in a future version. Use pd.to_timedelta instead.\n",
            "  df.index += _pd.TimedeltaIndex(dst_error_hours, 'h')\n"
          ]
        },
        {
          "output_type": "stream",
          "name": "stdout",
          "text": [
            "[****************      34%%                      ]  347 of 1015 completed"
          ]
        },
        {
          "output_type": "stream",
          "name": "stderr",
          "text": [
            "/usr/local/lib/python3.11/dist-packages/yfinance/utils.py:788: FutureWarning: The 'unit' keyword in TimedeltaIndex construction is deprecated and will be removed in a future version. Use pd.to_timedelta instead.\n",
            "  df.index += _pd.TimedeltaIndex(dst_error_hours, 'h')\n",
            "/usr/local/lib/python3.11/dist-packages/yfinance/utils.py:788: FutureWarning: The 'unit' keyword in TimedeltaIndex construction is deprecated and will be removed in a future version. Use pd.to_timedelta instead.\n",
            "  df.index += _pd.TimedeltaIndex(dst_error_hours, 'h')\n",
            "/usr/local/lib/python3.11/dist-packages/yfinance/utils.py:788: FutureWarning: The 'unit' keyword in TimedeltaIndex construction is deprecated and will be removed in a future version. Use pd.to_timedelta instead.\n",
            "  df.index += _pd.TimedeltaIndex(dst_error_hours, 'h')\n"
          ]
        },
        {
          "output_type": "stream",
          "name": "stdout",
          "text": [
            "[****************      34%%                      ]  349 of 1015 completed"
          ]
        },
        {
          "output_type": "stream",
          "name": "stderr",
          "text": [
            "/usr/local/lib/python3.11/dist-packages/yfinance/utils.py:788: FutureWarning: The 'unit' keyword in TimedeltaIndex construction is deprecated and will be removed in a future version. Use pd.to_timedelta instead.\n",
            "  df.index += _pd.TimedeltaIndex(dst_error_hours, 'h')\n",
            "/usr/local/lib/python3.11/dist-packages/yfinance/utils.py:788: FutureWarning: The 'unit' keyword in TimedeltaIndex construction is deprecated and will be removed in a future version. Use pd.to_timedelta instead.\n",
            "  df.index += _pd.TimedeltaIndex(dst_error_hours, 'h')\n"
          ]
        },
        {
          "output_type": "stream",
          "name": "stdout",
          "text": [
            "[*****************     35%%                      ]  351 of 1015 completed"
          ]
        },
        {
          "output_type": "stream",
          "name": "stderr",
          "text": [
            "/usr/local/lib/python3.11/dist-packages/yfinance/utils.py:788: FutureWarning: The 'unit' keyword in TimedeltaIndex construction is deprecated and will be removed in a future version. Use pd.to_timedelta instead.\n",
            "  df.index += _pd.TimedeltaIndex(dst_error_hours, 'h')\n",
            "/usr/local/lib/python3.11/dist-packages/yfinance/utils.py:788: FutureWarning: The 'unit' keyword in TimedeltaIndex construction is deprecated and will be removed in a future version. Use pd.to_timedelta instead.\n",
            "  df.index += _pd.TimedeltaIndex(dst_error_hours, 'h')\n",
            "/usr/local/lib/python3.11/dist-packages/yfinance/utils.py:788: FutureWarning: The 'unit' keyword in TimedeltaIndex construction is deprecated and will be removed in a future version. Use pd.to_timedelta instead.\n",
            "  df.index += _pd.TimedeltaIndex(dst_error_hours, 'h')\n"
          ]
        },
        {
          "output_type": "stream",
          "name": "stdout",
          "text": [
            "[*****************     35%%                      ]  355 of 1015 completed"
          ]
        },
        {
          "output_type": "stream",
          "name": "stderr",
          "text": [
            "/usr/local/lib/python3.11/dist-packages/yfinance/utils.py:788: FutureWarning: The 'unit' keyword in TimedeltaIndex construction is deprecated and will be removed in a future version. Use pd.to_timedelta instead.\n",
            "  df.index += _pd.TimedeltaIndex(dst_error_hours, 'h')\n",
            "/usr/local/lib/python3.11/dist-packages/yfinance/utils.py:788: FutureWarning: The 'unit' keyword in TimedeltaIndex construction is deprecated and will be removed in a future version. Use pd.to_timedelta instead.\n",
            "  df.index += _pd.TimedeltaIndex(dst_error_hours, 'h')\n",
            "/usr/local/lib/python3.11/dist-packages/yfinance/utils.py:788: FutureWarning: The 'unit' keyword in TimedeltaIndex construction is deprecated and will be removed in a future version. Use pd.to_timedelta instead.\n",
            "  df.index += _pd.TimedeltaIndex(dst_error_hours, 'h')\n"
          ]
        },
        {
          "output_type": "stream",
          "name": "stdout",
          "text": [
            "[*****************     35%%                      ]  359 of 1015 completed"
          ]
        },
        {
          "output_type": "stream",
          "name": "stderr",
          "text": [
            "/usr/local/lib/python3.11/dist-packages/yfinance/utils.py:788: FutureWarning: The 'unit' keyword in TimedeltaIndex construction is deprecated and will be removed in a future version. Use pd.to_timedelta instead.\n",
            "  df.index += _pd.TimedeltaIndex(dst_error_hours, 'h')\n",
            "/usr/local/lib/python3.11/dist-packages/yfinance/utils.py:788: FutureWarning: The 'unit' keyword in TimedeltaIndex construction is deprecated and will be removed in a future version. Use pd.to_timedelta instead.\n",
            "  df.index += _pd.TimedeltaIndex(dst_error_hours, 'h')\n",
            "/usr/local/lib/python3.11/dist-packages/yfinance/utils.py:788: FutureWarning: The 'unit' keyword in TimedeltaIndex construction is deprecated and will be removed in a future version. Use pd.to_timedelta instead.\n",
            "  df.index += _pd.TimedeltaIndex(dst_error_hours, 'h')\n",
            "/usr/local/lib/python3.11/dist-packages/yfinance/utils.py:788: FutureWarning: The 'unit' keyword in TimedeltaIndex construction is deprecated and will be removed in a future version. Use pd.to_timedelta instead.\n",
            "  df.index += _pd.TimedeltaIndex(dst_error_hours, 'h')\n"
          ]
        },
        {
          "output_type": "stream",
          "name": "stdout",
          "text": [
            "[*****************     36%%                      ]  362 of 1015 completed"
          ]
        },
        {
          "output_type": "stream",
          "name": "stderr",
          "text": [
            "/usr/local/lib/python3.11/dist-packages/yfinance/utils.py:788: FutureWarning: The 'unit' keyword in TimedeltaIndex construction is deprecated and will be removed in a future version. Use pd.to_timedelta instead.\n",
            "  df.index += _pd.TimedeltaIndex(dst_error_hours, 'h')\n",
            "/usr/local/lib/python3.11/dist-packages/yfinance/utils.py:788: FutureWarning: The 'unit' keyword in TimedeltaIndex construction is deprecated and will be removed in a future version. Use pd.to_timedelta instead.\n",
            "  df.index += _pd.TimedeltaIndex(dst_error_hours, 'h')\n",
            "/usr/local/lib/python3.11/dist-packages/yfinance/utils.py:788: FutureWarning: The 'unit' keyword in TimedeltaIndex construction is deprecated and will be removed in a future version. Use pd.to_timedelta instead.\n",
            "  df.index += _pd.TimedeltaIndex(dst_error_hours, 'h')\n"
          ]
        },
        {
          "output_type": "stream",
          "name": "stdout",
          "text": [
            "[*****************     36%%                      ]  365 of 1015 completed"
          ]
        },
        {
          "output_type": "stream",
          "name": "stderr",
          "text": [
            "/usr/local/lib/python3.11/dist-packages/yfinance/utils.py:788: FutureWarning: The 'unit' keyword in TimedeltaIndex construction is deprecated and will be removed in a future version. Use pd.to_timedelta instead.\n",
            "  df.index += _pd.TimedeltaIndex(dst_error_hours, 'h')\n",
            "/usr/local/lib/python3.11/dist-packages/yfinance/utils.py:788: FutureWarning: The 'unit' keyword in TimedeltaIndex construction is deprecated and will be removed in a future version. Use pd.to_timedelta instead.\n",
            "  df.index += _pd.TimedeltaIndex(dst_error_hours, 'h')\n",
            "/usr/local/lib/python3.11/dist-packages/yfinance/utils.py:788: FutureWarning: The 'unit' keyword in TimedeltaIndex construction is deprecated and will be removed in a future version. Use pd.to_timedelta instead.\n",
            "  df.index += _pd.TimedeltaIndex(dst_error_hours, 'h')\n"
          ]
        },
        {
          "output_type": "stream",
          "name": "stdout",
          "text": [
            "[*****************     36%%                      ]  367 of 1015 completed"
          ]
        },
        {
          "output_type": "stream",
          "name": "stderr",
          "text": [
            "/usr/local/lib/python3.11/dist-packages/yfinance/utils.py:788: FutureWarning: The 'unit' keyword in TimedeltaIndex construction is deprecated and will be removed in a future version. Use pd.to_timedelta instead.\n",
            "  df.index += _pd.TimedeltaIndex(dst_error_hours, 'h')\n",
            "/usr/local/lib/python3.11/dist-packages/yfinance/utils.py:788: FutureWarning: The 'unit' keyword in TimedeltaIndex construction is deprecated and will be removed in a future version. Use pd.to_timedelta instead.\n",
            "  df.index += _pd.TimedeltaIndex(dst_error_hours, 'h')\n",
            "/usr/local/lib/python3.11/dist-packages/yfinance/utils.py:788: FutureWarning: The 'unit' keyword in TimedeltaIndex construction is deprecated and will be removed in a future version. Use pd.to_timedelta instead.\n",
            "  df.index += _pd.TimedeltaIndex(dst_error_hours, 'h')\n"
          ]
        },
        {
          "output_type": "stream",
          "name": "stdout",
          "text": [
            "[******************    37%%                      ]  371 of 1015 completed"
          ]
        },
        {
          "output_type": "stream",
          "name": "stderr",
          "text": [
            "/usr/local/lib/python3.11/dist-packages/yfinance/utils.py:788: FutureWarning: The 'unit' keyword in TimedeltaIndex construction is deprecated and will be removed in a future version. Use pd.to_timedelta instead.\n",
            "  df.index += _pd.TimedeltaIndex(dst_error_hours, 'h')\n",
            "/usr/local/lib/python3.11/dist-packages/yfinance/utils.py:788: FutureWarning: The 'unit' keyword in TimedeltaIndex construction is deprecated and will be removed in a future version. Use pd.to_timedelta instead.\n",
            "  df.index += _pd.TimedeltaIndex(dst_error_hours, 'h')\n",
            "/usr/local/lib/python3.11/dist-packages/yfinance/utils.py:788: FutureWarning: The 'unit' keyword in TimedeltaIndex construction is deprecated and will be removed in a future version. Use pd.to_timedelta instead.\n",
            "  df.index += _pd.TimedeltaIndex(dst_error_hours, 'h')\n"
          ]
        },
        {
          "output_type": "stream",
          "name": "stdout",
          "text": [
            "[******************    37%%                      ]  374 of 1015 completed"
          ]
        },
        {
          "output_type": "stream",
          "name": "stderr",
          "text": [
            "/usr/local/lib/python3.11/dist-packages/yfinance/utils.py:788: FutureWarning: The 'unit' keyword in TimedeltaIndex construction is deprecated and will be removed in a future version. Use pd.to_timedelta instead.\n",
            "  df.index += _pd.TimedeltaIndex(dst_error_hours, 'h')\n",
            "/usr/local/lib/python3.11/dist-packages/yfinance/utils.py:788: FutureWarning: The 'unit' keyword in TimedeltaIndex construction is deprecated and will be removed in a future version. Use pd.to_timedelta instead.\n",
            "  df.index += _pd.TimedeltaIndex(dst_error_hours, 'h')\n",
            "/usr/local/lib/python3.11/dist-packages/yfinance/utils.py:788: FutureWarning: The 'unit' keyword in TimedeltaIndex construction is deprecated and will be removed in a future version. Use pd.to_timedelta instead.\n",
            "  df.index += _pd.TimedeltaIndex(dst_error_hours, 'h')\n"
          ]
        },
        {
          "output_type": "stream",
          "name": "stdout",
          "text": [
            "[******************    37%%                      ]  376 of 1015 completed"
          ]
        },
        {
          "output_type": "stream",
          "name": "stderr",
          "text": [
            "/usr/local/lib/python3.11/dist-packages/yfinance/utils.py:788: FutureWarning: The 'unit' keyword in TimedeltaIndex construction is deprecated and will be removed in a future version. Use pd.to_timedelta instead.\n",
            "  df.index += _pd.TimedeltaIndex(dst_error_hours, 'h')\n",
            "/usr/local/lib/python3.11/dist-packages/yfinance/utils.py:788: FutureWarning: The 'unit' keyword in TimedeltaIndex construction is deprecated and will be removed in a future version. Use pd.to_timedelta instead.\n",
            "  df.index += _pd.TimedeltaIndex(dst_error_hours, 'h')\n"
          ]
        },
        {
          "output_type": "stream",
          "name": "stdout",
          "text": [
            "[******************    37%%                      ]  379 of 1015 completed"
          ]
        },
        {
          "output_type": "stream",
          "name": "stderr",
          "text": [
            "/usr/local/lib/python3.11/dist-packages/yfinance/utils.py:788: FutureWarning: The 'unit' keyword in TimedeltaIndex construction is deprecated and will be removed in a future version. Use pd.to_timedelta instead.\n",
            "  df.index += _pd.TimedeltaIndex(dst_error_hours, 'h')\n",
            "/usr/local/lib/python3.11/dist-packages/yfinance/utils.py:788: FutureWarning: The 'unit' keyword in TimedeltaIndex construction is deprecated and will be removed in a future version. Use pd.to_timedelta instead.\n",
            "  df.index += _pd.TimedeltaIndex(dst_error_hours, 'h')\n",
            "/usr/local/lib/python3.11/dist-packages/yfinance/utils.py:788: FutureWarning: The 'unit' keyword in TimedeltaIndex construction is deprecated and will be removed in a future version. Use pd.to_timedelta instead.\n",
            "  df.index += _pd.TimedeltaIndex(dst_error_hours, 'h')\n"
          ]
        },
        {
          "output_type": "stream",
          "name": "stdout",
          "text": [
            "[******************    38%%                      ]  382 of 1015 completed"
          ]
        },
        {
          "output_type": "stream",
          "name": "stderr",
          "text": [
            "/usr/local/lib/python3.11/dist-packages/yfinance/utils.py:788: FutureWarning: The 'unit' keyword in TimedeltaIndex construction is deprecated and will be removed in a future version. Use pd.to_timedelta instead.\n",
            "  df.index += _pd.TimedeltaIndex(dst_error_hours, 'h')\n",
            "/usr/local/lib/python3.11/dist-packages/yfinance/utils.py:788: FutureWarning: The 'unit' keyword in TimedeltaIndex construction is deprecated and will be removed in a future version. Use pd.to_timedelta instead.\n",
            "  df.index += _pd.TimedeltaIndex(dst_error_hours, 'h')\n",
            "/usr/local/lib/python3.11/dist-packages/yfinance/utils.py:788: FutureWarning: The 'unit' keyword in TimedeltaIndex construction is deprecated and will be removed in a future version. Use pd.to_timedelta instead.\n",
            "  df.index += _pd.TimedeltaIndex(dst_error_hours, 'h')\n"
          ]
        },
        {
          "output_type": "stream",
          "name": "stdout",
          "text": [
            "[******************    38%%                      ]  385 of 1015 completed"
          ]
        },
        {
          "output_type": "stream",
          "name": "stderr",
          "text": [
            "/usr/local/lib/python3.11/dist-packages/yfinance/utils.py:788: FutureWarning: The 'unit' keyword in TimedeltaIndex construction is deprecated and will be removed in a future version. Use pd.to_timedelta instead.\n",
            "  df.index += _pd.TimedeltaIndex(dst_error_hours, 'h')\n",
            "/usr/local/lib/python3.11/dist-packages/yfinance/utils.py:788: FutureWarning: The 'unit' keyword in TimedeltaIndex construction is deprecated and will be removed in a future version. Use pd.to_timedelta instead.\n",
            "  df.index += _pd.TimedeltaIndex(dst_error_hours, 'h')\n",
            "/usr/local/lib/python3.11/dist-packages/yfinance/utils.py:788: FutureWarning: The 'unit' keyword in TimedeltaIndex construction is deprecated and will be removed in a future version. Use pd.to_timedelta instead.\n",
            "  df.index += _pd.TimedeltaIndex(dst_error_hours, 'h')\n"
          ]
        },
        {
          "output_type": "stream",
          "name": "stdout",
          "text": [
            "[******************    38%%                      ]  387 of 1015 completed"
          ]
        },
        {
          "output_type": "stream",
          "name": "stderr",
          "text": [
            "/usr/local/lib/python3.11/dist-packages/yfinance/utils.py:788: FutureWarning: The 'unit' keyword in TimedeltaIndex construction is deprecated and will be removed in a future version. Use pd.to_timedelta instead.\n",
            "  df.index += _pd.TimedeltaIndex(dst_error_hours, 'h')\n",
            "/usr/local/lib/python3.11/dist-packages/yfinance/utils.py:788: FutureWarning: The 'unit' keyword in TimedeltaIndex construction is deprecated and will be removed in a future version. Use pd.to_timedelta instead.\n",
            "  df.index += _pd.TimedeltaIndex(dst_error_hours, 'h')\n",
            "/usr/local/lib/python3.11/dist-packages/yfinance/utils.py:788: FutureWarning: The 'unit' keyword in TimedeltaIndex construction is deprecated and will be removed in a future version. Use pd.to_timedelta instead.\n",
            "  df.index += _pd.TimedeltaIndex(dst_error_hours, 'h')\n"
          ]
        },
        {
          "output_type": "stream",
          "name": "stdout",
          "text": [
            "[*******************   39%%                      ]  391 of 1015 completed"
          ]
        },
        {
          "output_type": "stream",
          "name": "stderr",
          "text": [
            "/usr/local/lib/python3.11/dist-packages/yfinance/utils.py:788: FutureWarning: The 'unit' keyword in TimedeltaIndex construction is deprecated and will be removed in a future version. Use pd.to_timedelta instead.\n",
            "  df.index += _pd.TimedeltaIndex(dst_error_hours, 'h')\n",
            "/usr/local/lib/python3.11/dist-packages/yfinance/utils.py:788: FutureWarning: The 'unit' keyword in TimedeltaIndex construction is deprecated and will be removed in a future version. Use pd.to_timedelta instead.\n",
            "  df.index += _pd.TimedeltaIndex(dst_error_hours, 'h')\n",
            "/usr/local/lib/python3.11/dist-packages/yfinance/utils.py:788: FutureWarning: The 'unit' keyword in TimedeltaIndex construction is deprecated and will be removed in a future version. Use pd.to_timedelta instead.\n",
            "  df.index += _pd.TimedeltaIndex(dst_error_hours, 'h')\n",
            "/usr/local/lib/python3.11/dist-packages/yfinance/utils.py:788: FutureWarning: The 'unit' keyword in TimedeltaIndex construction is deprecated and will be removed in a future version. Use pd.to_timedelta instead.\n",
            "  df.index += _pd.TimedeltaIndex(dst_error_hours, 'h')\n"
          ]
        },
        {
          "output_type": "stream",
          "name": "stdout",
          "text": [
            "[*******************   39%%                      ]  395 of 1015 completed"
          ]
        },
        {
          "output_type": "stream",
          "name": "stderr",
          "text": [
            "/usr/local/lib/python3.11/dist-packages/yfinance/utils.py:788: FutureWarning: The 'unit' keyword in TimedeltaIndex construction is deprecated and will be removed in a future version. Use pd.to_timedelta instead.\n",
            "  df.index += _pd.TimedeltaIndex(dst_error_hours, 'h')\n",
            "/usr/local/lib/python3.11/dist-packages/yfinance/utils.py:788: FutureWarning: The 'unit' keyword in TimedeltaIndex construction is deprecated and will be removed in a future version. Use pd.to_timedelta instead.\n",
            "  df.index += _pd.TimedeltaIndex(dst_error_hours, 'h')\n",
            "/usr/local/lib/python3.11/dist-packages/yfinance/utils.py:788: FutureWarning: The 'unit' keyword in TimedeltaIndex construction is deprecated and will be removed in a future version. Use pd.to_timedelta instead.\n",
            "  df.index += _pd.TimedeltaIndex(dst_error_hours, 'h')\n"
          ]
        },
        {
          "output_type": "stream",
          "name": "stdout",
          "text": [
            "[*******************   39%%                      ]  398 of 1015 completed"
          ]
        },
        {
          "output_type": "stream",
          "name": "stderr",
          "text": [
            "/usr/local/lib/python3.11/dist-packages/yfinance/utils.py:788: FutureWarning: The 'unit' keyword in TimedeltaIndex construction is deprecated and will be removed in a future version. Use pd.to_timedelta instead.\n",
            "  df.index += _pd.TimedeltaIndex(dst_error_hours, 'h')\n",
            "/usr/local/lib/python3.11/dist-packages/yfinance/utils.py:788: FutureWarning: The 'unit' keyword in TimedeltaIndex construction is deprecated and will be removed in a future version. Use pd.to_timedelta instead.\n",
            "  df.index += _pd.TimedeltaIndex(dst_error_hours, 'h')\n",
            "/usr/local/lib/python3.11/dist-packages/yfinance/utils.py:788: FutureWarning: The 'unit' keyword in TimedeltaIndex construction is deprecated and will be removed in a future version. Use pd.to_timedelta instead.\n",
            "  df.index += _pd.TimedeltaIndex(dst_error_hours, 'h')\n"
          ]
        },
        {
          "output_type": "stream",
          "name": "stdout",
          "text": [
            "[*******************   40%%                      ]  401 of 1015 completed"
          ]
        },
        {
          "output_type": "stream",
          "name": "stderr",
          "text": [
            "/usr/local/lib/python3.11/dist-packages/yfinance/utils.py:788: FutureWarning: The 'unit' keyword in TimedeltaIndex construction is deprecated and will be removed in a future version. Use pd.to_timedelta instead.\n",
            "  df.index += _pd.TimedeltaIndex(dst_error_hours, 'h')\n",
            "/usr/local/lib/python3.11/dist-packages/yfinance/utils.py:788: FutureWarning: The 'unit' keyword in TimedeltaIndex construction is deprecated and will be removed in a future version. Use pd.to_timedelta instead.\n",
            "  df.index += _pd.TimedeltaIndex(dst_error_hours, 'h')\n",
            "/usr/local/lib/python3.11/dist-packages/yfinance/utils.py:788: FutureWarning: The 'unit' keyword in TimedeltaIndex construction is deprecated and will be removed in a future version. Use pd.to_timedelta instead.\n",
            "  df.index += _pd.TimedeltaIndex(dst_error_hours, 'h')\n"
          ]
        },
        {
          "output_type": "stream",
          "name": "stdout",
          "text": [
            "[*******************   40%%                      ]  403 of 1015 completed"
          ]
        },
        {
          "output_type": "stream",
          "name": "stderr",
          "text": [
            "/usr/local/lib/python3.11/dist-packages/yfinance/utils.py:788: FutureWarning: The 'unit' keyword in TimedeltaIndex construction is deprecated and will be removed in a future version. Use pd.to_timedelta instead.\n",
            "  df.index += _pd.TimedeltaIndex(dst_error_hours, 'h')\n",
            "/usr/local/lib/python3.11/dist-packages/yfinance/utils.py:788: FutureWarning: The 'unit' keyword in TimedeltaIndex construction is deprecated and will be removed in a future version. Use pd.to_timedelta instead.\n",
            "  df.index += _pd.TimedeltaIndex(dst_error_hours, 'h')\n",
            "/usr/local/lib/python3.11/dist-packages/yfinance/utils.py:788: FutureWarning: The 'unit' keyword in TimedeltaIndex construction is deprecated and will be removed in a future version. Use pd.to_timedelta instead.\n",
            "  df.index += _pd.TimedeltaIndex(dst_error_hours, 'h')\n"
          ]
        },
        {
          "output_type": "stream",
          "name": "stdout",
          "text": [
            "[*******************   40%%                      ]  407 of 1015 completed"
          ]
        },
        {
          "output_type": "stream",
          "name": "stderr",
          "text": [
            "/usr/local/lib/python3.11/dist-packages/yfinance/utils.py:788: FutureWarning: The 'unit' keyword in TimedeltaIndex construction is deprecated and will be removed in a future version. Use pd.to_timedelta instead.\n",
            "  df.index += _pd.TimedeltaIndex(dst_error_hours, 'h')\n",
            "/usr/local/lib/python3.11/dist-packages/yfinance/utils.py:788: FutureWarning: The 'unit' keyword in TimedeltaIndex construction is deprecated and will be removed in a future version. Use pd.to_timedelta instead.\n",
            "  df.index += _pd.TimedeltaIndex(dst_error_hours, 'h')\n",
            "/usr/local/lib/python3.11/dist-packages/yfinance/utils.py:788: FutureWarning: The 'unit' keyword in TimedeltaIndex construction is deprecated and will be removed in a future version. Use pd.to_timedelta instead.\n",
            "  df.index += _pd.TimedeltaIndex(dst_error_hours, 'h')\n"
          ]
        },
        {
          "output_type": "stream",
          "name": "stdout",
          "text": [
            "[*******************   40%%                      ]  410 of 1015 completed"
          ]
        },
        {
          "output_type": "stream",
          "name": "stderr",
          "text": [
            "/usr/local/lib/python3.11/dist-packages/yfinance/utils.py:788: FutureWarning: The 'unit' keyword in TimedeltaIndex construction is deprecated and will be removed in a future version. Use pd.to_timedelta instead.\n",
            "  df.index += _pd.TimedeltaIndex(dst_error_hours, 'h')\n",
            "/usr/local/lib/python3.11/dist-packages/yfinance/utils.py:788: FutureWarning: The 'unit' keyword in TimedeltaIndex construction is deprecated and will be removed in a future version. Use pd.to_timedelta instead.\n",
            "  df.index += _pd.TimedeltaIndex(dst_error_hours, 'h')\n",
            "/usr/local/lib/python3.11/dist-packages/yfinance/utils.py:788: FutureWarning: The 'unit' keyword in TimedeltaIndex construction is deprecated and will be removed in a future version. Use pd.to_timedelta instead.\n",
            "  df.index += _pd.TimedeltaIndex(dst_error_hours, 'h')\n"
          ]
        },
        {
          "output_type": "stream",
          "name": "stdout",
          "text": [
            "[********************  41%%                      ]  413 of 1015 completed"
          ]
        },
        {
          "output_type": "stream",
          "name": "stderr",
          "text": [
            "/usr/local/lib/python3.11/dist-packages/yfinance/utils.py:788: FutureWarning: The 'unit' keyword in TimedeltaIndex construction is deprecated and will be removed in a future version. Use pd.to_timedelta instead.\n",
            "  df.index += _pd.TimedeltaIndex(dst_error_hours, 'h')\n",
            "/usr/local/lib/python3.11/dist-packages/yfinance/utils.py:788: FutureWarning: The 'unit' keyword in TimedeltaIndex construction is deprecated and will be removed in a future version. Use pd.to_timedelta instead.\n",
            "  df.index += _pd.TimedeltaIndex(dst_error_hours, 'h')\n",
            "/usr/local/lib/python3.11/dist-packages/yfinance/utils.py:788: FutureWarning: The 'unit' keyword in TimedeltaIndex construction is deprecated and will be removed in a future version. Use pd.to_timedelta instead.\n",
            "  df.index += _pd.TimedeltaIndex(dst_error_hours, 'h')\n"
          ]
        },
        {
          "output_type": "stream",
          "name": "stdout",
          "text": [
            "[********************  41%%                      ]  416 of 1015 completed"
          ]
        },
        {
          "output_type": "stream",
          "name": "stderr",
          "text": [
            "/usr/local/lib/python3.11/dist-packages/yfinance/utils.py:788: FutureWarning: The 'unit' keyword in TimedeltaIndex construction is deprecated and will be removed in a future version. Use pd.to_timedelta instead.\n",
            "  df.index += _pd.TimedeltaIndex(dst_error_hours, 'h')\n",
            "/usr/local/lib/python3.11/dist-packages/yfinance/utils.py:788: FutureWarning: The 'unit' keyword in TimedeltaIndex construction is deprecated and will be removed in a future version. Use pd.to_timedelta instead.\n",
            "  df.index += _pd.TimedeltaIndex(dst_error_hours, 'h')\n",
            "/usr/local/lib/python3.11/dist-packages/yfinance/utils.py:788: FutureWarning: The 'unit' keyword in TimedeltaIndex construction is deprecated and will be removed in a future version. Use pd.to_timedelta instead.\n",
            "  df.index += _pd.TimedeltaIndex(dst_error_hours, 'h')\n"
          ]
        },
        {
          "output_type": "stream",
          "name": "stdout",
          "text": [
            "[********************  41%%                      ]  420 of 1015 completed"
          ]
        },
        {
          "output_type": "stream",
          "name": "stderr",
          "text": [
            "/usr/local/lib/python3.11/dist-packages/yfinance/utils.py:788: FutureWarning: The 'unit' keyword in TimedeltaIndex construction is deprecated and will be removed in a future version. Use pd.to_timedelta instead.\n",
            "  df.index += _pd.TimedeltaIndex(dst_error_hours, 'h')\n",
            "/usr/local/lib/python3.11/dist-packages/yfinance/utils.py:788: FutureWarning: The 'unit' keyword in TimedeltaIndex construction is deprecated and will be removed in a future version. Use pd.to_timedelta instead.\n",
            "  df.index += _pd.TimedeltaIndex(dst_error_hours, 'h')\n",
            "/usr/local/lib/python3.11/dist-packages/yfinance/utils.py:788: FutureWarning: The 'unit' keyword in TimedeltaIndex construction is deprecated and will be removed in a future version. Use pd.to_timedelta instead.\n",
            "  df.index += _pd.TimedeltaIndex(dst_error_hours, 'h')\n",
            "/usr/local/lib/python3.11/dist-packages/yfinance/utils.py:788: FutureWarning: The 'unit' keyword in TimedeltaIndex construction is deprecated and will be removed in a future version. Use pd.to_timedelta instead.\n",
            "  df.index += _pd.TimedeltaIndex(dst_error_hours, 'h')\n"
          ]
        },
        {
          "output_type": "stream",
          "name": "stdout",
          "text": [
            "[********************  42%%                      ]  423 of 1015 completed"
          ]
        },
        {
          "output_type": "stream",
          "name": "stderr",
          "text": [
            "/usr/local/lib/python3.11/dist-packages/yfinance/utils.py:788: FutureWarning: The 'unit' keyword in TimedeltaIndex construction is deprecated and will be removed in a future version. Use pd.to_timedelta instead.\n",
            "  df.index += _pd.TimedeltaIndex(dst_error_hours, 'h')\n",
            "/usr/local/lib/python3.11/dist-packages/yfinance/utils.py:788: FutureWarning: The 'unit' keyword in TimedeltaIndex construction is deprecated and will be removed in a future version. Use pd.to_timedelta instead.\n",
            "  df.index += _pd.TimedeltaIndex(dst_error_hours, 'h')\n",
            "/usr/local/lib/python3.11/dist-packages/yfinance/utils.py:788: FutureWarning: The 'unit' keyword in TimedeltaIndex construction is deprecated and will be removed in a future version. Use pd.to_timedelta instead.\n",
            "  df.index += _pd.TimedeltaIndex(dst_error_hours, 'h')\n"
          ]
        },
        {
          "output_type": "stream",
          "name": "stdout",
          "text": [
            "[********************  42%%                      ]  425 of 1015 completed"
          ]
        },
        {
          "output_type": "stream",
          "name": "stderr",
          "text": [
            "/usr/local/lib/python3.11/dist-packages/yfinance/utils.py:788: FutureWarning: The 'unit' keyword in TimedeltaIndex construction is deprecated and will be removed in a future version. Use pd.to_timedelta instead.\n",
            "  df.index += _pd.TimedeltaIndex(dst_error_hours, 'h')\n",
            "/usr/local/lib/python3.11/dist-packages/yfinance/utils.py:788: FutureWarning: The 'unit' keyword in TimedeltaIndex construction is deprecated and will be removed in a future version. Use pd.to_timedelta instead.\n",
            "  df.index += _pd.TimedeltaIndex(dst_error_hours, 'h')\n",
            "/usr/local/lib/python3.11/dist-packages/yfinance/utils.py:788: FutureWarning: The 'unit' keyword in TimedeltaIndex construction is deprecated and will be removed in a future version. Use pd.to_timedelta instead.\n",
            "  df.index += _pd.TimedeltaIndex(dst_error_hours, 'h')\n"
          ]
        },
        {
          "output_type": "stream",
          "name": "stdout",
          "text": [
            "[********************  42%%                      ]  427 of 1015 completed"
          ]
        },
        {
          "output_type": "stream",
          "name": "stderr",
          "text": [
            "/usr/local/lib/python3.11/dist-packages/yfinance/utils.py:788: FutureWarning: The 'unit' keyword in TimedeltaIndex construction is deprecated and will be removed in a future version. Use pd.to_timedelta instead.\n",
            "  df.index += _pd.TimedeltaIndex(dst_error_hours, 'h')\n",
            "/usr/local/lib/python3.11/dist-packages/yfinance/utils.py:788: FutureWarning: The 'unit' keyword in TimedeltaIndex construction is deprecated and will be removed in a future version. Use pd.to_timedelta instead.\n",
            "  df.index += _pd.TimedeltaIndex(dst_error_hours, 'h')\n",
            "ERROR:yfinance:Could not get exchangeTimezoneName for ticker '1609.TW' reason: 'chart'\n"
          ]
        },
        {
          "output_type": "stream",
          "name": "stdout",
          "text": [
            "[********************* 43%%                      ]  433 of 1015 completed"
          ]
        },
        {
          "output_type": "stream",
          "name": "stderr",
          "text": [
            "/usr/local/lib/python3.11/dist-packages/yfinance/utils.py:788: FutureWarning: The 'unit' keyword in TimedeltaIndex construction is deprecated and will be removed in a future version. Use pd.to_timedelta instead.\n",
            "  df.index += _pd.TimedeltaIndex(dst_error_hours, 'h')\n",
            "/usr/local/lib/python3.11/dist-packages/yfinance/utils.py:788: FutureWarning: The 'unit' keyword in TimedeltaIndex construction is deprecated and will be removed in a future version. Use pd.to_timedelta instead.\n",
            "  df.index += _pd.TimedeltaIndex(dst_error_hours, 'h')\n",
            "/usr/local/lib/python3.11/dist-packages/yfinance/utils.py:788: FutureWarning: The 'unit' keyword in TimedeltaIndex construction is deprecated and will be removed in a future version. Use pd.to_timedelta instead.\n",
            "  df.index += _pd.TimedeltaIndex(dst_error_hours, 'h')\n",
            "/usr/local/lib/python3.11/dist-packages/yfinance/utils.py:788: FutureWarning: The 'unit' keyword in TimedeltaIndex construction is deprecated and will be removed in a future version. Use pd.to_timedelta instead.\n",
            "  df.index += _pd.TimedeltaIndex(dst_error_hours, 'h')\n"
          ]
        },
        {
          "output_type": "stream",
          "name": "stdout",
          "text": [
            "[********************* 43%%                      ]  435 of 1015 completed"
          ]
        },
        {
          "output_type": "stream",
          "name": "stderr",
          "text": [
            "/usr/local/lib/python3.11/dist-packages/yfinance/utils.py:788: FutureWarning: The 'unit' keyword in TimedeltaIndex construction is deprecated and will be removed in a future version. Use pd.to_timedelta instead.\n",
            "  df.index += _pd.TimedeltaIndex(dst_error_hours, 'h')\n",
            "/usr/local/lib/python3.11/dist-packages/yfinance/utils.py:788: FutureWarning: The 'unit' keyword in TimedeltaIndex construction is deprecated and will be removed in a future version. Use pd.to_timedelta instead.\n",
            "  df.index += _pd.TimedeltaIndex(dst_error_hours, 'h')\n"
          ]
        },
        {
          "output_type": "stream",
          "name": "stdout",
          "text": [
            "[********************* 43%%                      ]  439 of 1015 completed"
          ]
        },
        {
          "output_type": "stream",
          "name": "stderr",
          "text": [
            "/usr/local/lib/python3.11/dist-packages/yfinance/utils.py:788: FutureWarning: The 'unit' keyword in TimedeltaIndex construction is deprecated and will be removed in a future version. Use pd.to_timedelta instead.\n",
            "  df.index += _pd.TimedeltaIndex(dst_error_hours, 'h')\n",
            "/usr/local/lib/python3.11/dist-packages/yfinance/utils.py:788: FutureWarning: The 'unit' keyword in TimedeltaIndex construction is deprecated and will be removed in a future version. Use pd.to_timedelta instead.\n",
            "  df.index += _pd.TimedeltaIndex(dst_error_hours, 'h')\n",
            "/usr/local/lib/python3.11/dist-packages/yfinance/utils.py:788: FutureWarning: The 'unit' keyword in TimedeltaIndex construction is deprecated and will be removed in a future version. Use pd.to_timedelta instead.\n",
            "  df.index += _pd.TimedeltaIndex(dst_error_hours, 'h')\n",
            "/usr/local/lib/python3.11/dist-packages/yfinance/utils.py:788: FutureWarning: The 'unit' keyword in TimedeltaIndex construction is deprecated and will be removed in a future version. Use pd.to_timedelta instead.\n",
            "  df.index += _pd.TimedeltaIndex(dst_error_hours, 'h')\n"
          ]
        },
        {
          "output_type": "stream",
          "name": "stdout",
          "text": [
            "[********************* 44%%                      ]  442 of 1015 completed"
          ]
        },
        {
          "output_type": "stream",
          "name": "stderr",
          "text": [
            "/usr/local/lib/python3.11/dist-packages/yfinance/utils.py:788: FutureWarning: The 'unit' keyword in TimedeltaIndex construction is deprecated and will be removed in a future version. Use pd.to_timedelta instead.\n",
            "  df.index += _pd.TimedeltaIndex(dst_error_hours, 'h')\n",
            "/usr/local/lib/python3.11/dist-packages/yfinance/utils.py:788: FutureWarning: The 'unit' keyword in TimedeltaIndex construction is deprecated and will be removed in a future version. Use pd.to_timedelta instead.\n",
            "  df.index += _pd.TimedeltaIndex(dst_error_hours, 'h')\n",
            "/usr/local/lib/python3.11/dist-packages/yfinance/utils.py:788: FutureWarning: The 'unit' keyword in TimedeltaIndex construction is deprecated and will be removed in a future version. Use pd.to_timedelta instead.\n",
            "  df.index += _pd.TimedeltaIndex(dst_error_hours, 'h')\n",
            "/usr/local/lib/python3.11/dist-packages/yfinance/utils.py:788: FutureWarning: The 'unit' keyword in TimedeltaIndex construction is deprecated and will be removed in a future version. Use pd.to_timedelta instead.\n",
            "  df.index += _pd.TimedeltaIndex(dst_error_hours, 'h')\n"
          ]
        },
        {
          "output_type": "stream",
          "name": "stdout",
          "text": [
            "[********************* 44%%                      ]  445 of 1015 completed"
          ]
        },
        {
          "output_type": "stream",
          "name": "stderr",
          "text": [
            "/usr/local/lib/python3.11/dist-packages/yfinance/utils.py:788: FutureWarning: The 'unit' keyword in TimedeltaIndex construction is deprecated and will be removed in a future version. Use pd.to_timedelta instead.\n",
            "  df.index += _pd.TimedeltaIndex(dst_error_hours, 'h')\n",
            "/usr/local/lib/python3.11/dist-packages/yfinance/utils.py:788: FutureWarning: The 'unit' keyword in TimedeltaIndex construction is deprecated and will be removed in a future version. Use pd.to_timedelta instead.\n",
            "  df.index += _pd.TimedeltaIndex(dst_error_hours, 'h')\n"
          ]
        },
        {
          "output_type": "stream",
          "name": "stdout",
          "text": [
            "[********************* 44%%                      ]  447 of 1015 completed"
          ]
        },
        {
          "output_type": "stream",
          "name": "stderr",
          "text": [
            "/usr/local/lib/python3.11/dist-packages/yfinance/utils.py:788: FutureWarning: The 'unit' keyword in TimedeltaIndex construction is deprecated and will be removed in a future version. Use pd.to_timedelta instead.\n",
            "  df.index += _pd.TimedeltaIndex(dst_error_hours, 'h')\n",
            "/usr/local/lib/python3.11/dist-packages/yfinance/utils.py:788: FutureWarning: The 'unit' keyword in TimedeltaIndex construction is deprecated and will be removed in a future version. Use pd.to_timedelta instead.\n",
            "  df.index += _pd.TimedeltaIndex(dst_error_hours, 'h')\n",
            "/usr/local/lib/python3.11/dist-packages/yfinance/utils.py:788: FutureWarning: The 'unit' keyword in TimedeltaIndex construction is deprecated and will be removed in a future version. Use pd.to_timedelta instead.\n",
            "  df.index += _pd.TimedeltaIndex(dst_error_hours, 'h')\n"
          ]
        },
        {
          "output_type": "stream",
          "name": "stdout",
          "text": [
            "[********************* 44%%                      ]  451 of 1015 completed"
          ]
        },
        {
          "output_type": "stream",
          "name": "stderr",
          "text": [
            "/usr/local/lib/python3.11/dist-packages/yfinance/utils.py:788: FutureWarning: The 'unit' keyword in TimedeltaIndex construction is deprecated and will be removed in a future version. Use pd.to_timedelta instead.\n",
            "  df.index += _pd.TimedeltaIndex(dst_error_hours, 'h')\n",
            "/usr/local/lib/python3.11/dist-packages/yfinance/utils.py:788: FutureWarning: The 'unit' keyword in TimedeltaIndex construction is deprecated and will be removed in a future version. Use pd.to_timedelta instead.\n",
            "  df.index += _pd.TimedeltaIndex(dst_error_hours, 'h')\n",
            "/usr/local/lib/python3.11/dist-packages/yfinance/utils.py:788: FutureWarning: The 'unit' keyword in TimedeltaIndex construction is deprecated and will be removed in a future version. Use pd.to_timedelta instead.\n",
            "  df.index += _pd.TimedeltaIndex(dst_error_hours, 'h')\n"
          ]
        },
        {
          "output_type": "stream",
          "name": "stdout",
          "text": [
            "[**********************45%%                      ]  453 of 1015 completed"
          ]
        },
        {
          "output_type": "stream",
          "name": "stderr",
          "text": [
            "/usr/local/lib/python3.11/dist-packages/yfinance/utils.py:788: FutureWarning: The 'unit' keyword in TimedeltaIndex construction is deprecated and will be removed in a future version. Use pd.to_timedelta instead.\n",
            "  df.index += _pd.TimedeltaIndex(dst_error_hours, 'h')\n",
            "/usr/local/lib/python3.11/dist-packages/yfinance/utils.py:788: FutureWarning: The 'unit' keyword in TimedeltaIndex construction is deprecated and will be removed in a future version. Use pd.to_timedelta instead.\n",
            "  df.index += _pd.TimedeltaIndex(dst_error_hours, 'h')\n"
          ]
        },
        {
          "output_type": "stream",
          "name": "stdout",
          "text": [
            "[**********************45%%                      ]  454 of 1015 completed"
          ]
        },
        {
          "output_type": "stream",
          "name": "stderr",
          "text": [
            "/usr/local/lib/python3.11/dist-packages/yfinance/utils.py:788: FutureWarning: The 'unit' keyword in TimedeltaIndex construction is deprecated and will be removed in a future version. Use pd.to_timedelta instead.\n",
            "  df.index += _pd.TimedeltaIndex(dst_error_hours, 'h')\n",
            "/usr/local/lib/python3.11/dist-packages/yfinance/utils.py:788: FutureWarning: The 'unit' keyword in TimedeltaIndex construction is deprecated and will be removed in a future version. Use pd.to_timedelta instead.\n",
            "  df.index += _pd.TimedeltaIndex(dst_error_hours, 'h')\n"
          ]
        },
        {
          "output_type": "stream",
          "name": "stdout",
          "text": [
            "[**********************45%%                      ]  457 of 1015 completed"
          ]
        },
        {
          "output_type": "stream",
          "name": "stderr",
          "text": [
            "/usr/local/lib/python3.11/dist-packages/yfinance/utils.py:788: FutureWarning: The 'unit' keyword in TimedeltaIndex construction is deprecated and will be removed in a future version. Use pd.to_timedelta instead.\n",
            "  df.index += _pd.TimedeltaIndex(dst_error_hours, 'h')\n",
            "/usr/local/lib/python3.11/dist-packages/yfinance/utils.py:788: FutureWarning: The 'unit' keyword in TimedeltaIndex construction is deprecated and will be removed in a future version. Use pd.to_timedelta instead.\n",
            "  df.index += _pd.TimedeltaIndex(dst_error_hours, 'h')\n"
          ]
        },
        {
          "output_type": "stream",
          "name": "stdout",
          "text": [
            "[**********************45%%                      ]  459 of 1015 completed"
          ]
        },
        {
          "output_type": "stream",
          "name": "stderr",
          "text": [
            "/usr/local/lib/python3.11/dist-packages/yfinance/utils.py:788: FutureWarning: The 'unit' keyword in TimedeltaIndex construction is deprecated and will be removed in a future version. Use pd.to_timedelta instead.\n",
            "  df.index += _pd.TimedeltaIndex(dst_error_hours, 'h')\n",
            "/usr/local/lib/python3.11/dist-packages/yfinance/utils.py:788: FutureWarning: The 'unit' keyword in TimedeltaIndex construction is deprecated and will be removed in a future version. Use pd.to_timedelta instead.\n",
            "  df.index += _pd.TimedeltaIndex(dst_error_hours, 'h')\n"
          ]
        },
        {
          "output_type": "stream",
          "name": "stdout",
          "text": [
            "[**********************45%%                      ]  461 of 1015 completed"
          ]
        },
        {
          "output_type": "stream",
          "name": "stderr",
          "text": [
            "/usr/local/lib/python3.11/dist-packages/yfinance/utils.py:788: FutureWarning: The 'unit' keyword in TimedeltaIndex construction is deprecated and will be removed in a future version. Use pd.to_timedelta instead.\n",
            "  df.index += _pd.TimedeltaIndex(dst_error_hours, 'h')\n",
            "/usr/local/lib/python3.11/dist-packages/yfinance/utils.py:788: FutureWarning: The 'unit' keyword in TimedeltaIndex construction is deprecated and will be removed in a future version. Use pd.to_timedelta instead.\n",
            "  df.index += _pd.TimedeltaIndex(dst_error_hours, 'h')\n"
          ]
        },
        {
          "output_type": "stream",
          "name": "stdout",
          "text": [
            "[**********************46%%                      ]  463 of 1015 completed"
          ]
        },
        {
          "output_type": "stream",
          "name": "stderr",
          "text": [
            "/usr/local/lib/python3.11/dist-packages/yfinance/utils.py:788: FutureWarning: The 'unit' keyword in TimedeltaIndex construction is deprecated and will be removed in a future version. Use pd.to_timedelta instead.\n",
            "  df.index += _pd.TimedeltaIndex(dst_error_hours, 'h')\n",
            "/usr/local/lib/python3.11/dist-packages/yfinance/utils.py:788: FutureWarning: The 'unit' keyword in TimedeltaIndex construction is deprecated and will be removed in a future version. Use pd.to_timedelta instead.\n",
            "  df.index += _pd.TimedeltaIndex(dst_error_hours, 'h')\n"
          ]
        },
        {
          "output_type": "stream",
          "name": "stdout",
          "text": [
            "[**********************46%%                      ]  465 of 1015 completed"
          ]
        },
        {
          "output_type": "stream",
          "name": "stderr",
          "text": [
            "/usr/local/lib/python3.11/dist-packages/yfinance/utils.py:788: FutureWarning: The 'unit' keyword in TimedeltaIndex construction is deprecated and will be removed in a future version. Use pd.to_timedelta instead.\n",
            "  df.index += _pd.TimedeltaIndex(dst_error_hours, 'h')\n",
            "/usr/local/lib/python3.11/dist-packages/yfinance/utils.py:788: FutureWarning: The 'unit' keyword in TimedeltaIndex construction is deprecated and will be removed in a future version. Use pd.to_timedelta instead.\n",
            "  df.index += _pd.TimedeltaIndex(dst_error_hours, 'h')\n",
            "/usr/local/lib/python3.11/dist-packages/yfinance/utils.py:788: FutureWarning: The 'unit' keyword in TimedeltaIndex construction is deprecated and will be removed in a future version. Use pd.to_timedelta instead.\n",
            "  df.index += _pd.TimedeltaIndex(dst_error_hours, 'h')\n"
          ]
        },
        {
          "output_type": "stream",
          "name": "stdout",
          "text": [
            "[**********************46%%                      ]  467 of 1015 completed"
          ]
        },
        {
          "output_type": "stream",
          "name": "stderr",
          "text": [
            "/usr/local/lib/python3.11/dist-packages/yfinance/utils.py:788: FutureWarning: The 'unit' keyword in TimedeltaIndex construction is deprecated and will be removed in a future version. Use pd.to_timedelta instead.\n",
            "  df.index += _pd.TimedeltaIndex(dst_error_hours, 'h')\n",
            "/usr/local/lib/python3.11/dist-packages/yfinance/utils.py:788: FutureWarning: The 'unit' keyword in TimedeltaIndex construction is deprecated and will be removed in a future version. Use pd.to_timedelta instead.\n",
            "  df.index += _pd.TimedeltaIndex(dst_error_hours, 'h')\n"
          ]
        },
        {
          "output_type": "stream",
          "name": "stdout",
          "text": [
            "[**********************46%%                      ]  469 of 1015 completed"
          ]
        },
        {
          "output_type": "stream",
          "name": "stderr",
          "text": [
            "/usr/local/lib/python3.11/dist-packages/yfinance/utils.py:788: FutureWarning: The 'unit' keyword in TimedeltaIndex construction is deprecated and will be removed in a future version. Use pd.to_timedelta instead.\n",
            "  df.index += _pd.TimedeltaIndex(dst_error_hours, 'h')\n",
            "/usr/local/lib/python3.11/dist-packages/yfinance/utils.py:788: FutureWarning: The 'unit' keyword in TimedeltaIndex construction is deprecated and will be removed in a future version. Use pd.to_timedelta instead.\n",
            "  df.index += _pd.TimedeltaIndex(dst_error_hours, 'h')\n"
          ]
        },
        {
          "output_type": "stream",
          "name": "stdout",
          "text": [
            "[**********************46%%                      ]  471 of 1015 completed"
          ]
        },
        {
          "output_type": "stream",
          "name": "stderr",
          "text": [
            "/usr/local/lib/python3.11/dist-packages/yfinance/utils.py:788: FutureWarning: The 'unit' keyword in TimedeltaIndex construction is deprecated and will be removed in a future version. Use pd.to_timedelta instead.\n",
            "  df.index += _pd.TimedeltaIndex(dst_error_hours, 'h')\n",
            "/usr/local/lib/python3.11/dist-packages/yfinance/utils.py:788: FutureWarning: The 'unit' keyword in TimedeltaIndex construction is deprecated and will be removed in a future version. Use pd.to_timedelta instead.\n",
            "  df.index += _pd.TimedeltaIndex(dst_error_hours, 'h')\n"
          ]
        },
        {
          "output_type": "stream",
          "name": "stdout",
          "text": [
            "[**********************47%%                      ]  473 of 1015 completed"
          ]
        },
        {
          "output_type": "stream",
          "name": "stderr",
          "text": [
            "/usr/local/lib/python3.11/dist-packages/yfinance/utils.py:788: FutureWarning: The 'unit' keyword in TimedeltaIndex construction is deprecated and will be removed in a future version. Use pd.to_timedelta instead.\n",
            "  df.index += _pd.TimedeltaIndex(dst_error_hours, 'h')\n",
            "/usr/local/lib/python3.11/dist-packages/yfinance/utils.py:788: FutureWarning: The 'unit' keyword in TimedeltaIndex construction is deprecated and will be removed in a future version. Use pd.to_timedelta instead.\n",
            "  df.index += _pd.TimedeltaIndex(dst_error_hours, 'h')\n"
          ]
        },
        {
          "output_type": "stream",
          "name": "stdout",
          "text": [
            "[**********************47%%                      ]  476 of 1015 completed"
          ]
        },
        {
          "output_type": "stream",
          "name": "stderr",
          "text": [
            "/usr/local/lib/python3.11/dist-packages/yfinance/utils.py:788: FutureWarning: The 'unit' keyword in TimedeltaIndex construction is deprecated and will be removed in a future version. Use pd.to_timedelta instead.\n",
            "  df.index += _pd.TimedeltaIndex(dst_error_hours, 'h')\n",
            "/usr/local/lib/python3.11/dist-packages/yfinance/utils.py:788: FutureWarning: The 'unit' keyword in TimedeltaIndex construction is deprecated and will be removed in a future version. Use pd.to_timedelta instead.\n",
            "  df.index += _pd.TimedeltaIndex(dst_error_hours, 'h')\n",
            "/usr/local/lib/python3.11/dist-packages/yfinance/utils.py:788: FutureWarning: The 'unit' keyword in TimedeltaIndex construction is deprecated and will be removed in a future version. Use pd.to_timedelta instead.\n",
            "  df.index += _pd.TimedeltaIndex(dst_error_hours, 'h')\n"
          ]
        },
        {
          "output_type": "stream",
          "name": "stdout",
          "text": [
            "[**********************47%%                      ]  479 of 1015 completed"
          ]
        },
        {
          "output_type": "stream",
          "name": "stderr",
          "text": [
            "/usr/local/lib/python3.11/dist-packages/yfinance/utils.py:788: FutureWarning: The 'unit' keyword in TimedeltaIndex construction is deprecated and will be removed in a future version. Use pd.to_timedelta instead.\n",
            "  df.index += _pd.TimedeltaIndex(dst_error_hours, 'h')\n",
            "/usr/local/lib/python3.11/dist-packages/yfinance/utils.py:788: FutureWarning: The 'unit' keyword in TimedeltaIndex construction is deprecated and will be removed in a future version. Use pd.to_timedelta instead.\n",
            "  df.index += _pd.TimedeltaIndex(dst_error_hours, 'h')\n"
          ]
        },
        {
          "output_type": "stream",
          "name": "stdout",
          "text": [
            "[**********************47%%                      ]  481 of 1015 completed"
          ]
        },
        {
          "output_type": "stream",
          "name": "stderr",
          "text": [
            "/usr/local/lib/python3.11/dist-packages/yfinance/utils.py:788: FutureWarning: The 'unit' keyword in TimedeltaIndex construction is deprecated and will be removed in a future version. Use pd.to_timedelta instead.\n",
            "  df.index += _pd.TimedeltaIndex(dst_error_hours, 'h')\n",
            "/usr/local/lib/python3.11/dist-packages/yfinance/utils.py:788: FutureWarning: The 'unit' keyword in TimedeltaIndex construction is deprecated and will be removed in a future version. Use pd.to_timedelta instead.\n",
            "  df.index += _pd.TimedeltaIndex(dst_error_hours, 'h')\n"
          ]
        },
        {
          "output_type": "stream",
          "name": "stdout",
          "text": [
            "[**********************48%%                      ]  483 of 1015 completed"
          ]
        },
        {
          "output_type": "stream",
          "name": "stderr",
          "text": [
            "/usr/local/lib/python3.11/dist-packages/yfinance/utils.py:788: FutureWarning: The 'unit' keyword in TimedeltaIndex construction is deprecated and will be removed in a future version. Use pd.to_timedelta instead.\n",
            "  df.index += _pd.TimedeltaIndex(dst_error_hours, 'h')\n",
            "/usr/local/lib/python3.11/dist-packages/yfinance/utils.py:788: FutureWarning: The 'unit' keyword in TimedeltaIndex construction is deprecated and will be removed in a future version. Use pd.to_timedelta instead.\n",
            "  df.index += _pd.TimedeltaIndex(dst_error_hours, 'h')\n"
          ]
        },
        {
          "output_type": "stream",
          "name": "stdout",
          "text": [
            "[**********************48%%                      ]  485 of 1015 completed"
          ]
        },
        {
          "output_type": "stream",
          "name": "stderr",
          "text": [
            "/usr/local/lib/python3.11/dist-packages/yfinance/utils.py:788: FutureWarning: The 'unit' keyword in TimedeltaIndex construction is deprecated and will be removed in a future version. Use pd.to_timedelta instead.\n",
            "  df.index += _pd.TimedeltaIndex(dst_error_hours, 'h')\n",
            "/usr/local/lib/python3.11/dist-packages/yfinance/utils.py:788: FutureWarning: The 'unit' keyword in TimedeltaIndex construction is deprecated and will be removed in a future version. Use pd.to_timedelta instead.\n",
            "  df.index += _pd.TimedeltaIndex(dst_error_hours, 'h')\n",
            "/usr/local/lib/python3.11/dist-packages/yfinance/utils.py:788: FutureWarning: The 'unit' keyword in TimedeltaIndex construction is deprecated and will be removed in a future version. Use pd.to_timedelta instead.\n",
            "  df.index += _pd.TimedeltaIndex(dst_error_hours, 'h')\n"
          ]
        },
        {
          "output_type": "stream",
          "name": "stdout",
          "text": [
            "\r[**********************48%%                      ]  486 of 1015 completed\r[**********************48%%                      ]  486 of 1015 completed"
          ]
        },
        {
          "output_type": "stream",
          "name": "stderr",
          "text": [
            "/usr/local/lib/python3.11/dist-packages/yfinance/utils.py:788: FutureWarning: The 'unit' keyword in TimedeltaIndex construction is deprecated and will be removed in a future version. Use pd.to_timedelta instead.\n",
            "  df.index += _pd.TimedeltaIndex(dst_error_hours, 'h')\n"
          ]
        },
        {
          "output_type": "stream",
          "name": "stdout",
          "text": [
            "[**********************48%%                      ]  489 of 1015 completed"
          ]
        },
        {
          "output_type": "stream",
          "name": "stderr",
          "text": [
            "/usr/local/lib/python3.11/dist-packages/yfinance/utils.py:788: FutureWarning: The 'unit' keyword in TimedeltaIndex construction is deprecated and will be removed in a future version. Use pd.to_timedelta instead.\n",
            "  df.index += _pd.TimedeltaIndex(dst_error_hours, 'h')\n",
            "/usr/local/lib/python3.11/dist-packages/yfinance/utils.py:788: FutureWarning: The 'unit' keyword in TimedeltaIndex construction is deprecated and will be removed in a future version. Use pd.to_timedelta instead.\n",
            "  df.index += _pd.TimedeltaIndex(dst_error_hours, 'h')\n"
          ]
        },
        {
          "output_type": "stream",
          "name": "stdout",
          "text": [
            "[**********************48%%                      ]  492 of 1015 completed"
          ]
        },
        {
          "output_type": "stream",
          "name": "stderr",
          "text": [
            "/usr/local/lib/python3.11/dist-packages/yfinance/utils.py:788: FutureWarning: The 'unit' keyword in TimedeltaIndex construction is deprecated and will be removed in a future version. Use pd.to_timedelta instead.\n",
            "  df.index += _pd.TimedeltaIndex(dst_error_hours, 'h')\n",
            "/usr/local/lib/python3.11/dist-packages/yfinance/utils.py:788: FutureWarning: The 'unit' keyword in TimedeltaIndex construction is deprecated and will be removed in a future version. Use pd.to_timedelta instead.\n",
            "  df.index += _pd.TimedeltaIndex(dst_error_hours, 'h')\n",
            "/usr/local/lib/python3.11/dist-packages/yfinance/utils.py:788: FutureWarning: The 'unit' keyword in TimedeltaIndex construction is deprecated and will be removed in a future version. Use pd.to_timedelta instead.\n",
            "  df.index += _pd.TimedeltaIndex(dst_error_hours, 'h')\n"
          ]
        },
        {
          "output_type": "stream",
          "name": "stdout",
          "text": [
            "\r[**********************49%%                      ]  493 of 1015 completed"
          ]
        },
        {
          "output_type": "stream",
          "name": "stderr",
          "text": [
            "/usr/local/lib/python3.11/dist-packages/yfinance/utils.py:788: FutureWarning: The 'unit' keyword in TimedeltaIndex construction is deprecated and will be removed in a future version. Use pd.to_timedelta instead.\n",
            "  df.index += _pd.TimedeltaIndex(dst_error_hours, 'h')\n",
            "/usr/local/lib/python3.11/dist-packages/yfinance/utils.py:788: FutureWarning: The 'unit' keyword in TimedeltaIndex construction is deprecated and will be removed in a future version. Use pd.to_timedelta instead.\n",
            "  df.index += _pd.TimedeltaIndex(dst_error_hours, 'h')\n"
          ]
        },
        {
          "output_type": "stream",
          "name": "stdout",
          "text": [
            "[**********************49%%                      ]  496 of 1015 completed"
          ]
        },
        {
          "output_type": "stream",
          "name": "stderr",
          "text": [
            "/usr/local/lib/python3.11/dist-packages/yfinance/utils.py:788: FutureWarning: The 'unit' keyword in TimedeltaIndex construction is deprecated and will be removed in a future version. Use pd.to_timedelta instead.\n",
            "  df.index += _pd.TimedeltaIndex(dst_error_hours, 'h')\n",
            "/usr/local/lib/python3.11/dist-packages/yfinance/utils.py:788: FutureWarning: The 'unit' keyword in TimedeltaIndex construction is deprecated and will be removed in a future version. Use pd.to_timedelta instead.\n",
            "  df.index += _pd.TimedeltaIndex(dst_error_hours, 'h')\n"
          ]
        },
        {
          "output_type": "stream",
          "name": "stdout",
          "text": [
            "[**********************49%%                      ]  497 of 1015 completed"
          ]
        },
        {
          "output_type": "stream",
          "name": "stderr",
          "text": [
            "/usr/local/lib/python3.11/dist-packages/yfinance/utils.py:788: FutureWarning: The 'unit' keyword in TimedeltaIndex construction is deprecated and will be removed in a future version. Use pd.to_timedelta instead.\n",
            "  df.index += _pd.TimedeltaIndex(dst_error_hours, 'h')\n",
            "/usr/local/lib/python3.11/dist-packages/yfinance/utils.py:788: FutureWarning: The 'unit' keyword in TimedeltaIndex construction is deprecated and will be removed in a future version. Use pd.to_timedelta instead.\n",
            "  df.index += _pd.TimedeltaIndex(dst_error_hours, 'h')\n"
          ]
        },
        {
          "output_type": "stream",
          "name": "stdout",
          "text": [
            "[**********************49%%                      ]  500 of 1015 completed"
          ]
        },
        {
          "output_type": "stream",
          "name": "stderr",
          "text": [
            "/usr/local/lib/python3.11/dist-packages/yfinance/utils.py:788: FutureWarning: The 'unit' keyword in TimedeltaIndex construction is deprecated and will be removed in a future version. Use pd.to_timedelta instead.\n",
            "  df.index += _pd.TimedeltaIndex(dst_error_hours, 'h')\n",
            "/usr/local/lib/python3.11/dist-packages/yfinance/utils.py:788: FutureWarning: The 'unit' keyword in TimedeltaIndex construction is deprecated and will be removed in a future version. Use pd.to_timedelta instead.\n",
            "  df.index += _pd.TimedeltaIndex(dst_error_hours, 'h')\n"
          ]
        },
        {
          "output_type": "stream",
          "name": "stdout",
          "text": [
            "[**********************49%%                      ]  502 of 1015 completed"
          ]
        },
        {
          "output_type": "stream",
          "name": "stderr",
          "text": [
            "/usr/local/lib/python3.11/dist-packages/yfinance/utils.py:788: FutureWarning: The 'unit' keyword in TimedeltaIndex construction is deprecated and will be removed in a future version. Use pd.to_timedelta instead.\n",
            "  df.index += _pd.TimedeltaIndex(dst_error_hours, 'h')\n",
            "/usr/local/lib/python3.11/dist-packages/yfinance/utils.py:788: FutureWarning: The 'unit' keyword in TimedeltaIndex construction is deprecated and will be removed in a future version. Use pd.to_timedelta instead.\n",
            "  df.index += _pd.TimedeltaIndex(dst_error_hours, 'h')\n",
            "/usr/local/lib/python3.11/dist-packages/yfinance/utils.py:788: FutureWarning: The 'unit' keyword in TimedeltaIndex construction is deprecated and will be removed in a future version. Use pd.to_timedelta instead.\n",
            "  df.index += _pd.TimedeltaIndex(dst_error_hours, 'h')\n"
          ]
        },
        {
          "output_type": "stream",
          "name": "stdout",
          "text": [
            "\r[**********************50%%                      ]  503 of 1015 completed"
          ]
        },
        {
          "output_type": "stream",
          "name": "stderr",
          "text": [
            "/usr/local/lib/python3.11/dist-packages/yfinance/utils.py:788: FutureWarning: The 'unit' keyword in TimedeltaIndex construction is deprecated and will be removed in a future version. Use pd.to_timedelta instead.\n",
            "  df.index += _pd.TimedeltaIndex(dst_error_hours, 'h')\n",
            "/usr/local/lib/python3.11/dist-packages/yfinance/utils.py:788: FutureWarning: The 'unit' keyword in TimedeltaIndex construction is deprecated and will be removed in a future version. Use pd.to_timedelta instead.\n",
            "  df.index += _pd.TimedeltaIndex(dst_error_hours, 'h')\n"
          ]
        },
        {
          "output_type": "stream",
          "name": "stdout",
          "text": [
            "[**********************50%%                      ]  507 of 1015 completed"
          ]
        },
        {
          "output_type": "stream",
          "name": "stderr",
          "text": [
            "/usr/local/lib/python3.11/dist-packages/yfinance/utils.py:788: FutureWarning: The 'unit' keyword in TimedeltaIndex construction is deprecated and will be removed in a future version. Use pd.to_timedelta instead.\n",
            "  df.index += _pd.TimedeltaIndex(dst_error_hours, 'h')\n",
            "/usr/local/lib/python3.11/dist-packages/yfinance/utils.py:788: FutureWarning: The 'unit' keyword in TimedeltaIndex construction is deprecated and will be removed in a future version. Use pd.to_timedelta instead.\n",
            "  df.index += _pd.TimedeltaIndex(dst_error_hours, 'h')\n"
          ]
        },
        {
          "output_type": "stream",
          "name": "stdout",
          "text": [
            "[**********************50%%                      ]  509 of 1015 completed"
          ]
        },
        {
          "output_type": "stream",
          "name": "stderr",
          "text": [
            "/usr/local/lib/python3.11/dist-packages/yfinance/utils.py:788: FutureWarning: The 'unit' keyword in TimedeltaIndex construction is deprecated and will be removed in a future version. Use pd.to_timedelta instead.\n",
            "  df.index += _pd.TimedeltaIndex(dst_error_hours, 'h')\n",
            "/usr/local/lib/python3.11/dist-packages/yfinance/utils.py:788: FutureWarning: The 'unit' keyword in TimedeltaIndex construction is deprecated and will be removed in a future version. Use pd.to_timedelta instead.\n",
            "  df.index += _pd.TimedeltaIndex(dst_error_hours, 'h')\n",
            "/usr/local/lib/python3.11/dist-packages/yfinance/utils.py:788: FutureWarning: The 'unit' keyword in TimedeltaIndex construction is deprecated and will be removed in a future version. Use pd.to_timedelta instead.\n",
            "  df.index += _pd.TimedeltaIndex(dst_error_hours, 'h')\n"
          ]
        },
        {
          "output_type": "stream",
          "name": "stdout",
          "text": [
            "[**********************50%%                      ]  512 of 1015 completed"
          ]
        },
        {
          "output_type": "stream",
          "name": "stderr",
          "text": [
            "/usr/local/lib/python3.11/dist-packages/yfinance/utils.py:788: FutureWarning: The 'unit' keyword in TimedeltaIndex construction is deprecated and will be removed in a future version. Use pd.to_timedelta instead.\n",
            "  df.index += _pd.TimedeltaIndex(dst_error_hours, 'h')\n",
            "/usr/local/lib/python3.11/dist-packages/yfinance/utils.py:788: FutureWarning: The 'unit' keyword in TimedeltaIndex construction is deprecated and will be removed in a future version. Use pd.to_timedelta instead.\n",
            "  df.index += _pd.TimedeltaIndex(dst_error_hours, 'h')\n",
            "/usr/local/lib/python3.11/dist-packages/yfinance/utils.py:788: FutureWarning: The 'unit' keyword in TimedeltaIndex construction is deprecated and will be removed in a future version. Use pd.to_timedelta instead.\n",
            "  df.index += _pd.TimedeltaIndex(dst_error_hours, 'h')\n"
          ]
        },
        {
          "output_type": "stream",
          "name": "stdout",
          "text": [
            "[**********************51%%                      ]  515 of 1015 completed"
          ]
        },
        {
          "output_type": "stream",
          "name": "stderr",
          "text": [
            "/usr/local/lib/python3.11/dist-packages/yfinance/utils.py:788: FutureWarning: The 'unit' keyword in TimedeltaIndex construction is deprecated and will be removed in a future version. Use pd.to_timedelta instead.\n",
            "  df.index += _pd.TimedeltaIndex(dst_error_hours, 'h')\n",
            "/usr/local/lib/python3.11/dist-packages/yfinance/utils.py:788: FutureWarning: The 'unit' keyword in TimedeltaIndex construction is deprecated and will be removed in a future version. Use pd.to_timedelta instead.\n",
            "  df.index += _pd.TimedeltaIndex(dst_error_hours, 'h')\n"
          ]
        },
        {
          "output_type": "stream",
          "name": "stdout",
          "text": [
            "[**********************51%%                      ]  517 of 1015 completed"
          ]
        },
        {
          "output_type": "stream",
          "name": "stderr",
          "text": [
            "/usr/local/lib/python3.11/dist-packages/yfinance/utils.py:788: FutureWarning: The 'unit' keyword in TimedeltaIndex construction is deprecated and will be removed in a future version. Use pd.to_timedelta instead.\n",
            "  df.index += _pd.TimedeltaIndex(dst_error_hours, 'h')\n",
            "/usr/local/lib/python3.11/dist-packages/yfinance/utils.py:788: FutureWarning: The 'unit' keyword in TimedeltaIndex construction is deprecated and will be removed in a future version. Use pd.to_timedelta instead.\n",
            "  df.index += _pd.TimedeltaIndex(dst_error_hours, 'h')\n",
            "/usr/local/lib/python3.11/dist-packages/yfinance/utils.py:788: FutureWarning: The 'unit' keyword in TimedeltaIndex construction is deprecated and will be removed in a future version. Use pd.to_timedelta instead.\n",
            "  df.index += _pd.TimedeltaIndex(dst_error_hours, 'h')\n"
          ]
        },
        {
          "output_type": "stream",
          "name": "stdout",
          "text": [
            "[**********************51%%                      ]  520 of 1015 completed"
          ]
        },
        {
          "output_type": "stream",
          "name": "stderr",
          "text": [
            "/usr/local/lib/python3.11/dist-packages/yfinance/utils.py:788: FutureWarning: The 'unit' keyword in TimedeltaIndex construction is deprecated and will be removed in a future version. Use pd.to_timedelta instead.\n",
            "  df.index += _pd.TimedeltaIndex(dst_error_hours, 'h')\n",
            "/usr/local/lib/python3.11/dist-packages/yfinance/utils.py:788: FutureWarning: The 'unit' keyword in TimedeltaIndex construction is deprecated and will be removed in a future version. Use pd.to_timedelta instead.\n",
            "  df.index += _pd.TimedeltaIndex(dst_error_hours, 'h')\n"
          ]
        },
        {
          "output_type": "stream",
          "name": "stdout",
          "text": [
            "[**********************52%%                      ]  523 of 1015 completed"
          ]
        },
        {
          "output_type": "stream",
          "name": "stderr",
          "text": [
            "/usr/local/lib/python3.11/dist-packages/yfinance/utils.py:788: FutureWarning: The 'unit' keyword in TimedeltaIndex construction is deprecated and will be removed in a future version. Use pd.to_timedelta instead.\n",
            "  df.index += _pd.TimedeltaIndex(dst_error_hours, 'h')\n",
            "/usr/local/lib/python3.11/dist-packages/yfinance/utils.py:788: FutureWarning: The 'unit' keyword in TimedeltaIndex construction is deprecated and will be removed in a future version. Use pd.to_timedelta instead.\n",
            "  df.index += _pd.TimedeltaIndex(dst_error_hours, 'h')\n",
            "/usr/local/lib/python3.11/dist-packages/yfinance/utils.py:788: FutureWarning: The 'unit' keyword in TimedeltaIndex construction is deprecated and will be removed in a future version. Use pd.to_timedelta instead.\n",
            "  df.index += _pd.TimedeltaIndex(dst_error_hours, 'h')\n"
          ]
        },
        {
          "output_type": "stream",
          "name": "stdout",
          "text": [
            "\r[**********************52%%                      ]  524 of 1015 completed"
          ]
        },
        {
          "output_type": "stream",
          "name": "stderr",
          "text": [
            "/usr/local/lib/python3.11/dist-packages/yfinance/utils.py:788: FutureWarning: The 'unit' keyword in TimedeltaIndex construction is deprecated and will be removed in a future version. Use pd.to_timedelta instead.\n",
            "  df.index += _pd.TimedeltaIndex(dst_error_hours, 'h')\n",
            "/usr/local/lib/python3.11/dist-packages/yfinance/utils.py:788: FutureWarning: The 'unit' keyword in TimedeltaIndex construction is deprecated and will be removed in a future version. Use pd.to_timedelta instead.\n",
            "  df.index += _pd.TimedeltaIndex(dst_error_hours, 'h')\n"
          ]
        },
        {
          "output_type": "stream",
          "name": "stdout",
          "text": [
            "[**********************52%%                      ]  526 of 1015 completed"
          ]
        },
        {
          "output_type": "stream",
          "name": "stderr",
          "text": [
            "/usr/local/lib/python3.11/dist-packages/yfinance/utils.py:788: FutureWarning: The 'unit' keyword in TimedeltaIndex construction is deprecated and will be removed in a future version. Use pd.to_timedelta instead.\n",
            "  df.index += _pd.TimedeltaIndex(dst_error_hours, 'h')\n",
            "/usr/local/lib/python3.11/dist-packages/yfinance/utils.py:788: FutureWarning: The 'unit' keyword in TimedeltaIndex construction is deprecated and will be removed in a future version. Use pd.to_timedelta instead.\n",
            "  df.index += _pd.TimedeltaIndex(dst_error_hours, 'h')\n"
          ]
        },
        {
          "output_type": "stream",
          "name": "stdout",
          "text": [
            "[**********************52%%                      ]  528 of 1015 completed"
          ]
        },
        {
          "output_type": "stream",
          "name": "stderr",
          "text": [
            "/usr/local/lib/python3.11/dist-packages/yfinance/utils.py:788: FutureWarning: The 'unit' keyword in TimedeltaIndex construction is deprecated and will be removed in a future version. Use pd.to_timedelta instead.\n",
            "  df.index += _pd.TimedeltaIndex(dst_error_hours, 'h')\n",
            "/usr/local/lib/python3.11/dist-packages/yfinance/utils.py:788: FutureWarning: The 'unit' keyword in TimedeltaIndex construction is deprecated and will be removed in a future version. Use pd.to_timedelta instead.\n",
            "  df.index += _pd.TimedeltaIndex(dst_error_hours, 'h')\n"
          ]
        },
        {
          "output_type": "stream",
          "name": "stdout",
          "text": [
            "[**********************52%%                      ]  530 of 1015 completed"
          ]
        },
        {
          "output_type": "stream",
          "name": "stderr",
          "text": [
            "/usr/local/lib/python3.11/dist-packages/yfinance/utils.py:788: FutureWarning: The 'unit' keyword in TimedeltaIndex construction is deprecated and will be removed in a future version. Use pd.to_timedelta instead.\n",
            "  df.index += _pd.TimedeltaIndex(dst_error_hours, 'h')\n",
            "/usr/local/lib/python3.11/dist-packages/yfinance/utils.py:788: FutureWarning: The 'unit' keyword in TimedeltaIndex construction is deprecated and will be removed in a future version. Use pd.to_timedelta instead.\n",
            "  df.index += _pd.TimedeltaIndex(dst_error_hours, 'h')\n"
          ]
        },
        {
          "output_type": "stream",
          "name": "stdout",
          "text": [
            "[**********************52%%                      ]  532 of 1015 completed"
          ]
        },
        {
          "output_type": "stream",
          "name": "stderr",
          "text": [
            "/usr/local/lib/python3.11/dist-packages/yfinance/utils.py:788: FutureWarning: The 'unit' keyword in TimedeltaIndex construction is deprecated and will be removed in a future version. Use pd.to_timedelta instead.\n",
            "  df.index += _pd.TimedeltaIndex(dst_error_hours, 'h')\n"
          ]
        },
        {
          "output_type": "stream",
          "name": "stdout",
          "text": [
            "[**********************53%%                      ]  534 of 1015 completed"
          ]
        },
        {
          "output_type": "stream",
          "name": "stderr",
          "text": [
            "/usr/local/lib/python3.11/dist-packages/yfinance/utils.py:788: FutureWarning: The 'unit' keyword in TimedeltaIndex construction is deprecated and will be removed in a future version. Use pd.to_timedelta instead.\n",
            "  df.index += _pd.TimedeltaIndex(dst_error_hours, 'h')\n",
            "/usr/local/lib/python3.11/dist-packages/yfinance/utils.py:788: FutureWarning: The 'unit' keyword in TimedeltaIndex construction is deprecated and will be removed in a future version. Use pd.to_timedelta instead.\n",
            "  df.index += _pd.TimedeltaIndex(dst_error_hours, 'h')\n"
          ]
        },
        {
          "output_type": "stream",
          "name": "stdout",
          "text": [
            "[**********************53%%                      ]  537 of 1015 completed"
          ]
        },
        {
          "output_type": "stream",
          "name": "stderr",
          "text": [
            "/usr/local/lib/python3.11/dist-packages/yfinance/utils.py:788: FutureWarning: The 'unit' keyword in TimedeltaIndex construction is deprecated and will be removed in a future version. Use pd.to_timedelta instead.\n",
            "  df.index += _pd.TimedeltaIndex(dst_error_hours, 'h')\n",
            "/usr/local/lib/python3.11/dist-packages/yfinance/utils.py:788: FutureWarning: The 'unit' keyword in TimedeltaIndex construction is deprecated and will be removed in a future version. Use pd.to_timedelta instead.\n",
            "  df.index += _pd.TimedeltaIndex(dst_error_hours, 'h')\n",
            "/usr/local/lib/python3.11/dist-packages/yfinance/utils.py:788: FutureWarning: The 'unit' keyword in TimedeltaIndex construction is deprecated and will be removed in a future version. Use pd.to_timedelta instead.\n",
            "  df.index += _pd.TimedeltaIndex(dst_error_hours, 'h')\n"
          ]
        },
        {
          "output_type": "stream",
          "name": "stdout",
          "text": [
            "[**********************53%%                      ]  539 of 1015 completed"
          ]
        },
        {
          "output_type": "stream",
          "name": "stderr",
          "text": [
            "/usr/local/lib/python3.11/dist-packages/yfinance/utils.py:788: FutureWarning: The 'unit' keyword in TimedeltaIndex construction is deprecated and will be removed in a future version. Use pd.to_timedelta instead.\n",
            "  df.index += _pd.TimedeltaIndex(dst_error_hours, 'h')\n",
            "/usr/local/lib/python3.11/dist-packages/yfinance/utils.py:788: FutureWarning: The 'unit' keyword in TimedeltaIndex construction is deprecated and will be removed in a future version. Use pd.to_timedelta instead.\n",
            "  df.index += _pd.TimedeltaIndex(dst_error_hours, 'h')\n",
            "/usr/local/lib/python3.11/dist-packages/yfinance/utils.py:788: FutureWarning: The 'unit' keyword in TimedeltaIndex construction is deprecated and will be removed in a future version. Use pd.to_timedelta instead.\n",
            "  df.index += _pd.TimedeltaIndex(dst_error_hours, 'h')\n"
          ]
        },
        {
          "output_type": "stream",
          "name": "stdout",
          "text": [
            "[**********************53%%                      ]  543 of 1015 completed"
          ]
        },
        {
          "output_type": "stream",
          "name": "stderr",
          "text": [
            "/usr/local/lib/python3.11/dist-packages/yfinance/utils.py:788: FutureWarning: The 'unit' keyword in TimedeltaIndex construction is deprecated and will be removed in a future version. Use pd.to_timedelta instead.\n",
            "  df.index += _pd.TimedeltaIndex(dst_error_hours, 'h')\n",
            "/usr/local/lib/python3.11/dist-packages/yfinance/utils.py:788: FutureWarning: The 'unit' keyword in TimedeltaIndex construction is deprecated and will be removed in a future version. Use pd.to_timedelta instead.\n",
            "  df.index += _pd.TimedeltaIndex(dst_error_hours, 'h')\n",
            "/usr/local/lib/python3.11/dist-packages/yfinance/utils.py:788: FutureWarning: The 'unit' keyword in TimedeltaIndex construction is deprecated and will be removed in a future version. Use pd.to_timedelta instead.\n",
            "  df.index += _pd.TimedeltaIndex(dst_error_hours, 'h')\n"
          ]
        },
        {
          "output_type": "stream",
          "name": "stdout",
          "text": [
            "[**********************54%%                      ]  545 of 1015 completed"
          ]
        },
        {
          "output_type": "stream",
          "name": "stderr",
          "text": [
            "/usr/local/lib/python3.11/dist-packages/yfinance/utils.py:788: FutureWarning: The 'unit' keyword in TimedeltaIndex construction is deprecated and will be removed in a future version. Use pd.to_timedelta instead.\n",
            "  df.index += _pd.TimedeltaIndex(dst_error_hours, 'h')\n",
            "/usr/local/lib/python3.11/dist-packages/yfinance/utils.py:788: FutureWarning: The 'unit' keyword in TimedeltaIndex construction is deprecated and will be removed in a future version. Use pd.to_timedelta instead.\n",
            "  df.index += _pd.TimedeltaIndex(dst_error_hours, 'h')\n",
            "/usr/local/lib/python3.11/dist-packages/yfinance/utils.py:788: FutureWarning: The 'unit' keyword in TimedeltaIndex construction is deprecated and will be removed in a future version. Use pd.to_timedelta instead.\n",
            "  df.index += _pd.TimedeltaIndex(dst_error_hours, 'h')\n"
          ]
        },
        {
          "output_type": "stream",
          "name": "stdout",
          "text": [
            "[**********************54%%                      ]  549 of 1015 completed"
          ]
        },
        {
          "output_type": "stream",
          "name": "stderr",
          "text": [
            "/usr/local/lib/python3.11/dist-packages/yfinance/utils.py:788: FutureWarning: The 'unit' keyword in TimedeltaIndex construction is deprecated and will be removed in a future version. Use pd.to_timedelta instead.\n",
            "  df.index += _pd.TimedeltaIndex(dst_error_hours, 'h')\n",
            "/usr/local/lib/python3.11/dist-packages/yfinance/utils.py:788: FutureWarning: The 'unit' keyword in TimedeltaIndex construction is deprecated and will be removed in a future version. Use pd.to_timedelta instead.\n",
            "  df.index += _pd.TimedeltaIndex(dst_error_hours, 'h')\n",
            "/usr/local/lib/python3.11/dist-packages/yfinance/utils.py:788: FutureWarning: The 'unit' keyword in TimedeltaIndex construction is deprecated and will be removed in a future version. Use pd.to_timedelta instead.\n",
            "  df.index += _pd.TimedeltaIndex(dst_error_hours, 'h')\n"
          ]
        },
        {
          "output_type": "stream",
          "name": "stdout",
          "text": [
            "[**********************54%%                      ]  552 of 1015 completed"
          ]
        },
        {
          "output_type": "stream",
          "name": "stderr",
          "text": [
            "/usr/local/lib/python3.11/dist-packages/yfinance/utils.py:788: FutureWarning: The 'unit' keyword in TimedeltaIndex construction is deprecated and will be removed in a future version. Use pd.to_timedelta instead.\n",
            "  df.index += _pd.TimedeltaIndex(dst_error_hours, 'h')\n",
            "/usr/local/lib/python3.11/dist-packages/yfinance/utils.py:788: FutureWarning: The 'unit' keyword in TimedeltaIndex construction is deprecated and will be removed in a future version. Use pd.to_timedelta instead.\n",
            "  df.index += _pd.TimedeltaIndex(dst_error_hours, 'h')\n",
            "/usr/local/lib/python3.11/dist-packages/yfinance/utils.py:788: FutureWarning: The 'unit' keyword in TimedeltaIndex construction is deprecated and will be removed in a future version. Use pd.to_timedelta instead.\n",
            "  df.index += _pd.TimedeltaIndex(dst_error_hours, 'h')\n"
          ]
        },
        {
          "output_type": "stream",
          "name": "stdout",
          "text": [
            "[**********************55%%                      ]  554 of 1015 completed"
          ]
        },
        {
          "output_type": "stream",
          "name": "stderr",
          "text": [
            "/usr/local/lib/python3.11/dist-packages/yfinance/utils.py:788: FutureWarning: The 'unit' keyword in TimedeltaIndex construction is deprecated and will be removed in a future version. Use pd.to_timedelta instead.\n",
            "  df.index += _pd.TimedeltaIndex(dst_error_hours, 'h')\n",
            "/usr/local/lib/python3.11/dist-packages/yfinance/utils.py:788: FutureWarning: The 'unit' keyword in TimedeltaIndex construction is deprecated and will be removed in a future version. Use pd.to_timedelta instead.\n",
            "  df.index += _pd.TimedeltaIndex(dst_error_hours, 'h')\n"
          ]
        },
        {
          "output_type": "stream",
          "name": "stdout",
          "text": [
            "[**********************55%%                      ]  556 of 1015 completed"
          ]
        },
        {
          "output_type": "stream",
          "name": "stderr",
          "text": [
            "/usr/local/lib/python3.11/dist-packages/yfinance/utils.py:788: FutureWarning: The 'unit' keyword in TimedeltaIndex construction is deprecated and will be removed in a future version. Use pd.to_timedelta instead.\n",
            "  df.index += _pd.TimedeltaIndex(dst_error_hours, 'h')\n",
            "/usr/local/lib/python3.11/dist-packages/yfinance/utils.py:788: FutureWarning: The 'unit' keyword in TimedeltaIndex construction is deprecated and will be removed in a future version. Use pd.to_timedelta instead.\n",
            "  df.index += _pd.TimedeltaIndex(dst_error_hours, 'h')\n"
          ]
        },
        {
          "output_type": "stream",
          "name": "stdout",
          "text": [
            "[**********************55%%                      ]  559 of 1015 completed"
          ]
        },
        {
          "output_type": "stream",
          "name": "stderr",
          "text": [
            "/usr/local/lib/python3.11/dist-packages/yfinance/utils.py:788: FutureWarning: The 'unit' keyword in TimedeltaIndex construction is deprecated and will be removed in a future version. Use pd.to_timedelta instead.\n",
            "  df.index += _pd.TimedeltaIndex(dst_error_hours, 'h')\n",
            "/usr/local/lib/python3.11/dist-packages/yfinance/utils.py:788: FutureWarning: The 'unit' keyword in TimedeltaIndex construction is deprecated and will be removed in a future version. Use pd.to_timedelta instead.\n",
            "  df.index += _pd.TimedeltaIndex(dst_error_hours, 'h')\n",
            "/usr/local/lib/python3.11/dist-packages/yfinance/utils.py:788: FutureWarning: The 'unit' keyword in TimedeltaIndex construction is deprecated and will be removed in a future version. Use pd.to_timedelta instead.\n",
            "  df.index += _pd.TimedeltaIndex(dst_error_hours, 'h')\n"
          ]
        },
        {
          "output_type": "stream",
          "name": "stdout",
          "text": [
            "[**********************55%%                      ]  562 of 1015 completed"
          ]
        },
        {
          "output_type": "stream",
          "name": "stderr",
          "text": [
            "/usr/local/lib/python3.11/dist-packages/yfinance/utils.py:788: FutureWarning: The 'unit' keyword in TimedeltaIndex construction is deprecated and will be removed in a future version. Use pd.to_timedelta instead.\n",
            "  df.index += _pd.TimedeltaIndex(dst_error_hours, 'h')\n",
            "/usr/local/lib/python3.11/dist-packages/yfinance/utils.py:788: FutureWarning: The 'unit' keyword in TimedeltaIndex construction is deprecated and will be removed in a future version. Use pd.to_timedelta instead.\n",
            "  df.index += _pd.TimedeltaIndex(dst_error_hours, 'h')\n",
            "/usr/local/lib/python3.11/dist-packages/yfinance/utils.py:788: FutureWarning: The 'unit' keyword in TimedeltaIndex construction is deprecated and will be removed in a future version. Use pd.to_timedelta instead.\n",
            "  df.index += _pd.TimedeltaIndex(dst_error_hours, 'h')\n"
          ]
        },
        {
          "output_type": "stream",
          "name": "stdout",
          "text": [
            "[**********************56%%*                     ]  564 of 1015 completed"
          ]
        },
        {
          "output_type": "stream",
          "name": "stderr",
          "text": [
            "/usr/local/lib/python3.11/dist-packages/yfinance/utils.py:788: FutureWarning: The 'unit' keyword in TimedeltaIndex construction is deprecated and will be removed in a future version. Use pd.to_timedelta instead.\n",
            "  df.index += _pd.TimedeltaIndex(dst_error_hours, 'h')\n",
            "/usr/local/lib/python3.11/dist-packages/yfinance/utils.py:788: FutureWarning: The 'unit' keyword in TimedeltaIndex construction is deprecated and will be removed in a future version. Use pd.to_timedelta instead.\n",
            "  df.index += _pd.TimedeltaIndex(dst_error_hours, 'h')\n",
            "/usr/local/lib/python3.11/dist-packages/yfinance/utils.py:788: FutureWarning: The 'unit' keyword in TimedeltaIndex construction is deprecated and will be removed in a future version. Use pd.to_timedelta instead.\n",
            "  df.index += _pd.TimedeltaIndex(dst_error_hours, 'h')\n"
          ]
        },
        {
          "output_type": "stream",
          "name": "stdout",
          "text": [
            "[**********************56%%*                     ]  567 of 1015 completed"
          ]
        },
        {
          "output_type": "stream",
          "name": "stderr",
          "text": [
            "/usr/local/lib/python3.11/dist-packages/yfinance/utils.py:788: FutureWarning: The 'unit' keyword in TimedeltaIndex construction is deprecated and will be removed in a future version. Use pd.to_timedelta instead.\n",
            "  df.index += _pd.TimedeltaIndex(dst_error_hours, 'h')\n",
            "/usr/local/lib/python3.11/dist-packages/yfinance/utils.py:788: FutureWarning: The 'unit' keyword in TimedeltaIndex construction is deprecated and will be removed in a future version. Use pd.to_timedelta instead.\n",
            "  df.index += _pd.TimedeltaIndex(dst_error_hours, 'h')\n",
            "/usr/local/lib/python3.11/dist-packages/yfinance/utils.py:788: FutureWarning: The 'unit' keyword in TimedeltaIndex construction is deprecated and will be removed in a future version. Use pd.to_timedelta instead.\n",
            "  df.index += _pd.TimedeltaIndex(dst_error_hours, 'h')\n"
          ]
        },
        {
          "output_type": "stream",
          "name": "stdout",
          "text": [
            "[**********************56%%*                     ]  570 of 1015 completed"
          ]
        },
        {
          "output_type": "stream",
          "name": "stderr",
          "text": [
            "/usr/local/lib/python3.11/dist-packages/yfinance/utils.py:788: FutureWarning: The 'unit' keyword in TimedeltaIndex construction is deprecated and will be removed in a future version. Use pd.to_timedelta instead.\n",
            "  df.index += _pd.TimedeltaIndex(dst_error_hours, 'h')\n",
            "/usr/local/lib/python3.11/dist-packages/yfinance/utils.py:788: FutureWarning: The 'unit' keyword in TimedeltaIndex construction is deprecated and will be removed in a future version. Use pd.to_timedelta instead.\n",
            "  df.index += _pd.TimedeltaIndex(dst_error_hours, 'h')\n",
            "/usr/local/lib/python3.11/dist-packages/yfinance/utils.py:788: FutureWarning: The 'unit' keyword in TimedeltaIndex construction is deprecated and will be removed in a future version. Use pd.to_timedelta instead.\n",
            "  df.index += _pd.TimedeltaIndex(dst_error_hours, 'h')\n"
          ]
        },
        {
          "output_type": "stream",
          "name": "stdout",
          "text": [
            "[**********************56%%*                     ]  573 of 1015 completed"
          ]
        },
        {
          "output_type": "stream",
          "name": "stderr",
          "text": [
            "/usr/local/lib/python3.11/dist-packages/yfinance/utils.py:788: FutureWarning: The 'unit' keyword in TimedeltaIndex construction is deprecated and will be removed in a future version. Use pd.to_timedelta instead.\n",
            "  df.index += _pd.TimedeltaIndex(dst_error_hours, 'h')\n",
            "/usr/local/lib/python3.11/dist-packages/yfinance/utils.py:788: FutureWarning: The 'unit' keyword in TimedeltaIndex construction is deprecated and will be removed in a future version. Use pd.to_timedelta instead.\n",
            "  df.index += _pd.TimedeltaIndex(dst_error_hours, 'h')\n",
            "/usr/local/lib/python3.11/dist-packages/yfinance/utils.py:788: FutureWarning: The 'unit' keyword in TimedeltaIndex construction is deprecated and will be removed in a future version. Use pd.to_timedelta instead.\n",
            "  df.index += _pd.TimedeltaIndex(dst_error_hours, 'h')\n"
          ]
        },
        {
          "output_type": "stream",
          "name": "stdout",
          "text": [
            "[**********************57%%*                     ]  577 of 1015 completed"
          ]
        },
        {
          "output_type": "stream",
          "name": "stderr",
          "text": [
            "/usr/local/lib/python3.11/dist-packages/yfinance/utils.py:788: FutureWarning: The 'unit' keyword in TimedeltaIndex construction is deprecated and will be removed in a future version. Use pd.to_timedelta instead.\n",
            "  df.index += _pd.TimedeltaIndex(dst_error_hours, 'h')\n",
            "/usr/local/lib/python3.11/dist-packages/yfinance/utils.py:788: FutureWarning: The 'unit' keyword in TimedeltaIndex construction is deprecated and will be removed in a future version. Use pd.to_timedelta instead.\n",
            "  df.index += _pd.TimedeltaIndex(dst_error_hours, 'h')\n",
            "/usr/local/lib/python3.11/dist-packages/yfinance/utils.py:788: FutureWarning: The 'unit' keyword in TimedeltaIndex construction is deprecated and will be removed in a future version. Use pd.to_timedelta instead.\n",
            "  df.index += _pd.TimedeltaIndex(dst_error_hours, 'h')\n"
          ]
        },
        {
          "output_type": "stream",
          "name": "stdout",
          "text": [
            "[**********************57%%*                     ]  581 of 1015 completed"
          ]
        },
        {
          "output_type": "stream",
          "name": "stderr",
          "text": [
            "/usr/local/lib/python3.11/dist-packages/yfinance/utils.py:788: FutureWarning: The 'unit' keyword in TimedeltaIndex construction is deprecated and will be removed in a future version. Use pd.to_timedelta instead.\n",
            "  df.index += _pd.TimedeltaIndex(dst_error_hours, 'h')\n",
            "/usr/local/lib/python3.11/dist-packages/yfinance/utils.py:788: FutureWarning: The 'unit' keyword in TimedeltaIndex construction is deprecated and will be removed in a future version. Use pd.to_timedelta instead.\n",
            "  df.index += _pd.TimedeltaIndex(dst_error_hours, 'h')\n",
            "/usr/local/lib/python3.11/dist-packages/yfinance/utils.py:788: FutureWarning: The 'unit' keyword in TimedeltaIndex construction is deprecated and will be removed in a future version. Use pd.to_timedelta instead.\n",
            "  df.index += _pd.TimedeltaIndex(dst_error_hours, 'h')\n",
            "/usr/local/lib/python3.11/dist-packages/yfinance/utils.py:788: FutureWarning: The 'unit' keyword in TimedeltaIndex construction is deprecated and will be removed in a future version. Use pd.to_timedelta instead.\n",
            "  df.index += _pd.TimedeltaIndex(dst_error_hours, 'h')\n"
          ]
        },
        {
          "output_type": "stream",
          "name": "stdout",
          "text": [
            "[**********************58%%**                    ]  584 of 1015 completed"
          ]
        },
        {
          "output_type": "stream",
          "name": "stderr",
          "text": [
            "/usr/local/lib/python3.11/dist-packages/yfinance/utils.py:788: FutureWarning: The 'unit' keyword in TimedeltaIndex construction is deprecated and will be removed in a future version. Use pd.to_timedelta instead.\n",
            "  df.index += _pd.TimedeltaIndex(dst_error_hours, 'h')\n",
            "/usr/local/lib/python3.11/dist-packages/yfinance/utils.py:788: FutureWarning: The 'unit' keyword in TimedeltaIndex construction is deprecated and will be removed in a future version. Use pd.to_timedelta instead.\n",
            "  df.index += _pd.TimedeltaIndex(dst_error_hours, 'h')\n",
            "/usr/local/lib/python3.11/dist-packages/yfinance/utils.py:788: FutureWarning: The 'unit' keyword in TimedeltaIndex construction is deprecated and will be removed in a future version. Use pd.to_timedelta instead.\n",
            "  df.index += _pd.TimedeltaIndex(dst_error_hours, 'h')\n"
          ]
        },
        {
          "output_type": "stream",
          "name": "stdout",
          "text": [
            "[**********************58%%**                    ]  587 of 1015 completed"
          ]
        },
        {
          "output_type": "stream",
          "name": "stderr",
          "text": [
            "/usr/local/lib/python3.11/dist-packages/yfinance/utils.py:788: FutureWarning: The 'unit' keyword in TimedeltaIndex construction is deprecated and will be removed in a future version. Use pd.to_timedelta instead.\n",
            "  df.index += _pd.TimedeltaIndex(dst_error_hours, 'h')\n",
            "/usr/local/lib/python3.11/dist-packages/yfinance/utils.py:788: FutureWarning: The 'unit' keyword in TimedeltaIndex construction is deprecated and will be removed in a future version. Use pd.to_timedelta instead.\n",
            "  df.index += _pd.TimedeltaIndex(dst_error_hours, 'h')\n",
            "/usr/local/lib/python3.11/dist-packages/yfinance/utils.py:788: FutureWarning: The 'unit' keyword in TimedeltaIndex construction is deprecated and will be removed in a future version. Use pd.to_timedelta instead.\n",
            "  df.index += _pd.TimedeltaIndex(dst_error_hours, 'h')\n"
          ]
        },
        {
          "output_type": "stream",
          "name": "stdout",
          "text": [
            "[**********************58%%**                    ]  590 of 1015 completed"
          ]
        },
        {
          "output_type": "stream",
          "name": "stderr",
          "text": [
            "/usr/local/lib/python3.11/dist-packages/yfinance/utils.py:788: FutureWarning: The 'unit' keyword in TimedeltaIndex construction is deprecated and will be removed in a future version. Use pd.to_timedelta instead.\n",
            "  df.index += _pd.TimedeltaIndex(dst_error_hours, 'h')\n",
            "/usr/local/lib/python3.11/dist-packages/yfinance/utils.py:788: FutureWarning: The 'unit' keyword in TimedeltaIndex construction is deprecated and will be removed in a future version. Use pd.to_timedelta instead.\n",
            "  df.index += _pd.TimedeltaIndex(dst_error_hours, 'h')\n",
            "/usr/local/lib/python3.11/dist-packages/yfinance/utils.py:788: FutureWarning: The 'unit' keyword in TimedeltaIndex construction is deprecated and will be removed in a future version. Use pd.to_timedelta instead.\n",
            "  df.index += _pd.TimedeltaIndex(dst_error_hours, 'h')\n"
          ]
        },
        {
          "output_type": "stream",
          "name": "stdout",
          "text": [
            "[**********************58%%**                    ]  592 of 1015 completed"
          ]
        },
        {
          "output_type": "stream",
          "name": "stderr",
          "text": [
            "/usr/local/lib/python3.11/dist-packages/yfinance/utils.py:788: FutureWarning: The 'unit' keyword in TimedeltaIndex construction is deprecated and will be removed in a future version. Use pd.to_timedelta instead.\n",
            "  df.index += _pd.TimedeltaIndex(dst_error_hours, 'h')\n",
            "/usr/local/lib/python3.11/dist-packages/yfinance/utils.py:788: FutureWarning: The 'unit' keyword in TimedeltaIndex construction is deprecated and will be removed in a future version. Use pd.to_timedelta instead.\n",
            "  df.index += _pd.TimedeltaIndex(dst_error_hours, 'h')\n",
            "/usr/local/lib/python3.11/dist-packages/yfinance/utils.py:788: FutureWarning: The 'unit' keyword in TimedeltaIndex construction is deprecated and will be removed in a future version. Use pd.to_timedelta instead.\n",
            "  df.index += _pd.TimedeltaIndex(dst_error_hours, 'h')\n"
          ]
        },
        {
          "output_type": "stream",
          "name": "stdout",
          "text": [
            "[**********************59%%**                    ]  594 of 1015 completed"
          ]
        },
        {
          "output_type": "stream",
          "name": "stderr",
          "text": [
            "/usr/local/lib/python3.11/dist-packages/yfinance/utils.py:788: FutureWarning: The 'unit' keyword in TimedeltaIndex construction is deprecated and will be removed in a future version. Use pd.to_timedelta instead.\n",
            "  df.index += _pd.TimedeltaIndex(dst_error_hours, 'h')\n",
            "/usr/local/lib/python3.11/dist-packages/yfinance/utils.py:788: FutureWarning: The 'unit' keyword in TimedeltaIndex construction is deprecated and will be removed in a future version. Use pd.to_timedelta instead.\n",
            "  df.index += _pd.TimedeltaIndex(dst_error_hours, 'h')\n"
          ]
        },
        {
          "output_type": "stream",
          "name": "stdout",
          "text": [
            "[**********************59%%**                    ]  598 of 1015 completed"
          ]
        },
        {
          "output_type": "stream",
          "name": "stderr",
          "text": [
            "/usr/local/lib/python3.11/dist-packages/yfinance/utils.py:788: FutureWarning: The 'unit' keyword in TimedeltaIndex construction is deprecated and will be removed in a future version. Use pd.to_timedelta instead.\n",
            "  df.index += _pd.TimedeltaIndex(dst_error_hours, 'h')\n",
            "/usr/local/lib/python3.11/dist-packages/yfinance/utils.py:788: FutureWarning: The 'unit' keyword in TimedeltaIndex construction is deprecated and will be removed in a future version. Use pd.to_timedelta instead.\n",
            "  df.index += _pd.TimedeltaIndex(dst_error_hours, 'h')\n",
            "/usr/local/lib/python3.11/dist-packages/yfinance/utils.py:788: FutureWarning: The 'unit' keyword in TimedeltaIndex construction is deprecated and will be removed in a future version. Use pd.to_timedelta instead.\n",
            "  df.index += _pd.TimedeltaIndex(dst_error_hours, 'h')\n",
            "/usr/local/lib/python3.11/dist-packages/yfinance/utils.py:788: FutureWarning: The 'unit' keyword in TimedeltaIndex construction is deprecated and will be removed in a future version. Use pd.to_timedelta instead.\n",
            "  df.index += _pd.TimedeltaIndex(dst_error_hours, 'h')\n"
          ]
        },
        {
          "output_type": "stream",
          "name": "stdout",
          "text": [
            "[**********************59%%**                    ]  601 of 1015 completed"
          ]
        },
        {
          "output_type": "stream",
          "name": "stderr",
          "text": [
            "/usr/local/lib/python3.11/dist-packages/yfinance/utils.py:788: FutureWarning: The 'unit' keyword in TimedeltaIndex construction is deprecated and will be removed in a future version. Use pd.to_timedelta instead.\n",
            "  df.index += _pd.TimedeltaIndex(dst_error_hours, 'h')\n",
            "/usr/local/lib/python3.11/dist-packages/yfinance/utils.py:788: FutureWarning: The 'unit' keyword in TimedeltaIndex construction is deprecated and will be removed in a future version. Use pd.to_timedelta instead.\n",
            "  df.index += _pd.TimedeltaIndex(dst_error_hours, 'h')\n",
            "/usr/local/lib/python3.11/dist-packages/yfinance/utils.py:788: FutureWarning: The 'unit' keyword in TimedeltaIndex construction is deprecated and will be removed in a future version. Use pd.to_timedelta instead.\n",
            "  df.index += _pd.TimedeltaIndex(dst_error_hours, 'h')\n"
          ]
        },
        {
          "output_type": "stream",
          "name": "stdout",
          "text": [
            "[**********************60%%***                   ]  605 of 1015 completed"
          ]
        },
        {
          "output_type": "stream",
          "name": "stderr",
          "text": [
            "/usr/local/lib/python3.11/dist-packages/yfinance/utils.py:788: FutureWarning: The 'unit' keyword in TimedeltaIndex construction is deprecated and will be removed in a future version. Use pd.to_timedelta instead.\n",
            "  df.index += _pd.TimedeltaIndex(dst_error_hours, 'h')\n",
            "/usr/local/lib/python3.11/dist-packages/yfinance/utils.py:788: FutureWarning: The 'unit' keyword in TimedeltaIndex construction is deprecated and will be removed in a future version. Use pd.to_timedelta instead.\n",
            "  df.index += _pd.TimedeltaIndex(dst_error_hours, 'h')\n",
            "/usr/local/lib/python3.11/dist-packages/yfinance/utils.py:788: FutureWarning: The 'unit' keyword in TimedeltaIndex construction is deprecated and will be removed in a future version. Use pd.to_timedelta instead.\n",
            "  df.index += _pd.TimedeltaIndex(dst_error_hours, 'h')\n"
          ]
        },
        {
          "output_type": "stream",
          "name": "stdout",
          "text": [
            "[**********************60%%***                   ]  607 of 1015 completed"
          ]
        },
        {
          "output_type": "stream",
          "name": "stderr",
          "text": [
            "/usr/local/lib/python3.11/dist-packages/yfinance/utils.py:788: FutureWarning: The 'unit' keyword in TimedeltaIndex construction is deprecated and will be removed in a future version. Use pd.to_timedelta instead.\n",
            "  df.index += _pd.TimedeltaIndex(dst_error_hours, 'h')\n",
            "/usr/local/lib/python3.11/dist-packages/yfinance/utils.py:788: FutureWarning: The 'unit' keyword in TimedeltaIndex construction is deprecated and will be removed in a future version. Use pd.to_timedelta instead.\n",
            "  df.index += _pd.TimedeltaIndex(dst_error_hours, 'h')\n",
            "/usr/local/lib/python3.11/dist-packages/yfinance/utils.py:788: FutureWarning: The 'unit' keyword in TimedeltaIndex construction is deprecated and will be removed in a future version. Use pd.to_timedelta instead.\n",
            "  df.index += _pd.TimedeltaIndex(dst_error_hours, 'h')\n"
          ]
        },
        {
          "output_type": "stream",
          "name": "stdout",
          "text": [
            "[**********************60%%***                   ]  610 of 1015 completed"
          ]
        },
        {
          "output_type": "stream",
          "name": "stderr",
          "text": [
            "/usr/local/lib/python3.11/dist-packages/yfinance/utils.py:788: FutureWarning: The 'unit' keyword in TimedeltaIndex construction is deprecated and will be removed in a future version. Use pd.to_timedelta instead.\n",
            "  df.index += _pd.TimedeltaIndex(dst_error_hours, 'h')\n",
            "/usr/local/lib/python3.11/dist-packages/yfinance/utils.py:788: FutureWarning: The 'unit' keyword in TimedeltaIndex construction is deprecated and will be removed in a future version. Use pd.to_timedelta instead.\n",
            "  df.index += _pd.TimedeltaIndex(dst_error_hours, 'h')\n"
          ]
        },
        {
          "output_type": "stream",
          "name": "stdout",
          "text": [
            "[**********************60%%***                   ]  612 of 1015 completed"
          ]
        },
        {
          "output_type": "stream",
          "name": "stderr",
          "text": [
            "/usr/local/lib/python3.11/dist-packages/yfinance/utils.py:788: FutureWarning: The 'unit' keyword in TimedeltaIndex construction is deprecated and will be removed in a future version. Use pd.to_timedelta instead.\n",
            "  df.index += _pd.TimedeltaIndex(dst_error_hours, 'h')\n",
            "/usr/local/lib/python3.11/dist-packages/yfinance/utils.py:788: FutureWarning: The 'unit' keyword in TimedeltaIndex construction is deprecated and will be removed in a future version. Use pd.to_timedelta instead.\n",
            "  df.index += _pd.TimedeltaIndex(dst_error_hours, 'h')\n",
            "/usr/local/lib/python3.11/dist-packages/yfinance/utils.py:788: FutureWarning: The 'unit' keyword in TimedeltaIndex construction is deprecated and will be removed in a future version. Use pd.to_timedelta instead.\n",
            "  df.index += _pd.TimedeltaIndex(dst_error_hours, 'h')\n"
          ]
        },
        {
          "output_type": "stream",
          "name": "stdout",
          "text": [
            "[**********************61%%***                   ]  616 of 1015 completed"
          ]
        },
        {
          "output_type": "stream",
          "name": "stderr",
          "text": [
            "/usr/local/lib/python3.11/dist-packages/yfinance/utils.py:788: FutureWarning: The 'unit' keyword in TimedeltaIndex construction is deprecated and will be removed in a future version. Use pd.to_timedelta instead.\n",
            "  df.index += _pd.TimedeltaIndex(dst_error_hours, 'h')\n",
            "/usr/local/lib/python3.11/dist-packages/yfinance/utils.py:788: FutureWarning: The 'unit' keyword in TimedeltaIndex construction is deprecated and will be removed in a future version. Use pd.to_timedelta instead.\n",
            "  df.index += _pd.TimedeltaIndex(dst_error_hours, 'h')\n",
            "/usr/local/lib/python3.11/dist-packages/yfinance/utils.py:788: FutureWarning: The 'unit' keyword in TimedeltaIndex construction is deprecated and will be removed in a future version. Use pd.to_timedelta instead.\n",
            "  df.index += _pd.TimedeltaIndex(dst_error_hours, 'h')\n"
          ]
        },
        {
          "output_type": "stream",
          "name": "stdout",
          "text": [
            "[**********************61%%***                   ]  619 of 1015 completed"
          ]
        },
        {
          "output_type": "stream",
          "name": "stderr",
          "text": [
            "/usr/local/lib/python3.11/dist-packages/yfinance/utils.py:788: FutureWarning: The 'unit' keyword in TimedeltaIndex construction is deprecated and will be removed in a future version. Use pd.to_timedelta instead.\n",
            "  df.index += _pd.TimedeltaIndex(dst_error_hours, 'h')\n",
            "/usr/local/lib/python3.11/dist-packages/yfinance/utils.py:788: FutureWarning: The 'unit' keyword in TimedeltaIndex construction is deprecated and will be removed in a future version. Use pd.to_timedelta instead.\n",
            "  df.index += _pd.TimedeltaIndex(dst_error_hours, 'h')\n",
            "/usr/local/lib/python3.11/dist-packages/yfinance/utils.py:788: FutureWarning: The 'unit' keyword in TimedeltaIndex construction is deprecated and will be removed in a future version. Use pd.to_timedelta instead.\n",
            "  df.index += _pd.TimedeltaIndex(dst_error_hours, 'h')\n"
          ]
        },
        {
          "output_type": "stream",
          "name": "stdout",
          "text": [
            "[**********************61%%***                   ]  621 of 1015 completed"
          ]
        },
        {
          "output_type": "stream",
          "name": "stderr",
          "text": [
            "/usr/local/lib/python3.11/dist-packages/yfinance/utils.py:788: FutureWarning: The 'unit' keyword in TimedeltaIndex construction is deprecated and will be removed in a future version. Use pd.to_timedelta instead.\n",
            "  df.index += _pd.TimedeltaIndex(dst_error_hours, 'h')\n",
            "/usr/local/lib/python3.11/dist-packages/yfinance/utils.py:788: FutureWarning: The 'unit' keyword in TimedeltaIndex construction is deprecated and will be removed in a future version. Use pd.to_timedelta instead.\n",
            "  df.index += _pd.TimedeltaIndex(dst_error_hours, 'h')\n",
            "/usr/local/lib/python3.11/dist-packages/yfinance/utils.py:788: FutureWarning: The 'unit' keyword in TimedeltaIndex construction is deprecated and will be removed in a future version. Use pd.to_timedelta instead.\n",
            "  df.index += _pd.TimedeltaIndex(dst_error_hours, 'h')\n"
          ]
        },
        {
          "output_type": "stream",
          "name": "stdout",
          "text": [
            "[**********************61%%***                   ]  624 of 1015 completed"
          ]
        },
        {
          "output_type": "stream",
          "name": "stderr",
          "text": [
            "/usr/local/lib/python3.11/dist-packages/yfinance/utils.py:788: FutureWarning: The 'unit' keyword in TimedeltaIndex construction is deprecated and will be removed in a future version. Use pd.to_timedelta instead.\n",
            "  df.index += _pd.TimedeltaIndex(dst_error_hours, 'h')\n",
            "/usr/local/lib/python3.11/dist-packages/yfinance/utils.py:788: FutureWarning: The 'unit' keyword in TimedeltaIndex construction is deprecated and will be removed in a future version. Use pd.to_timedelta instead.\n",
            "  df.index += _pd.TimedeltaIndex(dst_error_hours, 'h')\n",
            "/usr/local/lib/python3.11/dist-packages/yfinance/utils.py:788: FutureWarning: The 'unit' keyword in TimedeltaIndex construction is deprecated and will be removed in a future version. Use pd.to_timedelta instead.\n",
            "  df.index += _pd.TimedeltaIndex(dst_error_hours, 'h')\n"
          ]
        },
        {
          "output_type": "stream",
          "name": "stdout",
          "text": [
            "[**********************62%%****                  ]  627 of 1015 completed"
          ]
        },
        {
          "output_type": "stream",
          "name": "stderr",
          "text": [
            "/usr/local/lib/python3.11/dist-packages/yfinance/utils.py:788: FutureWarning: The 'unit' keyword in TimedeltaIndex construction is deprecated and will be removed in a future version. Use pd.to_timedelta instead.\n",
            "  df.index += _pd.TimedeltaIndex(dst_error_hours, 'h')\n",
            "/usr/local/lib/python3.11/dist-packages/yfinance/utils.py:788: FutureWarning: The 'unit' keyword in TimedeltaIndex construction is deprecated and will be removed in a future version. Use pd.to_timedelta instead.\n",
            "  df.index += _pd.TimedeltaIndex(dst_error_hours, 'h')\n",
            "/usr/local/lib/python3.11/dist-packages/yfinance/utils.py:788: FutureWarning: The 'unit' keyword in TimedeltaIndex construction is deprecated and will be removed in a future version. Use pd.to_timedelta instead.\n",
            "  df.index += _pd.TimedeltaIndex(dst_error_hours, 'h')\n"
          ]
        },
        {
          "output_type": "stream",
          "name": "stdout",
          "text": [
            "[**********************62%%****                  ]  631 of 1015 completed"
          ]
        },
        {
          "output_type": "stream",
          "name": "stderr",
          "text": [
            "/usr/local/lib/python3.11/dist-packages/yfinance/utils.py:788: FutureWarning: The 'unit' keyword in TimedeltaIndex construction is deprecated and will be removed in a future version. Use pd.to_timedelta instead.\n",
            "  df.index += _pd.TimedeltaIndex(dst_error_hours, 'h')\n",
            "/usr/local/lib/python3.11/dist-packages/yfinance/utils.py:788: FutureWarning: The 'unit' keyword in TimedeltaIndex construction is deprecated and will be removed in a future version. Use pd.to_timedelta instead.\n",
            "  df.index += _pd.TimedeltaIndex(dst_error_hours, 'h')\n",
            "/usr/local/lib/python3.11/dist-packages/yfinance/utils.py:788: FutureWarning: The 'unit' keyword in TimedeltaIndex construction is deprecated and will be removed in a future version. Use pd.to_timedelta instead.\n",
            "  df.index += _pd.TimedeltaIndex(dst_error_hours, 'h')\n",
            "/usr/local/lib/python3.11/dist-packages/yfinance/utils.py:788: FutureWarning: The 'unit' keyword in TimedeltaIndex construction is deprecated and will be removed in a future version. Use pd.to_timedelta instead.\n",
            "  df.index += _pd.TimedeltaIndex(dst_error_hours, 'h')\n"
          ]
        },
        {
          "output_type": "stream",
          "name": "stdout",
          "text": [
            "[**********************63%%****                  ]  635 of 1015 completed"
          ]
        },
        {
          "output_type": "stream",
          "name": "stderr",
          "text": [
            "/usr/local/lib/python3.11/dist-packages/yfinance/utils.py:788: FutureWarning: The 'unit' keyword in TimedeltaIndex construction is deprecated and will be removed in a future version. Use pd.to_timedelta instead.\n",
            "  df.index += _pd.TimedeltaIndex(dst_error_hours, 'h')\n",
            "/usr/local/lib/python3.11/dist-packages/yfinance/utils.py:788: FutureWarning: The 'unit' keyword in TimedeltaIndex construction is deprecated and will be removed in a future version. Use pd.to_timedelta instead.\n",
            "  df.index += _pd.TimedeltaIndex(dst_error_hours, 'h')\n",
            "/usr/local/lib/python3.11/dist-packages/yfinance/utils.py:788: FutureWarning: The 'unit' keyword in TimedeltaIndex construction is deprecated and will be removed in a future version. Use pd.to_timedelta instead.\n",
            "  df.index += _pd.TimedeltaIndex(dst_error_hours, 'h')\n"
          ]
        },
        {
          "output_type": "stream",
          "name": "stdout",
          "text": [
            "[**********************63%%****                  ]  638 of 1015 completed"
          ]
        },
        {
          "output_type": "stream",
          "name": "stderr",
          "text": [
            "/usr/local/lib/python3.11/dist-packages/yfinance/utils.py:788: FutureWarning: The 'unit' keyword in TimedeltaIndex construction is deprecated and will be removed in a future version. Use pd.to_timedelta instead.\n",
            "  df.index += _pd.TimedeltaIndex(dst_error_hours, 'h')\n",
            "/usr/local/lib/python3.11/dist-packages/yfinance/utils.py:788: FutureWarning: The 'unit' keyword in TimedeltaIndex construction is deprecated and will be removed in a future version. Use pd.to_timedelta instead.\n",
            "  df.index += _pd.TimedeltaIndex(dst_error_hours, 'h')\n",
            "/usr/local/lib/python3.11/dist-packages/yfinance/utils.py:788: FutureWarning: The 'unit' keyword in TimedeltaIndex construction is deprecated and will be removed in a future version. Use pd.to_timedelta instead.\n",
            "  df.index += _pd.TimedeltaIndex(dst_error_hours, 'h')\n"
          ]
        },
        {
          "output_type": "stream",
          "name": "stdout",
          "text": [
            "[**********************63%%****                  ]  641 of 1015 completed"
          ]
        },
        {
          "output_type": "stream",
          "name": "stderr",
          "text": [
            "/usr/local/lib/python3.11/dist-packages/yfinance/utils.py:788: FutureWarning: The 'unit' keyword in TimedeltaIndex construction is deprecated and will be removed in a future version. Use pd.to_timedelta instead.\n",
            "  df.index += _pd.TimedeltaIndex(dst_error_hours, 'h')\n",
            "/usr/local/lib/python3.11/dist-packages/yfinance/utils.py:788: FutureWarning: The 'unit' keyword in TimedeltaIndex construction is deprecated and will be removed in a future version. Use pd.to_timedelta instead.\n",
            "  df.index += _pd.TimedeltaIndex(dst_error_hours, 'h')\n",
            "/usr/local/lib/python3.11/dist-packages/yfinance/utils.py:788: FutureWarning: The 'unit' keyword in TimedeltaIndex construction is deprecated and will be removed in a future version. Use pd.to_timedelta instead.\n",
            "  df.index += _pd.TimedeltaIndex(dst_error_hours, 'h')\n"
          ]
        },
        {
          "output_type": "stream",
          "name": "stdout",
          "text": [
            "[**********************63%%****                  ]  643 of 1015 completed"
          ]
        },
        {
          "output_type": "stream",
          "name": "stderr",
          "text": [
            "/usr/local/lib/python3.11/dist-packages/yfinance/utils.py:788: FutureWarning: The 'unit' keyword in TimedeltaIndex construction is deprecated and will be removed in a future version. Use pd.to_timedelta instead.\n",
            "  df.index += _pd.TimedeltaIndex(dst_error_hours, 'h')\n",
            "/usr/local/lib/python3.11/dist-packages/yfinance/utils.py:788: FutureWarning: The 'unit' keyword in TimedeltaIndex construction is deprecated and will be removed in a future version. Use pd.to_timedelta instead.\n",
            "  df.index += _pd.TimedeltaIndex(dst_error_hours, 'h')\n",
            "/usr/local/lib/python3.11/dist-packages/yfinance/utils.py:788: FutureWarning: The 'unit' keyword in TimedeltaIndex construction is deprecated and will be removed in a future version. Use pd.to_timedelta instead.\n",
            "  df.index += _pd.TimedeltaIndex(dst_error_hours, 'h')\n"
          ]
        },
        {
          "output_type": "stream",
          "name": "stdout",
          "text": [
            "[**********************64%%*****                 ]  647 of 1015 completed"
          ]
        },
        {
          "output_type": "stream",
          "name": "stderr",
          "text": [
            "/usr/local/lib/python3.11/dist-packages/yfinance/utils.py:788: FutureWarning: The 'unit' keyword in TimedeltaIndex construction is deprecated and will be removed in a future version. Use pd.to_timedelta instead.\n",
            "  df.index += _pd.TimedeltaIndex(dst_error_hours, 'h')\n",
            "/usr/local/lib/python3.11/dist-packages/yfinance/utils.py:788: FutureWarning: The 'unit' keyword in TimedeltaIndex construction is deprecated and will be removed in a future version. Use pd.to_timedelta instead.\n",
            "  df.index += _pd.TimedeltaIndex(dst_error_hours, 'h')\n",
            "/usr/local/lib/python3.11/dist-packages/yfinance/utils.py:788: FutureWarning: The 'unit' keyword in TimedeltaIndex construction is deprecated and will be removed in a future version. Use pd.to_timedelta instead.\n",
            "  df.index += _pd.TimedeltaIndex(dst_error_hours, 'h')\n"
          ]
        },
        {
          "output_type": "stream",
          "name": "stdout",
          "text": [
            "[**********************64%%*****                 ]  649 of 1015 completed"
          ]
        },
        {
          "output_type": "stream",
          "name": "stderr",
          "text": [
            "/usr/local/lib/python3.11/dist-packages/yfinance/utils.py:788: FutureWarning: The 'unit' keyword in TimedeltaIndex construction is deprecated and will be removed in a future version. Use pd.to_timedelta instead.\n",
            "  df.index += _pd.TimedeltaIndex(dst_error_hours, 'h')\n",
            "/usr/local/lib/python3.11/dist-packages/yfinance/utils.py:788: FutureWarning: The 'unit' keyword in TimedeltaIndex construction is deprecated and will be removed in a future version. Use pd.to_timedelta instead.\n",
            "  df.index += _pd.TimedeltaIndex(dst_error_hours, 'h')\n"
          ]
        },
        {
          "output_type": "stream",
          "name": "stdout",
          "text": [
            "[**********************64%%*****                 ]  651 of 1015 completed"
          ]
        },
        {
          "output_type": "stream",
          "name": "stderr",
          "text": [
            "/usr/local/lib/python3.11/dist-packages/yfinance/utils.py:788: FutureWarning: The 'unit' keyword in TimedeltaIndex construction is deprecated and will be removed in a future version. Use pd.to_timedelta instead.\n",
            "  df.index += _pd.TimedeltaIndex(dst_error_hours, 'h')\n",
            "/usr/local/lib/python3.11/dist-packages/yfinance/utils.py:788: FutureWarning: The 'unit' keyword in TimedeltaIndex construction is deprecated and will be removed in a future version. Use pd.to_timedelta instead.\n",
            "  df.index += _pd.TimedeltaIndex(dst_error_hours, 'h')\n"
          ]
        },
        {
          "output_type": "stream",
          "name": "stdout",
          "text": [
            "[**********************64%%*****                 ]  653 of 1015 completed"
          ]
        },
        {
          "output_type": "stream",
          "name": "stderr",
          "text": [
            "/usr/local/lib/python3.11/dist-packages/yfinance/utils.py:788: FutureWarning: The 'unit' keyword in TimedeltaIndex construction is deprecated and will be removed in a future version. Use pd.to_timedelta instead.\n",
            "  df.index += _pd.TimedeltaIndex(dst_error_hours, 'h')\n",
            "/usr/local/lib/python3.11/dist-packages/yfinance/utils.py:788: FutureWarning: The 'unit' keyword in TimedeltaIndex construction is deprecated and will be removed in a future version. Use pd.to_timedelta instead.\n",
            "  df.index += _pd.TimedeltaIndex(dst_error_hours, 'h')\n"
          ]
        },
        {
          "output_type": "stream",
          "name": "stdout",
          "text": [
            "[**********************65%%*****                 ]  655 of 1015 completed"
          ]
        },
        {
          "output_type": "stream",
          "name": "stderr",
          "text": [
            "/usr/local/lib/python3.11/dist-packages/yfinance/utils.py:788: FutureWarning: The 'unit' keyword in TimedeltaIndex construction is deprecated and will be removed in a future version. Use pd.to_timedelta instead.\n",
            "  df.index += _pd.TimedeltaIndex(dst_error_hours, 'h')\n",
            "/usr/local/lib/python3.11/dist-packages/yfinance/utils.py:788: FutureWarning: The 'unit' keyword in TimedeltaIndex construction is deprecated and will be removed in a future version. Use pd.to_timedelta instead.\n",
            "  df.index += _pd.TimedeltaIndex(dst_error_hours, 'h')\n",
            "/usr/local/lib/python3.11/dist-packages/yfinance/utils.py:788: FutureWarning: The 'unit' keyword in TimedeltaIndex construction is deprecated and will be removed in a future version. Use pd.to_timedelta instead.\n",
            "  df.index += _pd.TimedeltaIndex(dst_error_hours, 'h')\n"
          ]
        },
        {
          "output_type": "stream",
          "name": "stdout",
          "text": [
            "[**********************65%%*****                 ]  657 of 1015 completed"
          ]
        },
        {
          "output_type": "stream",
          "name": "stderr",
          "text": [
            "/usr/local/lib/python3.11/dist-packages/yfinance/utils.py:788: FutureWarning: The 'unit' keyword in TimedeltaIndex construction is deprecated and will be removed in a future version. Use pd.to_timedelta instead.\n",
            "  df.index += _pd.TimedeltaIndex(dst_error_hours, 'h')\n"
          ]
        },
        {
          "output_type": "stream",
          "name": "stdout",
          "text": [
            "[**********************65%%*****                 ]  659 of 1015 completed"
          ]
        },
        {
          "output_type": "stream",
          "name": "stderr",
          "text": [
            "/usr/local/lib/python3.11/dist-packages/yfinance/utils.py:788: FutureWarning: The 'unit' keyword in TimedeltaIndex construction is deprecated and will be removed in a future version. Use pd.to_timedelta instead.\n",
            "  df.index += _pd.TimedeltaIndex(dst_error_hours, 'h')\n",
            "/usr/local/lib/python3.11/dist-packages/yfinance/utils.py:788: FutureWarning: The 'unit' keyword in TimedeltaIndex construction is deprecated and will be removed in a future version. Use pd.to_timedelta instead.\n",
            "  df.index += _pd.TimedeltaIndex(dst_error_hours, 'h')\n"
          ]
        },
        {
          "output_type": "stream",
          "name": "stdout",
          "text": [
            "[**********************65%%*****                 ]  661 of 1015 completed"
          ]
        },
        {
          "output_type": "stream",
          "name": "stderr",
          "text": [
            "/usr/local/lib/python3.11/dist-packages/yfinance/utils.py:788: FutureWarning: The 'unit' keyword in TimedeltaIndex construction is deprecated and will be removed in a future version. Use pd.to_timedelta instead.\n",
            "  df.index += _pd.TimedeltaIndex(dst_error_hours, 'h')\n",
            "/usr/local/lib/python3.11/dist-packages/yfinance/utils.py:788: FutureWarning: The 'unit' keyword in TimedeltaIndex construction is deprecated and will be removed in a future version. Use pd.to_timedelta instead.\n",
            "  df.index += _pd.TimedeltaIndex(dst_error_hours, 'h')\n"
          ]
        },
        {
          "output_type": "stream",
          "name": "stdout",
          "text": [
            "[**********************65%%*****                 ]  663 of 1015 completed"
          ]
        },
        {
          "output_type": "stream",
          "name": "stderr",
          "text": [
            "/usr/local/lib/python3.11/dist-packages/yfinance/utils.py:788: FutureWarning: The 'unit' keyword in TimedeltaIndex construction is deprecated and will be removed in a future version. Use pd.to_timedelta instead.\n",
            "  df.index += _pd.TimedeltaIndex(dst_error_hours, 'h')\n",
            "/usr/local/lib/python3.11/dist-packages/yfinance/utils.py:788: FutureWarning: The 'unit' keyword in TimedeltaIndex construction is deprecated and will be removed in a future version. Use pd.to_timedelta instead.\n",
            "  df.index += _pd.TimedeltaIndex(dst_error_hours, 'h')\n"
          ]
        },
        {
          "output_type": "stream",
          "name": "stdout",
          "text": [
            "[**********************66%%******                ]  665 of 1015 completed"
          ]
        },
        {
          "output_type": "stream",
          "name": "stderr",
          "text": [
            "/usr/local/lib/python3.11/dist-packages/yfinance/utils.py:788: FutureWarning: The 'unit' keyword in TimedeltaIndex construction is deprecated and will be removed in a future version. Use pd.to_timedelta instead.\n",
            "  df.index += _pd.TimedeltaIndex(dst_error_hours, 'h')\n",
            "/usr/local/lib/python3.11/dist-packages/yfinance/utils.py:788: FutureWarning: The 'unit' keyword in TimedeltaIndex construction is deprecated and will be removed in a future version. Use pd.to_timedelta instead.\n",
            "  df.index += _pd.TimedeltaIndex(dst_error_hours, 'h')\n",
            "/usr/local/lib/python3.11/dist-packages/yfinance/utils.py:788: FutureWarning: The 'unit' keyword in TimedeltaIndex construction is deprecated and will be removed in a future version. Use pd.to_timedelta instead.\n",
            "  df.index += _pd.TimedeltaIndex(dst_error_hours, 'h')\n"
          ]
        },
        {
          "output_type": "stream",
          "name": "stdout",
          "text": [
            "[**********************66%%******                ]  667 of 1015 completed"
          ]
        },
        {
          "output_type": "stream",
          "name": "stderr",
          "text": [
            "/usr/local/lib/python3.11/dist-packages/yfinance/utils.py:788: FutureWarning: The 'unit' keyword in TimedeltaIndex construction is deprecated and will be removed in a future version. Use pd.to_timedelta instead.\n",
            "  df.index += _pd.TimedeltaIndex(dst_error_hours, 'h')\n",
            "/usr/local/lib/python3.11/dist-packages/yfinance/utils.py:788: FutureWarning: The 'unit' keyword in TimedeltaIndex construction is deprecated and will be removed in a future version. Use pd.to_timedelta instead.\n",
            "  df.index += _pd.TimedeltaIndex(dst_error_hours, 'h')\n"
          ]
        },
        {
          "output_type": "stream",
          "name": "stdout",
          "text": [
            "[**********************66%%******                ]  669 of 1015 completed"
          ]
        },
        {
          "output_type": "stream",
          "name": "stderr",
          "text": [
            "/usr/local/lib/python3.11/dist-packages/yfinance/utils.py:788: FutureWarning: The 'unit' keyword in TimedeltaIndex construction is deprecated and will be removed in a future version. Use pd.to_timedelta instead.\n",
            "  df.index += _pd.TimedeltaIndex(dst_error_hours, 'h')\n",
            "/usr/local/lib/python3.11/dist-packages/yfinance/utils.py:788: FutureWarning: The 'unit' keyword in TimedeltaIndex construction is deprecated and will be removed in a future version. Use pd.to_timedelta instead.\n",
            "  df.index += _pd.TimedeltaIndex(dst_error_hours, 'h')\n"
          ]
        },
        {
          "output_type": "stream",
          "name": "stdout",
          "text": [
            "[**********************66%%******                ]  671 of 1015 completed"
          ]
        },
        {
          "output_type": "stream",
          "name": "stderr",
          "text": [
            "/usr/local/lib/python3.11/dist-packages/yfinance/utils.py:788: FutureWarning: The 'unit' keyword in TimedeltaIndex construction is deprecated and will be removed in a future version. Use pd.to_timedelta instead.\n",
            "  df.index += _pd.TimedeltaIndex(dst_error_hours, 'h')\n",
            "/usr/local/lib/python3.11/dist-packages/yfinance/utils.py:788: FutureWarning: The 'unit' keyword in TimedeltaIndex construction is deprecated and will be removed in a future version. Use pd.to_timedelta instead.\n",
            "  df.index += _pd.TimedeltaIndex(dst_error_hours, 'h')\n"
          ]
        },
        {
          "output_type": "stream",
          "name": "stdout",
          "text": [
            "[**********************66%%******                ]  674 of 1015 completed"
          ]
        },
        {
          "output_type": "stream",
          "name": "stderr",
          "text": [
            "/usr/local/lib/python3.11/dist-packages/yfinance/utils.py:788: FutureWarning: The 'unit' keyword in TimedeltaIndex construction is deprecated and will be removed in a future version. Use pd.to_timedelta instead.\n",
            "  df.index += _pd.TimedeltaIndex(dst_error_hours, 'h')\n",
            "/usr/local/lib/python3.11/dist-packages/yfinance/utils.py:788: FutureWarning: The 'unit' keyword in TimedeltaIndex construction is deprecated and will be removed in a future version. Use pd.to_timedelta instead.\n",
            "  df.index += _pd.TimedeltaIndex(dst_error_hours, 'h')\n"
          ]
        },
        {
          "output_type": "stream",
          "name": "stdout",
          "text": [
            "[**********************67%%******                ]  676 of 1015 completed"
          ]
        },
        {
          "output_type": "stream",
          "name": "stderr",
          "text": [
            "/usr/local/lib/python3.11/dist-packages/yfinance/utils.py:788: FutureWarning: The 'unit' keyword in TimedeltaIndex construction is deprecated and will be removed in a future version. Use pd.to_timedelta instead.\n",
            "  df.index += _pd.TimedeltaIndex(dst_error_hours, 'h')\n",
            "/usr/local/lib/python3.11/dist-packages/yfinance/utils.py:788: FutureWarning: The 'unit' keyword in TimedeltaIndex construction is deprecated and will be removed in a future version. Use pd.to_timedelta instead.\n",
            "  df.index += _pd.TimedeltaIndex(dst_error_hours, 'h')\n",
            "/usr/local/lib/python3.11/dist-packages/yfinance/utils.py:788: FutureWarning: The 'unit' keyword in TimedeltaIndex construction is deprecated and will be removed in a future version. Use pd.to_timedelta instead.\n",
            "  df.index += _pd.TimedeltaIndex(dst_error_hours, 'h')\n"
          ]
        },
        {
          "output_type": "stream",
          "name": "stdout",
          "text": [
            "[**********************67%%******                ]  678 of 1015 completed"
          ]
        },
        {
          "output_type": "stream",
          "name": "stderr",
          "text": [
            "/usr/local/lib/python3.11/dist-packages/yfinance/utils.py:788: FutureWarning: The 'unit' keyword in TimedeltaIndex construction is deprecated and will be removed in a future version. Use pd.to_timedelta instead.\n",
            "  df.index += _pd.TimedeltaIndex(dst_error_hours, 'h')\n",
            "/usr/local/lib/python3.11/dist-packages/yfinance/utils.py:788: FutureWarning: The 'unit' keyword in TimedeltaIndex construction is deprecated and will be removed in a future version. Use pd.to_timedelta instead.\n",
            "  df.index += _pd.TimedeltaIndex(dst_error_hours, 'h')\n",
            "/usr/local/lib/python3.11/dist-packages/yfinance/utils.py:788: FutureWarning: The 'unit' keyword in TimedeltaIndex construction is deprecated and will be removed in a future version. Use pd.to_timedelta instead.\n",
            "  df.index += _pd.TimedeltaIndex(dst_error_hours, 'h')\n"
          ]
        },
        {
          "output_type": "stream",
          "name": "stdout",
          "text": [
            "[**********************67%%******                ]  682 of 1015 completed"
          ]
        },
        {
          "output_type": "stream",
          "name": "stderr",
          "text": [
            "/usr/local/lib/python3.11/dist-packages/yfinance/utils.py:788: FutureWarning: The 'unit' keyword in TimedeltaIndex construction is deprecated and will be removed in a future version. Use pd.to_timedelta instead.\n",
            "  df.index += _pd.TimedeltaIndex(dst_error_hours, 'h')\n",
            "/usr/local/lib/python3.11/dist-packages/yfinance/utils.py:788: FutureWarning: The 'unit' keyword in TimedeltaIndex construction is deprecated and will be removed in a future version. Use pd.to_timedelta instead.\n",
            "  df.index += _pd.TimedeltaIndex(dst_error_hours, 'h')\n",
            "/usr/local/lib/python3.11/dist-packages/yfinance/utils.py:788: FutureWarning: The 'unit' keyword in TimedeltaIndex construction is deprecated and will be removed in a future version. Use pd.to_timedelta instead.\n",
            "  df.index += _pd.TimedeltaIndex(dst_error_hours, 'h')\n"
          ]
        },
        {
          "output_type": "stream",
          "name": "stdout",
          "text": [
            "[**********************67%%******                ]  685 of 1015 completed"
          ]
        },
        {
          "output_type": "stream",
          "name": "stderr",
          "text": [
            "/usr/local/lib/python3.11/dist-packages/yfinance/utils.py:788: FutureWarning: The 'unit' keyword in TimedeltaIndex construction is deprecated and will be removed in a future version. Use pd.to_timedelta instead.\n",
            "  df.index += _pd.TimedeltaIndex(dst_error_hours, 'h')\n",
            "/usr/local/lib/python3.11/dist-packages/yfinance/utils.py:788: FutureWarning: The 'unit' keyword in TimedeltaIndex construction is deprecated and will be removed in a future version. Use pd.to_timedelta instead.\n",
            "  df.index += _pd.TimedeltaIndex(dst_error_hours, 'h')\n"
          ]
        },
        {
          "output_type": "stream",
          "name": "stdout",
          "text": [
            "[**********************68%%*******               ]  688 of 1015 completed"
          ]
        },
        {
          "output_type": "stream",
          "name": "stderr",
          "text": [
            "/usr/local/lib/python3.11/dist-packages/yfinance/utils.py:788: FutureWarning: The 'unit' keyword in TimedeltaIndex construction is deprecated and will be removed in a future version. Use pd.to_timedelta instead.\n",
            "  df.index += _pd.TimedeltaIndex(dst_error_hours, 'h')\n",
            "/usr/local/lib/python3.11/dist-packages/yfinance/utils.py:788: FutureWarning: The 'unit' keyword in TimedeltaIndex construction is deprecated and will be removed in a future version. Use pd.to_timedelta instead.\n",
            "  df.index += _pd.TimedeltaIndex(dst_error_hours, 'h')\n",
            "/usr/local/lib/python3.11/dist-packages/yfinance/utils.py:788: FutureWarning: The 'unit' keyword in TimedeltaIndex construction is deprecated and will be removed in a future version. Use pd.to_timedelta instead.\n",
            "  df.index += _pd.TimedeltaIndex(dst_error_hours, 'h')\n"
          ]
        },
        {
          "output_type": "stream",
          "name": "stdout",
          "text": [
            "\r[**********************68%%*******               ]  689 of 1015 completed"
          ]
        },
        {
          "output_type": "stream",
          "name": "stderr",
          "text": [
            "/usr/local/lib/python3.11/dist-packages/yfinance/utils.py:788: FutureWarning: The 'unit' keyword in TimedeltaIndex construction is deprecated and will be removed in a future version. Use pd.to_timedelta instead.\n",
            "  df.index += _pd.TimedeltaIndex(dst_error_hours, 'h')\n",
            "/usr/local/lib/python3.11/dist-packages/yfinance/utils.py:788: FutureWarning: The 'unit' keyword in TimedeltaIndex construction is deprecated and will be removed in a future version. Use pd.to_timedelta instead.\n",
            "  df.index += _pd.TimedeltaIndex(dst_error_hours, 'h')\n"
          ]
        },
        {
          "output_type": "stream",
          "name": "stdout",
          "text": [
            "[**********************68%%*******               ]  691 of 1015 completed"
          ]
        },
        {
          "output_type": "stream",
          "name": "stderr",
          "text": [
            "/usr/local/lib/python3.11/dist-packages/yfinance/utils.py:788: FutureWarning: The 'unit' keyword in TimedeltaIndex construction is deprecated and will be removed in a future version. Use pd.to_timedelta instead.\n",
            "  df.index += _pd.TimedeltaIndex(dst_error_hours, 'h')\n",
            "/usr/local/lib/python3.11/dist-packages/yfinance/utils.py:788: FutureWarning: The 'unit' keyword in TimedeltaIndex construction is deprecated and will be removed in a future version. Use pd.to_timedelta instead.\n",
            "  df.index += _pd.TimedeltaIndex(dst_error_hours, 'h')\n"
          ]
        },
        {
          "output_type": "stream",
          "name": "stdout",
          "text": [
            "[**********************68%%*******               ]  694 of 1015 completed"
          ]
        },
        {
          "output_type": "stream",
          "name": "stderr",
          "text": [
            "/usr/local/lib/python3.11/dist-packages/yfinance/utils.py:788: FutureWarning: The 'unit' keyword in TimedeltaIndex construction is deprecated and will be removed in a future version. Use pd.to_timedelta instead.\n",
            "  df.index += _pd.TimedeltaIndex(dst_error_hours, 'h')\n",
            "/usr/local/lib/python3.11/dist-packages/yfinance/utils.py:788: FutureWarning: The 'unit' keyword in TimedeltaIndex construction is deprecated and will be removed in a future version. Use pd.to_timedelta instead.\n",
            "  df.index += _pd.TimedeltaIndex(dst_error_hours, 'h')\n"
          ]
        },
        {
          "output_type": "stream",
          "name": "stdout",
          "text": [
            "\r[**********************68%%*******               ]  695 of 1015 completed"
          ]
        },
        {
          "output_type": "stream",
          "name": "stderr",
          "text": [
            "/usr/local/lib/python3.11/dist-packages/yfinance/utils.py:788: FutureWarning: The 'unit' keyword in TimedeltaIndex construction is deprecated and will be removed in a future version. Use pd.to_timedelta instead.\n",
            "  df.index += _pd.TimedeltaIndex(dst_error_hours, 'h')\n",
            "/usr/local/lib/python3.11/dist-packages/yfinance/utils.py:788: FutureWarning: The 'unit' keyword in TimedeltaIndex construction is deprecated and will be removed in a future version. Use pd.to_timedelta instead.\n",
            "  df.index += _pd.TimedeltaIndex(dst_error_hours, 'h')\n",
            "/usr/local/lib/python3.11/dist-packages/yfinance/utils.py:788: FutureWarning: The 'unit' keyword in TimedeltaIndex construction is deprecated and will be removed in a future version. Use pd.to_timedelta instead.\n",
            "  df.index += _pd.TimedeltaIndex(dst_error_hours, 'h')\n"
          ]
        },
        {
          "output_type": "stream",
          "name": "stdout",
          "text": [
            "[**********************69%%*******               ]  699 of 1015 completed"
          ]
        },
        {
          "output_type": "stream",
          "name": "stderr",
          "text": [
            "/usr/local/lib/python3.11/dist-packages/yfinance/utils.py:788: FutureWarning: The 'unit' keyword in TimedeltaIndex construction is deprecated and will be removed in a future version. Use pd.to_timedelta instead.\n",
            "  df.index += _pd.TimedeltaIndex(dst_error_hours, 'h')\n",
            "/usr/local/lib/python3.11/dist-packages/yfinance/utils.py:788: FutureWarning: The 'unit' keyword in TimedeltaIndex construction is deprecated and will be removed in a future version. Use pd.to_timedelta instead.\n",
            "  df.index += _pd.TimedeltaIndex(dst_error_hours, 'h')\n",
            "/usr/local/lib/python3.11/dist-packages/yfinance/utils.py:788: FutureWarning: The 'unit' keyword in TimedeltaIndex construction is deprecated and will be removed in a future version. Use pd.to_timedelta instead.\n",
            "  df.index += _pd.TimedeltaIndex(dst_error_hours, 'h')\n"
          ]
        },
        {
          "output_type": "stream",
          "name": "stdout",
          "text": [
            "[**********************69%%*******               ]  702 of 1015 completed"
          ]
        },
        {
          "output_type": "stream",
          "name": "stderr",
          "text": [
            "/usr/local/lib/python3.11/dist-packages/yfinance/utils.py:788: FutureWarning: The 'unit' keyword in TimedeltaIndex construction is deprecated and will be removed in a future version. Use pd.to_timedelta instead.\n",
            "  df.index += _pd.TimedeltaIndex(dst_error_hours, 'h')\n",
            "/usr/local/lib/python3.11/dist-packages/yfinance/utils.py:788: FutureWarning: The 'unit' keyword in TimedeltaIndex construction is deprecated and will be removed in a future version. Use pd.to_timedelta instead.\n",
            "  df.index += _pd.TimedeltaIndex(dst_error_hours, 'h')\n"
          ]
        },
        {
          "output_type": "stream",
          "name": "stdout",
          "text": [
            "\r[**********************69%%*******               ]  703 of 1015 completed"
          ]
        },
        {
          "output_type": "stream",
          "name": "stderr",
          "text": [
            "/usr/local/lib/python3.11/dist-packages/yfinance/utils.py:788: FutureWarning: The 'unit' keyword in TimedeltaIndex construction is deprecated and will be removed in a future version. Use pd.to_timedelta instead.\n",
            "  df.index += _pd.TimedeltaIndex(dst_error_hours, 'h')\n"
          ]
        },
        {
          "output_type": "stream",
          "name": "stdout",
          "text": [
            "\r[**********************69%%*******               ]  704 of 1015 completed"
          ]
        },
        {
          "output_type": "stream",
          "name": "stderr",
          "text": [
            "/usr/local/lib/python3.11/dist-packages/yfinance/utils.py:788: FutureWarning: The 'unit' keyword in TimedeltaIndex construction is deprecated and will be removed in a future version. Use pd.to_timedelta instead.\n",
            "  df.index += _pd.TimedeltaIndex(dst_error_hours, 'h')\n",
            "/usr/local/lib/python3.11/dist-packages/yfinance/utils.py:788: FutureWarning: The 'unit' keyword in TimedeltaIndex construction is deprecated and will be removed in a future version. Use pd.to_timedelta instead.\n",
            "  df.index += _pd.TimedeltaIndex(dst_error_hours, 'h')\n",
            "/usr/local/lib/python3.11/dist-packages/yfinance/utils.py:788: FutureWarning: The 'unit' keyword in TimedeltaIndex construction is deprecated and will be removed in a future version. Use pd.to_timedelta instead.\n",
            "  df.index += _pd.TimedeltaIndex(dst_error_hours, 'h')\n"
          ]
        },
        {
          "output_type": "stream",
          "name": "stdout",
          "text": [
            "[**********************70%%********              ]  708 of 1015 completed"
          ]
        },
        {
          "output_type": "stream",
          "name": "stderr",
          "text": [
            "/usr/local/lib/python3.11/dist-packages/yfinance/utils.py:788: FutureWarning: The 'unit' keyword in TimedeltaIndex construction is deprecated and will be removed in a future version. Use pd.to_timedelta instead.\n",
            "  df.index += _pd.TimedeltaIndex(dst_error_hours, 'h')\n",
            "/usr/local/lib/python3.11/dist-packages/yfinance/utils.py:788: FutureWarning: The 'unit' keyword in TimedeltaIndex construction is deprecated and will be removed in a future version. Use pd.to_timedelta instead.\n",
            "  df.index += _pd.TimedeltaIndex(dst_error_hours, 'h')\n"
          ]
        },
        {
          "output_type": "stream",
          "name": "stdout",
          "text": [
            "[**********************70%%********              ]  710 of 1015 completed"
          ]
        },
        {
          "output_type": "stream",
          "name": "stderr",
          "text": [
            "/usr/local/lib/python3.11/dist-packages/yfinance/utils.py:788: FutureWarning: The 'unit' keyword in TimedeltaIndex construction is deprecated and will be removed in a future version. Use pd.to_timedelta instead.\n",
            "  df.index += _pd.TimedeltaIndex(dst_error_hours, 'h')\n",
            "/usr/local/lib/python3.11/dist-packages/yfinance/utils.py:788: FutureWarning: The 'unit' keyword in TimedeltaIndex construction is deprecated and will be removed in a future version. Use pd.to_timedelta instead.\n",
            "  df.index += _pd.TimedeltaIndex(dst_error_hours, 'h')\n"
          ]
        },
        {
          "output_type": "stream",
          "name": "stdout",
          "text": [
            "[**********************70%%********              ]  712 of 1015 completed"
          ]
        },
        {
          "output_type": "stream",
          "name": "stderr",
          "text": [
            "/usr/local/lib/python3.11/dist-packages/yfinance/utils.py:788: FutureWarning: The 'unit' keyword in TimedeltaIndex construction is deprecated and will be removed in a future version. Use pd.to_timedelta instead.\n",
            "  df.index += _pd.TimedeltaIndex(dst_error_hours, 'h')\n",
            "/usr/local/lib/python3.11/dist-packages/yfinance/utils.py:788: FutureWarning: The 'unit' keyword in TimedeltaIndex construction is deprecated and will be removed in a future version. Use pd.to_timedelta instead.\n",
            "  df.index += _pd.TimedeltaIndex(dst_error_hours, 'h')\n",
            "/usr/local/lib/python3.11/dist-packages/yfinance/utils.py:788: FutureWarning: The 'unit' keyword in TimedeltaIndex construction is deprecated and will be removed in a future version. Use pd.to_timedelta instead.\n",
            "  df.index += _pd.TimedeltaIndex(dst_error_hours, 'h')\n"
          ]
        },
        {
          "output_type": "stream",
          "name": "stdout",
          "text": [
            "[**********************70%%********              ]  715 of 1015 completed"
          ]
        },
        {
          "output_type": "stream",
          "name": "stderr",
          "text": [
            "/usr/local/lib/python3.11/dist-packages/yfinance/utils.py:788: FutureWarning: The 'unit' keyword in TimedeltaIndex construction is deprecated and will be removed in a future version. Use pd.to_timedelta instead.\n",
            "  df.index += _pd.TimedeltaIndex(dst_error_hours, 'h')\n",
            "/usr/local/lib/python3.11/dist-packages/yfinance/utils.py:788: FutureWarning: The 'unit' keyword in TimedeltaIndex construction is deprecated and will be removed in a future version. Use pd.to_timedelta instead.\n",
            "  df.index += _pd.TimedeltaIndex(dst_error_hours, 'h')\n",
            "/usr/local/lib/python3.11/dist-packages/yfinance/utils.py:788: FutureWarning: The 'unit' keyword in TimedeltaIndex construction is deprecated and will be removed in a future version. Use pd.to_timedelta instead.\n",
            "  df.index += _pd.TimedeltaIndex(dst_error_hours, 'h')\n"
          ]
        },
        {
          "output_type": "stream",
          "name": "stdout",
          "text": [
            "[**********************71%%********              ]  718 of 1015 completed"
          ]
        },
        {
          "output_type": "stream",
          "name": "stderr",
          "text": [
            "/usr/local/lib/python3.11/dist-packages/yfinance/utils.py:788: FutureWarning: The 'unit' keyword in TimedeltaIndex construction is deprecated and will be removed in a future version. Use pd.to_timedelta instead.\n",
            "  df.index += _pd.TimedeltaIndex(dst_error_hours, 'h')\n",
            "/usr/local/lib/python3.11/dist-packages/yfinance/utils.py:788: FutureWarning: The 'unit' keyword in TimedeltaIndex construction is deprecated and will be removed in a future version. Use pd.to_timedelta instead.\n",
            "  df.index += _pd.TimedeltaIndex(dst_error_hours, 'h')\n",
            "/usr/local/lib/python3.11/dist-packages/yfinance/utils.py:788: FutureWarning: The 'unit' keyword in TimedeltaIndex construction is deprecated and will be removed in a future version. Use pd.to_timedelta instead.\n",
            "  df.index += _pd.TimedeltaIndex(dst_error_hours, 'h')\n",
            "/usr/local/lib/python3.11/dist-packages/yfinance/utils.py:788: FutureWarning: The 'unit' keyword in TimedeltaIndex construction is deprecated and will be removed in a future version. Use pd.to_timedelta instead.\n",
            "  df.index += _pd.TimedeltaIndex(dst_error_hours, 'h')\n"
          ]
        },
        {
          "output_type": "stream",
          "name": "stdout",
          "text": [
            "[**********************71%%********              ]  724 of 1015 completed"
          ]
        },
        {
          "output_type": "stream",
          "name": "stderr",
          "text": [
            "/usr/local/lib/python3.11/dist-packages/yfinance/utils.py:788: FutureWarning: The 'unit' keyword in TimedeltaIndex construction is deprecated and will be removed in a future version. Use pd.to_timedelta instead.\n",
            "  df.index += _pd.TimedeltaIndex(dst_error_hours, 'h')\n",
            "/usr/local/lib/python3.11/dist-packages/yfinance/utils.py:788: FutureWarning: The 'unit' keyword in TimedeltaIndex construction is deprecated and will be removed in a future version. Use pd.to_timedelta instead.\n",
            "  df.index += _pd.TimedeltaIndex(dst_error_hours, 'h')\n",
            "/usr/local/lib/python3.11/dist-packages/yfinance/utils.py:788: FutureWarning: The 'unit' keyword in TimedeltaIndex construction is deprecated and will be removed in a future version. Use pd.to_timedelta instead.\n",
            "  df.index += _pd.TimedeltaIndex(dst_error_hours, 'h')\n",
            "/usr/local/lib/python3.11/dist-packages/yfinance/utils.py:788: FutureWarning: The 'unit' keyword in TimedeltaIndex construction is deprecated and will be removed in a future version. Use pd.to_timedelta instead.\n",
            "  df.index += _pd.TimedeltaIndex(dst_error_hours, 'h')\n"
          ]
        },
        {
          "output_type": "stream",
          "name": "stdout",
          "text": [
            "[**********************72%%*********             ]  726 of 1015 completed"
          ]
        },
        {
          "output_type": "stream",
          "name": "stderr",
          "text": [
            "/usr/local/lib/python3.11/dist-packages/yfinance/utils.py:788: FutureWarning: The 'unit' keyword in TimedeltaIndex construction is deprecated and will be removed in a future version. Use pd.to_timedelta instead.\n",
            "  df.index += _pd.TimedeltaIndex(dst_error_hours, 'h')\n",
            "/usr/local/lib/python3.11/dist-packages/yfinance/utils.py:788: FutureWarning: The 'unit' keyword in TimedeltaIndex construction is deprecated and will be removed in a future version. Use pd.to_timedelta instead.\n",
            "  df.index += _pd.TimedeltaIndex(dst_error_hours, 'h')\n"
          ]
        },
        {
          "output_type": "stream",
          "name": "stdout",
          "text": [
            "[**********************72%%*********             ]  729 of 1015 completed"
          ]
        },
        {
          "output_type": "stream",
          "name": "stderr",
          "text": [
            "/usr/local/lib/python3.11/dist-packages/yfinance/utils.py:788: FutureWarning: The 'unit' keyword in TimedeltaIndex construction is deprecated and will be removed in a future version. Use pd.to_timedelta instead.\n",
            "  df.index += _pd.TimedeltaIndex(dst_error_hours, 'h')\n",
            "/usr/local/lib/python3.11/dist-packages/yfinance/utils.py:788: FutureWarning: The 'unit' keyword in TimedeltaIndex construction is deprecated and will be removed in a future version. Use pd.to_timedelta instead.\n",
            "  df.index += _pd.TimedeltaIndex(dst_error_hours, 'h')\n",
            "/usr/local/lib/python3.11/dist-packages/yfinance/utils.py:788: FutureWarning: The 'unit' keyword in TimedeltaIndex construction is deprecated and will be removed in a future version. Use pd.to_timedelta instead.\n",
            "  df.index += _pd.TimedeltaIndex(dst_error_hours, 'h')\n"
          ]
        },
        {
          "output_type": "stream",
          "name": "stdout",
          "text": [
            "[**********************72%%*********             ]  732 of 1015 completed"
          ]
        },
        {
          "output_type": "stream",
          "name": "stderr",
          "text": [
            "/usr/local/lib/python3.11/dist-packages/yfinance/utils.py:788: FutureWarning: The 'unit' keyword in TimedeltaIndex construction is deprecated and will be removed in a future version. Use pd.to_timedelta instead.\n",
            "  df.index += _pd.TimedeltaIndex(dst_error_hours, 'h')\n",
            "/usr/local/lib/python3.11/dist-packages/yfinance/utils.py:788: FutureWarning: The 'unit' keyword in TimedeltaIndex construction is deprecated and will be removed in a future version. Use pd.to_timedelta instead.\n",
            "  df.index += _pd.TimedeltaIndex(dst_error_hours, 'h')\n",
            "/usr/local/lib/python3.11/dist-packages/yfinance/utils.py:788: FutureWarning: The 'unit' keyword in TimedeltaIndex construction is deprecated and will be removed in a future version. Use pd.to_timedelta instead.\n",
            "  df.index += _pd.TimedeltaIndex(dst_error_hours, 'h')\n"
          ]
        },
        {
          "output_type": "stream",
          "name": "stdout",
          "text": [
            "[**********************72%%*********             ]  735 of 1015 completed"
          ]
        },
        {
          "output_type": "stream",
          "name": "stderr",
          "text": [
            "/usr/local/lib/python3.11/dist-packages/yfinance/utils.py:788: FutureWarning: The 'unit' keyword in TimedeltaIndex construction is deprecated and will be removed in a future version. Use pd.to_timedelta instead.\n",
            "  df.index += _pd.TimedeltaIndex(dst_error_hours, 'h')\n",
            "/usr/local/lib/python3.11/dist-packages/yfinance/utils.py:788: FutureWarning: The 'unit' keyword in TimedeltaIndex construction is deprecated and will be removed in a future version. Use pd.to_timedelta instead.\n",
            "  df.index += _pd.TimedeltaIndex(dst_error_hours, 'h')\n",
            "/usr/local/lib/python3.11/dist-packages/yfinance/utils.py:788: FutureWarning: The 'unit' keyword in TimedeltaIndex construction is deprecated and will be removed in a future version. Use pd.to_timedelta instead.\n",
            "  df.index += _pd.TimedeltaIndex(dst_error_hours, 'h')\n",
            "/usr/local/lib/python3.11/dist-packages/yfinance/utils.py:788: FutureWarning: The 'unit' keyword in TimedeltaIndex construction is deprecated and will be removed in a future version. Use pd.to_timedelta instead.\n",
            "  df.index += _pd.TimedeltaIndex(dst_error_hours, 'h')\n"
          ]
        },
        {
          "output_type": "stream",
          "name": "stdout",
          "text": [
            "[**********************73%%*********             ]  739 of 1015 completed"
          ]
        },
        {
          "output_type": "stream",
          "name": "stderr",
          "text": [
            "/usr/local/lib/python3.11/dist-packages/yfinance/utils.py:788: FutureWarning: The 'unit' keyword in TimedeltaIndex construction is deprecated and will be removed in a future version. Use pd.to_timedelta instead.\n",
            "  df.index += _pd.TimedeltaIndex(dst_error_hours, 'h')\n",
            "/usr/local/lib/python3.11/dist-packages/yfinance/utils.py:788: FutureWarning: The 'unit' keyword in TimedeltaIndex construction is deprecated and will be removed in a future version. Use pd.to_timedelta instead.\n",
            "  df.index += _pd.TimedeltaIndex(dst_error_hours, 'h')\n",
            "/usr/local/lib/python3.11/dist-packages/yfinance/utils.py:788: FutureWarning: The 'unit' keyword in TimedeltaIndex construction is deprecated and will be removed in a future version. Use pd.to_timedelta instead.\n",
            "  df.index += _pd.TimedeltaIndex(dst_error_hours, 'h')\n"
          ]
        },
        {
          "output_type": "stream",
          "name": "stdout",
          "text": [
            "\r[**********************73%%*********             ]  740 of 1015 completed"
          ]
        },
        {
          "output_type": "stream",
          "name": "stderr",
          "text": [
            "/usr/local/lib/python3.11/dist-packages/yfinance/utils.py:788: FutureWarning: The 'unit' keyword in TimedeltaIndex construction is deprecated and will be removed in a future version. Use pd.to_timedelta instead.\n",
            "  df.index += _pd.TimedeltaIndex(dst_error_hours, 'h')\n"
          ]
        },
        {
          "output_type": "stream",
          "name": "stdout",
          "text": [
            "[**********************73%%*********             ]  742 of 1015 completed"
          ]
        },
        {
          "output_type": "stream",
          "name": "stderr",
          "text": [
            "/usr/local/lib/python3.11/dist-packages/yfinance/utils.py:788: FutureWarning: The 'unit' keyword in TimedeltaIndex construction is deprecated and will be removed in a future version. Use pd.to_timedelta instead.\n",
            "  df.index += _pd.TimedeltaIndex(dst_error_hours, 'h')\n",
            "/usr/local/lib/python3.11/dist-packages/yfinance/utils.py:788: FutureWarning: The 'unit' keyword in TimedeltaIndex construction is deprecated and will be removed in a future version. Use pd.to_timedelta instead.\n",
            "  df.index += _pd.TimedeltaIndex(dst_error_hours, 'h')\n",
            "/usr/local/lib/python3.11/dist-packages/yfinance/utils.py:788: FutureWarning: The 'unit' keyword in TimedeltaIndex construction is deprecated and will be removed in a future version. Use pd.to_timedelta instead.\n",
            "  df.index += _pd.TimedeltaIndex(dst_error_hours, 'h')\n"
          ]
        },
        {
          "output_type": "stream",
          "name": "stdout",
          "text": [
            "[**********************73%%*********             ]  744 of 1015 completed"
          ]
        },
        {
          "output_type": "stream",
          "name": "stderr",
          "text": [
            "/usr/local/lib/python3.11/dist-packages/yfinance/utils.py:788: FutureWarning: The 'unit' keyword in TimedeltaIndex construction is deprecated and will be removed in a future version. Use pd.to_timedelta instead.\n",
            "  df.index += _pd.TimedeltaIndex(dst_error_hours, 'h')\n",
            "/usr/local/lib/python3.11/dist-packages/yfinance/utils.py:788: FutureWarning: The 'unit' keyword in TimedeltaIndex construction is deprecated and will be removed in a future version. Use pd.to_timedelta instead.\n",
            "  df.index += _pd.TimedeltaIndex(dst_error_hours, 'h')\n"
          ]
        },
        {
          "output_type": "stream",
          "name": "stdout",
          "text": [
            "[**********************74%%**********            ]  748 of 1015 completed"
          ]
        },
        {
          "output_type": "stream",
          "name": "stderr",
          "text": [
            "/usr/local/lib/python3.11/dist-packages/yfinance/utils.py:788: FutureWarning: The 'unit' keyword in TimedeltaIndex construction is deprecated and will be removed in a future version. Use pd.to_timedelta instead.\n",
            "  df.index += _pd.TimedeltaIndex(dst_error_hours, 'h')\n",
            "/usr/local/lib/python3.11/dist-packages/yfinance/utils.py:788: FutureWarning: The 'unit' keyword in TimedeltaIndex construction is deprecated and will be removed in a future version. Use pd.to_timedelta instead.\n",
            "  df.index += _pd.TimedeltaIndex(dst_error_hours, 'h')\n",
            "/usr/local/lib/python3.11/dist-packages/yfinance/utils.py:788: FutureWarning: The 'unit' keyword in TimedeltaIndex construction is deprecated and will be removed in a future version. Use pd.to_timedelta instead.\n",
            "  df.index += _pd.TimedeltaIndex(dst_error_hours, 'h')\n"
          ]
        },
        {
          "output_type": "stream",
          "name": "stdout",
          "text": [
            "[**********************74%%**********            ]  752 of 1015 completed"
          ]
        },
        {
          "output_type": "stream",
          "name": "stderr",
          "text": [
            "/usr/local/lib/python3.11/dist-packages/yfinance/utils.py:788: FutureWarning: The 'unit' keyword in TimedeltaIndex construction is deprecated and will be removed in a future version. Use pd.to_timedelta instead.\n",
            "  df.index += _pd.TimedeltaIndex(dst_error_hours, 'h')\n",
            "/usr/local/lib/python3.11/dist-packages/yfinance/utils.py:788: FutureWarning: The 'unit' keyword in TimedeltaIndex construction is deprecated and will be removed in a future version. Use pd.to_timedelta instead.\n",
            "  df.index += _pd.TimedeltaIndex(dst_error_hours, 'h')\n",
            "/usr/local/lib/python3.11/dist-packages/yfinance/utils.py:788: FutureWarning: The 'unit' keyword in TimedeltaIndex construction is deprecated and will be removed in a future version. Use pd.to_timedelta instead.\n",
            "  df.index += _pd.TimedeltaIndex(dst_error_hours, 'h')\n",
            "/usr/local/lib/python3.11/dist-packages/yfinance/utils.py:788: FutureWarning: The 'unit' keyword in TimedeltaIndex construction is deprecated and will be removed in a future version. Use pd.to_timedelta instead.\n",
            "  df.index += _pd.TimedeltaIndex(dst_error_hours, 'h')\n"
          ]
        },
        {
          "output_type": "stream",
          "name": "stdout",
          "text": [
            "[**********************74%%**********            ]  755 of 1015 completed"
          ]
        },
        {
          "output_type": "stream",
          "name": "stderr",
          "text": [
            "/usr/local/lib/python3.11/dist-packages/yfinance/utils.py:788: FutureWarning: The 'unit' keyword in TimedeltaIndex construction is deprecated and will be removed in a future version. Use pd.to_timedelta instead.\n",
            "  df.index += _pd.TimedeltaIndex(dst_error_hours, 'h')\n",
            "/usr/local/lib/python3.11/dist-packages/yfinance/utils.py:788: FutureWarning: The 'unit' keyword in TimedeltaIndex construction is deprecated and will be removed in a future version. Use pd.to_timedelta instead.\n",
            "  df.index += _pd.TimedeltaIndex(dst_error_hours, 'h')\n",
            "/usr/local/lib/python3.11/dist-packages/yfinance/utils.py:788: FutureWarning: The 'unit' keyword in TimedeltaIndex construction is deprecated and will be removed in a future version. Use pd.to_timedelta instead.\n",
            "  df.index += _pd.TimedeltaIndex(dst_error_hours, 'h')\n"
          ]
        },
        {
          "output_type": "stream",
          "name": "stdout",
          "text": [
            "[**********************75%%**********            ]  758 of 1015 completed"
          ]
        },
        {
          "output_type": "stream",
          "name": "stderr",
          "text": [
            "/usr/local/lib/python3.11/dist-packages/yfinance/utils.py:788: FutureWarning: The 'unit' keyword in TimedeltaIndex construction is deprecated and will be removed in a future version. Use pd.to_timedelta instead.\n",
            "  df.index += _pd.TimedeltaIndex(dst_error_hours, 'h')\n",
            "/usr/local/lib/python3.11/dist-packages/yfinance/utils.py:788: FutureWarning: The 'unit' keyword in TimedeltaIndex construction is deprecated and will be removed in a future version. Use pd.to_timedelta instead.\n",
            "  df.index += _pd.TimedeltaIndex(dst_error_hours, 'h')\n",
            "/usr/local/lib/python3.11/dist-packages/yfinance/utils.py:788: FutureWarning: The 'unit' keyword in TimedeltaIndex construction is deprecated and will be removed in a future version. Use pd.to_timedelta instead.\n",
            "  df.index += _pd.TimedeltaIndex(dst_error_hours, 'h')\n"
          ]
        },
        {
          "output_type": "stream",
          "name": "stdout",
          "text": [
            "[**********************75%%**********            ]  760 of 1015 completed"
          ]
        },
        {
          "output_type": "stream",
          "name": "stderr",
          "text": [
            "/usr/local/lib/python3.11/dist-packages/yfinance/utils.py:788: FutureWarning: The 'unit' keyword in TimedeltaIndex construction is deprecated and will be removed in a future version. Use pd.to_timedelta instead.\n",
            "  df.index += _pd.TimedeltaIndex(dst_error_hours, 'h')\n",
            "/usr/local/lib/python3.11/dist-packages/yfinance/utils.py:788: FutureWarning: The 'unit' keyword in TimedeltaIndex construction is deprecated and will be removed in a future version. Use pd.to_timedelta instead.\n",
            "  df.index += _pd.TimedeltaIndex(dst_error_hours, 'h')\n"
          ]
        },
        {
          "output_type": "stream",
          "name": "stdout",
          "text": [
            "[**********************75%%**********            ]  763 of 1015 completed"
          ]
        },
        {
          "output_type": "stream",
          "name": "stderr",
          "text": [
            "/usr/local/lib/python3.11/dist-packages/yfinance/utils.py:788: FutureWarning: The 'unit' keyword in TimedeltaIndex construction is deprecated and will be removed in a future version. Use pd.to_timedelta instead.\n",
            "  df.index += _pd.TimedeltaIndex(dst_error_hours, 'h')\n",
            "/usr/local/lib/python3.11/dist-packages/yfinance/utils.py:788: FutureWarning: The 'unit' keyword in TimedeltaIndex construction is deprecated and will be removed in a future version. Use pd.to_timedelta instead.\n",
            "  df.index += _pd.TimedeltaIndex(dst_error_hours, 'h')\n",
            "/usr/local/lib/python3.11/dist-packages/yfinance/utils.py:788: FutureWarning: The 'unit' keyword in TimedeltaIndex construction is deprecated and will be removed in a future version. Use pd.to_timedelta instead.\n",
            "  df.index += _pd.TimedeltaIndex(dst_error_hours, 'h')\n",
            "/usr/local/lib/python3.11/dist-packages/yfinance/utils.py:788: FutureWarning: The 'unit' keyword in TimedeltaIndex construction is deprecated and will be removed in a future version. Use pd.to_timedelta instead.\n",
            "  df.index += _pd.TimedeltaIndex(dst_error_hours, 'h')\n"
          ]
        },
        {
          "output_type": "stream",
          "name": "stdout",
          "text": [
            "[**********************76%%**********            ]  767 of 1015 completed"
          ]
        },
        {
          "output_type": "stream",
          "name": "stderr",
          "text": [
            "/usr/local/lib/python3.11/dist-packages/yfinance/utils.py:788: FutureWarning: The 'unit' keyword in TimedeltaIndex construction is deprecated and will be removed in a future version. Use pd.to_timedelta instead.\n",
            "  df.index += _pd.TimedeltaIndex(dst_error_hours, 'h')\n",
            "/usr/local/lib/python3.11/dist-packages/yfinance/utils.py:788: FutureWarning: The 'unit' keyword in TimedeltaIndex construction is deprecated and will be removed in a future version. Use pd.to_timedelta instead.\n",
            "  df.index += _pd.TimedeltaIndex(dst_error_hours, 'h')\n",
            "/usr/local/lib/python3.11/dist-packages/yfinance/utils.py:788: FutureWarning: The 'unit' keyword in TimedeltaIndex construction is deprecated and will be removed in a future version. Use pd.to_timedelta instead.\n",
            "  df.index += _pd.TimedeltaIndex(dst_error_hours, 'h')\n"
          ]
        },
        {
          "output_type": "stream",
          "name": "stdout",
          "text": [
            "[**********************76%%**********            ]  769 of 1015 completed"
          ]
        },
        {
          "output_type": "stream",
          "name": "stderr",
          "text": [
            "/usr/local/lib/python3.11/dist-packages/yfinance/utils.py:788: FutureWarning: The 'unit' keyword in TimedeltaIndex construction is deprecated and will be removed in a future version. Use pd.to_timedelta instead.\n",
            "  df.index += _pd.TimedeltaIndex(dst_error_hours, 'h')\n",
            "/usr/local/lib/python3.11/dist-packages/yfinance/utils.py:788: FutureWarning: The 'unit' keyword in TimedeltaIndex construction is deprecated and will be removed in a future version. Use pd.to_timedelta instead.\n",
            "  df.index += _pd.TimedeltaIndex(dst_error_hours, 'h')\n",
            "/usr/local/lib/python3.11/dist-packages/yfinance/utils.py:788: FutureWarning: The 'unit' keyword in TimedeltaIndex construction is deprecated and will be removed in a future version. Use pd.to_timedelta instead.\n",
            "  df.index += _pd.TimedeltaIndex(dst_error_hours, 'h')\n"
          ]
        },
        {
          "output_type": "stream",
          "name": "stdout",
          "text": [
            "[**********************76%%**********            ]  772 of 1015 completed"
          ]
        },
        {
          "output_type": "stream",
          "name": "stderr",
          "text": [
            "/usr/local/lib/python3.11/dist-packages/yfinance/utils.py:788: FutureWarning: The 'unit' keyword in TimedeltaIndex construction is deprecated and will be removed in a future version. Use pd.to_timedelta instead.\n",
            "  df.index += _pd.TimedeltaIndex(dst_error_hours, 'h')\n",
            "/usr/local/lib/python3.11/dist-packages/yfinance/utils.py:788: FutureWarning: The 'unit' keyword in TimedeltaIndex construction is deprecated and will be removed in a future version. Use pd.to_timedelta instead.\n",
            "  df.index += _pd.TimedeltaIndex(dst_error_hours, 'h')\n",
            "/usr/local/lib/python3.11/dist-packages/yfinance/utils.py:788: FutureWarning: The 'unit' keyword in TimedeltaIndex construction is deprecated and will be removed in a future version. Use pd.to_timedelta instead.\n",
            "  df.index += _pd.TimedeltaIndex(dst_error_hours, 'h')\n"
          ]
        },
        {
          "output_type": "stream",
          "name": "stdout",
          "text": [
            "[**********************76%%**********            ]  775 of 1015 completed"
          ]
        },
        {
          "output_type": "stream",
          "name": "stderr",
          "text": [
            "/usr/local/lib/python3.11/dist-packages/yfinance/utils.py:788: FutureWarning: The 'unit' keyword in TimedeltaIndex construction is deprecated and will be removed in a future version. Use pd.to_timedelta instead.\n",
            "  df.index += _pd.TimedeltaIndex(dst_error_hours, 'h')\n",
            "/usr/local/lib/python3.11/dist-packages/yfinance/utils.py:788: FutureWarning: The 'unit' keyword in TimedeltaIndex construction is deprecated and will be removed in a future version. Use pd.to_timedelta instead.\n",
            "  df.index += _pd.TimedeltaIndex(dst_error_hours, 'h')\n",
            "/usr/local/lib/python3.11/dist-packages/yfinance/utils.py:788: FutureWarning: The 'unit' keyword in TimedeltaIndex construction is deprecated and will be removed in a future version. Use pd.to_timedelta instead.\n",
            "  df.index += _pd.TimedeltaIndex(dst_error_hours, 'h')\n"
          ]
        },
        {
          "output_type": "stream",
          "name": "stdout",
          "text": [
            "[**********************77%%***********           ]  777 of 1015 completed"
          ]
        },
        {
          "output_type": "stream",
          "name": "stderr",
          "text": [
            "/usr/local/lib/python3.11/dist-packages/yfinance/utils.py:788: FutureWarning: The 'unit' keyword in TimedeltaIndex construction is deprecated and will be removed in a future version. Use pd.to_timedelta instead.\n",
            "  df.index += _pd.TimedeltaIndex(dst_error_hours, 'h')\n",
            "/usr/local/lib/python3.11/dist-packages/yfinance/utils.py:788: FutureWarning: The 'unit' keyword in TimedeltaIndex construction is deprecated and will be removed in a future version. Use pd.to_timedelta instead.\n",
            "  df.index += _pd.TimedeltaIndex(dst_error_hours, 'h')\n"
          ]
        },
        {
          "output_type": "stream",
          "name": "stdout",
          "text": [
            "[**********************77%%***********           ]  780 of 1015 completed"
          ]
        },
        {
          "output_type": "stream",
          "name": "stderr",
          "text": [
            "/usr/local/lib/python3.11/dist-packages/yfinance/utils.py:788: FutureWarning: The 'unit' keyword in TimedeltaIndex construction is deprecated and will be removed in a future version. Use pd.to_timedelta instead.\n",
            "  df.index += _pd.TimedeltaIndex(dst_error_hours, 'h')\n",
            "/usr/local/lib/python3.11/dist-packages/yfinance/utils.py:788: FutureWarning: The 'unit' keyword in TimedeltaIndex construction is deprecated and will be removed in a future version. Use pd.to_timedelta instead.\n",
            "  df.index += _pd.TimedeltaIndex(dst_error_hours, 'h')\n",
            "/usr/local/lib/python3.11/dist-packages/yfinance/utils.py:788: FutureWarning: The 'unit' keyword in TimedeltaIndex construction is deprecated and will be removed in a future version. Use pd.to_timedelta instead.\n",
            "  df.index += _pd.TimedeltaIndex(dst_error_hours, 'h')\n"
          ]
        },
        {
          "output_type": "stream",
          "name": "stdout",
          "text": [
            "[**********************77%%***********           ]  783 of 1015 completed"
          ]
        },
        {
          "output_type": "stream",
          "name": "stderr",
          "text": [
            "/usr/local/lib/python3.11/dist-packages/yfinance/utils.py:788: FutureWarning: The 'unit' keyword in TimedeltaIndex construction is deprecated and will be removed in a future version. Use pd.to_timedelta instead.\n",
            "  df.index += _pd.TimedeltaIndex(dst_error_hours, 'h')\n",
            "/usr/local/lib/python3.11/dist-packages/yfinance/utils.py:788: FutureWarning: The 'unit' keyword in TimedeltaIndex construction is deprecated and will be removed in a future version. Use pd.to_timedelta instead.\n",
            "  df.index += _pd.TimedeltaIndex(dst_error_hours, 'h')\n"
          ]
        },
        {
          "output_type": "stream",
          "name": "stdout",
          "text": [
            "[**********************77%%***********           ]  785 of 1015 completed"
          ]
        },
        {
          "output_type": "stream",
          "name": "stderr",
          "text": [
            "/usr/local/lib/python3.11/dist-packages/yfinance/utils.py:788: FutureWarning: The 'unit' keyword in TimedeltaIndex construction is deprecated and will be removed in a future version. Use pd.to_timedelta instead.\n",
            "  df.index += _pd.TimedeltaIndex(dst_error_hours, 'h')\n",
            "/usr/local/lib/python3.11/dist-packages/yfinance/utils.py:788: FutureWarning: The 'unit' keyword in TimedeltaIndex construction is deprecated and will be removed in a future version. Use pd.to_timedelta instead.\n",
            "  df.index += _pd.TimedeltaIndex(dst_error_hours, 'h')\n",
            "/usr/local/lib/python3.11/dist-packages/yfinance/utils.py:788: FutureWarning: The 'unit' keyword in TimedeltaIndex construction is deprecated and will be removed in a future version. Use pd.to_timedelta instead.\n",
            "  df.index += _pd.TimedeltaIndex(dst_error_hours, 'h')\n"
          ]
        },
        {
          "output_type": "stream",
          "name": "stdout",
          "text": [
            "[**********************78%%***********           ]  789 of 1015 completed"
          ]
        },
        {
          "output_type": "stream",
          "name": "stderr",
          "text": [
            "/usr/local/lib/python3.11/dist-packages/yfinance/utils.py:788: FutureWarning: The 'unit' keyword in TimedeltaIndex construction is deprecated and will be removed in a future version. Use pd.to_timedelta instead.\n",
            "  df.index += _pd.TimedeltaIndex(dst_error_hours, 'h')\n",
            "/usr/local/lib/python3.11/dist-packages/yfinance/utils.py:788: FutureWarning: The 'unit' keyword in TimedeltaIndex construction is deprecated and will be removed in a future version. Use pd.to_timedelta instead.\n",
            "  df.index += _pd.TimedeltaIndex(dst_error_hours, 'h')\n",
            "/usr/local/lib/python3.11/dist-packages/yfinance/utils.py:788: FutureWarning: The 'unit' keyword in TimedeltaIndex construction is deprecated and will be removed in a future version. Use pd.to_timedelta instead.\n",
            "  df.index += _pd.TimedeltaIndex(dst_error_hours, 'h')\n"
          ]
        },
        {
          "output_type": "stream",
          "name": "stdout",
          "text": [
            "[**********************78%%***********           ]  792 of 1015 completed"
          ]
        },
        {
          "output_type": "stream",
          "name": "stderr",
          "text": [
            "/usr/local/lib/python3.11/dist-packages/yfinance/utils.py:788: FutureWarning: The 'unit' keyword in TimedeltaIndex construction is deprecated and will be removed in a future version. Use pd.to_timedelta instead.\n",
            "  df.index += _pd.TimedeltaIndex(dst_error_hours, 'h')\n",
            "/usr/local/lib/python3.11/dist-packages/yfinance/utils.py:788: FutureWarning: The 'unit' keyword in TimedeltaIndex construction is deprecated and will be removed in a future version. Use pd.to_timedelta instead.\n",
            "  df.index += _pd.TimedeltaIndex(dst_error_hours, 'h')\n",
            "/usr/local/lib/python3.11/dist-packages/yfinance/utils.py:788: FutureWarning: The 'unit' keyword in TimedeltaIndex construction is deprecated and will be removed in a future version. Use pd.to_timedelta instead.\n",
            "  df.index += _pd.TimedeltaIndex(dst_error_hours, 'h')\n"
          ]
        },
        {
          "output_type": "stream",
          "name": "stdout",
          "text": [
            "[**********************78%%***********           ]  795 of 1015 completed"
          ]
        },
        {
          "output_type": "stream",
          "name": "stderr",
          "text": [
            "/usr/local/lib/python3.11/dist-packages/yfinance/utils.py:788: FutureWarning: The 'unit' keyword in TimedeltaIndex construction is deprecated and will be removed in a future version. Use pd.to_timedelta instead.\n",
            "  df.index += _pd.TimedeltaIndex(dst_error_hours, 'h')\n",
            "/usr/local/lib/python3.11/dist-packages/yfinance/utils.py:788: FutureWarning: The 'unit' keyword in TimedeltaIndex construction is deprecated and will be removed in a future version. Use pd.to_timedelta instead.\n",
            "  df.index += _pd.TimedeltaIndex(dst_error_hours, 'h')\n",
            "/usr/local/lib/python3.11/dist-packages/yfinance/utils.py:788: FutureWarning: The 'unit' keyword in TimedeltaIndex construction is deprecated and will be removed in a future version. Use pd.to_timedelta instead.\n",
            "  df.index += _pd.TimedeltaIndex(dst_error_hours, 'h')\n"
          ]
        },
        {
          "output_type": "stream",
          "name": "stdout",
          "text": [
            "[**********************79%%************          ]  798 of 1015 completed"
          ]
        },
        {
          "output_type": "stream",
          "name": "stderr",
          "text": [
            "/usr/local/lib/python3.11/dist-packages/yfinance/utils.py:788: FutureWarning: The 'unit' keyword in TimedeltaIndex construction is deprecated and will be removed in a future version. Use pd.to_timedelta instead.\n",
            "  df.index += _pd.TimedeltaIndex(dst_error_hours, 'h')\n",
            "/usr/local/lib/python3.11/dist-packages/yfinance/utils.py:788: FutureWarning: The 'unit' keyword in TimedeltaIndex construction is deprecated and will be removed in a future version. Use pd.to_timedelta instead.\n",
            "  df.index += _pd.TimedeltaIndex(dst_error_hours, 'h')\n",
            "/usr/local/lib/python3.11/dist-packages/yfinance/utils.py:788: FutureWarning: The 'unit' keyword in TimedeltaIndex construction is deprecated and will be removed in a future version. Use pd.to_timedelta instead.\n",
            "  df.index += _pd.TimedeltaIndex(dst_error_hours, 'h')\n"
          ]
        },
        {
          "output_type": "stream",
          "name": "stdout",
          "text": [
            "[**********************79%%************          ]  801 of 1015 completed"
          ]
        },
        {
          "output_type": "stream",
          "name": "stderr",
          "text": [
            "/usr/local/lib/python3.11/dist-packages/yfinance/utils.py:788: FutureWarning: The 'unit' keyword in TimedeltaIndex construction is deprecated and will be removed in a future version. Use pd.to_timedelta instead.\n",
            "  df.index += _pd.TimedeltaIndex(dst_error_hours, 'h')\n",
            "/usr/local/lib/python3.11/dist-packages/yfinance/utils.py:788: FutureWarning: The 'unit' keyword in TimedeltaIndex construction is deprecated and will be removed in a future version. Use pd.to_timedelta instead.\n",
            "  df.index += _pd.TimedeltaIndex(dst_error_hours, 'h')\n",
            "/usr/local/lib/python3.11/dist-packages/yfinance/utils.py:788: FutureWarning: The 'unit' keyword in TimedeltaIndex construction is deprecated and will be removed in a future version. Use pd.to_timedelta instead.\n",
            "  df.index += _pd.TimedeltaIndex(dst_error_hours, 'h')\n"
          ]
        },
        {
          "output_type": "stream",
          "name": "stdout",
          "text": [
            "[**********************79%%************          ]  803 of 1015 completed"
          ]
        },
        {
          "output_type": "stream",
          "name": "stderr",
          "text": [
            "/usr/local/lib/python3.11/dist-packages/yfinance/utils.py:788: FutureWarning: The 'unit' keyword in TimedeltaIndex construction is deprecated and will be removed in a future version. Use pd.to_timedelta instead.\n",
            "  df.index += _pd.TimedeltaIndex(dst_error_hours, 'h')\n",
            "/usr/local/lib/python3.11/dist-packages/yfinance/utils.py:788: FutureWarning: The 'unit' keyword in TimedeltaIndex construction is deprecated and will be removed in a future version. Use pd.to_timedelta instead.\n",
            "  df.index += _pd.TimedeltaIndex(dst_error_hours, 'h')\n",
            "/usr/local/lib/python3.11/dist-packages/yfinance/utils.py:788: FutureWarning: The 'unit' keyword in TimedeltaIndex construction is deprecated and will be removed in a future version. Use pd.to_timedelta instead.\n",
            "  df.index += _pd.TimedeltaIndex(dst_error_hours, 'h')\n"
          ]
        },
        {
          "output_type": "stream",
          "name": "stdout",
          "text": [
            "[**********************80%%************          ]  807 of 1015 completed"
          ]
        },
        {
          "output_type": "stream",
          "name": "stderr",
          "text": [
            "/usr/local/lib/python3.11/dist-packages/yfinance/utils.py:788: FutureWarning: The 'unit' keyword in TimedeltaIndex construction is deprecated and will be removed in a future version. Use pd.to_timedelta instead.\n",
            "  df.index += _pd.TimedeltaIndex(dst_error_hours, 'h')\n",
            "/usr/local/lib/python3.11/dist-packages/yfinance/utils.py:788: FutureWarning: The 'unit' keyword in TimedeltaIndex construction is deprecated and will be removed in a future version. Use pd.to_timedelta instead.\n",
            "  df.index += _pd.TimedeltaIndex(dst_error_hours, 'h')\n",
            "/usr/local/lib/python3.11/dist-packages/yfinance/utils.py:788: FutureWarning: The 'unit' keyword in TimedeltaIndex construction is deprecated and will be removed in a future version. Use pd.to_timedelta instead.\n",
            "  df.index += _pd.TimedeltaIndex(dst_error_hours, 'h')\n"
          ]
        },
        {
          "output_type": "stream",
          "name": "stdout",
          "text": [
            "[**********************80%%************          ]  809 of 1015 completed"
          ]
        },
        {
          "output_type": "stream",
          "name": "stderr",
          "text": [
            "/usr/local/lib/python3.11/dist-packages/yfinance/utils.py:788: FutureWarning: The 'unit' keyword in TimedeltaIndex construction is deprecated and will be removed in a future version. Use pd.to_timedelta instead.\n",
            "  df.index += _pd.TimedeltaIndex(dst_error_hours, 'h')\n",
            "/usr/local/lib/python3.11/dist-packages/yfinance/utils.py:788: FutureWarning: The 'unit' keyword in TimedeltaIndex construction is deprecated and will be removed in a future version. Use pd.to_timedelta instead.\n",
            "  df.index += _pd.TimedeltaIndex(dst_error_hours, 'h')\n",
            "/usr/local/lib/python3.11/dist-packages/yfinance/utils.py:788: FutureWarning: The 'unit' keyword in TimedeltaIndex construction is deprecated and will be removed in a future version. Use pd.to_timedelta instead.\n",
            "  df.index += _pd.TimedeltaIndex(dst_error_hours, 'h')\n"
          ]
        },
        {
          "output_type": "stream",
          "name": "stdout",
          "text": [
            "[**********************80%%************          ]  813 of 1015 completed"
          ]
        },
        {
          "output_type": "stream",
          "name": "stderr",
          "text": [
            "/usr/local/lib/python3.11/dist-packages/yfinance/utils.py:788: FutureWarning: The 'unit' keyword in TimedeltaIndex construction is deprecated and will be removed in a future version. Use pd.to_timedelta instead.\n",
            "  df.index += _pd.TimedeltaIndex(dst_error_hours, 'h')\n",
            "/usr/local/lib/python3.11/dist-packages/yfinance/utils.py:788: FutureWarning: The 'unit' keyword in TimedeltaIndex construction is deprecated and will be removed in a future version. Use pd.to_timedelta instead.\n",
            "  df.index += _pd.TimedeltaIndex(dst_error_hours, 'h')\n",
            "/usr/local/lib/python3.11/dist-packages/yfinance/utils.py:788: FutureWarning: The 'unit' keyword in TimedeltaIndex construction is deprecated and will be removed in a future version. Use pd.to_timedelta instead.\n",
            "  df.index += _pd.TimedeltaIndex(dst_error_hours, 'h')\n"
          ]
        },
        {
          "output_type": "stream",
          "name": "stdout",
          "text": [
            "[**********************80%%************          ]  816 of 1015 completed"
          ]
        },
        {
          "output_type": "stream",
          "name": "stderr",
          "text": [
            "/usr/local/lib/python3.11/dist-packages/yfinance/utils.py:788: FutureWarning: The 'unit' keyword in TimedeltaIndex construction is deprecated and will be removed in a future version. Use pd.to_timedelta instead.\n",
            "  df.index += _pd.TimedeltaIndex(dst_error_hours, 'h')\n",
            "/usr/local/lib/python3.11/dist-packages/yfinance/utils.py:788: FutureWarning: The 'unit' keyword in TimedeltaIndex construction is deprecated and will be removed in a future version. Use pd.to_timedelta instead.\n",
            "  df.index += _pd.TimedeltaIndex(dst_error_hours, 'h')\n",
            "/usr/local/lib/python3.11/dist-packages/yfinance/utils.py:788: FutureWarning: The 'unit' keyword in TimedeltaIndex construction is deprecated and will be removed in a future version. Use pd.to_timedelta instead.\n",
            "  df.index += _pd.TimedeltaIndex(dst_error_hours, 'h')\n"
          ]
        },
        {
          "output_type": "stream",
          "name": "stdout",
          "text": [
            "[**********************81%%*************         ]  818 of 1015 completed"
          ]
        },
        {
          "output_type": "stream",
          "name": "stderr",
          "text": [
            "/usr/local/lib/python3.11/dist-packages/yfinance/utils.py:788: FutureWarning: The 'unit' keyword in TimedeltaIndex construction is deprecated and will be removed in a future version. Use pd.to_timedelta instead.\n",
            "  df.index += _pd.TimedeltaIndex(dst_error_hours, 'h')\n",
            "/usr/local/lib/python3.11/dist-packages/yfinance/utils.py:788: FutureWarning: The 'unit' keyword in TimedeltaIndex construction is deprecated and will be removed in a future version. Use pd.to_timedelta instead.\n",
            "  df.index += _pd.TimedeltaIndex(dst_error_hours, 'h')\n",
            "/usr/local/lib/python3.11/dist-packages/yfinance/utils.py:788: FutureWarning: The 'unit' keyword in TimedeltaIndex construction is deprecated and will be removed in a future version. Use pd.to_timedelta instead.\n",
            "  df.index += _pd.TimedeltaIndex(dst_error_hours, 'h')\n"
          ]
        },
        {
          "output_type": "stream",
          "name": "stdout",
          "text": [
            "[**********************81%%*************         ]  821 of 1015 completed"
          ]
        },
        {
          "output_type": "stream",
          "name": "stderr",
          "text": [
            "/usr/local/lib/python3.11/dist-packages/yfinance/utils.py:788: FutureWarning: The 'unit' keyword in TimedeltaIndex construction is deprecated and will be removed in a future version. Use pd.to_timedelta instead.\n",
            "  df.index += _pd.TimedeltaIndex(dst_error_hours, 'h')\n",
            "/usr/local/lib/python3.11/dist-packages/yfinance/utils.py:788: FutureWarning: The 'unit' keyword in TimedeltaIndex construction is deprecated and will be removed in a future version. Use pd.to_timedelta instead.\n",
            "  df.index += _pd.TimedeltaIndex(dst_error_hours, 'h')\n"
          ]
        },
        {
          "output_type": "stream",
          "name": "stdout",
          "text": [
            "[**********************81%%*************         ]  824 of 1015 completed"
          ]
        },
        {
          "output_type": "stream",
          "name": "stderr",
          "text": [
            "/usr/local/lib/python3.11/dist-packages/yfinance/utils.py:788: FutureWarning: The 'unit' keyword in TimedeltaIndex construction is deprecated and will be removed in a future version. Use pd.to_timedelta instead.\n",
            "  df.index += _pd.TimedeltaIndex(dst_error_hours, 'h')\n",
            "/usr/local/lib/python3.11/dist-packages/yfinance/utils.py:788: FutureWarning: The 'unit' keyword in TimedeltaIndex construction is deprecated and will be removed in a future version. Use pd.to_timedelta instead.\n",
            "  df.index += _pd.TimedeltaIndex(dst_error_hours, 'h')\n",
            "/usr/local/lib/python3.11/dist-packages/yfinance/utils.py:788: FutureWarning: The 'unit' keyword in TimedeltaIndex construction is deprecated and will be removed in a future version. Use pd.to_timedelta instead.\n",
            "  df.index += _pd.TimedeltaIndex(dst_error_hours, 'h')\n"
          ]
        },
        {
          "output_type": "stream",
          "name": "stdout",
          "text": [
            "[**********************81%%*************         ]  826 of 1015 completed"
          ]
        },
        {
          "output_type": "stream",
          "name": "stderr",
          "text": [
            "/usr/local/lib/python3.11/dist-packages/yfinance/utils.py:788: FutureWarning: The 'unit' keyword in TimedeltaIndex construction is deprecated and will be removed in a future version. Use pd.to_timedelta instead.\n",
            "  df.index += _pd.TimedeltaIndex(dst_error_hours, 'h')\n",
            "/usr/local/lib/python3.11/dist-packages/yfinance/utils.py:788: FutureWarning: The 'unit' keyword in TimedeltaIndex construction is deprecated and will be removed in a future version. Use pd.to_timedelta instead.\n",
            "  df.index += _pd.TimedeltaIndex(dst_error_hours, 'h')\n"
          ]
        },
        {
          "output_type": "stream",
          "name": "stdout",
          "text": [
            "[**********************82%%*************         ]  828 of 1015 completed"
          ]
        },
        {
          "output_type": "stream",
          "name": "stderr",
          "text": [
            "/usr/local/lib/python3.11/dist-packages/yfinance/utils.py:788: FutureWarning: The 'unit' keyword in TimedeltaIndex construction is deprecated and will be removed in a future version. Use pd.to_timedelta instead.\n",
            "  df.index += _pd.TimedeltaIndex(dst_error_hours, 'h')\n",
            "/usr/local/lib/python3.11/dist-packages/yfinance/utils.py:788: FutureWarning: The 'unit' keyword in TimedeltaIndex construction is deprecated and will be removed in a future version. Use pd.to_timedelta instead.\n",
            "  df.index += _pd.TimedeltaIndex(dst_error_hours, 'h')\n",
            "/usr/local/lib/python3.11/dist-packages/yfinance/utils.py:788: FutureWarning: The 'unit' keyword in TimedeltaIndex construction is deprecated and will be removed in a future version. Use pd.to_timedelta instead.\n",
            "  df.index += _pd.TimedeltaIndex(dst_error_hours, 'h')\n"
          ]
        },
        {
          "output_type": "stream",
          "name": "stdout",
          "text": [
            "[**********************82%%*************         ]  831 of 1015 completed"
          ]
        },
        {
          "output_type": "stream",
          "name": "stderr",
          "text": [
            "/usr/local/lib/python3.11/dist-packages/yfinance/utils.py:788: FutureWarning: The 'unit' keyword in TimedeltaIndex construction is deprecated and will be removed in a future version. Use pd.to_timedelta instead.\n",
            "  df.index += _pd.TimedeltaIndex(dst_error_hours, 'h')\n",
            "/usr/local/lib/python3.11/dist-packages/yfinance/utils.py:788: FutureWarning: The 'unit' keyword in TimedeltaIndex construction is deprecated and will be removed in a future version. Use pd.to_timedelta instead.\n",
            "  df.index += _pd.TimedeltaIndex(dst_error_hours, 'h')\n",
            "/usr/local/lib/python3.11/dist-packages/yfinance/utils.py:788: FutureWarning: The 'unit' keyword in TimedeltaIndex construction is deprecated and will be removed in a future version. Use pd.to_timedelta instead.\n",
            "  df.index += _pd.TimedeltaIndex(dst_error_hours, 'h')\n"
          ]
        },
        {
          "output_type": "stream",
          "name": "stdout",
          "text": [
            "[**********************82%%*************         ]  835 of 1015 completed"
          ]
        },
        {
          "output_type": "stream",
          "name": "stderr",
          "text": [
            "/usr/local/lib/python3.11/dist-packages/yfinance/utils.py:788: FutureWarning: The 'unit' keyword in TimedeltaIndex construction is deprecated and will be removed in a future version. Use pd.to_timedelta instead.\n",
            "  df.index += _pd.TimedeltaIndex(dst_error_hours, 'h')\n",
            "/usr/local/lib/python3.11/dist-packages/yfinance/utils.py:788: FutureWarning: The 'unit' keyword in TimedeltaIndex construction is deprecated and will be removed in a future version. Use pd.to_timedelta instead.\n",
            "  df.index += _pd.TimedeltaIndex(dst_error_hours, 'h')\n",
            "/usr/local/lib/python3.11/dist-packages/yfinance/utils.py:788: FutureWarning: The 'unit' keyword in TimedeltaIndex construction is deprecated and will be removed in a future version. Use pd.to_timedelta instead.\n",
            "  df.index += _pd.TimedeltaIndex(dst_error_hours, 'h')\n"
          ]
        },
        {
          "output_type": "stream",
          "name": "stdout",
          "text": [
            "[**********************82%%*************         ]  837 of 1015 completed"
          ]
        },
        {
          "output_type": "stream",
          "name": "stderr",
          "text": [
            "/usr/local/lib/python3.11/dist-packages/yfinance/utils.py:788: FutureWarning: The 'unit' keyword in TimedeltaIndex construction is deprecated and will be removed in a future version. Use pd.to_timedelta instead.\n",
            "  df.index += _pd.TimedeltaIndex(dst_error_hours, 'h')\n",
            "/usr/local/lib/python3.11/dist-packages/yfinance/utils.py:788: FutureWarning: The 'unit' keyword in TimedeltaIndex construction is deprecated and will be removed in a future version. Use pd.to_timedelta instead.\n",
            "  df.index += _pd.TimedeltaIndex(dst_error_hours, 'h')\n"
          ]
        },
        {
          "output_type": "stream",
          "name": "stdout",
          "text": [
            "[**********************83%%**************        ]  839 of 1015 completed"
          ]
        },
        {
          "output_type": "stream",
          "name": "stderr",
          "text": [
            "/usr/local/lib/python3.11/dist-packages/yfinance/utils.py:788: FutureWarning: The 'unit' keyword in TimedeltaIndex construction is deprecated and will be removed in a future version. Use pd.to_timedelta instead.\n",
            "  df.index += _pd.TimedeltaIndex(dst_error_hours, 'h')\n",
            "/usr/local/lib/python3.11/dist-packages/yfinance/utils.py:788: FutureWarning: The 'unit' keyword in TimedeltaIndex construction is deprecated and will be removed in a future version. Use pd.to_timedelta instead.\n",
            "  df.index += _pd.TimedeltaIndex(dst_error_hours, 'h')\n",
            "/usr/local/lib/python3.11/dist-packages/yfinance/utils.py:788: FutureWarning: The 'unit' keyword in TimedeltaIndex construction is deprecated and will be removed in a future version. Use pd.to_timedelta instead.\n",
            "  df.index += _pd.TimedeltaIndex(dst_error_hours, 'h')\n"
          ]
        },
        {
          "output_type": "stream",
          "name": "stdout",
          "text": [
            "[**********************83%%**************        ]  841 of 1015 completed"
          ]
        },
        {
          "output_type": "stream",
          "name": "stderr",
          "text": [
            "/usr/local/lib/python3.11/dist-packages/yfinance/utils.py:788: FutureWarning: The 'unit' keyword in TimedeltaIndex construction is deprecated and will be removed in a future version. Use pd.to_timedelta instead.\n",
            "  df.index += _pd.TimedeltaIndex(dst_error_hours, 'h')\n",
            "/usr/local/lib/python3.11/dist-packages/yfinance/utils.py:788: FutureWarning: The 'unit' keyword in TimedeltaIndex construction is deprecated and will be removed in a future version. Use pd.to_timedelta instead.\n",
            "  df.index += _pd.TimedeltaIndex(dst_error_hours, 'h')\n",
            "/usr/local/lib/python3.11/dist-packages/yfinance/utils.py:788: FutureWarning: The 'unit' keyword in TimedeltaIndex construction is deprecated and will be removed in a future version. Use pd.to_timedelta instead.\n",
            "  df.index += _pd.TimedeltaIndex(dst_error_hours, 'h')\n"
          ]
        },
        {
          "output_type": "stream",
          "name": "stdout",
          "text": [
            "[**********************83%%**************        ]  843 of 1015 completed"
          ]
        },
        {
          "output_type": "stream",
          "name": "stderr",
          "text": [
            "ERROR:yfinance:Could not get exchangeTimezoneName for ticker '2439.TW' reason: 'chart'\n"
          ]
        },
        {
          "output_type": "stream",
          "name": "stdout",
          "text": [
            "[**********************83%%**************        ]  845 of 1015 completed"
          ]
        },
        {
          "output_type": "stream",
          "name": "stderr",
          "text": [
            "/usr/local/lib/python3.11/dist-packages/yfinance/utils.py:788: FutureWarning: The 'unit' keyword in TimedeltaIndex construction is deprecated and will be removed in a future version. Use pd.to_timedelta instead.\n",
            "  df.index += _pd.TimedeltaIndex(dst_error_hours, 'h')\n",
            "/usr/local/lib/python3.11/dist-packages/yfinance/utils.py:788: FutureWarning: The 'unit' keyword in TimedeltaIndex construction is deprecated and will be removed in a future version. Use pd.to_timedelta instead.\n",
            "  df.index += _pd.TimedeltaIndex(dst_error_hours, 'h')\n"
          ]
        },
        {
          "output_type": "stream",
          "name": "stdout",
          "text": [
            "\r[**********************83%%**************        ]  846 of 1015 completed"
          ]
        },
        {
          "output_type": "stream",
          "name": "stderr",
          "text": [
            "/usr/local/lib/python3.11/dist-packages/yfinance/utils.py:788: FutureWarning: The 'unit' keyword in TimedeltaIndex construction is deprecated and will be removed in a future version. Use pd.to_timedelta instead.\n",
            "  df.index += _pd.TimedeltaIndex(dst_error_hours, 'h')\n"
          ]
        },
        {
          "output_type": "stream",
          "name": "stdout",
          "text": [
            "[**********************84%%**************        ]  848 of 1015 completed"
          ]
        },
        {
          "output_type": "stream",
          "name": "stderr",
          "text": [
            "/usr/local/lib/python3.11/dist-packages/yfinance/utils.py:788: FutureWarning: The 'unit' keyword in TimedeltaIndex construction is deprecated and will be removed in a future version. Use pd.to_timedelta instead.\n",
            "  df.index += _pd.TimedeltaIndex(dst_error_hours, 'h')\n",
            "/usr/local/lib/python3.11/dist-packages/yfinance/utils.py:788: FutureWarning: The 'unit' keyword in TimedeltaIndex construction is deprecated and will be removed in a future version. Use pd.to_timedelta instead.\n",
            "  df.index += _pd.TimedeltaIndex(dst_error_hours, 'h')\n"
          ]
        },
        {
          "output_type": "stream",
          "name": "stdout",
          "text": [
            "[**********************84%%**************        ]  851 of 1015 completed"
          ]
        },
        {
          "output_type": "stream",
          "name": "stderr",
          "text": [
            "/usr/local/lib/python3.11/dist-packages/yfinance/utils.py:788: FutureWarning: The 'unit' keyword in TimedeltaIndex construction is deprecated and will be removed in a future version. Use pd.to_timedelta instead.\n",
            "  df.index += _pd.TimedeltaIndex(dst_error_hours, 'h')\n",
            "/usr/local/lib/python3.11/dist-packages/yfinance/utils.py:788: FutureWarning: The 'unit' keyword in TimedeltaIndex construction is deprecated and will be removed in a future version. Use pd.to_timedelta instead.\n",
            "  df.index += _pd.TimedeltaIndex(dst_error_hours, 'h')\n"
          ]
        },
        {
          "output_type": "stream",
          "name": "stdout",
          "text": [
            "[**********************84%%**************        ]  853 of 1015 completed"
          ]
        },
        {
          "output_type": "stream",
          "name": "stderr",
          "text": [
            "/usr/local/lib/python3.11/dist-packages/yfinance/utils.py:788: FutureWarning: The 'unit' keyword in TimedeltaIndex construction is deprecated and will be removed in a future version. Use pd.to_timedelta instead.\n",
            "  df.index += _pd.TimedeltaIndex(dst_error_hours, 'h')\n",
            "/usr/local/lib/python3.11/dist-packages/yfinance/utils.py:788: FutureWarning: The 'unit' keyword in TimedeltaIndex construction is deprecated and will be removed in a future version. Use pd.to_timedelta instead.\n",
            "  df.index += _pd.TimedeltaIndex(dst_error_hours, 'h')\n",
            "/usr/local/lib/python3.11/dist-packages/yfinance/utils.py:788: FutureWarning: The 'unit' keyword in TimedeltaIndex construction is deprecated and will be removed in a future version. Use pd.to_timedelta instead.\n",
            "  df.index += _pd.TimedeltaIndex(dst_error_hours, 'h')\n",
            "/usr/local/lib/python3.11/dist-packages/yfinance/utils.py:788: FutureWarning: The 'unit' keyword in TimedeltaIndex construction is deprecated and will be removed in a future version. Use pd.to_timedelta instead.\n",
            "  df.index += _pd.TimedeltaIndex(dst_error_hours, 'h')\n"
          ]
        },
        {
          "output_type": "stream",
          "name": "stdout",
          "text": [
            "[**********************84%%**************        ]  857 of 1015 completed"
          ]
        },
        {
          "output_type": "stream",
          "name": "stderr",
          "text": [
            "/usr/local/lib/python3.11/dist-packages/yfinance/utils.py:788: FutureWarning: The 'unit' keyword in TimedeltaIndex construction is deprecated and will be removed in a future version. Use pd.to_timedelta instead.\n",
            "  df.index += _pd.TimedeltaIndex(dst_error_hours, 'h')\n",
            "/usr/local/lib/python3.11/dist-packages/yfinance/utils.py:788: FutureWarning: The 'unit' keyword in TimedeltaIndex construction is deprecated and will be removed in a future version. Use pd.to_timedelta instead.\n",
            "  df.index += _pd.TimedeltaIndex(dst_error_hours, 'h')\n",
            "/usr/local/lib/python3.11/dist-packages/yfinance/utils.py:788: FutureWarning: The 'unit' keyword in TimedeltaIndex construction is deprecated and will be removed in a future version. Use pd.to_timedelta instead.\n",
            "  df.index += _pd.TimedeltaIndex(dst_error_hours, 'h')\n"
          ]
        },
        {
          "output_type": "stream",
          "name": "stdout",
          "text": [
            "[**********************85%%***************       ]  860 of 1015 completed"
          ]
        },
        {
          "output_type": "stream",
          "name": "stderr",
          "text": [
            "/usr/local/lib/python3.11/dist-packages/yfinance/utils.py:788: FutureWarning: The 'unit' keyword in TimedeltaIndex construction is deprecated and will be removed in a future version. Use pd.to_timedelta instead.\n",
            "  df.index += _pd.TimedeltaIndex(dst_error_hours, 'h')\n",
            "/usr/local/lib/python3.11/dist-packages/yfinance/utils.py:788: FutureWarning: The 'unit' keyword in TimedeltaIndex construction is deprecated and will be removed in a future version. Use pd.to_timedelta instead.\n",
            "  df.index += _pd.TimedeltaIndex(dst_error_hours, 'h')\n"
          ]
        },
        {
          "output_type": "stream",
          "name": "stdout",
          "text": [
            "\r[**********************85%%***************       ]  861 of 1015 completed\r[**********************85%%***************       ]  861 of 1015 completed"
          ]
        },
        {
          "output_type": "stream",
          "name": "stderr",
          "text": [
            "/usr/local/lib/python3.11/dist-packages/yfinance/utils.py:788: FutureWarning: The 'unit' keyword in TimedeltaIndex construction is deprecated and will be removed in a future version. Use pd.to_timedelta instead.\n",
            "  df.index += _pd.TimedeltaIndex(dst_error_hours, 'h')\n",
            "/usr/local/lib/python3.11/dist-packages/yfinance/utils.py:788: FutureWarning: The 'unit' keyword in TimedeltaIndex construction is deprecated and will be removed in a future version. Use pd.to_timedelta instead.\n",
            "  df.index += _pd.TimedeltaIndex(dst_error_hours, 'h')\n"
          ]
        },
        {
          "output_type": "stream",
          "name": "stdout",
          "text": [
            "[**********************85%%***************       ]  865 of 1015 completed"
          ]
        },
        {
          "output_type": "stream",
          "name": "stderr",
          "text": [
            "/usr/local/lib/python3.11/dist-packages/yfinance/utils.py:788: FutureWarning: The 'unit' keyword in TimedeltaIndex construction is deprecated and will be removed in a future version. Use pd.to_timedelta instead.\n",
            "  df.index += _pd.TimedeltaIndex(dst_error_hours, 'h')\n",
            "/usr/local/lib/python3.11/dist-packages/yfinance/utils.py:788: FutureWarning: The 'unit' keyword in TimedeltaIndex construction is deprecated and will be removed in a future version. Use pd.to_timedelta instead.\n",
            "  df.index += _pd.TimedeltaIndex(dst_error_hours, 'h')\n",
            "/usr/local/lib/python3.11/dist-packages/yfinance/utils.py:788: FutureWarning: The 'unit' keyword in TimedeltaIndex construction is deprecated and will be removed in a future version. Use pd.to_timedelta instead.\n",
            "  df.index += _pd.TimedeltaIndex(dst_error_hours, 'h')\n"
          ]
        },
        {
          "output_type": "stream",
          "name": "stdout",
          "text": [
            "[**********************85%%***************       ]  867 of 1015 completed"
          ]
        },
        {
          "output_type": "stream",
          "name": "stderr",
          "text": [
            "/usr/local/lib/python3.11/dist-packages/yfinance/utils.py:788: FutureWarning: The 'unit' keyword in TimedeltaIndex construction is deprecated and will be removed in a future version. Use pd.to_timedelta instead.\n",
            "  df.index += _pd.TimedeltaIndex(dst_error_hours, 'h')\n",
            "/usr/local/lib/python3.11/dist-packages/yfinance/utils.py:788: FutureWarning: The 'unit' keyword in TimedeltaIndex construction is deprecated and will be removed in a future version. Use pd.to_timedelta instead.\n",
            "  df.index += _pd.TimedeltaIndex(dst_error_hours, 'h')\n",
            "/usr/local/lib/python3.11/dist-packages/yfinance/utils.py:788: FutureWarning: The 'unit' keyword in TimedeltaIndex construction is deprecated and will be removed in a future version. Use pd.to_timedelta instead.\n",
            "  df.index += _pd.TimedeltaIndex(dst_error_hours, 'h')\n"
          ]
        },
        {
          "output_type": "stream",
          "name": "stdout",
          "text": [
            "[**********************86%%***************       ]  869 of 1015 completed"
          ]
        },
        {
          "output_type": "stream",
          "name": "stderr",
          "text": [
            "/usr/local/lib/python3.11/dist-packages/yfinance/utils.py:788: FutureWarning: The 'unit' keyword in TimedeltaIndex construction is deprecated and will be removed in a future version. Use pd.to_timedelta instead.\n",
            "  df.index += _pd.TimedeltaIndex(dst_error_hours, 'h')\n"
          ]
        },
        {
          "output_type": "stream",
          "name": "stdout",
          "text": [
            "[**********************86%%***************       ]  871 of 1015 completed"
          ]
        },
        {
          "output_type": "stream",
          "name": "stderr",
          "text": [
            "/usr/local/lib/python3.11/dist-packages/yfinance/utils.py:788: FutureWarning: The 'unit' keyword in TimedeltaIndex construction is deprecated and will be removed in a future version. Use pd.to_timedelta instead.\n",
            "  df.index += _pd.TimedeltaIndex(dst_error_hours, 'h')\n",
            "/usr/local/lib/python3.11/dist-packages/yfinance/utils.py:788: FutureWarning: The 'unit' keyword in TimedeltaIndex construction is deprecated and will be removed in a future version. Use pd.to_timedelta instead.\n",
            "  df.index += _pd.TimedeltaIndex(dst_error_hours, 'h')\n",
            "/usr/local/lib/python3.11/dist-packages/yfinance/utils.py:788: FutureWarning: The 'unit' keyword in TimedeltaIndex construction is deprecated and will be removed in a future version. Use pd.to_timedelta instead.\n",
            "  df.index += _pd.TimedeltaIndex(dst_error_hours, 'h')\n"
          ]
        },
        {
          "output_type": "stream",
          "name": "stdout",
          "text": [
            "[**********************86%%***************       ]  873 of 1015 completed"
          ]
        },
        {
          "output_type": "stream",
          "name": "stderr",
          "text": [
            "/usr/local/lib/python3.11/dist-packages/yfinance/utils.py:788: FutureWarning: The 'unit' keyword in TimedeltaIndex construction is deprecated and will be removed in a future version. Use pd.to_timedelta instead.\n",
            "  df.index += _pd.TimedeltaIndex(dst_error_hours, 'h')\n"
          ]
        },
        {
          "output_type": "stream",
          "name": "stdout",
          "text": [
            "[**********************86%%***************       ]  875 of 1015 completed"
          ]
        },
        {
          "output_type": "stream",
          "name": "stderr",
          "text": [
            "/usr/local/lib/python3.11/dist-packages/yfinance/utils.py:788: FutureWarning: The 'unit' keyword in TimedeltaIndex construction is deprecated and will be removed in a future version. Use pd.to_timedelta instead.\n",
            "  df.index += _pd.TimedeltaIndex(dst_error_hours, 'h')\n",
            "/usr/local/lib/python3.11/dist-packages/yfinance/utils.py:788: FutureWarning: The 'unit' keyword in TimedeltaIndex construction is deprecated and will be removed in a future version. Use pd.to_timedelta instead.\n",
            "  df.index += _pd.TimedeltaIndex(dst_error_hours, 'h')\n"
          ]
        },
        {
          "output_type": "stream",
          "name": "stdout",
          "text": [
            "[**********************86%%***************       ]  877 of 1015 completed"
          ]
        },
        {
          "output_type": "stream",
          "name": "stderr",
          "text": [
            "/usr/local/lib/python3.11/dist-packages/yfinance/utils.py:788: FutureWarning: The 'unit' keyword in TimedeltaIndex construction is deprecated and will be removed in a future version. Use pd.to_timedelta instead.\n",
            "  df.index += _pd.TimedeltaIndex(dst_error_hours, 'h')\n",
            "/usr/local/lib/python3.11/dist-packages/yfinance/utils.py:788: FutureWarning: The 'unit' keyword in TimedeltaIndex construction is deprecated and will be removed in a future version. Use pd.to_timedelta instead.\n",
            "  df.index += _pd.TimedeltaIndex(dst_error_hours, 'h')\n"
          ]
        },
        {
          "output_type": "stream",
          "name": "stdout",
          "text": [
            "[**********************87%%****************      ]  879 of 1015 completed"
          ]
        },
        {
          "output_type": "stream",
          "name": "stderr",
          "text": [
            "/usr/local/lib/python3.11/dist-packages/yfinance/utils.py:788: FutureWarning: The 'unit' keyword in TimedeltaIndex construction is deprecated and will be removed in a future version. Use pd.to_timedelta instead.\n",
            "  df.index += _pd.TimedeltaIndex(dst_error_hours, 'h')\n",
            "/usr/local/lib/python3.11/dist-packages/yfinance/utils.py:788: FutureWarning: The 'unit' keyword in TimedeltaIndex construction is deprecated and will be removed in a future version. Use pd.to_timedelta instead.\n",
            "  df.index += _pd.TimedeltaIndex(dst_error_hours, 'h')\n"
          ]
        },
        {
          "output_type": "stream",
          "name": "stdout",
          "text": [
            "\r[**********************87%%****************      ]  880 of 1015 completed"
          ]
        },
        {
          "output_type": "stream",
          "name": "stderr",
          "text": [
            "/usr/local/lib/python3.11/dist-packages/yfinance/utils.py:788: FutureWarning: The 'unit' keyword in TimedeltaIndex construction is deprecated and will be removed in a future version. Use pd.to_timedelta instead.\n",
            "  df.index += _pd.TimedeltaIndex(dst_error_hours, 'h')\n",
            "/usr/local/lib/python3.11/dist-packages/yfinance/utils.py:788: FutureWarning: The 'unit' keyword in TimedeltaIndex construction is deprecated and will be removed in a future version. Use pd.to_timedelta instead.\n",
            "  df.index += _pd.TimedeltaIndex(dst_error_hours, 'h')\n",
            "/usr/local/lib/python3.11/dist-packages/yfinance/utils.py:788: FutureWarning: The 'unit' keyword in TimedeltaIndex construction is deprecated and will be removed in a future version. Use pd.to_timedelta instead.\n",
            "  df.index += _pd.TimedeltaIndex(dst_error_hours, 'h')\n"
          ]
        },
        {
          "output_type": "stream",
          "name": "stdout",
          "text": [
            "[**********************87%%****************      ]  884 of 1015 completed"
          ]
        },
        {
          "output_type": "stream",
          "name": "stderr",
          "text": [
            "/usr/local/lib/python3.11/dist-packages/yfinance/utils.py:788: FutureWarning: The 'unit' keyword in TimedeltaIndex construction is deprecated and will be removed in a future version. Use pd.to_timedelta instead.\n",
            "  df.index += _pd.TimedeltaIndex(dst_error_hours, 'h')\n",
            "/usr/local/lib/python3.11/dist-packages/yfinance/utils.py:788: FutureWarning: The 'unit' keyword in TimedeltaIndex construction is deprecated and will be removed in a future version. Use pd.to_timedelta instead.\n",
            "  df.index += _pd.TimedeltaIndex(dst_error_hours, 'h')\n",
            "/usr/local/lib/python3.11/dist-packages/yfinance/utils.py:788: FutureWarning: The 'unit' keyword in TimedeltaIndex construction is deprecated and will be removed in a future version. Use pd.to_timedelta instead.\n",
            "  df.index += _pd.TimedeltaIndex(dst_error_hours, 'h')\n"
          ]
        },
        {
          "output_type": "stream",
          "name": "stdout",
          "text": [
            "[**********************87%%****************      ]  887 of 1015 completed"
          ]
        },
        {
          "output_type": "stream",
          "name": "stderr",
          "text": [
            "/usr/local/lib/python3.11/dist-packages/yfinance/utils.py:788: FutureWarning: The 'unit' keyword in TimedeltaIndex construction is deprecated and will be removed in a future version. Use pd.to_timedelta instead.\n",
            "  df.index += _pd.TimedeltaIndex(dst_error_hours, 'h')\n",
            "/usr/local/lib/python3.11/dist-packages/yfinance/utils.py:788: FutureWarning: The 'unit' keyword in TimedeltaIndex construction is deprecated and will be removed in a future version. Use pd.to_timedelta instead.\n",
            "  df.index += _pd.TimedeltaIndex(dst_error_hours, 'h')\n"
          ]
        },
        {
          "output_type": "stream",
          "name": "stdout",
          "text": [
            "[**********************88%%****************      ]  890 of 1015 completed"
          ]
        },
        {
          "output_type": "stream",
          "name": "stderr",
          "text": [
            "/usr/local/lib/python3.11/dist-packages/yfinance/utils.py:788: FutureWarning: The 'unit' keyword in TimedeltaIndex construction is deprecated and will be removed in a future version. Use pd.to_timedelta instead.\n",
            "  df.index += _pd.TimedeltaIndex(dst_error_hours, 'h')\n",
            "/usr/local/lib/python3.11/dist-packages/yfinance/utils.py:788: FutureWarning: The 'unit' keyword in TimedeltaIndex construction is deprecated and will be removed in a future version. Use pd.to_timedelta instead.\n",
            "  df.index += _pd.TimedeltaIndex(dst_error_hours, 'h')\n",
            "/usr/local/lib/python3.11/dist-packages/yfinance/utils.py:788: FutureWarning: The 'unit' keyword in TimedeltaIndex construction is deprecated and will be removed in a future version. Use pd.to_timedelta instead.\n",
            "  df.index += _pd.TimedeltaIndex(dst_error_hours, 'h')\n"
          ]
        },
        {
          "output_type": "stream",
          "name": "stdout",
          "text": [
            "[**********************88%%****************      ]  892 of 1015 completed"
          ]
        },
        {
          "output_type": "stream",
          "name": "stderr",
          "text": [
            "/usr/local/lib/python3.11/dist-packages/yfinance/utils.py:788: FutureWarning: The 'unit' keyword in TimedeltaIndex construction is deprecated and will be removed in a future version. Use pd.to_timedelta instead.\n",
            "  df.index += _pd.TimedeltaIndex(dst_error_hours, 'h')\n",
            "/usr/local/lib/python3.11/dist-packages/yfinance/utils.py:788: FutureWarning: The 'unit' keyword in TimedeltaIndex construction is deprecated and will be removed in a future version. Use pd.to_timedelta instead.\n",
            "  df.index += _pd.TimedeltaIndex(dst_error_hours, 'h')\n"
          ]
        },
        {
          "output_type": "stream",
          "name": "stdout",
          "text": [
            "[**********************88%%****************      ]  893 of 1015 completed"
          ]
        },
        {
          "output_type": "stream",
          "name": "stderr",
          "text": [
            "/usr/local/lib/python3.11/dist-packages/yfinance/utils.py:788: FutureWarning: The 'unit' keyword in TimedeltaIndex construction is deprecated and will be removed in a future version. Use pd.to_timedelta instead.\n",
            "  df.index += _pd.TimedeltaIndex(dst_error_hours, 'h')\n",
            "/usr/local/lib/python3.11/dist-packages/yfinance/utils.py:788: FutureWarning: The 'unit' keyword in TimedeltaIndex construction is deprecated and will be removed in a future version. Use pd.to_timedelta instead.\n",
            "  df.index += _pd.TimedeltaIndex(dst_error_hours, 'h')\n",
            "/usr/local/lib/python3.11/dist-packages/yfinance/utils.py:788: FutureWarning: The 'unit' keyword in TimedeltaIndex construction is deprecated and will be removed in a future version. Use pd.to_timedelta instead.\n",
            "  df.index += _pd.TimedeltaIndex(dst_error_hours, 'h')\n"
          ]
        },
        {
          "output_type": "stream",
          "name": "stdout",
          "text": [
            "[**********************88%%****************      ]  896 of 1015 completed"
          ]
        },
        {
          "output_type": "stream",
          "name": "stderr",
          "text": [
            "/usr/local/lib/python3.11/dist-packages/yfinance/utils.py:788: FutureWarning: The 'unit' keyword in TimedeltaIndex construction is deprecated and will be removed in a future version. Use pd.to_timedelta instead.\n",
            "  df.index += _pd.TimedeltaIndex(dst_error_hours, 'h')\n",
            "/usr/local/lib/python3.11/dist-packages/yfinance/utils.py:788: FutureWarning: The 'unit' keyword in TimedeltaIndex construction is deprecated and will be removed in a future version. Use pd.to_timedelta instead.\n",
            "  df.index += _pd.TimedeltaIndex(dst_error_hours, 'h')\n"
          ]
        },
        {
          "output_type": "stream",
          "name": "stdout",
          "text": [
            "[**********************89%%*****************     ]  899 of 1015 completed"
          ]
        },
        {
          "output_type": "stream",
          "name": "stderr",
          "text": [
            "/usr/local/lib/python3.11/dist-packages/yfinance/utils.py:788: FutureWarning: The 'unit' keyword in TimedeltaIndex construction is deprecated and will be removed in a future version. Use pd.to_timedelta instead.\n",
            "  df.index += _pd.TimedeltaIndex(dst_error_hours, 'h')\n",
            "/usr/local/lib/python3.11/dist-packages/yfinance/utils.py:788: FutureWarning: The 'unit' keyword in TimedeltaIndex construction is deprecated and will be removed in a future version. Use pd.to_timedelta instead.\n",
            "  df.index += _pd.TimedeltaIndex(dst_error_hours, 'h')\n"
          ]
        },
        {
          "output_type": "stream",
          "name": "stdout",
          "text": [
            "[**********************89%%*****************     ]  901 of 1015 completed"
          ]
        },
        {
          "output_type": "stream",
          "name": "stderr",
          "text": [
            "/usr/local/lib/python3.11/dist-packages/yfinance/utils.py:788: FutureWarning: The 'unit' keyword in TimedeltaIndex construction is deprecated and will be removed in a future version. Use pd.to_timedelta instead.\n",
            "  df.index += _pd.TimedeltaIndex(dst_error_hours, 'h')\n",
            "/usr/local/lib/python3.11/dist-packages/yfinance/utils.py:788: FutureWarning: The 'unit' keyword in TimedeltaIndex construction is deprecated and will be removed in a future version. Use pd.to_timedelta instead.\n",
            "  df.index += _pd.TimedeltaIndex(dst_error_hours, 'h')\n"
          ]
        },
        {
          "output_type": "stream",
          "name": "stdout",
          "text": [
            "\r[**********************89%%*****************     ]  902 of 1015 completed"
          ]
        },
        {
          "output_type": "stream",
          "name": "stderr",
          "text": [
            "/usr/local/lib/python3.11/dist-packages/yfinance/utils.py:788: FutureWarning: The 'unit' keyword in TimedeltaIndex construction is deprecated and will be removed in a future version. Use pd.to_timedelta instead.\n",
            "  df.index += _pd.TimedeltaIndex(dst_error_hours, 'h')\n",
            "/usr/local/lib/python3.11/dist-packages/yfinance/utils.py:788: FutureWarning: The 'unit' keyword in TimedeltaIndex construction is deprecated and will be removed in a future version. Use pd.to_timedelta instead.\n",
            "  df.index += _pd.TimedeltaIndex(dst_error_hours, 'h')\n"
          ]
        },
        {
          "output_type": "stream",
          "name": "stdout",
          "text": [
            "[**********************89%%*****************     ]  906 of 1015 completed"
          ]
        },
        {
          "output_type": "stream",
          "name": "stderr",
          "text": [
            "/usr/local/lib/python3.11/dist-packages/yfinance/utils.py:788: FutureWarning: The 'unit' keyword in TimedeltaIndex construction is deprecated and will be removed in a future version. Use pd.to_timedelta instead.\n",
            "  df.index += _pd.TimedeltaIndex(dst_error_hours, 'h')\n",
            "/usr/local/lib/python3.11/dist-packages/yfinance/utils.py:788: FutureWarning: The 'unit' keyword in TimedeltaIndex construction is deprecated and will be removed in a future version. Use pd.to_timedelta instead.\n",
            "  df.index += _pd.TimedeltaIndex(dst_error_hours, 'h')\n",
            "/usr/local/lib/python3.11/dist-packages/yfinance/utils.py:788: FutureWarning: The 'unit' keyword in TimedeltaIndex construction is deprecated and will be removed in a future version. Use pd.to_timedelta instead.\n",
            "  df.index += _pd.TimedeltaIndex(dst_error_hours, 'h')\n"
          ]
        },
        {
          "output_type": "stream",
          "name": "stdout",
          "text": [
            "[**********************90%%*****************     ]  909 of 1015 completed"
          ]
        },
        {
          "output_type": "stream",
          "name": "stderr",
          "text": [
            "/usr/local/lib/python3.11/dist-packages/yfinance/utils.py:788: FutureWarning: The 'unit' keyword in TimedeltaIndex construction is deprecated and will be removed in a future version. Use pd.to_timedelta instead.\n",
            "  df.index += _pd.TimedeltaIndex(dst_error_hours, 'h')\n",
            "/usr/local/lib/python3.11/dist-packages/yfinance/utils.py:788: FutureWarning: The 'unit' keyword in TimedeltaIndex construction is deprecated and will be removed in a future version. Use pd.to_timedelta instead.\n",
            "  df.index += _pd.TimedeltaIndex(dst_error_hours, 'h')\n",
            "/usr/local/lib/python3.11/dist-packages/yfinance/utils.py:788: FutureWarning: The 'unit' keyword in TimedeltaIndex construction is deprecated and will be removed in a future version. Use pd.to_timedelta instead.\n",
            "  df.index += _pd.TimedeltaIndex(dst_error_hours, 'h')\n"
          ]
        },
        {
          "output_type": "stream",
          "name": "stdout",
          "text": [
            "[**********************90%%*****************     ]  912 of 1015 completed"
          ]
        },
        {
          "output_type": "stream",
          "name": "stderr",
          "text": [
            "/usr/local/lib/python3.11/dist-packages/yfinance/utils.py:788: FutureWarning: The 'unit' keyword in TimedeltaIndex construction is deprecated and will be removed in a future version. Use pd.to_timedelta instead.\n",
            "  df.index += _pd.TimedeltaIndex(dst_error_hours, 'h')\n",
            "/usr/local/lib/python3.11/dist-packages/yfinance/utils.py:788: FutureWarning: The 'unit' keyword in TimedeltaIndex construction is deprecated and will be removed in a future version. Use pd.to_timedelta instead.\n",
            "  df.index += _pd.TimedeltaIndex(dst_error_hours, 'h')\n",
            "/usr/local/lib/python3.11/dist-packages/yfinance/utils.py:788: FutureWarning: The 'unit' keyword in TimedeltaIndex construction is deprecated and will be removed in a future version. Use pd.to_timedelta instead.\n",
            "  df.index += _pd.TimedeltaIndex(dst_error_hours, 'h')\n"
          ]
        },
        {
          "output_type": "stream",
          "name": "stdout",
          "text": [
            "[**********************90%%*****************     ]  915 of 1015 completed"
          ]
        },
        {
          "output_type": "stream",
          "name": "stderr",
          "text": [
            "/usr/local/lib/python3.11/dist-packages/yfinance/utils.py:788: FutureWarning: The 'unit' keyword in TimedeltaIndex construction is deprecated and will be removed in a future version. Use pd.to_timedelta instead.\n",
            "  df.index += _pd.TimedeltaIndex(dst_error_hours, 'h')\n",
            "/usr/local/lib/python3.11/dist-packages/yfinance/utils.py:788: FutureWarning: The 'unit' keyword in TimedeltaIndex construction is deprecated and will be removed in a future version. Use pd.to_timedelta instead.\n",
            "  df.index += _pd.TimedeltaIndex(dst_error_hours, 'h')\n",
            "/usr/local/lib/python3.11/dist-packages/yfinance/utils.py:788: FutureWarning: The 'unit' keyword in TimedeltaIndex construction is deprecated and will be removed in a future version. Use pd.to_timedelta instead.\n",
            "  df.index += _pd.TimedeltaIndex(dst_error_hours, 'h')\n"
          ]
        },
        {
          "output_type": "stream",
          "name": "stdout",
          "text": [
            "[**********************90%%*****************     ]  917 of 1015 completed"
          ]
        },
        {
          "output_type": "stream",
          "name": "stderr",
          "text": [
            "/usr/local/lib/python3.11/dist-packages/yfinance/utils.py:788: FutureWarning: The 'unit' keyword in TimedeltaIndex construction is deprecated and will be removed in a future version. Use pd.to_timedelta instead.\n",
            "  df.index += _pd.TimedeltaIndex(dst_error_hours, 'h')\n",
            "/usr/local/lib/python3.11/dist-packages/yfinance/utils.py:788: FutureWarning: The 'unit' keyword in TimedeltaIndex construction is deprecated and will be removed in a future version. Use pd.to_timedelta instead.\n",
            "  df.index += _pd.TimedeltaIndex(dst_error_hours, 'h')\n",
            "/usr/local/lib/python3.11/dist-packages/yfinance/utils.py:788: FutureWarning: The 'unit' keyword in TimedeltaIndex construction is deprecated and will be removed in a future version. Use pd.to_timedelta instead.\n",
            "  df.index += _pd.TimedeltaIndex(dst_error_hours, 'h')\n"
          ]
        },
        {
          "output_type": "stream",
          "name": "stdout",
          "text": [
            "[**********************91%%******************    ]  921 of 1015 completed"
          ]
        },
        {
          "output_type": "stream",
          "name": "stderr",
          "text": [
            "/usr/local/lib/python3.11/dist-packages/yfinance/utils.py:788: FutureWarning: The 'unit' keyword in TimedeltaIndex construction is deprecated and will be removed in a future version. Use pd.to_timedelta instead.\n",
            "  df.index += _pd.TimedeltaIndex(dst_error_hours, 'h')\n",
            "/usr/local/lib/python3.11/dist-packages/yfinance/utils.py:788: FutureWarning: The 'unit' keyword in TimedeltaIndex construction is deprecated and will be removed in a future version. Use pd.to_timedelta instead.\n",
            "  df.index += _pd.TimedeltaIndex(dst_error_hours, 'h')\n",
            "/usr/local/lib/python3.11/dist-packages/yfinance/utils.py:788: FutureWarning: The 'unit' keyword in TimedeltaIndex construction is deprecated and will be removed in a future version. Use pd.to_timedelta instead.\n",
            "  df.index += _pd.TimedeltaIndex(dst_error_hours, 'h')\n"
          ]
        },
        {
          "output_type": "stream",
          "name": "stdout",
          "text": [
            "[**********************91%%******************    ]  923 of 1015 completed"
          ]
        },
        {
          "output_type": "stream",
          "name": "stderr",
          "text": [
            "/usr/local/lib/python3.11/dist-packages/yfinance/utils.py:788: FutureWarning: The 'unit' keyword in TimedeltaIndex construction is deprecated and will be removed in a future version. Use pd.to_timedelta instead.\n",
            "  df.index += _pd.TimedeltaIndex(dst_error_hours, 'h')\n",
            "/usr/local/lib/python3.11/dist-packages/yfinance/utils.py:788: FutureWarning: The 'unit' keyword in TimedeltaIndex construction is deprecated and will be removed in a future version. Use pd.to_timedelta instead.\n",
            "  df.index += _pd.TimedeltaIndex(dst_error_hours, 'h')\n",
            "/usr/local/lib/python3.11/dist-packages/yfinance/utils.py:788: FutureWarning: The 'unit' keyword in TimedeltaIndex construction is deprecated and will be removed in a future version. Use pd.to_timedelta instead.\n",
            "  df.index += _pd.TimedeltaIndex(dst_error_hours, 'h')\n"
          ]
        },
        {
          "output_type": "stream",
          "name": "stdout",
          "text": [
            "[**********************91%%******************    ]  926 of 1015 completed"
          ]
        },
        {
          "output_type": "stream",
          "name": "stderr",
          "text": [
            "/usr/local/lib/python3.11/dist-packages/yfinance/utils.py:788: FutureWarning: The 'unit' keyword in TimedeltaIndex construction is deprecated and will be removed in a future version. Use pd.to_timedelta instead.\n",
            "  df.index += _pd.TimedeltaIndex(dst_error_hours, 'h')\n",
            "/usr/local/lib/python3.11/dist-packages/yfinance/utils.py:788: FutureWarning: The 'unit' keyword in TimedeltaIndex construction is deprecated and will be removed in a future version. Use pd.to_timedelta instead.\n",
            "  df.index += _pd.TimedeltaIndex(dst_error_hours, 'h')\n",
            "/usr/local/lib/python3.11/dist-packages/yfinance/utils.py:788: FutureWarning: The 'unit' keyword in TimedeltaIndex construction is deprecated and will be removed in a future version. Use pd.to_timedelta instead.\n",
            "  df.index += _pd.TimedeltaIndex(dst_error_hours, 'h')\n"
          ]
        },
        {
          "output_type": "stream",
          "name": "stdout",
          "text": [
            "[**********************92%%******************    ]  930 of 1015 completed"
          ]
        },
        {
          "output_type": "stream",
          "name": "stderr",
          "text": [
            "/usr/local/lib/python3.11/dist-packages/yfinance/utils.py:788: FutureWarning: The 'unit' keyword in TimedeltaIndex construction is deprecated and will be removed in a future version. Use pd.to_timedelta instead.\n",
            "  df.index += _pd.TimedeltaIndex(dst_error_hours, 'h')\n",
            "/usr/local/lib/python3.11/dist-packages/yfinance/utils.py:788: FutureWarning: The 'unit' keyword in TimedeltaIndex construction is deprecated and will be removed in a future version. Use pd.to_timedelta instead.\n",
            "  df.index += _pd.TimedeltaIndex(dst_error_hours, 'h')\n",
            "/usr/local/lib/python3.11/dist-packages/yfinance/utils.py:788: FutureWarning: The 'unit' keyword in TimedeltaIndex construction is deprecated and will be removed in a future version. Use pd.to_timedelta instead.\n",
            "  df.index += _pd.TimedeltaIndex(dst_error_hours, 'h')\n"
          ]
        },
        {
          "output_type": "stream",
          "name": "stdout",
          "text": [
            "[**********************92%%******************    ]  933 of 1015 completed"
          ]
        },
        {
          "output_type": "stream",
          "name": "stderr",
          "text": [
            "/usr/local/lib/python3.11/dist-packages/yfinance/utils.py:788: FutureWarning: The 'unit' keyword in TimedeltaIndex construction is deprecated and will be removed in a future version. Use pd.to_timedelta instead.\n",
            "  df.index += _pd.TimedeltaIndex(dst_error_hours, 'h')\n",
            "/usr/local/lib/python3.11/dist-packages/yfinance/utils.py:788: FutureWarning: The 'unit' keyword in TimedeltaIndex construction is deprecated and will be removed in a future version. Use pd.to_timedelta instead.\n",
            "  df.index += _pd.TimedeltaIndex(dst_error_hours, 'h')\n",
            "/usr/local/lib/python3.11/dist-packages/yfinance/utils.py:788: FutureWarning: The 'unit' keyword in TimedeltaIndex construction is deprecated and will be removed in a future version. Use pd.to_timedelta instead.\n",
            "  df.index += _pd.TimedeltaIndex(dst_error_hours, 'h')\n"
          ]
        },
        {
          "output_type": "stream",
          "name": "stdout",
          "text": [
            "\r[**********************92%%******************    ]  934 of 1015 completed"
          ]
        },
        {
          "output_type": "stream",
          "name": "stderr",
          "text": [
            "/usr/local/lib/python3.11/dist-packages/yfinance/utils.py:788: FutureWarning: The 'unit' keyword in TimedeltaIndex construction is deprecated and will be removed in a future version. Use pd.to_timedelta instead.\n",
            "  df.index += _pd.TimedeltaIndex(dst_error_hours, 'h')\n"
          ]
        },
        {
          "output_type": "stream",
          "name": "stdout",
          "text": [
            "[**********************92%%******************    ]  936 of 1015 completed"
          ]
        },
        {
          "output_type": "stream",
          "name": "stderr",
          "text": [
            "/usr/local/lib/python3.11/dist-packages/yfinance/utils.py:788: FutureWarning: The 'unit' keyword in TimedeltaIndex construction is deprecated and will be removed in a future version. Use pd.to_timedelta instead.\n",
            "  df.index += _pd.TimedeltaIndex(dst_error_hours, 'h')\n",
            "/usr/local/lib/python3.11/dist-packages/yfinance/utils.py:788: FutureWarning: The 'unit' keyword in TimedeltaIndex construction is deprecated and will be removed in a future version. Use pd.to_timedelta instead.\n",
            "  df.index += _pd.TimedeltaIndex(dst_error_hours, 'h')\n"
          ]
        },
        {
          "output_type": "stream",
          "name": "stdout",
          "text": [
            "[**********************92%%******************    ]  938 of 1015 completed"
          ]
        },
        {
          "output_type": "stream",
          "name": "stderr",
          "text": [
            "/usr/local/lib/python3.11/dist-packages/yfinance/utils.py:788: FutureWarning: The 'unit' keyword in TimedeltaIndex construction is deprecated and will be removed in a future version. Use pd.to_timedelta instead.\n",
            "  df.index += _pd.TimedeltaIndex(dst_error_hours, 'h')\n",
            "/usr/local/lib/python3.11/dist-packages/yfinance/utils.py:788: FutureWarning: The 'unit' keyword in TimedeltaIndex construction is deprecated and will be removed in a future version. Use pd.to_timedelta instead.\n",
            "  df.index += _pd.TimedeltaIndex(dst_error_hours, 'h')\n",
            "/usr/local/lib/python3.11/dist-packages/yfinance/utils.py:788: FutureWarning: The 'unit' keyword in TimedeltaIndex construction is deprecated and will be removed in a future version. Use pd.to_timedelta instead.\n",
            "  df.index += _pd.TimedeltaIndex(dst_error_hours, 'h')\n"
          ]
        },
        {
          "output_type": "stream",
          "name": "stdout",
          "text": [
            "[**********************93%%*******************   ]  941 of 1015 completed"
          ]
        },
        {
          "output_type": "stream",
          "name": "stderr",
          "text": [
            "/usr/local/lib/python3.11/dist-packages/yfinance/utils.py:788: FutureWarning: The 'unit' keyword in TimedeltaIndex construction is deprecated and will be removed in a future version. Use pd.to_timedelta instead.\n",
            "  df.index += _pd.TimedeltaIndex(dst_error_hours, 'h')\n",
            "/usr/local/lib/python3.11/dist-packages/yfinance/utils.py:788: FutureWarning: The 'unit' keyword in TimedeltaIndex construction is deprecated and will be removed in a future version. Use pd.to_timedelta instead.\n",
            "  df.index += _pd.TimedeltaIndex(dst_error_hours, 'h')\n",
            "/usr/local/lib/python3.11/dist-packages/yfinance/utils.py:788: FutureWarning: The 'unit' keyword in TimedeltaIndex construction is deprecated and will be removed in a future version. Use pd.to_timedelta instead.\n",
            "  df.index += _pd.TimedeltaIndex(dst_error_hours, 'h')\n"
          ]
        },
        {
          "output_type": "stream",
          "name": "stdout",
          "text": [
            "[**********************93%%*******************   ]  944 of 1015 completed"
          ]
        },
        {
          "output_type": "stream",
          "name": "stderr",
          "text": [
            "/usr/local/lib/python3.11/dist-packages/yfinance/utils.py:788: FutureWarning: The 'unit' keyword in TimedeltaIndex construction is deprecated and will be removed in a future version. Use pd.to_timedelta instead.\n",
            "  df.index += _pd.TimedeltaIndex(dst_error_hours, 'h')\n",
            "/usr/local/lib/python3.11/dist-packages/yfinance/utils.py:788: FutureWarning: The 'unit' keyword in TimedeltaIndex construction is deprecated and will be removed in a future version. Use pd.to_timedelta instead.\n",
            "  df.index += _pd.TimedeltaIndex(dst_error_hours, 'h')\n"
          ]
        },
        {
          "output_type": "stream",
          "name": "stdout",
          "text": [
            "[**********************93%%*******************   ]  947 of 1015 completed"
          ]
        },
        {
          "output_type": "stream",
          "name": "stderr",
          "text": [
            "/usr/local/lib/python3.11/dist-packages/yfinance/utils.py:788: FutureWarning: The 'unit' keyword in TimedeltaIndex construction is deprecated and will be removed in a future version. Use pd.to_timedelta instead.\n",
            "  df.index += _pd.TimedeltaIndex(dst_error_hours, 'h')\n",
            "/usr/local/lib/python3.11/dist-packages/yfinance/utils.py:788: FutureWarning: The 'unit' keyword in TimedeltaIndex construction is deprecated and will be removed in a future version. Use pd.to_timedelta instead.\n",
            "  df.index += _pd.TimedeltaIndex(dst_error_hours, 'h')\n",
            "/usr/local/lib/python3.11/dist-packages/yfinance/utils.py:788: FutureWarning: The 'unit' keyword in TimedeltaIndex construction is deprecated and will be removed in a future version. Use pd.to_timedelta instead.\n",
            "  df.index += _pd.TimedeltaIndex(dst_error_hours, 'h')\n"
          ]
        },
        {
          "output_type": "stream",
          "name": "stdout",
          "text": [
            "[**********************94%%*******************   ]  950 of 1015 completed"
          ]
        },
        {
          "output_type": "stream",
          "name": "stderr",
          "text": [
            "/usr/local/lib/python3.11/dist-packages/yfinance/utils.py:788: FutureWarning: The 'unit' keyword in TimedeltaIndex construction is deprecated and will be removed in a future version. Use pd.to_timedelta instead.\n",
            "  df.index += _pd.TimedeltaIndex(dst_error_hours, 'h')\n",
            "/usr/local/lib/python3.11/dist-packages/yfinance/utils.py:788: FutureWarning: The 'unit' keyword in TimedeltaIndex construction is deprecated and will be removed in a future version. Use pd.to_timedelta instead.\n",
            "  df.index += _pd.TimedeltaIndex(dst_error_hours, 'h')\n",
            "/usr/local/lib/python3.11/dist-packages/yfinance/utils.py:788: FutureWarning: The 'unit' keyword in TimedeltaIndex construction is deprecated and will be removed in a future version. Use pd.to_timedelta instead.\n",
            "  df.index += _pd.TimedeltaIndex(dst_error_hours, 'h')\n"
          ]
        },
        {
          "output_type": "stream",
          "name": "stdout",
          "text": [
            "[**********************94%%*******************   ]  953 of 1015 completed"
          ]
        },
        {
          "output_type": "stream",
          "name": "stderr",
          "text": [
            "/usr/local/lib/python3.11/dist-packages/yfinance/utils.py:788: FutureWarning: The 'unit' keyword in TimedeltaIndex construction is deprecated and will be removed in a future version. Use pd.to_timedelta instead.\n",
            "  df.index += _pd.TimedeltaIndex(dst_error_hours, 'h')\n",
            "/usr/local/lib/python3.11/dist-packages/yfinance/utils.py:788: FutureWarning: The 'unit' keyword in TimedeltaIndex construction is deprecated and will be removed in a future version. Use pd.to_timedelta instead.\n",
            "  df.index += _pd.TimedeltaIndex(dst_error_hours, 'h')\n",
            "/usr/local/lib/python3.11/dist-packages/yfinance/utils.py:788: FutureWarning: The 'unit' keyword in TimedeltaIndex construction is deprecated and will be removed in a future version. Use pd.to_timedelta instead.\n",
            "  df.index += _pd.TimedeltaIndex(dst_error_hours, 'h')\n"
          ]
        },
        {
          "output_type": "stream",
          "name": "stdout",
          "text": [
            "[**********************94%%*******************   ]  956 of 1015 completed"
          ]
        },
        {
          "output_type": "stream",
          "name": "stderr",
          "text": [
            "/usr/local/lib/python3.11/dist-packages/yfinance/utils.py:788: FutureWarning: The 'unit' keyword in TimedeltaIndex construction is deprecated and will be removed in a future version. Use pd.to_timedelta instead.\n",
            "  df.index += _pd.TimedeltaIndex(dst_error_hours, 'h')\n",
            "/usr/local/lib/python3.11/dist-packages/yfinance/utils.py:788: FutureWarning: The 'unit' keyword in TimedeltaIndex construction is deprecated and will be removed in a future version. Use pd.to_timedelta instead.\n",
            "  df.index += _pd.TimedeltaIndex(dst_error_hours, 'h')\n",
            "/usr/local/lib/python3.11/dist-packages/yfinance/utils.py:788: FutureWarning: The 'unit' keyword in TimedeltaIndex construction is deprecated and will be removed in a future version. Use pd.to_timedelta instead.\n",
            "  df.index += _pd.TimedeltaIndex(dst_error_hours, 'h')\n"
          ]
        },
        {
          "output_type": "stream",
          "name": "stdout",
          "text": [
            "[**********************94%%*******************   ]  959 of 1015 completed"
          ]
        },
        {
          "output_type": "stream",
          "name": "stderr",
          "text": [
            "/usr/local/lib/python3.11/dist-packages/yfinance/utils.py:788: FutureWarning: The 'unit' keyword in TimedeltaIndex construction is deprecated and will be removed in a future version. Use pd.to_timedelta instead.\n",
            "  df.index += _pd.TimedeltaIndex(dst_error_hours, 'h')\n",
            "/usr/local/lib/python3.11/dist-packages/yfinance/utils.py:788: FutureWarning: The 'unit' keyword in TimedeltaIndex construction is deprecated and will be removed in a future version. Use pd.to_timedelta instead.\n",
            "  df.index += _pd.TimedeltaIndex(dst_error_hours, 'h')\n",
            "/usr/local/lib/python3.11/dist-packages/yfinance/utils.py:788: FutureWarning: The 'unit' keyword in TimedeltaIndex construction is deprecated and will be removed in a future version. Use pd.to_timedelta instead.\n",
            "  df.index += _pd.TimedeltaIndex(dst_error_hours, 'h')\n"
          ]
        },
        {
          "output_type": "stream",
          "name": "stdout",
          "text": [
            "[**********************95%%********************  ]  960 of 1015 completed"
          ]
        },
        {
          "output_type": "stream",
          "name": "stderr",
          "text": [
            "/usr/local/lib/python3.11/dist-packages/yfinance/utils.py:788: FutureWarning: The 'unit' keyword in TimedeltaIndex construction is deprecated and will be removed in a future version. Use pd.to_timedelta instead.\n",
            "  df.index += _pd.TimedeltaIndex(dst_error_hours, 'h')\n",
            "/usr/local/lib/python3.11/dist-packages/yfinance/utils.py:788: FutureWarning: The 'unit' keyword in TimedeltaIndex construction is deprecated and will be removed in a future version. Use pd.to_timedelta instead.\n",
            "  df.index += _pd.TimedeltaIndex(dst_error_hours, 'h')\n",
            "/usr/local/lib/python3.11/dist-packages/yfinance/utils.py:788: FutureWarning: The 'unit' keyword in TimedeltaIndex construction is deprecated and will be removed in a future version. Use pd.to_timedelta instead.\n",
            "  df.index += _pd.TimedeltaIndex(dst_error_hours, 'h')\n"
          ]
        },
        {
          "output_type": "stream",
          "name": "stdout",
          "text": [
            "[**********************95%%********************  ]  964 of 1015 completed"
          ]
        },
        {
          "output_type": "stream",
          "name": "stderr",
          "text": [
            "/usr/local/lib/python3.11/dist-packages/yfinance/utils.py:788: FutureWarning: The 'unit' keyword in TimedeltaIndex construction is deprecated and will be removed in a future version. Use pd.to_timedelta instead.\n",
            "  df.index += _pd.TimedeltaIndex(dst_error_hours, 'h')\n",
            "/usr/local/lib/python3.11/dist-packages/yfinance/utils.py:788: FutureWarning: The 'unit' keyword in TimedeltaIndex construction is deprecated and will be removed in a future version. Use pd.to_timedelta instead.\n",
            "  df.index += _pd.TimedeltaIndex(dst_error_hours, 'h')\n"
          ]
        },
        {
          "output_type": "stream",
          "name": "stdout",
          "text": [
            "[**********************95%%********************  ]  966 of 1015 completed"
          ]
        },
        {
          "output_type": "stream",
          "name": "stderr",
          "text": [
            "/usr/local/lib/python3.11/dist-packages/yfinance/utils.py:788: FutureWarning: The 'unit' keyword in TimedeltaIndex construction is deprecated and will be removed in a future version. Use pd.to_timedelta instead.\n",
            "  df.index += _pd.TimedeltaIndex(dst_error_hours, 'h')\n",
            "/usr/local/lib/python3.11/dist-packages/yfinance/utils.py:788: FutureWarning: The 'unit' keyword in TimedeltaIndex construction is deprecated and will be removed in a future version. Use pd.to_timedelta instead.\n",
            "  df.index += _pd.TimedeltaIndex(dst_error_hours, 'h')\n"
          ]
        },
        {
          "output_type": "stream",
          "name": "stdout",
          "text": [
            "[**********************95%%********************  ]  967 of 1015 completed"
          ]
        },
        {
          "output_type": "stream",
          "name": "stderr",
          "text": [
            "/usr/local/lib/python3.11/dist-packages/yfinance/utils.py:788: FutureWarning: The 'unit' keyword in TimedeltaIndex construction is deprecated and will be removed in a future version. Use pd.to_timedelta instead.\n",
            "  df.index += _pd.TimedeltaIndex(dst_error_hours, 'h')\n",
            "/usr/local/lib/python3.11/dist-packages/yfinance/utils.py:788: FutureWarning: The 'unit' keyword in TimedeltaIndex construction is deprecated and will be removed in a future version. Use pd.to_timedelta instead.\n",
            "  df.index += _pd.TimedeltaIndex(dst_error_hours, 'h')\n"
          ]
        },
        {
          "output_type": "stream",
          "name": "stdout",
          "text": [
            "[**********************96%%********************  ]  971 of 1015 completed"
          ]
        },
        {
          "output_type": "stream",
          "name": "stderr",
          "text": [
            "/usr/local/lib/python3.11/dist-packages/yfinance/utils.py:788: FutureWarning: The 'unit' keyword in TimedeltaIndex construction is deprecated and will be removed in a future version. Use pd.to_timedelta instead.\n",
            "  df.index += _pd.TimedeltaIndex(dst_error_hours, 'h')\n",
            "/usr/local/lib/python3.11/dist-packages/yfinance/utils.py:788: FutureWarning: The 'unit' keyword in TimedeltaIndex construction is deprecated and will be removed in a future version. Use pd.to_timedelta instead.\n",
            "  df.index += _pd.TimedeltaIndex(dst_error_hours, 'h')\n",
            "/usr/local/lib/python3.11/dist-packages/yfinance/utils.py:788: FutureWarning: The 'unit' keyword in TimedeltaIndex construction is deprecated and will be removed in a future version. Use pd.to_timedelta instead.\n",
            "  df.index += _pd.TimedeltaIndex(dst_error_hours, 'h')\n"
          ]
        },
        {
          "output_type": "stream",
          "name": "stdout",
          "text": [
            "[**********************96%%********************  ]  973 of 1015 completed"
          ]
        },
        {
          "output_type": "stream",
          "name": "stderr",
          "text": [
            "/usr/local/lib/python3.11/dist-packages/yfinance/utils.py:788: FutureWarning: The 'unit' keyword in TimedeltaIndex construction is deprecated and will be removed in a future version. Use pd.to_timedelta instead.\n",
            "  df.index += _pd.TimedeltaIndex(dst_error_hours, 'h')\n",
            "/usr/local/lib/python3.11/dist-packages/yfinance/utils.py:788: FutureWarning: The 'unit' keyword in TimedeltaIndex construction is deprecated and will be removed in a future version. Use pd.to_timedelta instead.\n",
            "  df.index += _pd.TimedeltaIndex(dst_error_hours, 'h')\n",
            "/usr/local/lib/python3.11/dist-packages/yfinance/utils.py:788: FutureWarning: The 'unit' keyword in TimedeltaIndex construction is deprecated and will be removed in a future version. Use pd.to_timedelta instead.\n",
            "  df.index += _pd.TimedeltaIndex(dst_error_hours, 'h')\n"
          ]
        },
        {
          "output_type": "stream",
          "name": "stdout",
          "text": [
            "[**********************96%%********************  ]  976 of 1015 completed"
          ]
        },
        {
          "output_type": "stream",
          "name": "stderr",
          "text": [
            "/usr/local/lib/python3.11/dist-packages/yfinance/utils.py:788: FutureWarning: The 'unit' keyword in TimedeltaIndex construction is deprecated and will be removed in a future version. Use pd.to_timedelta instead.\n",
            "  df.index += _pd.TimedeltaIndex(dst_error_hours, 'h')\n",
            "/usr/local/lib/python3.11/dist-packages/yfinance/utils.py:788: FutureWarning: The 'unit' keyword in TimedeltaIndex construction is deprecated and will be removed in a future version. Use pd.to_timedelta instead.\n",
            "  df.index += _pd.TimedeltaIndex(dst_error_hours, 'h')\n",
            "/usr/local/lib/python3.11/dist-packages/yfinance/utils.py:788: FutureWarning: The 'unit' keyword in TimedeltaIndex construction is deprecated and will be removed in a future version. Use pd.to_timedelta instead.\n",
            "  df.index += _pd.TimedeltaIndex(dst_error_hours, 'h')\n"
          ]
        },
        {
          "output_type": "stream",
          "name": "stdout",
          "text": [
            "[**********************97%%********************* ]  980 of 1015 completed"
          ]
        },
        {
          "output_type": "stream",
          "name": "stderr",
          "text": [
            "/usr/local/lib/python3.11/dist-packages/yfinance/utils.py:788: FutureWarning: The 'unit' keyword in TimedeltaIndex construction is deprecated and will be removed in a future version. Use pd.to_timedelta instead.\n",
            "  df.index += _pd.TimedeltaIndex(dst_error_hours, 'h')\n",
            "/usr/local/lib/python3.11/dist-packages/yfinance/utils.py:788: FutureWarning: The 'unit' keyword in TimedeltaIndex construction is deprecated and will be removed in a future version. Use pd.to_timedelta instead.\n",
            "  df.index += _pd.TimedeltaIndex(dst_error_hours, 'h')\n",
            "/usr/local/lib/python3.11/dist-packages/yfinance/utils.py:788: FutureWarning: The 'unit' keyword in TimedeltaIndex construction is deprecated and will be removed in a future version. Use pd.to_timedelta instead.\n",
            "  df.index += _pd.TimedeltaIndex(dst_error_hours, 'h')\n"
          ]
        },
        {
          "output_type": "stream",
          "name": "stdout",
          "text": [
            "[**********************97%%********************* ]  982 of 1015 completed"
          ]
        },
        {
          "output_type": "stream",
          "name": "stderr",
          "text": [
            "/usr/local/lib/python3.11/dist-packages/yfinance/utils.py:788: FutureWarning: The 'unit' keyword in TimedeltaIndex construction is deprecated and will be removed in a future version. Use pd.to_timedelta instead.\n",
            "  df.index += _pd.TimedeltaIndex(dst_error_hours, 'h')\n",
            "/usr/local/lib/python3.11/dist-packages/yfinance/utils.py:788: FutureWarning: The 'unit' keyword in TimedeltaIndex construction is deprecated and will be removed in a future version. Use pd.to_timedelta instead.\n",
            "  df.index += _pd.TimedeltaIndex(dst_error_hours, 'h')\n",
            "/usr/local/lib/python3.11/dist-packages/yfinance/utils.py:788: FutureWarning: The 'unit' keyword in TimedeltaIndex construction is deprecated and will be removed in a future version. Use pd.to_timedelta instead.\n",
            "  df.index += _pd.TimedeltaIndex(dst_error_hours, 'h')\n"
          ]
        },
        {
          "output_type": "stream",
          "name": "stdout",
          "text": [
            "[**********************97%%********************* ]  986 of 1015 completed"
          ]
        },
        {
          "output_type": "stream",
          "name": "stderr",
          "text": [
            "/usr/local/lib/python3.11/dist-packages/yfinance/utils.py:788: FutureWarning: The 'unit' keyword in TimedeltaIndex construction is deprecated and will be removed in a future version. Use pd.to_timedelta instead.\n",
            "  df.index += _pd.TimedeltaIndex(dst_error_hours, 'h')\n",
            "/usr/local/lib/python3.11/dist-packages/yfinance/utils.py:788: FutureWarning: The 'unit' keyword in TimedeltaIndex construction is deprecated and will be removed in a future version. Use pd.to_timedelta instead.\n",
            "  df.index += _pd.TimedeltaIndex(dst_error_hours, 'h')\n",
            "/usr/local/lib/python3.11/dist-packages/yfinance/utils.py:788: FutureWarning: The 'unit' keyword in TimedeltaIndex construction is deprecated and will be removed in a future version. Use pd.to_timedelta instead.\n",
            "  df.index += _pd.TimedeltaIndex(dst_error_hours, 'h')\n"
          ]
        },
        {
          "output_type": "stream",
          "name": "stdout",
          "text": [
            "[**********************97%%********************* ]  989 of 1015 completed"
          ]
        },
        {
          "output_type": "stream",
          "name": "stderr",
          "text": [
            "/usr/local/lib/python3.11/dist-packages/yfinance/utils.py:788: FutureWarning: The 'unit' keyword in TimedeltaIndex construction is deprecated and will be removed in a future version. Use pd.to_timedelta instead.\n",
            "  df.index += _pd.TimedeltaIndex(dst_error_hours, 'h')\n",
            "/usr/local/lib/python3.11/dist-packages/yfinance/utils.py:788: FutureWarning: The 'unit' keyword in TimedeltaIndex construction is deprecated and will be removed in a future version. Use pd.to_timedelta instead.\n",
            "  df.index += _pd.TimedeltaIndex(dst_error_hours, 'h')\n",
            "/usr/local/lib/python3.11/dist-packages/yfinance/utils.py:788: FutureWarning: The 'unit' keyword in TimedeltaIndex construction is deprecated and will be removed in a future version. Use pd.to_timedelta instead.\n",
            "  df.index += _pd.TimedeltaIndex(dst_error_hours, 'h')\n"
          ]
        },
        {
          "output_type": "stream",
          "name": "stdout",
          "text": [
            "[**********************98%%********************* ]  991 of 1015 completed"
          ]
        },
        {
          "output_type": "stream",
          "name": "stderr",
          "text": [
            "/usr/local/lib/python3.11/dist-packages/yfinance/utils.py:788: FutureWarning: The 'unit' keyword in TimedeltaIndex construction is deprecated and will be removed in a future version. Use pd.to_timedelta instead.\n",
            "  df.index += _pd.TimedeltaIndex(dst_error_hours, 'h')\n",
            "/usr/local/lib/python3.11/dist-packages/yfinance/utils.py:788: FutureWarning: The 'unit' keyword in TimedeltaIndex construction is deprecated and will be removed in a future version. Use pd.to_timedelta instead.\n",
            "  df.index += _pd.TimedeltaIndex(dst_error_hours, 'h')\n"
          ]
        },
        {
          "output_type": "stream",
          "name": "stdout",
          "text": [
            "[**********************98%%********************* ]  994 of 1015 completed"
          ]
        },
        {
          "output_type": "stream",
          "name": "stderr",
          "text": [
            "/usr/local/lib/python3.11/dist-packages/yfinance/utils.py:788: FutureWarning: The 'unit' keyword in TimedeltaIndex construction is deprecated and will be removed in a future version. Use pd.to_timedelta instead.\n",
            "  df.index += _pd.TimedeltaIndex(dst_error_hours, 'h')\n",
            "/usr/local/lib/python3.11/dist-packages/yfinance/utils.py:788: FutureWarning: The 'unit' keyword in TimedeltaIndex construction is deprecated and will be removed in a future version. Use pd.to_timedelta instead.\n",
            "  df.index += _pd.TimedeltaIndex(dst_error_hours, 'h')\n",
            "/usr/local/lib/python3.11/dist-packages/yfinance/utils.py:788: FutureWarning: The 'unit' keyword in TimedeltaIndex construction is deprecated and will be removed in a future version. Use pd.to_timedelta instead.\n",
            "  df.index += _pd.TimedeltaIndex(dst_error_hours, 'h')\n"
          ]
        },
        {
          "output_type": "stream",
          "name": "stdout",
          "text": [
            "\r[**********************98%%********************* ]  995 of 1015 completed"
          ]
        },
        {
          "output_type": "stream",
          "name": "stderr",
          "text": [
            "/usr/local/lib/python3.11/dist-packages/yfinance/utils.py:788: FutureWarning: The 'unit' keyword in TimedeltaIndex construction is deprecated and will be removed in a future version. Use pd.to_timedelta instead.\n",
            "  df.index += _pd.TimedeltaIndex(dst_error_hours, 'h')\n",
            "/usr/local/lib/python3.11/dist-packages/yfinance/utils.py:788: FutureWarning: The 'unit' keyword in TimedeltaIndex construction is deprecated and will be removed in a future version. Use pd.to_timedelta instead.\n",
            "  df.index += _pd.TimedeltaIndex(dst_error_hours, 'h')\n"
          ]
        },
        {
          "output_type": "stream",
          "name": "stdout",
          "text": [
            "[**********************98%%********************* ]  997 of 1015 completed"
          ]
        },
        {
          "output_type": "stream",
          "name": "stderr",
          "text": [
            "/usr/local/lib/python3.11/dist-packages/yfinance/utils.py:788: FutureWarning: The 'unit' keyword in TimedeltaIndex construction is deprecated and will be removed in a future version. Use pd.to_timedelta instead.\n",
            "  df.index += _pd.TimedeltaIndex(dst_error_hours, 'h')\n",
            "/usr/local/lib/python3.11/dist-packages/yfinance/utils.py:788: FutureWarning: The 'unit' keyword in TimedeltaIndex construction is deprecated and will be removed in a future version. Use pd.to_timedelta instead.\n",
            "  df.index += _pd.TimedeltaIndex(dst_error_hours, 'h')\n"
          ]
        },
        {
          "output_type": "stream",
          "name": "stdout",
          "text": [
            "[**********************99%%**********************]  1000 of 1015 completed"
          ]
        },
        {
          "output_type": "stream",
          "name": "stderr",
          "text": [
            "/usr/local/lib/python3.11/dist-packages/yfinance/utils.py:788: FutureWarning: The 'unit' keyword in TimedeltaIndex construction is deprecated and will be removed in a future version. Use pd.to_timedelta instead.\n",
            "  df.index += _pd.TimedeltaIndex(dst_error_hours, 'h')\n",
            "/usr/local/lib/python3.11/dist-packages/yfinance/utils.py:788: FutureWarning: The 'unit' keyword in TimedeltaIndex construction is deprecated and will be removed in a future version. Use pd.to_timedelta instead.\n",
            "  df.index += _pd.TimedeltaIndex(dst_error_hours, 'h')\n",
            "/usr/local/lib/python3.11/dist-packages/yfinance/utils.py:788: FutureWarning: The 'unit' keyword in TimedeltaIndex construction is deprecated and will be removed in a future version. Use pd.to_timedelta instead.\n",
            "  df.index += _pd.TimedeltaIndex(dst_error_hours, 'h')\n"
          ]
        },
        {
          "output_type": "stream",
          "name": "stdout",
          "text": [
            "[**********************99%%**********************]  1004 of 1015 completed"
          ]
        },
        {
          "output_type": "stream",
          "name": "stderr",
          "text": [
            "/usr/local/lib/python3.11/dist-packages/yfinance/utils.py:788: FutureWarning: The 'unit' keyword in TimedeltaIndex construction is deprecated and will be removed in a future version. Use pd.to_timedelta instead.\n",
            "  df.index += _pd.TimedeltaIndex(dst_error_hours, 'h')\n",
            "/usr/local/lib/python3.11/dist-packages/yfinance/utils.py:788: FutureWarning: The 'unit' keyword in TimedeltaIndex construction is deprecated and will be removed in a future version. Use pd.to_timedelta instead.\n",
            "  df.index += _pd.TimedeltaIndex(dst_error_hours, 'h')\n",
            "/usr/local/lib/python3.11/dist-packages/yfinance/utils.py:788: FutureWarning: The 'unit' keyword in TimedeltaIndex construction is deprecated and will be removed in a future version. Use pd.to_timedelta instead.\n",
            "  df.index += _pd.TimedeltaIndex(dst_error_hours, 'h')\n"
          ]
        },
        {
          "output_type": "stream",
          "name": "stdout",
          "text": [
            "[**********************99%%**********************]  1006 of 1015 completed"
          ]
        },
        {
          "output_type": "stream",
          "name": "stderr",
          "text": [
            "/usr/local/lib/python3.11/dist-packages/yfinance/utils.py:788: FutureWarning: The 'unit' keyword in TimedeltaIndex construction is deprecated and will be removed in a future version. Use pd.to_timedelta instead.\n",
            "  df.index += _pd.TimedeltaIndex(dst_error_hours, 'h')\n",
            "/usr/local/lib/python3.11/dist-packages/yfinance/utils.py:788: FutureWarning: The 'unit' keyword in TimedeltaIndex construction is deprecated and will be removed in a future version. Use pd.to_timedelta instead.\n",
            "  df.index += _pd.TimedeltaIndex(dst_error_hours, 'h')\n",
            "/usr/local/lib/python3.11/dist-packages/yfinance/utils.py:788: FutureWarning: The 'unit' keyword in TimedeltaIndex construction is deprecated and will be removed in a future version. Use pd.to_timedelta instead.\n",
            "  df.index += _pd.TimedeltaIndex(dst_error_hours, 'h')\n"
          ]
        },
        {
          "output_type": "stream",
          "name": "stdout",
          "text": [
            "[**********************99%%**********************]  1008 of 1015 completed"
          ]
        },
        {
          "output_type": "stream",
          "name": "stderr",
          "text": [
            "/usr/local/lib/python3.11/dist-packages/yfinance/utils.py:788: FutureWarning: The 'unit' keyword in TimedeltaIndex construction is deprecated and will be removed in a future version. Use pd.to_timedelta instead.\n",
            "  df.index += _pd.TimedeltaIndex(dst_error_hours, 'h')\n",
            "/usr/local/lib/python3.11/dist-packages/yfinance/utils.py:788: FutureWarning: The 'unit' keyword in TimedeltaIndex construction is deprecated and will be removed in a future version. Use pd.to_timedelta instead.\n",
            "  df.index += _pd.TimedeltaIndex(dst_error_hours, 'h')\n"
          ]
        },
        {
          "output_type": "stream",
          "name": "stdout",
          "text": [
            "[*********************100%%**********************]  1011 of 1015 completed"
          ]
        },
        {
          "output_type": "stream",
          "name": "stderr",
          "text": [
            "/usr/local/lib/python3.11/dist-packages/yfinance/utils.py:788: FutureWarning: The 'unit' keyword in TimedeltaIndex construction is deprecated and will be removed in a future version. Use pd.to_timedelta instead.\n",
            "  df.index += _pd.TimedeltaIndex(dst_error_hours, 'h')\n",
            "/usr/local/lib/python3.11/dist-packages/yfinance/utils.py:788: FutureWarning: The 'unit' keyword in TimedeltaIndex construction is deprecated and will be removed in a future version. Use pd.to_timedelta instead.\n",
            "  df.index += _pd.TimedeltaIndex(dst_error_hours, 'h')\n",
            "/usr/local/lib/python3.11/dist-packages/yfinance/utils.py:788: FutureWarning: The 'unit' keyword in TimedeltaIndex construction is deprecated and will be removed in a future version. Use pd.to_timedelta instead.\n",
            "  df.index += _pd.TimedeltaIndex(dst_error_hours, 'h')\n"
          ]
        },
        {
          "output_type": "stream",
          "name": "stdout",
          "text": [
            "[*********************100%%**********************]  1013 of 1015 completed"
          ]
        },
        {
          "output_type": "stream",
          "name": "stderr",
          "text": [
            "/usr/local/lib/python3.11/dist-packages/yfinance/utils.py:788: FutureWarning: The 'unit' keyword in TimedeltaIndex construction is deprecated and will be removed in a future version. Use pd.to_timedelta instead.\n",
            "  df.index += _pd.TimedeltaIndex(dst_error_hours, 'h')\n",
            "/usr/local/lib/python3.11/dist-packages/yfinance/utils.py:788: FutureWarning: The 'unit' keyword in TimedeltaIndex construction is deprecated and will be removed in a future version. Use pd.to_timedelta instead.\n",
            "  df.index += _pd.TimedeltaIndex(dst_error_hours, 'h')\n"
          ]
        },
        {
          "output_type": "stream",
          "name": "stdout",
          "text": [
            "[*********************100%%**********************]  1015 of 1015 completed"
          ]
        },
        {
          "output_type": "stream",
          "name": "stderr",
          "text": [
            "ERROR:yfinance:\n",
            "2 Failed downloads:\n",
            "ERROR:yfinance:['1609.TW', '2439.TW']: Exception('%ticker%: No timezone found, symbol may be delisted')\n"
          ]
        },
        {
          "output_type": "stream",
          "name": "stdout",
          "text": [
            "\n",
            "更新日本益比、融資融卷、三大法人資料\n",
            "完成更新: 20150105\n",
            "完成更新: 20150106\n",
            "完成更新: 20150107\n",
            "完成更新: 20150108\n",
            "完成更新: 20150109\n",
            "完成更新: 20150112\n",
            "完成更新: 20150113\n",
            "完成更新: 20150114\n",
            "完成更新: 20150115\n",
            "完成更新: 20150116\n",
            "完成更新: 20150119\n",
            "完成更新: 20150120\n",
            "完成更新: 20150121\n",
            "完成更新: 20150122\n",
            "完成更新: 20150123\n",
            "完成更新: 20150126\n",
            "完成更新: 20150127\n",
            "完成更新: 20150128\n",
            "完成更新: 20150129\n",
            "完成更新: 20150130\n",
            "完成更新: 20150202\n",
            "完成更新: 20150203\n",
            "完成更新: 20150204\n",
            "Error during merging dataframes: cannot access local variable 'df2' where it is not associated with a value\n",
            "完成更新: 20150205\n",
            "完成更新: 20150206\n",
            "完成更新: 20150209\n",
            "完成更新: 20150210\n",
            "完成更新: 20150211\n",
            "完成更新: 20150212\n",
            "完成更新: 20150213\n",
            "完成更新: 20150224\n",
            "完成更新: 20150225\n",
            "完成更新: 20150226\n",
            "完成更新: 20150302\n",
            "完成更新: 20150303\n",
            "完成更新: 20150304\n",
            "完成更新: 20150305\n",
            "完成更新: 20150306\n",
            "完成更新: 20150309\n",
            "完成更新: 20150310\n",
            "完成更新: 20150311\n",
            "完成更新: 20150312\n",
            "完成更新: 20150313\n",
            "完成更新: 20150316\n",
            "完成更新: 20150317\n",
            "完成更新: 20150318\n",
            "完成更新: 20150319\n",
            "完成更新: 20150320\n",
            "完成更新: 20150323\n",
            "完成更新: 20150324\n",
            "完成更新: 20150325\n",
            "完成更新: 20150326\n",
            "完成更新: 20150327\n",
            "完成更新: 20150330\n",
            "完成更新: 20150331\n",
            "完成更新: 20150401\n",
            "完成更新: 20150402\n",
            "完成更新: 20150407\n",
            "完成更新: 20150408\n",
            "完成更新: 20150409\n",
            "完成更新: 20150410\n",
            "完成更新: 20150413\n",
            "完成更新: 20150414\n",
            "完成更新: 20150415\n",
            "完成更新: 20150416\n",
            "完成更新: 20150417\n",
            "完成更新: 20150420\n",
            "完成更新: 20150421\n",
            "完成更新: 20150422\n",
            "完成更新: 20150423\n",
            "完成更新: 20150424\n",
            "完成更新: 20150427\n",
            "完成更新: 20150428\n",
            "完成更新: 20150429\n",
            "完成更新: 20150430\n",
            "完成更新: 20150504\n",
            "完成更新: 20150505\n",
            "完成更新: 20150506\n",
            "完成更新: 20150507\n",
            "完成更新: 20150508\n",
            "完成更新: 20150511\n",
            "完成更新: 20150512\n",
            "完成更新: 20150513\n",
            "完成更新: 20150514\n",
            "完成更新: 20150515\n",
            "完成更新: 20150518\n",
            "完成更新: 20150519\n",
            "完成更新: 20150520\n",
            "完成更新: 20150521\n",
            "完成更新: 20150522\n",
            "完成更新: 20150525\n",
            "完成更新: 20150526\n",
            "完成更新: 20150527\n",
            "完成更新: 20150528\n",
            "完成更新: 20150529\n",
            "完成更新: 20150601\n",
            "完成更新: 20150602\n",
            "完成更新: 20150603\n",
            "完成更新: 20150604\n",
            "完成更新: 20150605\n",
            "完成更新: 20150608\n",
            "完成更新: 20150609\n",
            "完成更新: 20150610\n",
            "完成更新: 20150611\n",
            "完成更新: 20150612\n",
            "完成更新: 20150615\n",
            "完成更新: 20150616\n",
            "完成更新: 20150617\n",
            "完成更新: 20150618\n",
            "完成更新: 20150622\n",
            "完成更新: 20150623\n",
            "完成更新: 20150624\n",
            "完成更新: 20150625\n",
            "完成更新: 20150626\n",
            "完成更新: 20150629\n",
            "完成更新: 20150630\n",
            "完成更新: 20150701\n",
            "完成更新: 20150702\n",
            "完成更新: 20150703\n",
            "完成更新: 20150706\n",
            "完成更新: 20150707\n",
            "完成更新: 20150708\n",
            "完成更新: 20150709\n",
            "完成更新: 20150710\n",
            "Error during merging dataframes: cannot access local variable 'df1' where it is not associated with a value\n",
            "完成更新: 20150713\n",
            "完成更新: 20150714\n",
            "完成更新: 20150715\n",
            "完成更新: 20150716\n",
            "完成更新: 20150717\n",
            "完成更新: 20150720\n",
            "完成更新: 20150721\n",
            "完成更新: 20150722\n",
            "完成更新: 20150723\n",
            "完成更新: 20150724\n",
            "完成更新: 20150727\n",
            "完成更新: 20150728\n",
            "完成更新: 20150729\n",
            "完成更新: 20150730\n",
            "完成更新: 20150731\n",
            "完成更新: 20150803\n",
            "完成更新: 20150804\n",
            "完成更新: 20150805\n",
            "完成更新: 20150806\n",
            "完成更新: 20150807\n",
            "完成更新: 20150810\n",
            "完成更新: 20150811\n",
            "完成更新: 20150812\n",
            "完成更新: 20150813\n",
            "完成更新: 20150814\n",
            "完成更新: 20150817\n",
            "完成更新: 20150818\n",
            "完成更新: 20150819\n",
            "完成更新: 20150820\n",
            "完成更新: 20150821\n",
            "完成更新: 20150824\n",
            "完成更新: 20150825\n",
            "完成更新: 20150826\n",
            "完成更新: 20150827\n",
            "完成更新: 20150828\n",
            "完成更新: 20150831\n",
            "完成更新: 20150901\n",
            "完成更新: 20150902\n",
            "完成更新: 20150903\n",
            "完成更新: 20150904\n",
            "完成更新: 20150907\n",
            "完成更新: 20150908\n",
            "完成更新: 20150909\n",
            "完成更新: 20150910\n",
            "完成更新: 20150911\n",
            "完成更新: 20150914\n",
            "完成更新: 20150915\n",
            "完成更新: 20150916\n",
            "完成更新: 20150917\n",
            "完成更新: 20150918\n",
            "完成更新: 20150921\n",
            "完成更新: 20150922\n",
            "完成更新: 20150923\n",
            "完成更新: 20150924\n",
            "完成更新: 20150925\n",
            "完成更新: 20150929\n",
            "Error during merging dataframes: cannot access local variable 'df1' where it is not associated with a value\n",
            "完成更新: 20150930\n",
            "完成更新: 20151001\n",
            "完成更新: 20151002\n",
            "完成更新: 20151005\n",
            "完成更新: 20151006\n",
            "完成更新: 20151007\n",
            "完成更新: 20151008\n",
            "完成更新: 20151012\n",
            "完成更新: 20151013\n",
            "完成更新: 20151014\n",
            "完成更新: 20151015\n",
            "完成更新: 20151016\n",
            "完成更新: 20151019\n",
            "完成更新: 20151020\n",
            "完成更新: 20151021\n",
            "完成更新: 20151022\n",
            "完成更新: 20151023\n",
            "完成更新: 20151026\n",
            "完成更新: 20151027\n",
            "完成更新: 20151028\n",
            "完成更新: 20151029\n",
            "完成更新: 20151030\n",
            "完成更新: 20151102\n",
            "完成更新: 20151103\n",
            "完成更新: 20151104\n",
            "完成更新: 20151105\n",
            "完成更新: 20151106\n",
            "完成更新: 20151109\n",
            "完成更新: 20151110\n",
            "完成更新: 20151111\n",
            "完成更新: 20151112\n",
            "完成更新: 20151113\n",
            "完成更新: 20151116\n",
            "完成更新: 20151117\n",
            "完成更新: 20151118\n",
            "完成更新: 20151119\n",
            "完成更新: 20151120\n",
            "完成更新: 20151123\n",
            "完成更新: 20151124\n",
            "完成更新: 20151125\n",
            "完成更新: 20151126\n",
            "完成更新: 20151127\n",
            "完成更新: 20151130\n",
            "完成更新: 20151201\n",
            "完成更新: 20151202\n",
            "完成更新: 20151203\n",
            "完成更新: 20151204\n"
          ]
        },
        {
          "output_type": "error",
          "ename": "KeyboardInterrupt",
          "evalue": "",
          "traceback": [
            "\u001b[0;31m---------------------------------------------------------------------------\u001b[0m",
            "\u001b[0;31mKeyboardInterrupt\u001b[0m                         Traceback (most recent call last)",
            "\u001b[0;32m<ipython-input-4-68316d723975>\u001b[0m in \u001b[0;36m<cell line: 0>\u001b[0;34m()\u001b[0m\n\u001b[1;32m      1\u001b[0m \u001b[0mstock_db\u001b[0m \u001b[0;34m=\u001b[0m \u001b[0mStockDB\u001b[0m\u001b[0;34m(\u001b[0m\u001b[0;34m)\u001b[0m\u001b[0;34m\u001b[0m\u001b[0;34m\u001b[0m\u001b[0m\n\u001b[0;32m----> 2\u001b[0;31m \u001b[0mstock_db\u001b[0m\u001b[0;34m.\u001b[0m\u001b[0mrenew\u001b[0m\u001b[0;34m(\u001b[0m\u001b[0;34m)\u001b[0m\u001b[0;34m\u001b[0m\u001b[0;34m\u001b[0m\u001b[0m\n\u001b[0m\u001b[1;32m      3\u001b[0m \u001b[0mstock_db\u001b[0m\u001b[0;34m.\u001b[0m\u001b[0mclose\u001b[0m\u001b[0;34m(\u001b[0m\u001b[0;34m)\u001b[0m\u001b[0;34m\u001b[0m\u001b[0;34m\u001b[0m\u001b[0m\n",
            "\u001b[0;32m/content/AI-stocks/Stock_DB.py\u001b[0m in \u001b[0;36mrenew\u001b[0;34m(self, if_renew_qu)\u001b[0m\n\u001b[1;32m     64\u001b[0m   \u001b[0;32mdef\u001b[0m \u001b[0mrenew\u001b[0m\u001b[0;34m(\u001b[0m\u001b[0mself\u001b[0m\u001b[0;34m,\u001b[0m \u001b[0mif_renew_qu\u001b[0m \u001b[0;34m=\u001b[0m \u001b[0;32mTrue\u001b[0m\u001b[0;34m)\u001b[0m\u001b[0;34m:\u001b[0m\u001b[0;34m\u001b[0m\u001b[0;34m\u001b[0m\u001b[0m\n\u001b[1;32m     65\u001b[0m     \u001b[0mself\u001b[0m\u001b[0;34m.\u001b[0m\u001b[0mrenew_company\u001b[0m\u001b[0;34m(\u001b[0m\u001b[0;34m)\u001b[0m \u001b[0;31m# 公司的基本資訊\u001b[0m\u001b[0;34m\u001b[0m\u001b[0;34m\u001b[0m\u001b[0m\n\u001b[0;32m---> 66\u001b[0;31m     \u001b[0mself\u001b[0m\u001b[0;34m.\u001b[0m\u001b[0mrenew_daily\u001b[0m\u001b[0;34m(\u001b[0m\u001b[0;34m)\u001b[0m \u001b[0;31m# 更新日頻的基本資訊\u001b[0m\u001b[0;34m\u001b[0m\u001b[0;34m\u001b[0m\u001b[0m\n\u001b[0m\u001b[1;32m     67\u001b[0m     \u001b[0;32mif\u001b[0m \u001b[0mif_renew_qu\u001b[0m \u001b[0;34m==\u001b[0m \u001b[0;32mTrue\u001b[0m\u001b[0;34m:\u001b[0m\u001b[0;34m\u001b[0m\u001b[0;34m\u001b[0m\u001b[0m\n\u001b[1;32m     68\u001b[0m       \u001b[0mself\u001b[0m\u001b[0;34m.\u001b[0m\u001b[0mrenew_quarterly_frequency_basic\u001b[0m\u001b[0;34m(\u001b[0m\u001b[0;34m)\u001b[0m \u001b[0;31m# 更新季頻的基本資訊\u001b[0m\u001b[0;34m\u001b[0m\u001b[0;34m\u001b[0m\u001b[0m\n",
            "\u001b[0;32m/content/AI-stocks/Stock_DB.py\u001b[0m in \u001b[0;36mrenew_daily\u001b[0;34m(self)\u001b[0m\n\u001b[1;32m    405\u001b[0m     \u001b[0;32mfor\u001b[0m \u001b[0mdate\u001b[0m \u001b[0;32min\u001b[0m \u001b[0mdate_list\u001b[0m\u001b[0;34m:\u001b[0m\u001b[0;34m\u001b[0m\u001b[0;34m\u001b[0m\u001b[0m\n\u001b[1;32m    406\u001b[0m       \u001b[0mprint\u001b[0m\u001b[0;34m(\u001b[0m\u001b[0;34m\"完成更新:\"\u001b[0m\u001b[0;34m,\u001b[0m \u001b[0mdate\u001b[0m\u001b[0;34m)\u001b[0m\u001b[0;34m\u001b[0m\u001b[0;34m\u001b[0m\u001b[0m\n\u001b[0;32m--> 407\u001b[0;31m       \u001b[0mdf\u001b[0m \u001b[0;34m=\u001b[0m \u001b[0mself\u001b[0m\u001b[0;34m.\u001b[0m\u001b[0mstock_advanced\u001b[0m\u001b[0;34m(\u001b[0m\u001b[0mdate\u001b[0m\u001b[0;34m)\u001b[0m\u001b[0;34m\u001b[0m\u001b[0;34m\u001b[0m\u001b[0m\n\u001b[0m\u001b[1;32m    408\u001b[0m       \u001b[0madvance_df\u001b[0m \u001b[0;34m=\u001b[0m \u001b[0mpd\u001b[0m\u001b[0;34m.\u001b[0m\u001b[0mconcat\u001b[0m\u001b[0;34m(\u001b[0m\u001b[0;34m[\u001b[0m\u001b[0madvance_df\u001b[0m\u001b[0;34m,\u001b[0m\u001b[0mdf\u001b[0m\u001b[0;34m]\u001b[0m\u001b[0;34m)\u001b[0m\u001b[0;34m\u001b[0m\u001b[0;34m\u001b[0m\u001b[0m\n\u001b[1;32m    409\u001b[0m \u001b[0;34m\u001b[0m\u001b[0m\n",
            "\u001b[0;32m/content/AI-stocks/Stock_DB.py\u001b[0m in \u001b[0;36mstock_advanced\u001b[0;34m(self, date)\u001b[0m\n\u001b[1;32m    359\u001b[0m           \u001b[0mdf3\u001b[0m \u001b[0;34m=\u001b[0m \u001b[0mdata\u001b[0m\u001b[0;34m.\u001b[0m\u001b[0miloc\u001b[0m\u001b[0;34m[\u001b[0m\u001b[0;34m:\u001b[0m\u001b[0;34m,\u001b[0m \u001b[0;34m[\u001b[0m\u001b[0;36m0\u001b[0m\u001b[0;34m,\u001b[0m \u001b[0;36m2\u001b[0m\u001b[0;34m,\u001b[0m \u001b[0;36m9\u001b[0m\u001b[0;34m]\u001b[0m\u001b[0;34m]\u001b[0m\u001b[0;34m\u001b[0m\u001b[0;34m\u001b[0m\u001b[0m\n\u001b[1;32m    360\u001b[0m           \u001b[0mdf3\u001b[0m\u001b[0;34m.\u001b[0m\u001b[0mcolumns\u001b[0m \u001b[0;34m=\u001b[0m \u001b[0;34m[\u001b[0m\u001b[0;34m'股號'\u001b[0m\u001b[0;34m,\u001b[0m \u001b[0;34m'融資買入'\u001b[0m\u001b[0;34m,\u001b[0m \u001b[0;34m'融卷賣出'\u001b[0m\u001b[0;34m]\u001b[0m\u001b[0;34m\u001b[0m\u001b[0;34m\u001b[0m\u001b[0m\n\u001b[0;32m--> 361\u001b[0;31m       \u001b[0mtime\u001b[0m\u001b[0;34m.\u001b[0m\u001b[0msleep\u001b[0m\u001b[0;34m(\u001b[0m\u001b[0;36m2\u001b[0m\u001b[0;34m)\u001b[0m\u001b[0;34m\u001b[0m\u001b[0;34m\u001b[0m\u001b[0m\n\u001b[0m\u001b[1;32m    362\u001b[0m \u001b[0;34m\u001b[0m\u001b[0m\n\u001b[1;32m    363\u001b[0m       \u001b[0;32mtry\u001b[0m\u001b[0;34m:\u001b[0m\u001b[0;34m\u001b[0m\u001b[0;34m\u001b[0m\u001b[0m\n",
            "\u001b[0;31mKeyboardInterrupt\u001b[0m: "
          ]
        }
      ],
      "source": [
        "stock_db = StockDB()\n",
        "stock_db.renew()\n",
        "stock_db.close()"
      ]
    },
    {
      "cell_type": "markdown",
      "metadata": {
        "id": "rMqMw_FW8Ies"
      },
      "source": [
        "###5️⃣ 檢視資料表格式"
      ]
    },
    {
      "cell_type": "code",
      "execution_count": 6,
      "metadata": {
        "colab": {
          "base_uri": "https://localhost:8080/",
          "height": 152
        },
        "id": "k7zqLuAB8IsA",
        "outputId": "b9412850-a317-4fe8-e796-d8848aa6755e"
      },
      "outputs": [
        {
          "output_type": "stream",
          "name": "stdout",
          "text": [
            "建立資料庫：/content/drive/MyDrive/StockGPT/stock.db\n"
          ]
        },
        {
          "output_type": "display_data",
          "data": {
            "text/plain": [
              "Empty DataFrame\n",
              "Columns: [股號, 股名, 產業別, 股本, 市值]\n",
              "Index: []"
            ],
            "text/html": [
              "\n",
              "  <div id=\"df-b28ec0da-ea0e-4182-b8fd-cf861db3e23d\" class=\"colab-df-container\">\n",
              "    <div>\n",
              "<style scoped>\n",
              "    .dataframe tbody tr th:only-of-type {\n",
              "        vertical-align: middle;\n",
              "    }\n",
              "\n",
              "    .dataframe tbody tr th {\n",
              "        vertical-align: top;\n",
              "    }\n",
              "\n",
              "    .dataframe thead th {\n",
              "        text-align: right;\n",
              "    }\n",
              "</style>\n",
              "<table border=\"1\" class=\"dataframe\">\n",
              "  <thead>\n",
              "    <tr style=\"text-align: right;\">\n",
              "      <th></th>\n",
              "      <th>股號</th>\n",
              "      <th>股名</th>\n",
              "      <th>產業別</th>\n",
              "      <th>股本</th>\n",
              "      <th>市值</th>\n",
              "    </tr>\n",
              "  </thead>\n",
              "  <tbody>\n",
              "  </tbody>\n",
              "</table>\n",
              "</div>\n",
              "    <div class=\"colab-df-buttons\">\n",
              "\n",
              "  <div class=\"colab-df-container\">\n",
              "    <button class=\"colab-df-convert\" onclick=\"convertToInteractive('df-b28ec0da-ea0e-4182-b8fd-cf861db3e23d')\"\n",
              "            title=\"Convert this dataframe to an interactive table.\"\n",
              "            style=\"display:none;\">\n",
              "\n",
              "  <svg xmlns=\"http://www.w3.org/2000/svg\" height=\"24px\" viewBox=\"0 -960 960 960\">\n",
              "    <path d=\"M120-120v-720h720v720H120Zm60-500h600v-160H180v160Zm220 220h160v-160H400v160Zm0 220h160v-160H400v160ZM180-400h160v-160H180v160Zm440 0h160v-160H620v160ZM180-180h160v-160H180v160Zm440 0h160v-160H620v160Z\"/>\n",
              "  </svg>\n",
              "    </button>\n",
              "\n",
              "  <style>\n",
              "    .colab-df-container {\n",
              "      display:flex;\n",
              "      gap: 12px;\n",
              "    }\n",
              "\n",
              "    .colab-df-convert {\n",
              "      background-color: #E8F0FE;\n",
              "      border: none;\n",
              "      border-radius: 50%;\n",
              "      cursor: pointer;\n",
              "      display: none;\n",
              "      fill: #1967D2;\n",
              "      height: 32px;\n",
              "      padding: 0 0 0 0;\n",
              "      width: 32px;\n",
              "    }\n",
              "\n",
              "    .colab-df-convert:hover {\n",
              "      background-color: #E2EBFA;\n",
              "      box-shadow: 0px 1px 2px rgba(60, 64, 67, 0.3), 0px 1px 3px 1px rgba(60, 64, 67, 0.15);\n",
              "      fill: #174EA6;\n",
              "    }\n",
              "\n",
              "    .colab-df-buttons div {\n",
              "      margin-bottom: 4px;\n",
              "    }\n",
              "\n",
              "    [theme=dark] .colab-df-convert {\n",
              "      background-color: #3B4455;\n",
              "      fill: #D2E3FC;\n",
              "    }\n",
              "\n",
              "    [theme=dark] .colab-df-convert:hover {\n",
              "      background-color: #434B5C;\n",
              "      box-shadow: 0px 1px 3px 1px rgba(0, 0, 0, 0.15);\n",
              "      filter: drop-shadow(0px 1px 2px rgba(0, 0, 0, 0.3));\n",
              "      fill: #FFFFFF;\n",
              "    }\n",
              "  </style>\n",
              "\n",
              "    <script>\n",
              "      const buttonEl =\n",
              "        document.querySelector('#df-b28ec0da-ea0e-4182-b8fd-cf861db3e23d button.colab-df-convert');\n",
              "      buttonEl.style.display =\n",
              "        google.colab.kernel.accessAllowed ? 'block' : 'none';\n",
              "\n",
              "      async function convertToInteractive(key) {\n",
              "        const element = document.querySelector('#df-b28ec0da-ea0e-4182-b8fd-cf861db3e23d');\n",
              "        const dataTable =\n",
              "          await google.colab.kernel.invokeFunction('convertToInteractive',\n",
              "                                                    [key], {});\n",
              "        if (!dataTable) return;\n",
              "\n",
              "        const docLinkHtml = 'Like what you see? Visit the ' +\n",
              "          '<a target=\"_blank\" href=https://colab.research.google.com/notebooks/data_table.ipynb>data table notebook</a>'\n",
              "          + ' to learn more about interactive tables.';\n",
              "        element.innerHTML = '';\n",
              "        dataTable['output_type'] = 'display_data';\n",
              "        await google.colab.output.renderOutput(dataTable, element);\n",
              "        const docLink = document.createElement('div');\n",
              "        docLink.innerHTML = docLinkHtml;\n",
              "        element.appendChild(docLink);\n",
              "      }\n",
              "    </script>\n",
              "  </div>\n",
              "\n",
              "\n",
              "    </div>\n",
              "  </div>\n"
            ],
            "application/vnd.google.colaboratory.intrinsic+json": {
              "type": "dataframe",
              "repr_error": "Out of range float values are not JSON compliant: nan"
            }
          },
          "metadata": {}
        },
        {
          "output_type": "display_data",
          "data": {
            "text/plain": [
              "Empty DataFrame\n",
              "Columns: [股號, 日期, 開盤價, 最高價, 最低價, 收盤價, 還原價, 成交量, 日報酬, 殖利率, 日本益比, 股價淨值比, 三大法人買賣超股數, 融資買入, 融卷賣出]\n",
              "Index: []"
            ],
            "text/html": [
              "\n",
              "  <div id=\"df-e6cf3b46-512a-4f9c-94cd-126b90aa59b8\" class=\"colab-df-container\">\n",
              "    <div>\n",
              "<style scoped>\n",
              "    .dataframe tbody tr th:only-of-type {\n",
              "        vertical-align: middle;\n",
              "    }\n",
              "\n",
              "    .dataframe tbody tr th {\n",
              "        vertical-align: top;\n",
              "    }\n",
              "\n",
              "    .dataframe thead th {\n",
              "        text-align: right;\n",
              "    }\n",
              "</style>\n",
              "<table border=\"1\" class=\"dataframe\">\n",
              "  <thead>\n",
              "    <tr style=\"text-align: right;\">\n",
              "      <th></th>\n",
              "      <th>股號</th>\n",
              "      <th>日期</th>\n",
              "      <th>開盤價</th>\n",
              "      <th>最高價</th>\n",
              "      <th>最低價</th>\n",
              "      <th>收盤價</th>\n",
              "      <th>還原價</th>\n",
              "      <th>成交量</th>\n",
              "      <th>日報酬</th>\n",
              "      <th>殖利率</th>\n",
              "      <th>日本益比</th>\n",
              "      <th>股價淨值比</th>\n",
              "      <th>三大法人買賣超股數</th>\n",
              "      <th>融資買入</th>\n",
              "      <th>融卷賣出</th>\n",
              "    </tr>\n",
              "  </thead>\n",
              "  <tbody>\n",
              "  </tbody>\n",
              "</table>\n",
              "</div>\n",
              "    <div class=\"colab-df-buttons\">\n",
              "\n",
              "  <div class=\"colab-df-container\">\n",
              "    <button class=\"colab-df-convert\" onclick=\"convertToInteractive('df-e6cf3b46-512a-4f9c-94cd-126b90aa59b8')\"\n",
              "            title=\"Convert this dataframe to an interactive table.\"\n",
              "            style=\"display:none;\">\n",
              "\n",
              "  <svg xmlns=\"http://www.w3.org/2000/svg\" height=\"24px\" viewBox=\"0 -960 960 960\">\n",
              "    <path d=\"M120-120v-720h720v720H120Zm60-500h600v-160H180v160Zm220 220h160v-160H400v160Zm0 220h160v-160H400v160ZM180-400h160v-160H180v160Zm440 0h160v-160H620v160ZM180-180h160v-160H180v160Zm440 0h160v-160H620v160Z\"/>\n",
              "  </svg>\n",
              "    </button>\n",
              "\n",
              "  <style>\n",
              "    .colab-df-container {\n",
              "      display:flex;\n",
              "      gap: 12px;\n",
              "    }\n",
              "\n",
              "    .colab-df-convert {\n",
              "      background-color: #E8F0FE;\n",
              "      border: none;\n",
              "      border-radius: 50%;\n",
              "      cursor: pointer;\n",
              "      display: none;\n",
              "      fill: #1967D2;\n",
              "      height: 32px;\n",
              "      padding: 0 0 0 0;\n",
              "      width: 32px;\n",
              "    }\n",
              "\n",
              "    .colab-df-convert:hover {\n",
              "      background-color: #E2EBFA;\n",
              "      box-shadow: 0px 1px 2px rgba(60, 64, 67, 0.3), 0px 1px 3px 1px rgba(60, 64, 67, 0.15);\n",
              "      fill: #174EA6;\n",
              "    }\n",
              "\n",
              "    .colab-df-buttons div {\n",
              "      margin-bottom: 4px;\n",
              "    }\n",
              "\n",
              "    [theme=dark] .colab-df-convert {\n",
              "      background-color: #3B4455;\n",
              "      fill: #D2E3FC;\n",
              "    }\n",
              "\n",
              "    [theme=dark] .colab-df-convert:hover {\n",
              "      background-color: #434B5C;\n",
              "      box-shadow: 0px 1px 3px 1px rgba(0, 0, 0, 0.15);\n",
              "      filter: drop-shadow(0px 1px 2px rgba(0, 0, 0, 0.3));\n",
              "      fill: #FFFFFF;\n",
              "    }\n",
              "  </style>\n",
              "\n",
              "    <script>\n",
              "      const buttonEl =\n",
              "        document.querySelector('#df-e6cf3b46-512a-4f9c-94cd-126b90aa59b8 button.colab-df-convert');\n",
              "      buttonEl.style.display =\n",
              "        google.colab.kernel.accessAllowed ? 'block' : 'none';\n",
              "\n",
              "      async function convertToInteractive(key) {\n",
              "        const element = document.querySelector('#df-e6cf3b46-512a-4f9c-94cd-126b90aa59b8');\n",
              "        const dataTable =\n",
              "          await google.colab.kernel.invokeFunction('convertToInteractive',\n",
              "                                                    [key], {});\n",
              "        if (!dataTable) return;\n",
              "\n",
              "        const docLinkHtml = 'Like what you see? Visit the ' +\n",
              "          '<a target=\"_blank\" href=https://colab.research.google.com/notebooks/data_table.ipynb>data table notebook</a>'\n",
              "          + ' to learn more about interactive tables.';\n",
              "        element.innerHTML = '';\n",
              "        dataTable['output_type'] = 'display_data';\n",
              "        await google.colab.output.renderOutput(dataTable, element);\n",
              "        const docLink = document.createElement('div');\n",
              "        docLink.innerHTML = docLinkHtml;\n",
              "        element.appendChild(docLink);\n",
              "      }\n",
              "    </script>\n",
              "  </div>\n",
              "\n",
              "\n",
              "    </div>\n",
              "  </div>\n"
            ],
            "application/vnd.google.colaboratory.intrinsic+json": {
              "type": "dataframe",
              "repr_error": "Out of range float values are not JSON compliant: nan"
            }
          },
          "metadata": {}
        },
        {
          "output_type": "display_data",
          "data": {
            "text/plain": [
              "Empty DataFrame\n",
              "Columns: [股號, 日期, 營業收入, 營業費用, 稅後淨利, 每股盈餘]\n",
              "Index: []"
            ],
            "text/html": [
              "\n",
              "  <div id=\"df-cd12f0af-50ce-4ec8-9a50-6a64d6d2aed8\" class=\"colab-df-container\">\n",
              "    <div>\n",
              "<style scoped>\n",
              "    .dataframe tbody tr th:only-of-type {\n",
              "        vertical-align: middle;\n",
              "    }\n",
              "\n",
              "    .dataframe tbody tr th {\n",
              "        vertical-align: top;\n",
              "    }\n",
              "\n",
              "    .dataframe thead th {\n",
              "        text-align: right;\n",
              "    }\n",
              "</style>\n",
              "<table border=\"1\" class=\"dataframe\">\n",
              "  <thead>\n",
              "    <tr style=\"text-align: right;\">\n",
              "      <th></th>\n",
              "      <th>股號</th>\n",
              "      <th>日期</th>\n",
              "      <th>營業收入</th>\n",
              "      <th>營業費用</th>\n",
              "      <th>稅後淨利</th>\n",
              "      <th>每股盈餘</th>\n",
              "    </tr>\n",
              "  </thead>\n",
              "  <tbody>\n",
              "  </tbody>\n",
              "</table>\n",
              "</div>\n",
              "    <div class=\"colab-df-buttons\">\n",
              "\n",
              "  <div class=\"colab-df-container\">\n",
              "    <button class=\"colab-df-convert\" onclick=\"convertToInteractive('df-cd12f0af-50ce-4ec8-9a50-6a64d6d2aed8')\"\n",
              "            title=\"Convert this dataframe to an interactive table.\"\n",
              "            style=\"display:none;\">\n",
              "\n",
              "  <svg xmlns=\"http://www.w3.org/2000/svg\" height=\"24px\" viewBox=\"0 -960 960 960\">\n",
              "    <path d=\"M120-120v-720h720v720H120Zm60-500h600v-160H180v160Zm220 220h160v-160H400v160Zm0 220h160v-160H400v160ZM180-400h160v-160H180v160Zm440 0h160v-160H620v160ZM180-180h160v-160H180v160Zm440 0h160v-160H620v160Z\"/>\n",
              "  </svg>\n",
              "    </button>\n",
              "\n",
              "  <style>\n",
              "    .colab-df-container {\n",
              "      display:flex;\n",
              "      gap: 12px;\n",
              "    }\n",
              "\n",
              "    .colab-df-convert {\n",
              "      background-color: #E8F0FE;\n",
              "      border: none;\n",
              "      border-radius: 50%;\n",
              "      cursor: pointer;\n",
              "      display: none;\n",
              "      fill: #1967D2;\n",
              "      height: 32px;\n",
              "      padding: 0 0 0 0;\n",
              "      width: 32px;\n",
              "    }\n",
              "\n",
              "    .colab-df-convert:hover {\n",
              "      background-color: #E2EBFA;\n",
              "      box-shadow: 0px 1px 2px rgba(60, 64, 67, 0.3), 0px 1px 3px 1px rgba(60, 64, 67, 0.15);\n",
              "      fill: #174EA6;\n",
              "    }\n",
              "\n",
              "    .colab-df-buttons div {\n",
              "      margin-bottom: 4px;\n",
              "    }\n",
              "\n",
              "    [theme=dark] .colab-df-convert {\n",
              "      background-color: #3B4455;\n",
              "      fill: #D2E3FC;\n",
              "    }\n",
              "\n",
              "    [theme=dark] .colab-df-convert:hover {\n",
              "      background-color: #434B5C;\n",
              "      box-shadow: 0px 1px 3px 1px rgba(0, 0, 0, 0.15);\n",
              "      filter: drop-shadow(0px 1px 2px rgba(0, 0, 0, 0.3));\n",
              "      fill: #FFFFFF;\n",
              "    }\n",
              "  </style>\n",
              "\n",
              "    <script>\n",
              "      const buttonEl =\n",
              "        document.querySelector('#df-cd12f0af-50ce-4ec8-9a50-6a64d6d2aed8 button.colab-df-convert');\n",
              "      buttonEl.style.display =\n",
              "        google.colab.kernel.accessAllowed ? 'block' : 'none';\n",
              "\n",
              "      async function convertToInteractive(key) {\n",
              "        const element = document.querySelector('#df-cd12f0af-50ce-4ec8-9a50-6a64d6d2aed8');\n",
              "        const dataTable =\n",
              "          await google.colab.kernel.invokeFunction('convertToInteractive',\n",
              "                                                    [key], {});\n",
              "        if (!dataTable) return;\n",
              "\n",
              "        const docLinkHtml = 'Like what you see? Visit the ' +\n",
              "          '<a target=\"_blank\" href=https://colab.research.google.com/notebooks/data_table.ipynb>data table notebook</a>'\n",
              "          + ' to learn more about interactive tables.';\n",
              "        element.innerHTML = '';\n",
              "        dataTable['output_type'] = 'display_data';\n",
              "        await google.colab.output.renderOutput(dataTable, element);\n",
              "        const docLink = document.createElement('div');\n",
              "        docLink.innerHTML = docLinkHtml;\n",
              "        element.appendChild(docLink);\n",
              "      }\n",
              "    </script>\n",
              "  </div>\n",
              "\n",
              "\n",
              "    </div>\n",
              "  </div>\n"
            ],
            "application/vnd.google.colaboratory.intrinsic+json": {
              "type": "dataframe",
              "repr_error": "Out of range float values are not JSON compliant: nan"
            }
          },
          "metadata": {}
        }
      ],
      "source": [
        "# 從資料庫中取得表格\n",
        "stock_db = StockDB()\n",
        "df_company = stock_db.get(\"公司\")\n",
        "df_daily = stock_db.get(\"日頻\",psdate=True)\n",
        "df_quarterly = stock_db.get(\"季頻\",psdate=True)\n",
        "\n",
        "# 去除空值\n",
        "df_company = df_company.dropna()\n",
        "df_daily = df_daily.dropna()\n",
        "df_quarterly = df_quarterly.dropna()\n",
        "\n",
        "# 檢視資料\n",
        "display(df_company.head())\n",
        "display(df_daily.head())\n",
        "display(df_quarterly.head())"
      ]
    },
    {
      "cell_type": "markdown",
      "metadata": {
        "id": "rwGTl75BLNwu"
      },
      "source": [
        "###6️⃣ 輸入 OpenAI API KEY & 建立物件"
      ]
    },
    {
      "cell_type": "code",
      "execution_count": 7,
      "metadata": {
        "colab": {
          "base_uri": "https://localhost:8080/"
        },
        "id": "ziQJGYEH8PKu",
        "outputId": "f7b0fcf1-3853-4106-f6b8-8f0911f214fc"
      },
      "outputs": [
        {
          "output_type": "stream",
          "name": "stderr",
          "text": [
            "/content/AI-stocks/gemini_langchain.py:40: LangChainDeprecationWarning: The class `LLMChain` was deprecated in LangChain 0.1.17 and will be removed in 1.0. Use :meth:`~RunnableSequence, e.g., `prompt | llm`` instead.\n",
            "  self.data_chain = LLMChain(llm=self.llm, prompt=self.data_prompt)\n"
          ]
        }
      ],
      "source": [
        "from google.colab import userdata\n",
        "openai_api_key = userdata.get('GEMINI_API_KEY')\n",
        "\n",
        "six = StockAnalysis(openai_api_key)\n",
        "seven = PdfLoader(openai_api_key)"
      ]
    },
    {
      "cell_type": "markdown",
      "metadata": {
        "id": "ebiRubdMv_AZ"
      },
      "source": [
        "### 7️⃣ AI 自動化選股機器人\n",
        "\n",
        "<輸入範例>\n",
        "```\n",
        "請選出近一週漲幅最高的10檔股票\n",
        "請選出大市值股(前10%)且近期營收成長最高的10檔股票\n",
        "請選出半導體業且近期每股盈餘成長率最高的10檔股票\n",
        "請選出近一年股價淨值比最低的10檔股票\n",
        "請從近一個月成交量前10%的股票中找出日本益比最低的5檔不同的股票\n",
        "```\n"
      ]
    },
    {
      "cell_type": "code",
      "execution_count": null,
      "metadata": {
        "colab": {
          "base_uri": "https://localhost:8080/",
          "height": 926
        },
        "id": "M4BhX9-uuFE1",
        "outputId": "25c41c3c-c0e5-4714-ac7f-65353263e661"
      },
      "outputs": [
        {
          "name": "stdout",
          "output_type": "stream",
          "text": [
            "請輸入選股需求:請從近一個月成交量前10%的股票中找出日本益比最低的5檔不同的股票\n",
            "\n",
            "import pandas as pd\n",
            "\n",
            "def calculate(table_company, table_daily, table_quarterly):\n",
            "    table_daily['日本益比'] = pd.to_numeric(table_daily['日本益比'], errors='coerce')\n",
            "    table_daily['成交量'] = pd.to_numeric(table_daily['成交量'], errors='coerce')\n",
            "    recent_month_volume = table_daily['日期'].max() - pd.DateOffset(months=1)\n",
            "    top_10_percent_volume = table_daily[table_daily['日期'] > recent_month_volume].nlargest(int(len(table_daily) * 0.1), '成交量')\n",
            "    top_10_percent_volume = top_10_percent_volume.groupby('股號').last().reset_index()\n",
            "    top_5_low_pe_stocks = top_10_percent_volume.nsmallest(5, '日本益比')\n",
            "\n",
            "    return top_5_low_pe_stocks[['股號', '股名', '日本益比']].drop_duplicates()\n",
            "\n",
            "AI 除錯中...\n",
            "import pandas as pd\n",
            "\n",
            "def calculate(table_company, table_daily, table_quarterly):\n",
            "    table_daily['日本益比'] = pd.to_numeric(table_daily['日本益比'], errors='coerce')\n",
            "    table_daily['成交量'] = pd.to_numeric(table_daily['成交量'], errors='coerce')\n",
            "    recent_month_volume = table_daily['日期'].max() - pd.DateOffset(months=1)\n",
            "    top_10_percent_volume = table_daily[table_daily['日期'] > recent_month_volume].nlargest(int(len(table_daily) * 0.1), '成交量')\n",
            "    top_10_percent_volume = top_10_percent_volume.groupby('股號').last().reset_index()\n",
            "    top_5_low_pe_stocks = top_10_percent_volume.nsmallest(5, '日本益比')\n",
            "\n",
            "    return top_5_low_pe_stocks[['股號', '日本益比']].drop_duplicates()\n",
            "-------------------------\n",
            "import pandas as pd\n",
            "\n",
            "def calculate(table_company, table_daily, table_quarterly):\n",
            "    table_daily['日本益比'] = pd.to_numeric(table_daily['日本益比'], errors='coerce')\n",
            "    table_daily['成交量'] = pd.to_numeric(table_daily['成交量'], errors='coerce')\n",
            "    recent_month_volume = table_daily['日期'].max() - pd.DateOffset(months=1)\n",
            "    top_10_percent_volume = table_daily[table_daily['日期'] > recent_month_volume].nlargest(int(len(table_daily) * 0.1), '成交量')\n",
            "    top_10_percent_volume = top_10_percent_volume.groupby('股號').last().reset_index()\n",
            "    top_5_low_pe_stocks = top_10_percent_volume.nsmallest(5, '日本益比')\n",
            "\n",
            "    return top_5_low_pe_stocks[['股號', '日本益比']].drop_duplicates()\n"
          ]
        },
        {
          "data": {
            "text/html": [
              "\n",
              "  <div id=\"df-c7a90fbe-4cd5-4f09-8576-9a5fb5e80225\" class=\"colab-df-container\">\n",
              "    <div>\n",
              "<style scoped>\n",
              "    .dataframe tbody tr th:only-of-type {\n",
              "        vertical-align: middle;\n",
              "    }\n",
              "\n",
              "    .dataframe tbody tr th {\n",
              "        vertical-align: top;\n",
              "    }\n",
              "\n",
              "    .dataframe thead th {\n",
              "        text-align: right;\n",
              "    }\n",
              "</style>\n",
              "<table border=\"1\" class=\"dataframe\">\n",
              "  <thead>\n",
              "    <tr style=\"text-align: right;\">\n",
              "      <th></th>\n",
              "      <th>股號</th>\n",
              "      <th>日本益比</th>\n",
              "    </tr>\n",
              "  </thead>\n",
              "  <tbody>\n",
              "    <tr>\n",
              "      <th>421</th>\n",
              "      <td>2603</td>\n",
              "      <td>1.59</td>\n",
              "    </tr>\n",
              "    <tr>\n",
              "      <th>13</th>\n",
              "      <td>1218</td>\n",
              "      <td>1.93</td>\n",
              "    </tr>\n",
              "    <tr>\n",
              "      <th>426</th>\n",
              "      <td>2609</td>\n",
              "      <td>2.17</td>\n",
              "    </tr>\n",
              "    <tr>\n",
              "      <th>351</th>\n",
              "      <td>2443</td>\n",
              "      <td>2.33</td>\n",
              "    </tr>\n",
              "    <tr>\n",
              "      <th>215</th>\n",
              "      <td>2025</td>\n",
              "      <td>2.65</td>\n",
              "    </tr>\n",
              "  </tbody>\n",
              "</table>\n",
              "</div>\n",
              "    <div class=\"colab-df-buttons\">\n",
              "\n",
              "  <div class=\"colab-df-container\">\n",
              "    <button class=\"colab-df-convert\" onclick=\"convertToInteractive('df-c7a90fbe-4cd5-4f09-8576-9a5fb5e80225')\"\n",
              "            title=\"Convert this dataframe to an interactive table.\"\n",
              "            style=\"display:none;\">\n",
              "\n",
              "  <svg xmlns=\"http://www.w3.org/2000/svg\" height=\"24px\" viewBox=\"0 -960 960 960\">\n",
              "    <path d=\"M120-120v-720h720v720H120Zm60-500h600v-160H180v160Zm220 220h160v-160H400v160Zm0 220h160v-160H400v160ZM180-400h160v-160H180v160Zm440 0h160v-160H620v160ZM180-180h160v-160H180v160Zm440 0h160v-160H620v160Z\"/>\n",
              "  </svg>\n",
              "    </button>\n",
              "\n",
              "  <style>\n",
              "    .colab-df-container {\n",
              "      display:flex;\n",
              "      gap: 12px;\n",
              "    }\n",
              "\n",
              "    .colab-df-convert {\n",
              "      background-color: #E8F0FE;\n",
              "      border: none;\n",
              "      border-radius: 50%;\n",
              "      cursor: pointer;\n",
              "      display: none;\n",
              "      fill: #1967D2;\n",
              "      height: 32px;\n",
              "      padding: 0 0 0 0;\n",
              "      width: 32px;\n",
              "    }\n",
              "\n",
              "    .colab-df-convert:hover {\n",
              "      background-color: #E2EBFA;\n",
              "      box-shadow: 0px 1px 2px rgba(60, 64, 67, 0.3), 0px 1px 3px 1px rgba(60, 64, 67, 0.15);\n",
              "      fill: #174EA6;\n",
              "    }\n",
              "\n",
              "    .colab-df-buttons div {\n",
              "      margin-bottom: 4px;\n",
              "    }\n",
              "\n",
              "    [theme=dark] .colab-df-convert {\n",
              "      background-color: #3B4455;\n",
              "      fill: #D2E3FC;\n",
              "    }\n",
              "\n",
              "    [theme=dark] .colab-df-convert:hover {\n",
              "      background-color: #434B5C;\n",
              "      box-shadow: 0px 1px 3px 1px rgba(0, 0, 0, 0.15);\n",
              "      filter: drop-shadow(0px 1px 2px rgba(0, 0, 0, 0.3));\n",
              "      fill: #FFFFFF;\n",
              "    }\n",
              "  </style>\n",
              "\n",
              "    <script>\n",
              "      const buttonEl =\n",
              "        document.querySelector('#df-c7a90fbe-4cd5-4f09-8576-9a5fb5e80225 button.colab-df-convert');\n",
              "      buttonEl.style.display =\n",
              "        google.colab.kernel.accessAllowed ? 'block' : 'none';\n",
              "\n",
              "      async function convertToInteractive(key) {\n",
              "        const element = document.querySelector('#df-c7a90fbe-4cd5-4f09-8576-9a5fb5e80225');\n",
              "        const dataTable =\n",
              "          await google.colab.kernel.invokeFunction('convertToInteractive',\n",
              "                                                    [key], {});\n",
              "        if (!dataTable) return;\n",
              "\n",
              "        const docLinkHtml = 'Like what you see? Visit the ' +\n",
              "          '<a target=\"_blank\" href=https://colab.research.google.com/notebooks/data_table.ipynb>data table notebook</a>'\n",
              "          + ' to learn more about interactive tables.';\n",
              "        element.innerHTML = '';\n",
              "        dataTable['output_type'] = 'display_data';\n",
              "        await google.colab.output.renderOutput(dataTable, element);\n",
              "        const docLink = document.createElement('div');\n",
              "        docLink.innerHTML = docLinkHtml;\n",
              "        element.appendChild(docLink);\n",
              "      }\n",
              "    </script>\n",
              "  </div>\n",
              "\n",
              "\n",
              "<div id=\"df-c8313ebc-2283-4427-85e3-22f425288c94\">\n",
              "  <button class=\"colab-df-quickchart\" onclick=\"quickchart('df-c8313ebc-2283-4427-85e3-22f425288c94')\"\n",
              "            title=\"Suggest charts\"\n",
              "            style=\"display:none;\">\n",
              "\n",
              "<svg xmlns=\"http://www.w3.org/2000/svg\" height=\"24px\"viewBox=\"0 0 24 24\"\n",
              "     width=\"24px\">\n",
              "    <g>\n",
              "        <path d=\"M19 3H5c-1.1 0-2 .9-2 2v14c0 1.1.9 2 2 2h14c1.1 0 2-.9 2-2V5c0-1.1-.9-2-2-2zM9 17H7v-7h2v7zm4 0h-2V7h2v10zm4 0h-2v-4h2v4z\"/>\n",
              "    </g>\n",
              "</svg>\n",
              "  </button>\n",
              "\n",
              "<style>\n",
              "  .colab-df-quickchart {\n",
              "      --bg-color: #E8F0FE;\n",
              "      --fill-color: #1967D2;\n",
              "      --hover-bg-color: #E2EBFA;\n",
              "      --hover-fill-color: #174EA6;\n",
              "      --disabled-fill-color: #AAA;\n",
              "      --disabled-bg-color: #DDD;\n",
              "  }\n",
              "\n",
              "  [theme=dark] .colab-df-quickchart {\n",
              "      --bg-color: #3B4455;\n",
              "      --fill-color: #D2E3FC;\n",
              "      --hover-bg-color: #434B5C;\n",
              "      --hover-fill-color: #FFFFFF;\n",
              "      --disabled-bg-color: #3B4455;\n",
              "      --disabled-fill-color: #666;\n",
              "  }\n",
              "\n",
              "  .colab-df-quickchart {\n",
              "    background-color: var(--bg-color);\n",
              "    border: none;\n",
              "    border-radius: 50%;\n",
              "    cursor: pointer;\n",
              "    display: none;\n",
              "    fill: var(--fill-color);\n",
              "    height: 32px;\n",
              "    padding: 0;\n",
              "    width: 32px;\n",
              "  }\n",
              "\n",
              "  .colab-df-quickchart:hover {\n",
              "    background-color: var(--hover-bg-color);\n",
              "    box-shadow: 0 1px 2px rgba(60, 64, 67, 0.3), 0 1px 3px 1px rgba(60, 64, 67, 0.15);\n",
              "    fill: var(--button-hover-fill-color);\n",
              "  }\n",
              "\n",
              "  .colab-df-quickchart-complete:disabled,\n",
              "  .colab-df-quickchart-complete:disabled:hover {\n",
              "    background-color: var(--disabled-bg-color);\n",
              "    fill: var(--disabled-fill-color);\n",
              "    box-shadow: none;\n",
              "  }\n",
              "\n",
              "  .colab-df-spinner {\n",
              "    border: 2px solid var(--fill-color);\n",
              "    border-color: transparent;\n",
              "    border-bottom-color: var(--fill-color);\n",
              "    animation:\n",
              "      spin 1s steps(1) infinite;\n",
              "  }\n",
              "\n",
              "  @keyframes spin {\n",
              "    0% {\n",
              "      border-color: transparent;\n",
              "      border-bottom-color: var(--fill-color);\n",
              "      border-left-color: var(--fill-color);\n",
              "    }\n",
              "    20% {\n",
              "      border-color: transparent;\n",
              "      border-left-color: var(--fill-color);\n",
              "      border-top-color: var(--fill-color);\n",
              "    }\n",
              "    30% {\n",
              "      border-color: transparent;\n",
              "      border-left-color: var(--fill-color);\n",
              "      border-top-color: var(--fill-color);\n",
              "      border-right-color: var(--fill-color);\n",
              "    }\n",
              "    40% {\n",
              "      border-color: transparent;\n",
              "      border-right-color: var(--fill-color);\n",
              "      border-top-color: var(--fill-color);\n",
              "    }\n",
              "    60% {\n",
              "      border-color: transparent;\n",
              "      border-right-color: var(--fill-color);\n",
              "    }\n",
              "    80% {\n",
              "      border-color: transparent;\n",
              "      border-right-color: var(--fill-color);\n",
              "      border-bottom-color: var(--fill-color);\n",
              "    }\n",
              "    90% {\n",
              "      border-color: transparent;\n",
              "      border-bottom-color: var(--fill-color);\n",
              "    }\n",
              "  }\n",
              "</style>\n",
              "\n",
              "  <script>\n",
              "    async function quickchart(key) {\n",
              "      const quickchartButtonEl =\n",
              "        document.querySelector('#' + key + ' button');\n",
              "      quickchartButtonEl.disabled = true;  // To prevent multiple clicks.\n",
              "      quickchartButtonEl.classList.add('colab-df-spinner');\n",
              "      try {\n",
              "        const charts = await google.colab.kernel.invokeFunction(\n",
              "            'suggestCharts', [key], {});\n",
              "      } catch (error) {\n",
              "        console.error('Error during call to suggestCharts:', error);\n",
              "      }\n",
              "      quickchartButtonEl.classList.remove('colab-df-spinner');\n",
              "      quickchartButtonEl.classList.add('colab-df-quickchart-complete');\n",
              "    }\n",
              "    (() => {\n",
              "      let quickchartButtonEl =\n",
              "        document.querySelector('#df-c8313ebc-2283-4427-85e3-22f425288c94 button');\n",
              "      quickchartButtonEl.style.display =\n",
              "        google.colab.kernel.accessAllowed ? 'block' : 'none';\n",
              "    })();\n",
              "  </script>\n",
              "</div>\n",
              "    </div>\n",
              "  </div>\n"
            ],
            "text/plain": [
              "       股號  日本益比\n",
              "421  2603  1.59\n",
              "13   1218  1.93\n",
              "426  2609  2.17\n",
              "351  2443  2.33\n",
              "215  2025  2.65"
            ]
          },
          "metadata": {},
          "output_type": "display_data"
        }
      ],
      "source": [
        "# 輸入使用者需求\n",
        "user_msg = input(\"請輸入選股需求:\")\n",
        "\n",
        "# 自動處理 3 個資料表並生成程式碼\n",
        "history, code_str = six.ai_helper(user_msg)\n",
        "\n",
        "# AI 自動選股 & 除錯\n",
        "success = False\n",
        "for _ in range(3):\n",
        "    try:\n",
        "        # 新建 df 表格\n",
        "        df1 = df_company\n",
        "        df2 = df_daily\n",
        "        df3 = df_quarterly\n",
        "\n",
        "        print(code_str)\n",
        "        exec(code_str)\n",
        "        new_df = calculate(df1, df2, df3)\n",
        "        success = True\n",
        "        break\n",
        "    except Exception as e:\n",
        "        print(f\"AI 除錯中...\")\n",
        "        code_str = six.ai_debug(history, code_str, str(e))\n",
        "        print(code_str)\n",
        "        print(\"-------------------------\")\n",
        "\n",
        "if not success:\n",
        "    print(\"請更換或重新輸入選股需求\")\n",
        "else:\n",
        "    display(new_df)"
      ]
    },
    {
      "cell_type": "markdown",
      "metadata": {
        "id": "a42M4mg1qNQ5"
      },
      "source": [
        "## 8-2 AI 趨勢報告推薦系統"
      ]
    },
    {
      "cell_type": "markdown",
      "metadata": {
        "id": "T59rbTgDwoAZ"
      },
      "source": [
        "### 8️⃣ 取得個股分析報告"
      ]
    },
    {
      "cell_type": "code",
      "execution_count": null,
      "metadata": {
        "colab": {
          "base_uri": "https://localhost:8080/"
        },
        "id": "MXV-VIEOkYF6",
        "outputId": "0104a6f9-7866-4c9e-bd06-e2fb76290619"
      },
      "outputs": [
        {
          "name": "stdout",
          "output_type": "stream",
          "text": [
            "\r[*********************100%%**********************]  1 of 1 completed\n",
            "台積電（2330-TW）近期的趨勢報告如下：\n",
            "\n",
            "1. 股價漲幅分析：\n",
            "根據提供的近期價格資訊，台積電的股價在2023年10月30日至11月13日之間有所波動。從收盤價的變化來看，股價從532.0元上升至573.0元，漲幅約為7.72%。每日報酬方面，股價的波動幅度較小，整體呈現穩定的趨勢。\n",
            "\n",
            "2. 基本面分析：\n",
            "根據提供的每季營收資訊，台積電在2023年第三季度的營收成長率為1136.03%，顯示公司業績有顯著的增長。然而，需要注意的是，前三個季度的營收成長率分別為-0.05%、-0.19%和0.02%，顯示公司在前兩個季度的業績表現較為疲弱。此外，EPS（每股盈餘）在最近四個季度中呈現波動，但整體趨勢仍然穩定。\n",
            "\n",
            "3. 新聞資訊分析：\n",
            "根據提供的近期新聞資訊，台積電的股價受到了一些影響。例如，有報導指出台積電的五大客戶追單，其中包括蘋果、超威、博通等重量級客戶，這可能對台積電的業績產生積極影響。此外，還有一些其他股票的漲跌速報，但這些報導對台積電的整體趨勢影響有限。\n",
            "\n",
            "綜合以上分析，台積電的股價在近期呈現穩定的上升趨勢，並且公司的基本面表現也相對穩定。然而，需要注意的是，公司在前兩個季度的營收成長率較低，可能需要密切關注業績的發展。此外，公司與重要客戶的合作關係對業績也具有重要影響，需要關注相關新聞資訊的變化。\n",
            "\n",
            "以上報告僅供參考，投資者在做出任何投資決策前應進一步進行自己的研究和分析。\n"
          ]
        }
      ],
      "source": [
        "reply = six.stock_gpt(stock_id=\"2330\")\n",
        "print(reply)"
      ]
    },
    {
      "cell_type": "markdown",
      "metadata": {
        "id": "pC1gzHDLiqhT"
      },
      "source": [
        "### 9️⃣ 收集多檔股票的趨勢報告\n",
        "10 檔股票約會跑 5 分鐘, 若跑太久為 API 當掉"
      ]
    },
    {
      "cell_type": "code",
      "execution_count": null,
      "metadata": {
        "colab": {
          "base_uri": "https://localhost:8080/"
        },
        "id": "VdSmGArMx6ia",
        "outputId": "216d3da7-027c-412b-d882-f6691d03dc41"
      },
      "outputs": [
        {
          "name": "stdout",
          "output_type": "stream",
          "text": [
            "2364 檔案已存在\n",
            "2535 檔案已存在\n",
            "3041 檔案已存在\n",
            "[*********************100%%**********************]  1 of 1 completed\n",
            "[*********************100%%**********************]  1 of 1 completed\n",
            "[*********************100%%**********************]  1 of 1 completed\n",
            "[*********************100%%**********************]  1 of 1 completed\n",
            "[*********************100%%**********************]  1 of 1 completed\n",
            "[*********************100%%**********************]  1 of 1 completed\n",
            "[*********************100%%**********************]  1 of 1 completed\n"
          ]
        }
      ],
      "source": [
        "# 建立股票清單\n",
        "stock_list = ['2364', '2535', '3041', '5215', '2363',\n",
        "              '1568', '2369', '2816', '9955', '2233']\n",
        "\n",
        "# 設定儲存路徑\n",
        "today_time = dt.date.today().strftime(\"%Y%m%d\")\n",
        "path = '/content/drive/MyDrive/StockGPT/TrendReport/'\n",
        "os.makedirs(path, exist_ok=True)\n",
        "\n",
        "# 建立多檔股票的趨勢報告並儲存\n",
        "content = {}\n",
        "\n",
        "for stock in stock_list:\n",
        "  file_path = f\"{path}trend_{stock}_{today_time}.txt\"\n",
        "\n",
        "  if os.path.exists(file_path):\n",
        "    print(f\"{stock} 檔案已存在\")\n",
        "  else:\n",
        "    with open(file_path, \"w\", encoding=\"utf-8\") as f:\n",
        "      f.write(six.stock_gpt(stock_id=stock))\n",
        "\n",
        "  with open(file_path, \"r\", encoding=\"utf-8\") as f:\n",
        "      content[stock] = f.read()\n"
      ]
    },
    {
      "cell_type": "markdown",
      "metadata": {
        "id": "h9Aj6vrrYxci"
      },
      "source": [
        "### 🔟 推薦出一檔股票"
      ]
    },
    {
      "cell_type": "code",
      "execution_count": null,
      "metadata": {
        "colab": {
          "base_uri": "https://localhost:8080/"
        },
        "id": "n2STlwryzwdW",
        "outputId": "9cbbbf84-329d-4ffd-9733-eb5d4b7f7166"
      },
      "outputs": [
        {
          "name": "stdout",
          "output_type": "stream",
          "text": [
            "根據提供的資料，我對以上股票的趨勢進行了分析。在這些股票中，我認為科嘉-KY（代號5215-TW）是一檔值得投資的股票。\n",
            "\n",
            "首先，科嘉-KY的股價在近期呈現波動，但整體呈現上升趨勢。雖然股價波動較大，但公司在市場上仍被認為是值得持續關注的強勢股之一。\n",
            "\n",
            "其次，從基本面來看，科嘉-KY在2023年6月30日的營收成長率為46%，顯示公司營收呈現正向增長。儘管在此之前的兩個季度營收成長率呈現下降趨勢，但整體來說，公司的營收表現穩定。\n",
            "\n",
            "最後，根據新聞資訊，科嘉-KY在市場上被認為是「疾風下的勁草」，並且被列為值得持續關注的強勢股之一。這表明市場對於公司的潛在價值持有樂觀態度。\n",
            "\n",
            "綜合以上分析，我認為科嘉-KY是一檔值得投資的股票。公司的營收表現穩定，並且在市場上受到肯定。投資者應該密切關注公司的營收和盈利表現，並謹慎評估投資風險。希望這份分析對您有所幫助。\n"
          ]
        }
      ],
      "source": [
        "def stock_choice(data):\n",
        "    # 設定提示模板\n",
        "    msg = [{\n",
        "        \"role\": \"system\",\n",
        "        \"content\":\n",
        "        \"你現在是一位專業的證券分析師, 你會針對各股的專業趨勢分析報告, \\n\\\n",
        "         選擇出最適合投資的一檔股票,並說明選擇它的理由。\"\n",
        "    }, {\n",
        "        \"role\": \"user\",\n",
        "        \"content\": str(data)\n",
        "    }]\n",
        "\n",
        "    reply_data = six.get_reply(msg)\n",
        "    return reply_data\n",
        "\n",
        "print(stock_choice(content))"
      ]
    },
    {
      "cell_type": "markdown",
      "metadata": {
        "id": "0jqJLS9TSqyU"
      },
      "source": [
        "### 1️⃣1️⃣ 推薦股票的評分排序"
      ]
    },
    {
      "cell_type": "code",
      "execution_count": null,
      "metadata": {
        "colab": {
          "base_uri": "https://localhost:8080/"
        },
        "id": "v8Kpk7J_YY1q",
        "outputId": "54fc381d-e79b-4057-f15e-2fdc124f1397"
      },
      "outputs": [
        {
          "name": "stdout",
          "output_type": "stream",
          "text": [
            "根據提供的資料，我將對各股票的趨勢進行分析並給予評分。\n",
            "\n",
            "1. 2364 (倫飛): 股價波動較大，營收成長率為6%，但EPS季增率波動較大，且受市場環境和產業消息影響。評分: 45\n",
            "\n",
            "2. 2535 (未提供資料): 無法提供評分。\n",
            "\n",
            "3. 3041 (未提供資料): 無法提供評分。\n",
            "\n",
            "4. 5215 (科嘉-KY): 股價波動較大，營收成長率在不同季度呈現波動，且市場上被認為是值得持續關注的強勢股之一。評分: 55\n",
            "\n",
            "5. 2363 (矽統): 股價呈現明顯的下跌趨勢，營收成長率有一定程度的增長，但EPS季增率波動較大，且受外資賣超情況影響。評分: 40\n",
            "\n",
            "6. 1568 (倉佑): 股價呈現下跌趨勢，營收成長率輕微增長，但EPS季增率呈現波動，且受多方面因素影響。評分: 42\n",
            "\n",
            "7. 2369 (菱生): 股價呈現下跌趨勢，營收成長率有所增長，但EPS呈現下滑趨勢，且受市場情緒影響。評分: 45\n",
            "\n",
            "8. 2816 (旺旺保): 股價波動較大，營收成長率輕微增長，但EPS季增率呈現下降，且受多項因素影響。評分: 48\n",
            "\n",
            "9. 9955 (佳龍公司): 股價呈現下跌趨勢，營收成長不穩定，且EPS波動較大，受多項因素影響。評分: 40\n",
            "\n",
            "10. 2233 (宇隆): 股價波動較大，營收有一定程度的增長，且受營運週轉資金需求和產業投資價值影響。評分: 50\n",
            "\n",
            "根據以上分析，我將這些股票依照評分排序如下：\n",
            "1. 2816 (旺旺保) - 48\n",
            "2. 2364 (倫飛) - 45\n",
            "3. 2369 (菱生) - 45\n",
            "4. 2233 (宇隆) - 50\n",
            "5. 5215 (科嘉-KY) - 55\n",
            "6. 1568 (倉佑) - 42\n",
            "7. 2363 (矽統) - 40\n",
            "8. 9955 (佳龍公司) - 40\n"
          ]
        }
      ],
      "source": [
        "def stock_sort(data):\n",
        "    # 設定提示模板\n",
        "    msg = [{\n",
        "        \"role\": \"system\",\n",
        "        \"content\":\n",
        "        \"你現在是一位專業的股票分析師, 會根據各股的專業趨勢分析報告去評斷\\\n",
        "         適不適合投資, 並給予0-100之間的評分。\\n\\\n",
        "         以 50 分為基準, 有任何正面消息可以加分如:\\n\\\n",
        "         股價整體上升、法人買超、營收成長上升、新聞有正面消息；\\n\\\n",
        "         若有任何負面消息必須扣分如:\\n\\\n",
        "         股價整體下降、法人賣超、營收成長下降、新聞有負面消息。\\n\\\n",
        "         最後請將所有股票依照評分排序出來。\"\n",
        "    }, {\n",
        "        \"role\": \"user\",\n",
        "        \"content\": str(data)\n",
        "    }]\n",
        "    reply_data = six.get_reply(msg)\n",
        "    return reply_data\n",
        "\n",
        "print(stock_sort(content))"
      ]
    },
    {
      "cell_type": "markdown",
      "metadata": {
        "id": "JyhMRREM78Y5"
      },
      "source": [
        "## 8-3 AI 年報分析推薦系統"
      ]
    },
    {
      "cell_type": "markdown",
      "metadata": {
        "id": "MkoAWO2GjnlT"
      },
      "source": [
        "### 1️⃣2️⃣ 取得多檔股票的年報檔案"
      ]
    },
    {
      "cell_type": "code",
      "execution_count": null,
      "metadata": {
        "id": "xCESGymy3Cq7"
      },
      "outputs": [],
      "source": [
        "# 建立股票清單\n",
        "stock_list = ['2364', '2535', '3041', '5215', '2363',\n",
        "              '1568', '2369', '2816', '9955', '2233']\n",
        "\n",
        "# 取得並儲存年報資料\n",
        "for stock in stock_list:\n",
        "  if not os.path.exists(f'/content/drive/MyDrive/StockGPT/PDF/113_{stock}.pdf'):\n",
        "    try:\n",
        "        seven.annual_report(stock,'113')\n",
        "    except:\n",
        "        time.sleep(10)\n",
        "        while True:\n",
        "            try:\n",
        "                seven.annual_report(stock,'113')\n",
        "                break\n",
        "            except:\n",
        "                time.sleep(10*2)"
      ]
    },
    {
      "cell_type": "markdown",
      "metadata": {
        "id": "BP5FkDxALp4e"
      },
      "source": [
        "### 1️⃣3️⃣ 建立向量資料庫\n",
        "10 檔股票約需 20 分鐘"
      ]
    },
    {
      "cell_type": "code",
      "execution_count": null,
      "metadata": {
        "id": "ORuDNVa6FBVF"
      },
      "outputs": [],
      "source": [
        "db_list=[]\n",
        "for i in stock_list:\n",
        "    if not os.path.exists(\n",
        "        f'/content/drive/MyDrive/StockGPT/DB/113_{i}'):\n",
        "        print('start',i)\n",
        "        db_list.append(\n",
        "            seven.pdf_loader(\n",
        "                f'/content/drive/MyDrive/StockGPT/PDF/113_{i}.pdf',\n",
        "                600, 60))"
      ]
    },
    {
      "cell_type": "markdown",
      "metadata": {
        "id": "VP2kpv8Q_SUH"
      },
      "source": [
        "### 1️⃣4️⃣ 讀取向量資料庫"
      ]
    },
    {
      "cell_type": "code",
      "execution_count": null,
      "metadata": {
        "id": "5zTl8dQ038bC"
      },
      "outputs": [],
      "source": [
        "from langchain.embeddings import OpenAIEmbeddings\n",
        "from langchain.vectorstores import FAISS\n",
        "\n",
        "db_list=[]\n",
        "for i in stock_list:\n",
        "    db_list.append(\n",
        "        FAISS.load_local(\n",
        "          folder_path=f'/content/drive/MyDrive/StockGPT/DB/113_{i}',\n",
        "          embeddings=OpenAIEmbeddings()\n",
        "          ))"
      ]
    },
    {
      "cell_type": "markdown",
      "metadata": {
        "id": "91HhzWPNYLf_"
      },
      "source": [
        "### 1️⃣5️⃣ 建立問題串列關鍵字"
      ]
    },
    {
      "cell_type": "code",
      "execution_count": null,
      "metadata": {
        "id": "I9TRgUPnVZLb"
      },
      "outputs": [],
      "source": [
        "key_word = ['公司的財務健全度為何？',\n",
        "            '營運策略和市場定位是什麼？',\n",
        "            '面對哪些主要風險和挑戰？',\n",
        "            '公司在研發和創新方面有哪些成就和計劃？',\n",
        "            '公司治理結構和管理層的組成是？']"
      ]
    },
    {
      "cell_type": "markdown",
      "metadata": {
        "id": "ykxyKmwMYW7X"
      },
      "source": [
        "### 1️⃣6️⃣ 取得相關資料 & 建立分析機器人"
      ]
    },
    {
      "cell_type": "code",
      "execution_count": null,
      "metadata": {
        "id": "tcy0halI4mZs"
      },
      "outputs": [],
      "source": [
        "# 建立從向量資料庫取得相關資訊函式\n",
        "def generate_data(db, key_word):\n",
        "    results = []\n",
        "    for word in key_word:\n",
        "        results.append(seven.analyze_chain(db, word))\n",
        "    return results\n",
        "\n",
        "# 建立年報分析機器人\n",
        "def stock_report_summary(data):\n",
        "\n",
        "    msg = [{\n",
        "        \"role\": \"system\",\n",
        "        \"content\": \"你現在是一位專業的年報分析師,\\n\\\n",
        "                    你會針對年報報告彙整出一份專業的分析報告。\\n\\\n",
        "                    請以詳細、嚴謹及專業的角度撰寫此報告,並提及重要的數字\\\n",
        "                    ,reply in 繁體中文\"\n",
        "    }, {\n",
        "        \"role\": \"user\",\n",
        "        \"content\": str(data)\n",
        "    }]\n",
        "\n",
        "    reply_data = six.get_reply(msg)\n",
        "\n",
        "    return reply_data"
      ]
    },
    {
      "cell_type": "markdown",
      "metadata": {
        "id": "W3DFggGZY1X4"
      },
      "source": [
        "### 1️⃣7️⃣ 多檔股票的年報分析報告\n",
        "10 檔股票約需執行 40 分鐘"
      ]
    },
    {
      "cell_type": "code",
      "execution_count": null,
      "metadata": {
        "colab": {
          "base_uri": "https://localhost:8080/"
        },
        "id": "bjU8jHmKWIte",
        "outputId": "116379f4-fd79-4a1c-ad66-7a7306e8a295"
      },
      "outputs": [
        {
          "name": "stderr",
          "output_type": "stream",
          "text": [
            "\r  0%|          | 0/10 [00:00<?, ?it/s]"
          ]
        },
        {
          "name": "stdout",
          "output_type": "stream",
          "text": [
            "2364 檔案已存在\n"
          ]
        },
        {
          "name": "stderr",
          "output_type": "stream",
          "text": [
            "\r 10%|█         | 1/10 [00:00<00:04,  2.07it/s]"
          ]
        },
        {
          "name": "stdout",
          "output_type": "stream",
          "text": [
            "2535 檔案已存在\n"
          ]
        },
        {
          "name": "stderr",
          "output_type": "stream",
          "text": [
            "\r 20%|██        | 2/10 [00:00<00:03,  2.56it/s]"
          ]
        },
        {
          "name": "stdout",
          "output_type": "stream",
          "text": [
            "3041 檔案已存在\n"
          ]
        },
        {
          "name": "stderr",
          "output_type": "stream",
          "text": [
            "\r 30%|███       | 3/10 [00:01<00:02,  2.66it/s]"
          ]
        },
        {
          "name": "stdout",
          "output_type": "stream",
          "text": [
            "5215 檔案已存在\n"
          ]
        },
        {
          "name": "stderr",
          "output_type": "stream",
          "text": [
            "\r 40%|████      | 4/10 [00:01<00:02,  2.67it/s]"
          ]
        },
        {
          "name": "stdout",
          "output_type": "stream",
          "text": [
            "2363 檔案已存在\n"
          ]
        },
        {
          "name": "stderr",
          "output_type": "stream",
          "text": [
            "\r 50%|█████     | 5/10 [00:01<00:01,  2.75it/s]"
          ]
        },
        {
          "name": "stdout",
          "output_type": "stream",
          "text": [
            "1568 檔案已存在\n"
          ]
        },
        {
          "name": "stderr",
          "output_type": "stream",
          "text": [
            "\r 60%|██████    | 6/10 [00:02<00:01,  2.85it/s]"
          ]
        },
        {
          "name": "stdout",
          "output_type": "stream",
          "text": [
            "2369 檔案已存在\n"
          ]
        },
        {
          "name": "stderr",
          "output_type": "stream",
          "text": [
            "\r 70%|███████   | 7/10 [00:02<00:01,  2.79it/s]"
          ]
        },
        {
          "name": "stdout",
          "output_type": "stream",
          "text": [
            "2816 檔案已存在\n"
          ]
        },
        {
          "name": "stderr",
          "output_type": "stream",
          "text": [
            "\r 80%|████████  | 8/10 [00:02<00:00,  2.68it/s]"
          ]
        },
        {
          "name": "stdout",
          "output_type": "stream",
          "text": [
            "9955 檔案已存在\n"
          ]
        },
        {
          "name": "stderr",
          "output_type": "stream",
          "text": [
            "\r 90%|█████████ | 9/10 [00:03<00:00,  2.46it/s]"
          ]
        },
        {
          "name": "stdout",
          "output_type": "stream",
          "text": [
            "2233 檔案已存在\n"
          ]
        },
        {
          "name": "stderr",
          "output_type": "stream",
          "text": [
            "100%|██████████| 10/10 [00:03<00:00,  2.60it/s]\n"
          ]
        }
      ],
      "source": [
        "# 年報分析檔案的儲存路徑\n",
        "path = \"/content/drive/MyDrive/StockGPT/AnnualReport/\"\n",
        "os.makedirs(path, exist_ok=True)\n",
        "\n",
        "\n",
        "# 建立多檔股票的年報分析報告並儲存\n",
        "content = {}\n",
        "\n",
        "for stock in tqdm(stock_list, total=len(stock_list)):\n",
        "  file_path = f\"{path}annual_{stock}_113.txt\"\n",
        "\n",
        "  if os.path.exists(file_path):\n",
        "    print(f\"{stock} 檔案已存在\")\n",
        "  else:\n",
        "\n",
        "      db = db_list[stock_list.index(stock)]\n",
        "      report = stock_report_summary(generate_data(db, key_word))\n",
        "\n",
        "      with open(file_path, \"w\", encoding=\"utf-8\") as f:\n",
        "        f.write(report)\n",
        "\n",
        "  # 取得股名\n",
        "  name = six.stock_info.get_stock_name(stock, six.name_df)\n",
        "\n",
        "  with open(file_path, \"r\", encoding=\"utf-8\") as f:\n",
        "      content[f\"{name}({stock})\"] = f.read()"
      ]
    },
    {
      "cell_type": "markdown",
      "metadata": {
        "id": "nMrgmyCsZDkQ"
      },
      "source": [
        "### 1️⃣8️⃣ 根據分析結果推薦出一檔股票"
      ]
    },
    {
      "cell_type": "code",
      "execution_count": null,
      "metadata": {
        "colab": {
          "base_uri": "https://localhost:8080/"
        },
        "id": "GFHQt-3uV1M9",
        "outputId": "4f577fe6-a2d5-4445-ce12-d15aa61c9516"
      },
      "outputs": [
        {
          "name": "stdout",
          "output_type": "stream",
          "text": [
            "根據所提供的年報分析報告，我會選擇倫飛(2364)作為最適合投資的一檔股票。以下是我選擇它的理由：\n",
            "\n",
            "1. 財務比率表現良好：根據年報的分析，倫飛公司在財務比率方面表現良好，包括利息保障倍數、資產報酬率、權益報酬率、純益率等指標均呈現上升趨勢。這顯示公司有良好的獲利能力和資產運用效率。\n",
            "\n",
            "2. 公司努力和措施：倫飛公司積極強化董事會職能、加強公司治理，並重視產品創新和研發，以提高競爭力和市場佔有率。這些努力有助於提高公司的透明度、獲利能力和競爭力。\n",
            "\n",
            "3. 現金流量允許比率上升：根據年報的分析，倫飛公司的現金流量允許比率上升，顯示公司有足夠的現金流量來應對短期債務，這有助於確保公司的財務穩健性。\n",
            "\n",
            "綜合以上分析，倫飛公司在財務表現、公司治理和市場競爭力方面均表現良好，並且有積極的發展策略和措施。因此，我認為倫飛(2364)是一檔值得投資的股票。\n"
          ]
        }
      ],
      "source": [
        "print(stock_choice(content))"
      ]
    },
    {
      "cell_type": "markdown",
      "metadata": {
        "id": "WiGoyIWHavZy"
      },
      "source": [
        "### 1️⃣9️⃣ 年報分析報告評分排序"
      ]
    },
    {
      "cell_type": "code",
      "execution_count": null,
      "metadata": {
        "id": "25yhBtuUHv1z"
      },
      "outputs": [],
      "source": [
        "def stock_report_sort(data):\n",
        "    # 設定提示模板\n",
        "    msg = [{\n",
        "        \"role\": \"system\",\n",
        "        \"content\":\n",
        "        \"你現在是一位專業的股票分析師, 會根據各股的年報分析報告去評斷\\\n",
        "         適不適合投資, 並給予0-100之間的評分。\\n\\\n",
        "         以 50 分為基準, 有任何正面消息可以加分如:\\n\\\n",
        "         財務呈現穩定增長的趨勢, 具有競爭優勢；\\n\\\n",
        "         若有任何負面消息必須扣分如:\\n\\\n",
        "         財務呈現下降的趨勢, 不具有競爭優勢。\\n\\\n",
        "         最後請將10檔股票依照評分排序出來。\"\n",
        "    }, {\n",
        "        \"role\": \"user\",\n",
        "        \"content\": str(data)\n",
        "    }]\n",
        "    reply_data = six.get_reply(msg)\n",
        "    return reply_data\n",
        "\n",
        "print(stock_report_sort(content))"
      ]
    }
  ],
  "metadata": {
    "colab": {
      "provenance": [],
      "gpuType": "T4"
    },
    "kernelspec": {
      "display_name": "Python 3",
      "name": "python3"
    },
    "language_info": {
      "name": "python"
    },
    "accelerator": "GPU"
  },
  "nbformat": 4,
  "nbformat_minor": 0
}